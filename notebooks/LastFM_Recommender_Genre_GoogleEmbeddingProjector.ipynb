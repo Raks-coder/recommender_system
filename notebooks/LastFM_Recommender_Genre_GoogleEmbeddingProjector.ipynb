{
 "cells": [
  {
   "cell_type": "code",
   "execution_count": 1,
   "metadata": {
    "collapsed": true
   },
   "outputs": [],
   "source": [
    "import tensorflow as tf\n",
    "from tensorflow.contrib.tensorboard.plugins import projector\n",
    "\n",
    "import pandas as pd\n",
    "import numpy as np\n",
    "import matplotlib.pyplot as plt\n",
    "import seaborn as sns\n",
    "import os\n",
    "\n",
    "from sklearn.feature_extraction.text import TfidfVectorizer #, CountVectorizer\n",
    "from sklearn.decomposition import NMF #, LatentDirichletAllocation, TruncatedSVD\n",
    "from sklearn.cluster import KMeans\n",
    "from sklearn.metrics import silhouette_score\n",
    "from sklearn.manifold import TSNE"
   ]
  },
  {
   "cell_type": "code",
   "execution_count": 2,
   "metadata": {},
   "outputs": [],
   "source": [
    "LOG_DIR = '/Volumes/BC_Clutch/Dropbox/recommender_system/data'\n",
    "NAME_TO_VISUALISE_VARIABLE = \"genre_embedding\"\n",
    "TO_EMBED_COUNT = 505\n",
    "\n",
    "\n",
    "# path_for_mnist_sprites =  os.path.join(LOG_DIR,'mnistdigits.png')\n",
    "path_for_metadata =  os.path.join(LOG_DIR,'metadata.tsv')\n",
    "path_for_vectors =  os.path.join(LOG_DIR,'vectors.tsv')"
   ]
  },
  {
   "cell_type": "code",
   "execution_count": 3,
   "metadata": {},
   "outputs": [
    {
     "data": {
      "text/html": [
       "<div>\n",
       "<style scoped>\n",
       "    .dataframe tbody tr th:only-of-type {\n",
       "        vertical-align: middle;\n",
       "    }\n",
       "\n",
       "    .dataframe tbody tr th {\n",
       "        vertical-align: top;\n",
       "    }\n",
       "\n",
       "    .dataframe thead th {\n",
       "        text-align: right;\n",
       "    }\n",
       "</style>\n",
       "<table border=\"1\" class=\"dataframe\">\n",
       "  <thead>\n",
       "    <tr style=\"text-align: right;\">\n",
       "      <th></th>\n",
       "      <th>name</th>\n",
       "      <th>tags</th>\n",
       "    </tr>\n",
       "    <tr>\n",
       "      <th>idx</th>\n",
       "      <th></th>\n",
       "      <th></th>\n",
       "    </tr>\n",
       "  </thead>\n",
       "  <tbody>\n",
       "    <tr>\n",
       "      <th>0</th>\n",
       "      <td>3 Doors Down</td>\n",
       "      <td>00s, 2008, 90s, acoustic, acoustic rock, alter...</td>\n",
       "    </tr>\n",
       "    <tr>\n",
       "      <th>1</th>\n",
       "      <td>30 Seconds to Mars</td>\n",
       "      <td>00s, &lt;3, acoustic, addictive, alternative, alt...</td>\n",
       "    </tr>\n",
       "    <tr>\n",
       "      <th>2</th>\n",
       "      <td>3OH!3</td>\n",
       "      <td>00s, 10s, 2007, 2008, 2009, 2010, &lt;3, addictiv...</td>\n",
       "    </tr>\n",
       "    <tr>\n",
       "      <th>3</th>\n",
       "      <td>50 Cent</td>\n",
       "      <td>00s, american, awesome, catchy, club, dance, g...</td>\n",
       "    </tr>\n",
       "    <tr>\n",
       "      <th>4</th>\n",
       "      <td>A Day to Remember</td>\n",
       "      <td>&lt;3, acoustic, alternative, american, christian...</td>\n",
       "    </tr>\n",
       "  </tbody>\n",
       "</table>\n",
       "</div>"
      ],
      "text/plain": [
       "                   name                                               tags\n",
       "idx                                                                       \n",
       "0          3 Doors Down  00s, 2008, 90s, acoustic, acoustic rock, alter...\n",
       "1    30 Seconds to Mars  00s, <3, acoustic, addictive, alternative, alt...\n",
       "2                 3OH!3  00s, 10s, 2007, 2008, 2009, 2010, <3, addictiv...\n",
       "3               50 Cent  00s, american, awesome, catchy, club, dance, g...\n",
       "4     A Day to Remember  <3, acoustic, alternative, american, christian..."
      ]
     },
     "execution_count": 3,
     "metadata": {},
     "output_type": "execute_result"
    }
   ],
   "source": [
    "tag_data = pd.read_csv('../data/recsys_tags2.csv')\n",
    "tag_data = tag_data.set_index(['idx'])\n",
    "tag_data['tags'] = tag_data['tags'].apply(lambda x: ', '.join(x.split('|')))\n",
    "tag_data.head()"
   ]
  },
  {
   "cell_type": "code",
   "execution_count": 4,
   "metadata": {
    "collapsed": true
   },
   "outputs": [],
   "source": [
    "data = tag_data.tags\n",
    "n_topics = 6\n",
    "seed = 42"
   ]
  },
  {
   "cell_type": "code",
   "execution_count": 5,
   "metadata": {
    "collapsed": true
   },
   "outputs": [],
   "source": [
    "tfidf = TfidfVectorizer(max_df=0.6)\n",
    "X = tfidf.fit_transform(data)\n",
    "nmf = NMF(n_components=n_topics, random_state=seed, alpha=.1, l1_ratio=.5, init='nndsvd')\n",
    "X_reduced = nmf.fit_transform(X)"
   ]
  },
  {
   "cell_type": "code",
   "execution_count": 6,
   "metadata": {
    "collapsed": true
   },
   "outputs": [],
   "source": [
    "kmeans = KMeans(n_clusters=n_topics, init=\"k-means++\", random_state=seed)\n",
    "kmf = kmeans.fit(X_reduced)\n",
    "labels = kmf.labels_"
   ]
  },
  {
   "cell_type": "code",
   "execution_count": 7,
   "metadata": {
    "collapsed": true
   },
   "outputs": [],
   "source": [
    "tsne = TSNE(n_components=2, init='pca',perplexity=40, n_iter=500, random_state=seed)\n",
    "tsne = tsne.fit_transform(X_reduced)\n",
    "df_tsne = pd.DataFrame(tsne, columns=[\"tsne_x\", \"tsne_y\"])\n",
    "df_tsne[\"Cluster\"] = labels\n",
    "df_tsne[\"Artist\"] = [a for a in tag_data.name]"
   ]
  },
  {
   "cell_type": "code",
   "execution_count": 8,
   "metadata": {},
   "outputs": [
    {
     "name": "stdout",
     "output_type": "stream",
     "text": [
      "(505, 6) (505, 1)\n"
     ]
    }
   ],
   "source": [
    "# Formatted to load into Google Embedding Projector\n",
    "# https://projector.tensorflow.org/\n",
    "vectors = pd.DataFrame(X_reduced)\n",
    "meta = pd.DataFrame(df_tsne['Artist'])\n",
    "print(vectors.shape, meta.shape)\n",
    "meta.to_csv('../data/recsys_tags_tab_meta.tsv',sep='\\t',index=False,header=False)\n",
    "vectors.to_csv('../data/recsys_tags_tab_vectors.tsv',sep='\\t',index=False,header=False)"
   ]
  },
  {
   "cell_type": "code",
   "execution_count": 9,
   "metadata": {},
   "outputs": [],
   "source": [
    "embedding_var = tf.Variable(vectors,name=NAME_TO_VISUALISE_VARIABLE)"
   ]
  },
  {
   "cell_type": "code",
   "execution_count": 11,
   "metadata": {},
   "outputs": [],
   "source": [
    "config = projector.ProjectorConfig()\n",
    "embedding = config.embeddings.add()\n",
    "embedding.tensor_name = embedding_var.name\n",
    "\n",
    "# Specify where you find the metadata\n",
    "embedding.metadata_path = path_for_metadata #'metadata.tsv'"
   ]
  },
  {
   "cell_type": "code",
   "execution_count": 12,
   "metadata": {},
   "outputs": [
    {
     "data": {
      "text/plain": [
       "'/Volumes/BC_Clutch/Dropbox/recommender_system/data/model.ckpt-1'"
      ]
     },
     "execution_count": 12,
     "metadata": {},
     "output_type": "execute_result"
    }
   ],
   "source": [
    "sess = tf.InteractiveSession()\n",
    "sess.run(tf.global_variables_initializer())\n",
    "saver = tf.train.Saver()\n",
    "saver.save(sess, os.path.join(LOG_DIR, \"model.ckpt\"), 1)"
   ]
  },
  {
   "cell_type": "code",
   "execution_count": 13,
   "metadata": {
    "collapsed": true
   },
   "outputs": [],
   "source": [
    "summary_writer = tf.summary.FileWriter(LOG_DIR,sess.graph)"
   ]
  },
  {
   "cell_type": "code",
   "execution_count": 14,
   "metadata": {
    "collapsed": true
   },
   "outputs": [],
   "source": [
    "# Say that you want to visualise the embeddings\n",
    "projector.visualize_embeddings(summary_writer, config)"
   ]
  },
  {
   "cell_type": "code",
   "execution_count": 15,
   "metadata": {},
   "outputs": [
    {
     "data": {
      "text/plain": [
       "'/Volumes/BC_Clutch/Dropbox/recommender_system/data'"
      ]
     },
     "execution_count": 15,
     "metadata": {},
     "output_type": "execute_result"
    }
   ],
   "source": [
    "LOG_DIR"
   ]
  },
  {
   "cell_type": "code",
   "execution_count": 18,
   "metadata": {},
   "outputs": [
    {
     "name": "stdout",
     "output_type": "stream",
     "text": [
      "Process is terminated.\n"
     ]
    }
   ],
   "source": [
    "%%sh\n",
    "tensorboard --logdir=/Volumes/BC_Clutch/Dropbox/recommender_system/data"
   ]
  },
  {
   "cell_type": "code",
   "execution_count": null,
   "metadata": {
    "collapsed": true
   },
   "outputs": [],
   "source": []
  }
 ],
 "metadata": {
  "kernelspec": {
   "display_name": "Python 3",
   "language": "python",
   "name": "python3"
  },
  "language_info": {
   "codemirror_mode": {
    "name": "ipython",
    "version": 3
   },
   "file_extension": ".py",
   "mimetype": "text/x-python",
   "name": "python",
   "nbconvert_exporter": "python",
   "pygments_lexer": "ipython3",
   "version": "3.6.6"
  }
 },
 "nbformat": 4,
 "nbformat_minor": 2
}
