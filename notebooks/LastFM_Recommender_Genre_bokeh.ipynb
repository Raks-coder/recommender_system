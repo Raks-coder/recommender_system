{
 "cells": [
  {
   "cell_type": "markdown",
   "metadata": {},
   "source": [
    "# LastFM Recommender Genre Topic Modeling: bokeh\n",
    "July [X], 2018"
   ]
  },
  {
   "cell_type": "code",
   "execution_count": 1,
   "metadata": {},
   "outputs": [
    {
     "data": {
      "text/plain": [
       "'/Users/brianmcmahon/anaconda3/envs/recommender/bin/python'"
      ]
     },
     "execution_count": 1,
     "metadata": {},
     "output_type": "execute_result"
    }
   ],
   "source": [
    "import sys\n",
    "sys.executable"
   ]
  },
  {
   "cell_type": "code",
   "execution_count": 2,
   "metadata": {
    "collapsed": true
   },
   "outputs": [],
   "source": [
    "import pandas as pd\n",
    "import numpy as np\n",
    "import matplotlib.pyplot as plt\n",
    "import seaborn as sns\n",
    "import math\n",
    "from os import path, getcwd\n",
    "\n",
    "from sklearn.feature_extraction.text import TfidfVectorizer, CountVectorizer\n",
    "from sklearn.decomposition import NMF, LatentDirichletAllocation, TruncatedSVD\n",
    "from sklearn.cluster import KMeans\n",
    "from sklearn.metrics import silhouette_score\n",
    "from sklearn.manifold import TSNE\n",
    "\n",
    "from wordcloud import WordCloud, ImageColorGenerator, STOPWORDS\n",
    "\n",
    "from PIL import Image\n",
    "\n",
    "import gensim\n",
    "from gensim import matutils, models\n",
    "\n",
    "import pyLDAvis\n",
    "import pyLDAvis.sklearn\n",
    "pyLDAvis.enable_notebook()\n",
    "\n",
    "CWD = '/Volumes/BC_Clutch/Dropbox/recommender_system/'"
   ]
  },
  {
   "cell_type": "code",
   "execution_count": 3,
   "metadata": {
    "collapsed": true
   },
   "outputs": [],
   "source": [
    "# sets output to three decimals\n",
    "pd.set_option('display.float_format',lambda x: '%.3f' %x)"
   ]
  },
  {
   "cell_type": "code",
   "execution_count": 4,
   "metadata": {},
   "outputs": [
    {
     "data": {
      "text/html": [
       "<div>\n",
       "<style scoped>\n",
       "    .dataframe tbody tr th:only-of-type {\n",
       "        vertical-align: middle;\n",
       "    }\n",
       "\n",
       "    .dataframe tbody tr th {\n",
       "        vertical-align: top;\n",
       "    }\n",
       "\n",
       "    .dataframe thead th {\n",
       "        text-align: right;\n",
       "    }\n",
       "</style>\n",
       "<table border=\"1\" class=\"dataframe\">\n",
       "  <thead>\n",
       "    <tr style=\"text-align: right;\">\n",
       "      <th></th>\n",
       "      <th>name</th>\n",
       "      <th>tags</th>\n",
       "    </tr>\n",
       "    <tr>\n",
       "      <th>idx</th>\n",
       "      <th></th>\n",
       "      <th></th>\n",
       "    </tr>\n",
       "  </thead>\n",
       "  <tbody>\n",
       "    <tr>\n",
       "      <th>0</th>\n",
       "      <td>3 Doors Down</td>\n",
       "      <td>00s, 2008, 90s, acoustic, acoustic rock, alter...</td>\n",
       "    </tr>\n",
       "    <tr>\n",
       "      <th>1</th>\n",
       "      <td>30 Seconds to Mars</td>\n",
       "      <td>00s, &lt;3, acoustic, addictive, alternative, alt...</td>\n",
       "    </tr>\n",
       "    <tr>\n",
       "      <th>2</th>\n",
       "      <td>3OH!3</td>\n",
       "      <td>00s, 10s, 2007, 2008, 2009, 2010, &lt;3, addictiv...</td>\n",
       "    </tr>\n",
       "    <tr>\n",
       "      <th>3</th>\n",
       "      <td>50 Cent</td>\n",
       "      <td>00s, american, awesome, catchy, club, dance, g...</td>\n",
       "    </tr>\n",
       "    <tr>\n",
       "      <th>4</th>\n",
       "      <td>A Day to Remember</td>\n",
       "      <td>&lt;3, acoustic, alternative, american, christian...</td>\n",
       "    </tr>\n",
       "  </tbody>\n",
       "</table>\n",
       "</div>"
      ],
      "text/plain": [
       "                   name                                               tags\n",
       "idx                                                                       \n",
       "0          3 Doors Down  00s, 2008, 90s, acoustic, acoustic rock, alter...\n",
       "1    30 Seconds to Mars  00s, <3, acoustic, addictive, alternative, alt...\n",
       "2                 3OH!3  00s, 10s, 2007, 2008, 2009, 2010, <3, addictiv...\n",
       "3               50 Cent  00s, american, awesome, catchy, club, dance, g...\n",
       "4     A Day to Remember  <3, acoustic, alternative, american, christian..."
      ]
     },
     "execution_count": 4,
     "metadata": {},
     "output_type": "execute_result"
    }
   ],
   "source": [
    "tag_data = pd.read_csv('../data/recsys_tags2.csv')\n",
    "tag_data = tag_data.set_index(['idx'])\n",
    "tag_data['tags'] = tag_data['tags'].apply(lambda x: ', '.join(x.split('|')))\n",
    "tag_data.head()"
   ]
  },
  {
   "cell_type": "code",
   "execution_count": 5,
   "metadata": {},
   "outputs": [
    {
     "data": {
      "text/plain": [
       "'00s, 2008, 90s, acoustic, acoustic rock, alternative, alternative rock, american, awesome, cute, grunge, guilty pleasure, hard rock, love, male vocalists, melancholic, other great tracks, pop, pop rock, post-grunge, prejebeno, punk, rock, romantic, soft rock, soundtrack'"
      ]
     },
     "execution_count": 5,
     "metadata": {},
     "output_type": "execute_result"
    }
   ],
   "source": [
    "tag_data.tags[0]"
   ]
  },
  {
   "cell_type": "code",
   "execution_count": 6,
   "metadata": {},
   "outputs": [
    {
     "data": {
      "text/plain": [
       "(505, 2)"
      ]
     },
     "execution_count": 6,
     "metadata": {},
     "output_type": "execute_result"
    }
   ],
   "source": [
    "tag_data.shape"
   ]
  },
  {
   "cell_type": "markdown",
   "metadata": {},
   "source": [
    "### Assumptions"
   ]
  },
  {
   "cell_type": "code",
   "execution_count": 7,
   "metadata": {
    "collapsed": true
   },
   "outputs": [],
   "source": [
    "data = tag_data.tags\n",
    "n_topics = 6\n",
    "seed = 42\n",
    "ngram_range = (1,3)\n",
    "ncols = 2\n",
    "\n",
    "sw = set(STOPWORDS)\n",
    "\n",
    "adds = ['rock','pop','hardcore','vocalist','male','female']\n",
    "for word in adds:\n",
    "    sw.add(word)\n"
   ]
  },
  {
   "cell_type": "code",
   "execution_count": null,
   "metadata": {
    "collapsed": true
   },
   "outputs": [],
   "source": []
  },
  {
   "cell_type": "code",
   "execution_count": 14,
   "metadata": {},
   "outputs": [
    {
     "data": {
      "text/html": [
       "\n",
       "    <div class=\"bk-root\">\n",
       "        <a href=\"https://bokeh.pydata.org\" target=\"_blank\" class=\"bk-logo bk-logo-small bk-logo-notebook\"></a>\n",
       "        <span id=\"bbb552c2-b09c-4d8e-95a8-9bb2bec64b57\">Loading BokehJS ...</span>\n",
       "    </div>"
      ]
     },
     "metadata": {},
     "output_type": "display_data"
    },
    {
     "data": {
      "application/javascript": [
       "\n",
       "(function(root) {\n",
       "  function now() {\n",
       "    return new Date();\n",
       "  }\n",
       "\n",
       "  var force = true;\n",
       "\n",
       "  if (typeof (root._bokeh_onload_callbacks) === \"undefined\" || force === true) {\n",
       "    root._bokeh_onload_callbacks = [];\n",
       "    root._bokeh_is_loading = undefined;\n",
       "  }\n",
       "\n",
       "  var JS_MIME_TYPE = 'application/javascript';\n",
       "  var HTML_MIME_TYPE = 'text/html';\n",
       "  var EXEC_MIME_TYPE = 'application/vnd.bokehjs_exec.v0+json';\n",
       "  var CLASS_NAME = 'output_bokeh rendered_html';\n",
       "\n",
       "  /**\n",
       "   * Render data to the DOM node\n",
       "   */\n",
       "  function render(props, node) {\n",
       "    var script = document.createElement(\"script\");\n",
       "    node.appendChild(script);\n",
       "  }\n",
       "\n",
       "  /**\n",
       "   * Handle when an output is cleared or removed\n",
       "   */\n",
       "  function handleClearOutput(event, handle) {\n",
       "    var cell = handle.cell;\n",
       "\n",
       "    var id = cell.output_area._bokeh_element_id;\n",
       "    var server_id = cell.output_area._bokeh_server_id;\n",
       "    // Clean up Bokeh references\n",
       "    if (id != null && id in Bokeh.index) {\n",
       "      Bokeh.index[id].model.document.clear();\n",
       "      delete Bokeh.index[id];\n",
       "    }\n",
       "\n",
       "    if (server_id !== undefined) {\n",
       "      // Clean up Bokeh references\n",
       "      var cmd = \"from bokeh.io.state import curstate; print(curstate().uuid_to_server['\" + server_id + \"'].get_sessions()[0].document.roots[0]._id)\";\n",
       "      cell.notebook.kernel.execute(cmd, {\n",
       "        iopub: {\n",
       "          output: function(msg) {\n",
       "            var id = msg.content.text.trim();\n",
       "            if (id in Bokeh.index) {\n",
       "              Bokeh.index[id].model.document.clear();\n",
       "              delete Bokeh.index[id];\n",
       "            }\n",
       "          }\n",
       "        }\n",
       "      });\n",
       "      // Destroy server and session\n",
       "      var cmd = \"import bokeh.io.notebook as ion; ion.destroy_server('\" + server_id + \"')\";\n",
       "      cell.notebook.kernel.execute(cmd);\n",
       "    }\n",
       "  }\n",
       "\n",
       "  /**\n",
       "   * Handle when a new output is added\n",
       "   */\n",
       "  function handleAddOutput(event, handle) {\n",
       "    var output_area = handle.output_area;\n",
       "    var output = handle.output;\n",
       "\n",
       "    // limit handleAddOutput to display_data with EXEC_MIME_TYPE content only\n",
       "    if ((output.output_type != \"display_data\") || (!output.data.hasOwnProperty(EXEC_MIME_TYPE))) {\n",
       "      return\n",
       "    }\n",
       "\n",
       "    var toinsert = output_area.element.find(\".\" + CLASS_NAME.split(' ')[0]);\n",
       "\n",
       "    if (output.metadata[EXEC_MIME_TYPE][\"id\"] !== undefined) {\n",
       "      toinsert[toinsert.length - 1].firstChild.textContent = output.data[JS_MIME_TYPE];\n",
       "      // store reference to embed id on output_area\n",
       "      output_area._bokeh_element_id = output.metadata[EXEC_MIME_TYPE][\"id\"];\n",
       "    }\n",
       "    if (output.metadata[EXEC_MIME_TYPE][\"server_id\"] !== undefined) {\n",
       "      var bk_div = document.createElement(\"div\");\n",
       "      bk_div.innerHTML = output.data[HTML_MIME_TYPE];\n",
       "      var script_attrs = bk_div.children[0].attributes;\n",
       "      for (var i = 0; i < script_attrs.length; i++) {\n",
       "        toinsert[toinsert.length - 1].firstChild.setAttribute(script_attrs[i].name, script_attrs[i].value);\n",
       "      }\n",
       "      // store reference to server id on output_area\n",
       "      output_area._bokeh_server_id = output.metadata[EXEC_MIME_TYPE][\"server_id\"];\n",
       "    }\n",
       "  }\n",
       "\n",
       "  function register_renderer(events, OutputArea) {\n",
       "\n",
       "    function append_mime(data, metadata, element) {\n",
       "      // create a DOM node to render to\n",
       "      var toinsert = this.create_output_subarea(\n",
       "        metadata,\n",
       "        CLASS_NAME,\n",
       "        EXEC_MIME_TYPE\n",
       "      );\n",
       "      this.keyboard_manager.register_events(toinsert);\n",
       "      // Render to node\n",
       "      var props = {data: data, metadata: metadata[EXEC_MIME_TYPE]};\n",
       "      render(props, toinsert[toinsert.length - 1]);\n",
       "      element.append(toinsert);\n",
       "      return toinsert\n",
       "    }\n",
       "\n",
       "    /* Handle when an output is cleared or removed */\n",
       "    events.on('clear_output.CodeCell', handleClearOutput);\n",
       "    events.on('delete.Cell', handleClearOutput);\n",
       "\n",
       "    /* Handle when a new output is added */\n",
       "    events.on('output_added.OutputArea', handleAddOutput);\n",
       "\n",
       "    /**\n",
       "     * Register the mime type and append_mime function with output_area\n",
       "     */\n",
       "    OutputArea.prototype.register_mime_type(EXEC_MIME_TYPE, append_mime, {\n",
       "      /* Is output safe? */\n",
       "      safe: true,\n",
       "      /* Index of renderer in `output_area.display_order` */\n",
       "      index: 0\n",
       "    });\n",
       "  }\n",
       "\n",
       "  // register the mime type if in Jupyter Notebook environment and previously unregistered\n",
       "  if (root.Jupyter !== undefined) {\n",
       "    var events = require('base/js/events');\n",
       "    var OutputArea = require('notebook/js/outputarea').OutputArea;\n",
       "\n",
       "    if (OutputArea.prototype.mime_types().indexOf(EXEC_MIME_TYPE) == -1) {\n",
       "      register_renderer(events, OutputArea);\n",
       "    }\n",
       "  }\n",
       "\n",
       "  \n",
       "  if (typeof (root._bokeh_timeout) === \"undefined\" || force === true) {\n",
       "    root._bokeh_timeout = Date.now() + 5000;\n",
       "    root._bokeh_failed_load = false;\n",
       "  }\n",
       "\n",
       "  var NB_LOAD_WARNING = {'data': {'text/html':\n",
       "     \"<div style='background-color: #fdd'>\\n\"+\n",
       "     \"<p>\\n\"+\n",
       "     \"BokehJS does not appear to have successfully loaded. If loading BokehJS from CDN, this \\n\"+\n",
       "     \"may be due to a slow or bad network connection. Possible fixes:\\n\"+\n",
       "     \"</p>\\n\"+\n",
       "     \"<ul>\\n\"+\n",
       "     \"<li>re-rerun `output_notebook()` to attempt to load from CDN again, or</li>\\n\"+\n",
       "     \"<li>use INLINE resources instead, as so:</li>\\n\"+\n",
       "     \"</ul>\\n\"+\n",
       "     \"<code>\\n\"+\n",
       "     \"from bokeh.resources import INLINE\\n\"+\n",
       "     \"output_notebook(resources=INLINE)\\n\"+\n",
       "     \"</code>\\n\"+\n",
       "     \"</div>\"}};\n",
       "\n",
       "  function display_loaded() {\n",
       "    var el = document.getElementById(\"bbb552c2-b09c-4d8e-95a8-9bb2bec64b57\");\n",
       "    if (el != null) {\n",
       "      el.textContent = \"BokehJS is loading...\";\n",
       "    }\n",
       "    if (root.Bokeh !== undefined) {\n",
       "      if (el != null) {\n",
       "        el.textContent = \"BokehJS \" + root.Bokeh.version + \" successfully loaded.\";\n",
       "      }\n",
       "    } else if (Date.now() < root._bokeh_timeout) {\n",
       "      setTimeout(display_loaded, 100)\n",
       "    }\n",
       "  }\n",
       "\n",
       "\n",
       "  function run_callbacks() {\n",
       "    try {\n",
       "      root._bokeh_onload_callbacks.forEach(function(callback) { callback() });\n",
       "    }\n",
       "    finally {\n",
       "      delete root._bokeh_onload_callbacks\n",
       "    }\n",
       "    console.info(\"Bokeh: all callbacks have finished\");\n",
       "  }\n",
       "\n",
       "  function load_libs(js_urls, callback) {\n",
       "    root._bokeh_onload_callbacks.push(callback);\n",
       "    if (root._bokeh_is_loading > 0) {\n",
       "      console.log(\"Bokeh: BokehJS is being loaded, scheduling callback at\", now());\n",
       "      return null;\n",
       "    }\n",
       "    if (js_urls == null || js_urls.length === 0) {\n",
       "      run_callbacks();\n",
       "      return null;\n",
       "    }\n",
       "    console.log(\"Bokeh: BokehJS not loaded, scheduling load and callback at\", now());\n",
       "    root._bokeh_is_loading = js_urls.length;\n",
       "    for (var i = 0; i < js_urls.length; i++) {\n",
       "      var url = js_urls[i];\n",
       "      var s = document.createElement('script');\n",
       "      s.src = url;\n",
       "      s.async = false;\n",
       "      s.onreadystatechange = s.onload = function() {\n",
       "        root._bokeh_is_loading--;\n",
       "        if (root._bokeh_is_loading === 0) {\n",
       "          console.log(\"Bokeh: all BokehJS libraries loaded\");\n",
       "          run_callbacks()\n",
       "        }\n",
       "      };\n",
       "      s.onerror = function() {\n",
       "        console.warn(\"failed to load library \" + url);\n",
       "      };\n",
       "      console.log(\"Bokeh: injecting script tag for BokehJS library: \", url);\n",
       "      document.getElementsByTagName(\"head\")[0].appendChild(s);\n",
       "    }\n",
       "  };var element = document.getElementById(\"bbb552c2-b09c-4d8e-95a8-9bb2bec64b57\");\n",
       "  if (element == null) {\n",
       "    console.log(\"Bokeh: ERROR: autoload.js configured with elementid 'bbb552c2-b09c-4d8e-95a8-9bb2bec64b57' but no matching script tag was found. \")\n",
       "    return false;\n",
       "  }\n",
       "\n",
       "  var js_urls = [\"https://cdn.pydata.org/bokeh/release/bokeh-0.13.0.min.js\", \"https://cdn.pydata.org/bokeh/release/bokeh-widgets-0.13.0.min.js\", \"https://cdn.pydata.org/bokeh/release/bokeh-tables-0.13.0.min.js\", \"https://cdn.pydata.org/bokeh/release/bokeh-gl-0.13.0.min.js\"];\n",
       "\n",
       "  var inline_js = [\n",
       "    function(Bokeh) {\n",
       "      Bokeh.set_log_level(\"info\");\n",
       "    },\n",
       "    \n",
       "    function(Bokeh) {\n",
       "      \n",
       "    },\n",
       "    function(Bokeh) {\n",
       "      console.log(\"Bokeh: injecting CSS: https://cdn.pydata.org/bokeh/release/bokeh-0.13.0.min.css\");\n",
       "      Bokeh.embed.inject_css(\"https://cdn.pydata.org/bokeh/release/bokeh-0.13.0.min.css\");\n",
       "      console.log(\"Bokeh: injecting CSS: https://cdn.pydata.org/bokeh/release/bokeh-widgets-0.13.0.min.css\");\n",
       "      Bokeh.embed.inject_css(\"https://cdn.pydata.org/bokeh/release/bokeh-widgets-0.13.0.min.css\");\n",
       "      console.log(\"Bokeh: injecting CSS: https://cdn.pydata.org/bokeh/release/bokeh-tables-0.13.0.min.css\");\n",
       "      Bokeh.embed.inject_css(\"https://cdn.pydata.org/bokeh/release/bokeh-tables-0.13.0.min.css\");\n",
       "    }\n",
       "  ];\n",
       "\n",
       "  function run_inline_js() {\n",
       "    \n",
       "    if ((root.Bokeh !== undefined) || (force === true)) {\n",
       "      for (var i = 0; i < inline_js.length; i++) {\n",
       "        inline_js[i].call(root, root.Bokeh);\n",
       "      }if (force === true) {\n",
       "        display_loaded();\n",
       "      }} else if (Date.now() < root._bokeh_timeout) {\n",
       "      setTimeout(run_inline_js, 100);\n",
       "    } else if (!root._bokeh_failed_load) {\n",
       "      console.log(\"Bokeh: BokehJS failed to load within specified timeout.\");\n",
       "      root._bokeh_failed_load = true;\n",
       "    } else if (force !== true) {\n",
       "      var cell = $(document.getElementById(\"bbb552c2-b09c-4d8e-95a8-9bb2bec64b57\")).parents('.cell').data().cell;\n",
       "      cell.output_area.append_execute_result(NB_LOAD_WARNING)\n",
       "    }\n",
       "\n",
       "  }\n",
       "\n",
       "  if (root._bokeh_is_loading === 0) {\n",
       "    console.log(\"Bokeh: BokehJS loaded, going straight to plotting\");\n",
       "    run_inline_js();\n",
       "  } else {\n",
       "    load_libs(js_urls, function() {\n",
       "      console.log(\"Bokeh: BokehJS plotting callback run at\", now());\n",
       "      run_inline_js();\n",
       "    });\n",
       "  }\n",
       "}(window));"
      ],
      "application/vnd.bokehjs_load.v0+json": "\n(function(root) {\n  function now() {\n    return new Date();\n  }\n\n  var force = true;\n\n  if (typeof (root._bokeh_onload_callbacks) === \"undefined\" || force === true) {\n    root._bokeh_onload_callbacks = [];\n    root._bokeh_is_loading = undefined;\n  }\n\n  \n\n  \n  if (typeof (root._bokeh_timeout) === \"undefined\" || force === true) {\n    root._bokeh_timeout = Date.now() + 5000;\n    root._bokeh_failed_load = false;\n  }\n\n  var NB_LOAD_WARNING = {'data': {'text/html':\n     \"<div style='background-color: #fdd'>\\n\"+\n     \"<p>\\n\"+\n     \"BokehJS does not appear to have successfully loaded. If loading BokehJS from CDN, this \\n\"+\n     \"may be due to a slow or bad network connection. Possible fixes:\\n\"+\n     \"</p>\\n\"+\n     \"<ul>\\n\"+\n     \"<li>re-rerun `output_notebook()` to attempt to load from CDN again, or</li>\\n\"+\n     \"<li>use INLINE resources instead, as so:</li>\\n\"+\n     \"</ul>\\n\"+\n     \"<code>\\n\"+\n     \"from bokeh.resources import INLINE\\n\"+\n     \"output_notebook(resources=INLINE)\\n\"+\n     \"</code>\\n\"+\n     \"</div>\"}};\n\n  function display_loaded() {\n    var el = document.getElementById(\"bbb552c2-b09c-4d8e-95a8-9bb2bec64b57\");\n    if (el != null) {\n      el.textContent = \"BokehJS is loading...\";\n    }\n    if (root.Bokeh !== undefined) {\n      if (el != null) {\n        el.textContent = \"BokehJS \" + root.Bokeh.version + \" successfully loaded.\";\n      }\n    } else if (Date.now() < root._bokeh_timeout) {\n      setTimeout(display_loaded, 100)\n    }\n  }\n\n\n  function run_callbacks() {\n    try {\n      root._bokeh_onload_callbacks.forEach(function(callback) { callback() });\n    }\n    finally {\n      delete root._bokeh_onload_callbacks\n    }\n    console.info(\"Bokeh: all callbacks have finished\");\n  }\n\n  function load_libs(js_urls, callback) {\n    root._bokeh_onload_callbacks.push(callback);\n    if (root._bokeh_is_loading > 0) {\n      console.log(\"Bokeh: BokehJS is being loaded, scheduling callback at\", now());\n      return null;\n    }\n    if (js_urls == null || js_urls.length === 0) {\n      run_callbacks();\n      return null;\n    }\n    console.log(\"Bokeh: BokehJS not loaded, scheduling load and callback at\", now());\n    root._bokeh_is_loading = js_urls.length;\n    for (var i = 0; i < js_urls.length; i++) {\n      var url = js_urls[i];\n      var s = document.createElement('script');\n      s.src = url;\n      s.async = false;\n      s.onreadystatechange = s.onload = function() {\n        root._bokeh_is_loading--;\n        if (root._bokeh_is_loading === 0) {\n          console.log(\"Bokeh: all BokehJS libraries loaded\");\n          run_callbacks()\n        }\n      };\n      s.onerror = function() {\n        console.warn(\"failed to load library \" + url);\n      };\n      console.log(\"Bokeh: injecting script tag for BokehJS library: \", url);\n      document.getElementsByTagName(\"head\")[0].appendChild(s);\n    }\n  };var element = document.getElementById(\"bbb552c2-b09c-4d8e-95a8-9bb2bec64b57\");\n  if (element == null) {\n    console.log(\"Bokeh: ERROR: autoload.js configured with elementid 'bbb552c2-b09c-4d8e-95a8-9bb2bec64b57' but no matching script tag was found. \")\n    return false;\n  }\n\n  var js_urls = [\"https://cdn.pydata.org/bokeh/release/bokeh-0.13.0.min.js\", \"https://cdn.pydata.org/bokeh/release/bokeh-widgets-0.13.0.min.js\", \"https://cdn.pydata.org/bokeh/release/bokeh-tables-0.13.0.min.js\", \"https://cdn.pydata.org/bokeh/release/bokeh-gl-0.13.0.min.js\"];\n\n  var inline_js = [\n    function(Bokeh) {\n      Bokeh.set_log_level(\"info\");\n    },\n    \n    function(Bokeh) {\n      \n    },\n    function(Bokeh) {\n      console.log(\"Bokeh: injecting CSS: https://cdn.pydata.org/bokeh/release/bokeh-0.13.0.min.css\");\n      Bokeh.embed.inject_css(\"https://cdn.pydata.org/bokeh/release/bokeh-0.13.0.min.css\");\n      console.log(\"Bokeh: injecting CSS: https://cdn.pydata.org/bokeh/release/bokeh-widgets-0.13.0.min.css\");\n      Bokeh.embed.inject_css(\"https://cdn.pydata.org/bokeh/release/bokeh-widgets-0.13.0.min.css\");\n      console.log(\"Bokeh: injecting CSS: https://cdn.pydata.org/bokeh/release/bokeh-tables-0.13.0.min.css\");\n      Bokeh.embed.inject_css(\"https://cdn.pydata.org/bokeh/release/bokeh-tables-0.13.0.min.css\");\n    }\n  ];\n\n  function run_inline_js() {\n    \n    if ((root.Bokeh !== undefined) || (force === true)) {\n      for (var i = 0; i < inline_js.length; i++) {\n        inline_js[i].call(root, root.Bokeh);\n      }if (force === true) {\n        display_loaded();\n      }} else if (Date.now() < root._bokeh_timeout) {\n      setTimeout(run_inline_js, 100);\n    } else if (!root._bokeh_failed_load) {\n      console.log(\"Bokeh: BokehJS failed to load within specified timeout.\");\n      root._bokeh_failed_load = true;\n    } else if (force !== true) {\n      var cell = $(document.getElementById(\"bbb552c2-b09c-4d8e-95a8-9bb2bec64b57\")).parents('.cell').data().cell;\n      cell.output_area.append_execute_result(NB_LOAD_WARNING)\n    }\n\n  }\n\n  if (root._bokeh_is_loading === 0) {\n    console.log(\"Bokeh: BokehJS loaded, going straight to plotting\");\n    run_inline_js();\n  } else {\n    load_libs(js_urls, function() {\n      console.log(\"Bokeh: BokehJS plotting callback run at\", now());\n      run_inline_js();\n    });\n  }\n}(window));"
     },
     "metadata": {},
     "output_type": "display_data"
    }
   ],
   "source": [
    "from bokeh.io import push_notebook, show, output_notebook\n",
    "from bokeh.plotting import figure\n",
    "from bokeh.models import ColumnDataSource, LabelSet\n",
    "output_notebook()"
   ]
  },
  {
   "cell_type": "code",
   "execution_count": 15,
   "metadata": {
    "collapsed": true
   },
   "outputs": [],
   "source": [
    "vectorizer = CountVectorizer(min_df=5, max_df=0.9, \n",
    "                             stop_words='english', lowercase=True, \n",
    "                             token_pattern='[a-zA-Z\\-][a-zA-Z\\-]{2,}')\n",
    "\n",
    "data_vectorized = vectorizer.fit_transform(tag_data.tags)"
   ]
  },
  {
   "cell_type": "code",
   "execution_count": 16,
   "metadata": {},
   "outputs": [
    {
     "data": {
      "text/html": [
       "\n",
       "\n",
       "\n",
       "\n",
       "\n",
       "\n",
       "  <div class=\"bk-root\" id=\"ad5a8eb8-4196-40d3-830e-03311cc7dcef\"></div>\n"
      ]
     },
     "metadata": {},
     "output_type": "display_data"
    },
    {
     "data": {
      "application/javascript": [
       "(function(root) {\n",
       "  function embed_document(root) {\n",
       "    \n",
       "  var docs_json = {\"0627c5fd-e40c-4b98-906c-020194aa01f6\":{\"roots\":{\"references\":[{\"attributes\":{},\"id\":\"d0b9ec34-1d61-4bf3-a16c-d93dd02c4ef8\",\"type\":\"HelpTool\"},{\"attributes\":{},\"id\":\"31f737f8-f81e-4eec-8bb6-1a43d48c1ead\",\"type\":\"LinearScale\"},{\"attributes\":{\"fill_alpha\":{\"value\":0.1},\"fill_color\":{\"value\":\"#1f77b4\"},\"line_alpha\":{\"value\":0.1},\"line_color\":{\"value\":\"#1f77b4\"},\"size\":{\"units\":\"screen\",\"value\":12},\"x\":{\"field\":\"x\"},\"y\":{\"field\":\"y\"}},\"id\":\"3017c353-41ff-4fa6-a1eb-80ec6ed8c250\",\"type\":\"Circle\"},{\"attributes\":{\"below\":[{\"id\":\"1828f98f-7781-441c-a9fd-1967965aef01\",\"type\":\"LinearAxis\"}],\"left\":[{\"id\":\"645f723b-6b62-4001-bd44-675a42f2d674\",\"type\":\"LinearAxis\"}],\"renderers\":[{\"id\":\"1828f98f-7781-441c-a9fd-1967965aef01\",\"type\":\"LinearAxis\"},{\"id\":\"d66e16ec-9c8c-4dac-bcd7-c8fe9adff1e0\",\"type\":\"Grid\"},{\"id\":\"645f723b-6b62-4001-bd44-675a42f2d674\",\"type\":\"LinearAxis\"},{\"id\":\"71afa054-519b-4ae7-b86f-26e0f653042b\",\"type\":\"Grid\"},{\"id\":\"47a76a58-977f-4255-b425-2df75f2404a2\",\"type\":\"BoxAnnotation\"},{\"id\":\"adde86ab-0515-42ed-96ae-478d40a84eea\",\"type\":\"GlyphRenderer\"},{\"id\":\"49367ff3-d82e-4d89-b502-79bd247fe197\",\"type\":\"LabelSet\"}],\"title\":{\"id\":\"3fba66a7-6664-4376-87e1-e1573068ac84\",\"type\":\"Title\"},\"toolbar\":{\"id\":\"b314a238-5d02-4708-92f7-898a2a7b8c27\",\"type\":\"Toolbar\"},\"x_range\":{\"id\":\"b66139a1-b7c5-4bca-a912-c18d2513716b\",\"type\":\"DataRange1d\"},\"x_scale\":{\"id\":\"7bf9996f-5f17-46da-905b-5d16d8366694\",\"type\":\"LinearScale\"},\"y_range\":{\"id\":\"087ddb13-a05e-4849-a825-1b383823b7c5\",\"type\":\"DataRange1d\"},\"y_scale\":{\"id\":\"31f737f8-f81e-4eec-8bb6-1a43d48c1ead\",\"type\":\"LinearScale\"}},\"id\":\"c6ae972d-dc3b-429d-a30f-e4cb606526bf\",\"subtype\":\"Figure\",\"type\":\"Plot\"},{\"attributes\":{\"formatter\":{\"id\":\"39a03a1e-fd17-4bde-8f53-c56d68a413ec\",\"type\":\"BasicTickFormatter\"},\"plot\":{\"id\":\"c6ae972d-dc3b-429d-a30f-e4cb606526bf\",\"subtype\":\"Figure\",\"type\":\"Plot\"},\"ticker\":{\"id\":\"b38580d5-d548-441a-a9aa-a7ab151508c1\",\"type\":\"BasicTicker\"}},\"id\":\"1828f98f-7781-441c-a9fd-1967965aef01\",\"type\":\"LinearAxis\"},{\"attributes\":{},\"id\":\"559ff592-481e-42af-866b-b8e591f27ac1\",\"type\":\"BasicTickFormatter\"},{\"attributes\":{\"plot\":{\"id\":\"c6ae972d-dc3b-429d-a30f-e4cb606526bf\",\"subtype\":\"Figure\",\"type\":\"Plot\"},\"source\":{\"id\":\"8b6c7b8b-5a0b-4904-b324-437fdc71cb17\",\"type\":\"ColumnDataSource\"},\"text\":{\"field\":\"document\"},\"text_align\":\"center\",\"text_color\":{\"value\":\"#555555\"},\"text_font_size\":{\"value\":\"8pt\"},\"x\":{\"field\":\"x\"},\"y\":{\"field\":\"y\"},\"y_offset\":{\"value\":8}},\"id\":\"49367ff3-d82e-4d89-b502-79bd247fe197\",\"type\":\"LabelSet\"},{\"attributes\":{},\"id\":\"b38580d5-d548-441a-a9aa-a7ab151508c1\",\"type\":\"BasicTicker\"},{\"attributes\":{},\"id\":\"15c683c5-129a-44d0-99a2-8514b5f85cb9\",\"type\":\"Selection\"},{\"attributes\":{\"plot\":{\"id\":\"c6ae972d-dc3b-429d-a30f-e4cb606526bf\",\"subtype\":\"Figure\",\"type\":\"Plot\"},\"ticker\":{\"id\":\"b38580d5-d548-441a-a9aa-a7ab151508c1\",\"type\":\"BasicTicker\"}},\"id\":\"d66e16ec-9c8c-4dac-bcd7-c8fe9adff1e0\",\"type\":\"Grid\"},{\"attributes\":{\"formatter\":{\"id\":\"559ff592-481e-42af-866b-b8e591f27ac1\",\"type\":\"BasicTickFormatter\"},\"plot\":{\"id\":\"c6ae972d-dc3b-429d-a30f-e4cb606526bf\",\"subtype\":\"Figure\",\"type\":\"Plot\"},\"ticker\":{\"id\":\"c048bef4-5e00-49ee-a477-9d5da2aa7e31\",\"type\":\"BasicTicker\"}},\"id\":\"645f723b-6b62-4001-bd44-675a42f2d674\",\"type\":\"LinearAxis\"},{\"attributes\":{},\"id\":\"3fa75273-6b70-4bd3-a0a7-6f6f7b965c47\",\"type\":\"UnionRenderers\"},{\"attributes\":{},\"id\":\"c048bef4-5e00-49ee-a477-9d5da2aa7e31\",\"type\":\"BasicTicker\"},{\"attributes\":{\"fill_alpha\":{\"value\":0.8},\"fill_color\":{\"value\":\"#1f77b4\"},\"size\":{\"units\":\"screen\",\"value\":12},\"x\":{\"field\":\"x\"},\"y\":{\"field\":\"y\"}},\"id\":\"dd7fce58-f924-4b38-8e18-68870ec753dd\",\"type\":\"Circle\"},{\"attributes\":{\"dimension\":1,\"plot\":{\"id\":\"c6ae972d-dc3b-429d-a30f-e4cb606526bf\",\"subtype\":\"Figure\",\"type\":\"Plot\"},\"ticker\":{\"id\":\"c048bef4-5e00-49ee-a477-9d5da2aa7e31\",\"type\":\"BasicTicker\"}},\"id\":\"71afa054-519b-4ae7-b86f-26e0f653042b\",\"type\":\"Grid\"},{\"attributes\":{\"bottom_units\":\"screen\",\"fill_alpha\":{\"value\":0.5},\"fill_color\":{\"value\":\"lightgrey\"},\"left_units\":\"screen\",\"level\":\"overlay\",\"line_alpha\":{\"value\":1.0},\"line_color\":{\"value\":\"black\"},\"line_dash\":[4,4],\"line_width\":{\"value\":2},\"plot\":null,\"render_mode\":\"css\",\"right_units\":\"screen\",\"top_units\":\"screen\"},\"id\":\"47a76a58-977f-4255-b425-2df75f2404a2\",\"type\":\"BoxAnnotation\"},{\"attributes\":{\"callback\":null,\"data\":{\"document\":[0,1,2,3,4,5,6,7,8,9,10,11,12,13,14,15,16,17,18,19,20,21,22,23,24,25,26,27,28,29,30,31,32,33,34,35,36,37,38,39,40,41,42,43,44,45,46,47,48,49,50,51,52,53,54,55,56,57,58,59,60,61,62,63,64,65,66,67,68,69,70,71,72,73,74,75,76,77,78,79,80,81,82,83,84,85,86,87,88,89,90,91,92,93,94,95,96,97,98,99,100,101,102,103,104,105,106,107,108,109,110,111,112,113,114,115,116,117,118,119,120,121,122,123,124,125,126,127,128,129,130,131,132,133,134,135,136,137,138,139,140,141,142,143,144,145,146,147,148,149,150,151,152,153,154,155,156,157,158,159,160,161,162,163,164,165,166,167,168,169,170,171,172,173,174,175,176,177,178,179,180,181,182,183,184,185,186,187,188,189,190,191,192,193,194,195,196,197,198,199,200,201,202,203,204,205,206,207,208,209,210,211,212,213,214,215,216,217,218,219,220,221,222,223,224,225,226,227,228,229,230,231,232,233,234,235,236,237,238,239,240,241,242,243,244,245,246,247,248,249,250,251,252,253,254,255,256,257,258,259,260,261,262,263,264,265,266,267,268,269,270,271,272,273,274,275,276,277,278,279,280,281,282,283,284,285,286,287,288,289,290,291,292,293,294,295,296,297,298,299,300,301,302,303,304,305,306,307,308,309,310,311,312,313,314,315,316,317,318,319,320,321,322,323,324,325,326,327,328,329,330,331,332,333,334,335,336,337,338,339,340,341,342,343,344,345,346,347,348,349,350,351,352,353,354,355,356,357,358,359,360,361,362,363,364,365,366,367,368,369,370,371,372,373,374,375,376,377,378,379,380,381,382,383,384,385,386,387,388,389,390,391,392,393,394,395,396,397,398,399,400,401,402,403,404,405,406,407,408,409,410,411,412,413,414,415,416,417,418,419,420,421,422,423,424,425,426,427,428,429,430,431,432,433,434,435,436,437,438,439,440,441,442,443,444,445,446,447,448,449,450,451,452,453,454,455,456,457,458,459,460,461,462,463,464,465,466,467,468,469,470,471,472,473,474,475,476,477,478,479,480,481,482,483,484,485,486,487,488,489,490,491,492,493,494,495,496,497,498,499,500,501,502,503,504],\"index\":[0,1,2,3,4,5,6,7,8,9,10,11,12,13,14,15,16,17,18,19,20,21,22,23,24,25,26,27,28,29,30,31,32,33,34,35,36,37,38,39,40,41,42,43,44,45,46,47,48,49,50,51,52,53,54,55,56,57,58,59,60,61,62,63,64,65,66,67,68,69,70,71,72,73,74,75,76,77,78,79,80,81,82,83,84,85,86,87,88,89,90,91,92,93,94,95,96,97,98,99,100,101,102,103,104,105,106,107,108,109,110,111,112,113,114,115,116,117,118,119,120,121,122,123,124,125,126,127,128,129,130,131,132,133,134,135,136,137,138,139,140,141,142,143,144,145,146,147,148,149,150,151,152,153,154,155,156,157,158,159,160,161,162,163,164,165,166,167,168,169,170,171,172,173,174,175,176,177,178,179,180,181,182,183,184,185,186,187,188,189,190,191,192,193,194,195,196,197,198,199,200,201,202,203,204,205,206,207,208,209,210,211,212,213,214,215,216,217,218,219,220,221,222,223,224,225,226,227,228,229,230,231,232,233,234,235,236,237,238,239,240,241,242,243,244,245,246,247,248,249,250,251,252,253,254,255,256,257,258,259,260,261,262,263,264,265,266,267,268,269,270,271,272,273,274,275,276,277,278,279,280,281,282,283,284,285,286,287,288,289,290,291,292,293,294,295,296,297,298,299,300,301,302,303,304,305,306,307,308,309,310,311,312,313,314,315,316,317,318,319,320,321,322,323,324,325,326,327,328,329,330,331,332,333,334,335,336,337,338,339,340,341,342,343,344,345,346,347,348,349,350,351,352,353,354,355,356,357,358,359,360,361,362,363,364,365,366,367,368,369,370,371,372,373,374,375,376,377,378,379,380,381,382,383,384,385,386,387,388,389,390,391,392,393,394,395,396,397,398,399,400,401,402,403,404,405,406,407,408,409,410,411,412,413,414,415,416,417,418,419,420,421,422,423,424,425,426,427,428,429,430,431,432,433,434,435,436,437,438,439,440,441,442,443,444,445,446,447,448,449,450,451,452,453,454,455,456,457,458,459,460,461,462,463,464,465,466,467,468,469,470,471,472,473,474,475,476,477,478,479,480,481,482,483,484,485,486,487,488,489,490,491,492,493,494,495,496,497,498,499,500,501,502,503,504],\"x\":{\"__ndarray__\":\"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\",\"dtype\":\"float64\",\"shape\":[505]},\"y\":{\"__ndarray__\":\"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\",\"dtype\":\"float64\",\"shape\":[505]}},\"selected\":{\"id\":\"15c683c5-129a-44d0-99a2-8514b5f85cb9\",\"type\":\"Selection\"},\"selection_policy\":{\"id\":\"3fa75273-6b70-4bd3-a0a7-6f6f7b965c47\",\"type\":\"UnionRenderers\"}},\"id\":\"8b6c7b8b-5a0b-4904-b324-437fdc71cb17\",\"type\":\"ColumnDataSource\"},{\"attributes\":{\"source\":{\"id\":\"8b6c7b8b-5a0b-4904-b324-437fdc71cb17\",\"type\":\"ColumnDataSource\"}},\"id\":\"65b833fd-c217-4b78-9383-521c3efda904\",\"type\":\"CDSView\"},{\"attributes\":{\"plot\":null,\"text\":\"\"},\"id\":\"3fba66a7-6664-4376-87e1-e1573068ac84\",\"type\":\"Title\"},{\"attributes\":{\"data_source\":{\"id\":\"8b6c7b8b-5a0b-4904-b324-437fdc71cb17\",\"type\":\"ColumnDataSource\"},\"glyph\":{\"id\":\"dd7fce58-f924-4b38-8e18-68870ec753dd\",\"type\":\"Circle\"},\"hover_glyph\":null,\"muted_glyph\":null,\"nonselection_glyph\":{\"id\":\"3017c353-41ff-4fa6-a1eb-80ec6ed8c250\",\"type\":\"Circle\"},\"selection_glyph\":null,\"view\":{\"id\":\"65b833fd-c217-4b78-9383-521c3efda904\",\"type\":\"CDSView\"}},\"id\":\"adde86ab-0515-42ed-96ae-478d40a84eea\",\"type\":\"GlyphRenderer\"},{\"attributes\":{},\"id\":\"2aa4aafc-aeb7-4288-b2d8-3b82bc274796\",\"type\":\"PanTool\"},{\"attributes\":{},\"id\":\"39a03a1e-fd17-4bde-8f53-c56d68a413ec\",\"type\":\"BasicTickFormatter\"},{\"attributes\":{\"active_drag\":\"auto\",\"active_inspect\":\"auto\",\"active_multi\":null,\"active_scroll\":\"auto\",\"active_tap\":\"auto\",\"tools\":[{\"id\":\"2aa4aafc-aeb7-4288-b2d8-3b82bc274796\",\"type\":\"PanTool\"},{\"id\":\"628e1cb4-2c61-4a96-8f0d-6f7ca42955ac\",\"type\":\"WheelZoomTool\"},{\"id\":\"e3a6e6cb-75ce-4c4e-8214-e03ecb7370b3\",\"type\":\"BoxZoomTool\"},{\"id\":\"ac3ccd37-7c04-46df-ac27-bf33dfa5f12c\",\"type\":\"SaveTool\"},{\"id\":\"3dfc8948-a3e0-41f0-a29b-bb0c9ae48e55\",\"type\":\"ResetTool\"},{\"id\":\"d0b9ec34-1d61-4bf3-a16c-d93dd02c4ef8\",\"type\":\"HelpTool\"}]},\"id\":\"b314a238-5d02-4708-92f7-898a2a7b8c27\",\"type\":\"Toolbar\"},{\"attributes\":{},\"id\":\"628e1cb4-2c61-4a96-8f0d-6f7ca42955ac\",\"type\":\"WheelZoomTool\"},{\"attributes\":{\"callback\":null},\"id\":\"b66139a1-b7c5-4bca-a912-c18d2513716b\",\"type\":\"DataRange1d\"},{\"attributes\":{\"overlay\":{\"id\":\"47a76a58-977f-4255-b425-2df75f2404a2\",\"type\":\"BoxAnnotation\"}},\"id\":\"e3a6e6cb-75ce-4c4e-8214-e03ecb7370b3\",\"type\":\"BoxZoomTool\"},{\"attributes\":{},\"id\":\"ac3ccd37-7c04-46df-ac27-bf33dfa5f12c\",\"type\":\"SaveTool\"},{\"attributes\":{\"callback\":null},\"id\":\"087ddb13-a05e-4849-a825-1b383823b7c5\",\"type\":\"DataRange1d\"},{\"attributes\":{},\"id\":\"3dfc8948-a3e0-41f0-a29b-bb0c9ae48e55\",\"type\":\"ResetTool\"},{\"attributes\":{},\"id\":\"7bf9996f-5f17-46da-905b-5d16d8366694\",\"type\":\"LinearScale\"}],\"root_ids\":[\"c6ae972d-dc3b-429d-a30f-e4cb606526bf\"]},\"title\":\"Bokeh Application\",\"version\":\"0.13.0\"}};\n",
       "  var render_items = [{\"docid\":\"0627c5fd-e40c-4b98-906c-020194aa01f6\",\"notebook_comms_target\":\"f342817d-d258-48ae-b59f-03e937b9bb73\",\"roots\":{\"c6ae972d-dc3b-429d-a30f-e4cb606526bf\":\"ad5a8eb8-4196-40d3-830e-03311cc7dcef\"}}];\n",
       "  root.Bokeh.embed.embed_items_notebook(docs_json, render_items);\n",
       "\n",
       "  }\n",
       "  if (root.Bokeh !== undefined) {\n",
       "    embed_document(root);\n",
       "  } else {\n",
       "    var attempts = 0;\n",
       "    var timer = setInterval(function(root) {\n",
       "      if (root.Bokeh !== undefined) {\n",
       "        embed_document(root);\n",
       "        clearInterval(timer);\n",
       "      }\n",
       "      attempts++;\n",
       "      if (attempts > 100) {\n",
       "        console.log(\"Bokeh: ERROR: Unable to run BokehJS code because BokehJS library is missing\")\n",
       "        clearInterval(timer);\n",
       "      }\n",
       "    }, 10, root)\n",
       "  }\n",
       "})(window);"
      ],
      "application/vnd.bokehjs_exec.v0+json": ""
     },
     "metadata": {
      "application/vnd.bokehjs_exec.v0+json": {
       "id": "c6ae972d-dc3b-429d-a30f-e4cb606526bf"
      }
     },
     "output_type": "display_data"
    },
    {
     "data": {
      "text/html": [
       "<p><code>&lt;Bokeh Notebook handle for <strong>In[16]</strong>&gt;</code></p>"
      ],
      "text/plain": [
       "<bokeh.io.notebook.CommsHandle at 0x1a2c5da4a8>"
      ]
     },
     "execution_count": 16,
     "metadata": {},
     "output_type": "execute_result"
    }
   ],
   "source": [
    "svd = TruncatedSVD(n_components=2)\n",
    "documents_2d = svd.fit_transform(data_vectorized)\n",
    " \n",
    "df = pd.DataFrame(columns=['x', 'y', 'document'])\n",
    "df['x'], df['y'], df['document'] = documents_2d[:,0], documents_2d[:,1], range(len(data))\n",
    " \n",
    "source = ColumnDataSource(ColumnDataSource.from_df(df))\n",
    "labels = LabelSet(x=\"x\", y=\"y\", text=\"document\", y_offset=8,\n",
    "                  text_font_size=\"8pt\", text_color=\"#555555\",\n",
    "                  source=source, text_align='center')\n",
    " \n",
    "plot = figure(plot_width=600, plot_height=600)\n",
    "plot.circle(\"x\", \"y\", size=12, source=source, line_color=\"black\", fill_alpha=0.8)\n",
    "plot.add_layout(labels)\n",
    "show(plot, notebook_handle=True)"
   ]
  },
  {
   "cell_type": "code",
   "execution_count": 17,
   "metadata": {},
   "outputs": [
    {
     "data": {
      "text/html": [
       "\n",
       "\n",
       "\n",
       "\n",
       "\n",
       "\n",
       "  <div class=\"bk-root\" id=\"7d37926f-02fb-49c8-90ea-0f07a7226074\"></div>\n"
      ]
     },
     "metadata": {},
     "output_type": "display_data"
    },
    {
     "data": {
      "application/javascript": [
       "(function(root) {\n",
       "  function embed_document(root) {\n",
       "    \n",
       "  var docs_json = {\"a2251632-57d3-4c8b-a207-bcf4800df293\":{\"roots\":{\"references\":[{\"attributes\":{\"source\":{\"id\":\"d3a23de5-87d1-4b68-862d-d93f9ef4f0ce\",\"type\":\"ColumnDataSource\"}},\"id\":\"a3b4821b-f0d7-4e49-8ed8-73960f2d5026\",\"type\":\"CDSView\"},{\"attributes\":{\"overlay\":{\"id\":\"712b519b-2811-48e9-8710-7bf6bd000c2d\",\"type\":\"BoxAnnotation\"}},\"id\":\"93af92cb-81b7-4f98-a274-162c6aef5f75\",\"type\":\"BoxZoomTool\"},{\"attributes\":{\"formatter\":{\"id\":\"0b7cbcff-73b2-433d-9c25-59562023a02c\",\"type\":\"BasicTickFormatter\"},\"plot\":{\"id\":\"3cce9248-b540-4a2a-bd46-1bb5e7e519b9\",\"subtype\":\"Figure\",\"type\":\"Plot\"},\"ticker\":{\"id\":\"6b4df454-5574-408a-9910-8c2140257ec4\",\"type\":\"BasicTicker\"}},\"id\":\"f921db80-6f9e-46ac-9e8c-1561932acb0a\",\"type\":\"LinearAxis\"},{\"attributes\":{},\"id\":\"98285179-ff17-46f8-ba9c-65aa2d81c052\",\"type\":\"WheelZoomTool\"},{\"attributes\":{\"callback\":null},\"id\":\"1be50095-dac5-4f09-9f21-3add59747e9c\",\"type\":\"DataRange1d\"},{\"attributes\":{},\"id\":\"51505a0c-ce68-4bd1-98fb-a678488680a8\",\"type\":\"Selection\"},{\"attributes\":{},\"id\":\"72e3349d-c1ef-4d51-bcf2-ddb364cfa8c9\",\"type\":\"UnionRenderers\"},{\"attributes\":{},\"id\":\"577803f8-db49-4558-bca2-a34d5c1d478e\",\"type\":\"BasicTicker\"},{\"attributes\":{\"formatter\":{\"id\":\"2636af9a-0580-4a21-9cef-15acadee6170\",\"type\":\"BasicTickFormatter\"},\"plot\":{\"id\":\"3cce9248-b540-4a2a-bd46-1bb5e7e519b9\",\"subtype\":\"Figure\",\"type\":\"Plot\"},\"ticker\":{\"id\":\"577803f8-db49-4558-bca2-a34d5c1d478e\",\"type\":\"BasicTicker\"}},\"id\":\"90ab4429-f183-47b1-8ce0-224dc64c1b2a\",\"type\":\"LinearAxis\"},{\"attributes\":{},\"id\":\"0b7cbcff-73b2-433d-9c25-59562023a02c\",\"type\":\"BasicTickFormatter\"},{\"attributes\":{\"fill_alpha\":{\"value\":0.1},\"fill_color\":{\"value\":\"#1f77b4\"},\"line_alpha\":{\"value\":0.1},\"line_color\":{\"value\":\"#1f77b4\"},\"size\":{\"units\":\"screen\",\"value\":12},\"x\":{\"field\":\"x\"},\"y\":{\"field\":\"y\"}},\"id\":\"bee94252-4b7a-4d06-892c-4811d98da358\",\"type\":\"Circle\"},{\"attributes\":{\"plot\":{\"id\":\"3cce9248-b540-4a2a-bd46-1bb5e7e519b9\",\"subtype\":\"Figure\",\"type\":\"Plot\"},\"ticker\":{\"id\":\"577803f8-db49-4558-bca2-a34d5c1d478e\",\"type\":\"BasicTicker\"}},\"id\":\"683ba81e-9449-4385-a93e-934a09d344ff\",\"type\":\"Grid\"},{\"attributes\":{\"plot\":{\"id\":\"3cce9248-b540-4a2a-bd46-1bb5e7e519b9\",\"subtype\":\"Figure\",\"type\":\"Plot\"},\"source\":{\"id\":\"d3a23de5-87d1-4b68-862d-d93f9ef4f0ce\",\"type\":\"ColumnDataSource\"},\"text\":{\"field\":\"word\"},\"text_align\":\"center\",\"text_color\":{\"value\":\"#555555\"},\"text_font_size\":{\"value\":\"8pt\"},\"x\":{\"field\":\"x\"},\"y\":{\"field\":\"y\"},\"y_offset\":{\"value\":8}},\"id\":\"31ab45d6-8aee-4a34-8312-ba2c329b727e\",\"type\":\"LabelSet\"},{\"attributes\":{\"active_drag\":\"auto\",\"active_inspect\":\"auto\",\"active_multi\":null,\"active_scroll\":\"auto\",\"active_tap\":\"auto\",\"tools\":[{\"id\":\"5cc3f73c-7dc4-486f-9ea8-c83b1d85dec2\",\"type\":\"PanTool\"},{\"id\":\"98285179-ff17-46f8-ba9c-65aa2d81c052\",\"type\":\"WheelZoomTool\"},{\"id\":\"93af92cb-81b7-4f98-a274-162c6aef5f75\",\"type\":\"BoxZoomTool\"},{\"id\":\"0ede030a-0f77-4f20-94b0-acbc5a5488b0\",\"type\":\"SaveTool\"},{\"id\":\"d139aec7-8e14-46d7-8dbe-a3fe5c4365e0\",\"type\":\"ResetTool\"},{\"id\":\"13ed875f-be40-47b6-9aeb-5236ac8e5a99\",\"type\":\"HelpTool\"}]},\"id\":\"9f255522-a82c-408a-849c-f5e9893d6e95\",\"type\":\"Toolbar\"},{\"attributes\":{\"plot\":null,\"text\":\"\"},\"id\":\"8f2c369d-f269-4a41-b5fb-f9694b80df02\",\"type\":\"Title\"},{\"attributes\":{},\"id\":\"fb2e301b-dcbf-4503-b0f4-fc775aa6e56d\",\"type\":\"LinearScale\"},{\"attributes\":{\"callback\":null},\"id\":\"983d6c7a-2e3f-4c12-a8d4-5c1d269f822a\",\"type\":\"DataRange1d\"},{\"attributes\":{},\"id\":\"2636af9a-0580-4a21-9cef-15acadee6170\",\"type\":\"BasicTickFormatter\"},{\"attributes\":{},\"id\":\"19505a90-cb29-4da9-b420-97e6b8573fba\",\"type\":\"LinearScale\"},{\"attributes\":{},\"id\":\"13ed875f-be40-47b6-9aeb-5236ac8e5a99\",\"type\":\"HelpTool\"},{\"attributes\":{},\"id\":\"d139aec7-8e14-46d7-8dbe-a3fe5c4365e0\",\"type\":\"ResetTool\"},{\"attributes\":{\"data_source\":{\"id\":\"d3a23de5-87d1-4b68-862d-d93f9ef4f0ce\",\"type\":\"ColumnDataSource\"},\"glyph\":{\"id\":\"4c22b24d-a408-4405-bc56-c74ab2c1d086\",\"type\":\"Circle\"},\"hover_glyph\":null,\"muted_glyph\":null,\"nonselection_glyph\":{\"id\":\"bee94252-4b7a-4d06-892c-4811d98da358\",\"type\":\"Circle\"},\"selection_glyph\":null,\"view\":{\"id\":\"a3b4821b-f0d7-4e49-8ed8-73960f2d5026\",\"type\":\"CDSView\"}},\"id\":\"7bf45cb8-8245-47d7-8460-fe429abf7a42\",\"type\":\"GlyphRenderer\"},{\"attributes\":{\"dimension\":1,\"plot\":{\"id\":\"3cce9248-b540-4a2a-bd46-1bb5e7e519b9\",\"subtype\":\"Figure\",\"type\":\"Plot\"},\"ticker\":{\"id\":\"6b4df454-5574-408a-9910-8c2140257ec4\",\"type\":\"BasicTicker\"}},\"id\":\"d871fd83-23f7-4a6a-bc3f-383ce16b996c\",\"type\":\"Grid\"},{\"attributes\":{},\"id\":\"6b4df454-5574-408a-9910-8c2140257ec4\",\"type\":\"BasicTicker\"},{\"attributes\":{\"fill_alpha\":{\"value\":0.8},\"fill_color\":{\"value\":\"#1f77b4\"},\"size\":{\"units\":\"screen\",\"value\":12},\"x\":{\"field\":\"x\"},\"y\":{\"field\":\"y\"}},\"id\":\"4c22b24d-a408-4405-bc56-c74ab2c1d086\",\"type\":\"Circle\"},{\"attributes\":{},\"id\":\"5cc3f73c-7dc4-486f-9ea8-c83b1d85dec2\",\"type\":\"PanTool\"},{\"attributes\":{\"callback\":null,\"data\":{\"index\":[0,1,2,3,4,5,6,7,8,9,10,11,12,13,14,15,16,17,18,19,20,21,22,23,24,25,26,27,28,29,30,31,32,33,34,35,36,37,38,39,40,41,42,43,44,45,46,47,48,49,50,51,52,53,54,55,56,57,58,59,60,61,62,63,64,65,66,67,68,69,70,71,72,73,74,75,76,77,78,79,80,81,82,83,84,85,86,87,88,89,90,91,92,93,94,95,96,97,98,99,100,101,102,103,104,105,106,107,108,109,110,111,112,113,114,115,116,117,118,119,120,121,122,123,124,125,126,127,128,129,130,131,132,133,134,135,136,137,138,139,140,141,142,143,144,145,146,147,148,149,150,151,152,153,154,155,156,157,158,159,160,161,162,163,164,165,166,167,168,169,170,171,172,173,174,175,176,177,178,179,180,181,182,183,184,185,186,187,188,189,190,191,192,193,194,195,196,197,198,199,200,201,202,203,204,205,206,207,208,209,210,211,212,213,214,215,216,217,218,219,220,221,222,223,224,225,226,227,228,229,230,231,232,233,234,235,236,237,238,239,240,241,242,243,244,245,246,247,248,249,250,251,252,253,254,255,256,257,258,259,260,261,262,263,264,265,266,267,268,269,270,271,272,273,274,275,276,277,278,279,280,281,282,283,284,285,286,287,288,289,290,291,292,293,294,295,296,297,298,299,300,301,302,303,304,305,306,307,308,309,310,311,312,313,314,315,316,317,318,319,320,321,322,323,324,325,326,327,328,329,330,331,332,333,334],\"word\":[\"aana\",\"absolutely\",\"acoustic\",\"addictive\",\"age\",\"album\",\"alsolike\",\"alternative\",\"amazing\",\"ambient\",\"american\",\"anime\",\"art\",\"artist\",\"artists\",\"asian\",\"atmospheric\",\"australian\",\"avant-garde\",\"awesome\",\"awesome-ness\",\"b-side\",\"babe\",\"ballad\",\"bands\",\"barkbarkdisco\",\"beautiful\",\"beowulfs\",\"best\",\"better\",\"beyonce\",\"blend\",\"blues\",\"brasil\",\"brazil\",\"brazilian\",\"brilliant\",\"british\",\"britney\",\"britpop\",\"brutal\",\"california\",\"canadian\",\"catchy\",\"chill\",\"chillout\",\"choice\",\"christian\",\"christmas\",\"classic\",\"classical\",\"club\",\"college\",\"composer\",\"cool\",\"country\",\"cover\",\"covers\",\"crazy\",\"cute\",\"daha\",\"dance\",\"dance-pop\",\"dark\",\"darkwave\",\"death\",\"deathcore\",\"depeche\",\"descoperiri\",\"diaries\",\"dich\",\"dinlicem\",\"disco\",\"disney\",\"diva\",\"doom\",\"dope\",\"downtempo\",\"dream\",\"dreampop\",\"dreamy\",\"dub\",\"duet\",\"duets\",\"easy\",\"eighties\",\"electro\",\"electroclash\",\"electronic\",\"electronica\",\"electropop\",\"emo\",\"emocore\",\"emotional\",\"energetic\",\"england\",\"english\",\"epic\",\"ethereal\",\"eurodance\",\"experimental\",\"fantastic\",\"fav\",\"fave\",\"faves\",\"favorite\",\"favorites\",\"favourite\",\"favourites\",\"feelings\",\"female\",\"finnish\",\"folk\",\"french\",\"friends\",\"fronted\",\"fucking\",\"fun\",\"funk\",\"funny\",\"furtado\",\"future\",\"futurepop\",\"gangsta\",\"garage\",\"gay\",\"genius\",\"german\",\"gil\",\"girl\",\"glam\",\"good\",\"gospel\",\"gossip\",\"goth\",\"gothic\",\"great\",\"grunge\",\"guilty\",\"guitar\",\"hair\",\"halloween\",\"handclaps\",\"happy\",\"hard\",\"hardcore\",\"harmonies\",\"heavy\",\"hip\",\"hip-hop\",\"hit\",\"hop\",\"hot\",\"house\",\"hypnotic\",\"icelandic\",\"ich\",\"idm\",\"idol\",\"idolo\",\"indie\",\"indietronica\",\"industrial\",\"inlove\",\"instrumental\",\"irish\",\"italian\",\"ive\",\"j-pop\",\"japanese\",\"jazz\",\"jet\",\"jpop\",\"jukebox\",\"justin\",\"latin\",\"legend\",\"legends\",\"liebe\",\"listen\",\"listened\",\"listening\",\"live\",\"lo-fi\",\"lol\",\"lounge\",\"love\",\"loved\",\"lovely\",\"lpa\",\"luv\",\"lyrics\",\"madonna\",\"male\",\"marisa\",\"masterpiece\",\"melancholic\",\"melancholy\",\"mellow\",\"melodic\",\"melrose\",\"memories\",\"metal\",\"metalcore\",\"metallica\",\"minimal\",\"miserable\",\"mix\",\"mmey\",\"mode\",\"modern\",\"mpb\",\"music\",\"nelly\",\"neon\",\"new\",\"nice\",\"noise\",\"nostalgic\",\"nu-metal\",\"obsessed\",\"ohmydamn\",\"old\",\"oldies\",\"oui\",\"party\",\"perfect\",\"phat\",\"piano\",\"place\",\"pleasure\",\"pleasures\",\"pop\",\"pop-rock\",\"popular\",\"post\",\"post-grunge\",\"post-hardcore\",\"post-punk\",\"post-rock\",\"power\",\"powerful\",\"powerpop\",\"prejebeno\",\"progressive\",\"project\",\"proto-punk\",\"psychedelic\",\"punk\",\"radio\",\"rain\",\"rap\",\"rave\",\"reggae\",\"relax\",\"relaxing\",\"remember\",\"remix\",\"rhythm\",\"rnb\",\"rock\",\"roll\",\"romantic\",\"row\",\"sad\",\"school\",\"scottish\",\"screamo\",\"seen\",\"sensual\",\"set\",\"sex\",\"sexy\",\"shit\",\"shoegaze\",\"sick\",\"singalong\",\"singer-songwriter\",\"single\",\"singles\",\"siss\",\"ska\",\"slowies\",\"smooth\",\"soft\",\"solo\",\"song\",\"songs\",\"soul\",\"soundtrack\",\"space\",\"spanish\",\"spears\",\"special\",\"specials\",\"speed\",\"stic\",\"stoner\",\"straight\",\"stuff\",\"summer\",\"swedish\",\"sweet\",\"symphonic\",\"synth\",\"synthpop\",\"tbu\",\"techno\",\"teen\",\"thrash\",\"timberlake\",\"times\",\"tinosoft\",\"tracks\",\"trance\",\"trip-hop\",\"twilight\",\"ultimate\",\"underrated\",\"urban\",\"usa\",\"vampire\",\"virtuoso\",\"vocal\",\"vocalist\",\"vocalists\",\"vocals\",\"voices\",\"want\",\"wave\",\"weekly\",\"world\",\"york\",\"zinq\",\"zone\"],\"x\":{\"__ndarray__\":\"8CibSvAL8z8aApRUsdv/P1ZIHDrMECVArgs78nBTAkDH4vqiCxrTP8bJuZqDauY/OVxd4skB4z/PVjg2pWI6QLyIrOUilyBAQKHpfBKUBUAc5Ri6Xp0gQJPqLeiBiuI/koaVLPCD8T+nC1P8SdvwP5RVlo7hivQ/A6u+jdATtj/dJ4WA1BkIQAbPOHjjEdA/5ZJNHyZC8T8AjtZa+/EqQPstOEUfjeo/3G8gKn0A/D9lRYlIhDXqP3akD0vLXRVAzFJ0g0Lc+T9fB5qGvx3eP8UFK3c5hSFA2KWYzW9E5z9jmBboKQwdQEgyGCwCyPU/8GvoLPoH3j82aPdBo/fQP4xfBywZ8QlAWy3X/cH42T8gBW40EBrJP28oR52OkfA/2DTmLgrLB0Bp1zTWLncYQLt6ZvymodU/YaxUxfRHEECxKR1hu9/IP3uqaDJSNec/QBK3wR1k8j/Sk7imVd8WQMLyYSIqvAdAwOGmOxSxGEDYpZjNb0TnP7OB5SXc7O4/0tlaA8jcBECi5iv4U7cfQJfLT5/7kuQ/a8F7A7Mf6T876Wop1WbnP3VuC4bQ1sc/Tl1XzPOSHUB0pCynIdX2P4uIExoB+RlA2m0AMRSiEECiWGnKQXXhPySwIvktCAVA/qpBFfoT4D/FUv/F5CodQCUVF5MOFPE/EnTnKTWS9D/EAKwQDOfaP6cumfDYNuk/P706RQW7nz/OOw/Z4jbUP4uzafIoKeM/5tsOWlIQ9D+NTjOhtCnwP/6qQRX6E+A/nmCQUXYh9D+AkWm5EhjlP/9GW23K5vw/OoV8lmgTxT/02V+sh/2wPzN+K7pBOeg/pJC2BI9H9D+0iotLEy/VP1mFmZsQ/QJAOoVE2+vE8D9VScuWF9jnP9kxoX7Sx9Q/uMTOBk+u5j/DvWYXmQftPynxAXNRNQ5AV8wLhRqr2D8iY2ZuXkodQPBwHfoyQQpAgqbJEx+fAEC+NAGitNIQQMv33dUBdN0/SIAIp2IvAUC+jzvcIjD2Pza/t7/BTt4/ZKWHOsXWCUDR6oEK3xgWQBW5JCYMM+4/fXTLpXDfzj85Ys156SIRQHnK5OXMwfs/opKdrXg/AEA87aeOyhL2Pw6wh673K/A/mXiO2NsbJkBzjRv0fyghQGgG1Om56gVA3LJPPVYfAkBFEOYetFHXP7dORG8l9zFARERrY4+W0D9sk6y+6j4VQIVV2VHQNtk/QE2CDMfM2D95iKiLiLPQP5m+/I68eQtALeHbYsKjEEDe/8trfUH1P+Sj7kulDeM/TfZ2KX8i5j85veR/1xbtP/IngWl+mtI/6dz4ubGQsT91rjv3GKT2PxnD9jmr9O0/A6sboTeCCkAHFu6n+lzSP6mkcQv2VeY/RYsi79lQBUAw9SeunH8FQF1b0tIxY/I/3uIso20y2z9nU9L4pu/5P2IV/PujduA/5o0KONhdAECVTfs4NFIXQP1IzpaHFANAZgdtxVMQEUAALNW2MxIGQBrxaljcnd0/cuN5Zzpx6j8BBQu7UrLqPyJw3KJYVg1Ai/S/hL6fGUDx4A8OdWL/P/gn0nK97No/zZ3y5LI9AkB/iOysGa/1P4K8GnZ1df0/eItWP1hO7z9/iOysGa/1P06M8ES0CAFAdFRKKAnE9j8muPai4G33P4OEG8W1YNE/jU4zobQp8D9JATqg6CvgP2Wuoqgo+uU/XAP/X7xY9T/1LZBMKEM5QIFfbm2yZ+4/hNfw4rQz9D8XMh70pfDqP4qV9hjsdhBA4U5Qk83i1D+Hs2mrhLqyP+a9jx28Bvc/Qu+QlJnurz86pyUOray2PyambvqSr/s/Ob3kf9cW7T9C75CUme6vP6k41HvR9/s/rq3WctHO4T8SyfC0+mv1P1+R+baTyQJAmSXqD+Nv9j+NTjOhtCnwP70/aQ6ZORxAZeQthiGW8j+4xM4GT67mP8p5C4SdjC5AhLe40dzM5j8il4YuS1/cP/gUYcSx+tE/vsjoMDpaOEA+BMtAa8nyP/yhmVLrqANAIgoxR4My+z+xDKPICiryP3xss+O+6vc/bfjMEBP45z8ghCERQ1clQBNaKtxYa/M/Y3Bzdp3e+j+298v9DqYKQD0IMiuQPv4/c27SUVZ3GUCXLkk6J1P4P2XTMG9xj/A/Z5aN+VLTB0BJrFEvyS0rQAOBWiw9h+A/SDIYLALI9T/PBT/xi+XAP9MHzDB/j+A/E1oq3Fhr8z9Thy1oIq3iP847D9niNtQ/48Yxeb2l+j/xNE3kaCnFP6VbaaXo6dM/TfZ2KX8i5j9dGwrs6kPTPxDoDF0pWh5AsijPQCeQ7j8ONsgpoLfsP+WBjf3cs/Y//CIuPMEe4D/mvY8dvAb3PyWqKO3WcPA/ij5UXqLRAEAnMYagpWf0PwmkqikAQfo/BZjKT13T+z+wMvJJrDkQQKxhzBFLUbg/aqkf4H7iFUBl0zBvcY/wP3JwQQ22JwFAVJ6YffH4AEBcLq8OaO1BQJ7ab5Q6uOg/qxu8PN9r6T+BDK2mUs/zP0VgexUTRu4/WjmDhEBk4j+W6/0yqEIJQPcb4XlWk+o/o7EIimJfCUCMvOE8T/bqPwxbHia4CvI/2detoGpb7D/Dj4KVht4UQKk41HvR9/s/RBOZjlsn1j/JkMFOkSkRQCHY3Vg5NSVAOb3kf9cW7T++7KNUEVnxP5TjyFjSrPI/RPXgFa8c0z9cX/6kGtfMPx/Khk4GUwJA0FcrDNrVAkBnTZSENprkP+zDXNgiiQdAYW0ZaBLmyD9mjOA5y4YDQNGIcLtD6FRAkuh8OZOKEUAy1pORPJ8RQGXkLYYhlvI/fzlG1J+wF0BYSMvOELviPzoCxDjbat0/DCGTDl3E5T/DDvJ8MAcmQPPWv70r/eA/Ob3kf9cW7T9wmnwCvE/9P0B2PswPvRZAMmO+gi7BwT85f+rGHtDkPwq1Z4z67sw/80Km+v0r/D8o6+sU3m8eQDy+WoNHrvY/gKKBTcHW8j+ditDQh07xPx9GiBHqtdw/ixUz6BCk8j9vTpGODinOP4aSl7ydtgxAftfgm7xm8D/px/FUpy0RQIbkensddyxA+rKfXu67AkCuK6uUKb8ZQOgW7r3+x/E/rItMS3Y14T+7emb8pqHVP6KKVjgnGPA/U4ctaCKt4j+GzFBzqqPZP2V4VTZRTe0/xAi8DtQe2j/q0UxkOWz7PwarFuADusA/1t6aemKjBUBztkxMtWDaPxgmidjsxQhAPI7D84aC3z9204o3ILP2P2CwehM4PwJAz3LAOkcV/T9myeiCo6TtPxSj4ncaAPU/V2QWN8TX4D+urdZy0c7hP/zOUob2VABA6BV13SJu+j8PuobTCAQHQMfEK+cbtuM/F8E7oEgQ9j8Shnn+s8PhP1tDMAwVm+4/dsrqz30w5z+2n5iwoHX4P1uZZS7H5RJA5tsOWlIQ9D8lxU4R9N3jP527bTdMVPc/0aPSNx/eGkCKtmMFdHssQLPA1eZNWvM/Y96nNcRZ8z/1ZBGnFez5P/Vq8yG+pxhAWCneZlaQ+j88tV3b8NDfP+P97oNZJ9g/USo1uNaK9D+OBnn6jx3pPw==\",\"dtype\":\"float64\",\"shape\":[335]},\"y\":{\"__ndarray__\":\"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\",\"dtype\":\"float64\",\"shape\":[335]}},\"selected\":{\"id\":\"51505a0c-ce68-4bd1-98fb-a678488680a8\",\"type\":\"Selection\"},\"selection_policy\":{\"id\":\"72e3349d-c1ef-4d51-bcf2-ddb364cfa8c9\",\"type\":\"UnionRenderers\"}},\"id\":\"d3a23de5-87d1-4b68-862d-d93f9ef4f0ce\",\"type\":\"ColumnDataSource\"},{\"attributes\":{\"bottom_units\":\"screen\",\"fill_alpha\":{\"value\":0.5},\"fill_color\":{\"value\":\"lightgrey\"},\"left_units\":\"screen\",\"level\":\"overlay\",\"line_alpha\":{\"value\":1.0},\"line_color\":{\"value\":\"black\"},\"line_dash\":[4,4],\"line_width\":{\"value\":2},\"plot\":null,\"render_mode\":\"css\",\"right_units\":\"screen\",\"top_units\":\"screen\"},\"id\":\"712b519b-2811-48e9-8710-7bf6bd000c2d\",\"type\":\"BoxAnnotation\"},{\"attributes\":{\"below\":[{\"id\":\"90ab4429-f183-47b1-8ce0-224dc64c1b2a\",\"type\":\"LinearAxis\"}],\"left\":[{\"id\":\"f921db80-6f9e-46ac-9e8c-1561932acb0a\",\"type\":\"LinearAxis\"}],\"renderers\":[{\"id\":\"90ab4429-f183-47b1-8ce0-224dc64c1b2a\",\"type\":\"LinearAxis\"},{\"id\":\"683ba81e-9449-4385-a93e-934a09d344ff\",\"type\":\"Grid\"},{\"id\":\"f921db80-6f9e-46ac-9e8c-1561932acb0a\",\"type\":\"LinearAxis\"},{\"id\":\"d871fd83-23f7-4a6a-bc3f-383ce16b996c\",\"type\":\"Grid\"},{\"id\":\"712b519b-2811-48e9-8710-7bf6bd000c2d\",\"type\":\"BoxAnnotation\"},{\"id\":\"7bf45cb8-8245-47d7-8460-fe429abf7a42\",\"type\":\"GlyphRenderer\"},{\"id\":\"31ab45d6-8aee-4a34-8312-ba2c329b727e\",\"type\":\"LabelSet\"}],\"title\":{\"id\":\"8f2c369d-f269-4a41-b5fb-f9694b80df02\",\"type\":\"Title\"},\"toolbar\":{\"id\":\"9f255522-a82c-408a-849c-f5e9893d6e95\",\"type\":\"Toolbar\"},\"x_range\":{\"id\":\"983d6c7a-2e3f-4c12-a8d4-5c1d269f822a\",\"type\":\"DataRange1d\"},\"x_scale\":{\"id\":\"19505a90-cb29-4da9-b420-97e6b8573fba\",\"type\":\"LinearScale\"},\"y_range\":{\"id\":\"1be50095-dac5-4f09-9f21-3add59747e9c\",\"type\":\"DataRange1d\"},\"y_scale\":{\"id\":\"fb2e301b-dcbf-4503-b0f4-fc775aa6e56d\",\"type\":\"LinearScale\"}},\"id\":\"3cce9248-b540-4a2a-bd46-1bb5e7e519b9\",\"subtype\":\"Figure\",\"type\":\"Plot\"},{\"attributes\":{},\"id\":\"0ede030a-0f77-4f20-94b0-acbc5a5488b0\",\"type\":\"SaveTool\"}],\"root_ids\":[\"3cce9248-b540-4a2a-bd46-1bb5e7e519b9\"]},\"title\":\"Bokeh Application\",\"version\":\"0.13.0\"}};\n",
       "  var render_items = [{\"docid\":\"a2251632-57d3-4c8b-a207-bcf4800df293\",\"notebook_comms_target\":\"525520be-59bb-4d71-807f-015aeff13ae8\",\"roots\":{\"3cce9248-b540-4a2a-bd46-1bb5e7e519b9\":\"7d37926f-02fb-49c8-90ea-0f07a7226074\"}}];\n",
       "  root.Bokeh.embed.embed_items_notebook(docs_json, render_items);\n",
       "\n",
       "  }\n",
       "  if (root.Bokeh !== undefined) {\n",
       "    embed_document(root);\n",
       "  } else {\n",
       "    var attempts = 0;\n",
       "    var timer = setInterval(function(root) {\n",
       "      if (root.Bokeh !== undefined) {\n",
       "        embed_document(root);\n",
       "        clearInterval(timer);\n",
       "      }\n",
       "      attempts++;\n",
       "      if (attempts > 100) {\n",
       "        console.log(\"Bokeh: ERROR: Unable to run BokehJS code because BokehJS library is missing\")\n",
       "        clearInterval(timer);\n",
       "      }\n",
       "    }, 10, root)\n",
       "  }\n",
       "})(window);"
      ],
      "application/vnd.bokehjs_exec.v0+json": ""
     },
     "metadata": {
      "application/vnd.bokehjs_exec.v0+json": {
       "id": "3cce9248-b540-4a2a-bd46-1bb5e7e519b9"
      }
     },
     "output_type": "display_data"
    },
    {
     "data": {
      "text/html": [
       "<p><code>&lt;Bokeh Notebook handle for <strong>In[17]</strong>&gt;</code></p>"
      ],
      "text/plain": [
       "<bokeh.io.notebook.CommsHandle at 0x1a2d517208>"
      ]
     },
     "execution_count": 17,
     "metadata": {},
     "output_type": "execute_result"
    }
   ],
   "source": [
    "svd = TruncatedSVD(n_components=2)\n",
    "words_2d = svd.fit_transform(data_vectorized.T)\n",
    " \n",
    "df = pd.DataFrame(columns=['x', 'y', 'word'])\n",
    "df['x'], df['y'], df['word'] = words_2d[:,0], words_2d[:,1], vectorizer.get_feature_names()\n",
    " \n",
    "source = ColumnDataSource(ColumnDataSource.from_df(df))\n",
    "labels = LabelSet(x=\"x\", y=\"y\", text=\"word\", y_offset=8,\n",
    "                  text_font_size=\"8pt\", text_color=\"#555555\",\n",
    "                  source=source, text_align='center')\n",
    " \n",
    "plot = figure(plot_width=600, plot_height=600)\n",
    "plot.circle(\"x\", \"y\", size=12, source=source, line_color=\"black\", fill_alpha=0.8)\n",
    "plot.add_layout(labels)\n",
    "show(plot, notebook_handle=True)"
   ]
  },
  {
   "cell_type": "code",
   "execution_count": null,
   "metadata": {
    "collapsed": true
   },
   "outputs": [],
   "source": []
  },
  {
   "cell_type": "code",
   "execution_count": null,
   "metadata": {
    "collapsed": true
   },
   "outputs": [],
   "source": []
  },
  {
   "cell_type": "code",
   "execution_count": null,
   "metadata": {
    "collapsed": true
   },
   "outputs": [],
   "source": []
  }
 ],
 "metadata": {
  "kernelspec": {
   "display_name": "Python 3",
   "language": "python",
   "name": "python3"
  },
  "language_info": {
   "codemirror_mode": {
    "name": "ipython",
    "version": 3
   },
   "file_extension": ".py",
   "mimetype": "text/x-python",
   "name": "python",
   "nbconvert_exporter": "python",
   "pygments_lexer": "ipython3",
   "version": "3.6.6"
  }
 },
 "nbformat": 4,
 "nbformat_minor": 2
}
