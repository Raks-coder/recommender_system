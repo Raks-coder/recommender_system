{
 "cells": [
  {
   "cell_type": "code",
   "execution_count": 1,
   "metadata": {},
   "outputs": [
    {
     "data": {
      "text/plain": [
       "'/home/cipher000/anaconda3/envs/ipykernel_py3/bin/python'"
      ]
     },
     "execution_count": 1,
     "metadata": {},
     "output_type": "execute_result"
    }
   ],
   "source": [
    "import sys\n",
    "sys.executable"
   ]
  },
  {
   "cell_type": "code",
   "execution_count": 2,
   "metadata": {},
   "outputs": [],
   "source": [
    "import pylast\n",
    "import os\n",
    "\n"
   ]
  },
  {
   "cell_type": "code",
   "execution_count": 3,
   "metadata": {},
   "outputs": [],
   "source": [
    "API_KEY = os.getenv('LASTFM_API_KEY')\n",
    "API_SECRET = os.getenv('LASTFM_API_SECRET')\n",
    "username = os.getenv('LASTFM_username')\n",
    "password = os.getenv('LASTFM_password')"
   ]
  },
  {
   "cell_type": "code",
   "execution_count": 4,
   "metadata": {},
   "outputs": [],
   "source": [
    "password_hash = pylast.md5(password)\n",
    "network = pylast.LastFMNetwork(api_key=API_KEY,api_secret=API_SECRET,\n",
    "                              username=username,password_hash=password_hash)"
   ]
  },
  {
   "cell_type": "code",
   "execution_count": 8,
   "metadata": {},
   "outputs": [
    {
     "data": {
      "text/plain": [
       "pylast.LastFMNetwork('None', 'None', '', 'None', '6adf97f83acf6453d4a6a4b1070f3754')"
      ]
     },
     "execution_count": 8,
     "metadata": {},
     "output_type": "execute_result"
    }
   ],
   "source": [
    "network"
   ]
  },
  {
   "cell_type": "code",
   "execution_count": null,
   "metadata": {},
   "outputs": [],
   "source": [
    "artist = network.get_artist(\"System of a Down\")"
   ]
  },
  {
   "cell_type": "code",
   "execution_count": 7,
   "metadata": {},
   "outputs": [
    {
     "data": {
      "text/plain": [
       "pylast.Artist('System of a Down', pylast.LastFMNetwork('None', 'None', '', 'None', '6adf97f83acf6453d4a6a4b1070f3754'))"
      ]
     },
     "execution_count": 7,
     "metadata": {},
     "output_type": "execute_result"
    }
   ],
   "source": [
    "artist"
   ]
  },
  {
   "cell_type": "code",
   "execution_count": 5,
   "metadata": {},
   "outputs": [
    {
     "ename": "AttributeError",
     "evalue": "'Artist' object has no attribute 'shout'",
     "output_type": "error",
     "traceback": [
      "\u001b[0;31m---------------------------------------------------------------------------\u001b[0m",
      "\u001b[0;31mAttributeError\u001b[0m                            Traceback (most recent call last)",
      "\u001b[0;32m<ipython-input-5-c9e638fcc44e>\u001b[0m in \u001b[0;36m<module>\u001b[0;34m()\u001b[0m\n\u001b[1;32m      1\u001b[0m \u001b[0martist\u001b[0m \u001b[0;34m=\u001b[0m \u001b[0mnetwork\u001b[0m\u001b[0;34m.\u001b[0m\u001b[0mget_artist\u001b[0m\u001b[0;34m(\u001b[0m\u001b[0;34m\"System of a Down\"\u001b[0m\u001b[0;34m)\u001b[0m\u001b[0;34m\u001b[0m\u001b[0m\n\u001b[0;32m----> 2\u001b[0;31m \u001b[0martist\u001b[0m\u001b[0;34m.\u001b[0m\u001b[0mshout\u001b[0m\u001b[0;34m(\u001b[0m\u001b[0;34m'<3'\u001b[0m\u001b[0;34m)\u001b[0m\u001b[0;34m\u001b[0m\u001b[0m\n\u001b[0m",
      "\u001b[0;31mAttributeError\u001b[0m: 'Artist' object has no attribute 'shout'"
     ]
    }
   ],
   "source": [
    "artist.shout('<3')"
   ]
  },
  {
   "cell_type": "code",
   "execution_count": null,
   "metadata": {},
   "outputs": [],
   "source": [
    "track = network.get_track(\"Iron Maiden\",\"The Nomad\")\n",
    "track.love()\n",
    "track.add_tags((\"awesome\",\"favorite\"))"
   ]
  },
  {
   "cell_type": "code",
   "execution_count": 6,
   "metadata": {},
   "outputs": [
    {
     "name": "stdout",
     "output_type": "stream",
     "text": [
      "Help on class LastFMNetwork in module pylast:\n",
      "\n",
      "class LastFMNetwork(_Network)\n",
      " |  A Last.fm network object\n",
      " |  \n",
      " |  api_key: a provided API_KEY\n",
      " |  api_secret: a provided API_SECRET\n",
      " |  session_key: a generated session_key or None\n",
      " |  username: a username of a valid user\n",
      " |  password_hash: the output of pylast.md5(password) where password is the\n",
      " |      user's password\n",
      " |  \n",
      " |  if username and password_hash were provided and not session_key,\n",
      " |  session_key will be generated automatically when needed.\n",
      " |  \n",
      " |  Either a valid session_key or a combination of username and password_hash\n",
      " |  must be present for scrobbling.\n",
      " |  \n",
      " |  Most read-only webservices only require an api_key and an api_secret, see\n",
      " |  about obtaining them from:\n",
      " |  https://www.last.fm/api/account\n",
      " |  \n",
      " |  Method resolution order:\n",
      " |      LastFMNetwork\n",
      " |      _Network\n",
      " |      builtins.object\n",
      " |  \n",
      " |  Methods defined here:\n",
      " |  \n",
      " |  __init__(self, api_key='', api_secret='', session_key='', username='', password_hash='', token='')\n",
      " |      name: the name of the network\n",
      " |      homepage: the homepage URL\n",
      " |      ws_server: the URL of the webservices server\n",
      " |      api_key: a provided API_KEY\n",
      " |      api_secret: a provided API_SECRET\n",
      " |      session_key: a generated session_key or None\n",
      " |      username: a username of a valid user\n",
      " |      password_hash: the output of pylast.md5(password) where password is\n",
      " |          the user's password\n",
      " |      domain_names: a dict mapping each DOMAIN_* value to a string domain\n",
      " |          name\n",
      " |      urls: a dict mapping types to URLs\n",
      " |      token: an authentication token to retrieve a session\n",
      " |      \n",
      " |      if username and password_hash were provided and not session_key,\n",
      " |      session_key will be generated automatically when needed.\n",
      " |      \n",
      " |      Either a valid session_key or a combination of username and\n",
      " |      password_hash must be present for scrobbling.\n",
      " |      \n",
      " |      You should use a preconfigured network object through a\n",
      " |      get_*_network(...) method instead of creating an object\n",
      " |      of this class, unless you know what you're doing.\n",
      " |  \n",
      " |  __repr__(self)\n",
      " |      Return repr(self).\n",
      " |  \n",
      " |  ----------------------------------------------------------------------\n",
      " |  Methods inherited from _Network:\n",
      " |  \n",
      " |  __str__(self)\n",
      " |      Return str(self).\n",
      " |  \n",
      " |  disable_caching(self)\n",
      " |      Disables all caching features.\n",
      " |  \n",
      " |  disable_proxy(self)\n",
      " |      Disable using the web proxy\n",
      " |  \n",
      " |  disable_rate_limit(self)\n",
      " |      Disables rate limiting for this network\n",
      " |  \n",
      " |  enable_caching(self, file_path=None)\n",
      " |      Enables caching request-wide for all cacheable calls.\n",
      " |      \n",
      " |      * file_path: A file path for the backend storage file. If\n",
      " |      None set, a temp file would probably be created, according the backend.\n",
      " |  \n",
      " |  enable_proxy(self, host, port)\n",
      " |      Enable a default web proxy\n",
      " |  \n",
      " |  enable_rate_limit(self)\n",
      " |      Enables rate limiting for this network\n",
      " |  \n",
      " |  get_album(self, artist, title)\n",
      " |      Return an Album object\n",
      " |  \n",
      " |  get_album_by_mbid(self, mbid)\n",
      " |      Looks up an album by its MusicBrainz ID\n",
      " |  \n",
      " |  get_artist(self, artist_name)\n",
      " |      Return an Artist object\n",
      " |  \n",
      " |  get_artist_by_mbid(self, mbid)\n",
      " |      Looks up an artist by its MusicBrainz ID\n",
      " |  \n",
      " |  get_authenticated_user(self)\n",
      " |      Returns the authenticated user\n",
      " |  \n",
      " |  get_country(self, country_name)\n",
      " |      Returns a country object\n",
      " |  \n",
      " |  get_geo_top_artists(self, country, limit=None, cacheable=True)\n",
      " |      Get the most popular artists on Last.fm by country.\n",
      " |      Parameters:\n",
      " |      country (Required) : A country name, as defined by the ISO 3166-1\n",
      " |          country names standard.\n",
      " |      limit (Optional) : The number of results to fetch per page.\n",
      " |          Defaults to 50.\n",
      " |  \n",
      " |  get_geo_top_tracks(self, country, location=None, limit=None, cacheable=True)\n",
      " |      Get the most popular tracks on Last.fm last week by country.\n",
      " |      Parameters:\n",
      " |      country (Required) : A country name, as defined by the ISO 3166-1\n",
      " |          country names standard\n",
      " |      location (Optional) : A metro name, to fetch the charts for\n",
      " |          (must be within the country specified)\n",
      " |      limit (Optional) : The number of results to fetch per page.\n",
      " |          Defaults to 50.\n",
      " |  \n",
      " |  get_tag(self, name)\n",
      " |      Returns a tag object\n",
      " |  \n",
      " |  get_top_artists(self, limit=None, cacheable=True)\n",
      " |      Returns the most played artists as a sequence of TopItem objects.\n",
      " |  \n",
      " |  get_top_tags(self, limit=None, cacheable=True)\n",
      " |      Returns the most used tags as a sequence of TopItem objects.\n",
      " |  \n",
      " |  get_top_tracks(self, limit=None, cacheable=True)\n",
      " |      Returns the most played tracks as a sequence of TopItem objects.\n",
      " |  \n",
      " |  get_track(self, artist, title)\n",
      " |      Return a Track object\n",
      " |  \n",
      " |  get_track_by_mbid(self, mbid)\n",
      " |      Looks up a track by its MusicBrainz ID\n",
      " |  \n",
      " |  get_user(self, username)\n",
      " |      Returns a user object\n",
      " |  \n",
      " |  is_caching_enabled(self)\n",
      " |      Returns True if caching is enabled.\n",
      " |  \n",
      " |  is_proxy_enabled(self)\n",
      " |      Returns True if a web proxy is enabled.\n",
      " |  \n",
      " |  is_rate_limited(self)\n",
      " |      Return True if web service calls are rate limited\n",
      " |  \n",
      " |  scrobble(self, artist, title, timestamp, album=None, album_artist=None, track_number=None, duration=None, stream_id=None, context=None, mbid=None)\n",
      " |      Used to add a track-play to a user's profile.\n",
      " |      \n",
      " |      Parameters:\n",
      " |          artist (Required) : The artist name.\n",
      " |          title (Required) : The track name.\n",
      " |          timestamp (Required) : The time the track started playing, in UNIX\n",
      " |              timestamp format (integer number of seconds since 00:00:00,\n",
      " |              January 1st 1970 UTC). This must be in the UTC time zone.\n",
      " |          album (Optional) : The album name.\n",
      " |          album_artist (Optional) : The album artist - if this differs from\n",
      " |              the track artist.\n",
      " |          context (Optional) : Sub-client version (not public, only enabled\n",
      " |              for certain API keys)\n",
      " |          stream_id (Optional) : The stream id for this track received from\n",
      " |              the radio.getPlaylist service.\n",
      " |          track_number (Optional) : The track number of the track on the\n",
      " |              album.\n",
      " |          mbid (Optional) : The MusicBrainz Track ID.\n",
      " |          duration (Optional) : The length of the track in seconds.\n",
      " |  \n",
      " |  scrobble_many(self, tracks)\n",
      " |      Used to scrobble a batch of tracks at once. The parameter tracks is a\n",
      " |      sequence of dicts per track containing the keyword arguments as if\n",
      " |      passed to the scrobble() method.\n",
      " |  \n",
      " |  search_for_album(self, album_name)\n",
      " |      Searches for an album by its name. Returns a AlbumSearch object.\n",
      " |      Use get_next_page() to retrieve sequences of results.\n",
      " |  \n",
      " |  search_for_artist(self, artist_name)\n",
      " |      Searches of an artist by its name. Returns a ArtistSearch object.\n",
      " |      Use get_next_page() to retrieve sequences of results.\n",
      " |  \n",
      " |  search_for_track(self, artist_name, track_name)\n",
      " |      Searches of a track by its name and its artist. Set artist to an\n",
      " |      empty string if not available.\n",
      " |      Returns a TrackSearch object.\n",
      " |      Use get_next_page() to retrieve sequences of results.\n",
      " |  \n",
      " |  update_now_playing(self, artist, title, album=None, album_artist=None, duration=None, track_number=None, mbid=None, context=None)\n",
      " |      Used to notify Last.fm that a user has started listening to a track.\n",
      " |      \n",
      " |          Parameters:\n",
      " |              artist (Required) : The artist name\n",
      " |              title (Required) : The track title\n",
      " |              album (Optional) : The album name.\n",
      " |              album_artist (Optional) : The album artist - if this differs\n",
      " |                  from the track artist.\n",
      " |              duration (Optional) : The length of the track in seconds.\n",
      " |              track_number (Optional) : The track number of the track on the\n",
      " |                  album.\n",
      " |              mbid (Optional) : The MusicBrainz Track ID.\n",
      " |              context (Optional) : Sub-client version\n",
      " |                  (not public, only enabled for certain API keys)\n",
      " |  \n",
      " |  ----------------------------------------------------------------------\n",
      " |  Data descriptors inherited from _Network:\n",
      " |  \n",
      " |  __dict__\n",
      " |      dictionary for instance variables (if defined)\n",
      " |  \n",
      " |  __weakref__\n",
      " |      list of weak references to the object (if defined)\n",
      "\n"
     ]
    }
   ],
   "source": [
    "help(pylast.LastFMNetwork)"
   ]
  },
  {
   "cell_type": "code",
   "execution_count": null,
   "metadata": {},
   "outputs": [],
   "source": []
  },
  {
   "cell_type": "code",
   "execution_count": null,
   "metadata": {},
   "outputs": [],
   "source": []
  }
 ],
 "metadata": {
  "kernelspec": {
   "display_name": "Python 3",
   "language": "python",
   "name": "python3"
  },
  "language_info": {
   "codemirror_mode": {
    "name": "ipython",
    "version": 3
   },
   "file_extension": ".py",
   "mimetype": "text/x-python",
   "name": "python",
   "nbconvert_exporter": "python",
   "pygments_lexer": "ipython3",
   "version": "3.5.5"
  }
 },
 "nbformat": 4,
 "nbformat_minor": 2
}
