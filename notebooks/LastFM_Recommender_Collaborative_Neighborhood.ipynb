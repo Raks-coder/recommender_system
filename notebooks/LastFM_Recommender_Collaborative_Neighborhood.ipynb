{
 "cells": [
  {
   "cell_type": "markdown",
   "metadata": {},
   "source": [
    "# LastFM Recommendation System\n",
    "June [x] 2018\n",
    "\n",
    "Today we are going to walk through building a basic recommender system which, when given a music artist, will recommend similar artists. The dataset, obtained from LastFM in 2011, contains the play counts of 17,632 artists by 1,892 users, is available at [GroupLens](https://grouplens.org/datasets/hetrec-2011/) on behalf of [Lab41](https://github.com/Lab41/hermes/wiki/Datasets).\n",
    "\n",
    "There are two main types of recommender system: **content-based**, and **collaborative**. Content-based recommends based on past browsing history of similar items to provide recommendations, whereas collaborative takes data from similar users to provide recommendations.  \n",
    "\n",
    "Our basic recommender will be a collaborative recommender system, where we essentially build a sparse matrix comparing artist plays (rows) by user (columns). This data will then be passed through a latent mapping algorithm, such as K-nearest neighbors, to determine cosine similarity amongst the user/artist relationships.  This will help us determine which artists are most similar.  For instance, when a user plays the Beatles, they also have a high probability of playing the Rolling Stones.   "
   ]
  },
  {
   "cell_type": "markdown",
   "metadata": {},
   "source": [
    "### Import files and packages"
   ]
  },
  {
   "cell_type": "code",
   "execution_count": 1,
   "metadata": {
    "collapsed": true
   },
   "outputs": [],
   "source": [
    "# First we import our packages needed for this analysis\n",
    "import pandas as pd\n",
    "import numpy as np\n",
    "\n",
    "from scipy.sparse import csr_matrix # compressed Sparse Row matrix\n",
    "from sklearn.neighbors import NearestNeighbors # use K-Nearest Neighbors to find cosine distance amongst our artists\n",
    "from fuzzywuzzy import fuzz # fuzzy string matching so we allow for slight misspellings of artist names"
   ]
  },
  {
   "cell_type": "code",
   "execution_count": 2,
   "metadata": {
    "collapsed": true
   },
   "outputs": [],
   "source": [
    "# sets output to three decimals\n",
    "pd.set_option('display.float_format',lambda x: '%.3f' %x)"
   ]
  },
  {
   "cell_type": "code",
   "execution_count": 3,
   "metadata": {
    "collapsed": true
   },
   "outputs": [],
   "source": [
    "# Six csv files were provided, but we will only need two for our basic recommender system\n",
    "\n",
    "# using artists and play count per user\n",
    "artists = pd.read_csv('../data/artists.dat', sep='\\t',usecols=['id','name'])\n",
    "plays = pd.read_csv('../data/user_artists.dat', sep='\\t')\n",
    "\n",
    "# additional user data,for later analysis\n",
    "tags = pd.read_csv('../data/tags.dat', sep='\\t',encoding='latin-1')\n",
    "friends = pd.read_csv('../data/user_friends.dat', sep='\\t')\n",
    "utat = pd.read_csv('../data/user_taggedartists-timestamps.dat', sep=\"\\t\")\n",
    "uta = pd.read_csv('../data/user_taggedartists.dat', sep='\\t')"
   ]
  },
  {
   "cell_type": "markdown",
   "metadata": {},
   "source": [
    "### Exploratory Data Analysis (EDA)"
   ]
  },
  {
   "cell_type": "markdown",
   "metadata": {},
   "source": [
    "Analyze by:\n",
    "- Timestamp\n",
    "- Users\n",
    "- Friends\n",
    "- Tags\n",
    "- Artists"
   ]
  },
  {
   "cell_type": "code",
   "execution_count": 4,
   "metadata": {},
   "outputs": [
    {
     "name": "stdout",
     "output_type": "stream",
     "text": [
      "artists\n",
      "(17632, 2)\n",
      "Index(['id', 'name'], dtype='object')\n",
      "id      17632\n",
      "name    17632\n",
      "dtype: int64\n",
      "\n",
      "plays\n",
      "(92834, 3)\n",
      "Index(['userID', 'artistID', 'weight'], dtype='object')\n",
      "userID       1892\n",
      "artistID    17632\n",
      "weight       5436\n",
      "dtype: int64\n",
      "\n",
      "tags\n",
      "(11946, 2)\n",
      "Index(['tagID', 'tagValue'], dtype='object')\n",
      "tagID       11946\n",
      "tagValue    11946\n",
      "dtype: int64\n",
      "\n",
      "friends\n",
      "(25434, 2)\n",
      "Index(['userID', 'friendID'], dtype='object')\n",
      "userID      1892\n",
      "friendID    1892\n",
      "dtype: int64\n",
      "\n",
      "user_taggedartists-timestamps\n",
      "(186479, 4)\n",
      "Index(['userID', 'artistID', 'tagID', 'timestamp'], dtype='object')\n",
      "userID        1892\n",
      "artistID     12523\n",
      "tagID         9749\n",
      "timestamp     3549\n",
      "dtype: int64\n",
      "\n",
      "user_taggedartists\n",
      "(186479, 6)\n",
      "Index(['userID', 'artistID', 'tagID', 'day', 'month', 'year'], dtype='object')\n",
      "userID       1892\n",
      "artistID    12523\n",
      "tagID        9749\n",
      "day             4\n",
      "month          12\n",
      "year           10\n",
      "dtype: int64\n",
      "\n"
     ]
    }
   ],
   "source": [
    "# Explore specs of each file provided.  We will only use artists and plays in the basic system.\n",
    "csv_list = [artists, plays, tags, friends, utat,uta]\n",
    "csv_names = ['artists', 'plays', 'tags', 'friends', 'user_taggedartists-timestamps','user_taggedartists']\n",
    "for i in range(len(csv_list)):\n",
    "    name = csv_names[i]\n",
    "    shape = csv_list[i].shape\n",
    "    columns = csv_list[i].columns\n",
    "    unique = csv_list[i].nunique()\n",
    "    print(\"{}\\n{}\\n{}\\n{}\\n\".format(name, shape, columns,unique))"
   ]
  },
  {
   "cell_type": "markdown",
   "metadata": {},
   "source": [
    "Key features include:\n",
    "- userID\n",
    "- friendID\n",
    "- artistID, Name\n",
    "- weight (plays by user of artist)\n",
    "- tagID, tagValue\n",
    "\n",
    "Temporal:\n",
    "- timestamp\n",
    "- day, month, year"
   ]
  },
  {
   "cell_type": "markdown",
   "metadata": {},
   "source": [
    "### Preparing recsys sparse matrix"
   ]
  },
  {
   "cell_type": "code",
   "execution_count": 5,
   "metadata": {
    "collapsed": true
   },
   "outputs": [],
   "source": [
    "# merge artist and play files\n",
    "artist_plays = pd.merge(artists, plays,how='left',left_on='id',right_on='artistID')"
   ]
  },
  {
   "cell_type": "code",
   "execution_count": 6,
   "metadata": {},
   "outputs": [
    {
     "data": {
      "text/html": [
       "<div>\n",
       "<style scoped>\n",
       "    .dataframe tbody tr th:only-of-type {\n",
       "        vertical-align: middle;\n",
       "    }\n",
       "\n",
       "    .dataframe tbody tr th {\n",
       "        vertical-align: top;\n",
       "    }\n",
       "\n",
       "    .dataframe thead th {\n",
       "        text-align: right;\n",
       "    }\n",
       "</style>\n",
       "<table border=\"1\" class=\"dataframe\">\n",
       "  <thead>\n",
       "    <tr style=\"text-align: right;\">\n",
       "      <th></th>\n",
       "      <th>id</th>\n",
       "      <th>name</th>\n",
       "      <th>userID</th>\n",
       "      <th>artistID</th>\n",
       "      <th>weight</th>\n",
       "    </tr>\n",
       "  </thead>\n",
       "  <tbody>\n",
       "    <tr>\n",
       "      <th>0</th>\n",
       "      <td>1</td>\n",
       "      <td>MALICE MIZER</td>\n",
       "      <td>34</td>\n",
       "      <td>1</td>\n",
       "      <td>212</td>\n",
       "    </tr>\n",
       "    <tr>\n",
       "      <th>1</th>\n",
       "      <td>1</td>\n",
       "      <td>MALICE MIZER</td>\n",
       "      <td>274</td>\n",
       "      <td>1</td>\n",
       "      <td>483</td>\n",
       "    </tr>\n",
       "    <tr>\n",
       "      <th>2</th>\n",
       "      <td>1</td>\n",
       "      <td>MALICE MIZER</td>\n",
       "      <td>785</td>\n",
       "      <td>1</td>\n",
       "      <td>76</td>\n",
       "    </tr>\n",
       "    <tr>\n",
       "      <th>3</th>\n",
       "      <td>2</td>\n",
       "      <td>Diary of Dreams</td>\n",
       "      <td>135</td>\n",
       "      <td>2</td>\n",
       "      <td>1021</td>\n",
       "    </tr>\n",
       "    <tr>\n",
       "      <th>4</th>\n",
       "      <td>2</td>\n",
       "      <td>Diary of Dreams</td>\n",
       "      <td>257</td>\n",
       "      <td>2</td>\n",
       "      <td>152</td>\n",
       "    </tr>\n",
       "  </tbody>\n",
       "</table>\n",
       "</div>"
      ],
      "text/plain": [
       "   id             name  userID  artistID  weight\n",
       "0   1     MALICE MIZER      34         1     212\n",
       "1   1     MALICE MIZER     274         1     483\n",
       "2   1     MALICE MIZER     785         1      76\n",
       "3   2  Diary of Dreams     135         2    1021\n",
       "4   2  Diary of Dreams     257         2     152"
      ]
     },
     "execution_count": 6,
     "metadata": {},
     "output_type": "execute_result"
    }
   ],
   "source": [
    "artist_plays.head()"
   ]
  },
  {
   "cell_type": "code",
   "execution_count": 7,
   "metadata": {
    "collapsed": true
   },
   "outputs": [],
   "source": [
    "# Obtain total plays by artist\n",
    "ap2 = (artist_plays.groupby(['name'])['weight'].sum().reset_index().\n",
    "                rename(columns={'weight':'total_artist_plays','name':'artist_name'})\n",
    "               [['artist_name','total_artist_plays']])"
   ]
  },
  {
   "cell_type": "code",
   "execution_count": 8,
   "metadata": {},
   "outputs": [
    {
     "name": "stdout",
     "output_type": "stream",
     "text": [
      "     artist_name  total_artist_plays\n",
      "2151    Bon Jovi               43252\n"
     ]
    },
    {
     "data": {
      "text/html": [
       "<div>\n",
       "<style scoped>\n",
       "    .dataframe tbody tr th:only-of-type {\n",
       "        vertical-align: middle;\n",
       "    }\n",
       "\n",
       "    .dataframe tbody tr th {\n",
       "        vertical-align: top;\n",
       "    }\n",
       "\n",
       "    .dataframe thead th {\n",
       "        text-align: right;\n",
       "    }\n",
       "</style>\n",
       "<table border=\"1\" class=\"dataframe\">\n",
       "  <thead>\n",
       "    <tr style=\"text-align: right;\">\n",
       "      <th></th>\n",
       "      <th>artist_name</th>\n",
       "      <th>total_artist_plays</th>\n",
       "    </tr>\n",
       "  </thead>\n",
       "  <tbody>\n",
       "    <tr>\n",
       "      <th>0</th>\n",
       "      <td>!!!</td>\n",
       "      <td>2826</td>\n",
       "    </tr>\n",
       "    <tr>\n",
       "      <th>1</th>\n",
       "      <td>!DISTAIN</td>\n",
       "      <td>1257</td>\n",
       "    </tr>\n",
       "    <tr>\n",
       "      <th>2</th>\n",
       "      <td>!deladap</td>\n",
       "      <td>65</td>\n",
       "    </tr>\n",
       "    <tr>\n",
       "      <th>3</th>\n",
       "      <td>#####</td>\n",
       "      <td>3707</td>\n",
       "    </tr>\n",
       "    <tr>\n",
       "      <th>4</th>\n",
       "      <td>#2 Orchestra</td>\n",
       "      <td>144</td>\n",
       "    </tr>\n",
       "  </tbody>\n",
       "</table>\n",
       "</div>"
      ],
      "text/plain": [
       "    artist_name  total_artist_plays\n",
       "0           !!!                2826\n",
       "1      !DISTAIN                1257\n",
       "2      !deladap                  65\n",
       "3         #####                3707\n",
       "4  #2 Orchestra                 144"
      ]
     },
     "execution_count": 8,
     "metadata": {},
     "output_type": "execute_result"
    }
   ],
   "source": [
    "print(ap2[ap2['artist_name']=='Bon Jovi'])\n",
    "ap2.head()"
   ]
  },
  {
   "cell_type": "code",
   "execution_count": 9,
   "metadata": {
    "collapsed": true
   },
   "outputs": [],
   "source": [
    "# merge plays by artist with plays by user\n",
    "user_data_with_artist_plays = artist_plays.merge(ap2, left_on='name',right_on='artist_name',how='left')[['userID','artist_name','weight','total_artist_plays']]"
   ]
  },
  {
   "cell_type": "code",
   "execution_count": 10,
   "metadata": {},
   "outputs": [
    {
     "data": {
      "text/plain": [
       "count     17632.000\n",
       "mean       3923.774\n",
       "std       34099.342\n",
       "min           1.000\n",
       "25%         113.000\n",
       "50%         350.000\n",
       "75%        1234.250\n",
       "max     2393140.000\n",
       "Name: total_artist_plays, dtype: float64"
      ]
     },
     "execution_count": 10,
     "metadata": {},
     "output_type": "execute_result"
    }
   ],
   "source": [
    "# On average, each artist is played 350 times\n",
    "ap2['total_artist_plays'].describe()"
   ]
  },
  {
   "cell_type": "code",
   "execution_count": 11,
   "metadata": {},
   "outputs": [
    {
     "data": {
      "text/html": [
       "<div>\n",
       "<style scoped>\n",
       "    .dataframe tbody tr th:only-of-type {\n",
       "        vertical-align: middle;\n",
       "    }\n",
       "\n",
       "    .dataframe tbody tr th {\n",
       "        vertical-align: top;\n",
       "    }\n",
       "\n",
       "    .dataframe thead th {\n",
       "        text-align: right;\n",
       "    }\n",
       "</style>\n",
       "<table border=\"1\" class=\"dataframe\">\n",
       "  <thead>\n",
       "    <tr style=\"text-align: right;\">\n",
       "      <th></th>\n",
       "      <th>artist_name</th>\n",
       "      <th>total_artist_plays</th>\n",
       "    </tr>\n",
       "  </thead>\n",
       "  <tbody>\n",
       "    <tr>\n",
       "      <th>2336</th>\n",
       "      <td>Britney Spears</td>\n",
       "      <td>2393140</td>\n",
       "    </tr>\n",
       "  </tbody>\n",
       "</table>\n",
       "</div>"
      ],
      "text/plain": [
       "         artist_name  total_artist_plays\n",
       "2336  Britney Spears             2393140"
      ]
     },
     "execution_count": 11,
     "metadata": {},
     "output_type": "execute_result"
    }
   ],
   "source": [
    "# The maximum number of plays belongs to Britney Spears\n",
    "ap2[ap2['total_artist_plays']==max(ap2['total_artist_plays'])]"
   ]
  },
  {
   "cell_type": "code",
   "execution_count": 12,
   "metadata": {},
   "outputs": [
    {
     "data": {
      "text/plain": [
       "0.900    4645.400\n",
       "0.910    5350.680\n",
       "0.920    6193.000\n",
       "0.930    7320.640\n",
       "0.940    8685.280\n",
       "0.950   10693.400\n",
       "0.960   14257.800\n",
       "0.970   18969.740\n",
       "0.980   30137.940\n",
       "0.990   60096.010\n",
       "Name: total_artist_plays, dtype: float64"
      ]
     },
     "execution_count": 12,
     "metadata": {},
     "output_type": "execute_result"
    }
   ],
   "source": [
    "# artists at the 95th percentile are played ~10,000 times\n",
    "ap2['total_artist_plays'].quantile(np.arange(.9,1.,.01))"
   ]
  },
  {
   "cell_type": "code",
   "execution_count": 13,
   "metadata": {
    "collapsed": true
   },
   "outputs": [],
   "source": [
    "# We set our popularity threshold to capture the most popular artists; this is to reduce noise and improve accuracy\n",
    "popularity_threshold = 0\n",
    "udpa = user_data_with_artist_plays[user_data_with_artist_plays['total_artist_plays']>popularity_threshold]\n",
    "udpa2 = udpa.sort_values(['userID','weight'],ascending=False)"
   ]
  },
  {
   "cell_type": "code",
   "execution_count": 14,
   "metadata": {},
   "outputs": [
    {
     "data": {
      "text/html": [
       "<div>\n",
       "<style scoped>\n",
       "    .dataframe tbody tr th:only-of-type {\n",
       "        vertical-align: middle;\n",
       "    }\n",
       "\n",
       "    .dataframe tbody tr th {\n",
       "        vertical-align: top;\n",
       "    }\n",
       "\n",
       "    .dataframe thead th {\n",
       "        text-align: right;\n",
       "    }\n",
       "</style>\n",
       "<table border=\"1\" class=\"dataframe\">\n",
       "  <thead>\n",
       "    <tr style=\"text-align: right;\">\n",
       "      <th></th>\n",
       "      <th>userID</th>\n",
       "      <th>artist_name</th>\n",
       "      <th>weight</th>\n",
       "      <th>total_artist_plays</th>\n",
       "    </tr>\n",
       "  </thead>\n",
       "  <tbody>\n",
       "    <tr>\n",
       "      <th>69353</th>\n",
       "      <td>2100</td>\n",
       "      <td>Burzum</td>\n",
       "      <td>2026</td>\n",
       "      <td>8687</td>\n",
       "    </tr>\n",
       "    <tr>\n",
       "      <th>46730</th>\n",
       "      <td>2100</td>\n",
       "      <td>Marduk</td>\n",
       "      <td>1459</td>\n",
       "      <td>7207</td>\n",
       "    </tr>\n",
       "    <tr>\n",
       "      <th>44041</th>\n",
       "      <td>2100</td>\n",
       "      <td>Yann Tiersen</td>\n",
       "      <td>1333</td>\n",
       "      <td>43972</td>\n",
       "    </tr>\n",
       "    <tr>\n",
       "      <th>234</th>\n",
       "      <td>2100</td>\n",
       "      <td>Behemoth</td>\n",
       "      <td>1253</td>\n",
       "      <td>9564</td>\n",
       "    </tr>\n",
       "    <tr>\n",
       "      <th>44672</th>\n",
       "      <td>2100</td>\n",
       "      <td>Agalloch</td>\n",
       "      <td>1213</td>\n",
       "      <td>8587</td>\n",
       "    </tr>\n",
       "  </tbody>\n",
       "</table>\n",
       "</div>"
      ],
      "text/plain": [
       "       userID   artist_name  weight  total_artist_plays\n",
       "69353    2100        Burzum    2026                8687\n",
       "46730    2100        Marduk    1459                7207\n",
       "44041    2100  Yann Tiersen    1333               43972\n",
       "234      2100      Behemoth    1253                9564\n",
       "44672    2100      Agalloch    1213                8587"
      ]
     },
     "execution_count": 14,
     "metadata": {},
     "output_type": "execute_result"
    }
   ],
   "source": [
    "udpa2.head()"
   ]
  },
  {
   "cell_type": "code",
   "execution_count": 15,
   "metadata": {},
   "outputs": [
    {
     "data": {
      "text/plain": [
       "(92834, 4)"
      ]
     },
     "execution_count": 15,
     "metadata": {},
     "output_type": "execute_result"
    }
   ],
   "source": [
    "udpa2.shape"
   ]
  },
  {
   "cell_type": "code",
   "execution_count": 16,
   "metadata": {},
   "outputs": [
    {
     "data": {
      "text/plain": [
       "userID                 1892\n",
       "artist_name           17632\n",
       "weight                 5436\n",
       "total_artist_plays     4600\n",
       "dtype: int64"
      ]
     },
     "execution_count": 16,
     "metadata": {},
     "output_type": "execute_result"
    }
   ],
   "source": [
    "udpa2.nunique()"
   ]
  },
  {
   "cell_type": "code",
   "execution_count": 17,
   "metadata": {
    "collapsed": true
   },
   "outputs": [],
   "source": [
    "# confirm no duplicate rows\n",
    "assert udpa[udpa.duplicated(['userID','artist_name'])].empty "
   ]
  },
  {
   "cell_type": "code",
   "execution_count": 18,
   "metadata": {},
   "outputs": [
    {
     "data": {
      "text/plain": [
       "(17632, 1892)"
      ]
     },
     "execution_count": 18,
     "metadata": {},
     "output_type": "execute_result"
    }
   ],
   "source": [
    "# fit data into a sparse matrix of artist name (rows) vs user (columns) in terms of number of plays\n",
    "wide_artist_data = udpa2.pivot(index='artist_name',columns='userID',values='weight').fillna(0)\n",
    "wide_artist_data_sparse = csr_matrix(wide_artist_data.values)\n",
    "wide_artist_data_sparse.shape"
   ]
  },
  {
   "cell_type": "code",
   "execution_count": 19,
   "metadata": {},
   "outputs": [
    {
     "data": {
      "text/plain": [
       "NearestNeighbors(algorithm='auto', leaf_size=30, metric='cosine',\n",
       "         metric_params=None, n_jobs=1, n_neighbors=5, p=2, radius=1.0)"
      ]
     },
     "execution_count": 19,
     "metadata": {},
     "output_type": "execute_result"
    }
   ],
   "source": [
    "# We use K Nearest Neighbors to determine cosine distance amongst artists\n",
    "model_knn = NearestNeighbors(metric='cosine',algorithm='auto')\n",
    "model_knn.fit(wide_artist_data_sparse)"
   ]
  },
  {
   "cell_type": "code",
   "execution_count": 20,
   "metadata": {},
   "outputs": [
    {
     "name": "stdout",
     "output_type": "stream",
     "text": [
      "Recommendations for Łzy:\n",
      "\n",
      "1: Patrizio Buanne, with distance of 0.044299594941919485\n",
      "2: Tina Arena, with distance of 0.044299594941919485\n",
      "3: Varius Manx, with distance of 0.044299594941919485\n",
      "4: Feel, with distance of 0.044299594941919485\n",
      "5: Bajm, with distance of 0.044299594941919485\n"
     ]
    }
   ],
   "source": [
    "query_index = np.random.choice(wide_artist_data.shape[0])\n",
    "distances, indices = model_knn.kneighbors(wide_artist_data.iloc[query_index,:].values.reshape(1,-1),n_neighbors=6)\n",
    "\n",
    "for i in range(0, len(distances.flatten())):\n",
    "    if i == 0:\n",
    "        print('Recommendations for {0}:\\n'.format(wide_artist_data.index[query_index]))\n",
    "    else:\n",
    "        print('{0}: {1}, with distance of {2}'.format(i, wide_artist_data.index[indices.flatten()[i]],distances.flatten()[i]))"
   ]
  },
  {
   "cell_type": "code",
   "execution_count": 21,
   "metadata": {
    "collapsed": true
   },
   "outputs": [],
   "source": [
    "# we convert number of plays of artist by user to a binary classification, played (1) or not played (0)\n",
    "wide_artist_data_binary = wide_artist_data.apply(np.sign)\n",
    "wide_artist_data_binary_sparse = csr_matrix(wide_artist_data_binary.values)"
   ]
  },
  {
   "cell_type": "code",
   "execution_count": 22,
   "metadata": {},
   "outputs": [
    {
     "data": {
      "text/plain": [
       "NearestNeighbors(algorithm='auto', leaf_size=30, metric='cosine',\n",
       "         metric_params=None, n_jobs=1, n_neighbors=5, p=2, radius=1.0)"
      ]
     },
     "execution_count": 22,
     "metadata": {},
     "output_type": "execute_result"
    }
   ],
   "source": [
    "model_nn_binary = NearestNeighbors(metric='cosine',algorithm='auto')\n",
    "model_nn_binary.fit(wide_artist_data_binary_sparse)"
   ]
  },
  {
   "cell_type": "code",
   "execution_count": 23,
   "metadata": {},
   "outputs": [
    {
     "name": "stdout",
     "output_type": "stream",
     "text": [
      "Recommendations for Łzy:\n",
      "\n",
      "1: Feel, with distance of 0.29289321881345254\n",
      "2: Varius Manx, with distance of 0.29289321881345254\n",
      "3: Patrick Fiori, with distance of 0.29289321881345254\n",
      "4: Patrizio Buanne, with distance of 0.29289321881345254\n",
      "5: Garou, with distance of 0.29289321881345254\n"
     ]
    }
   ],
   "source": [
    "distances, indices = model_nn_binary.kneighbors(wide_artist_data_binary.iloc[query_index,:].values.reshape(1,-1),n_neighbors=6)\n",
    "\n",
    "for i in range(0, len(distances.flatten())):\n",
    "    if i == 0:\n",
    "        print('Recommendations for {0}:\\n'.format(wide_artist_data.index[query_index]))\n",
    "    else:\n",
    "        print('{0}: {1}, with distance of {2}'.format(i, wide_artist_data.index[indices.flatten()[i]],distances.flatten()[i]))"
   ]
  },
  {
   "cell_type": "code",
   "execution_count": null,
   "metadata": {
    "collapsed": true
   },
   "outputs": [],
   "source": []
  },
  {
   "cell_type": "code",
   "execution_count": 24,
   "metadata": {
    "collapsed": true
   },
   "outputs": [],
   "source": [
    "def print_artist_recommendation(query_artist, artist_plays_matrix,knn_model,k):\n",
    "    query_index = None\n",
    "    ratio_tuples = []\n",
    "    \n",
    "    for i in artist_plays_matrix.index:\n",
    "        ratio = fuzz.ratio(i.lower(),query_artist.lower())\n",
    "        if ratio >= 75:\n",
    "            current_query_index = artist_plays_matrix.index.tolist().index(i)\n",
    "            ratio_tuples.append((i,ratio,current_query_index))\n",
    "            \n",
    "    print('Possible matches: {0}\\n'.format([(x[0],x[1]) for x in ratio_tuples]))\n",
    "    \n",
    "    try:\n",
    "        query_index = max(ratio_tuples,key=lambda x: x[1])[2]\n",
    "    except:\n",
    "        print('Your artist did not match any artists in the data. Try again')\n",
    "        return None\n",
    "    \n",
    "    distances, indices = knn_model.kneighbors(artist_plays_matrix.iloc[query_index,:].values.reshape(1,-1),n_neighbors=k+1)\n",
    "    \n",
    "    for i in range(0,len(distances.flatten())):\n",
    "        if i ==0:\n",
    "            print('Recommendations for {0}:\\n'.format(artist_plays_matrix.index[query_index]))\n",
    "        else:\n",
    "            print('{0}: {1}, with distance of {2}:'.format(i,artist_plays_matrix.index[indices.flatten()[i]],distances.flatten()[i]))\n",
    "            \n",
    "    return None"
   ]
  },
  {
   "cell_type": "code",
   "execution_count": 25,
   "metadata": {},
   "outputs": [
    {
     "name": "stdout",
     "output_type": "stream",
     "text": [
      "Possible matches: [('Red Hot Chili Peppers', 100)]\n",
      "\n",
      "Recommendations for Red Hot Chili Peppers:\n",
      "\n",
      "1: Nirvana, with distance of 0.6531898876933021:\n",
      "2: Oasis, with distance of 0.6804322417333812:\n",
      "3: The Beatles, with distance of 0.6875337856101311:\n",
      "4: Foo Fighters, with distance of 0.6907899504265811:\n",
      "5: Muse, with distance of 0.7147586765340397:\n",
      "6: U2, with distance of 0.7187370650649147:\n",
      "7: Radiohead, with distance of 0.7190006405179143:\n",
      "8: Green Day, with distance of 0.7247622108315265:\n",
      "9: Aerosmith, with distance of 0.7256105408555654:\n",
      "10: Pearl Jam, with distance of 0.7287778314914192:\n"
     ]
    }
   ],
   "source": [
    "print_artist_recommendation('red hot chili peppers',wide_artist_data_binary,model_nn_binary,k=10)"
   ]
  },
  {
   "cell_type": "code",
   "execution_count": 26,
   "metadata": {},
   "outputs": [
    {
     "name": "stdout",
     "output_type": "stream",
     "text": [
      "Possible matches: [('Akon', 75), ('Jorn', 75), ('Kordan', 80), ('Korn', 100), ('Koro', 75), ('Koru', 75), ('KoЯn', 75)]\n",
      "\n",
      "Recommendations for Korn:\n",
      "\n",
      "1: Limp Bizkit, with distance of 0.6461634268298138:\n",
      "2: System of a Down, with distance of 0.6510341508052175:\n",
      "3: Slipknot, with distance of 0.6624614219579241:\n",
      "4: Deftones, with distance of 0.7007471991677101:\n",
      "5: Godsmack, with distance of 0.7020602142344381:\n",
      "6: Metallica, with distance of 0.7408662553447589:\n",
      "7: Stone Sour, with distance of 0.7441800621927404:\n",
      "8: Pantera, with distance of 0.7474092572295388:\n",
      "9: Rammstein, with distance of 0.7498512347383965:\n",
      "10: Marilyn Manson, with distance of 0.7522026861083237:\n"
     ]
    }
   ],
   "source": [
    "print_artist_recommendation('korn',wide_artist_data_binary,model_nn_binary,k=10)"
   ]
  },
  {
   "cell_type": "code",
   "execution_count": 29,
   "metadata": {},
   "outputs": [
    {
     "name": "stdout",
     "output_type": "stream",
     "text": [
      "Possible matches: [('The Afters', 76), ('The Antlers', 82), ('The Bangles', 82), ('The Baseballs', 75), ('The Beat', 84), ('The Beat Fleet', 80), ('The Beatles', 100), ('The Beatmasters', 77), ('The Bees', 84), ('The Blasters', 78), ('The Bluetones', 75), ('The Boats', 80), ('The Cheaters', 78), ('The Creatures', 75), ('The Easybeats', 75), ('The Grates', 76), ('The Meters', 76), ('The Rutles', 76), ('The Seatbelts', 75), ('The Versatiles', 80)]\n",
      "\n",
      "Recommendations for The Beatles:\n",
      "\n",
      "1: Radiohead, with distance of 0.5556344164535882:\n",
      "2: Pink Floyd, with distance of 0.5567036793441906:\n",
      "3: Led Zeppelin, with distance of 0.5924683351896096:\n",
      "4: Arctic Monkeys, with distance of 0.594228466209854:\n",
      "5: The Strokes, with distance of 0.613038007895694:\n",
      "6: The Rolling Stones, with distance of 0.6171620636663815:\n",
      "7: Oasis, with distance of 0.6220355269907726:\n",
      "8: Muse, with distance of 0.6302872736840136:\n",
      "9: David Bowie, with distance of 0.6334567471239492:\n",
      "10: Bob Dylan, with distance of 0.6486358155368461:\n"
     ]
    }
   ],
   "source": [
    "print_artist_recommendation('The Beatles',wide_artist_data_binary,model_nn_binary,k=10)"
   ]
  },
  {
   "cell_type": "code",
   "execution_count": 28,
   "metadata": {},
   "outputs": [
    {
     "name": "stdout",
     "output_type": "stream",
     "text": [
      "Possible matches: [('Bon Jovi', 100), ('Jon Bon Jovi', 80)]\n",
      "\n",
      "Recommendations for Bon Jovi:\n",
      "\n",
      "1: Guns N' Roses, with distance of 0.6388424407426927:\n",
      "2: Aerosmith, with distance of 0.64543051657445:\n",
      "3: Mötley Crüe, with distance of 0.6485989094725191:\n",
      "4: Skid Row, with distance of 0.6637036454327252:\n",
      "5: Poison, with distance of 0.6913933000758161:\n",
      "6: Scorpions, with distance of 0.6996242954069447:\n",
      "7: Alice Cooper, with distance of 0.7249904508915366:\n",
      "8: Jon Bon Jovi, with distance of 0.7299691375663391:\n",
      "9: Queen, with distance of 0.7352129544573991:\n",
      "10: Def Leppard, with distance of 0.7412254152466171:\n"
     ]
    }
   ],
   "source": [
    "print_artist_recommendation('bon jovi',wide_artist_data_binary,model_nn_binary,k=10)"
   ]
  },
  {
   "cell_type": "code",
   "execution_count": 35,
   "metadata": {},
   "outputs": [
    {
     "name": "stdout",
     "output_type": "stream",
     "text": [
      "Possible matches: [('Three Dog Night', 77)]\n",
      "\n",
      "Recommendations for Three Dog Night:\n",
      "\n",
      "1: Lisa Kelly, with distance of 0.0:\n",
      "2: Michael Buble & Holly Palmer, with distance of 0.0:\n",
      "3: Pure Prairie League, with distance of 0.0:\n",
      "4: The Marshall Tucker Band, with distance of 0.0:\n",
      "5: Carlene Carter, with distance of 0.0:\n",
      "6: Three Dog Night, with distance of 0.0:\n",
      "7: Little River Band, with distance of 0.0:\n",
      "8: Elvin Bishop, with distance of 0.0:\n",
      "9: The Lovin' Spoonful, with distance of 0.0:\n",
      "10: Nicholas Gunn, with distance of 0.0:\n"
     ]
    }
   ],
   "source": [
    "print_artist_recommendation('3 Dog Night',wide_artist_data_binary,model_nn_binary,k=10)"
   ]
  },
  {
   "cell_type": "code",
   "execution_count": null,
   "metadata": {
    "collapsed": true
   },
   "outputs": [],
   "source": []
  },
  {
   "cell_type": "markdown",
   "metadata": {},
   "source": [
    "### Questions to ponder:\n",
    "Ask yourself why would they have selected this problem for the challenge? What are some gotchas in this domain I should know about?\n",
    "\n",
    "What is the highest level of accuracy that others have achieved with this dataset or similar problems / datasets ?\n",
    "\n",
    "What types of visualizations will help me grasp the nature of the problem / data?\n",
    "What feature engineering might help improve the signal?\n",
    "\n",
    "Which modeling techniques are good at capturing the types of relationships I see in this data?\n",
    "\n",
    "Now that I have a model, how can I be sure that I didn't introduce a bug in the code? If results are too good to be true, they probably are!\n",
    "\n",
    "What are some of the weaknesses of the model and and how can the model be improved with additional work?"
   ]
  },
  {
   "cell_type": "code",
   "execution_count": null,
   "metadata": {
    "collapsed": true
   },
   "outputs": [],
   "source": []
  }
 ],
 "metadata": {
  "kernelspec": {
   "display_name": "Python 3",
   "language": "python",
   "name": "python3"
  },
  "language_info": {
   "codemirror_mode": {
    "name": "ipython",
    "version": 3
   },
   "file_extension": ".py",
   "mimetype": "text/x-python",
   "name": "python",
   "nbconvert_exporter": "python",
   "pygments_lexer": "ipython3",
   "version": "3.6.6"
  }
 },
 "nbformat": 4,
 "nbformat_minor": 2
}
