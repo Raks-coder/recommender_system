{
 "cells": [
  {
   "cell_type": "markdown",
   "metadata": {},
   "source": [
    "# LastFM Recommendation Engine: Collaborative Filter\n",
    "August 2018\n",
    "\n",
    "*For comprehensive information and commentary on this project, please see the associated [README file](https://github.com/cipher813/recommender_system)*."
   ]
  },
  {
   "cell_type": "markdown",
   "metadata": {},
   "source": [
    "Today we are going to build a basic recommender system based on a Last.fm dataset available at [GroupLens](https://grouplens.org/datasets/hetrec-2011/) on behalf of [Lab41](https://github.com/Lab41/hermes/wiki/Datasets).  The dataset, obtained from LastFM in 2011, contains the play counts of 17,632 artists by 1,892 users. \n",
    "\n",
    "Our agenda is as follows:\n",
    "- Examine the data we are working with by performing initial Exploratory Data Analysis (EDA)\n",
    "- Build a couple versions of a basic collaborative recommender system:\n",
    " - K Nearest Neighbors in sci-kit learn\n",
    " - Item Similarity Recommender in TuriCreate\n",
    "- Assess results\n",
    "\n",
    "*As a separate analysis, for preliminary EDA work to incorporate content-based filter components to our recommender system, see [Appendix notebooks](https://github.com/cipher813/recommender_system/tree/master/notebooks) for topic modeling of artist tags with K Means Clustering and tSNE, and separately with pyLDAvis. Adding content-based features from metadata, such as artist tags by users, is a key area of further work to build upon this analysis.*\n",
    "\n",
    "Now lets examine the data we are working with.\n",
    "\n",
    "### Import packages\n",
    "\n",
    "Lets go ahead and import every package we will need for our analysis.  Here we will:\n",
    "\n",
    "- check the kernel to make sure we are using the environment where the appropriate python package dependencies are installed\n",
    "- import: \n",
    " - pandas and numpy for data manipulation\n",
    " - matplotlib and seaborn for charting\n",
    " - sci-kit learn for K Means Clustering model\n",
    " - turicreate to evaluate various recommender algorithms\n",
    " - fuzzywuzzy for fuzzy matching of artist names\n",
    "- set float number format to 3 decimal places\n",
    "- set the seed for reproducibility of analysis even from random number initialization"
   ]
  },
  {
   "cell_type": "code",
   "execution_count": 1,
   "metadata": {},
   "outputs": [
    {
     "name": "stdout",
     "output_type": "stream",
     "text": [
      "Kernel: /Users/brianmcmahon/anaconda3/envs/recommender/bin/python\n"
     ]
    }
   ],
   "source": [
    "# check kernel environment\n",
    "import sys\n",
    "print(\"Kernel: {}\".format(sys.executable))\n",
    "\n",
    "# Core data analysis packages\n",
    "import pandas as pd\n",
    "import numpy as np\n",
    "\n",
    "# For our EDA charts\n",
    "import matplotlib.pyplot as plt\n",
    "import matplotlib.ticker as ticker\n",
    "import seaborn as sns\n",
    "\n",
    "# Compressed Sparse Row (\"CSR\") matrix\n",
    "from scipy.sparse import csr_matrix \n",
    "\n",
    "# use K-Nearest Neighbors to find cosine distance amongst artists\n",
    "from sklearn.neighbors import NearestNeighbors\n",
    "\n",
    "# evaluate a variety of recommender system models in the TuriCreate package\n",
    "import turicreate as tc\n",
    "\n",
    "# fuzzy string matching to allow for differing spelling of artist names\n",
    "from fuzzywuzzy import fuzz, process\n",
    "\n",
    "# set output to three decimals\n",
    "pd.set_option('display.float_format',lambda x: '%.2f' %x)\n",
    "\n",
    "# set seed for reproducibility of random number initializations\n",
    "seed = np.random.RandomState(seed=42)"
   ]
  },
  {
   "cell_type": "markdown",
   "metadata": {},
   "source": [
    "### The Dataset\n",
    "\n",
    "Six .csv files are provided in this dataset (download from GroupLens [here](http://files.grouplens.org/datasets/hetrec2011/hetrec2011-lastfm-2k.zip)), consisting of the following:\n",
    "- **user_artists.dat** (userID, artistID, weight). Plays of artist by user.\n",
    "- **artists.dat** (id, name, url, pictureURL). ID and name of each artist.  \n",
    "- **tags.dat** (tagID, tagValue). ID number and content for each tag.\n",
    "- **user_taggedartists.dat** (userID, artistID, tagID, day, month, year). Tag of artist by user with date.   \n",
    "- **user_taggedartists-timestamps.dat** (userID, artistID, tagID, timestamp). Tag of artist by user with timestamp.\n",
    "- **user_friends.dat** (userID, friendID). User/friend relationships.  \n",
    "\n",
    "Lets take a deeper dive into the data we are working with:"
   ]
  },
  {
   "cell_type": "code",
   "execution_count": 2,
   "metadata": {
    "collapsed": true
   },
   "outputs": [],
   "source": [
    "# import our files\n",
    "plays = pd.read_csv('../data/user_artists.dat',sep='\\t')\n",
    "artists = pd.read_csv('../data/artists.dat',sep='\\t',usecols=['id','name'])\n",
    "\n",
    "# we import to understand what datapoints we have, but do not use these \n",
    "# in our collaborative engine\n",
    "tags = pd.read_csv('../data/tags.dat', sep='\\t',encoding='latin-1')\n",
    "uta = pd.read_csv('../data/user_taggedartists.dat', sep='\\t')\n",
    "utat = pd.read_csv('../data/user_taggedartists-timestamps.dat', sep=\"\\t\")\n",
    "friends = pd.read_csv('../data/user_friends.dat', sep='\\t')"
   ]
  },
  {
   "cell_type": "code",
   "execution_count": 3,
   "metadata": {
    "collapsed": true
   },
   "outputs": [],
   "source": [
    "# create a function to provide various statistics on our data files\n",
    "def print_info(df_list, df_name):\n",
    "    \n",
    "    # assertion to ensure our two lists are equal in length (ie we didn't make any mistakes)\n",
    "    assert len(df_list) == len(df_name)\n",
    "\n",
    "    for i in range(len(df_list)):\n",
    "        print(df_name[i],'\\n')\n",
    "        print(\"Shape: {}\\n\".format(df_list[i].shape))\n",
    "        print(\"Info:\")\n",
    "        print(df_list[i].info(),'\\n')\n",
    "        print(\"Unique:\\n{}\\n\".format(df_list[i].nunique()))     \n",
    "        \n",
    "        # This returns True if no duplicates are dropped (ie duplicates do not exist)\n",
    "        print(\"No duplicates: {}\\n\".format(len(df_list[i])==len(df_list[i].drop_duplicates())))"
   ]
  },
  {
   "cell_type": "code",
   "execution_count": 4,
   "metadata": {},
   "outputs": [
    {
     "name": "stdout",
     "output_type": "stream",
     "text": [
      "**Plays** \n",
      "\n",
      "Shape: (92834, 3)\n",
      "\n",
      "Info:\n",
      "<class 'pandas.core.frame.DataFrame'>\n",
      "RangeIndex: 92834 entries, 0 to 92833\n",
      "Data columns (total 3 columns):\n",
      "userID      92834 non-null int64\n",
      "artistID    92834 non-null int64\n",
      "weight      92834 non-null int64\n",
      "dtypes: int64(3)\n",
      "memory usage: 2.1 MB\n",
      "None \n",
      "\n",
      "Unique:\n",
      "userID       1892\n",
      "artistID    17632\n",
      "weight       5436\n",
      "dtype: int64\n",
      "\n",
      "No duplicates: True\n",
      "\n",
      "**Artists** \n",
      "\n",
      "Shape: (17632, 2)\n",
      "\n",
      "Info:\n",
      "<class 'pandas.core.frame.DataFrame'>\n",
      "RangeIndex: 17632 entries, 0 to 17631\n",
      "Data columns (total 2 columns):\n",
      "id      17632 non-null int64\n",
      "name    17632 non-null object\n",
      "dtypes: int64(1), object(1)\n",
      "memory usage: 275.6+ KB\n",
      "None \n",
      "\n",
      "Unique:\n",
      "id      17632\n",
      "name    17632\n",
      "dtype: int64\n",
      "\n",
      "No duplicates: True\n",
      "\n",
      "**Tags** \n",
      "\n",
      "Shape: (11946, 2)\n",
      "\n",
      "Info:\n",
      "<class 'pandas.core.frame.DataFrame'>\n",
      "RangeIndex: 11946 entries, 0 to 11945\n",
      "Data columns (total 2 columns):\n",
      "tagID       11946 non-null int64\n",
      "tagValue    11946 non-null object\n",
      "dtypes: int64(1), object(1)\n",
      "memory usage: 186.7+ KB\n",
      "None \n",
      "\n",
      "Unique:\n",
      "tagID       11946\n",
      "tagValue    11946\n",
      "dtype: int64\n",
      "\n",
      "No duplicates: True\n",
      "\n",
      "**User Tagged Artists (Date)** \n",
      "\n",
      "Shape: (186479, 6)\n",
      "\n",
      "Info:\n",
      "<class 'pandas.core.frame.DataFrame'>\n",
      "RangeIndex: 186479 entries, 0 to 186478\n",
      "Data columns (total 6 columns):\n",
      "userID      186479 non-null int64\n",
      "artistID    186479 non-null int64\n",
      "tagID       186479 non-null int64\n",
      "day         186479 non-null int64\n",
      "month       186479 non-null int64\n",
      "year        186479 non-null int64\n",
      "dtypes: int64(6)\n",
      "memory usage: 8.5 MB\n",
      "None \n",
      "\n",
      "Unique:\n",
      "userID       1892\n",
      "artistID    12523\n",
      "tagID        9749\n",
      "day             4\n",
      "month          12\n",
      "year           10\n",
      "dtype: int64\n",
      "\n",
      "No duplicates: True\n",
      "\n",
      "**User Tagged Artists (Timestamp)** \n",
      "\n",
      "Shape: (186479, 4)\n",
      "\n",
      "Info:\n",
      "<class 'pandas.core.frame.DataFrame'>\n",
      "RangeIndex: 186479 entries, 0 to 186478\n",
      "Data columns (total 4 columns):\n",
      "userID       186479 non-null int64\n",
      "artistID     186479 non-null int64\n",
      "tagID        186479 non-null int64\n",
      "timestamp    186479 non-null int64\n",
      "dtypes: int64(4)\n",
      "memory usage: 5.7 MB\n",
      "None \n",
      "\n",
      "Unique:\n",
      "userID        1892\n",
      "artistID     12523\n",
      "tagID         9749\n",
      "timestamp     3549\n",
      "dtype: int64\n",
      "\n",
      "No duplicates: True\n",
      "\n",
      "**Friends** \n",
      "\n",
      "Shape: (25434, 2)\n",
      "\n",
      "Info:\n",
      "<class 'pandas.core.frame.DataFrame'>\n",
      "RangeIndex: 25434 entries, 0 to 25433\n",
      "Data columns (total 2 columns):\n",
      "userID      25434 non-null int64\n",
      "friendID    25434 non-null int64\n",
      "dtypes: int64(2)\n",
      "memory usage: 397.5 KB\n",
      "None \n",
      "\n",
      "Unique:\n",
      "userID      1892\n",
      "friendID    1892\n",
      "dtype: int64\n",
      "\n",
      "No duplicates: True\n",
      "\n"
     ]
    }
   ],
   "source": [
    "df_list = [plays, artists, tags, uta, utat, friends]\n",
    "df_name = ['**Plays**',\n",
    "           '**Artists**',\n",
    "           '**Tags**',\n",
    "           '**User Tagged Artists (Date)**',\n",
    "           '**User Tagged Artists (Timestamp)**',\n",
    "           '**Friends**']\n",
    "\n",
    "print_info(df_list,df_name)"
   ]
  },
  {
   "cell_type": "markdown",
   "metadata": {},
   "source": [
    "In total, we have:\n",
    "- 1,892 users\n",
    "- 17,632 artists\n",
    "- 92,834 artist/user plays\n",
    "- 11,946 tags\n",
    "- 186,479 tag assignments\n",
    "\n",
    "Now we will focus on our artist/user plays data to develop our collaborative recommender.\n",
    "\n",
    "### Exploratory Data Analysis (EDA): Collaborative Filter\n",
    "\n",
    "*See the [Appendix notebooks](https://github.com/cipher813/recommender_system/tree/master/notebooks) for preliminary work using topic modeling with K-Means Clustering and tSNE, and separately using pyLDAvis. This is where you will find the EDA **not** directly related to our collaborative system, such as on artist tags by user.*\n",
    "\n",
    "Key features in our collaborative engine include:\n",
    "- userID\n",
    "- artistID, artistName\n",
    "- userPlays (plays by user of artist)\n",
    "\n",
    "So we have artist ID and name along with users and plays in a single file, we will merge our two primary data files into one:"
   ]
  },
  {
   "cell_type": "code",
   "execution_count": 5,
   "metadata": {},
   "outputs": [
    {
     "data": {
      "text/html": [
       "<div>\n",
       "<style scoped>\n",
       "    .dataframe tbody tr th:only-of-type {\n",
       "        vertical-align: middle;\n",
       "    }\n",
       "\n",
       "    .dataframe tbody tr th {\n",
       "        vertical-align: top;\n",
       "    }\n",
       "\n",
       "    .dataframe thead th {\n",
       "        text-align: right;\n",
       "    }\n",
       "</style>\n",
       "<table border=\"1\" class=\"dataframe\">\n",
       "  <thead>\n",
       "    <tr style=\"text-align: right;\">\n",
       "      <th></th>\n",
       "      <th>id</th>\n",
       "      <th>name</th>\n",
       "      <th>userID</th>\n",
       "      <th>artistID</th>\n",
       "      <th>userArtistPlays</th>\n",
       "    </tr>\n",
       "  </thead>\n",
       "  <tbody>\n",
       "    <tr>\n",
       "      <th>0</th>\n",
       "      <td>1</td>\n",
       "      <td>MALICE MIZER</td>\n",
       "      <td>34</td>\n",
       "      <td>1</td>\n",
       "      <td>212</td>\n",
       "    </tr>\n",
       "    <tr>\n",
       "      <th>1</th>\n",
       "      <td>1</td>\n",
       "      <td>MALICE MIZER</td>\n",
       "      <td>274</td>\n",
       "      <td>1</td>\n",
       "      <td>483</td>\n",
       "    </tr>\n",
       "    <tr>\n",
       "      <th>2</th>\n",
       "      <td>1</td>\n",
       "      <td>MALICE MIZER</td>\n",
       "      <td>785</td>\n",
       "      <td>1</td>\n",
       "      <td>76</td>\n",
       "    </tr>\n",
       "    <tr>\n",
       "      <th>3</th>\n",
       "      <td>2</td>\n",
       "      <td>Diary of Dreams</td>\n",
       "      <td>135</td>\n",
       "      <td>2</td>\n",
       "      <td>1021</td>\n",
       "    </tr>\n",
       "    <tr>\n",
       "      <th>4</th>\n",
       "      <td>2</td>\n",
       "      <td>Diary of Dreams</td>\n",
       "      <td>257</td>\n",
       "      <td>2</td>\n",
       "      <td>152</td>\n",
       "    </tr>\n",
       "  </tbody>\n",
       "</table>\n",
       "</div>"
      ],
      "text/plain": [
       "   id             name  userID  artistID  userArtistPlays\n",
       "0   1     MALICE MIZER      34         1              212\n",
       "1   1     MALICE MIZER     274         1              483\n",
       "2   1     MALICE MIZER     785         1               76\n",
       "3   2  Diary of Dreams     135         2             1021\n",
       "4   2  Diary of Dreams     257         2              152"
      ]
     },
     "execution_count": 5,
     "metadata": {},
     "output_type": "execute_result"
    }
   ],
   "source": [
    "ap = pd.merge(artists, \n",
    "                plays, \n",
    "                how='inner',\n",
    "                left_on='id',\n",
    "                right_on='artistID')\n",
    "\n",
    "ap = ap.rename(columns={\"weight\":\"userArtistPlays\"})\n",
    "\n",
    "ap.head()"
   ]
  },
  {
   "cell_type": "markdown",
   "metadata": {},
   "source": [
    "Here we will derive further valuable information from our dataset, including:\n",
    "\n",
    "Per user/artist pair:\n",
    "- *User Artist Plays*. This is our play count data; the amount of plays of one artist by one user.  \n",
    "\n",
    "Per artist:\n",
    "- *Total Artist Plays*. Aggregate play count of all users of a single artist.\n",
    "- *Total Unique Users*. Aggregate users who have listened to an artist at least once.  \n",
    "- *Average User Plays*. Calculated as Total Artist Plays / Total Unique Users.\n",
    "\n",
    "Per user:\n",
    "- *Total User Plays*.  Aggregate plays of all artist by a single user.\n",
    "- *Total Unique Artists*. The number of artist data available for a single user (the dataset apparently caps this at 50)."
   ]
  },
  {
   "cell_type": "code",
   "execution_count": 6,
   "metadata": {
    "collapsed": true
   },
   "outputs": [],
   "source": [
    "artist_rank = (ap.groupby(['name']).agg({'userID':'count','userArtistPlays':'sum'}).\n",
    "    rename(columns={\"userID\":'totalUniqueUsers',\"userArtistPlays\":\"totalArtistPlays\"}).\n",
    "              sort_values(['totalArtistPlays'],ascending=False))\n",
    "artist_rank['avgUserPlays'] = artist_rank['totalArtistPlays']/artist_rank['totalUniqueUsers']\n",
    "user_rank = (ap.groupby(['userID']).agg({'name':'count','userArtistPlays':'sum'}).\n",
    "    rename(columns={\"name\":'totalUniqueArtists',\"userArtistPlays\":\"totalUserPlays\"}).\n",
    "            sort_values(['totalUserPlays'],ascending=False))"
   ]
  },
  {
   "cell_type": "code",
   "execution_count": 7,
   "metadata": {},
   "outputs": [
    {
     "data": {
      "text/html": [
       "<div>\n",
       "<style scoped>\n",
       "    .dataframe tbody tr th:only-of-type {\n",
       "        vertical-align: middle;\n",
       "    }\n",
       "\n",
       "    .dataframe tbody tr th {\n",
       "        vertical-align: top;\n",
       "    }\n",
       "\n",
       "    .dataframe thead th {\n",
       "        text-align: right;\n",
       "    }\n",
       "</style>\n",
       "<table border=\"1\" class=\"dataframe\">\n",
       "  <thead>\n",
       "    <tr style=\"text-align: right;\">\n",
       "      <th></th>\n",
       "      <th>totalUniqueUsers</th>\n",
       "      <th>totalArtistPlays</th>\n",
       "      <th>avgUserPlays</th>\n",
       "    </tr>\n",
       "    <tr>\n",
       "      <th>name</th>\n",
       "      <th></th>\n",
       "      <th></th>\n",
       "      <th></th>\n",
       "    </tr>\n",
       "  </thead>\n",
       "  <tbody>\n",
       "    <tr>\n",
       "      <th>Britney Spears</th>\n",
       "      <td>522</td>\n",
       "      <td>2393140</td>\n",
       "      <td>4584.56</td>\n",
       "    </tr>\n",
       "    <tr>\n",
       "      <th>Depeche Mode</th>\n",
       "      <td>282</td>\n",
       "      <td>1301308</td>\n",
       "      <td>4614.57</td>\n",
       "    </tr>\n",
       "    <tr>\n",
       "      <th>Lady Gaga</th>\n",
       "      <td>611</td>\n",
       "      <td>1291387</td>\n",
       "      <td>2113.56</td>\n",
       "    </tr>\n",
       "    <tr>\n",
       "      <th>Christina Aguilera</th>\n",
       "      <td>407</td>\n",
       "      <td>1058405</td>\n",
       "      <td>2600.50</td>\n",
       "    </tr>\n",
       "    <tr>\n",
       "      <th>Paramore</th>\n",
       "      <td>399</td>\n",
       "      <td>963449</td>\n",
       "      <td>2414.66</td>\n",
       "    </tr>\n",
       "  </tbody>\n",
       "</table>\n",
       "</div>"
      ],
      "text/plain": [
       "                    totalUniqueUsers  totalArtistPlays  avgUserPlays\n",
       "name                                                                \n",
       "Britney Spears                   522           2393140       4584.56\n",
       "Depeche Mode                     282           1301308       4614.57\n",
       "Lady Gaga                        611           1291387       2113.56\n",
       "Christina Aguilera               407           1058405       2600.50\n",
       "Paramore                         399            963449       2414.66"
      ]
     },
     "execution_count": 7,
     "metadata": {},
     "output_type": "execute_result"
    }
   ],
   "source": [
    "# Britney Spears is the most played at 2.4 million plays\n",
    "artist_rank.head()"
   ]
  },
  {
   "cell_type": "markdown",
   "metadata": {},
   "source": [
    "Per the total artist plays column we see an average of almost 4,000 plays per artist with a max of 2.4 million (for Britney Spears).  "
   ]
  },
  {
   "cell_type": "code",
   "execution_count": 8,
   "metadata": {},
   "outputs": [
    {
     "data": {
      "text/html": [
       "<div>\n",
       "<style scoped>\n",
       "    .dataframe tbody tr th:only-of-type {\n",
       "        vertical-align: middle;\n",
       "    }\n",
       "\n",
       "    .dataframe tbody tr th {\n",
       "        vertical-align: top;\n",
       "    }\n",
       "\n",
       "    .dataframe thead th {\n",
       "        text-align: right;\n",
       "    }\n",
       "</style>\n",
       "<table border=\"1\" class=\"dataframe\">\n",
       "  <thead>\n",
       "    <tr style=\"text-align: right;\">\n",
       "      <th></th>\n",
       "      <th>totalUniqueUsers</th>\n",
       "      <th>totalArtistPlays</th>\n",
       "      <th>avgUserPlays</th>\n",
       "    </tr>\n",
       "  </thead>\n",
       "  <tbody>\n",
       "    <tr>\n",
       "      <th>count</th>\n",
       "      <td>17632.00</td>\n",
       "      <td>17632.00</td>\n",
       "      <td>17632.00</td>\n",
       "    </tr>\n",
       "    <tr>\n",
       "      <th>mean</th>\n",
       "      <td>5.27</td>\n",
       "      <td>3923.77</td>\n",
       "      <td>423.78</td>\n",
       "    </tr>\n",
       "    <tr>\n",
       "      <th>std</th>\n",
       "      <td>20.62</td>\n",
       "      <td>34099.34</td>\n",
       "      <td>785.38</td>\n",
       "    </tr>\n",
       "    <tr>\n",
       "      <th>min</th>\n",
       "      <td>1.00</td>\n",
       "      <td>1.00</td>\n",
       "      <td>1.00</td>\n",
       "    </tr>\n",
       "    <tr>\n",
       "      <th>25%</th>\n",
       "      <td>1.00</td>\n",
       "      <td>113.00</td>\n",
       "      <td>97.00</td>\n",
       "    </tr>\n",
       "    <tr>\n",
       "      <th>50%</th>\n",
       "      <td>1.00</td>\n",
       "      <td>350.00</td>\n",
       "      <td>246.00</td>\n",
       "    </tr>\n",
       "    <tr>\n",
       "      <th>75%</th>\n",
       "      <td>3.00</td>\n",
       "      <td>1234.25</td>\n",
       "      <td>496.88</td>\n",
       "    </tr>\n",
       "    <tr>\n",
       "      <th>max</th>\n",
       "      <td>611.00</td>\n",
       "      <td>2393140.00</td>\n",
       "      <td>35323.00</td>\n",
       "    </tr>\n",
       "  </tbody>\n",
       "</table>\n",
       "</div>"
      ],
      "text/plain": [
       "       totalUniqueUsers  totalArtistPlays  avgUserPlays\n",
       "count          17632.00          17632.00      17632.00\n",
       "mean               5.27           3923.77        423.78\n",
       "std               20.62          34099.34        785.38\n",
       "min                1.00              1.00          1.00\n",
       "25%                1.00            113.00         97.00\n",
       "50%                1.00            350.00        246.00\n",
       "75%                3.00           1234.25        496.88\n",
       "max              611.00        2393140.00      35323.00"
      ]
     },
     "execution_count": 8,
     "metadata": {},
     "output_type": "execute_result"
    }
   ],
   "source": [
    "artist_rank.describe()"
   ]
  },
  {
   "cell_type": "markdown",
   "metadata": {},
   "source": [
    "Here we have our top users in terms of total play count.  We also see an apparent cap of 50 artists per user, likely a parameter when the original dataset was queried.  "
   ]
  },
  {
   "cell_type": "code",
   "execution_count": 9,
   "metadata": {},
   "outputs": [
    {
     "data": {
      "text/html": [
       "<div>\n",
       "<style scoped>\n",
       "    .dataframe tbody tr th:only-of-type {\n",
       "        vertical-align: middle;\n",
       "    }\n",
       "\n",
       "    .dataframe tbody tr th {\n",
       "        vertical-align: top;\n",
       "    }\n",
       "\n",
       "    .dataframe thead th {\n",
       "        text-align: right;\n",
       "    }\n",
       "</style>\n",
       "<table border=\"1\" class=\"dataframe\">\n",
       "  <thead>\n",
       "    <tr style=\"text-align: right;\">\n",
       "      <th></th>\n",
       "      <th>totalUniqueArtists</th>\n",
       "      <th>totalUserPlays</th>\n",
       "    </tr>\n",
       "    <tr>\n",
       "      <th>userID</th>\n",
       "      <th></th>\n",
       "      <th></th>\n",
       "    </tr>\n",
       "  </thead>\n",
       "  <tbody>\n",
       "    <tr>\n",
       "      <th>757</th>\n",
       "      <td>50</td>\n",
       "      <td>480039</td>\n",
       "    </tr>\n",
       "    <tr>\n",
       "      <th>2000</th>\n",
       "      <td>50</td>\n",
       "      <td>468409</td>\n",
       "    </tr>\n",
       "    <tr>\n",
       "      <th>1418</th>\n",
       "      <td>50</td>\n",
       "      <td>416349</td>\n",
       "    </tr>\n",
       "    <tr>\n",
       "      <th>1642</th>\n",
       "      <td>50</td>\n",
       "      <td>388251</td>\n",
       "    </tr>\n",
       "    <tr>\n",
       "      <th>1094</th>\n",
       "      <td>50</td>\n",
       "      <td>379125</td>\n",
       "    </tr>\n",
       "  </tbody>\n",
       "</table>\n",
       "</div>"
      ],
      "text/plain": [
       "        totalUniqueArtists  totalUserPlays\n",
       "userID                                    \n",
       "757                     50          480039\n",
       "2000                    50          468409\n",
       "1418                    50          416349\n",
       "1642                    50          388251\n",
       "1094                    50          379125"
      ]
     },
     "execution_count": 9,
     "metadata": {},
     "output_type": "execute_result"
    }
   ],
   "source": [
    "user_rank.head()"
   ]
  },
  {
   "cell_type": "markdown",
   "metadata": {},
   "source": [
    "For convenience, we will join our artist and user data into a single table.  As such, we will need to be careful when deriving insights from columns.  "
   ]
  },
  {
   "cell_type": "code",
   "execution_count": 10,
   "metadata": {
    "collapsed": true
   },
   "outputs": [],
   "source": [
    "ap2 = ap.join(artist_rank,on='name',how='inner')\n",
    "ap3 = ap2.join(user_rank,on='userID',how='inner').sort_values(['userArtistPlays'],ascending=False)\n",
    "\n",
    "# confirm no duplicated rows\n",
    "assert ap3[ap3.duplicated(['userID','name'])].empty"
   ]
  },
  {
   "cell_type": "code",
   "execution_count": 11,
   "metadata": {},
   "outputs": [
    {
     "data": {
      "text/html": [
       "<div>\n",
       "<style scoped>\n",
       "    .dataframe tbody tr th:only-of-type {\n",
       "        vertical-align: middle;\n",
       "    }\n",
       "\n",
       "    .dataframe tbody tr th {\n",
       "        vertical-align: top;\n",
       "    }\n",
       "\n",
       "    .dataframe thead th {\n",
       "        text-align: right;\n",
       "    }\n",
       "</style>\n",
       "<table border=\"1\" class=\"dataframe\">\n",
       "  <thead>\n",
       "    <tr style=\"text-align: right;\">\n",
       "      <th></th>\n",
       "      <th>id</th>\n",
       "      <th>name</th>\n",
       "      <th>userID</th>\n",
       "      <th>artistID</th>\n",
       "      <th>userArtistPlays</th>\n",
       "      <th>totalUniqueUsers</th>\n",
       "      <th>totalArtistPlays</th>\n",
       "      <th>avgUserPlays</th>\n",
       "      <th>totalUniqueArtists</th>\n",
       "      <th>totalUserPlays</th>\n",
       "    </tr>\n",
       "  </thead>\n",
       "  <tbody>\n",
       "    <tr>\n",
       "      <th>2800</th>\n",
       "      <td>72</td>\n",
       "      <td>Depeche Mode</td>\n",
       "      <td>1642</td>\n",
       "      <td>72</td>\n",
       "      <td>352698</td>\n",
       "      <td>282</td>\n",
       "      <td>1301308</td>\n",
       "      <td>4614.57</td>\n",
       "      <td>50</td>\n",
       "      <td>388251</td>\n",
       "    </tr>\n",
       "    <tr>\n",
       "      <th>35843</th>\n",
       "      <td>792</td>\n",
       "      <td>Thalía</td>\n",
       "      <td>2071</td>\n",
       "      <td>792</td>\n",
       "      <td>324663</td>\n",
       "      <td>26</td>\n",
       "      <td>350035</td>\n",
       "      <td>13462.88</td>\n",
       "      <td>50</td>\n",
       "      <td>338400</td>\n",
       "    </tr>\n",
       "    <tr>\n",
       "      <th>27302</th>\n",
       "      <td>511</td>\n",
       "      <td>U2</td>\n",
       "      <td>1094</td>\n",
       "      <td>511</td>\n",
       "      <td>320725</td>\n",
       "      <td>185</td>\n",
       "      <td>493024</td>\n",
       "      <td>2664.99</td>\n",
       "      <td>50</td>\n",
       "      <td>379125</td>\n",
       "    </tr>\n",
       "    <tr>\n",
       "      <th>8152</th>\n",
       "      <td>203</td>\n",
       "      <td>Blur</td>\n",
       "      <td>1905</td>\n",
       "      <td>203</td>\n",
       "      <td>257978</td>\n",
       "      <td>114</td>\n",
       "      <td>318221</td>\n",
       "      <td>2791.41</td>\n",
       "      <td>50</td>\n",
       "      <td>276295</td>\n",
       "    </tr>\n",
       "    <tr>\n",
       "      <th>26670</th>\n",
       "      <td>498</td>\n",
       "      <td>Paramore</td>\n",
       "      <td>1664</td>\n",
       "      <td>498</td>\n",
       "      <td>227829</td>\n",
       "      <td>399</td>\n",
       "      <td>963449</td>\n",
       "      <td>2414.66</td>\n",
       "      <td>50</td>\n",
       "      <td>251560</td>\n",
       "    </tr>\n",
       "  </tbody>\n",
       "</table>\n",
       "</div>"
      ],
      "text/plain": [
       "        id          name  userID  artistID  userArtistPlays  totalUniqueUsers  \\\n",
       "2800    72  Depeche Mode    1642        72           352698               282   \n",
       "35843  792        Thalía    2071       792           324663                26   \n",
       "27302  511            U2    1094       511           320725               185   \n",
       "8152   203          Blur    1905       203           257978               114   \n",
       "26670  498      Paramore    1664       498           227829               399   \n",
       "\n",
       "       totalArtistPlays  avgUserPlays  totalUniqueArtists  totalUserPlays  \n",
       "2800            1301308       4614.57                  50          388251  \n",
       "35843            350035      13462.88                  50          338400  \n",
       "27302            493024       2664.99                  50          379125  \n",
       "8152             318221       2791.41                  50          276295  \n",
       "26670            963449       2414.66                  50          251560  "
      ]
     },
     "execution_count": 11,
     "metadata": {},
     "output_type": "execute_result"
    }
   ],
   "source": [
    "ap3.head()"
   ]
  },
  {
   "cell_type": "code",
   "execution_count": 12,
   "metadata": {},
   "outputs": [
    {
     "name": "stdout",
     "output_type": "stream",
     "text": [
      "***Artist Plays*** \n",
      "\n",
      "Shape: (92834, 2)\n",
      "\n",
      "Info:\n",
      "<class 'pandas.core.frame.DataFrame'>\n",
      "Int64Index: 92834 entries, 2800 to 88660\n",
      "Data columns (total 2 columns):\n",
      "userID      92834 non-null int64\n",
      "artistID    92834 non-null int64\n",
      "dtypes: int64(2)\n",
      "memory usage: 2.1 MB\n",
      "None \n",
      "\n",
      "Unique:\n",
      "userID       1892\n",
      "artistID    17632\n",
      "dtype: int64\n",
      "\n",
      "No duplicates: True\n",
      "\n"
     ]
    }
   ],
   "source": [
    "print_info([ap3[['userID','artistID']]],['***Artist Plays***'])"
   ]
  },
  {
   "cell_type": "markdown",
   "metadata": {},
   "source": [
    "Key statistics include:\n",
    "    \n",
    "- 17,632 unique artist ID and name\n",
    "- 1,892 unique user ID\n",
    "- 92,834 total data points (artist/user pairs)"
   ]
  },
  {
   "cell_type": "code",
   "execution_count": 13,
   "metadata": {},
   "outputs": [
    {
     "name": "stdout",
     "output_type": "stream",
     "text": [
      "69,183,975\n"
     ]
    }
   ],
   "source": [
    "# 69 million total plays\n",
    "print(\"{:,}\".format(ap3['userArtistPlays'].sum()))"
   ]
  },
  {
   "cell_type": "markdown",
   "metadata": {},
   "source": [
    "### Visualizing Data Insights\n",
    "\n",
    "We will now graphically depict some of our artist and user data to see what insights we can draw from within.  "
   ]
  },
  {
   "cell_type": "code",
   "execution_count": 14,
   "metadata": {
    "collapsed": true
   },
   "outputs": [],
   "source": [
    "# our standard bar chart in a function below\n",
    "\n",
    "def bar_chart_int(x,y,x_label,y_label,title,caption,total_val):\n",
    "    fig, ax = plt.subplots()\n",
    "    fig.set_size_inches(16, 5)\n",
    "    ax = sns.barplot(x[:20], y[:20], palette=\"PuRd\")\n",
    "    ax.set_xlabel(x_label,fontweight='bold')\n",
    "    ax.set_ylabel(y_label,fontweight='bold')\n",
    "    ax.set_title(title,fontweight='bold')\n",
    "    ax.get_yaxis().set_major_formatter(ticker.FuncFormatter(lambda x, p: '{:,}'.format(int(x))))\n",
    "\n",
    "    # our bar label placement\n",
    "    for p in ax.patches:\n",
    "        height = p.get_height()\n",
    "        pct = 100*(height/total_val)\n",
    "        ax.text(p.get_x()+p.get_width()/2.,\n",
    "                height + 3,\n",
    "                '{:1.1f}%'.format(pct),\n",
    "                ha=\"center\",verticalalignment='bottom',color='black') \n",
    "\n",
    "    # our caption statement\n",
    "    ax.text(19, max(y[:20])*0.95, caption, style='italic',fontsize=12,horizontalalignment='right')\n",
    "\n",
    "    plt.xticks(rotation=90)\n",
    "    plt.show()   "
   ]
  },
  {
   "cell_type": "markdown",
   "metadata": {},
   "source": [
    "With 2.4 million plays out of a aggregate play count of 69 million in the dataset, Britney Spears received 3.5% of the plays in the dataset.  "
   ]
  },
  {
   "cell_type": "code",
   "execution_count": 15,
   "metadata": {},
   "outputs": [
    {
     "data": {
      "image/png": "[encoded data removed]",
      "text/plain": [
       "<Figure size 1152x360 with 1 Axes>"
      ]
     },
     "metadata": {},
     "output_type": "display_data"
    }
   ],
   "source": [
    "c1 = artist_rank\n",
    "x = c1.index\n",
    "y = c1.totalArtistPlays\n",
    "x_label = 'Artist Name'\n",
    "y_label = 'Total Artist Plays'\n",
    "title = 'Total Plays by Artist'\n",
    "caption = 'Percentages are of total plays'\n",
    "total_val = c1.totalArtistPlays.sum()\n",
    "\n",
    "bar_chart_int(x,y,x_label,y_label,title,caption,total_val)"
   ]
  },
  {
   "cell_type": "code",
   "execution_count": 16,
   "metadata": {},
   "outputs": [
    {
     "data": {
      "text/html": [
       "<div>\n",
       "<style scoped>\n",
       "    .dataframe tbody tr th:only-of-type {\n",
       "        vertical-align: middle;\n",
       "    }\n",
       "\n",
       "    .dataframe tbody tr th {\n",
       "        vertical-align: top;\n",
       "    }\n",
       "\n",
       "    .dataframe thead th {\n",
       "        text-align: right;\n",
       "    }\n",
       "</style>\n",
       "<table border=\"1\" class=\"dataframe\">\n",
       "  <thead>\n",
       "    <tr style=\"text-align: right;\">\n",
       "      <th></th>\n",
       "      <th>totalUniqueUsers</th>\n",
       "      <th>totalArtistPlays</th>\n",
       "      <th>avgUserPlays</th>\n",
       "    </tr>\n",
       "    <tr>\n",
       "      <th>name</th>\n",
       "      <th></th>\n",
       "      <th></th>\n",
       "      <th></th>\n",
       "    </tr>\n",
       "  </thead>\n",
       "  <tbody>\n",
       "    <tr>\n",
       "      <th>Lady Gaga</th>\n",
       "      <td>611</td>\n",
       "      <td>1291387</td>\n",
       "      <td>2113.56</td>\n",
       "    </tr>\n",
       "    <tr>\n",
       "      <th>Britney Spears</th>\n",
       "      <td>522</td>\n",
       "      <td>2393140</td>\n",
       "      <td>4584.56</td>\n",
       "    </tr>\n",
       "    <tr>\n",
       "      <th>Rihanna</th>\n",
       "      <td>484</td>\n",
       "      <td>905423</td>\n",
       "      <td>1870.71</td>\n",
       "    </tr>\n",
       "    <tr>\n",
       "      <th>The Beatles</th>\n",
       "      <td>480</td>\n",
       "      <td>662116</td>\n",
       "      <td>1379.41</td>\n",
       "    </tr>\n",
       "    <tr>\n",
       "      <th>Katy Perry</th>\n",
       "      <td>473</td>\n",
       "      <td>532545</td>\n",
       "      <td>1125.89</td>\n",
       "    </tr>\n",
       "  </tbody>\n",
       "</table>\n",
       "</div>"
      ],
      "text/plain": [
       "                totalUniqueUsers  totalArtistPlays  avgUserPlays\n",
       "name                                                            \n",
       "Lady Gaga                    611           1291387       2113.56\n",
       "Britney Spears               522           2393140       4584.56\n",
       "Rihanna                      484            905423       1870.71\n",
       "The Beatles                  480            662116       1379.41\n",
       "Katy Perry                   473            532545       1125.89"
      ]
     },
     "execution_count": 16,
     "metadata": {},
     "output_type": "execute_result"
    }
   ],
   "source": [
    "artist_rank.sort_values(['totalUniqueUsers'],ascending=False).head()"
   ]
  },
  {
   "cell_type": "markdown",
   "metadata": {},
   "source": [
    "Of the total 1,892 users in this dataset, 611 of them listened to Lady Gaga at least one time.  That is 32.3% of all users!"
   ]
  },
  {
   "cell_type": "code",
   "execution_count": 17,
   "metadata": {},
   "outputs": [
    {
     "data": {
      "text/plain": [
       "611"
      ]
     },
     "execution_count": 17,
     "metadata": {},
     "output_type": "execute_result"
    }
   ],
   "source": [
    "len(ap3['userArtistPlays'][ap3['name']=='Lady Gaga'])"
   ]
  },
  {
   "cell_type": "code",
   "execution_count": 18,
   "metadata": {},
   "outputs": [
    {
     "data": {
      "image/png": "[encoded data removed]",
      "text/plain": [
       "<Figure size 1152x360 with 1 Axes>"
      ]
     },
     "metadata": {},
     "output_type": "display_data"
    }
   ],
   "source": [
    "# Lady Gaga has been played by 32.3% of the users in the sample\n",
    "c2 = artist_rank.sort_values(['totalUniqueUsers'],ascending=False)\n",
    "x = c2.index\n",
    "y = c2.totalUniqueUsers\n",
    "x_label = 'Artist Name'\n",
    "y_label = 'Unique Users Played'\n",
    "title = 'Unique Users per Artist'\n",
    "caption = 'Percentages are of total unique users'\n",
    "total_val = ap3.userID.nunique()\n",
    "\n",
    "bar_chart_int(x,y,x_label,y_label,title,caption,total_val)"
   ]
  },
  {
   "cell_type": "markdown",
   "metadata": {},
   "source": [
    "As expected, we see general positive correlation between number of artist plays and number of unique users.  We see Britney Spears with the most aggregate plays and Lady Gaga with the most unique listeners.\n",
    "\n",
    "We compare both metrics (total artist plays vs unique users) on a single chart below.  "
   ]
  },
  {
   "cell_type": "code",
   "execution_count": 19,
   "metadata": {},
   "outputs": [
    {
     "data": {
      "image/png": "[encoded data removed]",
      "text/plain": [
       "<Figure size 1080x720 with 1 Axes>"
      ]
     },
     "metadata": {},
     "output_type": "display_data"
    }
   ],
   "source": [
    "top_artists = artist_rank.sort_values(['totalArtistPlays'],ascending=False).index[:12]\n",
    "\n",
    "x = artist_rank.totalUniqueUsers\n",
    "y = artist_rank.totalArtistPlays\n",
    "labels = artist_rank.index\n",
    "\n",
    "fig, ax = plt.subplots(figsize=(15,10))\n",
    "sns.regplot(x,y)\n",
    "ax.set_title('Artist Popularity: Play Count vs Unique Users',fontweight='bold')\n",
    "ax.yaxis.set_major_formatter(ticker.FuncFormatter(lambda y, _: '{:,.0f}'.format(y)))\n",
    "ax.set_xlabel('Total Unique Users',fontweight='bold')\n",
    "ax.set_ylabel('Total Artist Plays',fontweight='bold')\n",
    "\n",
    "for i, t in enumerate(labels):\n",
    "    if t in top_artists:\n",
    "        ax.annotate(t,(x[i],y[i]))"
   ]
  },
  {
   "cell_type": "markdown",
   "metadata": {},
   "source": [
    "Now we look at the activity of each user.  \n",
    "\n",
    "User #757 accounts for almost 1% of all plays in the dataset with almost 500,000 plays. If we estimate that each play is on average 4 minutes, then 500,000 plays equates to almost 87 24-hour days of continuous play time. Perhaps these are corporate users playing background music?"
   ]
  },
  {
   "cell_type": "code",
   "execution_count": 20,
   "metadata": {},
   "outputs": [
    {
     "data": {
      "image/png": "[encoded data removed]",
      "text/plain": [
       "<Figure size 1152x360 with 1 Axes>"
      ]
     },
     "metadata": {},
     "output_type": "display_data"
    }
   ],
   "source": [
    "c3 = user_rank.sort_values(['totalUserPlays'],ascending=False)\n",
    "c3['userID'] = c3.index\n",
    "c3.userID = c3.userID.apply(lambda x: '#'+str(x))\n",
    "\n",
    "x = c3.userID\n",
    "y = c3.totalUserPlays\n",
    "x_label = 'User'\n",
    "y_label = 'Plays per User'\n",
    "title = 'Total Plays per User'\n",
    "caption = 'Percentages are of total plays'\n",
    "total_val = ap3.userArtistPlays.sum()\n",
    "\n",
    "bar_chart_int(x,y,x_label,y_label,title,caption,total_val)"
   ]
  },
  {
   "cell_type": "code",
   "execution_count": 21,
   "metadata": {},
   "outputs": [
    {
     "data": {
      "text/html": [
       "<div>\n",
       "<style scoped>\n",
       "    .dataframe tbody tr th:only-of-type {\n",
       "        vertical-align: middle;\n",
       "    }\n",
       "\n",
       "    .dataframe tbody tr th {\n",
       "        vertical-align: top;\n",
       "    }\n",
       "\n",
       "    .dataframe thead th {\n",
       "        text-align: right;\n",
       "    }\n",
       "</style>\n",
       "<table border=\"1\" class=\"dataframe\">\n",
       "  <thead>\n",
       "    <tr style=\"text-align: right;\">\n",
       "      <th></th>\n",
       "      <th>totalUniqueUsers</th>\n",
       "      <th>totalArtistPlays</th>\n",
       "      <th>avgUserPlays</th>\n",
       "    </tr>\n",
       "    <tr>\n",
       "      <th>name</th>\n",
       "      <th></th>\n",
       "      <th></th>\n",
       "      <th></th>\n",
       "    </tr>\n",
       "  </thead>\n",
       "  <tbody>\n",
       "    <tr>\n",
       "      <th>Viking Quest</th>\n",
       "      <td>1</td>\n",
       "      <td>35323</td>\n",
       "      <td>35323.00</td>\n",
       "    </tr>\n",
       "    <tr>\n",
       "      <th>Tyler Adam</th>\n",
       "      <td>1</td>\n",
       "      <td>30614</td>\n",
       "      <td>30614.00</td>\n",
       "    </tr>\n",
       "    <tr>\n",
       "      <th>Rytmus</th>\n",
       "      <td>1</td>\n",
       "      <td>23462</td>\n",
       "      <td>23462.00</td>\n",
       "    </tr>\n",
       "    <tr>\n",
       "      <th>Johnny Hallyday</th>\n",
       "      <td>2</td>\n",
       "      <td>32995</td>\n",
       "      <td>16497.50</td>\n",
       "    </tr>\n",
       "    <tr>\n",
       "      <th>Dicky Dixon</th>\n",
       "      <td>1</td>\n",
       "      <td>15345</td>\n",
       "      <td>15345.00</td>\n",
       "    </tr>\n",
       "  </tbody>\n",
       "</table>\n",
       "</div>"
      ],
      "text/plain": [
       "                 totalUniqueUsers  totalArtistPlays  avgUserPlays\n",
       "name                                                             \n",
       "Viking Quest                    1             35323      35323.00\n",
       "Tyler Adam                      1             30614      30614.00\n",
       "Rytmus                          1             23462      23462.00\n",
       "Johnny Hallyday                 2             32995      16497.50\n",
       "Dicky Dixon                     1             15345      15345.00"
      ]
     },
     "execution_count": 21,
     "metadata": {},
     "output_type": "execute_result"
    }
   ],
   "source": [
    "artist_rank.sort_values(['avgUserPlays'],ascending=False).head()"
   ]
  },
  {
   "cell_type": "markdown",
   "metadata": {},
   "source": [
    "Lets look at what we can call user loyalty: the average amount of times a user plays a specific artist.  Again, this is defined as (total artist plays / total unique users).  \n",
    "\n",
    "Viking Quest has a single unique user which played them 35,000 times.  Thus on average the artist wins out at greatest average plays per user.  "
   ]
  },
  {
   "cell_type": "code",
   "execution_count": 22,
   "metadata": {},
   "outputs": [
    {
     "data": {
      "text/html": [
       "<div>\n",
       "<style scoped>\n",
       "    .dataframe tbody tr th:only-of-type {\n",
       "        vertical-align: middle;\n",
       "    }\n",
       "\n",
       "    .dataframe tbody tr th {\n",
       "        vertical-align: top;\n",
       "    }\n",
       "\n",
       "    .dataframe thead th {\n",
       "        text-align: right;\n",
       "    }\n",
       "</style>\n",
       "<table border=\"1\" class=\"dataframe\">\n",
       "  <thead>\n",
       "    <tr style=\"text-align: right;\">\n",
       "      <th></th>\n",
       "      <th>id</th>\n",
       "      <th>name</th>\n",
       "      <th>userID</th>\n",
       "      <th>artistID</th>\n",
       "      <th>userArtistPlays</th>\n",
       "      <th>totalUniqueUsers</th>\n",
       "      <th>totalArtistPlays</th>\n",
       "      <th>avgUserPlays</th>\n",
       "      <th>totalUniqueArtists</th>\n",
       "      <th>totalUserPlays</th>\n",
       "    </tr>\n",
       "  </thead>\n",
       "  <tbody>\n",
       "    <tr>\n",
       "      <th>80046</th>\n",
       "      <td>8388</td>\n",
       "      <td>Viking Quest</td>\n",
       "      <td>596</td>\n",
       "      <td>8388</td>\n",
       "      <td>35323</td>\n",
       "      <td>1</td>\n",
       "      <td>35323</td>\n",
       "      <td>35323.00</td>\n",
       "      <td>50</td>\n",
       "      <td>101469</td>\n",
       "    </tr>\n",
       "  </tbody>\n",
       "</table>\n",
       "</div>"
      ],
      "text/plain": [
       "         id          name  userID  artistID  userArtistPlays  \\\n",
       "80046  8388  Viking Quest     596      8388            35323   \n",
       "\n",
       "       totalUniqueUsers  totalArtistPlays  avgUserPlays  totalUniqueArtists  \\\n",
       "80046                 1             35323      35323.00                  50   \n",
       "\n",
       "       totalUserPlays  \n",
       "80046          101469  "
      ]
     },
     "execution_count": 22,
     "metadata": {},
     "output_type": "execute_result"
    }
   ],
   "source": [
    "ap3[ap3['name']=='Viking Quest']"
   ]
  },
  {
   "cell_type": "code",
   "execution_count": 23,
   "metadata": {},
   "outputs": [
    {
     "data": {
      "image/png": "[encoded data removed]",
      "text/plain": [
       "<Figure size 1152x360 with 1 Axes>"
      ]
     },
     "metadata": {},
     "output_type": "display_data"
    }
   ],
   "source": [
    "c4 = artist_rank.sort_values(['avgUserPlays'],ascending=False)\n",
    "\n",
    "x = c4.index\n",
    "y = c4.avgUserPlays\n",
    "x_label = 'Artist Name'\n",
    "y_label = 'Average Plays per User'\n",
    "title = 'Top Plays per User'\n",
    "caption = 'Percentages are of percent of total plays'\n",
    "total_val = ap3.userArtistPlays.sum()\n",
    "\n",
    "bar_chart_int(x,y,x_label,y_label,title,caption,total_val)"
   ]
  },
  {
   "cell_type": "markdown",
   "metadata": {},
   "source": [
    "If we include only popular artists which we will define as over 100 unique users, the most dedicated fans belong to Depeche Mode, followed closely by Britney Spears. "
   ]
  },
  {
   "cell_type": "code",
   "execution_count": 24,
   "metadata": {},
   "outputs": [
    {
     "data": {
      "image/png": "[encoded data removed]",
      "text/plain": [
       "<Figure size 1152x360 with 1 Axes>"
      ]
     },
     "metadata": {},
     "output_type": "display_data"
    }
   ],
   "source": [
    "c5 = artist_rank[artist_rank['totalUniqueUsers']>100].sort_values(['avgUserPlays'],ascending=False)\n",
    "\n",
    "x = c5.index\n",
    "y = c5.avgUserPlays\n",
    "x_label = 'Artist Name'\n",
    "y_label = 'Average Plays per User'\n",
    "title = 'Top Plays per User'\n",
    "caption = 'Percentages are of percent of total plays'\n",
    "total_val = ap3.userArtistPlays.sum()\n",
    "\n",
    "bar_chart_int(x,y,x_label,y_label,title,caption,total_val)"
   ]
  },
  {
   "cell_type": "markdown",
   "metadata": {},
   "source": [
    "# Item Similarity with K-Nearest Neighbors in Scikit Learn\n",
    "\n",
    "As our first iteration of a basic collaborative recommender, we will build a sparse matrix comparing artist plays (rows) by user (columns). This data will then be passed through a latent mapping algorithm, K-nearest neighbors, to determine cosine similarity amongst the user/artist relationships.  This will help us determine which artists are most similar as in shortest distance apart within this latent mapping.  For instance, as we would see with a relatively small cosine distance between them, when a user plays the Beatles, they also have a high probability of playing the Rolling Stones rather than a more distant artist such as Snoop Dogg.  "
   ]
  },
  {
   "cell_type": "markdown",
   "metadata": {},
   "source": [
    "### Prepare Sparse Matrix\n",
    "\n",
    "Here we fit data into a sparse matrix of artist name (row) vs. user (column).  This matrix captures all relationships between artists and users with number of plays in each respective cell.  "
   ]
  },
  {
   "cell_type": "code",
   "execution_count": 25,
   "metadata": {
    "collapsed": true
   },
   "outputs": [],
   "source": [
    "# fit data into a sparse matrix of artist name (row) vs user (column)\n",
    "# in terms of number of plays by artist/user\n",
    "def data_to_sparse(data,index,columns,values):\n",
    "    pivot = data.pivot(index=index,columns=columns,values=values).fillna(0)\n",
    "    sparse = csr_matrix(pivot.values)\n",
    "    print(sparse.shape)\n",
    "    return pivot,sparse\n",
    "\n",
    "# User K Nearest Neighbors to determine cosine distance amongst artists\n",
    "def fit_knn(sparse):\n",
    "    knn = NearestNeighbors(metric='cosine')\n",
    "    knn.fit(sparse)\n",
    "    print(knn)\n",
    "    return knn"
   ]
  },
  {
   "cell_type": "code",
   "execution_count": 26,
   "metadata": {},
   "outputs": [
    {
     "name": "stdout",
     "output_type": "stream",
     "text": [
      "(17632, 1892)\n"
     ]
    }
   ],
   "source": [
    "pivot_ap3,sparse_ap3 = data_to_sparse(ap3,index='name',columns='userID',values='userArtistPlays')"
   ]
  },
  {
   "cell_type": "code",
   "execution_count": 27,
   "metadata": {},
   "outputs": [
    {
     "name": "stdout",
     "output_type": "stream",
     "text": [
      "NearestNeighbors(algorithm='auto', leaf_size=30, metric='cosine',\n",
      "         metric_params=None, n_jobs=1, n_neighbors=5, p=2, radius=1.0)\n"
     ]
    }
   ],
   "source": [
    "knn = fit_knn(sparse_ap3)"
   ]
  },
  {
   "cell_type": "code",
   "execution_count": 28,
   "metadata": {},
   "outputs": [
    {
     "data": {
      "text/html": [
       "<div>\n",
       "<style scoped>\n",
       "    .dataframe tbody tr th:only-of-type {\n",
       "        vertical-align: middle;\n",
       "    }\n",
       "\n",
       "    .dataframe tbody tr th {\n",
       "        vertical-align: top;\n",
       "    }\n",
       "\n",
       "    .dataframe thead th {\n",
       "        text-align: right;\n",
       "    }\n",
       "</style>\n",
       "<table border=\"1\" class=\"dataframe\">\n",
       "  <thead>\n",
       "    <tr style=\"text-align: right;\">\n",
       "      <th>userID</th>\n",
       "      <th>2</th>\n",
       "      <th>3</th>\n",
       "      <th>4</th>\n",
       "      <th>5</th>\n",
       "      <th>6</th>\n",
       "      <th>7</th>\n",
       "      <th>8</th>\n",
       "      <th>9</th>\n",
       "      <th>10</th>\n",
       "      <th>11</th>\n",
       "      <th>...</th>\n",
       "      <th>2090</th>\n",
       "      <th>2091</th>\n",
       "      <th>2092</th>\n",
       "      <th>2093</th>\n",
       "      <th>2094</th>\n",
       "      <th>2095</th>\n",
       "      <th>2096</th>\n",
       "      <th>2097</th>\n",
       "      <th>2099</th>\n",
       "      <th>2100</th>\n",
       "    </tr>\n",
       "    <tr>\n",
       "      <th>name</th>\n",
       "      <th></th>\n",
       "      <th></th>\n",
       "      <th></th>\n",
       "      <th></th>\n",
       "      <th></th>\n",
       "      <th></th>\n",
       "      <th></th>\n",
       "      <th></th>\n",
       "      <th></th>\n",
       "      <th></th>\n",
       "      <th></th>\n",
       "      <th></th>\n",
       "      <th></th>\n",
       "      <th></th>\n",
       "      <th></th>\n",
       "      <th></th>\n",
       "      <th></th>\n",
       "      <th></th>\n",
       "      <th></th>\n",
       "      <th></th>\n",
       "      <th></th>\n",
       "    </tr>\n",
       "  </thead>\n",
       "  <tbody>\n",
       "    <tr>\n",
       "      <th>!!!</th>\n",
       "      <td>0.00</td>\n",
       "      <td>0.00</td>\n",
       "      <td>0.00</td>\n",
       "      <td>0.00</td>\n",
       "      <td>0.00</td>\n",
       "      <td>0.00</td>\n",
       "      <td>0.00</td>\n",
       "      <td>0.00</td>\n",
       "      <td>0.00</td>\n",
       "      <td>0.00</td>\n",
       "      <td>...</td>\n",
       "      <td>0.00</td>\n",
       "      <td>0.00</td>\n",
       "      <td>0.00</td>\n",
       "      <td>0.00</td>\n",
       "      <td>0.00</td>\n",
       "      <td>0.00</td>\n",
       "      <td>0.00</td>\n",
       "      <td>0.00</td>\n",
       "      <td>0.00</td>\n",
       "      <td>0.00</td>\n",
       "    </tr>\n",
       "    <tr>\n",
       "      <th>!DISTAIN</th>\n",
       "      <td>0.00</td>\n",
       "      <td>0.00</td>\n",
       "      <td>0.00</td>\n",
       "      <td>0.00</td>\n",
       "      <td>0.00</td>\n",
       "      <td>0.00</td>\n",
       "      <td>0.00</td>\n",
       "      <td>0.00</td>\n",
       "      <td>0.00</td>\n",
       "      <td>0.00</td>\n",
       "      <td>...</td>\n",
       "      <td>0.00</td>\n",
       "      <td>0.00</td>\n",
       "      <td>0.00</td>\n",
       "      <td>0.00</td>\n",
       "      <td>0.00</td>\n",
       "      <td>0.00</td>\n",
       "      <td>0.00</td>\n",
       "      <td>0.00</td>\n",
       "      <td>0.00</td>\n",
       "      <td>0.00</td>\n",
       "    </tr>\n",
       "    <tr>\n",
       "      <th>!deladap</th>\n",
       "      <td>0.00</td>\n",
       "      <td>0.00</td>\n",
       "      <td>0.00</td>\n",
       "      <td>0.00</td>\n",
       "      <td>0.00</td>\n",
       "      <td>0.00</td>\n",
       "      <td>0.00</td>\n",
       "      <td>0.00</td>\n",
       "      <td>0.00</td>\n",
       "      <td>0.00</td>\n",
       "      <td>...</td>\n",
       "      <td>0.00</td>\n",
       "      <td>0.00</td>\n",
       "      <td>0.00</td>\n",
       "      <td>0.00</td>\n",
       "      <td>0.00</td>\n",
       "      <td>0.00</td>\n",
       "      <td>0.00</td>\n",
       "      <td>0.00</td>\n",
       "      <td>0.00</td>\n",
       "      <td>0.00</td>\n",
       "    </tr>\n",
       "    <tr>\n",
       "      <th>#####</th>\n",
       "      <td>0.00</td>\n",
       "      <td>0.00</td>\n",
       "      <td>0.00</td>\n",
       "      <td>0.00</td>\n",
       "      <td>0.00</td>\n",
       "      <td>0.00</td>\n",
       "      <td>0.00</td>\n",
       "      <td>0.00</td>\n",
       "      <td>0.00</td>\n",
       "      <td>0.00</td>\n",
       "      <td>...</td>\n",
       "      <td>0.00</td>\n",
       "      <td>0.00</td>\n",
       "      <td>0.00</td>\n",
       "      <td>0.00</td>\n",
       "      <td>0.00</td>\n",
       "      <td>0.00</td>\n",
       "      <td>0.00</td>\n",
       "      <td>0.00</td>\n",
       "      <td>0.00</td>\n",
       "      <td>0.00</td>\n",
       "    </tr>\n",
       "    <tr>\n",
       "      <th>#2 Orchestra</th>\n",
       "      <td>0.00</td>\n",
       "      <td>0.00</td>\n",
       "      <td>0.00</td>\n",
       "      <td>0.00</td>\n",
       "      <td>0.00</td>\n",
       "      <td>0.00</td>\n",
       "      <td>0.00</td>\n",
       "      <td>0.00</td>\n",
       "      <td>0.00</td>\n",
       "      <td>0.00</td>\n",
       "      <td>...</td>\n",
       "      <td>0.00</td>\n",
       "      <td>0.00</td>\n",
       "      <td>0.00</td>\n",
       "      <td>0.00</td>\n",
       "      <td>0.00</td>\n",
       "      <td>0.00</td>\n",
       "      <td>0.00</td>\n",
       "      <td>0.00</td>\n",
       "      <td>0.00</td>\n",
       "      <td>0.00</td>\n",
       "    </tr>\n",
       "  </tbody>\n",
       "</table>\n",
       "<p>5 rows × 1892 columns</p>\n",
       "</div>"
      ],
      "text/plain": [
       "userID        2     3     4     5     6     7     8     9     10    11    \\\n",
       "name                                                                       \n",
       "!!!           0.00  0.00  0.00  0.00  0.00  0.00  0.00  0.00  0.00  0.00   \n",
       "!DISTAIN      0.00  0.00  0.00  0.00  0.00  0.00  0.00  0.00  0.00  0.00   \n",
       "!deladap      0.00  0.00  0.00  0.00  0.00  0.00  0.00  0.00  0.00  0.00   \n",
       "#####         0.00  0.00  0.00  0.00  0.00  0.00  0.00  0.00  0.00  0.00   \n",
       "#2 Orchestra  0.00  0.00  0.00  0.00  0.00  0.00  0.00  0.00  0.00  0.00   \n",
       "\n",
       "userID        ...   2090  2091  2092  2093  2094  2095  2096  2097  2099  2100  \n",
       "name          ...                                                               \n",
       "!!!           ...   0.00  0.00  0.00  0.00  0.00  0.00  0.00  0.00  0.00  0.00  \n",
       "!DISTAIN      ...   0.00  0.00  0.00  0.00  0.00  0.00  0.00  0.00  0.00  0.00  \n",
       "!deladap      ...   0.00  0.00  0.00  0.00  0.00  0.00  0.00  0.00  0.00  0.00  \n",
       "#####         ...   0.00  0.00  0.00  0.00  0.00  0.00  0.00  0.00  0.00  0.00  \n",
       "#2 Orchestra  ...   0.00  0.00  0.00  0.00  0.00  0.00  0.00  0.00  0.00  0.00  \n",
       "\n",
       "[5 rows x 1892 columns]"
      ]
     },
     "execution_count": 28,
     "metadata": {},
     "output_type": "execute_result"
    }
   ],
   "source": [
    "pivot_ap3.head()"
   ]
  },
  {
   "cell_type": "markdown",
   "metadata": {},
   "source": [
    "Here we lookup artist similarities based on index number within the sparse matrix, with cosine distance in parentheses."
   ]
  },
  {
   "cell_type": "code",
   "execution_count": 29,
   "metadata": {
    "collapsed": true
   },
   "outputs": [],
   "source": [
    "def idx_recommend(data,idx,model,k):\n",
    "    distances, indices = (model.kneighbors(data.\n",
    "                                     iloc[idx,:].\n",
    "                                     values.reshape(1,-1),\n",
    "                                     n_neighbors=k+1))\n",
    "\n",
    "    for i in range(0,len(distances.flatten())):\n",
    "        if i == 0:\n",
    "            print(('Recommendations for {}:\\n'.\n",
    "                  format(data.index[idx])))\n",
    "        else:\n",
    "            print(('{}: {} ({:.3f})'.\n",
    "                  format(i,\n",
    "                         data.index[indices.flatten()[i]],\n",
    "                         distances.flatten()[i])))\n",
    "    return ''"
   ]
  },
  {
   "cell_type": "code",
   "execution_count": 30,
   "metadata": {},
   "outputs": [
    {
     "name": "stdout",
     "output_type": "stream",
     "text": [
      "Recommendations for VINILOVERSUS:\n",
      "\n",
      "1: Don Davis (0.000)\n",
      "2: Taking Back Sunday (0.792)\n",
      "3: Ana Johnsson (0.856)\n",
      "4: Lacuna Coil (0.864)\n",
      "5: Breaking Benjamin (0.867)\n",
      "6: Trapt (0.868)\n"
     ]
    },
    {
     "data": {
      "text/plain": [
       "''"
      ]
     },
     "execution_count": 30,
     "metadata": {},
     "output_type": "execute_result"
    }
   ],
   "source": [
    "# we query a random artist\n",
    "query_index = seed.choice(pivot_ap3.shape[0])\n",
    "idx_recommend(pivot_ap3,query_index,knn,6)"
   ]
  },
  {
   "cell_type": "code",
   "execution_count": 31,
   "metadata": {},
   "outputs": [
    {
     "name": "stdout",
     "output_type": "stream",
     "text": [
      "Recommendations for Britney Spears:\n",
      "\n",
      "1: Lindsay Lohan (0.504)\n",
      "2: RuPaul (0.567)\n",
      "3: Sarah Michelle Gellar (0.568)\n",
      "4: mclusky (0.568)\n",
      "5: Анастасия Приходько (0.568)\n",
      "6: †‡† (0.570)\n"
     ]
    },
    {
     "data": {
      "text/plain": [
       "''"
      ]
     },
     "execution_count": 31,
     "metadata": {},
     "output_type": "execute_result"
    }
   ],
   "source": [
    "# lookup index number for select artists\n",
    "query_index = pivot_ap3.index.get_loc('Britney Spears')\n",
    "idx_recommend(pivot_ap3,query_index,knn,6)"
   ]
  },
  {
   "cell_type": "code",
   "execution_count": 32,
   "metadata": {},
   "outputs": [
    {
     "name": "stdout",
     "output_type": "stream",
     "text": [
      "Recommendations for Oasis:\n",
      "\n",
      "1: Fuel (0.349)\n",
      "2: The Perishers (0.355)\n",
      "3: Vertical Horizon (0.386)\n",
      "4: The Wreckers (0.406)\n",
      "5: The Vines (0.471)\n",
      "6: Calogero (0.534)\n"
     ]
    },
    {
     "data": {
      "text/plain": [
       "''"
      ]
     },
     "execution_count": 32,
     "metadata": {},
     "output_type": "execute_result"
    }
   ],
   "source": [
    "query_index = pivot_ap3.index.get_loc('Oasis')\n",
    "idx_recommend(pivot_ap3,query_index,knn,6)"
   ]
  },
  {
   "cell_type": "markdown",
   "metadata": {},
   "source": [
    "### Query by Artist (with Fuzzy Matching)\n",
    "\n",
    "Here we implement direct artist lookup using fuzzy matching for partial name matches.  "
   ]
  },
  {
   "cell_type": "code",
   "execution_count": 33,
   "metadata": {
    "collapsed": true
   },
   "outputs": [],
   "source": [
    "# this will help us to locate partial matches of our query\n",
    "def fuzzy_match(query_subject,data):\n",
    "    ratio_tuples = []\n",
    "    \n",
    "    # each artist name is the subject in the data index\n",
    "    # each artist in the data is compared against our query subject to determine percentage match\n",
    "    # NOTE there may be ways to optimize this process by not looping through all artists\n",
    "    for subject in data.index:\n",
    "        ratio = fuzz.ratio(subject.lower(),query_subject.lower())\n",
    "        current_query_idx = data.index.tolist().index(subject)\n",
    "        ratio_tuples.append((subject, ratio,current_query_idx))\n",
    "        \n",
    "    # our findings are then sorted based on match rating, and top two are kept\n",
    "    ratio_tuples = sorted(ratio_tuples, key=lambda tup: tup[1],reverse=True)[:2]\n",
    "    \n",
    "    print('Top matches: {}\\n'.format([(x[0],x[1]) for x in ratio_tuples]))  \n",
    "    \n",
    "    match = ratio_tuples[0][0]\n",
    "    \n",
    "    return match, ratio_tuples\n",
    "\n",
    "def artist_recommend(query_artist, data, model,k):\n",
    "    \n",
    "    # determine artist matches using fuzzy matching\n",
    "    \n",
    "    match, ratio_tuples = fuzzy_match(query_artist,data)\n",
    "    \n",
    "    # look up artist by query index\n",
    "    idx_recommend(data, ratio_tuples[0][2],model,k)   \n",
    "    return ''"
   ]
  },
  {
   "cell_type": "markdown",
   "metadata": {},
   "source": [
    "Subjectively applying music domain knowledge, the recommendations below are largely in the ballpark, but we will work on further refining these.  Below we will look into reducing noise by including only popular artists and active users, and also either bucketizing or binarizing our play counts."
   ]
  },
  {
   "cell_type": "code",
   "execution_count": 34,
   "metadata": {},
   "outputs": [
    {
     "name": "stdout",
     "output_type": "stream",
     "text": [
      "Top matches: [('Britney Spears', 100), ('Britney Spears⊼', 97)]\n",
      "\n",
      "Recommendations for Britney Spears:\n",
      "\n",
      "1: Lindsay Lohan (0.504)\n",
      "2: RuPaul (0.567)\n",
      "3: Sarah Michelle Gellar (0.568)\n",
      "4: mclusky (0.568)\n",
      "5: Анастасия Приходько (0.568)\n",
      "6: †‡† (0.570)\n",
      "7: Nadia Oh (0.570)\n",
      "8: Rachel Stevens (0.571)\n",
      "9: L'Âme Immortelle (0.596)\n",
      "10: Hilary Duff (0.622)\n"
     ]
    },
    {
     "data": {
      "text/plain": [
       "''"
      ]
     },
     "execution_count": 34,
     "metadata": {},
     "output_type": "execute_result"
    }
   ],
   "source": [
    "artist_recommend('britney spears',pivot_ap3,knn,10)"
   ]
  },
  {
   "cell_type": "code",
   "execution_count": 35,
   "metadata": {},
   "outputs": [
    {
     "name": "stdout",
     "output_type": "stream",
     "text": [
      "Top matches: [('Nirvana', 100), ('Nina', 73)]\n",
      "\n",
      "Recommendations for Nirvana:\n",
      "\n",
      "1: Nullset (0.130)\n",
      "2: SoundGarden | www.CdsCompletos.net (0.130)\n",
      "3: Humberto Gessinger Trio (0.130)\n",
      "4: Green River (0.130)\n",
      "5: Infectious Grooves (0.130)\n",
      "6: 4 Non Blondes (0.135)\n",
      "7: Puddle of Mudd (0.144)\n",
      "8: Meat Puppets (0.152)\n",
      "9: Institute (0.302)\n",
      "10: Living Colour (0.309)\n"
     ]
    },
    {
     "data": {
      "text/plain": [
       "''"
      ]
     },
     "execution_count": 35,
     "metadata": {},
     "output_type": "execute_result"
    }
   ],
   "source": [
    "artist_recommend('nirvana',pivot_ap3,knn,10)"
   ]
  },
  {
   "cell_type": "code",
   "execution_count": 36,
   "metadata": {},
   "outputs": [
    {
     "name": "stdout",
     "output_type": "stream",
     "text": [
      "Top matches: [('Red Hot Chili Peppers', 78), ('The Chills', 64)]\n",
      "\n",
      "Recommendations for Red Hot Chili Peppers:\n",
      "\n",
      "1: The Offspring (0.568)\n",
      "2: Kreator (0.630)\n",
      "3: Bloodhound Gang (0.660)\n",
      "4: 5'nizza (0.689)\n",
      "5: Steppenwolf (0.691)\n",
      "6: Beatallica (0.692)\n",
      "7: Ногу Свело! (0.692)\n",
      "8: Mercyful Fate (0.692)\n",
      "9: John Frusciante (0.692)\n",
      "10: Ленинград (0.692)\n"
     ]
    },
    {
     "data": {
      "text/plain": [
       "''"
      ]
     },
     "execution_count": 36,
     "metadata": {},
     "output_type": "execute_result"
    }
   ],
   "source": [
    "artist_recommend('red hot chillis',pivot_ap3,knn,10)"
   ]
  },
  {
   "cell_type": "markdown",
   "metadata": {},
   "source": [
    "### Feature Scaling: Apply Threshold\n",
    "\n",
    "Here we apply thresholds to keep only popular artists and active users.  This reduces noise in our data in an aim to improve our recommendations.\n",
    "\n",
    "We will filter as follows.\n",
    "\n",
    "Users:\n",
    "- _Minimum Plays per User_. Minimum aggregate play count per user.  \n",
    "- _Minimum Unique Artist Plays_. A user needs to play at least this many different artists to be counted.\n",
    "\n",
    "Artists:\n",
    "- _Minimum Artist Plays_. Minimum times an artist must be played.  \n",
    "- _Minimum Listeners_. Minimum unique users per artist.  "
   ]
  },
  {
   "cell_type": "code",
   "execution_count": 37,
   "metadata": {},
   "outputs": [
    {
     "name": "stdout",
     "output_type": "stream",
     "text": [
      "MINIMUM VALUES\n",
      "totalUserPlays from 3 to 1001\n",
      "totalUniqueArtists from 1 to 10\n",
      "totalArtistPlays from 1 to 10007\n",
      "totalUniqueUsers from 1 to 10\n",
      "\n",
      "FILTER IMPACT\n",
      "FILTERED Users: 1790 Artists: 871\n",
      "ORIGINAL Users: 1892 Artists: 17632\n",
      "FILTERED % ORIGINAL Users: 94.6% Artists: 4.9%\n"
     ]
    },
    {
     "data": {
      "text/html": [
       "<div>\n",
       "<style scoped>\n",
       "    .dataframe tbody tr th:only-of-type {\n",
       "        vertical-align: middle;\n",
       "    }\n",
       "\n",
       "    .dataframe tbody tr th {\n",
       "        vertical-align: top;\n",
       "    }\n",
       "\n",
       "    .dataframe thead th {\n",
       "        text-align: right;\n",
       "    }\n",
       "</style>\n",
       "<table border=\"1\" class=\"dataframe\">\n",
       "  <thead>\n",
       "    <tr style=\"text-align: right;\">\n",
       "      <th></th>\n",
       "      <th>totalUserPlays</th>\n",
       "      <th>totalUniqueArtists</th>\n",
       "      <th>totalArtistPlays</th>\n",
       "      <th>totalUniqueUsers</th>\n",
       "    </tr>\n",
       "  </thead>\n",
       "  <tbody>\n",
       "    <tr>\n",
       "      <th>count</th>\n",
       "      <td>52298.00</td>\n",
       "      <td>52298.00</td>\n",
       "      <td>52298.00</td>\n",
       "      <td>52298.00</td>\n",
       "    </tr>\n",
       "    <tr>\n",
       "      <th>mean</th>\n",
       "      <td>41467.40</td>\n",
       "      <td>49.87</td>\n",
       "      <td>192603.24</td>\n",
       "      <td>144.96</td>\n",
       "    </tr>\n",
       "    <tr>\n",
       "      <th>std</th>\n",
       "      <td>50438.77</td>\n",
       "      <td>1.70</td>\n",
       "      <td>336597.43</td>\n",
       "      <td>135.10</td>\n",
       "    </tr>\n",
       "    <tr>\n",
       "      <th>min</th>\n",
       "      <td>1001.00</td>\n",
       "      <td>10.00</td>\n",
       "      <td>10007.00</td>\n",
       "      <td>10.00</td>\n",
       "    </tr>\n",
       "    <tr>\n",
       "      <th>25%</th>\n",
       "      <td>13094.00</td>\n",
       "      <td>50.00</td>\n",
       "      <td>27175.00</td>\n",
       "      <td>45.00</td>\n",
       "    </tr>\n",
       "    <tr>\n",
       "      <th>50%</th>\n",
       "      <td>25511.00</td>\n",
       "      <td>50.00</td>\n",
       "      <td>64596.00</td>\n",
       "      <td>89.00</td>\n",
       "    </tr>\n",
       "    <tr>\n",
       "      <th>75%</th>\n",
       "      <td>48311.00</td>\n",
       "      <td>50.00</td>\n",
       "      <td>188634.00</td>\n",
       "      <td>208.00</td>\n",
       "    </tr>\n",
       "    <tr>\n",
       "      <th>max</th>\n",
       "      <td>480039.00</td>\n",
       "      <td>50.00</td>\n",
       "      <td>2393140.00</td>\n",
       "      <td>611.00</td>\n",
       "    </tr>\n",
       "  </tbody>\n",
       "</table>\n",
       "</div>"
      ],
      "text/plain": [
       "       totalUserPlays  totalUniqueArtists  totalArtistPlays  totalUniqueUsers\n",
       "count        52298.00            52298.00          52298.00          52298.00\n",
       "mean         41467.40               49.87         192603.24            144.96\n",
       "std          50438.77                1.70         336597.43            135.10\n",
       "min           1001.00               10.00          10007.00             10.00\n",
       "25%          13094.00               50.00          27175.00             45.00\n",
       "50%          25511.00               50.00          64596.00             89.00\n",
       "75%          48311.00               50.00         188634.00            208.00\n",
       "max         480039.00               50.00        2393140.00            611.00"
      ]
     },
     "execution_count": 37,
     "metadata": {},
     "output_type": "execute_result"
    }
   ],
   "source": [
    "minPlaysPerUser = 1000 # minimum aggregate play count per user\n",
    "minUniqueArtistPlays = 10 # minimum different artists that need values per user to be counted\n",
    "minArtistPlays = 10000 # minimum times an artist must be played\n",
    "minListeners = 10 # minimum unique listeners of artist to be played\n",
    "\n",
    "def apply_threshold(data,\n",
    "                    minPlaysPerUser,\n",
    "                    minUniqueArtistPlays,\n",
    "                    minArtistPlays,\n",
    "                    minListeners):\n",
    "    \n",
    "    filtered = (data[(data['totalUserPlays']>=minPlaysPerUser) & \n",
    "               (data['totalUniqueArtists']>=minUniqueArtistPlays) & \n",
    "               (data['totalArtistPlays']>=minArtistPlays) & \n",
    "               (data['totalUniqueUsers']>=minListeners)])\n",
    "\n",
    "    # confirm our min thresholds have been applied\n",
    "    print('MINIMUM VALUES')\n",
    "    print('totalUserPlays from {} to {}'.format(min(data.totalUserPlays),min(filtered.totalUserPlays)))\n",
    "    print('totalUniqueArtists from {} to {}'.format(min(data.totalUniqueArtists),min(filtered.totalUniqueArtists)))\n",
    "    print('totalArtistPlays from {} to {}'.format(min(data.totalArtistPlays),min(filtered.totalArtistPlays)))\n",
    "    print('totalUniqueUsers from {} to {}'.format(min(data.totalUniqueUsers),min(filtered.totalUniqueUsers)))\n",
    "\n",
    "    print('\\nFILTER IMPACT')\n",
    "    print(\"FILTERED Users: {} Artists: {}\".format(len(filtered['userID'].unique()),\n",
    "                                                           len(filtered['name'].unique())))\n",
    "    print(\"ORIGINAL Users: {} Artists: {}\".format(len(data['userID'].unique()),\n",
    "                                                           len(data['name'].unique())))\n",
    "    print(\"FILTERED % ORIGINAL Users: {:.1f}% Artists: {:.1f}%\".format(100*(len(filtered['userID'].unique())/len(data['userID'].unique())),\n",
    "                                                           100*(len(filtered['name'].unique())/len(data['name'].unique()))))\n",
    "    return filtered\n",
    "\n",
    "ap4 = apply_threshold(ap3,minPlaysPerUser,minUniqueArtistPlays,minArtistPlays,minListeners)\n",
    "\n",
    "ap4[['totalUserPlays','totalUniqueArtists','totalArtistPlays','totalUniqueUsers']].describe()"
   ]
  },
  {
   "cell_type": "code",
   "execution_count": 38,
   "metadata": {},
   "outputs": [
    {
     "name": "stdout",
     "output_type": "stream",
     "text": [
      "(871, 1790)\n",
      "NearestNeighbors(algorithm='auto', leaf_size=30, metric='cosine',\n",
      "         metric_params=None, n_jobs=1, n_neighbors=5, p=2, radius=1.0)\n"
     ]
    }
   ],
   "source": [
    "pivot_ap4,sparse_ap4 = data_to_sparse(ap4,index='name',columns='userID',values='userArtistPlays')\n",
    "knn = fit_knn(sparse_ap4)"
   ]
  },
  {
   "cell_type": "markdown",
   "metadata": {},
   "source": [
    "After applying the threshold, our results are looking better, but we still may be able to improve further.  We can also explore standardizing our artist plays into buckets or binarized, discussed below."
   ]
  },
  {
   "cell_type": "code",
   "execution_count": 39,
   "metadata": {},
   "outputs": [
    {
     "name": "stdout",
     "output_type": "stream",
     "text": [
      "Top matches: [('Red Hot Chili Peppers', 78), ('Hot Chip', 61)]\n",
      "\n",
      "Recommendations for Red Hot Chili Peppers:\n",
      "\n",
      "1: The Offspring (0.568)\n",
      "2: Kreator (0.630)\n",
      "3: John Frusciante (0.692)\n",
      "4: Ennio Morricone (0.694)\n",
      "5: In Extremo (0.696)\n",
      "6: Riverside (0.697)\n",
      "7: Katie Melua (0.701)\n",
      "8: Ben Folds (0.702)\n",
      "9: Bush (0.718)\n",
      "10: Mylène Farmer (0.721)\n"
     ]
    },
    {
     "data": {
      "text/plain": [
       "''"
      ]
     },
     "execution_count": 39,
     "metadata": {},
     "output_type": "execute_result"
    }
   ],
   "source": [
    "artist_recommend('red hot chillis',pivot_ap4,knn,10)"
   ]
  },
  {
   "cell_type": "markdown",
   "metadata": {},
   "source": [
    "### Feature Scaling: Convert plays to buckets\n",
    "\n",
    "We will now convert our raw play counts into five buckets.  A rating of five will represent a true fan while a one has played the artist but appears to prefer others more.  A zero still means the user has never played the artist.   "
   ]
  },
  {
   "cell_type": "code",
   "execution_count": 40,
   "metadata": {},
   "outputs": [
    {
     "data": {
      "text/plain": [
       "count    52298.00\n",
       "mean       992.30\n",
       "std       4885.03\n",
       "min          1.00\n",
       "25%        139.00\n",
       "50%        323.00\n",
       "75%        771.00\n",
       "max     352698.00\n",
       "Name: userArtistPlays, dtype: float64"
      ]
     },
     "execution_count": 40,
     "metadata": {},
     "output_type": "execute_result"
    }
   ],
   "source": [
    "ap4['userArtistPlays'].describe()"
   ]
  },
  {
   "cell_type": "code",
   "execution_count": 41,
   "metadata": {},
   "outputs": [
    {
     "name": "stdout",
     "output_type": "stream",
     "text": [
      "Bucket thresholds: [6, 4621, 9237, 13853, 18469]\n",
      "For instance, if value is 7, then the rank would be 2.\n"
     ]
    }
   ],
   "source": [
    "# convert our play counts into ratings buckets\n",
    "# a rating of 2 requires more than one play\n",
    "# a rating of at least 1 is given for >=1 play (else 0)\n",
    "\n",
    "b = ap4['userArtistPlays']\n",
    "buckets = np.linspace(b.quantile(.005),b.quantile(.995),5)\n",
    "print(\"Bucket thresholds: {}\".format([int(b) for b in buckets]))\n",
    "print(\"For instance, if value is {}, then the rank would be {}.\".\n",
    "      format(int(buckets[0]+1),len(buckets[:1])+1))\n",
    "\n",
    "def bucketize(x):\n",
    "    cur_bucket = 0\n",
    "    for i in range(0,5):\n",
    "        cur_bucket += 1\n",
    "        if x <= buckets[i]:\n",
    "            break\n",
    "    return cur_bucket"
   ]
  },
  {
   "cell_type": "code",
   "execution_count": 42,
   "metadata": {},
   "outputs": [
    {
     "name": "stderr",
     "output_type": "stream",
     "text": [
      "/Users/brianmcmahon/anaconda3/envs/recommender/lib/python3.6/site-packages/ipykernel_launcher.py:2: SettingWithCopyWarning: \n",
      "A value is trying to be set on a copy of a slice from a DataFrame.\n",
      "Try using .loc[row_indexer,col_indexer] = value instead\n",
      "\n",
      "See the caveats in the documentation: http://pandas.pydata.org/pandas-docs/stable/indexing.html#indexing-view-versus-copy\n",
      "  \n"
     ]
    }
   ],
   "source": [
    "ap5 = ap4\n",
    "ap5['rank'] = ap5['userArtistPlays'].apply(bucketize)"
   ]
  },
  {
   "cell_type": "code",
   "execution_count": 43,
   "metadata": {},
   "outputs": [
    {
     "data": {
      "text/html": [
       "<div>\n",
       "<style scoped>\n",
       "    .dataframe tbody tr th:only-of-type {\n",
       "        vertical-align: middle;\n",
       "    }\n",
       "\n",
       "    .dataframe tbody tr th {\n",
       "        vertical-align: top;\n",
       "    }\n",
       "\n",
       "    .dataframe thead th {\n",
       "        text-align: right;\n",
       "    }\n",
       "</style>\n",
       "<table border=\"1\" class=\"dataframe\">\n",
       "  <thead>\n",
       "    <tr style=\"text-align: right;\">\n",
       "      <th>rank</th>\n",
       "      <th>1</th>\n",
       "      <th>2</th>\n",
       "      <th>3</th>\n",
       "      <th>4</th>\n",
       "      <th>5</th>\n",
       "    </tr>\n",
       "  </thead>\n",
       "  <tbody>\n",
       "    <tr>\n",
       "      <th>count</th>\n",
       "      <td>304.00</td>\n",
       "      <td>50493.00</td>\n",
       "      <td>872.00</td>\n",
       "      <td>254.00</td>\n",
       "      <td>375.00</td>\n",
       "    </tr>\n",
       "    <tr>\n",
       "      <th>mean</th>\n",
       "      <td>3.49</td>\n",
       "      <td>585.26</td>\n",
       "      <td>6230.25</td>\n",
       "      <td>11294.57</td>\n",
       "      <td>37443.69</td>\n",
       "    </tr>\n",
       "    <tr>\n",
       "      <th>std</th>\n",
       "      <td>1.73</td>\n",
       "      <td>737.34</td>\n",
       "      <td>1246.27</td>\n",
       "      <td>1272.97</td>\n",
       "      <td>42039.23</td>\n",
       "    </tr>\n",
       "    <tr>\n",
       "      <th>min</th>\n",
       "      <td>1.00</td>\n",
       "      <td>7.00</td>\n",
       "      <td>4627.00</td>\n",
       "      <td>9275.00</td>\n",
       "      <td>13860.00</td>\n",
       "    </tr>\n",
       "    <tr>\n",
       "      <th>25%</th>\n",
       "      <td>2.00</td>\n",
       "      <td>137.00</td>\n",
       "      <td>5186.00</td>\n",
       "      <td>10205.50</td>\n",
       "      <td>17133.50</td>\n",
       "    </tr>\n",
       "    <tr>\n",
       "      <th>50%</th>\n",
       "      <td>4.00</td>\n",
       "      <td>311.00</td>\n",
       "      <td>5889.50</td>\n",
       "      <td>11114.50</td>\n",
       "      <td>23830.00</td>\n",
       "    </tr>\n",
       "    <tr>\n",
       "      <th>75%</th>\n",
       "      <td>5.00</td>\n",
       "      <td>710.00</td>\n",
       "      <td>7138.75</td>\n",
       "      <td>12318.00</td>\n",
       "      <td>37931.50</td>\n",
       "    </tr>\n",
       "    <tr>\n",
       "      <th>max</th>\n",
       "      <td>6.00</td>\n",
       "      <td>4621.00</td>\n",
       "      <td>9199.00</td>\n",
       "      <td>13831.00</td>\n",
       "      <td>352698.00</td>\n",
       "    </tr>\n",
       "  </tbody>\n",
       "</table>\n",
       "</div>"
      ],
      "text/plain": [
       "rank       1        2       3        4         5\n",
       "count 304.00 50493.00  872.00   254.00    375.00\n",
       "mean    3.49   585.26 6230.25 11294.57  37443.69\n",
       "std     1.73   737.34 1246.27  1272.97  42039.23\n",
       "min     1.00     7.00 4627.00  9275.00  13860.00\n",
       "25%     2.00   137.00 5186.00 10205.50  17133.50\n",
       "50%     4.00   311.00 5889.50 11114.50  23830.00\n",
       "75%     5.00   710.00 7138.75 12318.00  37931.50\n",
       "max     6.00  4621.00 9199.00 13831.00 352698.00"
      ]
     },
     "execution_count": 43,
     "metadata": {},
     "output_type": "execute_result"
    }
   ],
   "source": [
    "ap5.groupby(['rank'])['userArtistPlays'].describe().T"
   ]
  },
  {
   "cell_type": "code",
   "execution_count": 44,
   "metadata": {},
   "outputs": [
    {
     "name": "stdout",
     "output_type": "stream",
     "text": [
      "(871, 1790)\n",
      "NearestNeighbors(algorithm='auto', leaf_size=30, metric='cosine',\n",
      "         metric_params=None, n_jobs=1, n_neighbors=5, p=2, radius=1.0)\n"
     ]
    }
   ],
   "source": [
    "pivot_ap5,sparse_ap5 = data_to_sparse(ap5,index='name',columns='userID',values='rank')\n",
    "knn = fit_knn(sparse_ap5)"
   ]
  },
  {
   "cell_type": "markdown",
   "metadata": {},
   "source": [
    "Although cosine distance has increased marginally, the buckets seem to have improved our recommendations substantially.  "
   ]
  },
  {
   "cell_type": "code",
   "execution_count": 45,
   "metadata": {},
   "outputs": [
    {
     "name": "stdout",
     "output_type": "stream",
     "text": [
      "Top matches: [('Red Hot Chili Peppers', 78), ('Hot Chip', 61)]\n",
      "\n",
      "Recommendations for Red Hot Chili Peppers:\n",
      "\n",
      "1: Nirvana (0.650)\n",
      "2: Oasis (0.672)\n",
      "3: Foo Fighters (0.685)\n",
      "4: The Beatles (0.692)\n",
      "5: Muse (0.706)\n",
      "6: U2 (0.720)\n",
      "7: Radiohead (0.721)\n",
      "8: Aerosmith (0.722)\n",
      "9: System of a Down (0.723)\n",
      "10: Green Day (0.724)\n"
     ]
    },
    {
     "data": {
      "text/plain": [
       "''"
      ]
     },
     "execution_count": 45,
     "metadata": {},
     "output_type": "execute_result"
    }
   ],
   "source": [
    "artist_recommend('red hot chillis',pivot_ap5,knn,10)"
   ]
  },
  {
   "cell_type": "markdown",
   "metadata": {},
   "source": [
    "### Feature Scaling: Convert plays to binary\n",
    "\n",
    "Lets see if we can improve our model results by replacing our buckets with a binary rating system.\n",
    "\n",
    "Our binary classification will consist of played (1) or not played (0)."
   ]
  },
  {
   "cell_type": "code",
   "execution_count": 46,
   "metadata": {},
   "outputs": [
    {
     "name": "stderr",
     "output_type": "stream",
     "text": [
      "/Users/brianmcmahon/anaconda3/envs/recommender/lib/python3.6/site-packages/ipykernel_launcher.py:2: SettingWithCopyWarning: \n",
      "A value is trying to be set on a copy of a slice from a DataFrame.\n",
      "Try using .loc[row_indexer,col_indexer] = value instead\n",
      "\n",
      "See the caveats in the documentation: http://pandas.pydata.org/pandas-docs/stable/indexing.html#indexing-view-versus-copy\n",
      "  \n"
     ]
    }
   ],
   "source": [
    "ap6 = ap4\n",
    "ap6['everPlayed'] = ap6['userArtistPlays'].apply(np.sign) # np.sign converts all positive values to one."
   ]
  },
  {
   "cell_type": "code",
   "execution_count": 47,
   "metadata": {},
   "outputs": [
    {
     "name": "stdout",
     "output_type": "stream",
     "text": [
      "(871, 1790)\n",
      "NearestNeighbors(algorithm='auto', leaf_size=30, metric='cosine',\n",
      "         metric_params=None, n_jobs=1, n_neighbors=5, p=2, radius=1.0)\n"
     ]
    }
   ],
   "source": [
    "pivot_ap6,sparse_ap6 = data_to_sparse(ap6,index='name',columns='userID',values='everPlayed')\n",
    "knn = fit_knn(sparse_ap6)"
   ]
  },
  {
   "cell_type": "code",
   "execution_count": 48,
   "metadata": {},
   "outputs": [
    {
     "name": "stdout",
     "output_type": "stream",
     "text": [
      "Top matches: [('Red Hot Chili Peppers', 78), ('Hot Chip', 61)]\n",
      "\n",
      "Recommendations for Red Hot Chili Peppers:\n",
      "\n",
      "1: Nirvana (0.649)\n",
      "2: Oasis (0.677)\n",
      "3: The Beatles (0.687)\n",
      "4: Foo Fighters (0.688)\n",
      "5: Muse (0.713)\n",
      "6: Radiohead (0.717)\n",
      "7: U2 (0.717)\n",
      "8: Aerosmith (0.723)\n",
      "9: Green Day (0.723)\n",
      "10: System of a Down (0.726)\n"
     ]
    },
    {
     "data": {
      "text/plain": [
       "''"
      ]
     },
     "execution_count": 48,
     "metadata": {},
     "output_type": "execute_result"
    }
   ],
   "source": [
    "artist_recommend('red hot chillis',pivot_ap6,knn,10)"
   ]
  },
  {
   "cell_type": "code",
   "execution_count": 49,
   "metadata": {},
   "outputs": [
    {
     "name": "stdout",
     "output_type": "stream",
     "text": [
      "Top matches: [('Britney Spears', 100), ('Jordin Sparks', 67)]\n",
      "\n",
      "Recommendations for Britney Spears:\n",
      "\n",
      "1: Rihanna (0.168)\n",
      "2: Christina Aguilera (0.213)\n",
      "3: Lady Gaga (0.224)\n",
      "4: Katy Perry (0.229)\n",
      "5: Beyoncé (0.250)\n",
      "6: Ke$ha (0.299)\n",
      "7: Shakira (0.337)\n",
      "8: Miley Cyrus (0.338)\n",
      "9: Madonna (0.338)\n",
      "10: Avril Lavigne (0.359)\n",
      "\n",
      "\n",
      "\n",
      "Top matches: [('Snoop Dogg', 100), ('No Doubt', 56)]\n",
      "\n",
      "Recommendations for Snoop Dogg:\n",
      "\n",
      "1: Ice Cube (0.496)\n",
      "2: 2Pac (0.522)\n",
      "3: DMX (0.605)\n",
      "4: D12 (0.655)\n",
      "5: Nas (0.658)\n",
      "6: Jay-Z (0.661)\n",
      "7: Busta Rhymes (0.671)\n",
      "8: Mobb Deep (0.697)\n",
      "9: 50 Cent (0.701)\n",
      "10: Cypress Hill (0.743)\n",
      "\n",
      "\n",
      "\n",
      "Top matches: [('Eminem', 100), ('The Maine', 67)]\n",
      "\n",
      "Recommendations for Eminem:\n",
      "\n",
      "1: Ke$ha (0.630)\n",
      "2: Rihanna (0.649)\n",
      "3: Katy Perry (0.651)\n",
      "4: B.o.B (0.667)\n",
      "5: Britney Spears (0.669)\n",
      "6: Lady Gaga (0.669)\n",
      "7: Black Eyed Peas (0.674)\n",
      "8: P!nk (0.684)\n",
      "9: Miley Cyrus (0.686)\n",
      "10: Christina Aguilera (0.695)\n",
      "\n",
      "\n",
      "\n",
      "Top matches: [('The Beatles', 78), ('Beastie Boys', 63)]\n",
      "\n",
      "Recommendations for The Beatles:\n",
      "\n",
      "1: Radiohead (0.551)\n",
      "2: Pink Floyd (0.556)\n",
      "3: Led Zeppelin (0.591)\n",
      "4: Arctic Monkeys (0.595)\n",
      "5: The Rolling Stones (0.608)\n",
      "6: The Strokes (0.614)\n",
      "7: Oasis (0.616)\n",
      "8: Muse (0.626)\n",
      "9: David Bowie (0.628)\n",
      "10: Bob Dylan (0.637)\n",
      "\n",
      "\n",
      "\n",
      "Top matches: [('David Bowie', 78), ('And One', 57)]\n",
      "\n",
      "Recommendations for David Bowie:\n",
      "\n",
      "1: The Beatles (0.628)\n",
      "2: The Cure (0.636)\n",
      "3: Depeche Mode (0.652)\n",
      "4: Joy Division (0.671)\n",
      "5: The Smiths (0.677)\n",
      "6: Duran Duran (0.684)\n",
      "7: New Order (0.693)\n",
      "8: Roxy Music (0.699)\n",
      "9: Pink Floyd (0.700)\n",
      "10: Queen (0.710)\n",
      "\n",
      "\n",
      "\n",
      "Top matches: [('Tiësto', 83), ('The Strokes', 59)]\n",
      "\n",
      "Recommendations for Tiësto:\n",
      "\n",
      "1: Armin van Buuren (0.671)\n",
      "2: David Guetta (0.802)\n",
      "3: ATB (0.803)\n",
      "4: deadmau5 (0.805)\n",
      "5: Basshunter (0.814)\n",
      "6: Laura Pausini (0.855)\n",
      "7: Black Eyed Peas (0.858)\n",
      "8: Flo Rida (0.859)\n",
      "9: Madonna (0.865)\n",
      "10: OneRepublic (0.865)\n",
      "\n",
      "\n",
      "\n",
      "Top matches: [('Basshunter', 100), ('Deerhunter', 60)]\n",
      "\n",
      "Recommendations for Basshunter:\n",
      "\n",
      "1: Cascada (0.807)\n",
      "2: Tiësto (0.814)\n",
      "3: 3OH!3 (0.844)\n",
      "4: Justin Bieber (0.848)\n",
      "5: Pitbull (0.849)\n",
      "6: Lady Gaga (0.852)\n",
      "7: Avril Lavigne (0.853)\n",
      "8: Akon (0.856)\n",
      "9: OneRepublic (0.858)\n",
      "10: Katy Perry (0.862)\n",
      "\n",
      "\n",
      "\n",
      "Top matches: [('Akon', 100), ('Korn', 75)]\n",
      "\n",
      "Recommendations for Akon:\n",
      "\n",
      "1: Jay Sean (0.683)\n",
      "2: Chris Brown (0.688)\n",
      "3: Ne-Yo (0.704)\n",
      "4: Usher (0.749)\n",
      "5: T.I. (0.752)\n",
      "6: Rihanna (0.782)\n",
      "7: Pitbull (0.791)\n",
      "8: Black Eyed Peas (0.794)\n",
      "9: 50 Cent (0.797)\n",
      "10: Ice Cube (0.805)\n",
      "\n",
      "\n",
      "\n",
      "Top matches: [('Ace of Base', 100), ('Band of Horses', 56)]\n",
      "\n",
      "Recommendations for Ace of Base:\n",
      "\n",
      "1: Madonna (0.828)\n",
      "2: Blondie (0.845)\n",
      "3: Elton John (0.865)\n",
      "4: Pet Shop Boys (0.866)\n",
      "5: George Michael (0.868)\n",
      "6: Billy Joel (0.870)\n",
      "7: Westlife (0.870)\n",
      "8: ABBA (0.875)\n",
      "9: Alphaville (0.880)\n",
      "10: *NSYNC (0.884)\n",
      "\n",
      "\n",
      "\n",
      "Top matches: [('Garth Brooks', 100), ('The Kooks', 67)]\n",
      "\n",
      "Recommendations for Garth Brooks:\n",
      "\n",
      "1: George Strait (0.333)\n",
      "2: Keith Urban (0.455)\n",
      "3: Brad Paisley (0.461)\n",
      "4: Miranda Lambert (0.582)\n",
      "5: Rascal Flatts (0.595)\n",
      "6: Dolly Parton (0.636)\n",
      "7: Josh Groban (0.716)\n",
      "8: Shania Twain (0.727)\n",
      "9: Hanson (0.727)\n",
      "10: Billy Joel (0.811)\n",
      "\n",
      "\n",
      "\n"
     ]
    }
   ],
   "source": [
    "# lets try out some different artists\n",
    "artist_list = [\n",
    "               'Britney Spears',\n",
    "               'Snoop Dogg',\n",
    "               'Eminem',\n",
    "               'Beatles',\n",
    "               'D Bowie',\n",
    "               'Tiesto',\n",
    "               'Basshunter',\n",
    "               'Akon',\n",
    "               'Ace of Base',\n",
    "               'Garth Brooks',\n",
    "              ]\n",
    "\n",
    "for artist in artist_list:\n",
    "    print(artist_recommend(artist,pivot_ap6,knn,10))\n",
    "    print('\\n')"
   ]
  },
  {
   "cell_type": "markdown",
   "metadata": {},
   "source": [
    "From the original data, we filtered out inactive users and unpopular artists, and implemented K Nearest Neighbors on (1) the original play count by user, (2) a bucketed rank per user based on play count, and (3) binary values as to whether the user had ever played the artist.  \n",
    "\n",
    "As both the bucketed and binary methods produced reasonable and comparable results, then by [Occam's Razor](https://en.wikipedia.org/wiki/Occam%27s_razor) we would prefer the binary method.  \n",
    "\n",
    "We will now explore the capabilities of TuriCreate's recommendation engine platform.  "
   ]
  },
  {
   "cell_type": "markdown",
   "metadata": {},
   "source": [
    "# Implementation with TuriCreate\n",
    "\n",
    "TuriCreate, formerly GraphLab, is a \"graph-based, high performance, distributed computation framework\" per [Wikipedia](https://en.wikipedia.org/wiki/GraphLab).  It was developed to simplify the development of custom machine learning models.  Turi was acquired by Apple Inc. for $200 million on August 5, 2016.  \n",
    "\n",
    "Here we will explore TuriCreate's recommendation engine capabilities by implementing our recommender system on the platform.  "
   ]
  },
  {
   "cell_type": "code",
   "execution_count": 50,
   "metadata": {
    "collapsed": true
   },
   "outputs": [],
   "source": [
    "# convert our pandas dataframe into a turicreate SFrame\n",
    "sf = tc.SFrame(ap6)"
   ]
  },
  {
   "cell_type": "code",
   "execution_count": 51,
   "metadata": {},
   "outputs": [
    {
     "data": {
      "text/html": [
       "<div style=\"max-height:1000px;max-width:1500px;overflow:auto;\"><table frame=\"box\" rules=\"cols\">\n",
       "    <tr>\n",
       "        <th style=\"padding-left: 1em; padding-right: 1em; text-align: center\">id</th>\n",
       "        <th style=\"padding-left: 1em; padding-right: 1em; text-align: center\">name</th>\n",
       "        <th style=\"padding-left: 1em; padding-right: 1em; text-align: center\">userID</th>\n",
       "        <th style=\"padding-left: 1em; padding-right: 1em; text-align: center\">artistID</th>\n",
       "        <th style=\"padding-left: 1em; padding-right: 1em; text-align: center\">userArtistPlays</th>\n",
       "        <th style=\"padding-left: 1em; padding-right: 1em; text-align: center\">totalUniqueUsers</th>\n",
       "        <th style=\"padding-left: 1em; padding-right: 1em; text-align: center\">totalArtistPlays</th>\n",
       "    </tr>\n",
       "    <tr>\n",
       "        <td style=\"padding-left: 1em; padding-right: 1em; text-align: center; vertical-align: top\">72</td>\n",
       "        <td style=\"padding-left: 1em; padding-right: 1em; text-align: center; vertical-align: top\">Depeche Mode</td>\n",
       "        <td style=\"padding-left: 1em; padding-right: 1em; text-align: center; vertical-align: top\">1642</td>\n",
       "        <td style=\"padding-left: 1em; padding-right: 1em; text-align: center; vertical-align: top\">72</td>\n",
       "        <td style=\"padding-left: 1em; padding-right: 1em; text-align: center; vertical-align: top\">352698</td>\n",
       "        <td style=\"padding-left: 1em; padding-right: 1em; text-align: center; vertical-align: top\">282</td>\n",
       "        <td style=\"padding-left: 1em; padding-right: 1em; text-align: center; vertical-align: top\">1301308</td>\n",
       "    </tr>\n",
       "    <tr>\n",
       "        <td style=\"padding-left: 1em; padding-right: 1em; text-align: center; vertical-align: top\">792</td>\n",
       "        <td style=\"padding-left: 1em; padding-right: 1em; text-align: center; vertical-align: top\">Thalía</td>\n",
       "        <td style=\"padding-left: 1em; padding-right: 1em; text-align: center; vertical-align: top\">2071</td>\n",
       "        <td style=\"padding-left: 1em; padding-right: 1em; text-align: center; vertical-align: top\">792</td>\n",
       "        <td style=\"padding-left: 1em; padding-right: 1em; text-align: center; vertical-align: top\">324663</td>\n",
       "        <td style=\"padding-left: 1em; padding-right: 1em; text-align: center; vertical-align: top\">26</td>\n",
       "        <td style=\"padding-left: 1em; padding-right: 1em; text-align: center; vertical-align: top\">350035</td>\n",
       "    </tr>\n",
       "    <tr>\n",
       "        <td style=\"padding-left: 1em; padding-right: 1em; text-align: center; vertical-align: top\">511</td>\n",
       "        <td style=\"padding-left: 1em; padding-right: 1em; text-align: center; vertical-align: top\">U2</td>\n",
       "        <td style=\"padding-left: 1em; padding-right: 1em; text-align: center; vertical-align: top\">1094</td>\n",
       "        <td style=\"padding-left: 1em; padding-right: 1em; text-align: center; vertical-align: top\">511</td>\n",
       "        <td style=\"padding-left: 1em; padding-right: 1em; text-align: center; vertical-align: top\">320725</td>\n",
       "        <td style=\"padding-left: 1em; padding-right: 1em; text-align: center; vertical-align: top\">185</td>\n",
       "        <td style=\"padding-left: 1em; padding-right: 1em; text-align: center; vertical-align: top\">493024</td>\n",
       "    </tr>\n",
       "    <tr>\n",
       "        <td style=\"padding-left: 1em; padding-right: 1em; text-align: center; vertical-align: top\">203</td>\n",
       "        <td style=\"padding-left: 1em; padding-right: 1em; text-align: center; vertical-align: top\">Blur</td>\n",
       "        <td style=\"padding-left: 1em; padding-right: 1em; text-align: center; vertical-align: top\">1905</td>\n",
       "        <td style=\"padding-left: 1em; padding-right: 1em; text-align: center; vertical-align: top\">203</td>\n",
       "        <td style=\"padding-left: 1em; padding-right: 1em; text-align: center; vertical-align: top\">257978</td>\n",
       "        <td style=\"padding-left: 1em; padding-right: 1em; text-align: center; vertical-align: top\">114</td>\n",
       "        <td style=\"padding-left: 1em; padding-right: 1em; text-align: center; vertical-align: top\">318221</td>\n",
       "    </tr>\n",
       "    <tr>\n",
       "        <td style=\"padding-left: 1em; padding-right: 1em; text-align: center; vertical-align: top\">498</td>\n",
       "        <td style=\"padding-left: 1em; padding-right: 1em; text-align: center; vertical-align: top\">Paramore</td>\n",
       "        <td style=\"padding-left: 1em; padding-right: 1em; text-align: center; vertical-align: top\">1664</td>\n",
       "        <td style=\"padding-left: 1em; padding-right: 1em; text-align: center; vertical-align: top\">498</td>\n",
       "        <td style=\"padding-left: 1em; padding-right: 1em; text-align: center; vertical-align: top\">227829</td>\n",
       "        <td style=\"padding-left: 1em; padding-right: 1em; text-align: center; vertical-align: top\">399</td>\n",
       "        <td style=\"padding-left: 1em; padding-right: 1em; text-align: center; vertical-align: top\">963449</td>\n",
       "    </tr>\n",
       "    <tr>\n",
       "        <td style=\"padding-left: 1em; padding-right: 1em; text-align: center; vertical-align: top\">378</td>\n",
       "        <td style=\"padding-left: 1em; padding-right: 1em; text-align: center; vertical-align: top\">Evanescence</td>\n",
       "        <td style=\"padding-left: 1em; padding-right: 1em; text-align: center; vertical-align: top\">1146</td>\n",
       "        <td style=\"padding-left: 1em; padding-right: 1em; text-align: center; vertical-align: top\">378</td>\n",
       "        <td style=\"padding-left: 1em; padding-right: 1em; text-align: center; vertical-align: top\">203165</td>\n",
       "        <td style=\"padding-left: 1em; padding-right: 1em; text-align: center; vertical-align: top\">226</td>\n",
       "        <td style=\"padding-left: 1em; padding-right: 1em; text-align: center; vertical-align: top\">513476</td>\n",
       "    </tr>\n",
       "    <tr>\n",
       "        <td style=\"padding-left: 1em; padding-right: 1em; text-align: center; vertical-align: top\">292</td>\n",
       "        <td style=\"padding-left: 1em; padding-right: 1em; text-align: center; vertical-align: top\">Christina Aguilera</td>\n",
       "        <td style=\"padding-left: 1em; padding-right: 1em; text-align: center; vertical-align: top\">514</td>\n",
       "        <td style=\"padding-left: 1em; padding-right: 1em; text-align: center; vertical-align: top\">292</td>\n",
       "        <td style=\"padding-left: 1em; padding-right: 1em; text-align: center; vertical-align: top\">176133</td>\n",
       "        <td style=\"padding-left: 1em; padding-right: 1em; text-align: center; vertical-align: top\">407</td>\n",
       "        <td style=\"padding-left: 1em; padding-right: 1em; text-align: center; vertical-align: top\">1058405</td>\n",
       "    </tr>\n",
       "    <tr>\n",
       "        <td style=\"padding-left: 1em; padding-right: 1em; text-align: center; vertical-align: top\">701</td>\n",
       "        <td style=\"padding-left: 1em; padding-right: 1em; text-align: center; vertical-align: top\">Shakira</td>\n",
       "        <td style=\"padding-left: 1em; padding-right: 1em; text-align: center; vertical-align: top\">1983</td>\n",
       "        <td style=\"padding-left: 1em; padding-right: 1em; text-align: center; vertical-align: top\">701</td>\n",
       "        <td style=\"padding-left: 1em; padding-right: 1em; text-align: center; vertical-align: top\">172496</td>\n",
       "        <td style=\"padding-left: 1em; padding-right: 1em; text-align: center; vertical-align: top\">319</td>\n",
       "        <td style=\"padding-left: 1em; padding-right: 1em; text-align: center; vertical-align: top\">688529</td>\n",
       "    </tr>\n",
       "    <tr>\n",
       "        <td style=\"padding-left: 1em; padding-right: 1em; text-align: center; vertical-align: top\">701</td>\n",
       "        <td style=\"padding-left: 1em; padding-right: 1em; text-align: center; vertical-align: top\">Shakira</td>\n",
       "        <td style=\"padding-left: 1em; padding-right: 1em; text-align: center; vertical-align: top\">757</td>\n",
       "        <td style=\"padding-left: 1em; padding-right: 1em; text-align: center; vertical-align: top\">701</td>\n",
       "        <td style=\"padding-left: 1em; padding-right: 1em; text-align: center; vertical-align: top\">169596</td>\n",
       "        <td style=\"padding-left: 1em; padding-right: 1em; text-align: center; vertical-align: top\">319</td>\n",
       "        <td style=\"padding-left: 1em; padding-right: 1em; text-align: center; vertical-align: top\">688529</td>\n",
       "    </tr>\n",
       "    <tr>\n",
       "        <td style=\"padding-left: 1em; padding-right: 1em; text-align: center; vertical-align: top\">679</td>\n",
       "        <td style=\"padding-left: 1em; padding-right: 1em; text-align: center; vertical-align: top\">Glee Cast</td>\n",
       "        <td style=\"padding-left: 1em; padding-right: 1em; text-align: center; vertical-align: top\">1086</td>\n",
       "        <td style=\"padding-left: 1em; padding-right: 1em; text-align: center; vertical-align: top\">679</td>\n",
       "        <td style=\"padding-left: 1em; padding-right: 1em; text-align: center; vertical-align: top\">165902</td>\n",
       "        <td style=\"padding-left: 1em; padding-right: 1em; text-align: center; vertical-align: top\">249</td>\n",
       "        <td style=\"padding-left: 1em; padding-right: 1em; text-align: center; vertical-align: top\">506453</td>\n",
       "    </tr>\n",
       "</table>\n",
       "<table frame=\"box\" rules=\"cols\">\n",
       "    <tr>\n",
       "        <th style=\"padding-left: 1em; padding-right: 1em; text-align: center\">avgUserPlays</th>\n",
       "        <th style=\"padding-left: 1em; padding-right: 1em; text-align: center\">totalUniqueArtists</th>\n",
       "        <th style=\"padding-left: 1em; padding-right: 1em; text-align: center\">totalUserPlays</th>\n",
       "        <th style=\"padding-left: 1em; padding-right: 1em; text-align: center\">rank</th>\n",
       "        <th style=\"padding-left: 1em; padding-right: 1em; text-align: center\">everPlayed</th>\n",
       "    </tr>\n",
       "    <tr>\n",
       "        <td style=\"padding-left: 1em; padding-right: 1em; text-align: center; vertical-align: top\">4614.567375886525</td>\n",
       "        <td style=\"padding-left: 1em; padding-right: 1em; text-align: center; vertical-align: top\">50</td>\n",
       "        <td style=\"padding-left: 1em; padding-right: 1em; text-align: center; vertical-align: top\">388251</td>\n",
       "        <td style=\"padding-left: 1em; padding-right: 1em; text-align: center; vertical-align: top\">5</td>\n",
       "        <td style=\"padding-left: 1em; padding-right: 1em; text-align: center; vertical-align: top\">1</td>\n",
       "    </tr>\n",
       "    <tr>\n",
       "        <td style=\"padding-left: 1em; padding-right: 1em; text-align: center; vertical-align: top\">13462.884615384615</td>\n",
       "        <td style=\"padding-left: 1em; padding-right: 1em; text-align: center; vertical-align: top\">50</td>\n",
       "        <td style=\"padding-left: 1em; padding-right: 1em; text-align: center; vertical-align: top\">338400</td>\n",
       "        <td style=\"padding-left: 1em; padding-right: 1em; text-align: center; vertical-align: top\">5</td>\n",
       "        <td style=\"padding-left: 1em; padding-right: 1em; text-align: center; vertical-align: top\">1</td>\n",
       "    </tr>\n",
       "    <tr>\n",
       "        <td style=\"padding-left: 1em; padding-right: 1em; text-align: center; vertical-align: top\">2664.9945945945947</td>\n",
       "        <td style=\"padding-left: 1em; padding-right: 1em; text-align: center; vertical-align: top\">50</td>\n",
       "        <td style=\"padding-left: 1em; padding-right: 1em; text-align: center; vertical-align: top\">379125</td>\n",
       "        <td style=\"padding-left: 1em; padding-right: 1em; text-align: center; vertical-align: top\">5</td>\n",
       "        <td style=\"padding-left: 1em; padding-right: 1em; text-align: center; vertical-align: top\">1</td>\n",
       "    </tr>\n",
       "    <tr>\n",
       "        <td style=\"padding-left: 1em; padding-right: 1em; text-align: center; vertical-align: top\">2791.4122807017543</td>\n",
       "        <td style=\"padding-left: 1em; padding-right: 1em; text-align: center; vertical-align: top\">50</td>\n",
       "        <td style=\"padding-left: 1em; padding-right: 1em; text-align: center; vertical-align: top\">276295</td>\n",
       "        <td style=\"padding-left: 1em; padding-right: 1em; text-align: center; vertical-align: top\">5</td>\n",
       "        <td style=\"padding-left: 1em; padding-right: 1em; text-align: center; vertical-align: top\">1</td>\n",
       "    </tr>\n",
       "    <tr>\n",
       "        <td style=\"padding-left: 1em; padding-right: 1em; text-align: center; vertical-align: top\">2414.659147869674</td>\n",
       "        <td style=\"padding-left: 1em; padding-right: 1em; text-align: center; vertical-align: top\">50</td>\n",
       "        <td style=\"padding-left: 1em; padding-right: 1em; text-align: center; vertical-align: top\">251560</td>\n",
       "        <td style=\"padding-left: 1em; padding-right: 1em; text-align: center; vertical-align: top\">5</td>\n",
       "        <td style=\"padding-left: 1em; padding-right: 1em; text-align: center; vertical-align: top\">1</td>\n",
       "    </tr>\n",
       "    <tr>\n",
       "        <td style=\"padding-left: 1em; padding-right: 1em; text-align: center; vertical-align: top\">2272.0176991150443</td>\n",
       "        <td style=\"padding-left: 1em; padding-right: 1em; text-align: center; vertical-align: top\">50</td>\n",
       "        <td style=\"padding-left: 1em; padding-right: 1em; text-align: center; vertical-align: top\">308167</td>\n",
       "        <td style=\"padding-left: 1em; padding-right: 1em; text-align: center; vertical-align: top\">5</td>\n",
       "        <td style=\"padding-left: 1em; padding-right: 1em; text-align: center; vertical-align: top\">1</td>\n",
       "    </tr>\n",
       "    <tr>\n",
       "        <td style=\"padding-left: 1em; padding-right: 1em; text-align: center; vertical-align: top\">2600.5036855036856</td>\n",
       "        <td style=\"padding-left: 1em; padding-right: 1em; text-align: center; vertical-align: top\">50</td>\n",
       "        <td style=\"padding-left: 1em; padding-right: 1em; text-align: center; vertical-align: top\">329782</td>\n",
       "        <td style=\"padding-left: 1em; padding-right: 1em; text-align: center; vertical-align: top\">5</td>\n",
       "        <td style=\"padding-left: 1em; padding-right: 1em; text-align: center; vertical-align: top\">1</td>\n",
       "    </tr>\n",
       "    <tr>\n",
       "        <td style=\"padding-left: 1em; padding-right: 1em; text-align: center; vertical-align: top\">2158.398119122257</td>\n",
       "        <td style=\"padding-left: 1em; padding-right: 1em; text-align: center; vertical-align: top\">50</td>\n",
       "        <td style=\"padding-left: 1em; padding-right: 1em; text-align: center; vertical-align: top\">179449</td>\n",
       "        <td style=\"padding-left: 1em; padding-right: 1em; text-align: center; vertical-align: top\">5</td>\n",
       "        <td style=\"padding-left: 1em; padding-right: 1em; text-align: center; vertical-align: top\">1</td>\n",
       "    </tr>\n",
       "    <tr>\n",
       "        <td style=\"padding-left: 1em; padding-right: 1em; text-align: center; vertical-align: top\">2158.398119122257</td>\n",
       "        <td style=\"padding-left: 1em; padding-right: 1em; text-align: center; vertical-align: top\">50</td>\n",
       "        <td style=\"padding-left: 1em; padding-right: 1em; text-align: center; vertical-align: top\">480039</td>\n",
       "        <td style=\"padding-left: 1em; padding-right: 1em; text-align: center; vertical-align: top\">5</td>\n",
       "        <td style=\"padding-left: 1em; padding-right: 1em; text-align: center; vertical-align: top\">1</td>\n",
       "    </tr>\n",
       "    <tr>\n",
       "        <td style=\"padding-left: 1em; padding-right: 1em; text-align: center; vertical-align: top\">2033.9477911646586</td>\n",
       "        <td style=\"padding-left: 1em; padding-right: 1em; text-align: center; vertical-align: top\">50</td>\n",
       "        <td style=\"padding-left: 1em; padding-right: 1em; text-align: center; vertical-align: top\">235137</td>\n",
       "        <td style=\"padding-left: 1em; padding-right: 1em; text-align: center; vertical-align: top\">5</td>\n",
       "        <td style=\"padding-left: 1em; padding-right: 1em; text-align: center; vertical-align: top\">1</td>\n",
       "    </tr>\n",
       "</table>\n",
       "[10 rows x 12 columns]<br/>\n",
       "</div>"
      ],
      "text/plain": [
       "Columns:\n",
       "\tid\tint\n",
       "\tname\tstr\n",
       "\tuserID\tint\n",
       "\tartistID\tint\n",
       "\tuserArtistPlays\tint\n",
       "\ttotalUniqueUsers\tint\n",
       "\ttotalArtistPlays\tint\n",
       "\tavgUserPlays\tfloat\n",
       "\ttotalUniqueArtists\tint\n",
       "\ttotalUserPlays\tint\n",
       "\trank\tint\n",
       "\teverPlayed\tint\n",
       "\n",
       "Rows: 10\n",
       "\n",
       "Data:\n",
       "+-----+--------------------+--------+----------+-----------------+------------------+\n",
       "|  id |        name        | userID | artistID | userArtistPlays | totalUniqueUsers |\n",
       "+-----+--------------------+--------+----------+-----------------+------------------+\n",
       "|  72 |    Depeche Mode    |  1642  |    72    |      352698     |       282        |\n",
       "| 792 |       Thalía       |  2071  |   792    |      324663     |        26        |\n",
       "| 511 |         U2         |  1094  |   511    |      320725     |       185        |\n",
       "| 203 |        Blur        |  1905  |   203    |      257978     |       114        |\n",
       "| 498 |      Paramore      |  1664  |   498    |      227829     |       399        |\n",
       "| 378 |    Evanescence     |  1146  |   378    |      203165     |       226        |\n",
       "| 292 | Christina Aguilera |  514   |   292    |      176133     |       407        |\n",
       "| 701 |      Shakira       |  1983  |   701    |      172496     |       319        |\n",
       "| 701 |      Shakira       |  757   |   701    |      169596     |       319        |\n",
       "| 679 |     Glee Cast      |  1086  |   679    |      165902     |       249        |\n",
       "+-----+--------------------+--------+----------+-----------------+------------------+\n",
       "+------------------+--------------------+--------------------+----------------+\n",
       "| totalArtistPlays |    avgUserPlays    | totalUniqueArtists | totalUserPlays |\n",
       "+------------------+--------------------+--------------------+----------------+\n",
       "|     1301308      | 4614.567375886525  |         50         |     388251     |\n",
       "|      350035      | 13462.884615384615 |         50         |     338400     |\n",
       "|      493024      | 2664.9945945945947 |         50         |     379125     |\n",
       "|      318221      | 2791.4122807017543 |         50         |     276295     |\n",
       "|      963449      | 2414.659147869674  |         50         |     251560     |\n",
       "|      513476      | 2272.0176991150443 |         50         |     308167     |\n",
       "|     1058405      | 2600.5036855036856 |         50         |     329782     |\n",
       "|      688529      | 2158.398119122257  |         50         |     179449     |\n",
       "|      688529      | 2158.398119122257  |         50         |     480039     |\n",
       "|      506453      | 2033.9477911646586 |         50         |     235137     |\n",
       "+------------------+--------------------+--------------------+----------------+\n",
       "+------+------------+\n",
       "| rank | everPlayed |\n",
       "+------+------------+\n",
       "|  5   |     1      |\n",
       "|  5   |     1      |\n",
       "|  5   |     1      |\n",
       "|  5   |     1      |\n",
       "|  5   |     1      |\n",
       "|  5   |     1      |\n",
       "|  5   |     1      |\n",
       "|  5   |     1      |\n",
       "|  5   |     1      |\n",
       "|  5   |     1      |\n",
       "+------+------------+\n",
       "[10 rows x 12 columns]"
      ]
     },
     "execution_count": 51,
     "metadata": {},
     "output_type": "execute_result"
    }
   ],
   "source": [
    "sf.head()"
   ]
  },
  {
   "cell_type": "markdown",
   "metadata": {},
   "source": [
    "The show() method is comparable to describe() in pandas, where the output are a statistical summary by column.  \n",
    "\n",
    "Here we once again see that the vast majority of users have listened to 50 artists; as such we would presume this was an artifical cutoff point when the data was originally queried.  \n",
    "\n",
    "The total user plays, total artist plays and total unique users per artist are all skewed on the left near zero with a long right tail, as we would expect.\n",
    "\n",
    "We can also confirm here that our minimum values from our threshold filtering above remain in effect.  "
   ]
  },
  {
   "cell_type": "code",
   "execution_count": 63,
   "metadata": {},
   "outputs": [],
   "source": [
    "# commented out as it will not render properly on GitHub\n",
    "# sf[['totalUniqueArtists','totalUserPlays','totalUniqueUsers','totalArtistPlays']].show()"
   ]
  },
  {
   "cell_type": "markdown",
   "metadata": {},
   "source": [
    "We will now explore a variety of models offered within TuriCreate.  We split our data into train and test sets for purposes of evaluating precision/recall in all models and RMSE where we have a target value (ie played/not played)."
   ]
  },
  {
   "cell_type": "code",
   "execution_count": 53,
   "metadata": {
    "collapsed": true
   },
   "outputs": [],
   "source": [
    "# split data into train and test sets\n",
    "train, test = tc.recommender.util.random_split_by_user(sf,\n",
    "                                                       user_id='userID',\n",
    "                                                       item_id='name')"
   ]
  },
  {
   "cell_type": "code",
   "execution_count": 54,
   "metadata": {
    "collapsed": true
   },
   "outputs": [],
   "source": [
    "# we will test seven different model variations enabled with turicreate\n",
    "def train_models(train_data, test_data,user_id,item_id,target):\n",
    "\n",
    "    # popularity, no target\n",
    "    m1 = tc.popularity_recommender.create(train_data,\n",
    "                                          user_id=user_id,\n",
    "                                          item_id=item_id,\n",
    "                                          verbose=False\n",
    "                                          )\n",
    "    # similarity, no target\n",
    "    m2 = tc.item_similarity_recommender.create(train_data,\n",
    "                                               user_id=user_id,\n",
    "                                               item_id=item_id,\n",
    "                                               verbose=False,\n",
    "                                               similarity_type='jaccard'\n",
    "                                               )\n",
    "    # ranking factorize, no target\n",
    "    m3 = tc.ranking_factorization_recommender.create(train_data,\n",
    "                                                     user_id=user_id,\n",
    "                                                     item_id=item_id,\n",
    "                                                     verbose=False\n",
    "                                                     )\n",
    "    # popularity with target\n",
    "    m4 = tc.popularity_recommender.create(train_data,\n",
    "                                          user_id=user_id,\n",
    "                                          item_id=item_id,\n",
    "                                          target=target,\n",
    "                                          verbose=False\n",
    "                                          )\n",
    "\n",
    "    # ranking factorize with target\n",
    "    m5 = tc.ranking_factorization_recommender.create(train_data,\n",
    "                                                     user_id=user_id,\n",
    "                                                     item_id=item_id,\n",
    "                                                     target=target,\n",
    "                                                     verbose=False\n",
    "                                                     )\n",
    "    # factorization with target\n",
    "    m6 = tc.factorization_recommender.create(train_data,\n",
    "                                             user_id=user_id,\n",
    "                                             item_id=item_id,\n",
    "                                             target=target,\n",
    "                                             verbose=False\n",
    "                                                       )\n",
    "    # default with target\n",
    "    m7 = tc.recommender.create(train_data,\n",
    "                               user_id=user_id,\n",
    "                               item_id=item_id,\n",
    "                               target=target,\n",
    "                               verbose=False      \n",
    "                              )\n",
    "    \n",
    "    model_list = m1, m2, m3, m4, m5, m6, m7\n",
    "    \n",
    "    name_list = ['1. Popularity (Implicit, No Target)',\n",
    "                 '2. Item Similarity (Implicit, No Target)',\n",
    "                 '3. Ranking Factorization (Implicit, No Target)',\n",
    "                 '4. Popularity (Explicit, With Target)',\n",
    "                 '5. Ranking Factorization (Explicit, With Target)',\n",
    "                 '6. Factorization (With Target)',\n",
    "                 '7. Default (Explicit, With Target)']\n",
    "\n",
    "    results = tc.recommender.util.compare_models(test_data,\n",
    "                                                models=[m for m in model_list],\n",
    "                                                model_names=[n for n in name_list],\n",
    "                                                metric='auto')\n",
    "\n",
    "    return model_list, name_list, results"
   ]
  },
  {
   "cell_type": "markdown",
   "metadata": {},
   "source": [
    "### Model Evaluation: Precision and Recall\n",
    "\n",
    "Here we train our model and run the model against the test set to determine recommendation quality.  Metrics to review include RMSE for models with target values and precision/recall for models without targets.  \n",
    "\n",
    "Per these metrics below, it appears that our item similarity recommender (model 2) achieves the greatest precision and recall of all models tested, at 9% and 14% respectively. \n",
    "\n",
    "However, on an absolute scale, it would be presumed that there remains ample opportunity to further improve these results.  We would ideally like to see each of these approach 100%.  The precision metric tells us the recommendations the user actually liked out of all recommendations made, calculated as True Positive / (True Positive + False Positive).  The recall metric tells us ratio of items a user likes that were actually recommended, calculated as True Positive / (True Positive + False Negative).  \n",
    "\n",
    "Say we have 100 items, of which a user likes 10.  If we recommend all items, the recommender would achive 100% recall, but our precision would be 10%.  If we recommend 20 items, including the user's 10, we would achieve 100% recall and 50% precision.  If we recommend 5 items, all of which the user liked, we would achieve 100% precision but only 50% recall.  Only if we recommend exactly those 10 liked items will we achieve 100% in both precision and recall.   "
   ]
  },
  {
   "cell_type": "code",
   "execution_count": 55,
   "metadata": {},
   "outputs": [
    {
     "data": {
      "text/html": [
       "<pre>Recsys training: model = popularity</pre>"
      ],
      "text/plain": [
       "Recsys training: model = popularity"
      ]
     },
     "metadata": {},
     "output_type": "display_data"
    },
    {
     "data": {
      "text/html": [
       "<pre>Recsys training: model = item_similarity</pre>"
      ],
      "text/plain": [
       "Recsys training: model = item_similarity"
      ]
     },
     "metadata": {},
     "output_type": "display_data"
    },
    {
     "data": {
      "text/html": [
       "<pre>Recsys training: model = ranking_factorization_recommender</pre>"
      ],
      "text/plain": [
       "Recsys training: model = ranking_factorization_recommender"
      ]
     },
     "metadata": {},
     "output_type": "display_data"
    },
    {
     "data": {
      "text/html": [
       "<pre>Recsys training: model = popularity</pre>"
      ],
      "text/plain": [
       "Recsys training: model = popularity"
      ]
     },
     "metadata": {},
     "output_type": "display_data"
    },
    {
     "data": {
      "text/html": [
       "<pre>Recsys training: model = ranking_factorization_recommender</pre>"
      ],
      "text/plain": [
       "Recsys training: model = ranking_factorization_recommender"
      ]
     },
     "metadata": {},
     "output_type": "display_data"
    },
    {
     "data": {
      "text/html": [
       "<pre>Recsys training: model = factorization_recommender</pre>"
      ],
      "text/plain": [
       "Recsys training: model = factorization_recommender"
      ]
     },
     "metadata": {},
     "output_type": "display_data"
    },
    {
     "data": {
      "text/html": [
       "<pre>Recsys training: model = ranking_factorization_recommender</pre>"
      ],
      "text/plain": [
       "Recsys training: model = ranking_factorization_recommender"
      ]
     },
     "metadata": {},
     "output_type": "display_data"
    },
    {
     "data": {
      "text/html": [
       "<pre>Preparing data set.</pre>"
      ],
      "text/plain": [
       "Preparing data set."
      ]
     },
     "metadata": {},
     "output_type": "display_data"
    },
    {
     "data": {
      "text/html": [
       "<pre>    Data has 46421 observations with 1789 users and 871 items.</pre>"
      ],
      "text/plain": [
       "    Data has 46421 observations with 1789 users and 871 items."
      ]
     },
     "metadata": {},
     "output_type": "display_data"
    },
    {
     "data": {
      "text/html": [
       "<pre>    Data prepared in: 0.165409s</pre>"
      ],
      "text/plain": [
       "    Data prepared in: 0.165409s"
      ]
     },
     "metadata": {},
     "output_type": "display_data"
    },
    {
     "data": {
      "text/html": [
       "<pre>Training ranking_factorization_recommender for recommendations.</pre>"
      ],
      "text/plain": [
       "Training ranking_factorization_recommender for recommendations."
      ]
     },
     "metadata": {},
     "output_type": "display_data"
    },
    {
     "data": {
      "text/html": [
       "<pre>+--------------------------------+--------------------------------------------------+----------+</pre>"
      ],
      "text/plain": [
       "+--------------------------------+--------------------------------------------------+----------+"
      ]
     },
     "metadata": {},
     "output_type": "display_data"
    },
    {
     "data": {
      "text/html": [
       "<pre>| Parameter                      | Description                                      | Value    |</pre>"
      ],
      "text/plain": [
       "| Parameter                      | Description                                      | Value    |"
      ]
     },
     "metadata": {},
     "output_type": "display_data"
    },
    {
     "data": {
      "text/html": [
       "<pre>+--------------------------------+--------------------------------------------------+----------+</pre>"
      ],
      "text/plain": [
       "+--------------------------------+--------------------------------------------------+----------+"
      ]
     },
     "metadata": {},
     "output_type": "display_data"
    },
    {
     "data": {
      "text/html": [
       "<pre>| num_factors                    | Factor Dimension                                 | 32       |</pre>"
      ],
      "text/plain": [
       "| num_factors                    | Factor Dimension                                 | 32       |"
      ]
     },
     "metadata": {},
     "output_type": "display_data"
    },
    {
     "data": {
      "text/html": [
       "<pre>| regularization                 | L2 Regularization on Factors                     | 1e-09    |</pre>"
      ],
      "text/plain": [
       "| regularization                 | L2 Regularization on Factors                     | 1e-09    |"
      ]
     },
     "metadata": {},
     "output_type": "display_data"
    },
    {
     "data": {
      "text/html": [
       "<pre>| solver                         | Solver used for training                         | adagrad  |</pre>"
      ],
      "text/plain": [
       "| solver                         | Solver used for training                         | adagrad  |"
      ]
     },
     "metadata": {},
     "output_type": "display_data"
    },
    {
     "data": {
      "text/html": [
       "<pre>| linear_regularization          | L2 Regularization on Linear Coefficients         | 1e-09    |</pre>"
      ],
      "text/plain": [
       "| linear_regularization          | L2 Regularization on Linear Coefficients         | 1e-09    |"
      ]
     },
     "metadata": {},
     "output_type": "display_data"
    },
    {
     "data": {
      "text/html": [
       "<pre>| ranking_regularization         | Rank-based Regularization Weight                 | 0.25     |</pre>"
      ],
      "text/plain": [
       "| ranking_regularization         | Rank-based Regularization Weight                 | 0.25     |"
      ]
     },
     "metadata": {},
     "output_type": "display_data"
    },
    {
     "data": {
      "text/html": [
       "<pre>| max_iterations                 | Maximum Number of Iterations                     | 25       |</pre>"
      ],
      "text/plain": [
       "| max_iterations                 | Maximum Number of Iterations                     | 25       |"
      ]
     },
     "metadata": {},
     "output_type": "display_data"
    },
    {
     "data": {
      "text/html": [
       "<pre>+--------------------------------+--------------------------------------------------+----------+</pre>"
      ],
      "text/plain": [
       "+--------------------------------+--------------------------------------------------+----------+"
      ]
     },
     "metadata": {},
     "output_type": "display_data"
    },
    {
     "data": {
      "text/html": [
       "<pre>  Optimizing model using SGD; tuning step size.</pre>"
      ],
      "text/plain": [
       "  Optimizing model using SGD; tuning step size."
      ]
     },
     "metadata": {},
     "output_type": "display_data"
    },
    {
     "data": {
      "text/html": [
       "<pre>  Using 10000 / 46421 points for tuning the step size.</pre>"
      ],
      "text/plain": [
       "  Using 10000 / 46421 points for tuning the step size."
      ]
     },
     "metadata": {},
     "output_type": "display_data"
    },
    {
     "data": {
      "text/html": [
       "<pre>+---------+-------------------+------------------------------------------+</pre>"
      ],
      "text/plain": [
       "+---------+-------------------+------------------------------------------+"
      ]
     },
     "metadata": {},
     "output_type": "display_data"
    },
    {
     "data": {
      "text/html": [
       "<pre>| Attempt | Initial Step Size | Estimated Objective Value                |</pre>"
      ],
      "text/plain": [
       "| Attempt | Initial Step Size | Estimated Objective Value                |"
      ]
     },
     "metadata": {},
     "output_type": "display_data"
    },
    {
     "data": {
      "text/html": [
       "<pre>+---------+-------------------+------------------------------------------+</pre>"
      ],
      "text/plain": [
       "+---------+-------------------+------------------------------------------+"
      ]
     },
     "metadata": {},
     "output_type": "display_data"
    },
    {
     "data": {
      "text/html": [
       "<pre>| 0       | 4.54545           | Not Viable                               |</pre>"
      ],
      "text/plain": [
       "| 0       | 4.54545           | Not Viable                               |"
      ]
     },
     "metadata": {},
     "output_type": "display_data"
    },
    {
     "data": {
      "text/html": [
       "<pre>| 1       | 1.13636           | Not Viable                               |</pre>"
      ],
      "text/plain": [
       "| 1       | 1.13636           | Not Viable                               |"
      ]
     },
     "metadata": {},
     "output_type": "display_data"
    },
    {
     "data": {
      "text/html": [
       "<pre>| 2       | 0.284091          | Not Viable                               |</pre>"
      ],
      "text/plain": [
       "| 2       | 0.284091          | Not Viable                               |"
      ]
     },
     "metadata": {},
     "output_type": "display_data"
    },
    {
     "data": {
      "text/html": [
       "<pre>| 3       | 0.0710227         | Not Viable                               |</pre>"
      ],
      "text/plain": [
       "| 3       | 0.0710227         | Not Viable                               |"
      ]
     },
     "metadata": {},
     "output_type": "display_data"
    },
    {
     "data": {
      "text/html": [
       "<pre>| 4       | 0.0177557         | No Decrease (0.270444 >= 0.250141)       |</pre>"
      ],
      "text/plain": [
       "| 4       | 0.0177557         | No Decrease (0.270444 >= 0.250141)       |"
      ]
     },
     "metadata": {},
     "output_type": "display_data"
    },
    {
     "data": {
      "text/html": [
       "<pre>| 5       | 0.00443892        | 0.239026                                 |</pre>"
      ],
      "text/plain": [
       "| 5       | 0.00443892        | 0.239026                                 |"
      ]
     },
     "metadata": {},
     "output_type": "display_data"
    },
    {
     "data": {
      "text/html": [
       "<pre>| 6       | 0.00221946        | 0.235408                                 |</pre>"
      ],
      "text/plain": [
       "| 6       | 0.00221946        | 0.235408                                 |"
      ]
     },
     "metadata": {},
     "output_type": "display_data"
    },
    {
     "data": {
      "text/html": [
       "<pre>| 7       | 0.00110973        | 0.243374                                 |</pre>"
      ],
      "text/plain": [
       "| 7       | 0.00110973        | 0.243374                                 |"
      ]
     },
     "metadata": {},
     "output_type": "display_data"
    },
    {
     "data": {
      "text/html": [
       "<pre>| 8       | 0.000554865       | 0.244633                                 |</pre>"
      ],
      "text/plain": [
       "| 8       | 0.000554865       | 0.244633                                 |"
      ]
     },
     "metadata": {},
     "output_type": "display_data"
    },
    {
     "data": {
      "text/html": [
       "<pre>| 9       | 0.000277433       | 0.247441                                 |</pre>"
      ],
      "text/plain": [
       "| 9       | 0.000277433       | 0.247441                                 |"
      ]
     },
     "metadata": {},
     "output_type": "display_data"
    },
    {
     "data": {
      "text/html": [
       "<pre>+---------+-------------------+------------------------------------------+</pre>"
      ],
      "text/plain": [
       "+---------+-------------------+------------------------------------------+"
      ]
     },
     "metadata": {},
     "output_type": "display_data"
    },
    {
     "data": {
      "text/html": [
       "<pre>| Final   | 0.00221946        | 0.235408                                 |</pre>"
      ],
      "text/plain": [
       "| Final   | 0.00221946        | 0.235408                                 |"
      ]
     },
     "metadata": {},
     "output_type": "display_data"
    },
    {
     "data": {
      "text/html": [
       "<pre>+---------+-------------------+------------------------------------------+</pre>"
      ],
      "text/plain": [
       "+---------+-------------------+------------------------------------------+"
      ]
     },
     "metadata": {},
     "output_type": "display_data"
    },
    {
     "data": {
      "text/html": [
       "<pre>Starting Optimization.</pre>"
      ],
      "text/plain": [
       "Starting Optimization."
      ]
     },
     "metadata": {},
     "output_type": "display_data"
    },
    {
     "data": {
      "text/html": [
       "<pre>+---------+--------------+-------------------+-----------------------+-------------+</pre>"
      ],
      "text/plain": [
       "+---------+--------------+-------------------+-----------------------+-------------+"
      ]
     },
     "metadata": {},
     "output_type": "display_data"
    },
    {
     "data": {
      "text/html": [
       "<pre>| Iter.   | Elapsed Time | Approx. Objective | Approx. Training RMSE | Step Size   |</pre>"
      ],
      "text/plain": [
       "| Iter.   | Elapsed Time | Approx. Objective | Approx. Training RMSE | Step Size   |"
      ]
     },
     "metadata": {},
     "output_type": "display_data"
    },
    {
     "data": {
      "text/html": [
       "<pre>+---------+--------------+-------------------+-----------------------+-------------+</pre>"
      ],
      "text/plain": [
       "+---------+--------------+-------------------+-----------------------+-------------+"
      ]
     },
     "metadata": {},
     "output_type": "display_data"
    },
    {
     "data": {
      "text/html": [
       "<pre>| Initial | 109us        | 0.250143          | 0.00095408            |             |</pre>"
      ],
      "text/plain": [
       "| Initial | 109us        | 0.250143          | 0.00095408            |             |"
      ]
     },
     "metadata": {},
     "output_type": "display_data"
    },
    {
     "data": {
      "text/html": [
       "<pre>+---------+--------------+-------------------+-----------------------+-------------+</pre>"
      ],
      "text/plain": [
       "+---------+--------------+-------------------+-----------------------+-------------+"
      ]
     },
     "metadata": {},
     "output_type": "display_data"
    },
    {
     "data": {
      "text/html": [
       "<pre>| 1       | 391.608ms    | 0.287831          | 0.174895              | 0.00221946  |</pre>"
      ],
      "text/plain": [
       "| 1       | 391.608ms    | 0.287831          | 0.174895              | 0.00221946  |"
      ]
     },
     "metadata": {},
     "output_type": "display_data"
    },
    {
     "data": {
      "text/html": [
       "<pre>| 2       | 745.305ms    | 0.23699           | 0.0762133             | 0.00221946  |</pre>"
      ],
      "text/plain": [
       "| 2       | 745.305ms    | 0.23699           | 0.0762133             | 0.00221946  |"
      ]
     },
     "metadata": {},
     "output_type": "display_data"
    },
    {
     "data": {
      "text/html": [
       "<pre>| 3       | 1.16s        | 0.231863          | 0.0640026             | 0.00221946  |</pre>"
      ],
      "text/plain": [
       "| 3       | 1.16s        | 0.231863          | 0.0640026             | 0.00221946  |"
      ]
     },
     "metadata": {},
     "output_type": "display_data"
    },
    {
     "data": {
      "text/html": [
       "<pre>| 4       | 1.51s        | 0.233096          | 0.0721148             | 0.00221946  |</pre>"
      ],
      "text/plain": [
       "| 4       | 1.51s        | 0.233096          | 0.0721148             | 0.00221946  |"
      ]
     },
     "metadata": {},
     "output_type": "display_data"
    },
    {
     "data": {
      "text/html": [
       "<pre>| 5       | 1.88s        | 0.233126          | 0.0727286             | 0.00221946  |</pre>"
      ],
      "text/plain": [
       "| 5       | 1.88s        | 0.233126          | 0.0727286             | 0.00221946  |"
      ]
     },
     "metadata": {},
     "output_type": "display_data"
    },
    {
     "data": {
      "text/html": [
       "<pre>| 6       | 2.44s        | 0.234533          | 0.0840747             | 0.00221946  |</pre>"
      ],
      "text/plain": [
       "| 6       | 2.44s        | 0.234533          | 0.0840747             | 0.00221946  |"
      ]
     },
     "metadata": {},
     "output_type": "display_data"
    },
    {
     "data": {
      "text/html": [
       "<pre>| 10      | 4.07s        | 0.22937           | 0.0740935             | 0.00221946  |</pre>"
      ],
      "text/plain": [
       "| 10      | 4.07s        | 0.22937           | 0.0740935             | 0.00221946  |"
      ]
     },
     "metadata": {},
     "output_type": "display_data"
    },
    {
     "data": {
      "text/html": [
       "<pre>| 11      | 4.46s        | 0.232523          | 0.0873559             | 0.00221946  |</pre>"
      ],
      "text/plain": [
       "| 11      | 4.46s        | 0.232523          | 0.0873559             | 0.00221946  |"
      ]
     },
     "metadata": {},
     "output_type": "display_data"
    },
    {
     "data": {
      "text/html": [
       "<pre>| 15      | 5.91s        | 0.229225          | 0.0835057             | 0.00221946  |</pre>"
      ],
      "text/plain": [
       "| 15      | 5.91s        | 0.229225          | 0.0835057             | 0.00221946  |"
      ]
     },
     "metadata": {},
     "output_type": "display_data"
    },
    {
     "data": {
      "text/html": [
       "<pre>| 20      | 7.92s        | 0.232529          | 0.102007              | 0.00221946  |</pre>"
      ],
      "text/plain": [
       "| 20      | 7.92s        | 0.232529          | 0.102007              | 0.00221946  |"
      ]
     },
     "metadata": {},
     "output_type": "display_data"
    },
    {
     "data": {
      "text/html": [
       "<pre>| 25      | 9.70s        | 0.230582          | 0.0998448             | 0.00221946  |</pre>"
      ],
      "text/plain": [
       "| 25      | 9.70s        | 0.230582          | 0.0998448             | 0.00221946  |"
      ]
     },
     "metadata": {},
     "output_type": "display_data"
    },
    {
     "data": {
      "text/html": [
       "<pre>+---------+--------------+-------------------+-----------------------+-------------+</pre>"
      ],
      "text/plain": [
       "+---------+--------------+-------------------+-----------------------+-------------+"
      ]
     },
     "metadata": {},
     "output_type": "display_data"
    },
    {
     "data": {
      "text/html": [
       "<pre>Optimization Complete: Maximum number of passes through the data reached.</pre>"
      ],
      "text/plain": [
       "Optimization Complete: Maximum number of passes through the data reached."
      ]
     },
     "metadata": {},
     "output_type": "display_data"
    },
    {
     "data": {
      "text/html": [
       "<pre>Computing final objective value and training RMSE.</pre>"
      ],
      "text/plain": [
       "Computing final objective value and training RMSE."
      ]
     },
     "metadata": {},
     "output_type": "display_data"
    },
    {
     "data": {
      "text/html": [
       "<pre>       Final objective value: 0.251909</pre>"
      ],
      "text/plain": [
       "       Final objective value: 0.251909"
      ]
     },
     "metadata": {},
     "output_type": "display_data"
    },
    {
     "data": {
      "text/html": [
       "<pre>       Final training RMSE: 0.154788</pre>"
      ],
      "text/plain": [
       "       Final training RMSE: 0.154788"
      ]
     },
     "metadata": {},
     "output_type": "display_data"
    },
    {
     "name": "stderr",
     "output_type": "stream",
     "text": [
      "WARNING:root:Model trained without a target. Skipping RMSE computation.\n"
     ]
    },
    {
     "name": "stdout",
     "output_type": "stream",
     "text": [
      "PROGRESS: Evaluate model 1. Popularity (Implicit, No Target)\n",
      "\n",
      "Precision and recall summary statistics by cutoff\n",
      "+--------+---------------------+----------------------+\n",
      "| cutoff |    mean_precision   |     mean_recall      |\n",
      "+--------+---------------------+----------------------+\n",
      "|   1    | 0.10629514963880295 | 0.01486851068894413  |\n",
      "|   2    | 0.10010319917440659 | 0.029249059047820648 |\n",
      "|   3    | 0.10939112487100112 | 0.049611287691783024 |\n",
      "|   4    |  0.0959752321981425 | 0.05661423772878884  |\n",
      "|   5    | 0.08648090815273472 | 0.06435184182862198  |\n",
      "|   6    | 0.07980736154110768 | 0.07117611490676497  |\n",
      "|   7    | 0.07445083296476486 | 0.07780520992595305  |\n",
      "|   8    | 0.07391640866873067 | 0.08712204834495861  |\n",
      "|   9    | 0.07338607957802995 | 0.09629263924929563  |\n",
      "|   10   | 0.07203302373581011 | 0.10548728017768255  |\n",
      "+--------+---------------------+----------------------+\n",
      "[10 rows x 3 columns]\n",
      "\n",
      "PROGRESS: Evaluate model 2. Item Similarity (Implicit, No Target)\n"
     ]
    },
    {
     "name": "stderr",
     "output_type": "stream",
     "text": [
      "WARNING:root:Model trained without a target. Skipping RMSE computation.\n"
     ]
    },
    {
     "name": "stdout",
     "output_type": "stream",
     "text": [
      "\n",
      "Precision and recall summary statistics by cutoff\n",
      "+--------+---------------------+----------------------+\n",
      "| cutoff |    mean_precision   |     mean_recall      |\n",
      "+--------+---------------------+----------------------+\n",
      "|   1    | 0.09287925696594425 | 0.014405216959396526 |\n",
      "|   2    | 0.10526315789473695 | 0.031809453016883336 |\n",
      "|   3    | 0.10629514963880306 | 0.04721921238949111  |\n",
      "|   4    | 0.10681114551083587 | 0.06517707152382063  |\n",
      "|   5    |  0.1060887512899896 |  0.0803740176805191  |\n",
      "|   6    | 0.10457516339869269 | 0.09587180105755949  |\n",
      "|   7    |  0.1018723278785198 | 0.11002291768545643  |\n",
      "|   8    | 0.09945820433436525 | 0.12393044405428308  |\n",
      "|   9    | 0.09597523219814236 | 0.13400756450292048  |\n",
      "|   10   | 0.09360165118679052 | 0.14536822253540524  |\n",
      "+--------+---------------------+----------------------+\n",
      "[10 rows x 3 columns]\n",
      "\n",
      "PROGRESS: Evaluate model 3. Ranking Factorization (Implicit, No Target)\n"
     ]
    },
    {
     "name": "stderr",
     "output_type": "stream",
     "text": [
      "WARNING:root:Model trained without a target. Skipping RMSE computation.\n"
     ]
    },
    {
     "name": "stdout",
     "output_type": "stream",
     "text": [
      "\n",
      "Precision and recall summary statistics by cutoff\n",
      "+--------+---------------------+----------------------+\n",
      "| cutoff |    mean_precision   |     mean_recall      |\n",
      "+--------+---------------------+----------------------+\n",
      "|   1    | 0.13622291021671842 |  0.0201038584165519  |\n",
      "|   2    | 0.09907120743034056 | 0.029408797829850446 |\n",
      "|   3    | 0.08875128998968018 | 0.03993299155837853  |\n",
      "|   4    | 0.08900928792569662 | 0.055167401684429525 |\n",
      "|   5    | 0.08235294117647068 | 0.06263666960261384  |\n",
      "|   6    | 0.07963536291709676 | 0.07319948140381574  |\n",
      "|   7    |  0.0757776794928498 | 0.07985691925320403  |\n",
      "|   8    | 0.07430340557275546 | 0.08800813909173046  |\n",
      "|   9    | 0.07338607957803003 | 0.09749729974188165  |\n",
      "|   10   | 0.07234262125902992 | 0.10697758840173696  |\n",
      "+--------+---------------------+----------------------+\n",
      "[10 rows x 3 columns]\n",
      "\n",
      "PROGRESS: Evaluate model 4. Popularity (Explicit, With Target)\n",
      "\n",
      "Precision and recall summary statistics by cutoff\n",
      "+--------+----------------------+----------------------+\n",
      "| cutoff |    mean_precision    |     mean_recall      |\n",
      "+--------+----------------------+----------------------+\n",
      "|   1    | 0.028895768833849346 | 0.005016700991933192 |\n",
      "|   2    | 0.019607843137254905 | 0.006746590183122697 |\n",
      "|   3    | 0.021671826625387004 | 0.01061670813992795  |\n",
      "|   4    | 0.02192982456140352  | 0.01387902316694887  |\n",
      "|   5    | 0.027038183694530465 | 0.021601263087331193 |\n",
      "|   6    | 0.031991744066047455 | 0.030018198748848895 |\n",
      "|   7    | 0.029927760577915373 | 0.03273536748768945  |\n",
      "|   8    | 0.028508771929824546 | 0.03533798216460756  |\n",
      "|   9    | 0.029698429079234017 | 0.04066672348406095  |\n",
      "|   10   | 0.029411764705882377 | 0.04404824621542888  |\n",
      "+--------+----------------------+----------------------+\n",
      "[10 rows x 3 columns]\n",
      "\n",
      "\n",
      "Overall RMSE: 0.0\n",
      "\n",
      "Per User RMSE (best)\n",
      "+--------+------+-------+\n",
      "| userID | rmse | count |\n",
      "+--------+------+-------+\n",
      "|  940   | 0.0  |   3   |\n",
      "+--------+------+-------+\n",
      "[1 rows x 3 columns]\n",
      "\n",
      "\n",
      "Per User RMSE (worst)\n",
      "+--------+------+-------+\n",
      "| userID | rmse | count |\n",
      "+--------+------+-------+\n",
      "|  526   | 0.0  |   1   |\n",
      "+--------+------+-------+\n",
      "[1 rows x 3 columns]\n",
      "\n",
      "\n",
      "Per Item RMSE (best)\n",
      "+--------------------+------+-------+\n",
      "|        name        | rmse | count |\n",
      "+--------------------+------+-------+\n",
      "| 30 Seconds to Mars | 0.0  |   30  |\n",
      "+--------------------+------+-------+\n",
      "[1 rows x 3 columns]\n",
      "\n",
      "\n",
      "Per Item RMSE (worst)\n",
      "+------+------+-------+\n",
      "| name | rmse | count |\n",
      "+------+------+-------+\n",
      "| INXS | 0.0  |   4   |\n",
      "+------+------+-------+\n",
      "[1 rows x 3 columns]\n",
      "\n",
      "PROGRESS: Evaluate model 5. Ranking Factorization (Explicit, With Target)\n",
      "\n",
      "Precision and recall summary statistics by cutoff\n",
      "+--------+----------------------+----------------------+\n",
      "| cutoff |    mean_precision    |     mean_recall      |\n",
      "+--------+----------------------+----------------------+\n",
      "|   1    | 0.14138286893704852  | 0.01965725766035359  |\n",
      "|   2    |  0.1186790505675955  | 0.03487316490412467  |\n",
      "|   3    | 0.10354317165462683  | 0.04393502094740485  |\n",
      "|   4    | 0.08668730650154802  |  0.0485626516586269  |\n",
      "|   5    | 0.07636738906088747  | 0.05432598304115327  |\n",
      "|   6    | 0.07034743722050227  | 0.060906691634245835 |\n",
      "|   7    | 0.06619489901223653  | 0.06617529643845427  |\n",
      "|   8    | 0.06449948400412803  | 0.07379714368878455  |\n",
      "|   9    | 0.06329549363605087  | 0.08130912774875625  |\n",
      "|   10   | 0.061919504643962835 |  0.0879063288506012  |\n",
      "+--------+----------------------+----------------------+\n",
      "[10 rows x 3 columns]\n",
      "\n",
      "\n",
      "Overall RMSE: 0.1613085698963923\n",
      "\n",
      "Per User RMSE (best)\n",
      "+--------+-----------------------+-------+\n",
      "| userID |          rmse         | count |\n",
      "+--------+-----------------------+-------+\n",
      "|  1121  | 0.0003295282912314512 |   1   |\n",
      "+--------+-----------------------+-------+\n",
      "[1 rows x 3 columns]\n",
      "\n",
      "\n",
      "Per User RMSE (worst)\n",
      "+--------+--------------------+-------+\n",
      "| userID |        rmse        | count |\n",
      "+--------+--------------------+-------+\n",
      "|  1942  | 2.0503651958753006 |   7   |\n",
      "+--------+--------------------+-------+\n",
      "[1 rows x 3 columns]\n",
      "\n",
      "\n",
      "Per Item RMSE (best)\n",
      "+-------------+-----------------------+-------+\n",
      "|     name    |          rmse         | count |\n",
      "+-------------+-----------------------+-------+\n",
      "| Andrew Bird | 0.0011869434869143936 |   1   |\n",
      "+-------------+-----------------------+-------+\n",
      "[1 rows x 3 columns]\n",
      "\n",
      "\n",
      "Per Item RMSE (worst)\n",
      "+-----------------+--------------------+-------+\n",
      "|       name      |        rmse        | count |\n",
      "+-----------------+--------------------+-------+\n",
      "| Miranda Lambert | 1.9833048175203796 |   2   |\n",
      "+-----------------+--------------------+-------+\n",
      "[1 rows x 3 columns]\n",
      "\n",
      "PROGRESS: Evaluate model 6. Factorization (With Target)\n",
      "\n",
      "Precision and recall summary statistics by cutoff\n",
      "+--------+----------------------+-----------------------+\n",
      "| cutoff |    mean_precision    |      mean_recall      |\n",
      "+--------+----------------------+-----------------------+\n",
      "|   1    | 0.003095975232198144 | 0.0004299965600275196 |\n",
      "|   2    | 0.006191950464396281 | 0.0025546263162362242 |\n",
      "|   3    | 0.023047815617475043 |  0.01160852964258537  |\n",
      "|   4    | 0.018575851393188885 |  0.012760920423459134 |\n",
      "|   5    | 0.03137254901960785  |  0.025704487004796554 |\n",
      "|   6    | 0.03680770553835574  |  0.03569411897585272  |\n",
      "|   7    | 0.040837387586613566 |  0.04730257416015929  |\n",
      "|   8    | 0.042569659442724436 |  0.054700301991323697 |\n",
      "|   9    | 0.045063639490884044 |  0.06345315617761434  |\n",
      "|   10   | 0.045923632610939076 |  0.07171136110764585  |\n",
      "+--------+----------------------+-----------------------+\n",
      "[10 rows x 3 columns]\n",
      "\n",
      "\n",
      "Overall RMSE: 1.0032922307510472e-05\n",
      "\n",
      "Per User RMSE (best)\n",
      "+--------+------------------------+-------+\n",
      "| userID |          rmse          | count |\n",
      "+--------+------------------------+-------+\n",
      "|  166   | 3.9250017947542664e-08 |   2   |\n",
      "+--------+------------------------+-------+\n",
      "[1 rows x 3 columns]\n",
      "\n",
      "\n",
      "Per User RMSE (worst)\n",
      "+--------+------------------------+-------+\n",
      "| userID |          rmse          | count |\n",
      "+--------+------------------------+-------+\n",
      "|  444   | 0.00020857904802995542 |   1   |\n",
      "+--------+------------------------+-------+\n",
      "[1 rows x 3 columns]\n",
      "\n",
      "\n",
      "Per Item RMSE (best)\n",
      "+----------------+----------------------+-------+\n",
      "|      name      |         rmse         | count |\n",
      "+----------------+----------------------+-------+\n",
      "| Spandau Ballet | 7.88153742270481e-09 |   1   |\n",
      "+----------------+----------------------+-------+\n",
      "[1 rows x 3 columns]\n",
      "\n",
      "\n",
      "Per Item RMSE (worst)\n",
      "+-----------+-----------------------+-------+\n",
      "|    name   |          rmse         | count |\n",
      "+-----------+-----------------------+-------+\n",
      "| Eluveitie | 0.0001597085500375517 |   1   |\n",
      "+-----------+-----------------------+-------+\n",
      "[1 rows x 3 columns]\n",
      "\n",
      "PROGRESS: Evaluate model 7. Default (Explicit, With Target)\n",
      "\n",
      "Precision and recall summary statistics by cutoff\n",
      "+--------+---------------------+----------------------+\n",
      "| cutoff |    mean_precision   |     mean_recall      |\n",
      "+--------+---------------------+----------------------+\n",
      "|   1    |  0.1465428276573789 | 0.020897595123601353 |\n",
      "|   2    | 0.10939112487100103 | 0.03137410977968257  |\n",
      "|   3    | 0.09528723770209829 | 0.04050821612741112  |\n",
      "|   4    |  0.0887512899896801 | 0.049858996066426436 |\n",
      "|   5    | 0.09143446852425177 | 0.06632407839838174  |\n",
      "|   6    | 0.08513931888544894 | 0.07498075826249204  |\n",
      "|   7    | 0.08079021082117055 | 0.08278268286008217  |\n",
      "|   8    | 0.07752837977296197 | 0.09027741550961355  |\n",
      "|   9    |  0.0725834193326452 | 0.09646826055494788  |\n",
      "|   10   | 0.06831785345717235 | 0.10034247371708666  |\n",
      "+--------+---------------------+----------------------+\n",
      "[10 rows x 3 columns]\n",
      "\n",
      "\n",
      "Overall RMSE: 0.18339938575022097\n",
      "\n",
      "Per User RMSE (best)\n",
      "+--------+----------------------+-------+\n",
      "| userID |         rmse         | count |\n",
      "+--------+----------------------+-------+\n",
      "|  1621  | 0.003048877020911389 |   1   |\n",
      "+--------+----------------------+-------+\n",
      "[1 rows x 3 columns]\n",
      "\n",
      "\n",
      "Per User RMSE (worst)\n",
      "+--------+------------------+-------+\n",
      "| userID |       rmse       | count |\n",
      "+--------+------------------+-------+\n",
      "|  1664  | 5.03841792723105 |   6   |\n",
      "+--------+------------------+-------+\n",
      "[1 rows x 3 columns]\n",
      "\n",
      "\n",
      "Per Item RMSE (best)\n",
      "+--------------+----------------------+-------+\n",
      "|     name     |         rmse         | count |\n",
      "+--------------+----------------------+-------+\n",
      "| Busta Rhymes | 0.005401754928471614 |   1   |\n",
      "+--------------+----------------------+-------+\n",
      "[1 rows x 3 columns]\n",
      "\n",
      "\n",
      "Per Item RMSE (worst)\n",
      "+----------+--------------------+-------+\n",
      "|   name   |        rmse        | count |\n",
      "+----------+--------------------+-------+\n",
      "| Paramore | 1.9288696228934323 |   41  |\n",
      "+----------+--------------------+-------+\n",
      "[1 rows x 3 columns]\n",
      "\n"
     ]
    }
   ],
   "source": [
    "# training our seven models with a binarized target (played or not played)\n",
    "model_list, name_list, results = train_models(train, \n",
    "                                              test,\n",
    "                                              user_id='userID',\n",
    "                                              item_id='name',\n",
    "                                              target='everPlayed')"
   ]
  },
  {
   "cell_type": "markdown",
   "metadata": {},
   "source": [
    "Lets take recommendations for some specific users and compare recommendations by model.  Below we will query each of the TuriCreate models for a list of users.  This list consists of 5 top users and 5 random users.  The output below, for each user, will first be their top artists by plays, and then recommendations generated by each of the seven TuriCreate models.  "
   ]
  },
  {
   "cell_type": "code",
   "execution_count": 56,
   "metadata": {},
   "outputs": [
    {
     "name": "stdout",
     "output_type": "stream",
     "text": [
      "User list consists of:\n",
      "Top Users: [757, 2000, 1418, 1642, 1094]\n",
      "Random Users: [527, 1170, 1798, 214, 2084]\n"
     ]
    }
   ],
   "source": [
    "# determine a user list for which to pull custom recommendations\n",
    "top_users = user_rank.index[:5]\n",
    "rand_users = seed.choice(sf['userID'],5)\n",
    "user_list = list(top_users) + list(rand_users)\n",
    "print(\"User list consists of:\\nTop Users: {}\\nRandom Users: {}\".format(list(top_users),list(rand_users)))"
   ]
  },
  {
   "cell_type": "code",
   "execution_count": 57,
   "metadata": {
    "collapsed": true
   },
   "outputs": [],
   "source": [
    "def played_vs_rec(users,df,model_list,name_list,user_id,item_id,plays,target):\n",
    "    assert len(model_list)==len(name_list)\n",
    "    print(\"User List: {}\\n\".format(users))\n",
    "    df = df[[user_id,item_id,plays,target]]\n",
    "    for user in users:\n",
    "        print('USER {}\\n'.format(str(user)))\n",
    "        print('***TOP PLAYS***')\n",
    "        print(df[df[user_id]==user].sort(plays,ascending=False))\n",
    "        print('\\n')\n",
    "        print('***RECOMMENDATIONS***')\n",
    "        for i in range(len(model_list)):\n",
    "            print('***{}***'.format(name_list[i]))\n",
    "            results = model_list[i].recommend(users=[user],k=4)\n",
    "            print(results)\n",
    "        print('\\n')"
   ]
  },
  {
   "cell_type": "markdown",
   "metadata": {},
   "source": [
    "For the results below, it is difficult to tell the quality of recommendations by model for our users who prefer the most popular music, such as Britney Spears or Lady Gaga.  But if we look at users that have different tastes, such as (for example) User #1642 who likes Depeche Mode, Model 2 seems to provide the most reasonable results (ie Duran Duran, New Order, Recoil and Erasure).  User # 1094 enjoys U2 and R.E.M., and model 2 recommends Oasis and The Killers, which also appear in-line.  "
   ]
  },
  {
   "cell_type": "code",
   "execution_count": 58,
   "metadata": {},
   "outputs": [
    {
     "name": "stdout",
     "output_type": "stream",
     "text": [
      "User List: [757, 2000, 1418, 1642, 1094, 527, 1170, 1798, 214, 2084]\n",
      "\n",
      "USER 757\n",
      "\n",
      "***TOP PLAYS***\n",
      "+--------+------------------+-----------------+------------+\n",
      "| userID |       name       | userArtistPlays | everPlayed |\n",
      "+--------+------------------+-----------------+------------+\n",
      "|  757   |     Shakira      |      169596     |     1      |\n",
      "|  757   |     Beyoncé      |      60877      |     1      |\n",
      "|  757   |     Rihanna      |      31800      |     1      |\n",
      "|  757   |  Britney Spears  |      30230      |     1      |\n",
      "|  757   |      Eminem      |      26933      |     1      |\n",
      "|  757   | Black Eyed Peas  |      26767      |     1      |\n",
      "|  757   | Enrique Iglesias |      26723      |     1      |\n",
      "|  757   | Michael Jackson  |      26148      |     1      |\n",
      "|  757   |      Ke$ha       |      23277      |     1      |\n",
      "|  757   |   Miley Cyrus    |      20003      |     1      |\n",
      "+--------+------------------+-----------------+------------+\n",
      "[41 rows x 4 columns]\n",
      "Note: Only the head of the SFrame is printed.\n",
      "You can use print_rows(num_rows=m, num_columns=n) to print more rows and columns.\n",
      "\n",
      "\n",
      "***RECOMMENDATIONS***\n",
      "***1. Popularity (Implicit, No Target)***\n",
      "+--------+---------------+-------+------+\n",
      "| userID |      name     | score | rank |\n",
      "+--------+---------------+-------+------+\n",
      "|  757   |  The Beatles  | 423.0 |  1   |\n",
      "|  757   |    Madonna    | 374.0 |  2   |\n",
      "|  757   | Avril Lavigne | 358.0 |  3   |\n",
      "|  757   |      Muse     | 354.0 |  4   |\n",
      "+--------+---------------+-------+------+\n",
      "[4 rows x 4 columns]\n",
      "\n",
      "***2. Item Similarity (Implicit, No Target)***\n",
      "+--------+--------------------+---------------------+------+\n",
      "| userID |        name        |        score        | rank |\n",
      "+--------+--------------------+---------------------+------+\n",
      "|  757   |   Avril Lavigne    |  0.1704585784819068 |  1   |\n",
      "|  757   |   Jennifer Lopez   | 0.16550935768499608 |  2   |\n",
      "|  757   | The Pussycat Dolls | 0.16381366078446552 |  3   |\n",
      "|  757   |   Kylie Minogue    |  0.1561032591796503 |  4   |\n",
      "+--------+--------------------+---------------------+------+\n",
      "[4 rows x 4 columns]\n",
      "\n",
      "***3. Ranking Factorization (Implicit, No Target)***\n",
      "+--------+---------------+--------------------+------+\n",
      "| userID |      name     |       score        | rank |\n",
      "+--------+---------------+--------------------+------+\n",
      "|  757   |  The Beatles  | 0.5090817780308989 |  1   |\n",
      "|  757   | Avril Lavigne | 0.5086943832329301 |  2   |\n",
      "|  757   |      Muse     | 0.5085723106765602 |  3   |\n",
      "|  757   |   Radiohead   | 0.5085622835100462 |  4   |\n",
      "+--------+---------------+--------------------+------+\n",
      "[4 rows x 4 columns]\n",
      "\n",
      "***4. Popularity (Explicit, With Target)***\n",
      "+--------+--------------+-------+------+\n",
      "| userID |     name     | score | rank |\n",
      "+--------+--------------+-------+------+\n",
      "|  757   |     Blur     |  1.0  |  1   |\n",
      "|  757   |      U2      |  1.0  |  2   |\n",
      "|  757   |    Thalía    |  1.0  |  3   |\n",
      "|  757   | Depeche Mode |  1.0  |  4   |\n",
      "+--------+--------------+-------+------+\n",
      "[4 rows x 4 columns]\n",
      "\n",
      "***5. Ranking Factorization (Explicit, With Target)***\n",
      "+--------+-------------+--------------------+------+\n",
      "| userID |     name    |       score        | rank |\n",
      "+--------+-------------+--------------------+------+\n",
      "|  757   |      U2     | 1.061004277318716  |  1   |\n",
      "|  757   | Evanescence | 1.0218846462666988 |  2   |\n",
      "|  757   |     Blur    | 1.0186462067067623 |  3   |\n",
      "|  757   |   Coldplay  | 1.009268369525671  |  4   |\n",
      "+--------+-------------+--------------------+------+\n",
      "[4 rows x 4 columns]\n",
      "\n",
      "***6. Factorization (With Target)***\n",
      "+--------+-----------------+--------------------+------+\n",
      "| userID |       name      |       score        | rank |\n",
      "+--------+-----------------+--------------------+------+\n",
      "|  757   |      Thalía     | 1.000322698739751  |  1   |\n",
      "|  757   | Sarah Brightman | 1.0002073011866486 |  2   |\n",
      "|  757   |    Radiohead    | 1.0001855654670635 |  3   |\n",
      "|  757   |     Coldplay    | 1.000183637335624  |  4   |\n",
      "+--------+-----------------+--------------------+------+\n",
      "[4 rows x 4 columns]\n",
      "\n",
      "***7. Default (Explicit, With Target)***\n",
      "+--------+---------------+--------------------+------+\n",
      "| userID |      name     |       score        | rank |\n",
      "+--------+---------------+--------------------+------+\n",
      "|  757   |  The Beatles  | 0.9024127924349159 |  1   |\n",
      "|  757   | Avril Lavigne | 0.9008783446624875 |  2   |\n",
      "|  757   |    Madonna    | 0.9003862832905725 |  3   |\n",
      "|  757   |    Paramore   | 0.9001822585123591 |  4   |\n",
      "+--------+---------------+--------------------+------+\n",
      "[4 rows x 4 columns]\n",
      "\n",
      "\n",
      "\n",
      "USER 2000\n",
      "\n",
      "***TOP PLAYS***\n",
      "+--------+-------------------+-----------------+------------+\n",
      "| userID |        name       | userArtistPlays | everPlayed |\n",
      "+--------+-------------------+-----------------+------------+\n",
      "|  2000  |        Akon       |      50559      |     1      |\n",
      "|  2000  |       Eminem      |      47147      |     1      |\n",
      "|  2000  |     Lil' Wayne    |      33305      |     1      |\n",
      "|  2000  |     Kanye West    |      25901      |     1      |\n",
      "|  2000  |    Busta Rhymes   |      25763      |     1      |\n",
      "|  2000  |      Rihanna      |      24774      |     1      |\n",
      "|  2000  |      Flo Rida     |      18728      |     1      |\n",
      "|  2000  |      50 Cent      |      16027      |     1      |\n",
      "|  2000  | Justin Timberlake |      13128      |     1      |\n",
      "|  2000  |      Madonna      |      12782      |     1      |\n",
      "+--------+-------------------+-----------------+------------+\n",
      "[26 rows x 4 columns]\n",
      "Note: Only the head of the SFrame is printed.\n",
      "You can use print_rows(num_rows=m, num_columns=n) to print more rows and columns.\n",
      "\n",
      "\n",
      "***RECOMMENDATIONS***\n",
      "***1. Popularity (Implicit, No Target)***\n",
      "+--------+--------------------+-------+------+\n",
      "| userID |        name        | score | rank |\n",
      "+--------+--------------------+-------+------+\n",
      "|  2000  |     Lady Gaga      | 542.0 |  1   |\n",
      "|  2000  |    The Beatles     | 423.0 |  2   |\n",
      "|  2000  |     Katy Perry     | 410.0 |  3   |\n",
      "|  2000  | Christina Aguilera | 366.0 |  4   |\n",
      "+--------+--------------------+-------+------+\n",
      "[4 rows x 4 columns]\n",
      "\n",
      "***2. Item Similarity (Implicit, No Target)***\n",
      "+--------+--------------------+---------------------+------+\n",
      "| userID |        name        |        score        | rank |\n",
      "+--------+--------------------+---------------------+------+\n",
      "|  2000  |      Beyoncé       | 0.14274904819635245 |  1   |\n",
      "|  2000  | Christina Aguilera |  0.1333108383875627 |  2   |\n",
      "|  2000  |  Black Eyed Peas   | 0.12413493257302505 |  3   |\n",
      "|  2000  |     Katy Perry     | 0.12149348625769982 |  4   |\n",
      "+--------+--------------------+---------------------+------+\n",
      "[4 rows x 4 columns]\n",
      "\n",
      "***3. Ranking Factorization (Implicit, No Target)***\n",
      "+--------+---------------+--------------------+------+\n",
      "| userID |      name     |       score        | rank |\n",
      "+--------+---------------+--------------------+------+\n",
      "|  2000  |   Katy Perry  | 0.5107166113157317 |  1   |\n",
      "|  2000  |  The Beatles  | 0.5095577510316788 |  2   |\n",
      "|  2000  | Avril Lavigne | 0.5090512735420912 |  3   |\n",
      "|  2000  |      Muse     | 0.5087481486825085 |  4   |\n",
      "+--------+---------------+--------------------+------+\n",
      "[4 rows x 4 columns]\n",
      "\n",
      "***4. Popularity (Explicit, With Target)***\n",
      "+--------+--------------+-------+------+\n",
      "| userID |     name     | score | rank |\n",
      "+--------+--------------+-------+------+\n",
      "|  2000  |     Blur     |  1.0  |  1   |\n",
      "|  2000  |      U2      |  1.0  |  2   |\n",
      "|  2000  |    Thalía    |  1.0  |  3   |\n",
      "|  2000  | Depeche Mode |  1.0  |  4   |\n",
      "+--------+--------------+-------+------+\n",
      "[4 rows x 4 columns]\n",
      "\n",
      "***5. Ranking Factorization (Explicit, With Target)***\n",
      "+--------+-------------+--------------------+------+\n",
      "| userID |     name    |       score        | rank |\n",
      "+--------+-------------+--------------------+------+\n",
      "|  2000  | Miley Cyrus | 1.1040967293083668 |  1   |\n",
      "|  2000  |      U2     | 1.0933418311178684 |  2   |\n",
      "|  2000  |   Beyoncé   | 1.0746718719601631 |  3   |\n",
      "|  2000  |     Blur    | 1.0342193432152271 |  4   |\n",
      "+--------+-------------+--------------------+------+\n",
      "[4 rows x 4 columns]\n",
      "\n",
      "***6. Factorization (With Target)***\n",
      "+--------+-----------------+--------------------+------+\n",
      "| userID |       name      |       score        | rank |\n",
      "+--------+-----------------+--------------------+------+\n",
      "|  2000  |      Thalía     | 1.0001364575474554 |  1   |\n",
      "|  2000  | Sarah Brightman | 1.0000201333365624 |  2   |\n",
      "|  2000  |    Katy Perry   |  1.00000034670596  |  3   |\n",
      "|  2000  |    Radiohead    | 0.9999969671679168 |  4   |\n",
      "+--------+-----------------+--------------------+------+\n",
      "[4 rows x 4 columns]\n",
      "\n",
      "***7. Default (Explicit, With Target)***\n",
      "+--------+--------------------+--------------------+------+\n",
      "| userID |        name        |       score        | rank |\n",
      "+--------+--------------------+--------------------+------+\n",
      "|  2000  |     Lady Gaga      | 0.9740959929767996 |  1   |\n",
      "|  2000  | Christina Aguilera | 0.9572193733183667 |  2   |\n",
      "|  2000  |    The Beatles     | 0.9559874380938709 |  3   |\n",
      "|  2000  |   Avril Lavigne    | 0.9548364684451371 |  4   |\n",
      "+--------+--------------------+--------------------+------+\n",
      "[4 rows x 4 columns]\n",
      "\n",
      "\n",
      "\n",
      "USER 1418\n",
      "\n",
      "***TOP PLAYS***\n"
     ]
    },
    {
     "name": "stdout",
     "output_type": "stream",
     "text": [
      "+--------+-----------------------+-----------------+------------+\n",
      "| userID |          name         | userArtistPlays | everPlayed |\n",
      "+--------+-----------------------+-----------------+------------+\n",
      "|  1418  |       Lady Gaga       |      75414      |     1      |\n",
      "|  1418  | The Devil Wears Prada |      39826      |     1      |\n",
      "|  1418  |        Paramore       |      31834      |     1      |\n",
      "|  1418  |       Hadouken!       |      30566      |     1      |\n",
      "|  1418  |     Good Charlotte    |      28859      |     1      |\n",
      "|  1418  |          Muse         |      27211      |     1      |\n",
      "|  1418  |     Avril Lavigne     |      25575      |     1      |\n",
      "|  1418  |     Enter Shikari     |      24663      |     1      |\n",
      "|  1418  |      Linkin Park      |      18012      |     1      |\n",
      "|  1418  |   Asking Alexandria   |      15147      |     1      |\n",
      "+--------+-----------------------+-----------------+------------+\n",
      "[28 rows x 4 columns]\n",
      "Note: Only the head of the SFrame is printed.\n",
      "You can use print_rows(num_rows=m, num_columns=n) to print more rows and columns.\n",
      "\n",
      "\n",
      "***RECOMMENDATIONS***\n",
      "***1. Popularity (Implicit, No Target)***\n",
      "+--------+----------------+-------+------+\n",
      "| userID |      name      | score | rank |\n",
      "+--------+----------------+-------+------+\n",
      "|  1418  | Britney Spears | 464.0 |  1   |\n",
      "|  1418  |  The Beatles   | 423.0 |  2   |\n",
      "|  1418  |    Rihanna     | 418.0 |  3   |\n",
      "|  1418  |   Katy Perry   | 410.0 |  4   |\n",
      "+--------+----------------+-------+------+\n",
      "[4 rows x 4 columns]\n",
      "\n",
      "***2. Item Similarity (Implicit, No Target)***\n",
      "+--------+----------------+---------------------+------+\n",
      "| userID |      name      |        score        | rank |\n",
      "+--------+----------------+---------------------+------+\n",
      "|  1418  |   Katy Perry   | 0.13967699025358474 |  1   |\n",
      "|  1418  | Britney Spears | 0.13293884694576263 |  2   |\n",
      "|  1418  |    Rihanna     |  0.1295152668442045 |  3   |\n",
      "|  1418  |  Miley Cyrus   | 0.11205701955727168 |  4   |\n",
      "+--------+----------------+---------------------+------+\n",
      "[4 rows x 4 columns]\n",
      "\n",
      "***3. Ranking Factorization (Implicit, No Target)***\n",
      "+--------+-------------+--------------------+------+\n",
      "| userID |     name    |       score        | rank |\n",
      "+--------+-------------+--------------------+------+\n",
      "|  1418  |  Katy Perry | 0.5127564025941235 |  1   |\n",
      "|  1418  | The Beatles | 0.511623962505666  |  2   |\n",
      "|  1418  |   Rihanna   | 0.5110988994148405 |  3   |\n",
      "|  1418  |   Beyoncé   | 0.5103611197705572 |  4   |\n",
      "+--------+-------------+--------------------+------+\n",
      "[4 rows x 4 columns]\n",
      "\n",
      "***4. Popularity (Explicit, With Target)***\n",
      "+--------+--------------+-------+------+\n",
      "| userID |     name     | score | rank |\n",
      "+--------+--------------+-------+------+\n",
      "|  1418  |     Blur     |  1.0  |  1   |\n",
      "|  1418  |      U2      |  1.0  |  2   |\n",
      "|  1418  |    Thalía    |  1.0  |  3   |\n",
      "|  1418  | Depeche Mode |  1.0  |  4   |\n",
      "+--------+--------------+-------+------+\n",
      "[4 rows x 4 columns]\n",
      "\n",
      "***5. Ranking Factorization (Explicit, With Target)***\n",
      "+--------+-------------+--------------------+------+\n",
      "| userID |     name    |       score        | rank |\n",
      "+--------+-------------+--------------------+------+\n",
      "|  1418  | Miley Cyrus | 1.1043077744543552 |  1   |\n",
      "|  1418  |      U2     | 1.0931523628532887 |  2   |\n",
      "|  1418  |   Beyoncé   | 1.0769464746117592 |  3   |\n",
      "|  1418  | Evanescence | 1.0420862771570683 |  4   |\n",
      "+--------+-------------+--------------------+------+\n",
      "[4 rows x 4 columns]\n",
      "\n",
      "***6. Factorization (With Target)***\n",
      "+--------+-----------------+--------------------+------+\n",
      "| userID |       name      |       score        | rank |\n",
      "+--------+-----------------+--------------------+------+\n",
      "|  1418  |      Thalía     | 1.0001370843310724 |  1   |\n",
      "|  1418  | Sarah Brightman | 1.0000207165729478 |  2   |\n",
      "|  1418  |    Katy Perry   | 1.000001026307224  |  3   |\n",
      "|  1418  |    Radiohead    | 0.9999975824350997 |  4   |\n",
      "+--------+-----------------+--------------------+------+\n",
      "[4 rows x 4 columns]\n",
      "\n",
      "***7. Default (Explicit, With Target)***\n",
      "+--------+----------------+--------------------+------+\n",
      "| userID |      name      |       score        | rank |\n",
      "+--------+----------------+--------------------+------+\n",
      "|  1418  | Britney Spears | 0.9440903903450817 |  1   |\n",
      "|  1418  |    Rihanna     | 0.9415132723515853 |  2   |\n",
      "|  1418  |  The Beatles   | 0.9357743992004544 |  3   |\n",
      "|  1418  |   Katy Perry   | 0.9340651637176052 |  4   |\n",
      "+--------+----------------+--------------------+------+\n",
      "[4 rows x 4 columns]\n",
      "\n",
      "\n",
      "\n",
      "USER 1642\n",
      "\n",
      "***TOP PLAYS***\n",
      "+--------+----------------+-----------------+------------+\n",
      "| userID |      name      | userArtistPlays | everPlayed |\n",
      "+--------+----------------+-----------------+------------+\n",
      "|  1642  |  Depeche Mode  |      352698     |     1      |\n",
      "|  1642  | Martin L. Gore |      10947      |     1      |\n",
      "|  1642  |       U2       |       318       |     1      |\n",
      "|  1642  |   Dave Gahan   |       294       |     1      |\n",
      "|  1642  |     Tiësto     |       207       |     1      |\n",
      "|  1642  |    The Cure    |       174       |     1      |\n",
      "|  1642  |   Camouflage   |       142       |     1      |\n",
      "|  1642  |   Talk Talk    |       120       |     1      |\n",
      "|  1642  |      a-ha      |       111       |     1      |\n",
      "|  1642  |   Daft Punk    |       107       |     1      |\n",
      "+--------+----------------+-----------------+------------+\n",
      "[10 rows x 4 columns]\n",
      "\n",
      "\n",
      "\n",
      "***RECOMMENDATIONS***\n",
      "***1. Popularity (Implicit, No Target)***\n",
      "+--------+----------------+-------+------+\n",
      "| userID |      name      | score | rank |\n",
      "+--------+----------------+-------+------+\n",
      "|  1642  |   Lady Gaga    | 542.0 |  1   |\n",
      "|  1642  | Britney Spears | 464.0 |  2   |\n",
      "|  1642  |  The Beatles   | 423.0 |  3   |\n",
      "|  1642  |    Rihanna     | 418.0 |  4   |\n",
      "+--------+----------------+-------+------+\n",
      "[4 rows x 4 columns]\n",
      "\n",
      "***2. Item Similarity (Implicit, No Target)***\n",
      "+--------+---------------+---------------------+------+\n",
      "| userID |      name     |        score        | rank |\n",
      "+--------+---------------+---------------------+------+\n",
      "|  1642  | Pet Shop Boys | 0.12656785547733307 |  1   |\n",
      "|  1642  |   New Order   | 0.12264665216207504 |  2   |\n",
      "|  1642  |      INXS     | 0.11402035504579544 |  3   |\n",
      "|  1642  |     Recoil    | 0.10816283524036407 |  4   |\n",
      "+--------+---------------+---------------------+------+\n",
      "[4 rows x 4 columns]\n",
      "\n",
      "***3. Ranking Factorization (Implicit, No Target)***\n",
      "+--------+-------------+--------------------+------+\n",
      "| userID |     name    |       score        | rank |\n",
      "+--------+-------------+--------------------+------+\n",
      "|  1642  |  Katy Perry | 0.5145433354129155 |  1   |\n",
      "|  1642  | The Beatles | 0.5134331406778754 |  2   |\n",
      "|  1642  |  Lady Gaga  | 0.5133601663532378 |  3   |\n",
      "|  1642  |   Rihanna   | 0.513194174419159  |  4   |\n",
      "+--------+-------------+--------------------+------+\n",
      "[4 rows x 4 columns]\n",
      "\n",
      "***4. Popularity (Explicit, With Target)***\n",
      "+--------+--------------------+-------+------+\n",
      "| userID |        name        | score | rank |\n",
      "+--------+--------------------+-------+------+\n",
      "|  1642  | Christina Aguilera |  1.0  |  1   |\n",
      "|  1642  |    Evanescence     |  1.0  |  2   |\n",
      "|  1642  |        Blur        |  1.0  |  3   |\n",
      "|  1642  |       Thalía       |  1.0  |  4   |\n",
      "+--------+--------------------+-------+------+\n",
      "[4 rows x 4 columns]\n",
      "\n",
      "***5. Ranking Factorization (Explicit, With Target)***\n",
      "+--------+-------------+--------------------+------+\n",
      "| userID |     name    |       score        | rank |\n",
      "+--------+-------------+--------------------+------+\n",
      "|  1642  | Miley Cyrus |  1.01120350882411  |  1   |\n",
      "|  1642  |   Beyoncé   | 1.0051306448876858 |  2   |\n",
      "|  1642  |   Shakira   | 0.9826942645013332 |  3   |\n",
      "|  1642  |    Ke$ha    | 0.980580672621727  |  4   |\n",
      "+--------+-------------+--------------------+------+\n",
      "[4 rows x 4 columns]\n",
      "\n",
      "***6. Factorization (With Target)***\n",
      "+--------+-----------------+--------------------+------+\n",
      "| userID |       name      |       score        | rank |\n",
      "+--------+-----------------+--------------------+------+\n",
      "|  1642  |      Thalía     | 1.0002579645824916 |  1   |\n",
      "|  1642  | Sarah Brightman | 1.0001419166967471 |  2   |\n",
      "|  1642  |    Katy Perry   | 1.0001224797168344 |  3   |\n",
      "|  1642  |    Radiohead    | 1.0001191568961216 |  4   |\n",
      "+--------+-----------------+--------------------+------+\n",
      "[4 rows x 4 columns]\n",
      "\n",
      "***7. Default (Explicit, With Target)***\n",
      "+--------+--------------------+--------------------+------+\n",
      "| userID |        name        |       score        | rank |\n",
      "+--------+--------------------+--------------------+------+\n",
      "|  1642  |     Lady Gaga      | 0.9552159868180752 |  1   |\n",
      "|  1642  |   Britney Spears   | 0.9488912882807199 |  2   |\n",
      "|  1642  |      Rihanna       | 0.9449635397759266 |  3   |\n",
      "|  1642  | Christina Aguilera | 0.9401542257983238 |  4   |\n",
      "+--------+--------------------+--------------------+------+\n",
      "[4 rows x 4 columns]\n",
      "\n",
      "\n",
      "\n",
      "USER 1094\n",
      "\n",
      "***TOP PLAYS***\n",
      "+--------+-----------------+-----------------+------------+\n",
      "| userID |       name      | userArtistPlays | everPlayed |\n",
      "+--------+-----------------+-----------------+------------+\n",
      "|  1094  |        U2       |      320725     |     1      |\n",
      "|  1094  |      R.E.M.     |      11248      |     1      |\n",
      "|  1094  |     Interpol    |       3816      |     1      |\n",
      "|  1094  |      Keane      |       2534      |     1      |\n",
      "|  1094  |     Editors     |       2478      |     1      |\n",
      "|  1094  |    The Police   |       2085      |     1      |\n",
      "|  1094  | The Cranberries |       1569      |     1      |\n",
      "|  1094  |   The Beatles   |       792       |     1      |\n",
      "|  1094  |    Sigur Rós    |       788       |     1      |\n",
      "|  1094  |   Snow Patrol   |       749       |     1      |\n",
      "+--------+-----------------+-----------------+------------+\n",
      "[26 rows x 4 columns]\n",
      "Note: Only the head of the SFrame is printed.\n",
      "You can use print_rows(num_rows=m, num_columns=n) to print more rows and columns.\n",
      "\n",
      "\n",
      "***RECOMMENDATIONS***\n",
      "***1. Popularity (Implicit, No Target)***\n",
      "+--------+----------------+-------+------+\n",
      "| userID |      name      | score | rank |\n",
      "+--------+----------------+-------+------+\n",
      "|  1094  |   Lady Gaga    | 542.0 |  1   |\n",
      "|  1094  | Britney Spears | 464.0 |  2   |\n",
      "|  1094  |    Rihanna     | 418.0 |  3   |\n",
      "|  1094  |   Katy Perry   | 410.0 |  4   |\n",
      "+--------+----------------+-------+------+\n",
      "[4 rows x 4 columns]\n",
      "\n",
      "***2. Item Similarity (Implicit, No Target)***\n",
      "+--------+-----------------+---------------------+------+\n",
      "| userID |       name      |        score        | rank |\n",
      "+--------+-----------------+---------------------+------+\n",
      "|  1094  |      Oasis      | 0.09414809483748215 |  1   |\n",
      "|  1094  |   The Killers   | 0.09048057290223929 |  2   |\n",
      "|  1094  |   The Strokes   | 0.08509894976249108 |  3   |\n",
      "|  1094  | Franz Ferdinand | 0.08083128012143649 |  4   |\n",
      "+--------+-----------------+---------------------+------+\n",
      "[4 rows x 4 columns]\n",
      "\n",
      "***3. Ranking Factorization (Implicit, No Target)***\n",
      "+--------+---------------+--------------------+------+\n",
      "| userID |      name     |       score        | rank |\n",
      "+--------+---------------+--------------------+------+\n",
      "|  1094  |   Katy Perry  | 0.5119004821001213 |  1   |\n",
      "|  1094  |    Rihanna    | 0.5101274829930518 |  2   |\n",
      "|  1094  | Avril Lavigne | 0.5100840768856669 |  3   |\n",
      "|  1094  |   Lady Gaga   | 0.5099157541357544 |  4   |\n",
      "+--------+---------------+--------------------+------+\n",
      "[4 rows x 4 columns]\n",
      "\n",
      "***4. Popularity (Explicit, With Target)***\n",
      "+--------+--------------+-------+------+\n",
      "| userID |     name     | score | rank |\n",
      "+--------+--------------+-------+------+\n",
      "|  1094  | Evanescence  |  1.0  |  1   |\n",
      "|  1094  |     Blur     |  1.0  |  2   |\n",
      "|  1094  |    Thalía    |  1.0  |  3   |\n",
      "|  1094  | Depeche Mode |  1.0  |  4   |\n",
      "+--------+--------------+-------+------+\n",
      "[4 rows x 4 columns]\n",
      "\n",
      "***5. Ranking Factorization (Explicit, With Target)***\n"
     ]
    },
    {
     "name": "stdout",
     "output_type": "stream",
     "text": [
      "+--------+-------------+--------------------+------+\n",
      "| userID |     name    |       score        | rank |\n",
      "+--------+-------------+--------------------+------+\n",
      "|  1094  | Miley Cyrus | 1.0149176232516766 |  1   |\n",
      "|  1094  |   Beyoncé   | 1.001153890043497  |  2   |\n",
      "|  1094  |   Shakira   | 0.9769414402544498 |  3   |\n",
      "|  1094  | Evanescence | 0.9727772064507008 |  4   |\n",
      "+--------+-------------+--------------------+------+\n",
      "[4 rows x 4 columns]\n",
      "\n",
      "***6. Factorization (With Target)***\n",
      "+--------+-----------------+--------------------+------+\n",
      "| userID |       name      |       score        | rank |\n",
      "+--------+-----------------+--------------------+------+\n",
      "|  1094  |      Thalía     | 1.000303021240807  |  1   |\n",
      "|  1094  | Sarah Brightman | 1.0001869374794303 |  2   |\n",
      "|  1094  |    Katy Perry   | 1.0001674975717805 |  3   |\n",
      "|  1094  |      SHINee     | 1.0001633482692824 |  4   |\n",
      "+--------+-----------------+--------------------+------+\n",
      "[4 rows x 4 columns]\n",
      "\n",
      "***7. Default (Explicit, With Target)***\n",
      "+--------+--------------------+--------------------+------+\n",
      "| userID |        name        |       score        | rank |\n",
      "+--------+--------------------+--------------------+------+\n",
      "|  1094  |     Lady Gaga      | 0.9507895987480879 |  1   |\n",
      "|  1094  |   Britney Spears   | 0.9450675052066799 |  2   |\n",
      "|  1094  |      Rihanna       | 0.9409136403701268 |  3   |\n",
      "|  1094  | Christina Aguilera | 0.9360768342157826 |  4   |\n",
      "+--------+--------------------+--------------------+------+\n",
      "[4 rows x 4 columns]\n",
      "\n",
      "\n",
      "\n",
      "USER 527\n",
      "\n",
      "***TOP PLAYS***\n",
      "+--------+-----------------------+-----------------+------------+\n",
      "| userID |          name         | userArtistPlays | everPlayed |\n",
      "+--------+-----------------------+-----------------+------------+\n",
      "|  527   |       Lady Gaga       |      12679      |     1      |\n",
      "|  527   |         Lolene        |       7024      |     1      |\n",
      "|  527   |      Nicki Minaj      |       2376      |     1      |\n",
      "|  527   |        倖田來未       |       1645      |     1      |\n",
      "|  527   | Marina & the Diamonds |       1288      |     1      |\n",
      "|  527   |     Britney Spears    |       1113      |     1      |\n",
      "|  527   |     Natalia Kills     |       853       |     1      |\n",
      "|  527   |          BoA          |       834       |     1      |\n",
      "|  527   |        Rihanna        |       810       |     1      |\n",
      "|  527   |         Kelis         |       737       |     1      |\n",
      "+--------+-----------------------+-----------------+------------+\n",
      "[42 rows x 4 columns]\n",
      "Note: Only the head of the SFrame is printed.\n",
      "You can use print_rows(num_rows=m, num_columns=n) to print more rows and columns.\n",
      "\n",
      "\n",
      "***RECOMMENDATIONS***\n",
      "***1. Popularity (Implicit, No Target)***\n",
      "+--------+---------------+-------+------+\n",
      "| userID |      name     | score | rank |\n",
      "+--------+---------------+-------+------+\n",
      "|  527   |  The Beatles  | 423.0 |  1   |\n",
      "|  527   | Avril Lavigne | 358.0 |  2   |\n",
      "|  527   |      Muse     | 354.0 |  3   |\n",
      "|  527   |    Paramore   | 354.0 |  4   |\n",
      "+--------+---------------+-------+------+\n",
      "[4 rows x 4 columns]\n",
      "\n",
      "***2. Item Similarity (Implicit, No Target)***\n",
      "+--------+-----------------+---------------------+------+\n",
      "| userID |       name      |        score        | rank |\n",
      "+--------+-----------------+---------------------+------+\n",
      "|  527   |     Shakira     |  0.1542567184993199 |  1   |\n",
      "|  527   |  Avril Lavigne  | 0.13715840663228715 |  2   |\n",
      "|  527   | Black Eyed Peas | 0.13136702208291917 |  3   |\n",
      "|  527   |  Ashley Tisdale | 0.12016237775484721 |  4   |\n",
      "+--------+-----------------+---------------------+------+\n",
      "[4 rows x 4 columns]\n",
      "\n",
      "***3. Ranking Factorization (Implicit, No Target)***\n",
      "+--------+---------------+--------------------+------+\n",
      "| userID |      name     |       score        | rank |\n",
      "+--------+---------------+--------------------+------+\n",
      "|  527   |  The Beatles  | 0.5159056451373464 |  1   |\n",
      "|  527   | Avril Lavigne | 0.5146422641453648 |  2   |\n",
      "|  527   |      Muse     | 0.5131877511155236 |  3   |\n",
      "|  527   |    Paramore   | 0.5122515102052742 |  4   |\n",
      "+--------+---------------+--------------------+------+\n",
      "[4 rows x 4 columns]\n",
      "\n",
      "***4. Popularity (Explicit, With Target)***\n",
      "+--------+--------------+-------+------+\n",
      "| userID |     name     | score | rank |\n",
      "+--------+--------------+-------+------+\n",
      "|  527   |     Blur     |  1.0  |  1   |\n",
      "|  527   |      U2      |  1.0  |  2   |\n",
      "|  527   |    Thalía    |  1.0  |  3   |\n",
      "|  527   | Depeche Mode |  1.0  |  4   |\n",
      "+--------+--------------+-------+------+\n",
      "[4 rows x 4 columns]\n",
      "\n",
      "***5. Ranking Factorization (Explicit, With Target)***\n",
      "+--------+--------------------+--------------------+------+\n",
      "| userID |        name        |       score        | rank |\n",
      "+--------+--------------------+--------------------+------+\n",
      "|  527   |   Avril Lavigne    | 0.9049831032752991 |  1   |\n",
      "|  527   |    Taylor Swift    | 0.8994064293801785 |  2   |\n",
      "|  527   |        Muse        | 0.8957961816340685 |  3   |\n",
      "|  527   | 30 Seconds to Mars | 0.8934758161194623 |  4   |\n",
      "+--------+--------------------+--------------------+------+\n",
      "[4 rows x 4 columns]\n",
      "\n",
      "***6. Factorization (With Target)***\n",
      "+--------+-----------------+--------------------+------+\n",
      "| userID |       name      |       score        | rank |\n",
      "+--------+-----------------+--------------------+------+\n",
      "|  527   |      Thalía     | 1.0001839577057012 |  1   |\n",
      "|  527   | Sarah Brightman | 1.000068304592375  |  2   |\n",
      "|  527   |    Radiohead    | 1.0000461220520833 |  3   |\n",
      "|  527   |     Coldplay    | 1.0000441858095428 |  4   |\n",
      "+--------+-----------------+--------------------+------+\n",
      "[4 rows x 4 columns]\n",
      "\n",
      "***7. Default (Explicit, With Target)***\n",
      "+--------+-------------------+--------------------+------+\n",
      "| userID |        name       |       score        | rank |\n",
      "+--------+-------------------+--------------------+------+\n",
      "|  527   |    Taylor Swift   | 0.9265998745104298 |  1   |\n",
      "|  527   |    The Beatles    | 0.9185693032923155 |  2   |\n",
      "|  527   |      Paramore     | 0.9177910471044015 |  3   |\n",
      "|  527   | Avenged Sevenfold | 0.9164679040550254 |  4   |\n",
      "+--------+-------------------+--------------------+------+\n",
      "[4 rows x 4 columns]\n",
      "\n",
      "\n",
      "\n",
      "USER 1170\n",
      "\n",
      "***TOP PLAYS***\n",
      "+--------+--------------------------+-----------------+------------+\n",
      "| userID |           name           | userArtistPlays | everPlayed |\n",
      "+--------+--------------------------+-----------------+------------+\n",
      "|  1170  |         Paramore         |       3899      |     1      |\n",
      "|  1170  |      Arctic Monkeys      |       1270      |     1      |\n",
      "|  1170  |     Yeah Yeah Yeahs      |       870       |     1      |\n",
      "|  1170  |        The Kooks         |       828       |     1      |\n",
      "|  1170  |        Cat Power         |       751       |     1      |\n",
      "|  1170  | The All-American Rejects |       580       |     1      |\n",
      "|  1170  |        Lily Allen        |       570       |     1      |\n",
      "|  1170  |       The Beatles        |       452       |     1      |\n",
      "|  1170  |       Maxïmo Park        |       426       |     1      |\n",
      "|  1170  |    Cansei de Ser Sexy    |       403       |     1      |\n",
      "+--------+--------------------------+-----------------+------------+\n",
      "[36 rows x 4 columns]\n",
      "Note: Only the head of the SFrame is printed.\n",
      "You can use print_rows(num_rows=m, num_columns=n) to print more rows and columns.\n",
      "\n",
      "\n",
      "***RECOMMENDATIONS***\n",
      "***1. Popularity (Implicit, No Target)***\n",
      "+--------+--------------------+-------+------+\n",
      "| userID |        name        | score | rank |\n",
      "+--------+--------------------+-------+------+\n",
      "|  1170  |   Britney Spears   | 464.0 |  1   |\n",
      "|  1170  |      Rihanna       | 418.0 |  2   |\n",
      "|  1170  |      Madonna       | 374.0 |  3   |\n",
      "|  1170  | Christina Aguilera | 366.0 |  4   |\n",
      "+--------+--------------------+-------+------+\n",
      "[4 rows x 4 columns]\n",
      "\n",
      "***2. Item Similarity (Implicit, No Target)***\n",
      "+--------+----------------+---------------------+------+\n",
      "| userID |      name      |        score        | rank |\n",
      "+--------+----------------+---------------------+------+\n",
      "|  1170  |  The Killers   | 0.08362051248550414 |  1   |\n",
      "|  1170  | Britney Spears | 0.06852383812268575 |  2   |\n",
      "|  1170  |      MGMT      | 0.06781806349754334 |  3   |\n",
      "|  1170  |      Muse      | 0.06757517258326212 |  4   |\n",
      "+--------+----------------+---------------------+------+\n",
      "[4 rows x 4 columns]\n",
      "\n",
      "***3. Ranking Factorization (Implicit, No Target)***\n",
      "+--------+---------------+--------------------+------+\n",
      "| userID |      name     |       score        | rank |\n",
      "+--------+---------------+--------------------+------+\n",
      "|  1170  |    Rihanna    | 0.5177574550697086 |  1   |\n",
      "|  1170  | Avril Lavigne | 0.5157272528780766 |  2   |\n",
      "|  1170  |    Madonna    | 0.515440739607056  |  3   |\n",
      "|  1170  |    Beyoncé    | 0.5149389993526741 |  4   |\n",
      "+--------+---------------+--------------------+------+\n",
      "[4 rows x 4 columns]\n",
      "\n",
      "***4. Popularity (Explicit, With Target)***\n",
      "+--------+--------------+-------+------+\n",
      "| userID |     name     | score | rank |\n",
      "+--------+--------------+-------+------+\n",
      "|  1170  |     Blur     |  1.0  |  1   |\n",
      "|  1170  |      U2      |  1.0  |  2   |\n",
      "|  1170  |    Thalía    |  1.0  |  3   |\n",
      "|  1170  | Depeche Mode |  1.0  |  4   |\n",
      "+--------+--------------+-------+------+\n",
      "[4 rows x 4 columns]\n",
      "\n",
      "***5. Ranking Factorization (Explicit, With Target)***\n",
      "+--------+----------------+--------------------+------+\n",
      "| userID |      name      |       score        | rank |\n",
      "+--------+----------------+--------------------+------+\n",
      "|  1170  | Britney Spears | 1.0558630116283894 |  1   |\n",
      "|  1170  |    Madonna     | 0.9429775304161012 |  2   |\n",
      "|  1170  |    Rihanna     | 0.931608762126416  |  3   |\n",
      "|  1170  | Avril Lavigne  | 0.9273919253610075 |  4   |\n",
      "+--------+----------------+--------------------+------+\n",
      "[4 rows x 4 columns]\n",
      "\n",
      "***6. Factorization (With Target)***\n",
      "+--------+-----------------+--------------------+------+\n",
      "| userID |       name      |       score        | rank |\n",
      "+--------+-----------------+--------------------+------+\n",
      "|  1170  |      Thalía     | 1.0001829831994655 |  1   |\n",
      "|  1170  | Sarah Brightman | 1.0000663454411693 |  2   |\n",
      "|  1170  |      SHINee     | 1.0000433737334333 |  3   |\n",
      "|  1170  |    Radiohead    | 1.0000428509134451 |  4   |\n",
      "+--------+-----------------+--------------------+------+\n",
      "[4 rows x 4 columns]\n",
      "\n",
      "***7. Default (Explicit, With Target)***\n",
      "+--------+--------------------+--------------------+------+\n",
      "| userID |        name        |       score        | rank |\n",
      "+--------+--------------------+--------------------+------+\n",
      "|  1170  |   Britney Spears   | 0.9414112627709983 |  1   |\n",
      "|  1170  |      Rihanna       | 0.9366208009596448 |  2   |\n",
      "|  1170  | Christina Aguilera | 0.9316846876608906 |  3   |\n",
      "|  1170  |    Taylor Swift    | 0.9299729489721358 |  4   |\n",
      "+--------+--------------------+--------------------+------+\n",
      "[4 rows x 4 columns]\n",
      "\n",
      "\n",
      "\n",
      "USER 1798\n",
      "\n",
      "***TOP PLAYS***\n",
      "+--------+-----------------+-----------------+------------+\n",
      "| userID |       name      | userArtistPlays | everPlayed |\n",
      "+--------+-----------------+-----------------+------------+\n",
      "|  1798  |   Depeche Mode  |       1869      |     1      |\n",
      "|  1798  |  Massive Attack |       670       |     1      |\n",
      "|  1798  |     Placebo     |       409       |     1      |\n",
      "|  1798  | Michael Jackson |       354       |     1      |\n",
      "|  1798  |  Pet Shop Boys  |       269       |     1      |\n",
      "|  1798  |    Daft Punk    |       192       |     1      |\n",
      "|  1798  |       Muse      |       159       |     1      |\n",
      "|  1798  |     Kamelot     |       157       |     1      |\n",
      "|  1798  |    Dave Gahan   |       153       |     1      |\n",
      "|  1798  |   The Beatles   |       137       |     1      |\n",
      "+--------+-----------------+-----------------+------------+\n",
      "[40 rows x 4 columns]\n",
      "Note: Only the head of the SFrame is printed.\n",
      "You can use print_rows(num_rows=m, num_columns=n) to print more rows and columns.\n",
      "\n",
      "\n",
      "***RECOMMENDATIONS***\n",
      "***1. Popularity (Implicit, No Target)***\n"
     ]
    },
    {
     "name": "stdout",
     "output_type": "stream",
     "text": [
      "+--------+----------------+-------+------+\n",
      "| userID |      name      | score | rank |\n",
      "+--------+----------------+-------+------+\n",
      "|  1798  |   Lady Gaga    | 542.0 |  1   |\n",
      "|  1798  | Britney Spears | 464.0 |  2   |\n",
      "|  1798  |    Rihanna     | 418.0 |  3   |\n",
      "|  1798  |   Katy Perry   | 410.0 |  4   |\n",
      "+--------+----------------+-------+------+\n",
      "[4 rows x 4 columns]\n",
      "\n",
      "***2. Item Similarity (Implicit, No Target)***\n",
      "+--------+--------------+---------------------+------+\n",
      "| userID |     name     |        score        | rank |\n",
      "+--------+--------------+---------------------+------+\n",
      "|  1798  | Depeche Mode | 0.07025288105010986 |  1   |\n",
      "|  1798  |    Oasis     | 0.06496736526489258 |  2   |\n",
      "|  1798  | The Killers  | 0.06210854768753052 |  3   |\n",
      "|  1798  | The Strokes  | 0.05538184881210327 |  4   |\n",
      "+--------+--------------+---------------------+------+\n",
      "[4 rows x 4 columns]\n",
      "\n",
      "***3. Ranking Factorization (Implicit, No Target)***\n",
      "+--------+---------------+--------------------+------+\n",
      "| userID |      name     |       score        | rank |\n",
      "+--------+---------------+--------------------+------+\n",
      "|  1798  |   Lady Gaga   | 0.5192204667184758 |  1   |\n",
      "|  1798  |   Katy Perry  | 0.5187523903758616 |  2   |\n",
      "|  1798  |    Rihanna    | 0.5182763669687723 |  3   |\n",
      "|  1798  | Avril Lavigne | 0.5161589794777013 |  4   |\n",
      "+--------+---------------+--------------------+------+\n",
      "[4 rows x 4 columns]\n",
      "\n",
      "***4. Popularity (Explicit, With Target)***\n",
      "+--------+--------------+-------+------+\n",
      "| userID |     name     | score | rank |\n",
      "+--------+--------------+-------+------+\n",
      "|  1798  |     Blur     |  1.0  |  1   |\n",
      "|  1798  |      U2      |  1.0  |  2   |\n",
      "|  1798  |    Thalía    |  1.0  |  3   |\n",
      "|  1798  | Depeche Mode |  1.0  |  4   |\n",
      "+--------+--------------+-------+------+\n",
      "[4 rows x 4 columns]\n",
      "\n",
      "***5. Ranking Factorization (Explicit, With Target)***\n",
      "+--------+----------------+--------------------+------+\n",
      "| userID |      name      |       score        | rank |\n",
      "+--------+----------------+--------------------+------+\n",
      "|  1798  | Britney Spears | 1.1106965132057667 |  1   |\n",
      "|  1798  |   Lady Gaga    | 0.9761566389352083 |  2   |\n",
      "|  1798  |    Madonna     | 0.9557229485362768 |  3   |\n",
      "|  1798  |    Rihanna     | 0.9426785539835691 |  4   |\n",
      "+--------+----------------+--------------------+------+\n",
      "[4 rows x 4 columns]\n",
      "\n",
      "***6. Factorization (With Target)***\n",
      "+--------+-----------------+--------------------+------+\n",
      "| userID |       name      |       score        | rank |\n",
      "+--------+-----------------+--------------------+------+\n",
      "|  1798  |      Thalía     | 1.0001801399935601 |  1   |\n",
      "|  1798  | Sarah Brightman | 1.0000640012941915 |  2   |\n",
      "|  1798  |    Katy Perry   | 1.000044732143195  |  3   |\n",
      "|  1798  |      SHINee     | 1.0000404190265755 |  4   |\n",
      "+--------+-----------------+--------------------+------+\n",
      "[4 rows x 4 columns]\n",
      "\n",
      "***7. Default (Explicit, With Target)***\n",
      "+--------+--------------------+--------------------+------+\n",
      "| userID |        name        |       score        | rank |\n",
      "+--------+--------------------+--------------------+------+\n",
      "|  1798  |     Lady Gaga      | 0.9533587242476642 |  1   |\n",
      "|  1798  |   Britney Spears   | 0.9482848255283898 |  2   |\n",
      "|  1798  |      Rihanna       | 0.9438794041052461 |  3   |\n",
      "|  1798  | Christina Aguilera | 0.9389987331232987 |  4   |\n",
      "+--------+--------------------+--------------------+------+\n",
      "[4 rows x 4 columns]\n",
      "\n",
      "\n",
      "\n",
      "USER 214\n",
      "\n",
      "***TOP PLAYS***\n",
      "+--------+---------------------+-----------------+------------+\n",
      "| userID |         name        | userArtistPlays | everPlayed |\n",
      "+--------+---------------------+-----------------+------------+\n",
      "|  214   |   Michael Jackson   |       7462      |     1      |\n",
      "|  214   |       Madonna       |       5755      |     1      |\n",
      "|  214   |    Britney Spears   |       900       |     1      |\n",
      "|  214   | The Pretty Reckless |       750       |     1      |\n",
      "|  214   |        Prince       |       630       |     1      |\n",
      "|  214   |        AC/DC        |       628       |     1      |\n",
      "|  214   |    Janet Jackson    |       566       |     1      |\n",
      "|  214   |     The Runaways    |       469       |     1      |\n",
      "|  214   |  Christina Aguilera |       373       |     1      |\n",
      "|  214   |    Kylie Minogue    |       329       |     1      |\n",
      "+--------+---------------------+-----------------+------------+\n",
      "[39 rows x 4 columns]\n",
      "Note: Only the head of the SFrame is printed.\n",
      "You can use print_rows(num_rows=m, num_columns=n) to print more rows and columns.\n",
      "\n",
      "\n",
      "***RECOMMENDATIONS***\n",
      "***1. Popularity (Implicit, No Target)***\n",
      "+--------+---------------+-------+------+\n",
      "| userID |      name     | score | rank |\n",
      "+--------+---------------+-------+------+\n",
      "|  214   | Avril Lavigne | 358.0 |  1   |\n",
      "|  214   |      Muse     | 354.0 |  2   |\n",
      "|  214   |   Radiohead   | 337.0 |  3   |\n",
      "|  214   |    Coldplay   | 311.0 |  4   |\n",
      "+--------+---------------+-------+------+\n",
      "[4 rows x 4 columns]\n",
      "\n",
      "***2. Item Similarity (Implicit, No Target)***\n",
      "+--------+----------------+---------------------+------+\n",
      "| userID |      name      |        score        | rank |\n",
      "+--------+----------------+---------------------+------+\n",
      "|  214   | Avril Lavigne  |  0.1660974744038704 |  1   |\n",
      "|  214   | Kelly Clarkson |  0.1332011131139902 |  2   |\n",
      "|  214   | Jennifer Lopez | 0.13072008047348413 |  3   |\n",
      "|  214   | Ashley Tisdale | 0.12428680444375062 |  4   |\n",
      "+--------+----------------+---------------------+------+\n",
      "[4 rows x 4 columns]\n",
      "\n",
      "***3. Ranking Factorization (Implicit, No Target)***\n",
      "+--------+---------------+--------------------+------+\n",
      "| userID |      name     |       score        | rank |\n",
      "+--------+---------------+--------------------+------+\n",
      "|  214   | Avril Lavigne | 0.5167307702670348 |  1   |\n",
      "|  214   |      Muse     | 0.5146300770653043 |  2   |\n",
      "|  214   |   Radiohead   | 0.5129780472671409 |  3   |\n",
      "|  214   |    Coldplay   | 0.5105525847981194 |  4   |\n",
      "+--------+---------------+--------------------+------+\n",
      "[4 rows x 4 columns]\n",
      "\n",
      "***4. Popularity (Explicit, With Target)***\n",
      "+--------+--------------+-------+------+\n",
      "| userID |     name     | score | rank |\n",
      "+--------+--------------+-------+------+\n",
      "|  214   |     Blur     |  1.0  |  1   |\n",
      "|  214   |      U2      |  1.0  |  2   |\n",
      "|  214   |    Thalía    |  1.0  |  3   |\n",
      "|  214   | Depeche Mode |  1.0  |  4   |\n",
      "+--------+--------------+-------+------+\n",
      "[4 rows x 4 columns]\n",
      "\n",
      "***5. Ranking Factorization (Explicit, With Target)***\n",
      "+--------+--------------------+--------------------+------+\n",
      "| userID |        name        |       score        | rank |\n",
      "+--------+--------------------+--------------------+------+\n",
      "|  214   |   Avril Lavigne    | 0.9044428924098611 |  1   |\n",
      "|  214   |    Taylor Swift    | 0.9006498297676444 |  2   |\n",
      "|  214   | 30 Seconds to Mars | 0.8985885698348284 |  3   |\n",
      "|  214   |    Depeche Mode    | 0.8971503144130111 |  4   |\n",
      "+--------+--------------------+--------------------+------+\n",
      "[4 rows x 4 columns]\n",
      "\n",
      "***6. Factorization (With Target)***\n",
      "+--------+-----------------+--------------------+------+\n",
      "| userID |       name      |       score        | rank |\n",
      "+--------+-----------------+--------------------+------+\n",
      "|  214   |      Thalía     | 1.0001830884369554 |  1   |\n",
      "|  214   | Sarah Brightman | 1.0000668589252726 |  2   |\n",
      "|  214   |    Radiohead    | 1.0000438261462108 |  3   |\n",
      "|  214   |      SHINee     | 1.0000433883570565 |  4   |\n",
      "+--------+-----------------+--------------------+------+\n",
      "[4 rows x 4 columns]\n",
      "\n",
      "***7. Default (Explicit, With Target)***\n",
      "+--------+-------------------+--------------------+------+\n",
      "| userID |        name       |       score        | rank |\n",
      "+--------+-------------------+--------------------+------+\n",
      "|  214   |    Taylor Swift   | 0.9275410664267838 |  1   |\n",
      "|  214   |   Avril Lavigne   | 0.9245673859259114 |  2   |\n",
      "|  214   | Avenged Sevenfold | 0.9224743511877023 |  3   |\n",
      "|  214   |    Iron Maiden    | 0.922377992523252  |  4   |\n",
      "+--------+-------------------+--------------------+------+\n",
      "[4 rows x 4 columns]\n",
      "\n",
      "\n",
      "\n",
      "USER 2084\n",
      "\n",
      "***TOP PLAYS***\n",
      "+--------+-----------------+-----------------+------------+\n",
      "| userID |       name      | userArtistPlays | everPlayed |\n",
      "+--------+-----------------+-----------------+------------+\n",
      "|  2084  |  Arctic Monkeys |      12498      |     1      |\n",
      "|  2084  |   The Strokes   |       2751      |     1      |\n",
      "|  2084  |       Muse      |       2703      |     1      |\n",
      "|  2084  |     Interpol    |       2140      |     1      |\n",
      "|  2084  |      Moptop     |       2015      |     1      |\n",
      "|  2084  | Franz Ferdinand |       1519      |     1      |\n",
      "|  2084  |   Los Hermanos  |       1293      |     1      |\n",
      "|  2084  |   Babyshambles  |       1228      |     1      |\n",
      "|  2084  |  The Libertines |       1116      |     1      |\n",
      "|  2084  |  The Fratellis  |       976       |     1      |\n",
      "+--------+-----------------+-----------------+------------+\n",
      "[31 rows x 4 columns]\n",
      "Note: Only the head of the SFrame is printed.\n",
      "You can use print_rows(num_rows=m, num_columns=n) to print more rows and columns.\n",
      "\n",
      "\n",
      "***RECOMMENDATIONS***\n",
      "***1. Popularity (Implicit, No Target)***\n",
      "+--------+----------------+-------+------+\n",
      "| userID |      name      | score | rank |\n",
      "+--------+----------------+-------+------+\n",
      "|  2084  |   Lady Gaga    | 542.0 |  1   |\n",
      "|  2084  | Britney Spears | 464.0 |  2   |\n",
      "|  2084  |    Rihanna     | 418.0 |  3   |\n",
      "|  2084  |   Katy Perry   | 410.0 |  4   |\n",
      "+--------+----------------+-------+------+\n",
      "[4 rows x 4 columns]\n",
      "\n",
      "***2. Item Similarity (Implicit, No Target)***\n",
      "+--------+---------------------+---------------------+------+\n",
      "| userID |         name        |        score        | rank |\n",
      "+--------+---------------------+---------------------+------+\n",
      "|  2084  |  The White Stripes  |  0.0955064469768155 |  1   |\n",
      "|  2084  |         MGMT        | 0.09502829659369684 |  2   |\n",
      "|  2084  | Death Cab for Cutie | 0.08952489783686976 |  3   |\n",
      "|  2084  |       Nirvana       | 0.08265269956281109 |  4   |\n",
      "+--------+---------------------+---------------------+------+\n",
      "[4 rows x 4 columns]\n",
      "\n",
      "***3. Ranking Factorization (Implicit, No Target)***\n",
      "+--------+---------------+--------------------+------+\n",
      "| userID |      name     |       score        | rank |\n",
      "+--------+---------------+--------------------+------+\n",
      "|  2084  |   Lady Gaga   | 0.5176493438340699 |  1   |\n",
      "|  2084  |   Katy Perry  | 0.5175680694036603 |  2   |\n",
      "|  2084  |    Rihanna    | 0.5168872736028534 |  3   |\n",
      "|  2084  | Avril Lavigne | 0.5150967605388589 |  4   |\n",
      "+--------+---------------+--------------------+------+\n",
      "[4 rows x 4 columns]\n",
      "\n",
      "***4. Popularity (Explicit, With Target)***\n",
      "+--------+--------------+-------+------+\n",
      "| userID |     name     | score | rank |\n",
      "+--------+--------------+-------+------+\n",
      "|  2084  |     Blur     |  1.0  |  1   |\n",
      "|  2084  |      U2      |  1.0  |  2   |\n",
      "|  2084  |    Thalía    |  1.0  |  3   |\n",
      "|  2084  | Depeche Mode |  1.0  |  4   |\n",
      "+--------+--------------+-------+------+\n",
      "[4 rows x 4 columns]\n",
      "\n",
      "***5. Ranking Factorization (Explicit, With Target)***\n",
      "+--------+----------------+--------------------+------+\n",
      "| userID |      name      |       score        | rank |\n",
      "+--------+----------------+--------------------+------+\n",
      "|  2084  | Britney Spears | 0.9461554922163486 |  1   |\n",
      "|  2084  |   Katy Perry   | 0.9253182988613844 |  2   |\n",
      "|  2084  |     Ke$ha      | 0.9185794135555625 |  3   |\n",
      "|  2084  |    Beyoncé     | 0.9185490091331303 |  4   |\n",
      "+--------+----------------+--------------------+------+\n",
      "[4 rows x 4 columns]\n",
      "\n",
      "***6. Factorization (With Target)***\n",
      "+--------+-----------------+--------------------+------+\n",
      "| userID |       name      |       score        | rank |\n",
      "+--------+-----------------+--------------------+------+\n",
      "|  2084  |      Thalía     | 1.0001874656041139 |  1   |\n",
      "|  2084  | Sarah Brightman | 1.0000713147359406 |  2   |\n",
      "|  2084  |    Katy Perry   | 1.0000517660319872 |  3   |\n",
      "|  2084  |      SHINee     | 1.0000478245870852 |  4   |\n",
      "+--------+-----------------+--------------------+------+\n",
      "[4 rows x 4 columns]\n",
      "\n",
      "***7. Default (Explicit, With Target)***\n",
      "+--------+----------------+--------------------+------+\n",
      "| userID |      name      |       score        | rank |\n",
      "+--------+----------------+--------------------+------+\n",
      "|  2084  |   Lady Gaga    | 0.9427190576316207 |  1   |\n",
      "|  2084  | Britney Spears | 0.9403979044291191 |  2   |\n",
      "|  2084  |    Rihanna     | 0.934982075363223  |  3   |\n",
      "|  2084  |  Taylor Swift  | 0.9312647731931065 |  4   |\n",
      "+--------+----------------+--------------------+------+\n",
      "[4 rows x 4 columns]\n",
      "\n",
      "\n",
      "\n"
     ]
    }
   ],
   "source": [
    "# although score improves, results seem to worsen when target is used in the model\n",
    "played_vs_rec(user_list,\n",
    "              sf,\n",
    "              model_list,\n",
    "              name_list,\n",
    "              user_id='userID',\n",
    "              item_id='name',\n",
    "              plays='userArtistPlays',\n",
    "              target='everPlayed')"
   ]
  },
  {
   "cell_type": "markdown",
   "metadata": {},
   "source": [
    "Applying our music domain knowledge, it appears that model 2, item similarity recommender, is providing each user the best results based on their listening history.  Lets use this model for our recommendations.  \n",
    "\n",
    "We re-run the user list top plays and model 2 recommendations below.  "
   ]
  },
  {
   "cell_type": "code",
   "execution_count": 59,
   "metadata": {},
   "outputs": [
    {
     "name": "stdout",
     "output_type": "stream",
     "text": [
      "User List: [757, 2000, 1418, 1642, 1094, 527, 1170, 1798, 214, 2084]\n",
      "\n",
      "USER 757\n",
      "\n",
      "***TOP PLAYS***\n",
      "+--------+------------------+-----------------+------------+\n",
      "| userID |       name       | userArtistPlays | everPlayed |\n",
      "+--------+------------------+-----------------+------------+\n",
      "|  757   |     Shakira      |      169596     |     1      |\n",
      "|  757   |     Beyoncé      |      60877      |     1      |\n",
      "|  757   |     Rihanna      |      31800      |     1      |\n",
      "|  757   |  Britney Spears  |      30230      |     1      |\n",
      "|  757   |      Eminem      |      26933      |     1      |\n",
      "|  757   | Black Eyed Peas  |      26767      |     1      |\n",
      "|  757   | Enrique Iglesias |      26723      |     1      |\n",
      "|  757   | Michael Jackson  |      26148      |     1      |\n",
      "|  757   |      Ke$ha       |      23277      |     1      |\n",
      "|  757   |   Miley Cyrus    |      20003      |     1      |\n",
      "+--------+------------------+-----------------+------------+\n",
      "[41 rows x 4 columns]\n",
      "Note: Only the head of the SFrame is printed.\n",
      "You can use print_rows(num_rows=m, num_columns=n) to print more rows and columns.\n",
      "\n",
      "\n",
      "***RECOMMENDATIONS***\n",
      "***2. Item Similarity (Implicit, No Target)***\n",
      "+--------+--------------------+---------------------+------+\n",
      "| userID |        name        |        score        | rank |\n",
      "+--------+--------------------+---------------------+------+\n",
      "|  757   |   Avril Lavigne    |  0.1704585784819068 |  1   |\n",
      "|  757   |   Jennifer Lopez   | 0.16550935768499608 |  2   |\n",
      "|  757   | The Pussycat Dolls | 0.16381366078446552 |  3   |\n",
      "|  757   |   Kylie Minogue    |  0.1561032591796503 |  4   |\n",
      "+--------+--------------------+---------------------+------+\n",
      "[4 rows x 4 columns]\n",
      "\n",
      "\n",
      "\n",
      "USER 2000\n",
      "\n",
      "***TOP PLAYS***\n",
      "+--------+-------------------+-----------------+------------+\n",
      "| userID |        name       | userArtistPlays | everPlayed |\n",
      "+--------+-------------------+-----------------+------------+\n",
      "|  2000  |        Akon       |      50559      |     1      |\n",
      "|  2000  |       Eminem      |      47147      |     1      |\n",
      "|  2000  |     Lil' Wayne    |      33305      |     1      |\n",
      "|  2000  |     Kanye West    |      25901      |     1      |\n",
      "|  2000  |    Busta Rhymes   |      25763      |     1      |\n",
      "|  2000  |      Rihanna      |      24774      |     1      |\n",
      "|  2000  |      Flo Rida     |      18728      |     1      |\n",
      "|  2000  |      50 Cent      |      16027      |     1      |\n",
      "|  2000  | Justin Timberlake |      13128      |     1      |\n",
      "|  2000  |      Madonna      |      12782      |     1      |\n",
      "+--------+-------------------+-----------------+------------+\n",
      "[26 rows x 4 columns]\n",
      "Note: Only the head of the SFrame is printed.\n",
      "You can use print_rows(num_rows=m, num_columns=n) to print more rows and columns.\n",
      "\n",
      "\n",
      "***RECOMMENDATIONS***\n",
      "***2. Item Similarity (Implicit, No Target)***\n",
      "+--------+--------------------+---------------------+------+\n",
      "| userID |        name        |        score        | rank |\n",
      "+--------+--------------------+---------------------+------+\n",
      "|  2000  |      Beyoncé       | 0.14274904819635245 |  1   |\n",
      "|  2000  | Christina Aguilera |  0.1333108383875627 |  2   |\n",
      "|  2000  |  Black Eyed Peas   | 0.12413493257302505 |  3   |\n",
      "|  2000  |     Katy Perry     | 0.12149348625769982 |  4   |\n",
      "+--------+--------------------+---------------------+------+\n",
      "[4 rows x 4 columns]\n",
      "\n",
      "\n",
      "\n",
      "USER 1418\n",
      "\n",
      "***TOP PLAYS***\n",
      "+--------+-----------------------+-----------------+------------+\n",
      "| userID |          name         | userArtistPlays | everPlayed |\n",
      "+--------+-----------------------+-----------------+------------+\n",
      "|  1418  |       Lady Gaga       |      75414      |     1      |\n",
      "|  1418  | The Devil Wears Prada |      39826      |     1      |\n",
      "|  1418  |        Paramore       |      31834      |     1      |\n",
      "|  1418  |       Hadouken!       |      30566      |     1      |\n",
      "|  1418  |     Good Charlotte    |      28859      |     1      |\n",
      "|  1418  |          Muse         |      27211      |     1      |\n",
      "|  1418  |     Avril Lavigne     |      25575      |     1      |\n",
      "|  1418  |     Enter Shikari     |      24663      |     1      |\n",
      "|  1418  |      Linkin Park      |      18012      |     1      |\n",
      "|  1418  |   Asking Alexandria   |      15147      |     1      |\n",
      "+--------+-----------------------+-----------------+------------+\n",
      "[28 rows x 4 columns]\n",
      "Note: Only the head of the SFrame is printed.\n",
      "You can use print_rows(num_rows=m, num_columns=n) to print more rows and columns.\n",
      "\n",
      "\n",
      "***RECOMMENDATIONS***\n",
      "***2. Item Similarity (Implicit, No Target)***\n",
      "+--------+----------------+---------------------+------+\n",
      "| userID |      name      |        score        | rank |\n",
      "+--------+----------------+---------------------+------+\n",
      "|  1418  |   Katy Perry   | 0.13967699025358474 |  1   |\n",
      "|  1418  | Britney Spears | 0.13293884694576263 |  2   |\n",
      "|  1418  |    Rihanna     |  0.1295152668442045 |  3   |\n",
      "|  1418  |  Miley Cyrus   | 0.11205701955727168 |  4   |\n",
      "+--------+----------------+---------------------+------+\n",
      "[4 rows x 4 columns]\n",
      "\n",
      "\n",
      "\n",
      "USER 1642\n",
      "\n",
      "***TOP PLAYS***\n",
      "+--------+----------------+-----------------+------------+\n",
      "| userID |      name      | userArtistPlays | everPlayed |\n",
      "+--------+----------------+-----------------+------------+\n",
      "|  1642  |  Depeche Mode  |      352698     |     1      |\n",
      "|  1642  | Martin L. Gore |      10947      |     1      |\n",
      "|  1642  |       U2       |       318       |     1      |\n",
      "|  1642  |   Dave Gahan   |       294       |     1      |\n",
      "|  1642  |     Tiësto     |       207       |     1      |\n",
      "|  1642  |    The Cure    |       174       |     1      |\n",
      "|  1642  |   Camouflage   |       142       |     1      |\n",
      "|  1642  |   Talk Talk    |       120       |     1      |\n",
      "|  1642  |      a-ha      |       111       |     1      |\n",
      "|  1642  |   Daft Punk    |       107       |     1      |\n",
      "+--------+----------------+-----------------+------------+\n",
      "[10 rows x 4 columns]\n",
      "\n",
      "\n",
      "\n",
      "***RECOMMENDATIONS***\n",
      "***2. Item Similarity (Implicit, No Target)***\n",
      "+--------+---------------+---------------------+------+\n",
      "| userID |      name     |        score        | rank |\n",
      "+--------+---------------+---------------------+------+\n",
      "|  1642  | Pet Shop Boys | 0.12656785547733307 |  1   |\n",
      "|  1642  |   New Order   | 0.12264665216207504 |  2   |\n",
      "|  1642  |      INXS     | 0.11402035504579544 |  3   |\n",
      "|  1642  |     Recoil    | 0.10816283524036407 |  4   |\n",
      "+--------+---------------+---------------------+------+\n",
      "[4 rows x 4 columns]\n",
      "\n",
      "\n",
      "\n",
      "USER 1094\n",
      "\n",
      "***TOP PLAYS***\n",
      "+--------+-----------------+-----------------+------------+\n",
      "| userID |       name      | userArtistPlays | everPlayed |\n",
      "+--------+-----------------+-----------------+------------+\n",
      "|  1094  |        U2       |      320725     |     1      |\n",
      "|  1094  |      R.E.M.     |      11248      |     1      |\n",
      "|  1094  |     Interpol    |       3816      |     1      |\n",
      "|  1094  |      Keane      |       2534      |     1      |\n",
      "|  1094  |     Editors     |       2478      |     1      |\n",
      "|  1094  |    The Police   |       2085      |     1      |\n",
      "|  1094  | The Cranberries |       1569      |     1      |\n",
      "|  1094  |   The Beatles   |       792       |     1      |\n",
      "|  1094  |    Sigur Rós    |       788       |     1      |\n",
      "|  1094  |   Snow Patrol   |       749       |     1      |\n",
      "+--------+-----------------+-----------------+------------+\n",
      "[26 rows x 4 columns]\n",
      "Note: Only the head of the SFrame is printed.\n",
      "You can use print_rows(num_rows=m, num_columns=n) to print more rows and columns.\n",
      "\n",
      "\n",
      "***RECOMMENDATIONS***\n",
      "***2. Item Similarity (Implicit, No Target)***\n",
      "+--------+-----------------+---------------------+------+\n",
      "| userID |       name      |        score        | rank |\n",
      "+--------+-----------------+---------------------+------+\n",
      "|  1094  |      Oasis      | 0.09414809483748215 |  1   |\n",
      "|  1094  |   The Killers   | 0.09048057290223929 |  2   |\n",
      "|  1094  |   The Strokes   | 0.08509894976249108 |  3   |\n",
      "|  1094  | Franz Ferdinand | 0.08083128012143649 |  4   |\n",
      "+--------+-----------------+---------------------+------+\n",
      "[4 rows x 4 columns]\n",
      "\n",
      "\n",
      "\n",
      "USER 527\n",
      "\n",
      "***TOP PLAYS***\n",
      "+--------+-----------------------+-----------------+------------+\n",
      "| userID |          name         | userArtistPlays | everPlayed |\n",
      "+--------+-----------------------+-----------------+------------+\n",
      "|  527   |       Lady Gaga       |      12679      |     1      |\n",
      "|  527   |         Lolene        |       7024      |     1      |\n",
      "|  527   |      Nicki Minaj      |       2376      |     1      |\n",
      "|  527   |        倖田來未       |       1645      |     1      |\n",
      "|  527   | Marina & the Diamonds |       1288      |     1      |\n",
      "|  527   |     Britney Spears    |       1113      |     1      |\n",
      "|  527   |     Natalia Kills     |       853       |     1      |\n",
      "|  527   |          BoA          |       834       |     1      |\n",
      "|  527   |        Rihanna        |       810       |     1      |\n",
      "|  527   |         Kelis         |       737       |     1      |\n",
      "+--------+-----------------------+-----------------+------------+\n",
      "[42 rows x 4 columns]\n",
      "Note: Only the head of the SFrame is printed.\n",
      "You can use print_rows(num_rows=m, num_columns=n) to print more rows and columns.\n",
      "\n",
      "\n",
      "***RECOMMENDATIONS***\n",
      "***2. Item Similarity (Implicit, No Target)***\n",
      "+--------+-----------------+---------------------+------+\n",
      "| userID |       name      |        score        | rank |\n",
      "+--------+-----------------+---------------------+------+\n",
      "|  527   |     Shakira     |  0.1542567184993199 |  1   |\n",
      "|  527   |  Avril Lavigne  | 0.13715840663228715 |  2   |\n",
      "|  527   | Black Eyed Peas | 0.13136702208291917 |  3   |\n",
      "|  527   |  Ashley Tisdale | 0.12016237775484721 |  4   |\n",
      "+--------+-----------------+---------------------+------+\n",
      "[4 rows x 4 columns]\n",
      "\n",
      "\n",
      "\n",
      "USER 1170\n",
      "\n",
      "***TOP PLAYS***\n"
     ]
    },
    {
     "name": "stdout",
     "output_type": "stream",
     "text": [
      "+--------+--------------------------+-----------------+------------+\n",
      "| userID |           name           | userArtistPlays | everPlayed |\n",
      "+--------+--------------------------+-----------------+------------+\n",
      "|  1170  |         Paramore         |       3899      |     1      |\n",
      "|  1170  |      Arctic Monkeys      |       1270      |     1      |\n",
      "|  1170  |     Yeah Yeah Yeahs      |       870       |     1      |\n",
      "|  1170  |        The Kooks         |       828       |     1      |\n",
      "|  1170  |        Cat Power         |       751       |     1      |\n",
      "|  1170  | The All-American Rejects |       580       |     1      |\n",
      "|  1170  |        Lily Allen        |       570       |     1      |\n",
      "|  1170  |       The Beatles        |       452       |     1      |\n",
      "|  1170  |       Maxïmo Park        |       426       |     1      |\n",
      "|  1170  |    Cansei de Ser Sexy    |       403       |     1      |\n",
      "+--------+--------------------------+-----------------+------------+\n",
      "[36 rows x 4 columns]\n",
      "Note: Only the head of the SFrame is printed.\n",
      "You can use print_rows(num_rows=m, num_columns=n) to print more rows and columns.\n",
      "\n",
      "\n",
      "***RECOMMENDATIONS***\n",
      "***2. Item Similarity (Implicit, No Target)***\n",
      "+--------+----------------+---------------------+------+\n",
      "| userID |      name      |        score        | rank |\n",
      "+--------+----------------+---------------------+------+\n",
      "|  1170  |  The Killers   | 0.08362051248550414 |  1   |\n",
      "|  1170  | Britney Spears | 0.06852383812268575 |  2   |\n",
      "|  1170  |      MGMT      | 0.06781806349754334 |  3   |\n",
      "|  1170  |      Muse      | 0.06757517258326212 |  4   |\n",
      "+--------+----------------+---------------------+------+\n",
      "[4 rows x 4 columns]\n",
      "\n",
      "\n",
      "\n",
      "USER 1798\n",
      "\n",
      "***TOP PLAYS***\n",
      "+--------+-----------------+-----------------+------------+\n",
      "| userID |       name      | userArtistPlays | everPlayed |\n",
      "+--------+-----------------+-----------------+------------+\n",
      "|  1798  |   Depeche Mode  |       1869      |     1      |\n",
      "|  1798  |  Massive Attack |       670       |     1      |\n",
      "|  1798  |     Placebo     |       409       |     1      |\n",
      "|  1798  | Michael Jackson |       354       |     1      |\n",
      "|  1798  |  Pet Shop Boys  |       269       |     1      |\n",
      "|  1798  |    Daft Punk    |       192       |     1      |\n",
      "|  1798  |       Muse      |       159       |     1      |\n",
      "|  1798  |     Kamelot     |       157       |     1      |\n",
      "|  1798  |    Dave Gahan   |       153       |     1      |\n",
      "|  1798  |   The Beatles   |       137       |     1      |\n",
      "+--------+-----------------+-----------------+------------+\n",
      "[40 rows x 4 columns]\n",
      "Note: Only the head of the SFrame is printed.\n",
      "You can use print_rows(num_rows=m, num_columns=n) to print more rows and columns.\n",
      "\n",
      "\n",
      "***RECOMMENDATIONS***\n",
      "***2. Item Similarity (Implicit, No Target)***\n",
      "+--------+--------------+---------------------+------+\n",
      "| userID |     name     |        score        | rank |\n",
      "+--------+--------------+---------------------+------+\n",
      "|  1798  | Depeche Mode | 0.07025288105010986 |  1   |\n",
      "|  1798  |    Oasis     | 0.06496736526489258 |  2   |\n",
      "|  1798  | The Killers  | 0.06210854768753052 |  3   |\n",
      "|  1798  | The Strokes  | 0.05538184881210327 |  4   |\n",
      "+--------+--------------+---------------------+------+\n",
      "[4 rows x 4 columns]\n",
      "\n",
      "\n",
      "\n",
      "USER 214\n",
      "\n",
      "***TOP PLAYS***\n",
      "+--------+---------------------+-----------------+------------+\n",
      "| userID |         name        | userArtistPlays | everPlayed |\n",
      "+--------+---------------------+-----------------+------------+\n",
      "|  214   |   Michael Jackson   |       7462      |     1      |\n",
      "|  214   |       Madonna       |       5755      |     1      |\n",
      "|  214   |    Britney Spears   |       900       |     1      |\n",
      "|  214   | The Pretty Reckless |       750       |     1      |\n",
      "|  214   |        Prince       |       630       |     1      |\n",
      "|  214   |        AC/DC        |       628       |     1      |\n",
      "|  214   |    Janet Jackson    |       566       |     1      |\n",
      "|  214   |     The Runaways    |       469       |     1      |\n",
      "|  214   |  Christina Aguilera |       373       |     1      |\n",
      "|  214   |    Kylie Minogue    |       329       |     1      |\n",
      "+--------+---------------------+-----------------+------------+\n",
      "[39 rows x 4 columns]\n",
      "Note: Only the head of the SFrame is printed.\n",
      "You can use print_rows(num_rows=m, num_columns=n) to print more rows and columns.\n",
      "\n",
      "\n",
      "***RECOMMENDATIONS***\n",
      "***2. Item Similarity (Implicit, No Target)***\n",
      "+--------+----------------+---------------------+------+\n",
      "| userID |      name      |        score        | rank |\n",
      "+--------+----------------+---------------------+------+\n",
      "|  214   | Avril Lavigne  |  0.1660974744038704 |  1   |\n",
      "|  214   | Kelly Clarkson |  0.1332011131139902 |  2   |\n",
      "|  214   | Jennifer Lopez | 0.13072008047348413 |  3   |\n",
      "|  214   | Ashley Tisdale | 0.12428680444375062 |  4   |\n",
      "+--------+----------------+---------------------+------+\n",
      "[4 rows x 4 columns]\n",
      "\n",
      "\n",
      "\n",
      "USER 2084\n",
      "\n",
      "***TOP PLAYS***\n",
      "+--------+-----------------+-----------------+------------+\n",
      "| userID |       name      | userArtistPlays | everPlayed |\n",
      "+--------+-----------------+-----------------+------------+\n",
      "|  2084  |  Arctic Monkeys |      12498      |     1      |\n",
      "|  2084  |   The Strokes   |       2751      |     1      |\n",
      "|  2084  |       Muse      |       2703      |     1      |\n",
      "|  2084  |     Interpol    |       2140      |     1      |\n",
      "|  2084  |      Moptop     |       2015      |     1      |\n",
      "|  2084  | Franz Ferdinand |       1519      |     1      |\n",
      "|  2084  |   Los Hermanos  |       1293      |     1      |\n",
      "|  2084  |   Babyshambles  |       1228      |     1      |\n",
      "|  2084  |  The Libertines |       1116      |     1      |\n",
      "|  2084  |  The Fratellis  |       976       |     1      |\n",
      "+--------+-----------------+-----------------+------------+\n",
      "[31 rows x 4 columns]\n",
      "Note: Only the head of the SFrame is printed.\n",
      "You can use print_rows(num_rows=m, num_columns=n) to print more rows and columns.\n",
      "\n",
      "\n",
      "***RECOMMENDATIONS***\n",
      "***2. Item Similarity (Implicit, No Target)***\n",
      "+--------+---------------------+---------------------+------+\n",
      "| userID |         name        |        score        | rank |\n",
      "+--------+---------------------+---------------------+------+\n",
      "|  2084  |  The White Stripes  |  0.0955064469768155 |  1   |\n",
      "|  2084  |         MGMT        | 0.09502829659369684 |  2   |\n",
      "|  2084  | Death Cab for Cutie | 0.08952489783686976 |  3   |\n",
      "|  2084  |       Nirvana       | 0.08265269956281109 |  4   |\n",
      "+--------+---------------------+---------------------+------+\n",
      "[4 rows x 4 columns]\n",
      "\n",
      "\n",
      "\n"
     ]
    }
   ],
   "source": [
    "# Using the item similarity recommender, lets compare top plays with recommendations\n",
    "# for our user list\n",
    "played_vs_rec(user_list,\n",
    "              sf,\n",
    "              [model_list[1]],\n",
    "              [name_list[1]],\n",
    "              user_id='userID',\n",
    "              item_id='name',\n",
    "              plays='userArtistPlays',\n",
    "              target='everPlayed')"
   ]
  },
  {
   "cell_type": "markdown",
   "metadata": {},
   "source": [
    "### Finding Similar Items\n",
    "\n",
    "Similar to what we did with our K Nearest Neighbors model in sci-kit learn, we will also use the TuriCreate item similarity recommender model (model 2, our top performant) to find artist similarity.  "
   ]
  },
  {
   "cell_type": "code",
   "execution_count": 60,
   "metadata": {},
   "outputs": [
    {
     "data": {
      "text/plain": [
       "['Britney Spears',\n",
       " 'Snoop Dogg',\n",
       " 'Eminem',\n",
       " 'Beatles',\n",
       " 'D Bowie',\n",
       " 'Tiesto',\n",
       " 'Basshunter',\n",
       " 'Akon',\n",
       " 'Ace of Base',\n",
       " 'Garth Brooks']"
      ]
     },
     "execution_count": 60,
     "metadata": {},
     "output_type": "execute_result"
    }
   ],
   "source": [
    "artist_list"
   ]
  },
  {
   "cell_type": "code",
   "execution_count": 61,
   "metadata": {
    "collapsed": true
   },
   "outputs": [],
   "source": [
    "def find_similar(artist_list,model_list,data):\n",
    "    for artist in artist_list:\n",
    "        print(artist.upper())\n",
    "        fuzz = process.extract(artist,data,limit=2) # applying fuzzy matching\n",
    "        print(model_list[1].get_similar_items([fuzz[0][0]],k=5))     \n",
    "    return ''"
   ]
  },
  {
   "cell_type": "code",
   "execution_count": 62,
   "metadata": {},
   "outputs": [
    {
     "name": "stdout",
     "output_type": "stream",
     "text": [
      "BRITNEY SPEARS\n",
      "+----------------+--------------------+--------------------+------+\n",
      "|      name      |      similar       |       score        | rank |\n",
      "+----------------+--------------------+--------------------+------+\n",
      "| Britney Spears |      Rihanna       | 0.594936728477478  |  1   |\n",
      "| Britney Spears | Christina Aguilera | 0.5689980983734131 |  2   |\n",
      "| Britney Spears |     Katy Perry     | 0.5387324094772339 |  3   |\n",
      "| Britney Spears |     Lady Gaga      | 0.538226306438446  |  4   |\n",
      "| Britney Spears |      Beyoncé       | 0.5074626803398132 |  5   |\n",
      "+----------------+--------------------+--------------------+------+\n",
      "[5 rows x 4 columns]\n",
      "\n",
      "SNOOP DOGG\n",
      "+------------+--------------+---------------------+------+\n",
      "|    name    |   similar    |        score        | rank |\n",
      "+------------+--------------+---------------------+------+\n",
      "| Snoop Dogg |     2Pac     |         0.25        |  1   |\n",
      "| Snoop Dogg |     DMX      | 0.22727274894714355 |  2   |\n",
      "| Snoop Dogg |   Ice Cube   | 0.21739131212234497 |  3   |\n",
      "| Snoop Dogg | Busta Rhymes | 0.21739131212234497 |  4   |\n",
      "| Snoop Dogg | Cypress Hill |  0.1785714030265808 |  5   |\n",
      "+------------+--------------+---------------------+------+\n",
      "[5 rows x 4 columns]\n",
      "\n",
      "EMINEM\n",
      "+--------+-----------------+---------------------+------+\n",
      "|  name  |     similar     |        score        | rank |\n",
      "+--------+-----------------+---------------------+------+\n",
      "| Eminem |      Ke$ha      |  0.2053789496421814 |  1   |\n",
      "| Eminem | Black Eyed Peas | 0.17277485132217407 |  2   |\n",
      "| Eminem |    Kanye West   |       0.171875      |  3   |\n",
      "| Eminem |    Katy Perry   |  0.1702970266342163 |  4   |\n",
      "| Eminem |     Rihanna     |     0.169921875     |  5   |\n",
      "+--------+-----------------+---------------------+------+\n",
      "[5 rows x 4 columns]\n",
      "\n",
      "BEATLES\n",
      "+-------------+----------------+---------------------+------+\n",
      "|     name    |    similar     |        score        | rank |\n",
      "+-------------+----------------+---------------------+------+\n",
      "| The Beatles |   Radiohead    | 0.23980426788330078 |  1   |\n",
      "| The Beatles |   Pink Floyd   | 0.22284644842147827 |  2   |\n",
      "| The Beatles | Arctic Monkeys | 0.21647506952285767 |  3   |\n",
      "| The Beatles |      Muse      |  0.2159624695777893 |  4   |\n",
      "| The Beatles |  Led Zeppelin  | 0.20528453588485718 |  5   |\n",
      "+-------------+----------------+---------------------+------+\n",
      "[5 rows x 4 columns]\n",
      "\n",
      "D BOWIE\n",
      "+-------------+--------------+---------------------+------+\n",
      "|     name    |   similar    |        score        | rank |\n",
      "+-------------+--------------+---------------------+------+\n",
      "| David Bowie | The Beatles  | 0.20162934064865112 |  1   |\n",
      "| David Bowie |   The Cure   |  0.2006579041481018 |  2   |\n",
      "| David Bowie | Depeche Mode | 0.18103450536727905 |  3   |\n",
      "| David Bowie | Joy Division |  0.1788617968559265 |  4   |\n",
      "| David Bowie |  The Smiths  | 0.17307692766189575 |  5   |\n",
      "+-------------+--------------+---------------------+------+\n",
      "[5 rows x 4 columns]\n",
      "\n",
      "TIESTO\n",
      "+--------+------------------+---------------------+------+\n",
      "|  name  |     similar      |        score        | rank |\n",
      "+--------+------------------+---------------------+------+\n",
      "| Tiësto | Armin van Buuren |  0.2083333134651184 |  1   |\n",
      "| Tiësto |     deadmau5     |  0.1086956262588501 |  2   |\n",
      "| Tiësto |       ATB        |  0.0961538553237915 |  3   |\n",
      "| Tiësto |    Basshunter    | 0.08510637283325195 |  4   |\n",
      "| Tiësto |   David Guetta   | 0.07547169923782349 |  5   |\n",
      "+--------+------------------+---------------------+------+\n",
      "[5 rows x 4 columns]\n",
      "\n",
      "BASSHUNTER\n",
      "+------------+---------------+---------------------+------+\n",
      "|    name    |    similar    |        score        | rank |\n",
      "+------------+---------------+---------------------+------+\n",
      "| Basshunter |     Tiësto    | 0.08510637283325195 |  1   |\n",
      "| Basshunter |      Akon     | 0.06818181276321411 |  2   |\n",
      "| Basshunter |    Cascada    |        0.0625       |  3   |\n",
      "| Basshunter | L'Arc~en~Ciel |        0.0625       |  4   |\n",
      "| Basshunter |   Sandy Leah  | 0.06060606241226196 |  5   |\n",
      "+------------+---------------+---------------------+------+\n",
      "[5 rows x 4 columns]\n",
      "\n",
      "AKON\n",
      "+------+-------------+---------------------+------+\n",
      "| name |   similar   |        score        | rank |\n",
      "+------+-------------+---------------------+------+\n",
      "| Akon |   Jay Sean  |  0.1627907156944275 |  1   |\n",
      "| Akon | Chris Brown | 0.15662652254104614 |  2   |\n",
      "| Akon |   50 Cent   | 0.12962961196899414 |  3   |\n",
      "| Akon |    Ne-Yo    | 0.12857145071029663 |  4   |\n",
      "| Akon |     T.I.    |  0.1267605423927307 |  5   |\n",
      "+------+-------------+---------------------+------+\n",
      "[5 rows x 4 columns]\n",
      "\n",
      "ACE OF BASE\n",
      "+-------------+---------------+---------------------+------+\n",
      "|     name    |    similar    |        score        | rank |\n",
      "+-------------+---------------+---------------------+------+\n",
      "| Ace of Base |   Elton John  | 0.07692307233810425 |  1   |\n",
      "| Ace of Base |    Westlife   |  0.0731707215309143 |  2   |\n",
      "| Ace of Base |   Alphaville  |  0.0731707215309143 |  3   |\n",
      "| Ace of Base |   Billy Joel  |  0.0731707215309143 |  4   |\n",
      "| Ace of Base | Amy Macdonald | 0.06976741552352905 |  5   |\n",
      "+-------------+---------------+---------------------+------+\n",
      "[5 rows x 4 columns]\n",
      "\n",
      "GARTH BROOKS\n",
      "+--------------+-----------------+---------------------+------+\n",
      "|     name     |     similar     |        score        | rank |\n",
      "+--------------+-----------------+---------------------+------+\n",
      "| Garth Brooks |  George Strait  |         0.5         |  1   |\n",
      "| Garth Brooks |   Keith Urban   |        0.375        |  2   |\n",
      "| Garth Brooks | Miranda Lambert | 0.29411762952804565 |  3   |\n",
      "| Garth Brooks |   Brad Paisley  | 0.21739131212234497 |  4   |\n",
      "| Garth Brooks |  Rascal Flatts  | 0.19999998807907104 |  5   |\n",
      "+--------------+-----------------+---------------------+------+\n",
      "[5 rows x 4 columns]\n",
      "\n"
     ]
    },
    {
     "data": {
      "text/plain": [
       "''"
      ]
     },
     "execution_count": 62,
     "metadata": {},
     "output_type": "execute_result"
    }
   ],
   "source": [
    "find_similar(artist_list,model_list,sf['name'])"
   ]
  },
  {
   "cell_type": "markdown",
   "metadata": {
    "collapsed": true
   },
   "source": [
    "_Please see project README for general information and analysis of this project._"
   ]
  },
  {
   "cell_type": "code",
   "execution_count": null,
   "metadata": {
    "collapsed": true
   },
   "outputs": [],
   "source": []
  }
 ],
 "metadata": {
  "kernelspec": {
   "display_name": "Python 3",
   "language": "python",
   "name": "python3"
  },
  "language_info": {
   "codemirror_mode": {
    "name": "ipython",
    "version": 3
   },
   "file_extension": ".py",
   "mimetype": "text/x-python",
   "name": "python",
   "nbconvert_exporter": "python",
   "pygments_lexer": "ipython3",
   "version": "3.6.6"
  }
 },
 "nbformat": 4,
 "nbformat_minor": 2
}
