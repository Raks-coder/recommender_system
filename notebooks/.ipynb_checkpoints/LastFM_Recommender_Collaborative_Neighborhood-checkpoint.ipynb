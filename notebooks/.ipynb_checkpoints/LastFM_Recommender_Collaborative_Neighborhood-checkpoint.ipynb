{
 "cells": [
  {
   "cell_type": "markdown",
   "metadata": {},
   "source": [
    "# LastFM Recommendation System\n",
    "July 2018\n",
    "\n",
    "Today we are going to walk through building a basic recommender system which, when given a music artist, will recommend similar artists. The dataset, obtained from LastFM in 2011, contains the play counts of 17,632 artists by 1,892 users, is available at [GroupLens](https://grouplens.org/datasets/hetrec-2011/) on behalf of [Lab41](https://github.com/Lab41/hermes/wiki/Datasets).\n",
    "\n",
    "There are two main types of recommender system: **content-based**, and **collaborative**. Content-based recommends based on past browsing history of similar items to provide recommendations, whereas collaborative takes data from similar users to provide recommendations.  \n",
    "\n",
    "Our basic recommender will be a collaborative recommender system, where we essentially build a sparse matrix comparing artist plays (rows) by user (columns). This data will then be passed through a latent mapping algorithm, K-nearest neighbors, to determine cosine similarity amongst the user/artist relationships.  This will help us determine which artists are most similar.  For instance, when a user plays the Beatles, they also have a high probability of playing the Rolling Stones.   "
   ]
  },
  {
   "cell_type": "markdown",
   "metadata": {},
   "source": [
    "### Import files and packages"
   ]
  },
  {
   "cell_type": "code",
   "execution_count": 1,
   "metadata": {},
   "outputs": [
    {
     "data": {
      "text/plain": [
       "'/Users/brianmcmahon/anaconda3/envs/recommender/bin/python'"
      ]
     },
     "execution_count": 1,
     "metadata": {},
     "output_type": "execute_result"
    }
   ],
   "source": [
    "# check kernel environment\n",
    "import sys\n",
    "sys.executable"
   ]
  },
  {
   "cell_type": "code",
   "execution_count": 2,
   "metadata": {
    "collapsed": true
   },
   "outputs": [],
   "source": [
    "# Import our packages needed for this analysis\n",
    "import pandas as pd\n",
    "import numpy as np\n",
    "\n",
    "from scipy.sparse import csr_matrix # Compressed Sparse Row (\"CSR\") matrix\n",
    "from sklearn.neighbors import NearestNeighbors # use K-Nearest Neighbors to find cosine distance amongst our artists\n",
    "from fuzzywuzzy import fuzz # fuzzy string matching so we allow for slight misspellings of artist names"
   ]
  },
  {
   "cell_type": "code",
   "execution_count": 3,
   "metadata": {
    "collapsed": true
   },
   "outputs": [],
   "source": [
    "# sets output to three decimals\n",
    "pd.set_option('display.float_format',lambda x: '%.3f' %x)"
   ]
  },
  {
   "cell_type": "code",
   "execution_count": 32,
   "metadata": {
    "collapsed": true
   },
   "outputs": [],
   "source": [
    "# Assumptions\n",
    "seed = 42"
   ]
  },
  {
   "cell_type": "code",
   "execution_count": 4,
   "metadata": {
    "collapsed": true
   },
   "outputs": [],
   "source": [
    "# Six csv files were provided, but we will only need two for our basic recommender system\n",
    "\n",
    "# using artists and play count per user\n",
    "artists = pd.read_csv('../data/artists.dat', sep='\\t',usecols=['id','name'])\n",
    "plays = pd.read_csv('../data/user_artists.dat', sep='\\t')\n",
    "\n",
    "# additional user data,for later analysis\n",
    "tags = pd.read_csv('../data/tags.dat', sep='\\t',encoding='latin-1')\n",
    "friends = pd.read_csv('../data/user_friends.dat', sep='\\t')\n",
    "utat = pd.read_csv('../data/user_taggedartists-timestamps.dat', sep=\"\\t\")\n",
    "uta = pd.read_csv('../data/user_taggedartists.dat', sep='\\t')"
   ]
  },
  {
   "cell_type": "markdown",
   "metadata": {},
   "source": [
    "### Exploratory Data Analysis (EDA)"
   ]
  },
  {
   "cell_type": "markdown",
   "metadata": {},
   "source": [
    "Analyze by:\n",
    "- Timestamp\n",
    "- Users\n",
    "- Friends\n",
    "- Tags\n",
    "- Artists"
   ]
  },
  {
   "cell_type": "code",
   "execution_count": 5,
   "metadata": {},
   "outputs": [
    {
     "name": "stdout",
     "output_type": "stream",
     "text": [
      "artists\n",
      "(17632, 2)\n",
      "Index(['id', 'name'], dtype='object')\n",
      "id      17632\n",
      "name    17632\n",
      "dtype: int64\n",
      "\n",
      "plays\n",
      "(92834, 3)\n",
      "Index(['userID', 'artistID', 'weight'], dtype='object')\n",
      "userID       1892\n",
      "artistID    17632\n",
      "weight       5436\n",
      "dtype: int64\n",
      "\n",
      "tags\n",
      "(11946, 2)\n",
      "Index(['tagID', 'tagValue'], dtype='object')\n",
      "tagID       11946\n",
      "tagValue    11946\n",
      "dtype: int64\n",
      "\n",
      "friends\n",
      "(25434, 2)\n",
      "Index(['userID', 'friendID'], dtype='object')\n",
      "userID      1892\n",
      "friendID    1892\n",
      "dtype: int64\n",
      "\n",
      "user_taggedartists-timestamps\n",
      "(186479, 4)\n",
      "Index(['userID', 'artistID', 'tagID', 'timestamp'], dtype='object')\n",
      "userID        1892\n",
      "artistID     12523\n",
      "tagID         9749\n",
      "timestamp     3549\n",
      "dtype: int64\n",
      "\n",
      "user_taggedartists\n",
      "(186479, 6)\n",
      "Index(['userID', 'artistID', 'tagID', 'day', 'month', 'year'], dtype='object')\n",
      "userID       1892\n",
      "artistID    12523\n",
      "tagID        9749\n",
      "day             4\n",
      "month          12\n",
      "year           10\n",
      "dtype: int64\n",
      "\n"
     ]
    }
   ],
   "source": [
    "# Explore specs of each file provided.  We will only use artists and plays in the basic system.\n",
    "csv_list = [artists, plays, tags, friends, utat,uta]\n",
    "csv_names = ['artists', 'plays', 'tags', 'friends', 'user_taggedartists-timestamps','user_taggedartists']\n",
    "for i in range(len(csv_list)):\n",
    "    name = csv_names[i]\n",
    "    shape = csv_list[i].shape\n",
    "    columns = csv_list[i].columns\n",
    "    unique = csv_list[i].nunique()\n",
    "    print(\"{}\\n{}\\n{}\\n{}\\n\".format(name, shape, columns,unique))"
   ]
  },
  {
   "cell_type": "markdown",
   "metadata": {},
   "source": [
    "Key features include:\n",
    "- userID\n",
    "- friendID\n",
    "- artistID, Name\n",
    "- weight (plays by user of artist)\n",
    "- tagID, tagValue\n",
    "\n",
    "Temporal:\n",
    "- timestamp\n",
    "- day, month, year"
   ]
  },
  {
   "cell_type": "markdown",
   "metadata": {},
   "source": [
    "### Preparing recsys sparse matrix"
   ]
  },
  {
   "cell_type": "code",
   "execution_count": 6,
   "metadata": {
    "collapsed": true
   },
   "outputs": [],
   "source": [
    "# merge artist and play files\n",
    "artist_plays = pd.merge(artists, plays,how='left',left_on='id',right_on='artistID')"
   ]
  },
  {
   "cell_type": "code",
   "execution_count": 7,
   "metadata": {},
   "outputs": [
    {
     "data": {
      "text/html": [
       "<div>\n",
       "<style scoped>\n",
       "    .dataframe tbody tr th:only-of-type {\n",
       "        vertical-align: middle;\n",
       "    }\n",
       "\n",
       "    .dataframe tbody tr th {\n",
       "        vertical-align: top;\n",
       "    }\n",
       "\n",
       "    .dataframe thead th {\n",
       "        text-align: right;\n",
       "    }\n",
       "</style>\n",
       "<table border=\"1\" class=\"dataframe\">\n",
       "  <thead>\n",
       "    <tr style=\"text-align: right;\">\n",
       "      <th></th>\n",
       "      <th>id</th>\n",
       "      <th>name</th>\n",
       "      <th>userID</th>\n",
       "      <th>artistID</th>\n",
       "      <th>weight</th>\n",
       "    </tr>\n",
       "  </thead>\n",
       "  <tbody>\n",
       "    <tr>\n",
       "      <th>0</th>\n",
       "      <td>1</td>\n",
       "      <td>MALICE MIZER</td>\n",
       "      <td>34</td>\n",
       "      <td>1</td>\n",
       "      <td>212</td>\n",
       "    </tr>\n",
       "    <tr>\n",
       "      <th>1</th>\n",
       "      <td>1</td>\n",
       "      <td>MALICE MIZER</td>\n",
       "      <td>274</td>\n",
       "      <td>1</td>\n",
       "      <td>483</td>\n",
       "    </tr>\n",
       "    <tr>\n",
       "      <th>2</th>\n",
       "      <td>1</td>\n",
       "      <td>MALICE MIZER</td>\n",
       "      <td>785</td>\n",
       "      <td>1</td>\n",
       "      <td>76</td>\n",
       "    </tr>\n",
       "    <tr>\n",
       "      <th>3</th>\n",
       "      <td>2</td>\n",
       "      <td>Diary of Dreams</td>\n",
       "      <td>135</td>\n",
       "      <td>2</td>\n",
       "      <td>1021</td>\n",
       "    </tr>\n",
       "    <tr>\n",
       "      <th>4</th>\n",
       "      <td>2</td>\n",
       "      <td>Diary of Dreams</td>\n",
       "      <td>257</td>\n",
       "      <td>2</td>\n",
       "      <td>152</td>\n",
       "    </tr>\n",
       "  </tbody>\n",
       "</table>\n",
       "</div>"
      ],
      "text/plain": [
       "   id             name  userID  artistID  weight\n",
       "0   1     MALICE MIZER      34         1     212\n",
       "1   1     MALICE MIZER     274         1     483\n",
       "2   1     MALICE MIZER     785         1      76\n",
       "3   2  Diary of Dreams     135         2    1021\n",
       "4   2  Diary of Dreams     257         2     152"
      ]
     },
     "execution_count": 7,
     "metadata": {},
     "output_type": "execute_result"
    }
   ],
   "source": [
    "artist_plays.head()"
   ]
  },
  {
   "cell_type": "code",
   "execution_count": 8,
   "metadata": {
    "collapsed": true
   },
   "outputs": [],
   "source": [
    "# Obtain total plays by artist\n",
    "ap2 = (artist_plays.groupby(['name'])['weight'].sum().reset_index().\n",
    "                rename(columns={'weight':'total_artist_plays','name':'artist_name'})\n",
    "               [['artist_name','total_artist_plays']])"
   ]
  },
  {
   "cell_type": "code",
   "execution_count": 9,
   "metadata": {},
   "outputs": [
    {
     "name": "stdout",
     "output_type": "stream",
     "text": [
      "     artist_name  total_artist_plays\n",
      "2151    Bon Jovi               43252\n"
     ]
    },
    {
     "data": {
      "text/html": [
       "<div>\n",
       "<style scoped>\n",
       "    .dataframe tbody tr th:only-of-type {\n",
       "        vertical-align: middle;\n",
       "    }\n",
       "\n",
       "    .dataframe tbody tr th {\n",
       "        vertical-align: top;\n",
       "    }\n",
       "\n",
       "    .dataframe thead th {\n",
       "        text-align: right;\n",
       "    }\n",
       "</style>\n",
       "<table border=\"1\" class=\"dataframe\">\n",
       "  <thead>\n",
       "    <tr style=\"text-align: right;\">\n",
       "      <th></th>\n",
       "      <th>artist_name</th>\n",
       "      <th>total_artist_plays</th>\n",
       "    </tr>\n",
       "  </thead>\n",
       "  <tbody>\n",
       "    <tr>\n",
       "      <th>0</th>\n",
       "      <td>!!!</td>\n",
       "      <td>2826</td>\n",
       "    </tr>\n",
       "    <tr>\n",
       "      <th>1</th>\n",
       "      <td>!DISTAIN</td>\n",
       "      <td>1257</td>\n",
       "    </tr>\n",
       "    <tr>\n",
       "      <th>2</th>\n",
       "      <td>!deladap</td>\n",
       "      <td>65</td>\n",
       "    </tr>\n",
       "    <tr>\n",
       "      <th>3</th>\n",
       "      <td>#####</td>\n",
       "      <td>3707</td>\n",
       "    </tr>\n",
       "    <tr>\n",
       "      <th>4</th>\n",
       "      <td>#2 Orchestra</td>\n",
       "      <td>144</td>\n",
       "    </tr>\n",
       "  </tbody>\n",
       "</table>\n",
       "</div>"
      ],
      "text/plain": [
       "    artist_name  total_artist_plays\n",
       "0           !!!                2826\n",
       "1      !DISTAIN                1257\n",
       "2      !deladap                  65\n",
       "3         #####                3707\n",
       "4  #2 Orchestra                 144"
      ]
     },
     "execution_count": 9,
     "metadata": {},
     "output_type": "execute_result"
    }
   ],
   "source": [
    "print(ap2[ap2['artist_name']=='Bon Jovi'])\n",
    "ap2.head()"
   ]
  },
  {
   "cell_type": "code",
   "execution_count": 10,
   "metadata": {
    "collapsed": true
   },
   "outputs": [],
   "source": [
    "# merge plays by artist with plays by user\n",
    "user_data_with_artist_plays = artist_plays.merge(ap2, left_on='name',right_on='artist_name',how='left')[['userID','artist_name','weight','total_artist_plays']]"
   ]
  },
  {
   "cell_type": "code",
   "execution_count": 11,
   "metadata": {},
   "outputs": [
    {
     "data": {
      "text/plain": [
       "count     17632.000\n",
       "mean       3923.774\n",
       "std       34099.342\n",
       "min           1.000\n",
       "25%         113.000\n",
       "50%         350.000\n",
       "75%        1234.250\n",
       "max     2393140.000\n",
       "Name: total_artist_plays, dtype: float64"
      ]
     },
     "execution_count": 11,
     "metadata": {},
     "output_type": "execute_result"
    }
   ],
   "source": [
    "# On average, each artist is played 350 times\n",
    "ap2['total_artist_plays'].describe()"
   ]
  },
  {
   "cell_type": "code",
   "execution_count": 12,
   "metadata": {},
   "outputs": [
    {
     "data": {
      "text/html": [
       "<div>\n",
       "<style scoped>\n",
       "    .dataframe tbody tr th:only-of-type {\n",
       "        vertical-align: middle;\n",
       "    }\n",
       "\n",
       "    .dataframe tbody tr th {\n",
       "        vertical-align: top;\n",
       "    }\n",
       "\n",
       "    .dataframe thead th {\n",
       "        text-align: right;\n",
       "    }\n",
       "</style>\n",
       "<table border=\"1\" class=\"dataframe\">\n",
       "  <thead>\n",
       "    <tr style=\"text-align: right;\">\n",
       "      <th></th>\n",
       "      <th>artist_name</th>\n",
       "      <th>total_artist_plays</th>\n",
       "    </tr>\n",
       "  </thead>\n",
       "  <tbody>\n",
       "    <tr>\n",
       "      <th>2336</th>\n",
       "      <td>Britney Spears</td>\n",
       "      <td>2393140</td>\n",
       "    </tr>\n",
       "  </tbody>\n",
       "</table>\n",
       "</div>"
      ],
      "text/plain": [
       "         artist_name  total_artist_plays\n",
       "2336  Britney Spears             2393140"
      ]
     },
     "execution_count": 12,
     "metadata": {},
     "output_type": "execute_result"
    }
   ],
   "source": [
    "# The maximum number of plays belongs to Britney Spears\n",
    "ap2[ap2['total_artist_plays']==max(ap2['total_artist_plays'])]"
   ]
  },
  {
   "cell_type": "code",
   "execution_count": 13,
   "metadata": {},
   "outputs": [
    {
     "data": {
      "text/plain": [
       "0.900    4645.400\n",
       "0.910    5350.680\n",
       "0.920    6193.000\n",
       "0.930    7320.640\n",
       "0.940    8685.280\n",
       "0.950   10693.400\n",
       "0.960   14257.800\n",
       "0.970   18969.740\n",
       "0.980   30137.940\n",
       "0.990   60096.010\n",
       "Name: total_artist_plays, dtype: float64"
      ]
     },
     "execution_count": 13,
     "metadata": {},
     "output_type": "execute_result"
    }
   ],
   "source": [
    "# artists at the 95th percentile are played ~10,000 times\n",
    "ap2['total_artist_plays'].quantile(np.arange(.9,1.,.01))"
   ]
  },
  {
   "cell_type": "code",
   "execution_count": 14,
   "metadata": {
    "collapsed": true
   },
   "outputs": [],
   "source": [
    "# We set our popularity threshold to capture the most popular artists; this is to reduce noise and improve accuracy\n",
    "popularity_threshold = 10000\n",
    "udpa = user_data_with_artist_plays[user_data_with_artist_plays['total_artist_plays']>popularity_threshold]\n",
    "udpa2 = udpa.sort_values(['userID','weight'],ascending=False)"
   ]
  },
  {
   "cell_type": "code",
   "execution_count": 15,
   "metadata": {},
   "outputs": [
    {
     "data": {
      "text/html": [
       "<div>\n",
       "<style scoped>\n",
       "    .dataframe tbody tr th:only-of-type {\n",
       "        vertical-align: middle;\n",
       "    }\n",
       "\n",
       "    .dataframe tbody tr th {\n",
       "        vertical-align: top;\n",
       "    }\n",
       "\n",
       "    .dataframe thead th {\n",
       "        text-align: right;\n",
       "    }\n",
       "</style>\n",
       "<table border=\"1\" class=\"dataframe\">\n",
       "  <thead>\n",
       "    <tr style=\"text-align: right;\">\n",
       "      <th></th>\n",
       "      <th>userID</th>\n",
       "      <th>artist_name</th>\n",
       "      <th>weight</th>\n",
       "      <th>total_artist_plays</th>\n",
       "    </tr>\n",
       "  </thead>\n",
       "  <tbody>\n",
       "    <tr>\n",
       "      <th>44041</th>\n",
       "      <td>2100</td>\n",
       "      <td>Yann Tiersen</td>\n",
       "      <td>1333</td>\n",
       "      <td>43972</td>\n",
       "    </tr>\n",
       "    <tr>\n",
       "      <th>36701</th>\n",
       "      <td>2100</td>\n",
       "      <td>Eluveitie</td>\n",
       "      <td>762</td>\n",
       "      <td>11244</td>\n",
       "    </tr>\n",
       "    <tr>\n",
       "      <th>36813</th>\n",
       "      <td>2100</td>\n",
       "      <td>Slayer</td>\n",
       "      <td>553</td>\n",
       "      <td>62107</td>\n",
       "    </tr>\n",
       "    <tr>\n",
       "      <th>55016</th>\n",
       "      <td>2099</td>\n",
       "      <td>Flying Lotus</td>\n",
       "      <td>410</td>\n",
       "      <td>13178</td>\n",
       "    </tr>\n",
       "    <tr>\n",
       "      <th>60187</th>\n",
       "      <td>2099</td>\n",
       "      <td>Bonobo</td>\n",
       "      <td>397</td>\n",
       "      <td>14601</td>\n",
       "    </tr>\n",
       "  </tbody>\n",
       "</table>\n",
       "</div>"
      ],
      "text/plain": [
       "       userID   artist_name  weight  total_artist_plays\n",
       "44041    2100  Yann Tiersen    1333               43972\n",
       "36701    2100     Eluveitie     762               11244\n",
       "36813    2100        Slayer     553               62107\n",
       "55016    2099  Flying Lotus     410               13178\n",
       "60187    2099        Bonobo     397               14601"
      ]
     },
     "execution_count": 15,
     "metadata": {},
     "output_type": "execute_result"
    }
   ],
   "source": [
    "udpa2.head()"
   ]
  },
  {
   "cell_type": "code",
   "execution_count": 16,
   "metadata": {},
   "outputs": [
    {
     "data": {
      "text/plain": [
       "(53861, 4)"
      ]
     },
     "execution_count": 16,
     "metadata": {},
     "output_type": "execute_result"
    }
   ],
   "source": [
    "udpa2.shape"
   ]
  },
  {
   "cell_type": "code",
   "execution_count": 17,
   "metadata": {},
   "outputs": [
    {
     "data": {
      "text/plain": [
       "userID                1871\n",
       "artist_name            943\n",
       "weight                5083\n",
       "total_artist_plays     936\n",
       "dtype: int64"
      ]
     },
     "execution_count": 17,
     "metadata": {},
     "output_type": "execute_result"
    }
   ],
   "source": [
    "udpa2.nunique()"
   ]
  },
  {
   "cell_type": "code",
   "execution_count": 18,
   "metadata": {
    "collapsed": true
   },
   "outputs": [],
   "source": [
    "# confirm no duplicate rows\n",
    "assert udpa[udpa.duplicated(['userID','artist_name'])].empty "
   ]
  },
  {
   "cell_type": "code",
   "execution_count": 19,
   "metadata": {},
   "outputs": [
    {
     "data": {
      "text/plain": [
       "(943, 1871)"
      ]
     },
     "execution_count": 19,
     "metadata": {},
     "output_type": "execute_result"
    }
   ],
   "source": [
    "# fit data into a sparse matrix of artist name (rows) vs user (columns) in terms of number of plays\n",
    "wide_artist_data = udpa2.pivot(index='artist_name',columns='userID',values='weight').fillna(0)\n",
    "wide_artist_data_sparse = csr_matrix(wide_artist_data.values)\n",
    "wide_artist_data_sparse.shape"
   ]
  },
  {
   "cell_type": "code",
   "execution_count": 20,
   "metadata": {},
   "outputs": [
    {
     "data": {
      "text/plain": [
       "NearestNeighbors(algorithm='auto', leaf_size=30, metric='cosine',\n",
       "         metric_params=None, n_jobs=1, n_neighbors=5, p=2, radius=1.0)"
      ]
     },
     "execution_count": 20,
     "metadata": {},
     "output_type": "execute_result"
    }
   ],
   "source": [
    "# We use K Nearest Neighbors to determine cosine distance amongst artists\n",
    "model_knn = NearestNeighbors(metric='cosine',algorithm='auto')\n",
    "model_knn.fit(wide_artist_data_sparse)"
   ]
  },
  {
   "cell_type": "code",
   "execution_count": 21,
   "metadata": {},
   "outputs": [
    {
     "name": "stdout",
     "output_type": "stream",
     "text": [
      "Recommendations for Kate Nash:\n",
      "\n",
      "1: The Streets, with distance of 0.43738302108340554\n",
      "2: Peaches, with distance of 0.438059086227813\n",
      "3: Tyler Adam, with distance of 0.4389458549510734\n",
      "4: Ray J, with distance of 0.43897949915212475\n",
      "5: Toni Braxton, with distance of 0.4491088845508676\n"
     ]
    }
   ],
   "source": [
    "query_index = np.random.choice(wide_artist_data.shape[0])\n",
    "distances, indices = model_knn.kneighbors(wide_artist_data.iloc[query_index,:].values.reshape(1,-1),n_neighbors=6)\n",
    "\n",
    "for i in range(0, len(distances.flatten())):\n",
    "    if i == 0:\n",
    "        print('Recommendations for {0}:\\n'.format(wide_artist_data.index[query_index]))\n",
    "    else:\n",
    "        print('{0}: {1}, with distance of {2}'.format(i, wide_artist_data.index[indices.flatten()[i]],distances.flatten()[i]))"
   ]
  },
  {
   "cell_type": "code",
   "execution_count": 22,
   "metadata": {
    "collapsed": true
   },
   "outputs": [],
   "source": [
    "# we convert number of plays of artist by user to a binary classification, played (1) or not played (0)\n",
    "wide_artist_data_binary = wide_artist_data.apply(np.sign)\n",
    "wide_artist_data_binary_sparse = csr_matrix(wide_artist_data_binary.values)"
   ]
  },
  {
   "cell_type": "code",
   "execution_count": 23,
   "metadata": {},
   "outputs": [
    {
     "data": {
      "text/plain": [
       "NearestNeighbors(algorithm='auto', leaf_size=30, metric='cosine',\n",
       "         metric_params=None, n_jobs=1, n_neighbors=5, p=2, radius=1.0)"
      ]
     },
     "execution_count": 23,
     "metadata": {},
     "output_type": "execute_result"
    }
   ],
   "source": [
    "model_nn_binary = NearestNeighbors(metric='cosine',algorithm='auto')\n",
    "model_nn_binary.fit(wide_artist_data_binary_sparse)"
   ]
  },
  {
   "cell_type": "code",
   "execution_count": 24,
   "metadata": {},
   "outputs": [
    {
     "name": "stdout",
     "output_type": "stream",
     "text": [
      "Recommendations for Kate Nash:\n",
      "\n",
      "1: Lily Allen, with distance of 0.7489733016347044\n",
      "2: Regina Spektor, with distance of 0.7552174878369177\n",
      "3: Florence + the Machine, with distance of 0.760602170530481\n",
      "4: The Kooks, with distance of 0.803883864861816\n",
      "5: Lady Gaga, with distance of 0.8055075008072912\n"
     ]
    }
   ],
   "source": [
    "distances, indices = model_nn_binary.kneighbors(wide_artist_data_binary.iloc[query_index,:].values.reshape(1,-1),n_neighbors=6)\n",
    "\n",
    "for i in range(0, len(distances.flatten())):\n",
    "    if i == 0:\n",
    "        print('Recommendations for {0}:\\n'.format(wide_artist_data.index[query_index]))\n",
    "    else:\n",
    "        print('{0}: {1}, with distance of {2}'.format(i, wide_artist_data.index[indices.flatten()[i]],distances.flatten()[i]))"
   ]
  },
  {
   "cell_type": "code",
   "execution_count": null,
   "metadata": {
    "collapsed": true
   },
   "outputs": [],
   "source": []
  },
  {
   "cell_type": "code",
   "execution_count": 25,
   "metadata": {
    "collapsed": true
   },
   "outputs": [],
   "source": [
    "def print_artist_recommendation(query_artist, artist_plays_matrix,knn_model,k):\n",
    "    query_index = None\n",
    "    ratio_tuples = []\n",
    "    \n",
    "    for i in artist_plays_matrix.index:\n",
    "        ratio = fuzz.ratio(i.lower(),query_artist.lower())\n",
    "        if ratio >= 75:\n",
    "            current_query_index = artist_plays_matrix.index.tolist().index(i)\n",
    "            ratio_tuples.append((i,ratio,current_query_index))\n",
    "            \n",
    "    print('Possible matches: {0}\\n'.format([(x[0],x[1]) for x in ratio_tuples]))\n",
    "    \n",
    "    try:\n",
    "        query_index = max(ratio_tuples,key=lambda x: x[1])[2]\n",
    "    except:\n",
    "        print('Your artist did not match any artists in the data. Try again')\n",
    "        return None\n",
    "    \n",
    "    distances, indices = knn_model.kneighbors(artist_plays_matrix.iloc[query_index,:].values.reshape(1,-1),n_neighbors=k+1)\n",
    "    \n",
    "    for i in range(0,len(distances.flatten())):\n",
    "        if i ==0:\n",
    "            print('Recommendations for {0}:\\n'.format(artist_plays_matrix.index[query_index]))\n",
    "        else:\n",
    "            print('{0}: {1}, with distance of {2}:'.format(i,artist_plays_matrix.index[indices.flatten()[i]],distances.flatten()[i]))\n",
    "            \n",
    "    return None"
   ]
  },
  {
   "cell_type": "code",
   "execution_count": 26,
   "metadata": {},
   "outputs": [
    {
     "name": "stdout",
     "output_type": "stream",
     "text": [
      "Possible matches: [('Red Hot Chili Peppers', 100)]\n",
      "\n",
      "Recommendations for Red Hot Chili Peppers:\n",
      "\n",
      "1: Nirvana, with distance of 0.6531898876933021:\n",
      "2: Oasis, with distance of 0.6804322417333812:\n",
      "3: The Beatles, with distance of 0.6875337856101311:\n",
      "4: Foo Fighters, with distance of 0.6907899504265811:\n",
      "5: Muse, with distance of 0.7147586765340397:\n",
      "6: U2, with distance of 0.7187370650649147:\n",
      "7: Radiohead, with distance of 0.7190006405179143:\n",
      "8: Green Day, with distance of 0.7247622108315265:\n",
      "9: Aerosmith, with distance of 0.7256105408555654:\n",
      "10: Pearl Jam, with distance of 0.7287778314914192:\n"
     ]
    }
   ],
   "source": [
    "print_artist_recommendation('red hot chili peppers',wide_artist_data_binary,model_nn_binary,k=10)"
   ]
  },
  {
   "cell_type": "code",
   "execution_count": 27,
   "metadata": {},
   "outputs": [
    {
     "name": "stdout",
     "output_type": "stream",
     "text": [
      "Possible matches: [('Akon', 75), ('Korn', 100)]\n",
      "\n",
      "Recommendations for Korn:\n",
      "\n",
      "1: Limp Bizkit, with distance of 0.6461634268298138:\n",
      "2: System of a Down, with distance of 0.6510341508052175:\n",
      "3: Slipknot, with distance of 0.6624614219579241:\n",
      "4: Deftones, with distance of 0.7007471991677101:\n",
      "5: Godsmack, with distance of 0.7020602142344381:\n",
      "6: Metallica, with distance of 0.7408662553447589:\n",
      "7: Stone Sour, with distance of 0.7441800621927404:\n",
      "8: Pantera, with distance of 0.7474092572295388:\n",
      "9: Rammstein, with distance of 0.7498512347383965:\n",
      "10: Marilyn Manson, with distance of 0.7522026861083237:\n"
     ]
    }
   ],
   "source": [
    "print_artist_recommendation('korn',wide_artist_data_binary,model_nn_binary,k=10)"
   ]
  },
  {
   "cell_type": "code",
   "execution_count": 28,
   "metadata": {},
   "outputs": [
    {
     "name": "stdout",
     "output_type": "stream",
     "text": [
      "Possible matches: [('The Beatles', 100)]\n",
      "\n",
      "Recommendations for The Beatles:\n",
      "\n",
      "1: Radiohead, with distance of 0.5556344164535882:\n",
      "2: Pink Floyd, with distance of 0.5567036793441906:\n",
      "3: Led Zeppelin, with distance of 0.5924683351896096:\n",
      "4: Arctic Monkeys, with distance of 0.594228466209854:\n",
      "5: The Strokes, with distance of 0.613038007895694:\n",
      "6: The Rolling Stones, with distance of 0.6171620636663815:\n",
      "7: Oasis, with distance of 0.6220355269907726:\n",
      "8: Muse, with distance of 0.6302872736840136:\n",
      "9: David Bowie, with distance of 0.6334567471239492:\n",
      "10: Bob Dylan, with distance of 0.6486358155368461:\n"
     ]
    }
   ],
   "source": [
    "print_artist_recommendation('The Beatles',wide_artist_data_binary,model_nn_binary,k=10)"
   ]
  },
  {
   "cell_type": "code",
   "execution_count": 29,
   "metadata": {},
   "outputs": [
    {
     "name": "stdout",
     "output_type": "stream",
     "text": [
      "Possible matches: [('Bon Jovi', 100)]\n",
      "\n",
      "Recommendations for Bon Jovi:\n",
      "\n",
      "1: Guns N' Roses, with distance of 0.6388424407426927:\n",
      "2: Aerosmith, with distance of 0.64543051657445:\n",
      "3: Mötley Crüe, with distance of 0.6485989094725191:\n",
      "4: Skid Row, with distance of 0.6637036454327252:\n",
      "5: Poison, with distance of 0.6913933000758161:\n",
      "6: Scorpions, with distance of 0.6996242954069447:\n",
      "7: Alice Cooper, with distance of 0.7249904508915366:\n",
      "8: Queen, with distance of 0.7352129544573991:\n",
      "9: Def Leppard, with distance of 0.7412254152466171:\n",
      "10: AC/DC, with distance of 0.7478924811549623:\n"
     ]
    }
   ],
   "source": [
    "print_artist_recommendation('bon jovi',wide_artist_data_binary,model_nn_binary,k=10)"
   ]
  },
  {
   "cell_type": "code",
   "execution_count": 30,
   "metadata": {},
   "outputs": [
    {
     "name": "stdout",
     "output_type": "stream",
     "text": [
      "Possible matches: []\n",
      "\n",
      "Your artist did not match any artists in the data. Try again\n"
     ]
    }
   ],
   "source": [
    "print_artist_recommendation('3 Dog Night',wide_artist_data_binary,model_nn_binary,k=10)"
   ]
  },
  {
   "cell_type": "markdown",
   "metadata": {},
   "source": [
    "### SVD Matrix Factorization\n",
    "Model-based collaborative filtering systems\n",
    "\n",
    "Source: LinkedIn Learning: [Building a Recommendation System](https://www.linkedin.com/learning/building-a-recommendation-system-with-python-machine-learning-ai/next-steps) Chapter 02-02"
   ]
  },
  {
   "cell_type": "code",
   "execution_count": 31,
   "metadata": {
    "collapsed": true
   },
   "outputs": [],
   "source": [
    "from sklearn.decomposition import TruncatedSVD"
   ]
  },
  {
   "cell_type": "code",
   "execution_count": 33,
   "metadata": {
    "collapsed": true
   },
   "outputs": [],
   "source": [
    "SVD = TruncatedSVD(n_components=12,random_state=seed)"
   ]
  },
  {
   "cell_type": "code",
   "execution_count": 35,
   "metadata": {
    "collapsed": true
   },
   "outputs": [],
   "source": [
    "# wide_artist_data"
   ]
  },
  {
   "cell_type": "code",
   "execution_count": 37,
   "metadata": {},
   "outputs": [
    {
     "data": {
      "text/plain": [
       "(943, 12)"
      ]
     },
     "execution_count": 37,
     "metadata": {},
     "output_type": "execute_result"
    }
   ],
   "source": [
    "SVD_matrix = SVD.fit_transform(wide_artist_data)\n",
    "SVD_matrix.shape"
   ]
  },
  {
   "cell_type": "code",
   "execution_count": 38,
   "metadata": {},
   "outputs": [
    {
     "data": {
      "text/plain": [
       "(943, 943)"
      ]
     },
     "execution_count": 38,
     "metadata": {},
     "output_type": "execute_result"
    }
   ],
   "source": [
    "# Correlation Matrix\n",
    "corr_mat = np.corrcoef(SVD_matrix)\n",
    "corr_mat.shape"
   ]
  },
  {
   "cell_type": "code",
   "execution_count": 42,
   "metadata": {
    "collapsed": true
   },
   "outputs": [],
   "source": [
    "artist_names = wide_artist_data.T.columns\n",
    "artist_list = list(artist_names)"
   ]
  },
  {
   "cell_type": "code",
   "execution_count": 44,
   "metadata": {},
   "outputs": [
    {
     "data": {
      "text/plain": [
       "2"
      ]
     },
     "execution_count": 44,
     "metadata": {},
     "output_type": "execute_result"
    }
   ],
   "source": [
    "Tupac = artist_list.index('2Pac')\n",
    "Tupac"
   ]
  },
  {
   "cell_type": "code",
   "execution_count": 45,
   "metadata": {},
   "outputs": [
    {
     "data": {
      "text/plain": [
       "(943,)"
      ]
     },
     "execution_count": 45,
     "metadata": {},
     "output_type": "execute_result"
    }
   ],
   "source": [
    "corr_Tupac = corr_mat[2]\n",
    "corr_Tupac.shape"
   ]
  },
  {
   "cell_type": "code",
   "execution_count": 46,
   "metadata": {},
   "outputs": [
    {
     "data": {
      "text/plain": [
       "['G-Unit',\n",
       " 'Kid Cudi',\n",
       " 'Lloyd Banks',\n",
       " 'Mobb Deep',\n",
       " 'Nas',\n",
       " 'Norah Jones',\n",
       " 'Snoop Dogg']"
      ]
     },
     "execution_count": 46,
     "metadata": {},
     "output_type": "execute_result"
    }
   ],
   "source": [
    "list(artist_names[(corr_Tupac<1.0) & (corr_Tupac > 0.9)])"
   ]
  },
  {
   "cell_type": "code",
   "execution_count": 47,
   "metadata": {},
   "outputs": [
    {
     "data": {
      "text/plain": [
       "[]"
      ]
     },
     "execution_count": 47,
     "metadata": {},
     "output_type": "execute_result"
    }
   ],
   "source": [
    "list(artist_names[(corr_Tupac<1.0) & (corr_Tupac > 0.95)])"
   ]
  },
  {
   "cell_type": "code",
   "execution_count": 49,
   "metadata": {},
   "outputs": [
    {
     "data": {
      "text/plain": [
       "['50 Cent',\n",
       " 'Akon',\n",
       " 'Busta Rhymes',\n",
       " 'Chris Brown',\n",
       " 'DMX',\n",
       " 'Duffy',\n",
       " 'Flo Rida',\n",
       " 'Ice Cube',\n",
       " 'Inna',\n",
       " 'Kanye West',\n",
       " 'Kontrafakt',\n",
       " \"Lil' Wayne\",\n",
       " 'Nas',\n",
       " 'Nelly',\n",
       " 'No Doubt',\n",
       " 'Norah Jones',\n",
       " 'Rytmus',\n",
       " 'T.I.',\n",
       " 'Usher']"
      ]
     },
     "execution_count": 49,
     "metadata": {},
     "output_type": "execute_result"
    }
   ],
   "source": [
    "# correlated with snoop dogg\n",
    "corr = corr_mat[artist_list.index('Snoop Dogg')]\n",
    "list(artist_names[(corr<1.0) & (corr > 0.95)])"
   ]
  },
  {
   "cell_type": "code",
   "execution_count": 50,
   "metadata": {},
   "outputs": [
    {
     "data": {
      "text/plain": [
       "['*NSYNC',\n",
       " 'Amerie',\n",
       " 'Ashley Tisdale',\n",
       " 'Brandy',\n",
       " 'Cansei de Ser Sexy',\n",
       " 'Cher',\n",
       " 'Corinne Bailey Rae',\n",
       " 'Damien Rice',\n",
       " 'Danity Kane',\n",
       " 'Enya',\n",
       " 'Fergie',\n",
       " 'Girlicious',\n",
       " 'Heidi Montag',\n",
       " 'Janet Jackson',\n",
       " 'Jennifer Lopez',\n",
       " 'Jesse McCartney',\n",
       " 'Kat DeLuna',\n",
       " 'Kelis',\n",
       " 'Kelly Clarkson',\n",
       " 'Kylie Minogue',\n",
       " 'Leona Lewis',\n",
       " 'Madonna',\n",
       " 'Melanie C',\n",
       " 'Natalia Kills',\n",
       " 'Natasha Bedingfield',\n",
       " 'Nicole Scherzinger',\n",
       " 'Pixie Lott',\n",
       " 'Robyn',\n",
       " 'Sarah McLachlan',\n",
       " 'Spice Girls',\n",
       " 'Sugababes',\n",
       " 'TLC',\n",
       " 'The Pussycat Dolls',\n",
       " 'The Saturdays',\n",
       " 'Vanessa Hudgens',\n",
       " 'Whitney Houston',\n",
       " '倖田來未',\n",
       " '安室奈美恵',\n",
       " '소녀시대']"
      ]
     },
     "execution_count": 50,
     "metadata": {},
     "output_type": "execute_result"
    }
   ],
   "source": [
    "# correlated with NSYNC\n",
    "corr = corr_mat[artist_list.index('*NSYNC')]\n",
    "list(artist_names[(corr<1.0) & (corr > 0.95)])"
   ]
  },
  {
   "cell_type": "code",
   "execution_count": 51,
   "metadata": {},
   "outputs": [
    {
     "data": {
      "text/plain": [
       "['OneRepublic']"
      ]
     },
     "execution_count": 51,
     "metadata": {},
     "output_type": "execute_result"
    }
   ],
   "source": [
    "# correlated with 3 Doors Down\n",
    "corr = corr_mat[artist_list.index('3 Doors Down')]\n",
    "list(artist_names[(corr<1.0) & (corr > 0.95)])"
   ]
  },
  {
   "cell_type": "code",
   "execution_count": 43,
   "metadata": {},
   "outputs": [
    {
     "data": {
      "text/plain": [
       "['*NSYNC',\n",
       " '2NE1',\n",
       " '2Pac',\n",
       " '3 Doors Down',\n",
       " '30 Seconds to Mars',\n",
       " '36 Crazyfists',\n",
       " '3OH!3',\n",
       " '4minute',\n",
       " '50 Cent',\n",
       " '65daysofstatic',\n",
       " '7раса',\n",
       " '80kidz',\n",
       " 'A Day to Remember',\n",
       " 'A Fine Frenzy',\n",
       " 'A Perfect Circle',\n",
       " 'A Skylit Drive',\n",
       " 'ABBA',\n",
       " 'AC/DC',\n",
       " 'AFI',\n",
       " 'ATB',\n",
       " 'Aaliyah',\n",
       " 'Ace of Base',\n",
       " 'Adam Lambert',\n",
       " 'Adele',\n",
       " 'Adriana Calcanhotto',\n",
       " 'Aerosmith',\n",
       " 'Air',\n",
       " 'Akira Yamaoka',\n",
       " 'Akon',\n",
       " 'Alanis Morissette',\n",
       " 'Alesana',\n",
       " 'Alexandra Burke',\n",
       " 'Alexandre Desplat',\n",
       " 'Alexisonfire',\n",
       " 'Alice Cooper',\n",
       " 'Alice in Chains',\n",
       " 'Alicia Keys',\n",
       " 'Alizée',\n",
       " 'Alkaline Trio',\n",
       " 'All That Remains',\n",
       " 'All Time Low',\n",
       " 'Alphaville',\n",
       " 'Alter Bridge',\n",
       " 'Aly & AJ',\n",
       " 'Amerie',\n",
       " 'Amon Amarth',\n",
       " 'Amy Macdonald',\n",
       " 'Amy Winehouse',\n",
       " 'Ana Carolina',\n",
       " 'Anahí',\n",
       " 'Anal Cunt',\n",
       " 'Anastacia',\n",
       " 'Anathema',\n",
       " 'Anberlin',\n",
       " 'And One',\n",
       " 'Andrew Bird',\n",
       " 'Angels & Airwaves',\n",
       " 'Angra',\n",
       " 'Animal Collective',\n",
       " 'Anthrax',\n",
       " 'Anti-Flag',\n",
       " 'Antony and the Johnsons',\n",
       " 'Aphex Twin',\n",
       " 'Apocalyptica',\n",
       " 'Apoptygma Berzerk',\n",
       " 'Apparat',\n",
       " 'Arcade Fire',\n",
       " 'Arcadia',\n",
       " 'Arch Enemy',\n",
       " 'Arctic Monkeys',\n",
       " 'Armin van Buuren',\n",
       " 'As I Lay Dying',\n",
       " 'Ashanti',\n",
       " 'Ashlee Simpson',\n",
       " 'Ashley Tisdale',\n",
       " 'Asking Alexandria',\n",
       " 'Atlas Sound',\n",
       " 'Atreyu',\n",
       " 'Attack Attack!',\n",
       " 'Audioslave',\n",
       " 'August Burns Red',\n",
       " 'Autechre',\n",
       " 'Automatic Loveletter',\n",
       " 'Avantasia',\n",
       " 'Avenged Sevenfold',\n",
       " 'Avril Lavigne',\n",
       " 'Ayreon',\n",
       " 'Ayria',\n",
       " 'B.o.B',\n",
       " 'BIG BANG',\n",
       " 'Babyshambles',\n",
       " 'Backstreet Boys',\n",
       " 'Bad Religion',\n",
       " 'Band of Horses',\n",
       " 'Basshunter',\n",
       " 'Bat for Lashes',\n",
       " 'Bauhaus',\n",
       " 'Beach House',\n",
       " 'Beastie Boys',\n",
       " 'Beatsteaks',\n",
       " 'Beck',\n",
       " 'Beirut',\n",
       " 'Belinda',\n",
       " 'Belle and Sebastian',\n",
       " 'Ben Folds',\n",
       " 'Benoît Pioulard',\n",
       " 'Bernard Butler',\n",
       " 'Beyoncé',\n",
       " 'Biffy Clyro',\n",
       " 'Billy Bragg',\n",
       " 'Billy Joel',\n",
       " 'Billy Talent',\n",
       " 'Björk',\n",
       " 'Black Eyed Peas',\n",
       " 'Black Label Society',\n",
       " 'Black Rebel Motorcycle Club',\n",
       " 'Black Sabbath',\n",
       " 'Black Veil Brides',\n",
       " 'Blackfield',\n",
       " 'Blake Lewis',\n",
       " 'Blind Guardian',\n",
       " 'Bloc Party',\n",
       " 'Blonde Redhead',\n",
       " 'Blondie',\n",
       " 'Bloodbath',\n",
       " 'Blue',\n",
       " 'Blur',\n",
       " 'Blutengel',\n",
       " 'BoA',\n",
       " 'Boards of Canada',\n",
       " 'Bob Dylan',\n",
       " 'Bob Marley',\n",
       " 'Bob Marley & The Wailers',\n",
       " 'Bon Jovi',\n",
       " 'Bonobo',\n",
       " 'Bowling for Soup',\n",
       " 'Boys Like Girls',\n",
       " 'Brad Paisley',\n",
       " 'Brand New',\n",
       " 'Brandy',\n",
       " 'Breaking Benjamin',\n",
       " 'Breathe Carolina',\n",
       " 'Brian Eno',\n",
       " 'Bright Eyes',\n",
       " 'Bring Me The Horizon',\n",
       " 'Britney Spears',\n",
       " 'Britt Nicole',\n",
       " 'BrokeNCYDE',\n",
       " 'Broken Social Scene',\n",
       " 'Brooke Fraser',\n",
       " 'Bruce Dickinson',\n",
       " 'Bruce Springsteen',\n",
       " 'Bruno Mars',\n",
       " 'Buckethead',\n",
       " 'Buddy Holly',\n",
       " 'Bullet for My Valentine',\n",
       " 'Burial',\n",
       " 'Bush',\n",
       " 'Bushido',\n",
       " 'Busta Rhymes',\n",
       " 'CAKE',\n",
       " 'CPM 22',\n",
       " 'Caliban',\n",
       " 'Calvin Harris',\n",
       " 'Camel',\n",
       " 'Camouflage',\n",
       " 'Cansei de Ser Sexy',\n",
       " 'Capital Inicial',\n",
       " 'Capsule',\n",
       " 'Carrie Underwood',\n",
       " 'Cascada',\n",
       " 'Cassie',\n",
       " 'Cat Power',\n",
       " 'Celldweller',\n",
       " 'Charlie Brown Jr.',\n",
       " 'Cher',\n",
       " 'Cheryl Cole',\n",
       " 'Chevelle',\n",
       " 'Chico Buarque',\n",
       " 'Children of Bodom',\n",
       " 'Chiodos',\n",
       " 'Chris Brown',\n",
       " 'Christina Aguilera',\n",
       " 'Chuck Berry',\n",
       " 'Ciara',\n",
       " 'Circa Survive',\n",
       " 'City and Colour',\n",
       " 'Client',\n",
       " 'Clint Mansell',\n",
       " 'Cobra Starship',\n",
       " 'CocoRosie',\n",
       " 'Cocteau Twins',\n",
       " 'Coheed and Cambria',\n",
       " 'Coil',\n",
       " 'Colbie Caillat',\n",
       " 'Coldplay',\n",
       " 'Confide',\n",
       " 'Converge',\n",
       " 'Corinne Bailey Rae',\n",
       " 'Cradle of Filth',\n",
       " 'Creed',\n",
       " 'Creedence Clearwater Revival',\n",
       " 'Crystal Castles',\n",
       " 'Cut Copy',\n",
       " 'Cute Is What We Aim For',\n",
       " 'Cyndi Lauper',\n",
       " 'Cypress Hill',\n",
       " 'Céline Dion',\n",
       " 'D12',\n",
       " 'DICKY DIXON LAKE RECORDS',\n",
       " 'DIR EN GREY',\n",
       " 'DJ Shadow',\n",
       " 'DMX',\n",
       " 'Daft Punk',\n",
       " 'Damien Rice',\n",
       " 'Dance Gavin Dance',\n",
       " 'Dangerous Muse',\n",
       " 'Danity Kane',\n",
       " 'Dannii Minogue',\n",
       " 'Danny Elfman',\n",
       " 'Darin',\n",
       " 'Dark Tranquillity',\n",
       " 'Darren Criss',\n",
       " 'Darren Hayes',\n",
       " 'Dashboard Confessional',\n",
       " 'Daughtry',\n",
       " 'Dave Gahan',\n",
       " 'Dave Matthews Band',\n",
       " 'David Archuleta',\n",
       " 'David Bowie',\n",
       " 'David Cook',\n",
       " 'David Gilmour',\n",
       " 'David Guetta',\n",
       " 'De/Vision',\n",
       " 'Dead Can Dance',\n",
       " 'Dead Fish',\n",
       " 'Dead by April',\n",
       " 'Death',\n",
       " 'Death Cab for Cutie',\n",
       " 'Deep Purple',\n",
       " 'Deerhunter',\n",
       " 'Def Leppard',\n",
       " 'Deftones',\n",
       " 'Delta Goodrem',\n",
       " 'Demi Lovato',\n",
       " 'Depeche Mode',\n",
       " \"Destiny's Child\",\n",
       " 'Devendra Banhart',\n",
       " 'Devo',\n",
       " 'Dicky Dixon',\n",
       " 'Dido',\n",
       " 'Digitalism',\n",
       " 'Dio',\n",
       " 'Dire Straits',\n",
       " 'Disturbed',\n",
       " 'Dolly Parton',\n",
       " 'Dragonette',\n",
       " 'Drake',\n",
       " 'Dream Theater',\n",
       " 'Drowning Pool',\n",
       " 'Duffy',\n",
       " 'Dulce María',\n",
       " 'Duran Duran',\n",
       " 'Echo & The Bunnymen',\n",
       " 'Eddie Vedder',\n",
       " 'Edguy',\n",
       " 'Editors',\n",
       " 'Eels',\n",
       " 'Electric Light Orchestra',\n",
       " 'Electric President',\n",
       " 'Electronic',\n",
       " 'Ellie Goulding',\n",
       " 'Elliott Smith',\n",
       " 'Elton John',\n",
       " 'Eluveitie',\n",
       " 'Elvis Presley',\n",
       " 'Emarosa',\n",
       " 'Emilie Autumn',\n",
       " 'Eminem',\n",
       " 'Engenheiros do Hawaii',\n",
       " 'Enigma',\n",
       " 'Ennio Morricone',\n",
       " 'Enrique Iglesias',\n",
       " 'Ensiferum',\n",
       " 'Enter Shikari',\n",
       " 'Enya',\n",
       " 'Epica',\n",
       " 'Era',\n",
       " 'Erasure',\n",
       " 'Eric Clapton',\n",
       " 'Escape The Fate',\n",
       " 'Eurythmics',\n",
       " 'Evanescence',\n",
       " 'Explosions in the Sky',\n",
       " 'Eyes Set to Kill',\n",
       " 'Ezginin Günlüğü',\n",
       " 'Faith No More',\n",
       " 'Faithless',\n",
       " 'Falco',\n",
       " 'Fall Out Boy',\n",
       " 'Far East Movement',\n",
       " 'Fear Factory',\n",
       " 'Feist',\n",
       " 'Fergie',\n",
       " 'Fever Ray',\n",
       " 'Fightstar',\n",
       " 'Finch',\n",
       " 'Fiona Apple',\n",
       " 'Fleet Foxes',\n",
       " 'Fleetwood Mac',\n",
       " 'Flo Rida',\n",
       " 'Florence + the Machine',\n",
       " 'Flying Lotus',\n",
       " 'Flyleaf',\n",
       " 'Foals',\n",
       " 'Foo Fighters',\n",
       " 'Forever the Sickest Kids',\n",
       " 'Forfun',\n",
       " 'Frank Klepacki',\n",
       " 'Frank Sinatra',\n",
       " 'Frank Zappa',\n",
       " 'Frankmusik',\n",
       " 'Franz Ferdinand',\n",
       " 'Fresno',\n",
       " 'Funeral for a Friend',\n",
       " 'G-Unit',\n",
       " 'Garbage',\n",
       " 'Garth Brooks',\n",
       " 'Gary Numan',\n",
       " 'Genesis',\n",
       " 'George Harrison',\n",
       " 'George Michael',\n",
       " 'George Strait',\n",
       " 'Girlicious',\n",
       " 'Girls Aloud',\n",
       " 'Glee Cast',\n",
       " 'Gloria',\n",
       " 'God Is an Astronaut',\n",
       " 'Godsmack',\n",
       " 'Gojira',\n",
       " 'Goldfrapp',\n",
       " 'Goo Goo Dolls',\n",
       " 'Good Charlotte',\n",
       " 'Gorillaz',\n",
       " 'Green Day',\n",
       " 'Grizzly Bear',\n",
       " 'Grouper',\n",
       " \"Guns N' Roses\",\n",
       " 'Gustavo Cerati',\n",
       " 'Gwen Stefani',\n",
       " 'HIM',\n",
       " 'Hadouken!',\n",
       " 'HammerFall',\n",
       " 'Hammock',\n",
       " 'Hannah Montana',\n",
       " 'Hans Zimmer',\n",
       " 'Hanson',\n",
       " 'Hatebreed',\n",
       " 'Heidi Montag',\n",
       " 'Helloween',\n",
       " 'Hey Monday',\n",
       " 'Hilary Duff',\n",
       " 'Hillsong United',\n",
       " 'Holdcut',\n",
       " 'Hole',\n",
       " 'Hollywood Undead',\n",
       " 'Hoobastank',\n",
       " 'Hooverphonic',\n",
       " 'Hot Chip',\n",
       " 'Howard Shore',\n",
       " 'Hurts',\n",
       " 'I See Stars',\n",
       " 'IAMX',\n",
       " 'INXS',\n",
       " 'Ice Cube',\n",
       " 'Iced Earth',\n",
       " 'Imogen Heap',\n",
       " 'In Extremo',\n",
       " 'In Flames',\n",
       " 'Incubus',\n",
       " 'Infected Mushroom',\n",
       " 'Inna',\n",
       " 'Interpol',\n",
       " 'Iron & Wine',\n",
       " 'Iron Maiden',\n",
       " 'Ivete Sangalo',\n",
       " 'J Dilla',\n",
       " 'Jack Johnson',\n",
       " 'James Blunt',\n",
       " 'James Morrison',\n",
       " 'Jamie Cullum',\n",
       " 'Janelle Monáe',\n",
       " 'Janet Jackson',\n",
       " 'Janis Joplin',\n",
       " 'Japan',\n",
       " 'Jason Mraz',\n",
       " 'Jay Sean',\n",
       " 'Jay-Z',\n",
       " 'Jean-Michel Jarre',\n",
       " 'Jeff Buckley',\n",
       " 'Jefferson Airplane',\n",
       " 'Jeffree Star',\n",
       " 'Jennifer Hudson',\n",
       " 'Jennifer Lopez',\n",
       " 'Jesse McCartney',\n",
       " 'Jessica Simpson',\n",
       " 'Jessie J',\n",
       " 'Jethro Tull',\n",
       " 'Jimi Hendrix',\n",
       " 'Jimmy Eat World',\n",
       " 'JoJo',\n",
       " 'Johann Sebastian Bach',\n",
       " 'John Frusciante',\n",
       " 'John Lennon',\n",
       " 'John Mayer',\n",
       " 'John Williams',\n",
       " 'Johnny Cash',\n",
       " 'Johnny Hallyday',\n",
       " 'Jonas Brothers',\n",
       " 'Jordin Sparks',\n",
       " 'Josh Groban',\n",
       " 'Joss Stone',\n",
       " 'Joy Division',\n",
       " 'Judas Priest',\n",
       " 'Justice',\n",
       " 'Justin Bieber',\n",
       " 'Justin Timberlake',\n",
       " 'KISS',\n",
       " 'KT Tunstall',\n",
       " 'Kaiser Chiefs',\n",
       " 'Kamelot',\n",
       " 'Kanye West',\n",
       " 'Kasabian',\n",
       " 'Kat DeLuna',\n",
       " 'Katatonia',\n",
       " 'Kate Bush',\n",
       " 'Kate Nash',\n",
       " 'Kate Voegele',\n",
       " 'Katharine McPhee',\n",
       " 'Katie Melua',\n",
       " 'Katy Perry',\n",
       " 'Ke$ha',\n",
       " 'Keane',\n",
       " 'Keith Urban',\n",
       " 'Kelis',\n",
       " 'Kelly Clarkson',\n",
       " 'Kelly Key',\n",
       " 'Kelly Rowland',\n",
       " 'Kenny Chesney',\n",
       " 'Keri Hilson',\n",
       " 'Kerli',\n",
       " 'Keyshia Cole',\n",
       " 'Kid Cudi',\n",
       " 'Killswitch Engage',\n",
       " 'Killwhitneydead',\n",
       " 'King Crimson',\n",
       " 'King Diamond',\n",
       " 'Kings of Convenience',\n",
       " 'Kings of Leon',\n",
       " 'Klaus Badelt',\n",
       " 'Klaxons',\n",
       " 'Kontrafakt',\n",
       " 'Korn',\n",
       " 'Korpiklaani',\n",
       " 'Kraftwerk',\n",
       " 'Kreator',\n",
       " 'Kris Allen',\n",
       " 'Kurt Vile',\n",
       " 'Kylie Minogue',\n",
       " \"L'Arc~en~Ciel\",\n",
       " 'LCD Soundsystem',\n",
       " 'La Roux',\n",
       " 'Lacuna Coil',\n",
       " 'Lady Antebellum',\n",
       " 'Lady Gaga',\n",
       " 'Ladytron',\n",
       " 'Lamb of God',\n",
       " 'Laura Pausini',\n",
       " 'Led Zeppelin',\n",
       " 'Legião Urbana',\n",
       " 'Leighton Meester',\n",
       " 'Leona Lewis',\n",
       " 'Lifehouse',\n",
       " 'Lights',\n",
       " \"Lil' Wayne\",\n",
       " 'Lily Allen',\n",
       " 'Limp Bizkit',\n",
       " 'Lindsay Lohan',\n",
       " 'Linkin Park',\n",
       " 'Little Boots',\n",
       " 'Lloyd Banks',\n",
       " 'Lolene',\n",
       " 'Los Hermanos',\n",
       " 'Lostprophets',\n",
       " 'Luciano Ligabue',\n",
       " 'Ludwig van Beethoven',\n",
       " 'Lykke Li',\n",
       " 'Lynyrd Skynyrd',\n",
       " 'M.I.A.',\n",
       " 'M83',\n",
       " 'MGMT',\n",
       " 'Machine Head',\n",
       " 'Madlib',\n",
       " 'Madonna',\n",
       " 'Madvillain',\n",
       " 'Mando Diao',\n",
       " 'Mandy Moore',\n",
       " 'Manic Street Preachers',\n",
       " 'Manowar',\n",
       " 'Manu Chao',\n",
       " 'Marc Almond',\n",
       " 'Maria Mena',\n",
       " 'Mariah Carey',\n",
       " 'Marillion',\n",
       " 'Marilyn Manson',\n",
       " 'Marina & the Diamonds',\n",
       " 'Marisa Monte',\n",
       " 'Maroon 5',\n",
       " 'Martin L. Gore',\n",
       " \"Martin O'Donnell & Michael Salvatori\",\n",
       " 'Mary J. Blige',\n",
       " 'Massive Attack',\n",
       " 'Mastodon',\n",
       " 'Matanza',\n",
       " 'Matchbox Twenty',\n",
       " 'Maxïmo Park',\n",
       " 'Mayday Parade',\n",
       " 'McFly',\n",
       " 'Megadeth',\n",
       " 'Melanie C',\n",
       " 'Mercyful Fate',\n",
       " 'Metallica',\n",
       " 'Metric',\n",
       " 'Metro Station',\n",
       " 'Mew',\n",
       " 'Michael Bublé',\n",
       " 'Michael Jackson',\n",
       " 'Michel Teló',\n",
       " 'Michelle Branch',\n",
       " 'Mika',\n",
       " 'Miles Davis',\n",
       " 'Miley Cyrus',\n",
       " 'Mindless Self Indulgence',\n",
       " 'Minus the Bear',\n",
       " 'Miranda Cosgrove',\n",
       " 'Miranda Lambert',\n",
       " 'Misfits',\n",
       " 'Missy Elliott',\n",
       " 'Mobb Deep',\n",
       " 'Moby',\n",
       " 'Modest Mouse',\n",
       " 'Mogwai',\n",
       " 'Monrose',\n",
       " 'Moptop',\n",
       " 'Morcheeba',\n",
       " 'Morrissey',\n",
       " 'Morten Harket',\n",
       " 'Motion City Soundtrack',\n",
       " 'Motörhead',\n",
       " 'Mr. Big',\n",
       " 'Muse',\n",
       " 'My Bloody Valentine',\n",
       " 'My Chemical Romance',\n",
       " 'Mylène Farmer',\n",
       " 'Mötley Crüe',\n",
       " 'NOFX',\n",
       " 'NX Zero',\n",
       " 'Nas',\n",
       " 'Natalia Kills',\n",
       " 'Natalie Imbruglia',\n",
       " 'Natasha Bedingfield',\n",
       " 'Ne-Yo',\n",
       " 'Neil Young',\n",
       " 'Nelly',\n",
       " 'Nelly Furtado',\n",
       " 'Nephew',\n",
       " 'Neuro Dubel',\n",
       " 'New Found Glory',\n",
       " 'New Order',\n",
       " 'Nick Cave and the Bad Seeds',\n",
       " 'Nick Drake',\n",
       " 'Nickelback',\n",
       " 'Nicki Minaj',\n",
       " 'Nicole Scherzinger',\n",
       " 'Nightwish',\n",
       " 'Nine Inch Nails',\n",
       " 'Nirvana',\n",
       " 'Nitzer Ebb',\n",
       " 'No Doubt',\n",
       " 'Noize MC',\n",
       " 'Norah Jones',\n",
       " 'Norther',\n",
       " 'O Teatro Mágico',\n",
       " 'O.S.T.R.',\n",
       " 'Oasis',\n",
       " 'OneRepublic',\n",
       " 'Oomph!',\n",
       " 'Opeth',\n",
       " 'Orchestral Manoeuvres in the Dark',\n",
       " 'Os Mutantes',\n",
       " 'Owl City',\n",
       " 'Ozzy Osbourne',\n",
       " 'P!nk',\n",
       " 'P.O.D.',\n",
       " 'PJ Harvey',\n",
       " 'Pain',\n",
       " 'Pain of Salvation',\n",
       " 'Panic! At the Disco',\n",
       " 'Pantera',\n",
       " 'Paola & Chiara',\n",
       " 'Papa Roach',\n",
       " 'Paradise Lost',\n",
       " 'Paramore',\n",
       " 'Paris Hilton',\n",
       " 'Parkway Drive',\n",
       " 'Passion Pit',\n",
       " 'Patrick Wolf',\n",
       " 'Paul McCartney',\n",
       " 'Pavement',\n",
       " 'Peaches',\n",
       " 'Pearl Jam',\n",
       " 'Pendulum',\n",
       " 'Perfume',\n",
       " 'Pet Shop Boys',\n",
       " 'Phoenix',\n",
       " 'Pidżama Porno',\n",
       " 'Pink',\n",
       " 'Pink Floyd',\n",
       " 'Pitbull',\n",
       " 'Pitty',\n",
       " 'Pixie Lott',\n",
       " 'Pixies',\n",
       " 'Placebo',\n",
       " \"Plain White T's\",\n",
       " 'Pleq',\n",
       " 'Poets of the Fall',\n",
       " 'Poison',\n",
       " 'Porcupine Tree',\n",
       " 'Portishead',\n",
       " 'Prefuse 73',\n",
       " 'Prince',\n",
       " 'Protest The Hero',\n",
       " 'Pulp',\n",
       " 'Queen',\n",
       " 'Queens of the Stone Age',\n",
       " 'Queensrÿche',\n",
       " 'R.E.M.',\n",
       " 'RBD',\n",
       " 'RICHARD DIXON-COMPOSER',\n",
       " 'Radiohead',\n",
       " 'Rage Against the Machine',\n",
       " 'Raimundos',\n",
       " 'Rainbow',\n",
       " 'Rammstein',\n",
       " 'Ramones',\n",
       " 'Rancid',\n",
       " 'Rascal Flatts',\n",
       " 'Ratatat',\n",
       " 'Raul Seixas',\n",
       " 'Raunchy',\n",
       " 'Ray J',\n",
       " 'Recoil',\n",
       " 'Red',\n",
       " 'Red Hot Chili Peppers',\n",
       " 'Regina Spektor',\n",
       " 'Relient K',\n",
       " 'Restart',\n",
       " 'Ricky Martin',\n",
       " 'Rihanna',\n",
       " 'Rilo Kiley',\n",
       " 'Rise Against',\n",
       " 'Riverside',\n",
       " 'Rob Zombie',\n",
       " 'Robbie Williams',\n",
       " 'Robert Pattinson',\n",
       " 'Robyn',\n",
       " 'Roger Waters',\n",
       " 'Roxette',\n",
       " 'Roxy Music',\n",
       " 'Royce da 5\\'9\"',\n",
       " 'Rufus Wainwright',\n",
       " 'Rush',\n",
       " 'Ryan Adams',\n",
       " 'Ryan Leslie',\n",
       " 'Rytmus',\n",
       " 'Róisín Murphy',\n",
       " 'Röyksopp',\n",
       " 'SHINee',\n",
       " 'Sade',\n",
       " 'Sandra',\n",
       " 'Sandy Leah',\n",
       " 'Saosin',\n",
       " 'Sara Bareilles',\n",
       " 'Sarah Brightman',\n",
       " 'Sarah McLachlan',\n",
       " 'Say Anything',\n",
       " 'Scar Symmetry',\n",
       " 'Schiller',\n",
       " 'Scissor Sisters',\n",
       " 'Scorpions',\n",
       " 'Seether',\n",
       " 'Selena Gomez',\n",
       " 'Selena Gomez & the Scene',\n",
       " 'Senses Fail',\n",
       " 'September',\n",
       " 'Sepultura',\n",
       " 'Serge Gainsbourg',\n",
       " 'Serj Tankian',\n",
       " 'Shakira',\n",
       " 'Shania Twain',\n",
       " 'Shayne Ward',\n",
       " 'She & Him',\n",
       " 'She Wants Revenge',\n",
       " 'Shiny Toy Guns',\n",
       " 'Sia',\n",
       " 'Sigur Rós',\n",
       " 'Silverchair',\n",
       " 'Silverstein',\n",
       " 'Simon & Garfunkel',\n",
       " 'Simon Curtis',\n",
       " 'Simple Minds',\n",
       " 'Simple Plan',\n",
       " 'Siouxsie and the Banshees',\n",
       " 'Skid Row',\n",
       " 'Skillet',\n",
       " 'Skinny Puppy',\n",
       " 'Sky Ferreira',\n",
       " 'Slayer',\n",
       " 'Slipknot',\n",
       " 'Sneaker Pimps',\n",
       " 'Snoop Dogg',\n",
       " 'Snow Patrol',\n",
       " 'Soft Cell',\n",
       " 'Soilwork',\n",
       " 'Sonata Arctica',\n",
       " 'Sonic Syndicate',\n",
       " 'Sonic Youth',\n",
       " 'Sophie Ellis-Bextor',\n",
       " 'Sopor Aeternus & The Ensemble of Shadows',\n",
       " 'Soundgarden',\n",
       " 'Spandau Ballet',\n",
       " 'Sparks',\n",
       " 'Spice Girls',\n",
       " 'Spoon',\n",
       " 'Squarepusher',\n",
       " 'Stars',\n",
       " 'Static-X',\n",
       " 'Stereophonics',\n",
       " 'Steve Jablonsky',\n",
       " 'Stevie Wonder',\n",
       " 'Stone Sour',\n",
       " 'Stone Temple Pilots',\n",
       " 'Story of the Year',\n",
       " 'Stratovarius',\n",
       " 'Sublime',\n",
       " 'Suede',\n",
       " 'Sufjan Stevens',\n",
       " 'Sugababes',\n",
       " 'Sugarland',\n",
       " 'Suicide Silence',\n",
       " 'Sum 41',\n",
       " 'Superchic[k]',\n",
       " 'Switchfoot',\n",
       " 'Syd Barrett',\n",
       " 'System of a Down',\n",
       " 'T. Rex',\n",
       " 'T.I.',\n",
       " 'TLC',\n",
       " 'Taio Cruz',\n",
       " 'Takanashi Yasuharu',\n",
       " 'Take That',\n",
       " 'Taking Back Sunday',\n",
       " 'Talk Talk',\n",
       " 'Tangerine Dream',\n",
       " 'Tarja',\n",
       " 'Taylor Swift',\n",
       " 'Tears for Fears',\n",
       " 'Ted Leo and The Pharmacists',\n",
       " 'Tegan and Sara',\n",
       " 'Telefon Tel Aviv',\n",
       " 'Tenacious D',\n",
       " 'Testament',\n",
       " 'Thalía',\n",
       " 'The Academy Is...',\n",
       " 'The All-American Rejects',\n",
       " 'The American Dollar',\n",
       " \"The B-52's\",\n",
       " 'The Beach Boys',\n",
       " 'The Beatles',\n",
       " 'The Birthday Massacre',\n",
       " 'The Black Keys',\n",
       " 'The Bravery',\n",
       " 'The Cardigans',\n",
       " 'The Chemical Brothers',\n",
       " 'The Clash',\n",
       " 'The Classic Crime',\n",
       " 'The Corrs',\n",
       " 'The Cranberries',\n",
       " 'The Cure',\n",
       " 'The Decemberists',\n",
       " 'The Devil Wears Prada',\n",
       " 'The Dillinger Escape Plan',\n",
       " 'The Distillers',\n",
       " 'The Doors',\n",
       " 'The Flashbulb',\n",
       " 'The Frames',\n",
       " 'The Fratellis',\n",
       " 'The Fray',\n",
       " 'The Hives',\n",
       " 'The Human League',\n",
       " 'The Jimi Hendrix Experience',\n",
       " 'The Killers',\n",
       " 'The Kills',\n",
       " 'The Kinks',\n",
       " 'The Knife',\n",
       " 'The Kooks',\n",
       " 'The Last Shadow Puppets',\n",
       " 'The Libertines',\n",
       " 'The Maine',\n",
       " 'The Mars Volta',\n",
       " 'The Mountain Goats',\n",
       " 'The National',\n",
       " 'The New Pornographers',\n",
       " 'The Offspring',\n",
       " 'The Police',\n",
       " 'The Postal Service',\n",
       " 'The Pretty Reckless',\n",
       " 'The Prodigy',\n",
       " 'The Pussycat Dolls',\n",
       " 'The Radio Dept.',\n",
       " 'The Rasmus',\n",
       " 'The Red Jumpsuit Apparatus',\n",
       " 'The Residents',\n",
       " 'The Rocket Summer',\n",
       " 'The Rolling Stones',\n",
       " 'The Roots',\n",
       " 'The Runaways',\n",
       " 'The Saturdays',\n",
       " 'The Script',\n",
       " 'The Shins',\n",
       " 'The Sisters of Mercy',\n",
       " 'The Smashing Pumpkins',\n",
       " 'The Smiths',\n",
       " 'The Streets',\n",
       " 'The Strokes',\n",
       " 'The Subways',\n",
       " 'The Ting Tings',\n",
       " 'The Used',\n",
       " 'The Velvet Underground',\n",
       " 'The Veronicas',\n",
       " 'The Verve',\n",
       " 'The Vines',\n",
       " 'The White Stripes',\n",
       " 'The Who',\n",
       " 'The Word Alive',\n",
       " 'The xx',\n",
       " 'Therion',\n",
       " 'Thievery Corporation',\n",
       " 'Third Eye Blind',\n",
       " 'Thom Yorke',\n",
       " 'Thompson Twins',\n",
       " 'Three Days Grace',\n",
       " 'Thrice',\n",
       " 'Timbaland',\n",
       " 'Tiësto',\n",
       " 'Tokio Hotel',\n",
       " 'Tom Waits',\n",
       " 'Toni Braxton',\n",
       " 'Tool',\n",
       " 'Tori Amos',\n",
       " 'Travis',\n",
       " 'Trey Songz',\n",
       " 'Tribraco',\n",
       " 'Trivium',\n",
       " 'Twiztid',\n",
       " 'Tyler Adam',\n",
       " 'Type O Negative',\n",
       " 'U2',\n",
       " 'Uffie',\n",
       " 'Ultravox',\n",
       " 'Ulver',\n",
       " 'Underoath',\n",
       " 'Unheilig',\n",
       " 'Uriah Heep',\n",
       " 'Usher',\n",
       " 'VNV Nation',\n",
       " 'Vampire Weekend',\n",
       " 'Van Halen',\n",
       " 'Vanessa Carlton',\n",
       " 'Vanessa Hudgens',\n",
       " 'Vanessa da Mata',\n",
       " 'Vangelis',\n",
       " 'Vasco Rossi',\n",
       " 'VersaEmerge',\n",
       " 'Viking Quest',\n",
       " 'W.A.S.P.',\n",
       " 'Wanessa',\n",
       " 'We Butter The Bread With Butter',\n",
       " 'Weezer',\n",
       " 'Westlife',\n",
       " 'White Lies',\n",
       " 'Whitesnake',\n",
       " 'Whitney Houston',\n",
       " 'Why?',\n",
       " 'Wilco',\n",
       " 'Willow Smith',\n",
       " 'Within Temptation',\n",
       " 'Wiz Khalifa',\n",
       " 'Wolfgang Amadeus Mozart',\n",
       " 'Wolfmother',\n",
       " 'Wu-Tang Clan',\n",
       " 'X-Ray Dog',\n",
       " 'YUI',\n",
       " 'Yann Tiersen',\n",
       " 'Yazoo',\n",
       " 'Yeah Yeah Yeahs',\n",
       " 'Yellowcard',\n",
       " 'Yes',\n",
       " 'You Me At Six',\n",
       " 'Zемфира',\n",
       " 'a-ha',\n",
       " 'blessthefall',\n",
       " 'blink-182',\n",
       " 'deadmau5',\n",
       " 'dredg',\n",
       " 'e-gens',\n",
       " 'múm',\n",
       " 'nevershoutnever!',\n",
       " 'of Montreal',\n",
       " 't.A.T.u.',\n",
       " 'Άννα Βισση',\n",
       " 'Агата Кристи',\n",
       " 'Мои Ракеты Вверх',\n",
       " 'Психея',\n",
       " 'Рубль',\n",
       " '†‡†',\n",
       " 'ムック',\n",
       " '倖田來未',\n",
       " '宇多田ヒカル',\n",
       " '安室奈美恵',\n",
       " '植松伸夫',\n",
       " '浜崎あゆみ',\n",
       " '소녀시대']"
      ]
     },
     "execution_count": 43,
     "metadata": {},
     "output_type": "execute_result"
    }
   ],
   "source": [
    "# artist_list"
   ]
  },
  {
   "cell_type": "markdown",
   "metadata": {},
   "source": [
    "### Questions to ponder:\n",
    "Ask yourself why would they have selected this problem for the challenge? What are some gotchas in this domain I should know about?\n",
    "\n",
    "What is the highest level of accuracy that others have achieved with this dataset or similar problems / datasets ?\n",
    "\n",
    "What types of visualizations will help me grasp the nature of the problem / data?\n",
    "What feature engineering might help improve the signal?\n",
    "\n",
    "Which modeling techniques are good at capturing the types of relationships I see in this data?\n",
    "\n",
    "Now that I have a model, how can I be sure that I didn't introduce a bug in the code? If results are too good to be true, they probably are!\n",
    "\n",
    "What are some of the weaknesses of the model and and how can the model be improved with additional work?"
   ]
  },
  {
   "cell_type": "code",
   "execution_count": null,
   "metadata": {
    "collapsed": true
   },
   "outputs": [],
   "source": []
  }
 ],
 "metadata": {
  "kernelspec": {
   "display_name": "Python 3",
   "language": "python",
   "name": "python3"
  },
  "language_info": {
   "codemirror_mode": {
    "name": "ipython",
    "version": 3
   },
   "file_extension": ".py",
   "mimetype": "text/x-python",
   "name": "python",
   "nbconvert_exporter": "python",
   "pygments_lexer": "ipython3",
   "version": "3.6.6"
  }
 },
 "nbformat": 4,
 "nbformat_minor": 2
}
