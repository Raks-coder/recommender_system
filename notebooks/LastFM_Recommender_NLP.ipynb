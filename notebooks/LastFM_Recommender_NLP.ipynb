{
 "cells": [
  {
   "cell_type": "markdown",
   "metadata": {},
   "source": [
    "# LastFM Recommender Genre Topic Modeling\n",
    "July [X], 2018"
   ]
  },
  {
   "cell_type": "code",
   "execution_count": 1,
   "metadata": {},
   "outputs": [
    {
     "data": {
      "text/plain": [
       "'/Users/brianmcmahon/anaconda3/envs/recommender/bin/python'"
      ]
     },
     "execution_count": 1,
     "metadata": {},
     "output_type": "execute_result"
    }
   ],
   "source": [
    "import sys\n",
    "sys.executable"
   ]
  },
  {
   "cell_type": "code",
   "execution_count": 2,
   "metadata": {},
   "outputs": [],
   "source": [
    "import pandas as pd\n",
    "import numpy as np\n",
    "import matplotlib.pyplot as plt\n",
    "import seaborn as sns\n",
    "import math\n",
    "from os import path, getcwd\n",
    "\n",
    "from sklearn.feature_extraction.text import TfidfVectorizer, CountVectorizer\n",
    "from sklearn.decomposition import NMF, LatentDirichletAllocation, TruncatedSVD\n",
    "from sklearn.cluster import KMeans\n",
    "from sklearn.metrics import silhouette_score\n",
    "from sklearn.manifold import TSNE\n",
    "\n",
    "from wordcloud import WordCloud, ImageColorGenerator, STOPWORDS\n",
    "\n",
    "from PIL import Image\n",
    "\n",
    "import gensim\n",
    "from gensim import matutils, models\n",
    "\n",
    "import pyLDAvis\n",
    "import pyLDAvis.sklearn\n",
    "pyLDAvis.enable_notebook()"
   ]
  },
  {
   "cell_type": "code",
   "execution_count": 3,
   "metadata": {},
   "outputs": [
    {
     "data": {
      "text/html": [
       "<div>\n",
       "<style scoped>\n",
       "    .dataframe tbody tr th:only-of-type {\n",
       "        vertical-align: middle;\n",
       "    }\n",
       "\n",
       "    .dataframe tbody tr th {\n",
       "        vertical-align: top;\n",
       "    }\n",
       "\n",
       "    .dataframe thead th {\n",
       "        text-align: right;\n",
       "    }\n",
       "</style>\n",
       "<table border=\"1\" class=\"dataframe\">\n",
       "  <thead>\n",
       "    <tr style=\"text-align: right;\">\n",
       "      <th></th>\n",
       "      <th>name</th>\n",
       "      <th>tags</th>\n",
       "    </tr>\n",
       "    <tr>\n",
       "      <th>idx</th>\n",
       "      <th></th>\n",
       "      <th></th>\n",
       "    </tr>\n",
       "  </thead>\n",
       "  <tbody>\n",
       "    <tr>\n",
       "      <th>0</th>\n",
       "      <td>3 Doors Down</td>\n",
       "      <td>00s, 2008, 90s, acoustic, acoustic rock, alter...</td>\n",
       "    </tr>\n",
       "    <tr>\n",
       "      <th>1</th>\n",
       "      <td>30 Seconds to Mars</td>\n",
       "      <td>00s, &lt;3, acoustic, addictive, alternative, alt...</td>\n",
       "    </tr>\n",
       "    <tr>\n",
       "      <th>2</th>\n",
       "      <td>3OH!3</td>\n",
       "      <td>00s, 10s, 2007, 2008, 2009, 2010, &lt;3, addictiv...</td>\n",
       "    </tr>\n",
       "    <tr>\n",
       "      <th>3</th>\n",
       "      <td>50 Cent</td>\n",
       "      <td>00s, american, awesome, catchy, club, dance, g...</td>\n",
       "    </tr>\n",
       "    <tr>\n",
       "      <th>4</th>\n",
       "      <td>A Day to Remember</td>\n",
       "      <td>&lt;3, acoustic, alternative, american, christian...</td>\n",
       "    </tr>\n",
       "  </tbody>\n",
       "</table>\n",
       "</div>"
      ],
      "text/plain": [
       "                   name                                               tags\n",
       "idx                                                                       \n",
       "0          3 Doors Down  00s, 2008, 90s, acoustic, acoustic rock, alter...\n",
       "1    30 Seconds to Mars  00s, <3, acoustic, addictive, alternative, alt...\n",
       "2                 3OH!3  00s, 10s, 2007, 2008, 2009, 2010, <3, addictiv...\n",
       "3               50 Cent  00s, american, awesome, catchy, club, dance, g...\n",
       "4     A Day to Remember  <3, acoustic, alternative, american, christian..."
      ]
     },
     "execution_count": 3,
     "metadata": {},
     "output_type": "execute_result"
    }
   ],
   "source": [
    "tag_data = pd.read_csv('../data/recsys_tags2.csv')\n",
    "tag_data = tag_data.set_index(['idx'])\n",
    "tag_data['tags'] = tag_data['tags'].apply(lambda x: ', '.join(x.split('|')))\n",
    "tag_data.head()"
   ]
  },
  {
   "cell_type": "code",
   "execution_count": 4,
   "metadata": {},
   "outputs": [
    {
     "data": {
      "text/plain": [
       "'00s, 2008, 90s, acoustic, acoustic rock, alternative, alternative rock, american, awesome, cute, grunge, guilty pleasure, hard rock, love, male vocalists, melancholic, other great tracks, pop, pop rock, post-grunge, prejebeno, punk, rock, romantic, soft rock, soundtrack'"
      ]
     },
     "execution_count": 4,
     "metadata": {},
     "output_type": "execute_result"
    }
   ],
   "source": [
    "tag_data.tags[0]"
   ]
  },
  {
   "cell_type": "markdown",
   "metadata": {},
   "source": [
    "### Assumptions"
   ]
  },
  {
   "cell_type": "code",
   "execution_count": 5,
   "metadata": {},
   "outputs": [],
   "source": [
    "data = tag_data.tags\n",
    "n_topics = 6\n",
    "seed = 42\n",
    "ngram_range = (1,3)\n",
    "ncols = 2\n",
    "\n",
    "sw = set(STOPWORDS)\n",
    "\n",
    "adds = ['rock','pop','hardcore']\n",
    "for word in adds:\n",
    "    sw.add(word)\n"
   ]
  },
  {
   "cell_type": "markdown",
   "metadata": {},
   "source": [
    "### K Means Clustering + tSNE"
   ]
  },
  {
   "cell_type": "code",
   "execution_count": 79,
   "metadata": {
    "collapsed": true
   },
   "outputs": [],
   "source": [
    "def generate_wordcloud(text):  \n",
    "    mask=np.array(Image.open('../data/note.png'))\n",
    "    image_colors=ImageColorGenerator(mask)\n",
    "    wc = WordCloud(background_color='white',\n",
    "                          color_func=image_colors,\n",
    "                          max_words=2000,\n",
    "                          mask=mask,\n",
    "                          colormap='magma',\n",
    "                          stopwords=sw).generate(text)\n",
    "    \n",
    "    plt.imshow(wc, \n",
    "               interpolation=\"bilinear\") \n",
    "    plt.axis(\"off\")\n",
    "    title = \"Topic {}\".format(i)\n",
    "    plt.title(title,fontweight='bold',fontsize=16)   \n"
   ]
  },
  {
   "cell_type": "code",
   "execution_count": 80,
   "metadata": {
    "collapsed": true
   },
   "outputs": [],
   "source": [
    "# def generate_wordcloud(text):  \n",
    "#     # TODO find better mask, seem to be size issues\n",
    "# #     mask=np.array(Image.open('../data/note.png'))\n",
    "# #     mask = np.zeros((50,50,3))\n",
    "# #     image_colors = ImageColorGenerator(mask)\n",
    "\n",
    "#     wc = WordCloud(random_state=seed, \n",
    "# #                    mask=mask, \n",
    "# #                    color_func=image_colors, \n",
    "#                    background_color='white',\n",
    "#                    max_words=2000,\n",
    "#                    colormap='magma',\n",
    "#                    stopwords=sw)\n",
    "#     wc.generate(text)\n",
    "    \n",
    "# # #     wc.to_file('../data/music.png')\n",
    "    \n",
    "#     plt.figure(figsize=[7,7])\n",
    "# #     plt.imshow(wc.recolor(color_func=image_colors),interpolation=\"bilinear\")\n",
    "# # #     plt.imshow(wc, \n",
    "# # # #                music_mask,\n",
    "# # #                interpolation=\"bilinear\") #.recolor(color_func=image_colors)\n",
    "#     plt.axis(\"off\")\n",
    "# # #     plt.imshow(music_mask, cmap=plt.cm.gray, interpolation='bilinear')\n",
    "# # # #     plt.axis('off')\n",
    "# # # #     plt.show()\n",
    "# # #     title = \"Topic {}\".format(i)\n",
    "# # #     plt.title(title,fontweight='bold',fontsize=16)   \n",
    "#     _=plt.show()"
   ]
  },
  {
   "cell_type": "code",
   "execution_count": 81,
   "metadata": {
    "collapsed": true
   },
   "outputs": [],
   "source": [
    "tfidf = TfidfVectorizer(max_df=0.6)\n",
    "X = tfidf.fit_transform(data)\n",
    "nmf = NMF(n_components=n_topics, random_state=seed, alpha=.1, l1_ratio=.5, init='nndsvd')\n",
    "X_reduced = nmf.fit_transform(X)"
   ]
  },
  {
   "cell_type": "code",
   "execution_count": 82,
   "metadata": {},
   "outputs": [
    {
     "name": "stdout",
     "output_type": "stream",
     "text": [
      "KMC saved at ../charts/kmc.png\n",
      "Inertia score: 3.2557713013456424\n",
      "Silhouette score: 0.4640277002561153\n",
      "Cluster 0 has 137 comments.\n",
      "Cluster 1 has 60 comments.\n",
      "Cluster 2 has 60 comments.\n",
      "Cluster 3 has 38 comments.\n",
      "Cluster 4 has 131 comments.\n",
      "Cluster 5 has 79 comments.\n"
     ]
    },
    {
     "data": {
      "image/png": "[encoded data removed]",
      "text/plain": [
       "<Figure size 1080x360 with 2 Axes>"
      ]
     },
     "metadata": {},
     "output_type": "display_data"
    }
   ],
   "source": [
    "# plot K Means Clusters Silhouette and Clusters Analysis\n",
    "# k_list = list(range(4,20,2))\n",
    "\n",
    "# for k in k_list:\n",
    "\n",
    "ns = np.arange(2, 20, 1)\n",
    "inertias = []\n",
    "silhouettes = []\n",
    "for n in ns:\n",
    "    kmeans = KMeans(n_clusters=n, init=\"k-means++\", random_state=seed).fit(X_reduced)\n",
    "    inertias.append(kmeans.inertia_)\n",
    "    labels = kmeans.labels_\n",
    "    ss = silhouette_score(X_reduced, labels, metric='euclidean',sample_size=5000, random_state=seed)\n",
    "    silhouettes.append(ss)\n",
    "\n",
    "fig = plt.figure(figsize=(15,5))\n",
    "ax = fig.add_subplot(1,2,1)\n",
    "# plot the inertia scores and look for the kink in the curve\n",
    "plt.plot(ns, inertias)\n",
    "plt.xlabel('Clusters')\n",
    "plt.ylabel('SSE')\n",
    "plt.title('K-Means Inertia', fontweight='bold',fontsize=16)\n",
    "\n",
    "ax = fig.add_subplot(1,2,2)\n",
    "# plot the silhouette scores\n",
    "plt.plot(ns, silhouettes)\n",
    "plt.xlabel('Clusters')\n",
    "plt.ylabel('Silhouette Coefficient')\n",
    "plt.title('K-Means Silhouette Scores', fontweight='bold',fontsize=16)\n",
    "\n",
    "plt.tight_layout()\n",
    "filepath1 = \"../charts/kmc.png\"\n",
    "plt.savefig(filepath1)\n",
    "print(\"KMC saved at \" + filepath1)\n",
    "# Fit Kmeans with n_clusters\n",
    "kmeans = KMeans(n_clusters=n_topics, init=\"k-means++\", random_state=seed)\n",
    "kmf = kmeans.fit(X_reduced)\n",
    "labels = kmf.labels_\n",
    "ssc = silhouette_score(X_reduced, labels, metric='euclidean',sample_size=5000, random_state=seed)\n",
    "\n",
    "print(\"Inertia score: {}\".format(kmf.inertia_))\n",
    "print(\"Silhouette score: {}\".format(ssc))\n",
    "for cluster in range(len(set(labels))):\n",
    "    print(\"Cluster {} has {} comments.\".format(cluster, sum(labels==cluster)))"
   ]
  },
  {
   "cell_type": "code",
   "execution_count": 83,
   "metadata": {},
   "outputs": [
    {
     "ename": "ValueError",
     "evalue": "ImageColorGenerator is smaller than the canvas",
     "output_type": "error",
     "traceback": [
      "\u001b[0;31m------------------------------------------------------\u001b[0m",
      "\u001b[0;31mValueError\u001b[0m           Traceback (most recent call last)",
      "\u001b[0;32m<ipython-input-83-8177ddc36385>\u001b[0m in \u001b[0;36m<module>\u001b[0;34m()\u001b[0m\n\u001b[1;32m     12\u001b[0m     \u001b[0mtext\u001b[0m \u001b[0;34m=\u001b[0m \u001b[0;34m''\u001b[0m\u001b[0;34m.\u001b[0m\u001b[0mjoin\u001b[0m\u001b[0;34m(\u001b[0m\u001b[0mcluster_map\u001b[0m\u001b[0;34m[\u001b[0m\u001b[0mcluster_map\u001b[0m\u001b[0;34m.\u001b[0m\u001b[0mcluster\u001b[0m\u001b[0;34m==\u001b[0m\u001b[0mi\u001b[0m\u001b[0;34m]\u001b[0m\u001b[0;34m.\u001b[0m\u001b[0mcomments\u001b[0m\u001b[0;34m)\u001b[0m\u001b[0;34m\u001b[0m\u001b[0m\n\u001b[1;32m     13\u001b[0m \u001b[0;34m\u001b[0m\u001b[0m\n\u001b[0;32m---> 14\u001b[0;31m     \u001b[0mgenerate_wordcloud\u001b[0m\u001b[0;34m(\u001b[0m\u001b[0mtext\u001b[0m\u001b[0;34m)\u001b[0m\u001b[0;34m\u001b[0m\u001b[0m\n\u001b[0m\u001b[1;32m     15\u001b[0m \u001b[0;34m\u001b[0m\u001b[0m\n\u001b[1;32m     16\u001b[0m \u001b[0mfilepath3\u001b[0m \u001b[0;34m=\u001b[0m \u001b[0;34m\"../charts/wc_kmctsne.png\"\u001b[0m\u001b[0;34m\u001b[0m\u001b[0m\n",
      "\u001b[0;32m<ipython-input-79-768803510c3e>\u001b[0m in \u001b[0;36mgenerate_wordcloud\u001b[0;34m(text)\u001b[0m\n\u001b[1;32m      7\u001b[0m                           \u001b[0mmask\u001b[0m\u001b[0;34m=\u001b[0m\u001b[0mmask\u001b[0m\u001b[0;34m,\u001b[0m\u001b[0;34m\u001b[0m\u001b[0m\n\u001b[1;32m      8\u001b[0m                           \u001b[0mcolormap\u001b[0m\u001b[0;34m=\u001b[0m\u001b[0;34m'magma'\u001b[0m\u001b[0;34m,\u001b[0m\u001b[0;34m\u001b[0m\u001b[0m\n\u001b[0;32m----> 9\u001b[0;31m                           stopwords=sw).generate(text)\n\u001b[0m\u001b[1;32m     10\u001b[0m \u001b[0;34m\u001b[0m\u001b[0m\n\u001b[1;32m     11\u001b[0m     plt.imshow(wc, \n",
      "\u001b[0;32m~/anaconda3/envs/recommender/lib/python3.6/site-packages/wordcloud/wordcloud.py\u001b[0m in \u001b[0;36mgenerate\u001b[0;34m(self, text)\u001b[0m\n\u001b[1;32m    569\u001b[0m         \u001b[0mself\u001b[0m\u001b[0;34m\u001b[0m\u001b[0m\n\u001b[1;32m    570\u001b[0m         \"\"\"\n\u001b[0;32m--> 571\u001b[0;31m         \u001b[0;32mreturn\u001b[0m \u001b[0mself\u001b[0m\u001b[0;34m.\u001b[0m\u001b[0mgenerate_from_text\u001b[0m\u001b[0;34m(\u001b[0m\u001b[0mtext\u001b[0m\u001b[0;34m)\u001b[0m\u001b[0;34m\u001b[0m\u001b[0m\n\u001b[0m\u001b[1;32m    572\u001b[0m \u001b[0;34m\u001b[0m\u001b[0m\n\u001b[1;32m    573\u001b[0m     \u001b[0;32mdef\u001b[0m \u001b[0m_check_generated\u001b[0m\u001b[0;34m(\u001b[0m\u001b[0mself\u001b[0m\u001b[0;34m)\u001b[0m\u001b[0;34m:\u001b[0m\u001b[0;34m\u001b[0m\u001b[0m\n",
      "\u001b[0;32m~/anaconda3/envs/recommender/lib/python3.6/site-packages/wordcloud/wordcloud.py\u001b[0m in \u001b[0;36mgenerate_from_text\u001b[0;34m(self, text)\u001b[0m\n\u001b[1;32m    551\u001b[0m         \"\"\"\n\u001b[1;32m    552\u001b[0m         \u001b[0mwords\u001b[0m \u001b[0;34m=\u001b[0m \u001b[0mself\u001b[0m\u001b[0;34m.\u001b[0m\u001b[0mprocess_text\u001b[0m\u001b[0;34m(\u001b[0m\u001b[0mtext\u001b[0m\u001b[0;34m)\u001b[0m\u001b[0;34m\u001b[0m\u001b[0m\n\u001b[0;32m--> 553\u001b[0;31m         \u001b[0mself\u001b[0m\u001b[0;34m.\u001b[0m\u001b[0mgenerate_from_frequencies\u001b[0m\u001b[0;34m(\u001b[0m\u001b[0mwords\u001b[0m\u001b[0;34m)\u001b[0m\u001b[0;34m\u001b[0m\u001b[0m\n\u001b[0m\u001b[1;32m    554\u001b[0m         \u001b[0;32mreturn\u001b[0m \u001b[0mself\u001b[0m\u001b[0;34m\u001b[0m\u001b[0m\n\u001b[1;32m    555\u001b[0m \u001b[0;34m\u001b[0m\u001b[0m\n",
      "\u001b[0;32m~/anaconda3/envs/recommender/lib/python3.6/site-packages/wordcloud/wordcloud.py\u001b[0m in \u001b[0;36mgenerate_from_frequencies\u001b[0;34m(self, frequencies, max_font_size)\u001b[0m\n\u001b[1;32m    474\u001b[0m                                           \u001b[0morientation\u001b[0m\u001b[0;34m=\u001b[0m\u001b[0morientation\u001b[0m\u001b[0;34m,\u001b[0m\u001b[0;34m\u001b[0m\u001b[0m\n\u001b[1;32m    475\u001b[0m                                           \u001b[0mrandom_state\u001b[0m\u001b[0;34m=\u001b[0m\u001b[0mrandom_state\u001b[0m\u001b[0;34m,\u001b[0m\u001b[0;34m\u001b[0m\u001b[0m\n\u001b[0;32m--> 476\u001b[0;31m                                           font_path=self.font_path))\n\u001b[0m\u001b[1;32m    477\u001b[0m             \u001b[0;31m# recompute integral image\u001b[0m\u001b[0;34m\u001b[0m\u001b[0;34m\u001b[0m\u001b[0m\n\u001b[1;32m    478\u001b[0m             \u001b[0;32mif\u001b[0m \u001b[0mself\u001b[0m\u001b[0;34m.\u001b[0m\u001b[0mmask\u001b[0m \u001b[0;32mis\u001b[0m \u001b[0;32mNone\u001b[0m\u001b[0;34m:\u001b[0m\u001b[0;34m\u001b[0m\u001b[0m\n",
      "\u001b[0;32m~/anaconda3/envs/recommender/lib/python3.6/site-packages/wordcloud/color_from_image.py\u001b[0m in \u001b[0;36m__call__\u001b[0;34m(self, word, font_size, font_path, position, orientation, **kwargs)\u001b[0m\n\u001b[1;32m     53\u001b[0m         \u001b[0;32mif\u001b[0m \u001b[0;32mnot\u001b[0m \u001b[0mreshape\u001b[0m\u001b[0;34m.\u001b[0m\u001b[0many\u001b[0m\u001b[0;34m(\u001b[0m\u001b[0;34m)\u001b[0m\u001b[0;34m:\u001b[0m\u001b[0;34m\u001b[0m\u001b[0m\n\u001b[1;32m     54\u001b[0m             \u001b[0;32mif\u001b[0m \u001b[0mself\u001b[0m\u001b[0;34m.\u001b[0m\u001b[0mdefault_color\u001b[0m \u001b[0;32mis\u001b[0m \u001b[0;32mNone\u001b[0m\u001b[0;34m:\u001b[0m\u001b[0;34m\u001b[0m\u001b[0m\n\u001b[0;32m---> 55\u001b[0;31m                 \u001b[0;32mraise\u001b[0m \u001b[0mValueError\u001b[0m\u001b[0;34m(\u001b[0m\u001b[0;34m'ImageColorGenerator is smaller than the canvas'\u001b[0m\u001b[0;34m)\u001b[0m\u001b[0;34m\u001b[0m\u001b[0m\n\u001b[0m\u001b[1;32m     56\u001b[0m             \u001b[0;32mreturn\u001b[0m \u001b[0;34m\"rgb(%d, %d, %d)\"\u001b[0m \u001b[0;34m%\u001b[0m \u001b[0mtuple\u001b[0m\u001b[0;34m(\u001b[0m\u001b[0mself\u001b[0m\u001b[0;34m.\u001b[0m\u001b[0mdefault_color\u001b[0m\u001b[0;34m)\u001b[0m\u001b[0;34m\u001b[0m\u001b[0m\n\u001b[1;32m     57\u001b[0m         \u001b[0mcolor\u001b[0m \u001b[0;34m=\u001b[0m \u001b[0mnp\u001b[0m\u001b[0;34m.\u001b[0m\u001b[0mmean\u001b[0m\u001b[0;34m(\u001b[0m\u001b[0mreshape\u001b[0m\u001b[0;34m,\u001b[0m \u001b[0maxis\u001b[0m\u001b[0;34m=\u001b[0m\u001b[0;36m0\u001b[0m\u001b[0;34m)\u001b[0m\u001b[0;34m\u001b[0m\u001b[0m\n",
      "\u001b[0;31mValueError\u001b[0m: ImageColorGenerator is smaller than the canvas"
     ]
    },
    {
     "data": {
      "image/png": "[encoded data removed]",
      "text/plain": [
       "<Figure size 1440x1440 with 1 Axes>"
      ]
     },
     "metadata": {},
     "output_type": "display_data"
    }
   ],
   "source": [
    "cluster_map = pd.DataFrame(X_reduced)\n",
    "cluster_map['comments'] = [r for r in data]\n",
    "cluster_map['cluster'] = labels\n",
    "\n",
    "fig = plt.figure(figsize=(20,20))\n",
    "# ncols = 2\n",
    "nrows = math.ceil(n_topics / ncols)\n",
    "plt.tight_layout()\n",
    "\n",
    "for i in range(n_topics):\n",
    "    ax = fig.add_subplot(nrows,ncols,i+1)\n",
    "    text = ''.join(cluster_map[cluster_map.cluster==i].comments)\n",
    "    \n",
    "    generate_wordcloud(text)   \n",
    "    \n",
    "filepath3 = \"../charts/wc_kmctsne.png\"\n",
    "print(\"WordClouds saved at \" + filepath3)\n",
    "plt.savefig(filepath3)"
   ]
  },
  {
   "cell_type": "code",
   "execution_count": 10,
   "metadata": {},
   "outputs": [
    {
     "name": "stdout",
     "output_type": "stream",
     "text": [
      "T-SNE saved at ../charts/tsne.png\n"
     ]
    },
    {
     "data": {
      "text/plain": [
       "<Figure size 4320x4320 with 0 Axes>"
      ]
     },
     "metadata": {},
     "output_type": "display_data"
    },
    {
     "data": {
      "image/png": "[encoded data removed]",
      "text/plain": [
       "<Figure size 403.5x360 with 1 Axes>"
      ]
     },
     "metadata": {},
     "output_type": "display_data"
    }
   ],
   "source": [
    "tsne = TSNE(n_components=2, perplexity=40, n_iter=500, random_state=seed)\n",
    "tsne = tsne.fit_transform(X_reduced)\n",
    "df_tsne = pd.DataFrame(tsne, columns=[\"tsne_x\", \"tsne_y\"])\n",
    "df_tsne[\"Cluster\"] = labels\n",
    "\n",
    "fig = plt.figure(figsize=(60,60))\n",
    "tsne = sns.lmplot(\"tsne_x\", \"tsne_y\", data=df_tsne, fit_reg=False, hue=\"Cluster\")\n",
    "plt.xlabel(\"x\")\n",
    "plt.ylabel(\"y\")\n",
    "plt.title(\"T-SNE Clusters\",fontweight='bold')\n",
    "filepath2 = \"../charts/tsne.png\"\n",
    "plt.savefig(filepath2)\n",
    "print(\"T-SNE saved at \" + filepath2)"
   ]
  },
  {
   "cell_type": "markdown",
   "metadata": {},
   "source": [
    "### LDA"
   ]
  },
  {
   "cell_type": "code",
   "execution_count": 11,
   "metadata": {
    "collapsed": true
   },
   "outputs": [],
   "source": [
    "# data = tag_data.tags\n",
    "# num_topics = 6\n",
    "# ngram_range = (1,2)\n",
    "max_words = 10\n",
    "\n",
    "# seed = 42\n",
    "# n_clusters = 6"
   ]
  },
  {
   "cell_type": "code",
   "execution_count": 12,
   "metadata": {
    "collapsed": true
   },
   "outputs": [],
   "source": [
    "from gensim import corpora"
   ]
  },
  {
   "cell_type": "code",
   "execution_count": null,
   "metadata": {
    "collapsed": true
   },
   "outputs": [],
   "source": []
  },
  {
   "cell_type": "code",
   "execution_count": null,
   "metadata": {
    "collapsed": true
   },
   "outputs": [],
   "source": []
  },
  {
   "cell_type": "code",
   "execution_count": null,
   "metadata": {
    "collapsed": true
   },
   "outputs": [],
   "source": []
  },
  {
   "cell_type": "code",
   "execution_count": null,
   "metadata": {
    "collapsed": true
   },
   "outputs": [],
   "source": []
  },
  {
   "cell_type": "code",
   "execution_count": 13,
   "metadata": {},
   "outputs": [
    {
     "data": {
      "image/png": "[encoded data removed]",
      "text/plain": [
       "<Figure size 1440x1440 with 1 Axes>"
      ]
     },
     "metadata": {},
     "output_type": "display_data"
    },
    {
     "data": {
      "image/png": "[encoded data removed]",
      "text/plain": [
       "<Figure size 504x504 with 1 Axes>"
      ]
     },
     "metadata": {},
     "output_type": "display_data"
    },
    {
     "data": {
      "image/png": "[encoded data removed]",
      "text/plain": [
       "<Figure size 504x504 with 1 Axes>"
      ]
     },
     "metadata": {},
     "output_type": "display_data"
    },
    {
     "data": {
      "image/png": "[encoded data removed]",
      "text/plain": [
       "<Figure size 504x504 with 1 Axes>"
      ]
     },
     "metadata": {},
     "output_type": "display_data"
    },
    {
     "data": {
      "image/png": "[encoded data removed]",
      "text/plain": [
       "<Figure size 504x504 with 1 Axes>"
      ]
     },
     "metadata": {},
     "output_type": "display_data"
    },
    {
     "data": {
      "image/png": "[encoded data removed]",
      "text/plain": [
       "<Figure size 504x504 with 1 Axes>"
      ]
     },
     "metadata": {},
     "output_type": "display_data"
    },
    {
     "data": {
      "image/png": "[encoded data removed]",
      "text/plain": [
       "<Figure size 504x504 with 1 Axes>"
      ]
     },
     "metadata": {},
     "output_type": "display_data"
    },
    {
     "name": "stdout",
     "output_type": "stream",
     "text": [
      "Chart saved at ../charts/5.png\n"
     ]
    },
    {
     "data": {
      "text/plain": [
       "<Figure size 432x288 with 0 Axes>"
      ]
     },
     "metadata": {},
     "output_type": "display_data"
    }
   ],
   "source": [
    "fig = plt.figure(figsize=(20,20))\n",
    "topics_dict = {}\n",
    "count_vectorizer = CountVectorizer(ngram_range=ngram_range,  stop_words='english', max_df=0.02, token_pattern=\"\\\\b[a-z][a-z]+\\\\b\")\n",
    "count_vectorizer.fit(data)\n",
    "counts = count_vectorizer.transform(data).transpose()\n",
    "corpus = matutils.Sparse2Corpus(counts)\n",
    "id2word = dict((v, k) for k, v in count_vectorizer.vocabulary_.items())\n",
    "lda = models.LdaModel(corpus=corpus, num_topics=n_topics, id2word=id2word, passes=10) # minimum_probability=0.03, \n",
    "lda_corpus = lda[corpus]\n",
    "lda_docs = [doc for doc in lda_corpus]\n",
    "topics = lda.print_topics(num_words=200)\n",
    "i = 0\n",
    "for topic in topics:\n",
    "#     print(topic)\n",
    "    topics_dict[topic[0]] = lda_docs # , lda.log_perplexity\n",
    "    nrows = math.ceil(n_topics / ncols)\n",
    "    ax = fig.add_subplot(nrows,ncols,i+1)\n",
    "    topics_dict[topic[0]] = topic\n",
    "    title = \" Topic: \" + str(topic[0])\n",
    "    filepath = '../charts/' + str(topic[0]) + '.png'\n",
    "    \n",
    "    generate_wordcloud(topic[1])\n",
    "\n",
    "    i+=1\n",
    "plt.savefig(filepath)\n",
    "print(\"Chart saved at {}\".format(filepath))"
   ]
  },
  {
   "cell_type": "code",
   "execution_count": 14,
   "metadata": {},
   "outputs": [
    {
     "name": "stderr",
     "output_type": "stream",
     "text": [
      "<input>:6: DeprecationWarning: invalid escape sequence \\-\n",
      "<input>:6: DeprecationWarning: invalid escape sequence \\-\n",
      "<input>:6: DeprecationWarning: invalid escape sequence \\-\n",
      "<ipython-input-14-da0ce1f84e0f>:6: DeprecationWarning: invalid escape sequence \\-\n",
      "  cleaned_text = [t for t in tokenized_text if t not in sw and re.match('[a-zA-Z\\-][a-zA-Z\\-]{2,}', t)]\n"
     ]
    }
   ],
   "source": [
    "from nltk import word_tokenize\n",
    "import re\n",
    "\n",
    "def clean_text(text):\n",
    "    tokenized_text = word_tokenize(text.lower())\n",
    "    cleaned_text = [t for t in tokenized_text if t not in sw and re.match('[a-zA-Z\\-][a-zA-Z\\-]{2,}', t)]\n",
    "    return cleaned_text"
   ]
  },
  {
   "cell_type": "code",
   "execution_count": 15,
   "metadata": {},
   "outputs": [],
   "source": [
    "tokenized_data = []\n",
    "for text in data:\n",
    "    tokenized_data.append(clean_text(text))"
   ]
  },
  {
   "cell_type": "code",
   "execution_count": 16,
   "metadata": {},
   "outputs": [],
   "source": [
    "dictionary = corpora.Dictionary(tokenized_data)"
   ]
  },
  {
   "cell_type": "code",
   "execution_count": 17,
   "metadata": {
    "collapsed": true
   },
   "outputs": [],
   "source": [
    "corpus = [dictionary.doc2bow(text) for text in tokenized_data]"
   ]
  },
  {
   "cell_type": "code",
   "execution_count": 18,
   "metadata": {},
   "outputs": [
    {
     "name": "stdout",
     "output_type": "stream",
     "text": [
      "[(18, 1), (27, 1), (29, 2), (30, 1), (45, 1), (88, 1), (90, 1), (182, 1)]\n"
     ]
    }
   ],
   "source": [
    "print(corpus[20])"
   ]
  },
  {
   "cell_type": "code",
   "execution_count": null,
   "metadata": {
    "collapsed": true
   },
   "outputs": [],
   "source": []
  },
  {
   "cell_type": "code",
   "execution_count": 19,
   "metadata": {},
   "outputs": [],
   "source": [
    "lda_model = models.LdaModel(corpus=corpus, num_topics=n_topics, id2word=dictionary)"
   ]
  },
  {
   "cell_type": "code",
   "execution_count": 20,
   "metadata": {
    "collapsed": true
   },
   "outputs": [],
   "source": [
    "lsi_model = models.LsiModel(corpus=corpus, num_topics=n_topics, id2word=dictionary)"
   ]
  },
  {
   "cell_type": "code",
   "execution_count": 21,
   "metadata": {},
   "outputs": [
    {
     "name": "stdout",
     "output_type": "stream",
     "text": [
      "LDA Model:\n",
      "Topic #0: 0.065*\"indie\" + 0.041*\"alternative\" + 0.025*\"love\" + 0.021*\"awesome\"\n",
      "Topic #1: 0.030*\"love\" + 0.020*\"songs\" + 0.017*\"female\" + 0.016*\"christmas\"\n",
      "Topic #2: 0.055*\"alternative\" + 0.027*\"indie\" + 0.025*\"love\" + 0.024*\"metal\"\n",
      "Topic #3: 0.059*\"female\" + 0.039*\"love\" + 0.024*\"vocalists\" + 0.016*\"dance\"\n",
      "Topic #4: 0.034*\"indie\" + 0.034*\"songs\" + 0.029*\"favorite\" + 0.026*\"love\"\n",
      "Topic #5: 0.046*\"metal\" + 0.026*\"female\" + 0.025*\"alternative\" + 0.024*\"indie\"\n",
      "====================\n",
      "LSI Model:\n",
      "Topic #0: 0.334*\"love\" + 0.303*\"alternative\" + 0.302*\"indie\" + 0.286*\"female\"\n",
      "Topic #1: 0.865*\"metal\" + -0.179*\"female\" + 0.152*\"hard\" + -0.134*\"love\"\n",
      "Topic #2: -0.553*\"female\" + 0.416*\"indie\" + 0.280*\"alternative\" + -0.216*\"metal\"\n",
      "Topic #3: -0.426*\"indie\" + 0.325*\"favorite\" + 0.251*\"new\" + 0.237*\"classic\"\n",
      "Topic #4: -0.345*\"punk\" + 0.292*\"female\" + 0.288*\"indie\" + -0.264*\"male\"\n",
      "Topic #5: -0.433*\"punk\" + 0.335*\"love\" + -0.319*\"alternative\" + -0.227*\"new\"\n",
      "====================\n"
     ]
    }
   ],
   "source": [
    "print(\"LDA Model:\")\n",
    " \n",
    "for idx in range(n_topics):\n",
    "    # Print the first 4 most representative topics\n",
    "    print(\"Topic #%s:\" % idx, lda_model.print_topic(idx, 4))\n",
    " \n",
    "print(\"=\" * 20)\n",
    " \n",
    "print(\"LSI Model:\")\n",
    " \n",
    "for idx in range(n_topics):\n",
    "    # Print the first 4 most representative topics\n",
    "    print(\"Topic #%s:\" % idx, lsi_model.print_topic(idx, 4))\n",
    " \n",
    "print(\"=\" * 20)"
   ]
  },
  {
   "cell_type": "code",
   "execution_count": 22,
   "metadata": {},
   "outputs": [
    {
     "data": {
      "text/html": [
       "<div>\n",
       "<style scoped>\n",
       "    .dataframe tbody tr th:only-of-type {\n",
       "        vertical-align: middle;\n",
       "    }\n",
       "\n",
       "    .dataframe tbody tr th {\n",
       "        vertical-align: top;\n",
       "    }\n",
       "\n",
       "    .dataframe thead th {\n",
       "        text-align: right;\n",
       "    }\n",
       "</style>\n",
       "<table border=\"1\" class=\"dataframe\">\n",
       "  <thead>\n",
       "    <tr style=\"text-align: right;\">\n",
       "      <th></th>\n",
       "      <th>name</th>\n",
       "      <th>tags</th>\n",
       "    </tr>\n",
       "    <tr>\n",
       "      <th>idx</th>\n",
       "      <th></th>\n",
       "      <th></th>\n",
       "    </tr>\n",
       "  </thead>\n",
       "  <tbody>\n",
       "    <tr>\n",
       "      <th>0</th>\n",
       "      <td>3 Doors Down</td>\n",
       "      <td>00s, 2008, 90s, acoustic, acoustic rock, alter...</td>\n",
       "    </tr>\n",
       "    <tr>\n",
       "      <th>1</th>\n",
       "      <td>30 Seconds to Mars</td>\n",
       "      <td>00s, &lt;3, acoustic, addictive, alternative, alt...</td>\n",
       "    </tr>\n",
       "    <tr>\n",
       "      <th>2</th>\n",
       "      <td>3OH!3</td>\n",
       "      <td>00s, 10s, 2007, 2008, 2009, 2010, &lt;3, addictiv...</td>\n",
       "    </tr>\n",
       "    <tr>\n",
       "      <th>3</th>\n",
       "      <td>50 Cent</td>\n",
       "      <td>00s, american, awesome, catchy, club, dance, g...</td>\n",
       "    </tr>\n",
       "    <tr>\n",
       "      <th>4</th>\n",
       "      <td>A Day to Remember</td>\n",
       "      <td>&lt;3, acoustic, alternative, american, christian...</td>\n",
       "    </tr>\n",
       "  </tbody>\n",
       "</table>\n",
       "</div>"
      ],
      "text/plain": [
       "                   name                                               tags\n",
       "idx                                                                       \n",
       "0          3 Doors Down  00s, 2008, 90s, acoustic, acoustic rock, alter...\n",
       "1    30 Seconds to Mars  00s, <3, acoustic, addictive, alternative, alt...\n",
       "2                 3OH!3  00s, 10s, 2007, 2008, 2009, 2010, <3, addictiv...\n",
       "3               50 Cent  00s, american, awesome, catchy, club, dance, g...\n",
       "4     A Day to Remember  <3, acoustic, alternative, american, christian..."
      ]
     },
     "execution_count": 22,
     "metadata": {},
     "output_type": "execute_result"
    }
   ],
   "source": [
    "tag_data.head()"
   ]
  },
  {
   "cell_type": "code",
   "execution_count": 23,
   "metadata": {},
   "outputs": [],
   "source": [
    "text = ''.join(tag_data[tag_data['name']=='Britney Spears']['tags'])"
   ]
  },
  {
   "cell_type": "code",
   "execution_count": 24,
   "metadata": {},
   "outputs": [
    {
     "data": {
      "text/plain": [
       "\"00s, 10s, 2007, 2008, 2009, 90's, 90s, <3, acoustic, addictive, alternative, amazing, american, awesome, ballad, beautiful, best, best christmas songs, best song ever, best songs of the 00s, beyonce, britney spears, catchy, christmas, classic, cool, country, cover, covers, cute, dance, dance-pop, disco, disney, diva, dubstep, electro, electro pop, electronic, electronica, electropop, emotional, energetic, english, epic, favorite, favorites, favourites, female, female vocalist, female vocalists, female voices, fun, gay, girl power, glam, gossip girl, great, great memories with my siss, guilty pleasure, guilty pleasures, handclaps, hot, justin timberlake, latin, legend, love, love at first listen, love it, loved, lovely, masterpiece, melodic, nice, oh so catchy, party, perfect, pop, pop covers, pop rock, pop singles, punk rock, remix, rnb, rock, sad, seen live, sensual, sex, sexy, singer-songwriter, soundtrack, summer song, sweet, tbu, teen pop, the best, top 40, underrated, urban, usa, weekly top tracks\""
      ]
     },
     "execution_count": 24,
     "metadata": {},
     "output_type": "execute_result"
    }
   ],
   "source": [
    "text"
   ]
  },
  {
   "cell_type": "code",
   "execution_count": 25,
   "metadata": {},
   "outputs": [],
   "source": [
    "bow = dictionary.doc2bow(clean_text(text))"
   ]
  },
  {
   "cell_type": "code",
   "execution_count": 26,
   "metadata": {
    "collapsed": true
   },
   "outputs": [],
   "source": [
    "def return_max(tuple_list):\n",
    "    x_max=0\n",
    "    y_max=0\n",
    "    for tup in tuple_list:\n",
    "        x,y = tup\n",
    "        if y >y_max:\n",
    "            y_max=y\n",
    "            x_max=x\n",
    "    return (x_max, y_max)"
   ]
  },
  {
   "cell_type": "code",
   "execution_count": 27,
   "metadata": {},
   "outputs": [
    {
     "name": "stdout",
     "output_type": "stream",
     "text": [
      "(0, 8.565819345705167)\n"
     ]
    },
    {
     "data": {
      "text/plain": [
       "'0.334*\"love\" + 0.303*\"alternative\" + 0.302*\"indie\" + 0.286*\"female\" + 0.192*\"live\" + 0.190*\"vocalists\" + 0.185*\"songs\" + 0.169*\"awesome\" + 0.162*\"metal\" + 0.139*\"favorite\"'"
      ]
     },
     "execution_count": 27,
     "metadata": {},
     "output_type": "execute_result"
    }
   ],
   "source": [
    "# LSI model\n",
    "# the highest topic attributed to britney spears and the \n",
    "# details of that topic\n",
    "print(return_max(lsi_model[bow]))\n",
    "lsi_model.print_topic(return_max(lsi_model[bow])[0])"
   ]
  },
  {
   "cell_type": "code",
   "execution_count": 28,
   "metadata": {},
   "outputs": [
    {
     "name": "stdout",
     "output_type": "stream",
     "text": [
      "(3, 0.9925568)\n"
     ]
    },
    {
     "data": {
      "text/plain": [
       "'0.059*\"female\" + 0.039*\"love\" + 0.024*\"vocalists\" + 0.016*\"dance\" + 0.016*\"sexy\" + 0.015*\"american\" + 0.015*\"vocalist\" + 0.015*\"live\" + 0.015*\"favorites\" + 0.014*\"amazing\"'"
      ]
     },
     "execution_count": 28,
     "metadata": {},
     "output_type": "execute_result"
    }
   ],
   "source": [
    "# LDA model\n",
    "# the highest topic attributed to britney spears and the \n",
    "# details of that topic\n",
    "print(return_max(lda_model[bow]))\n",
    "lda_model.print_topic(return_max(lda_model[bow])[0])"
   ]
  },
  {
   "cell_type": "markdown",
   "metadata": {},
   "source": [
    "### TF-IDF / NMF"
   ]
  },
  {
   "cell_type": "code",
   "execution_count": 29,
   "metadata": {
    "collapsed": true
   },
   "outputs": [],
   "source": [
    "data = tag_data.tags\n",
    "model_list = ['LDA','NMF-FN','NMF-KL']\n",
    "class_list = ['all']\n",
    "# ngram_range = (2,3)\n",
    "max_iter = 100000\n",
    "max_df = .01\n",
    "min_df = 1\n",
    "# n_components = 6 \n",
    "n_features = 1000\n",
    "n_top_words = 50\n",
    "ncols = 2"
   ]
  },
  {
   "cell_type": "code",
   "execution_count": 30,
   "metadata": {
    "collapsed": true
   },
   "outputs": [],
   "source": [
    "def print_top_words(model, feature_names, n_top_words):\n",
    "    listy = []\n",
    "    for topic_idx, topic in enumerate(model.components_):\n",
    "        message = \"Topic #%d: \" % topic_idx\n",
    "        message += \" \".join([feature_names[i] for i in topic.argsort()[:-n_top_words - 1:-1]])\n",
    "        listy.append(message)\n",
    "    return listy  "
   ]
  },
  {
   "cell_type": "code",
   "execution_count": 31,
   "metadata": {},
   "outputs": [
    {
     "data": {
      "image/png": "[encoded data removed]",
      "text/plain": [
       "<Figure size 1440x7200 with 1 Axes>"
      ]
     },
     "metadata": {},
     "output_type": "display_data"
    },
    {
     "data": {
      "image/png": "[encoded data removed]",
      "text/plain": [
       "<Figure size 504x504 with 1 Axes>"
      ]
     },
     "metadata": {},
     "output_type": "display_data"
    },
    {
     "data": {
      "image/png": "[encoded data removed]",
      "text/plain": [
       "<Figure size 504x504 with 1 Axes>"
      ]
     },
     "metadata": {},
     "output_type": "display_data"
    },
    {
     "data": {
      "image/png": "[encoded data removed]",
      "text/plain": [
       "<Figure size 504x504 with 1 Axes>"
      ]
     },
     "metadata": {},
     "output_type": "display_data"
    },
    {
     "data": {
      "image/png": "[encoded data removed]",
      "text/plain": [
       "<Figure size 504x504 with 1 Axes>"
      ]
     },
     "metadata": {},
     "output_type": "display_data"
    },
    {
     "data": {
      "image/png": "[encoded data removed]",
      "text/plain": [
       "<Figure size 504x504 with 1 Axes>"
      ]
     },
     "metadata": {},
     "output_type": "display_data"
    },
    {
     "data": {
      "image/png": "[encoded data removed]",
      "text/plain": [
       "<Figure size 504x504 with 1 Axes>"
      ]
     },
     "metadata": {},
     "output_type": "display_data"
    },
    {
     "name": "stdout",
     "output_type": "stream",
     "text": [
      "saved at ../charts/tfidfnmflda_wcallNMF-FN\n"
     ]
    },
    {
     "data": {
      "text/plain": [
       "<Figure size 432x288 with 0 Axes>"
      ]
     },
     "metadata": {},
     "output_type": "display_data"
    },
    {
     "data": {
      "image/png": "[encoded data removed]",
      "text/plain": [
       "<Figure size 1440x7200 with 1 Axes>"
      ]
     },
     "metadata": {},
     "output_type": "display_data"
    },
    {
     "data": {
      "image/png": "[encoded data removed]",
      "text/plain": [
       "<Figure size 504x504 with 1 Axes>"
      ]
     },
     "metadata": {},
     "output_type": "display_data"
    },
    {
     "data": {
      "image/png": "[encoded data removed]",
      "text/plain": [
       "<Figure size 504x504 with 1 Axes>"
      ]
     },
     "metadata": {},
     "output_type": "display_data"
    },
    {
     "data": {
      "image/png": "[encoded data removed]",
      "text/plain": [
       "<Figure size 504x504 with 1 Axes>"
      ]
     },
     "metadata": {},
     "output_type": "display_data"
    },
    {
     "data": {
      "image/png": "[encoded data removed]",
      "text/plain": [
       "<Figure size 504x504 with 1 Axes>"
      ]
     },
     "metadata": {},
     "output_type": "display_data"
    },
    {
     "data": {
      "image/png": "[encoded data removed]",
      "text/plain": [
       "<Figure size 504x504 with 1 Axes>"
      ]
     },
     "metadata": {},
     "output_type": "display_data"
    },
    {
     "data": {
      "image/png": "[encoded data removed]",
      "text/plain": [
       "<Figure size 504x504 with 1 Axes>"
      ]
     },
     "metadata": {},
     "output_type": "display_data"
    },
    {
     "name": "stdout",
     "output_type": "stream",
     "text": [
      "saved at ../charts/tfidfnmflda_wcallNMF-KL\n"
     ]
    },
    {
     "data": {
      "text/plain": [
       "<Figure size 432x288 with 0 Axes>"
      ]
     },
     "metadata": {},
     "output_type": "display_data"
    },
    {
     "data": {
      "image/png": "[encoded data removed]",
      "text/plain": [
       "<Figure size 1440x7200 with 1 Axes>"
      ]
     },
     "metadata": {},
     "output_type": "display_data"
    },
    {
     "data": {
      "image/png": "[encoded data removed]",
      "text/plain": [
       "<Figure size 504x504 with 1 Axes>"
      ]
     },
     "metadata": {},
     "output_type": "display_data"
    },
    {
     "data": {
      "image/png": "[encoded data removed]",
      "text/plain": [
       "<Figure size 504x504 with 1 Axes>"
      ]
     },
     "metadata": {},
     "output_type": "display_data"
    },
    {
     "data": {
      "image/png": "[encoded data removed]",
      "text/plain": [
       "<Figure size 504x504 with 1 Axes>"
      ]
     },
     "metadata": {},
     "output_type": "display_data"
    },
    {
     "data": {
      "image/png": "[encoded data removed]",
      "text/plain": [
       "<Figure size 504x504 with 1 Axes>"
      ]
     },
     "metadata": {},
     "output_type": "display_data"
    },
    {
     "data": {
      "image/png": "[encoded data removed]",
      "text/plain": [
       "<Figure size 504x504 with 1 Axes>"
      ]
     },
     "metadata": {},
     "output_type": "display_data"
    },
    {
     "data": {
      "image/png": "[encoded data removed]",
      "text/plain": [
       "<Figure size 504x504 with 1 Axes>"
      ]
     },
     "metadata": {},
     "output_type": "display_data"
    },
    {
     "name": "stdout",
     "output_type": "stream",
     "text": [
      "saved at ../charts/tfidfnmflda_wcallLDA\n"
     ]
    },
    {
     "data": {
      "text/plain": [
       "<Figure size 432x288 with 0 Axes>"
      ]
     },
     "metadata": {},
     "output_type": "display_data"
    }
   ],
   "source": [
    "class_tfidfnmf = {}\n",
    "for item in class_list:\n",
    "#     if item == 'all':\n",
    "#         data = tag_data.tags\n",
    "#     else:\n",
    "#         data = dataset[dataset[item]==1]\n",
    "\n",
    "    tfidf_vectorizer = TfidfVectorizer(ngram_range=ngram_range,\n",
    "                                       max_df=max_df, \n",
    "                                       min_df=min_df,\n",
    "                                       max_features=n_features,\n",
    "                                       stop_words='english')\n",
    "    \n",
    "    tfidf = tfidf_vectorizer.fit_transform(data)\n",
    "\n",
    "    tf_vectorizer = CountVectorizer(ngram_range=ngram_range,\n",
    "                                    max_df=max_df, \n",
    "                                    min_df=min_df,\n",
    "                                    max_features=n_features,\n",
    "                                    stop_words='english')\n",
    "    \n",
    "    tf = tf_vectorizer.fit_transform(data)\n",
    "\n",
    "    nmf = NMF(n_components=n_topics, \n",
    "              random_state=seed,\n",
    "              alpha=.1, \n",
    "              l1_ratio=.5).fit(tfidf)\n",
    "\n",
    "    tfidf_feature_names = tfidf_vectorizer.get_feature_names()\n",
    "\n",
    "    aa = print_top_words(nmf, \n",
    "                         tfidf_feature_names, \n",
    "                         n_top_words)\n",
    "\n",
    "    nmf = NMF(n_components=n_topics, \n",
    "              random_state=seed,\n",
    "              beta_loss='kullback-leibler', \n",
    "              solver='mu', \n",
    "              max_iter=max_iter, \n",
    "              alpha=.1,\n",
    "              l1_ratio=.5).fit(tfidf)\n",
    "\n",
    "    tfidf_feature_names = tfidf_vectorizer.get_feature_names()\n",
    "\n",
    "    bb = print_top_words(nmf, \n",
    "                         tfidf_feature_names, \n",
    "                         n_top_words)\n",
    "\n",
    "    lda = LatentDirichletAllocation(n_components=n_topics, \n",
    "                                    max_iter=5,\n",
    "                                    learning_method='online',\n",
    "                                    learning_offset=50.,\n",
    "                                    random_state=seed)\n",
    "    lda.fit(tf)\n",
    "\n",
    "    tf_feature_names = tf_vectorizer.get_feature_names()\n",
    "\n",
    "    cc = print_top_words(lda, \n",
    "                         tf_feature_names, \n",
    "                         n_top_words)\n",
    "    \n",
    "    class_tfidfnmf[item] = {'NMF-FN':aa, 'NMF-KL':bb, 'LDA':cc}\n",
    "    \n",
    "    # plot wordclouds\n",
    "    for e in class_tfidfnmf[item]:\n",
    "        fig = plt.figure(figsize=(20,100))\n",
    "        chart_tot = n_topics * len(class_list) * len(model_list)\n",
    "        ncols = ncols\n",
    "        nrows = math.ceil(chart_tot / ncols)\n",
    "        for i in range(n_topics):\n",
    "            ax = fig.add_subplot(nrows,ncols,i+1)\n",
    "            text = ' '.join(class_tfidfnmf[item][e][i].split()[2:])\n",
    "            title = \"Topic: \" + str(item) + \"_\" + str(e) + \"_\" + \"_\" + str(i)\n",
    "            \n",
    "            generate_wordcloud(text)\n",
    "            \n",
    "        filepath = '../charts/tfidfnmflda_wc' + str(item) + str(e)\n",
    "        plt.savefig(filepath)\n",
    "        print('saved at ' + filepath)"
   ]
  },
  {
   "cell_type": "code",
   "execution_count": null,
   "metadata": {
    "collapsed": true
   },
   "outputs": [],
   "source": []
  },
  {
   "cell_type": "markdown",
   "metadata": {},
   "source": [
    "### Word2Vec"
   ]
  },
  {
   "cell_type": "code",
   "execution_count": 32,
   "metadata": {},
   "outputs": [],
   "source": [
    "documents = tag_data.tags\n",
    "texts = [[word for word in document.lower().split() if word not in sw]\n",
    "         for document in documents]"
   ]
  },
  {
   "cell_type": "code",
   "execution_count": 33,
   "metadata": {},
   "outputs": [],
   "source": [
    "model = gensim.models.Word2Vec(texts, size=100, window=10, min_count=1, workers=2,sg=1)"
   ]
  },
  {
   "cell_type": "code",
   "execution_count": 34,
   "metadata": {},
   "outputs": [
    {
     "data": {
      "text/plain": [
       "[('00s,', <gensim.models.keyedvectors.Vocab at 0x1a22766400>),\n",
       " ('2008,', <gensim.models.keyedvectors.Vocab at 0x1a22766c50>),\n",
       " ('90s,', <gensim.models.keyedvectors.Vocab at 0x1a1d352ac8>),\n",
       " ('acoustic,', <gensim.models.keyedvectors.Vocab at 0x1a1d352b38>),\n",
       " ('acoustic', <gensim.models.keyedvectors.Vocab at 0x1a1d352b70>),\n",
       " ('rock,', <gensim.models.keyedvectors.Vocab at 0x1a1d352ba8>),\n",
       " ('alternative,', <gensim.models.keyedvectors.Vocab at 0x1a1d352be0>),\n",
       " ('alternative', <gensim.models.keyedvectors.Vocab at 0x1a1d352c18>),\n",
       " ('american,', <gensim.models.keyedvectors.Vocab at 0x1a1d352c50>),\n",
       " ('awesome,', <gensim.models.keyedvectors.Vocab at 0x1a1d352c88>),\n",
       " ('cute,', <gensim.models.keyedvectors.Vocab at 0x1a1d352cc0>),\n",
       " ('grunge,', <gensim.models.keyedvectors.Vocab at 0x1a1d352cf8>),\n",
       " ('guilty', <gensim.models.keyedvectors.Vocab at 0x1a1d352d30>),\n",
       " ('pleasure,', <gensim.models.keyedvectors.Vocab at 0x1a1d352d68>),\n",
       " ('hard', <gensim.models.keyedvectors.Vocab at 0x1a1d352da0>),\n",
       " ('love,', <gensim.models.keyedvectors.Vocab at 0x1a1d352dd8>),\n",
       " ('male', <gensim.models.keyedvectors.Vocab at 0x1a1d352e10>),\n",
       " ('vocalists,', <gensim.models.keyedvectors.Vocab at 0x1a1d352e48>),\n",
       " ('melancholic,', <gensim.models.keyedvectors.Vocab at 0x1a1d352e80>),\n",
       " ('great', <gensim.models.keyedvectors.Vocab at 0x1a1d352eb8>),\n",
       " ('tracks,', <gensim.models.keyedvectors.Vocab at 0x1a1d352ef0>),\n",
       " ('pop,', <gensim.models.keyedvectors.Vocab at 0x1a1d352f28>),\n",
       " ('post-grunge,', <gensim.models.keyedvectors.Vocab at 0x1a1d352f60>),\n",
       " ('prejebeno,', <gensim.models.keyedvectors.Vocab at 0x1a1d352f98>),\n",
       " ('punk,', <gensim.models.keyedvectors.Vocab at 0x1a1d352fd0>),\n",
       " ('romantic,', <gensim.models.keyedvectors.Vocab at 0x1a1d353048>),\n",
       " ('soft', <gensim.models.keyedvectors.Vocab at 0x1a1d353080>),\n",
       " ('soundtrack', <gensim.models.keyedvectors.Vocab at 0x1a1d3530b8>),\n",
       " ('<3,', <gensim.models.keyedvectors.Vocab at 0x1a1d3530f0>),\n",
       " ('addictive,', <gensim.models.keyedvectors.Vocab at 0x1a1d353128>),\n",
       " ('metal,', <gensim.models.keyedvectors.Vocab at 0x1a1d353160>),\n",
       " ('amazing,', <gensim.models.keyedvectors.Vocab at 0x1a1d353198>),\n",
       " ('beautiful,', <gensim.models.keyedvectors.Vocab at 0x1a1d3531d0>),\n",
       " ('cool,', <gensim.models.keyedvectors.Vocab at 0x1a1d353208>),\n",
       " ('cool', <gensim.models.keyedvectors.Vocab at 0x1a1d353240>),\n",
       " ('as,', <gensim.models.keyedvectors.Vocab at 0x1a1d353278>),\n",
       " ('cover,', <gensim.models.keyedvectors.Vocab at 0x1a1d3532b0>),\n",
       " ('electronic,', <gensim.models.keyedvectors.Vocab at 0x1a1d3532e8>),\n",
       " ('emo,', <gensim.models.keyedvectors.Vocab at 0x1a1d353320>),\n",
       " ('emocore,', <gensim.models.keyedvectors.Vocab at 0x1a1d353358>),\n",
       " ('epic,', <gensim.models.keyedvectors.Vocab at 0x1a1d353390>),\n",
       " ('fantastic,', <gensim.models.keyedvectors.Vocab at 0x1a1d3533c8>),\n",
       " ('favorite', <gensim.models.keyedvectors.Vocab at 0x1a1d353400>),\n",
       " ('bands,', <gensim.models.keyedvectors.Vocab at 0x1a1d353438>),\n",
       " ('favorites,', <gensim.models.keyedvectors.Vocab at 0x1a1d353470>),\n",
       " ('fucking', <gensim.models.keyedvectors.Vocab at 0x1a1d3534a8>),\n",
       " ('lyrics,', <gensim.models.keyedvectors.Vocab at 0x1a1d3534e0>),\n",
       " ('hip-hop,', <gensim.models.keyedvectors.Vocab at 0x1a1d353518>),\n",
       " ('indie,', <gensim.models.keyedvectors.Vocab at 0x1a1d353550>),\n",
       " ('jukebox', <gensim.models.keyedvectors.Vocab at 0x1a1d353588>),\n",
       " ('project,', <gensim.models.keyedvectors.Vocab at 0x1a1d3535c0>),\n",
       " ('love', <gensim.models.keyedvectors.Vocab at 0x1a1d3535f8>),\n",
       " ('first', <gensim.models.keyedvectors.Vocab at 0x1a1d353630>),\n",
       " ('listen,', <gensim.models.keyedvectors.Vocab at 0x1a1d353668>),\n",
       " ('perfect,', <gensim.models.keyedvectors.Vocab at 0x1a1d3536a0>),\n",
       " ('post-hardcore,', <gensim.models.keyedvectors.Vocab at 0x1a1d3536d8>),\n",
       " ('progressive', <gensim.models.keyedvectors.Vocab at 0x1a1d353710>),\n",
       " ('babe,', <gensim.models.keyedvectors.Vocab at 0x1a1d353748>),\n",
       " ('sad,', <gensim.models.keyedvectors.Vocab at 0x1a1d353780>),\n",
       " ('seen', <gensim.models.keyedvectors.Vocab at 0x1a1d3537b8>),\n",
       " ('live,', <gensim.models.keyedvectors.Vocab at 0x1a1d3537f0>),\n",
       " ('sexy,', <gensim.models.keyedvectors.Vocab at 0x1a1d353828>),\n",
       " ('singer-songwriter,', <gensim.models.keyedvectors.Vocab at 0x1a1d353860>),\n",
       " ('soundtrack,', <gensim.models.keyedvectors.Vocab at 0x1a1d353898>),\n",
       " ('space', <gensim.models.keyedvectors.Vocab at 0x1a1d3538d0>),\n",
       " ('specials', <gensim.models.keyedvectors.Vocab at 0x1a1d353908>),\n",
       " ('3mmey,', <gensim.models.keyedvectors.Vocab at 0x1a1d353940>),\n",
       " ('synth,', <gensim.models.keyedvectors.Vocab at 0x1a1d353978>),\n",
       " ('synthpop,', <gensim.models.keyedvectors.Vocab at 0x1a1d3539b0>),\n",
       " ('usa,', <gensim.models.keyedvectors.Vocab at 0x1a1d3539e8>),\n",
       " ('want', <gensim.models.keyedvectors.Vocab at 0x1a1d353a20>),\n",
       " ('see', <gensim.models.keyedvectors.Vocab at 0x1a1d353a58>),\n",
       " ('live', <gensim.models.keyedvectors.Vocab at 0x1a1d353a90>),\n",
       " ('10s,', <gensim.models.keyedvectors.Vocab at 0x1a1d353ac8>),\n",
       " ('2007,', <gensim.models.keyedvectors.Vocab at 0x1a1d353b00>),\n",
       " ('2009,', <gensim.models.keyedvectors.Vocab at 0x1a1d353b38>),\n",
       " ('2010,', <gensim.models.keyedvectors.Vocab at 0x1a1d353b70>),\n",
       " ('catchy,', <gensim.models.keyedvectors.Vocab at 0x1a1d353ba8>),\n",
       " ('dance,', <gensim.models.keyedvectors.Vocab at 0x1a1d353be0>),\n",
       " ('electro,', <gensim.models.keyedvectors.Vocab at 0x1a1d353c18>),\n",
       " ('electro', <gensim.models.keyedvectors.Vocab at 0x1a1d353c50>),\n",
       " ('electronica,', <gensim.models.keyedvectors.Vocab at 0x1a1d353c88>),\n",
       " ('electropop,', <gensim.models.keyedvectors.Vocab at 0x1a1d353cc0>),\n",
       " ('female', <gensim.models.keyedvectors.Vocab at 0x1a1d353cf8>),\n",
       " ('fun,', <gensim.models.keyedvectors.Vocab at 0x1a1d353d30>),\n",
       " ('gossip', <gensim.models.keyedvectors.Vocab at 0x1a1d353d68>),\n",
       " ('girl,', <gensim.models.keyedvectors.Vocab at 0x1a1d353da0>),\n",
       " ('heavy', <gensim.models.keyedvectors.Vocab at 0x1a1d353dd8>),\n",
       " ('hip', <gensim.models.keyedvectors.Vocab at 0x1a1d353e10>),\n",
       " ('hop,', <gensim.models.keyedvectors.Vocab at 0x1a1d353e48>),\n",
       " ('hot,', <gensim.models.keyedvectors.Vocab at 0x1a1d353e80>),\n",
       " ('it,', <gensim.models.keyedvectors.Vocab at 0x1a1d353eb8>),\n",
       " ('new', <gensim.models.keyedvectors.Vocab at 0x1a1d353ef0>),\n",
       " ('rave,', <gensim.models.keyedvectors.Vocab at 0x1a1d353f28>),\n",
       " ('oh', <gensim.models.keyedvectors.Vocab at 0x1a1d353f60>),\n",
       " ('party,', <gensim.models.keyedvectors.Vocab at 0x1a1d353f98>),\n",
       " ('powerpop,', <gensim.models.keyedvectors.Vocab at 0x1a1d353fd0>),\n",
       " ('rap,', <gensim.models.keyedvectors.Vocab at 0x1a1d354048>),\n",
       " ('remix,', <gensim.models.keyedvectors.Vocab at 0x1a1d354080>),\n",
       " ('vampire', <gensim.models.keyedvectors.Vocab at 0x1a1d3540b8>),\n",
       " ('diaries,', <gensim.models.keyedvectors.Vocab at 0x1a1d3540f0>),\n",
       " ('usa', <gensim.models.keyedvectors.Vocab at 0x1a1d354128>),\n",
       " ('club,', <gensim.models.keyedvectors.Vocab at 0x1a1d354160>),\n",
       " ('gangsta', <gensim.models.keyedvectors.Vocab at 0x1a1d354198>),\n",
       " ('b,', <gensim.models.keyedvectors.Vocab at 0x1a1d3541d0>),\n",
       " ('rnb,', <gensim.models.keyedvectors.Vocab at 0x1a1d354208>),\n",
       " ('sweet,', <gensim.models.keyedvectors.Vocab at 0x1a1d354240>),\n",
       " ('tight,', <gensim.models.keyedvectors.Vocab at 0x1a1d354278>),\n",
       " ('top', <gensim.models.keyedvectors.Vocab at 0x1a1d3542b0>),\n",
       " ('40', <gensim.models.keyedvectors.Vocab at 0x1a1d3542e8>),\n",
       " ('christian,', <gensim.models.keyedvectors.Vocab at 0x1a1d354320>),\n",
       " ('hardcore,', <gensim.models.keyedvectors.Vocab at 0x1a1d354358>),\n",
       " ('song,', <gensim.models.keyedvectors.Vocab at 0x1a1d354390>),\n",
       " ('instrumental,', <gensim.models.keyedvectors.Vocab at 0x1a1d3543c8>),\n",
       " ('melodic', <gensim.models.keyedvectors.Vocab at 0x1a1d354400>),\n",
       " ('metalcore,', <gensim.models.keyedvectors.Vocab at 0x1a1d354438>),\n",
       " ('screamo', <gensim.models.keyedvectors.Vocab at 0x1a1d354470>),\n",
       " ('90210,', <gensim.models.keyedvectors.Vocab at 0x1a1d3544a8>),\n",
       " ('chillout,', <gensim.models.keyedvectors.Vocab at 0x1a1d3544e0>),\n",
       " ('mellow,', <gensim.models.keyedvectors.Vocab at 0x1a1d354518>),\n",
       " ('melrose', <gensim.models.keyedvectors.Vocab at 0x1a1d354550>),\n",
       " ('place,', <gensim.models.keyedvectors.Vocab at 0x1a1d354588>),\n",
       " ('piano,', <gensim.models.keyedvectors.Vocab at 0x1a1d3545c0>),\n",
       " ('tbu,', <gensim.models.keyedvectors.Vocab at 0x1a1d3545f8>),\n",
       " ('diaries', <gensim.models.keyedvectors.Vocab at 0x1a1d354630>),\n",
       " ('better', <gensim.models.keyedvectors.Vocab at 0x1a1d354668>),\n",
       " ('metallica,', <gensim.models.keyedvectors.Vocab at 0x1a1d3546a0>),\n",
       " ('covers,', <gensim.models.keyedvectors.Vocab at 0x1a1d3546d8>),\n",
       " ('industrial,', <gensim.models.keyedvectors.Vocab at 0x1a1d354710>),\n",
       " ('melancholy,', <gensim.models.keyedvectors.Vocab at 0x1a1d354748>),\n",
       " ('post-rock,', <gensim.models.keyedvectors.Vocab at 0x1a1d354780>),\n",
       " ('powerful,', <gensim.models.keyedvectors.Vocab at 0x1a1d3547b8>),\n",
       " ('progressive,', <gensim.models.keyedvectors.Vocab at 0x1a1d3547f0>),\n",
       " ('experimental,', <gensim.models.keyedvectors.Vocab at 0x1a1d354828>),\n",
       " ('screamo,', <gensim.models.keyedvectors.Vocab at 0x1a1d354860>),\n",
       " ('singer-songwriter', <gensim.models.keyedvectors.Vocab at 0x1a1d354898>),\n",
       " ('1980s,', <gensim.models.keyedvectors.Vocab at 0x1a1d3548d0>),\n",
       " ('1981,', <gensim.models.keyedvectors.Vocab at 0x1a1d354908>),\n",
       " ('1982,', <gensim.models.keyedvectors.Vocab at 0x1a1d354940>),\n",
       " ('1992,', <gensim.models.keyedvectors.Vocab at 0x1a1d354978>),\n",
       " ('70s,', <gensim.models.keyedvectors.Vocab at 0x1a1d3549b0>),\n",
       " (\"80's,\", <gensim.models.keyedvectors.Vocab at 0x1a1d3549e8>),\n",
       " ('80s,', <gensim.models.keyedvectors.Vocab at 0x1a1d354a20>),\n",
       " ('80s', <gensim.models.keyedvectors.Vocab at 0x1a1d354a58>),\n",
       " ('brutal', <gensim.models.keyedvectors.Vocab at 0x1a1d354a90>),\n",
       " ('death', <gensim.models.keyedvectors.Vocab at 0x1a1d354ac8>),\n",
       " ('classic,', <gensim.models.keyedvectors.Vocab at 0x1a1d354b00>),\n",
       " ('classic', <gensim.models.keyedvectors.Vocab at 0x1a1d354b38>),\n",
       " ('dance-pop,', <gensim.models.keyedvectors.Vocab at 0x1a1d354b70>),\n",
       " ('disco,', <gensim.models.keyedvectors.Vocab at 0x1a1d354ba8>),\n",
       " ('dream', <gensim.models.keyedvectors.Vocab at 0x1a1d354be0>),\n",
       " ('happy,', <gensim.models.keyedvectors.Vocab at 0x1a1d354c18>),\n",
       " ('hit,', <gensim.models.keyedvectors.Vocab at 0x1a1d354c50>),\n",
       " ('legend,', <gensim.models.keyedvectors.Vocab at 0x1a1d354c88>),\n",
       " ('wave,', <gensim.models.keyedvectors.Vocab at 0x1a1d354cc0>),\n",
       " ('wave', <gensim.models.keyedvectors.Vocab at 0x1a1d354cf8>),\n",
       " ('eighties,', <gensim.models.keyedvectors.Vocab at 0x1a1d354d30>),\n",
       " ('old,', <gensim.models.keyedvectors.Vocab at 0x1a1d354d68>),\n",
       " ('oldies,', <gensim.models.keyedvectors.Vocab at 0x1a1d354da0>),\n",
       " ('pop-rock,', <gensim.models.keyedvectors.Vocab at 0x1a1d354dd8>),\n",
       " ('popular,', <gensim.models.keyedvectors.Vocab at 0x1a1d354e10>),\n",
       " ('swedish,', <gensim.models.keyedvectors.Vocab at 0x1a1d354e48>),\n",
       " ('1008,', <gensim.models.keyedvectors.Vocab at 0x1a1d354e80>),\n",
       " ('australian,', <gensim.models.keyedvectors.Vocab at 0x1a1d354eb8>),\n",
       " ('blues', <gensim.models.keyedvectors.Vocab at 0x1a1d354ef0>),\n",
       " ('fave,', <gensim.models.keyedvectors.Vocab at 0x1a1d354f28>),\n",
       " ('great,', <gensim.models.keyedvectors.Vocab at 0x1a1d354f60>),\n",
       " ('guitar,', <gensim.models.keyedvectors.Vocab at 0x1a1d354f98>),\n",
       " ('guitar', <gensim.models.keyedvectors.Vocab at 0x1a1d354fd0>),\n",
       " ('solo,', <gensim.models.keyedvectors.Vocab at 0x1a1d355048>),\n",
       " ('hard,', <gensim.models.keyedvectors.Vocab at 0x1a1d355080>),\n",
       " ('favorite,', <gensim.models.keyedvectors.Vocab at 0x1a1d3550b8>),\n",
       " ('roll,', <gensim.models.keyedvectors.Vocab at 0x1a1d3550f0>),\n",
       " ('n', <gensim.models.keyedvectors.Vocab at 0x1a1d355128>),\n",
       " ('sexy', <gensim.models.keyedvectors.Vocab at 0x1a1d355160>),\n",
       " ('favourites,', <gensim.models.keyedvectors.Vocab at 0x1a1d355198>),\n",
       " ('punk', <gensim.models.keyedvectors.Vocab at 0x1a1d3551d0>),\n",
       " ('remember', <gensim.models.keyedvectors.Vocab at 0x1a1d355208>),\n",
       " ('him,', <gensim.models.keyedvectors.Vocab at 0x1a1d355240>),\n",
       " (\"90's,\", <gensim.models.keyedvectors.Vocab at 0x1a1d355278>),\n",
       " ('christmas,', <gensim.models.keyedvectors.Vocab at 0x1a1d3552b0>),\n",
       " ('eurodance,', <gensim.models.keyedvectors.Vocab at 0x1a1d3552e8>),\n",
       " ('female,', <gensim.models.keyedvectors.Vocab at 0x1a1d355320>),\n",
       " ('vocalist,', <gensim.models.keyedvectors.Vocab at 0x1a1d355358>),\n",
       " ('house,', <gensim.models.keyedvectors.Vocab at 0x1a1d355390>),\n",
       " ('male,', <gensim.models.keyedvectors.Vocab at 0x1a1d3553c8>),\n",
       " ('singles,', <gensim.models.keyedvectors.Vocab at 0x1a1d355400>),\n",
       " ('swedish', <gensim.models.keyedvectors.Vocab at 0x1a1d355438>),\n",
       " ('american', <gensim.models.keyedvectors.Vocab at 0x1a1d355470>),\n",
       " ('idol,', <gensim.models.keyedvectors.Vocab at 0x1a1d3554a8>),\n",
       " ('ballad,', <gensim.models.keyedvectors.Vocab at 0x1a1d3554e0>),\n",
       " ('diva,', <gensim.models.keyedvectors.Vocab at 0x1a1d355518>),\n",
       " ('faves,', <gensim.models.keyedvectors.Vocab at 0x1a1d355550>),\n",
       " ('gay,', <gensim.models.keyedvectors.Vocab at 0x1a1d355588>),\n",
       " ('glam,', <gensim.models.keyedvectors.Vocab at 0x1a1d3555c0>),\n",
       " ('glam', <gensim.models.keyedvectors.Vocab at 0x1a1d3555f8>),\n",
       " ('brilliant,', <gensim.models.keyedvectors.Vocab at 0x1a1d355630>),\n",
       " ('british,', <gensim.models.keyedvectors.Vocab at 0x1a1d355668>),\n",
       " ('easy', <gensim.models.keyedvectors.Vocab at 0x1a1d3556a0>),\n",
       " ('listening,', <gensim.models.keyedvectors.Vocab at 0x1a1d3556d8>),\n",
       " ('folk,', <gensim.models.keyedvectors.Vocab at 0x1a1d355710>),\n",
       " ('indie', <gensim.models.keyedvectors.Vocab at 0x1a1d355748>),\n",
       " ('jazz,', <gensim.models.keyedvectors.Vocab at 0x1a1d355780>),\n",
       " ('lovely,', <gensim.models.keyedvectors.Vocab at 0x1a1d3557b8>),\n",
       " ('relax,', <gensim.models.keyedvectors.Vocab at 0x1a1d3557f0>),\n",
       " ('soul,', <gensim.models.keyedvectors.Vocab at 0x1a1d355828>),\n",
       " ('uk', <gensim.models.keyedvectors.Vocab at 0x1a1d355860>),\n",
       " ('britpop,', <gensim.models.keyedvectors.Vocab at 0x1a1d355898>),\n",
       " ('good', <gensim.models.keyedvectors.Vocab at 0x1a1d3558d0>),\n",
       " ('old', <gensim.models.keyedvectors.Vocab at 0x1a1d355908>),\n",
       " ('times,', <gensim.models.keyedvectors.Vocab at 0x1a1d355940>),\n",
       " ('school,', <gensim.models.keyedvectors.Vocab at 0x1a1d355978>),\n",
       " ('post-punk,', <gensim.models.keyedvectors.Vocab at 0x1a1d3559b0>),\n",
       " ('sex,', <gensim.models.keyedvectors.Vocab at 0x1a1d3559e8>),\n",
       " ('sick,', <gensim.models.keyedvectors.Vocab at 0x1a1d355a20>),\n",
       " ('summer', <gensim.models.keyedvectors.Vocab at 0x1a1d355a58>),\n",
       " ('40,', <gensim.models.keyedvectors.Vocab at 0x1a1d355a90>),\n",
       " ('u2', <gensim.models.keyedvectors.Vocab at 0x1a1d355ac8>),\n",
       " ('aana,', <gensim.models.keyedvectors.Vocab at 0x1a1d355b00>),\n",
       " ('alsolike,', <gensim.models.keyedvectors.Vocab at 0x1a1d355b38>),\n",
       " ('ambient,', <gensim.models.keyedvectors.Vocab at 0x1a1d355b70>),\n",
       " ('atmospheric,', <gensim.models.keyedvectors.Vocab at 0x1a1d355ba8>),\n",
       " ('dark,', <gensim.models.keyedvectors.Vocab at 0x1a1d355be0>),\n",
       " ('downtempo,', <gensim.models.keyedvectors.Vocab at 0x1a1d355c18>),\n",
       " ('dreamy,', <gensim.models.keyedvectors.Vocab at 0x1a1d355c50>),\n",
       " ('dub,', <gensim.models.keyedvectors.Vocab at 0x1a1d355c88>),\n",
       " ('english,', <gensim.models.keyedvectors.Vocab at 0x1a1d355cc0>),\n",
       " ('artist,', <gensim.models.keyedvectors.Vocab at 0x1a1d355cf8>),\n",
       " ('favourite', <gensim.models.keyedvectors.Vocab at 0x1a1d355d30>),\n",
       " ('songs,', <gensim.models.keyedvectors.Vocab at 0x1a1d355d68>),\n",
       " ('french,', <gensim.models.keyedvectors.Vocab at 0x1a1d355da0>),\n",
       " ('friends,', <gensim.models.keyedvectors.Vocab at 0x1a1d355dd8>),\n",
       " ('hypnotic,', <gensim.models.keyedvectors.Vocab at 0x1a1d355e10>),\n",
       " ('indietronica,', <gensim.models.keyedvectors.Vocab at 0x1a1d355e48>),\n",
       " ('lounge,', <gensim.models.keyedvectors.Vocab at 0x1a1d355e80>),\n",
       " ('feelings,', <gensim.models.keyedvectors.Vocab at 0x1a1d355eb8>),\n",
       " ('relaxing,', <gensim.models.keyedvectors.Vocab at 0x1a1d355ef0>),\n",
       " ('trip-hop,', <gensim.models.keyedvectors.Vocab at 0x1a1d355f28>),\n",
       " ('vocal', <gensim.models.keyedvectors.Vocab at 0x1a1d355f60>),\n",
       " ('dark', <gensim.models.keyedvectors.Vocab at 0x1a1d355f98>),\n",
       " ('japanese,', <gensim.models.keyedvectors.Vocab at 0x1a1d355fd0>),\n",
       " ('trip-hop', <gensim.models.keyedvectors.Vocab at 0x1a1d359048>),\n",
       " ('loved,', <gensim.models.keyedvectors.Vocab at 0x1a1d359080>),\n",
       " ('memories,', <gensim.models.keyedvectors.Vocab at 0x1a1d3590b8>),\n",
       " ('soul', <gensim.models.keyedvectors.Vocab at 0x1a1d3590f0>),\n",
       " ('canadian,', <gensim.models.keyedvectors.Vocab at 0x1a1d359128>),\n",
       " ('chill,', <gensim.models.keyedvectors.Vocab at 0x1a1d359160>),\n",
       " ('country,', <gensim.models.keyedvectors.Vocab at 0x1a1d359198>),\n",
       " ('emotional,', <gensim.models.keyedvectors.Vocab at 0x1a1d3591d0>),\n",
       " ('funny,', <gensim.models.keyedvectors.Vocab at 0x1a1d359208>),\n",
       " ('harmonies,', <gensim.models.keyedvectors.Vocab at 0x1a1d359240>),\n",
       " ('inlove,', <gensim.models.keyedvectors.Vocab at 0x1a1d359278>),\n",
       " ('nelly', <gensim.models.keyedvectors.Vocab at 0x1a1d3592b0>),\n",
       " ('furtado,', <gensim.models.keyedvectors.Vocab at 0x1a1d3592e8>),\n",
       " ('riot', <gensim.models.keyedvectors.Vocab at 0x1a1d359320>),\n",
       " ('grrrl,', <gensim.models.keyedvectors.Vocab at 0x1a1d359358>),\n",
       " ('singalong,', <gensim.models.keyedvectors.Vocab at 0x1a1d359390>),\n",
       " ('weekly', <gensim.models.keyedvectors.Vocab at 0x1a1d3593c8>),\n",
       " ('tracks', <gensim.models.keyedvectors.Vocab at 0x1a1d359400>),\n",
       " ('ohmydamn,', <gensim.models.keyedvectors.Vocab at 0x1a1d359438>),\n",
       " ('beyonce,', <gensim.models.keyedvectors.Vocab at 0x1a1d359470>),\n",
       " ('blues,', <gensim.models.keyedvectors.Vocab at 0x1a1d3594a8>),\n",
       " ('funk,', <gensim.models.keyedvectors.Vocab at 0x1a1d3594e0>),\n",
       " ('latin,', <gensim.models.keyedvectors.Vocab at 0x1a1d359518>),\n",
       " ('rhythm', <gensim.models.keyedvectors.Vocab at 0x1a1d359550>),\n",
       " ('urban,', <gensim.models.keyedvectors.Vocab at 0x1a1d359588>),\n",
       " ('thrash', <gensim.models.keyedvectors.Vocab at 0x1a1d3595c0>),\n",
       " ('metal', <gensim.models.keyedvectors.Vocab at 0x1a1d3595f8>),\n",
       " ('power', <gensim.models.keyedvectors.Vocab at 0x1a1d359630>),\n",
       " ('disney,', <gensim.models.keyedvectors.Vocab at 0x1a1d359668>),\n",
       " ('energetic,', <gensim.models.keyedvectors.Vocab at 0x1a1d3596a0>),\n",
       " ('memories', <gensim.models.keyedvectors.Vocab at 0x1a1d3596d8>),\n",
       " ('siss,', <gensim.models.keyedvectors.Vocab at 0x1a1d359710>),\n",
       " ('pleasures,', <gensim.models.keyedvectors.Vocab at 0x1a1d359748>),\n",
       " ('nice,', <gensim.models.keyedvectors.Vocab at 0x1a1d359780>),\n",
       " ('teen', <gensim.models.keyedvectors.Vocab at 0x1a1d3597b8>),\n",
       " ('4m4zinq,', <gensim.models.keyedvectors.Vocab at 0x1a1d3597f0>),\n",
       " ('trance,', <gensim.models.keyedvectors.Vocab at 0x1a1d359828>),\n",
       " ('underrated,', <gensim.models.keyedvectors.Vocab at 0x1a1d359860>),\n",
       " ('viking', <gensim.models.keyedvectors.Vocab at 0x1a1d359898>),\n",
       " ('genius,', <gensim.models.keyedvectors.Vocab at 0x1a1d3598d0>),\n",
       " ('ich', <gensim.models.keyedvectors.Vocab at 0x1a1d359908>),\n",
       " ('liebe', <gensim.models.keyedvectors.Vocab at 0x1a1d359940>),\n",
       " ('dich,', <gensim.models.keyedvectors.Vocab at 0x1a1d359978>),\n",
       " ('songs', <gensim.models.keyedvectors.Vocab at 0x1a1d3599b0>),\n",
       " ('absolutely', <gensim.models.keyedvectors.Vocab at 0x1a1d3599e8>),\n",
       " ('uk,', <gensim.models.keyedvectors.Vocab at 0x1a1d359a20>),\n",
       " ('brasil,', <gensim.models.keyedvectors.Vocab at 0x1a1d359a58>),\n",
       " ('brazil,', <gensim.models.keyedvectors.Vocab at 0x1a1d359a90>),\n",
       " ('brazilian,', <gensim.models.keyedvectors.Vocab at 0x1a1d359ac8>),\n",
       " ('brazilian', <gensim.models.keyedvectors.Vocab at 0x1a1d359b00>),\n",
       " ('music,', <gensim.models.keyedvectors.Vocab at 0x1a1d359b38>),\n",
       " ('britney', <gensim.models.keyedvectors.Vocab at 0x1a1d359b70>),\n",
       " ('spears,', <gensim.models.keyedvectors.Vocab at 0x1a1d359ba8>),\n",
       " ('mpb,', <gensim.models.keyedvectors.Vocab at 0x1a1d359be0>),\n",
       " ('latin', <gensim.models.keyedvectors.Vocab at 0x1a1d359c18>),\n",
       " ('sensual,', <gensim.models.keyedvectors.Vocab at 0x1a1d359c50>),\n",
       " ('techno,', <gensim.models.keyedvectors.Vocab at 0x1a1d359c88>),\n",
       " ('world', <gensim.models.keyedvectors.Vocab at 0x1a1d359cc0>),\n",
       " ('descoperiri,', <gensim.models.keyedvectors.Vocab at 0x1a1d359cf8>),\n",
       " ('doom', <gensim.models.keyedvectors.Vocab at 0x1a1d359d30>),\n",
       " ('post', <gensim.models.keyedvectors.Vocab at 0x1a1d359d68>),\n",
       " ('psychedelic', <gensim.models.keyedvectors.Vocab at 0x1a1d359da0>),\n",
       " ('christian', <gensim.models.keyedvectors.Vocab at 0x1a1d359dd8>),\n",
       " ('favourite,', <gensim.models.keyedvectors.Vocab at 0x1a1d359e10>),\n",
       " ('gospel,', <gensim.models.keyedvectors.Vocab at 0x1a1d359e48>),\n",
       " ('darkwave,', <gensim.models.keyedvectors.Vocab at 0x1a1d359e80>),\n",
       " ('ebm,', <gensim.models.keyedvectors.Vocab at 0x1a1d359eb8>),\n",
       " ('ethnic,', <gensim.models.keyedvectors.Vocab at 0x1a1d359ef0>),\n",
       " ('futurepop,', <gensim.models.keyedvectors.Vocab at 0x1a1d359f28>),\n",
       " ('german,', <gensim.models.keyedvectors.Vocab at 0x1a1d359f60>),\n",
       " ('gothic,', <gensim.models.keyedvectors.Vocab at 0x1a1d359f98>),\n",
       " ('psychedelic,', <gensim.models.keyedvectors.Vocab at 0x1a1d359fd0>),\n",
       " ('synth', <gensim.models.keyedvectors.Vocab at 0x1a1d35c048>),\n",
       " ('beowulfs', <gensim.models.keyedvectors.Vocab at 0x1a1d35c080>),\n",
       " ('choice,', <gensim.models.keyedvectors.Vocab at 0x1a1d35c0b8>),\n",
       " ('trance', <gensim.models.keyedvectors.Vocab at 0x1a1d35c0f0>),\n",
       " ('luv,', <gensim.models.keyedvectors.Vocab at 0x1a1d35c128>),\n",
       " ('avant-garde,', <gensim.models.keyedvectors.Vocab at 0x1a1d35c160>),\n",
       " ('awesome-ness,', <gensim.models.keyedvectors.Vocab at 0x1a1d35c198>),\n",
       " ('best', <gensim.models.keyedvectors.Vocab at 0x1a1d35c1d0>),\n",
       " ('song', <gensim.models.keyedvectors.Vocab at 0x1a1d35c208>),\n",
       " ('ever,', <gensim.models.keyedvectors.Vocab at 0x1a1d35c240>),\n",
       " ('check,', <gensim.models.keyedvectors.Vocab at 0x1a1d35c278>),\n",
       " ('idm,', <gensim.models.keyedvectors.Vocab at 0x1a1d35c2b0>),\n",
       " ('noise,', <gensim.models.keyedvectors.Vocab at 0x1a1d35c2e8>),\n",
       " ('noise', <gensim.models.keyedvectors.Vocab at 0x1a1d35c320>),\n",
       " ('ive', <gensim.models.keyedvectors.Vocab at 0x1a1d35c358>),\n",
       " ('obsessed', <gensim.models.keyedvectors.Vocab at 0x1a1d35c390>),\n",
       " ('breakcore,', <gensim.models.keyedvectors.Vocab at 0x1a1d35c3c8>),\n",
       " ('drone,', <gensim.models.keyedvectors.Vocab at 0x1a1d35c400>),\n",
       " ('drum', <gensim.models.keyedvectors.Vocab at 0x1a1d35c438>),\n",
       " ('bass,', <gensim.models.keyedvectors.Vocab at 0x1a1d35c470>),\n",
       " ('electroclash,', <gensim.models.keyedvectors.Vocab at 0x1a1d35c4a8>),\n",
       " ('england,', <gensim.models.keyedvectors.Vocab at 0x1a1d35c4e0>),\n",
       " ('iron', <gensim.models.keyedvectors.Vocab at 0x1a1d35c518>),\n",
       " ('jesus,', <gensim.models.keyedvectors.Vocab at 0x1a1d35c550>),\n",
       " ('minimal,', <gensim.models.keyedvectors.Vocab at 0x1a1d35c588>),\n",
       " ('ultimate', <gensim.models.keyedvectors.Vocab at 0x1a1d35c5c0>),\n",
       " ('classical,', <gensim.models.keyedvectors.Vocab at 0x1a1d35c5f8>),\n",
       " ('finnish,', <gensim.models.keyedvectors.Vocab at 0x1a1d35c630>),\n",
       " ('masterpiece,', <gensim.models.keyedvectors.Vocab at 0x1a1d35c668>),\n",
       " ('symphonic', <gensim.models.keyedvectors.Vocab at 0x1a1d35c6a0>),\n",
       " ('art', <gensim.models.keyedvectors.Vocab at 0x1a1d35c6d8>),\n",
       " ('ethereal,', <gensim.models.keyedvectors.Vocab at 0x1a1d35c710>),\n",
       " ('lo-fi,', <gensim.models.keyedvectors.Vocab at 0x1a1d35c748>),\n",
       " ('marisa', <gensim.models.keyedvectors.Vocab at 0x1a1d35c780>),\n",
       " ('mix,', <gensim.models.keyedvectors.Vocab at 0x1a1d35c7b8>),\n",
       " ('oui', <gensim.models.keyedvectors.Vocab at 0x1a1d35c7f0>),\n",
       " ('fm,', <gensim.models.keyedvectors.Vocab at 0x1a1d35c828>),\n",
       " ('over,', <gensim.models.keyedvectors.Vocab at 0x1a1d35c860>),\n",
       " ('fronted', <gensim.models.keyedvectors.Vocab at 0x1a1d35c898>),\n",
       " ('technical', <gensim.models.keyedvectors.Vocab at 0x1a1d35c8d0>),\n",
       " ('b-side,', <gensim.models.keyedvectors.Vocab at 0x1a1d35c908>),\n",
       " ('california,', <gensim.models.keyedvectors.Vocab at 0x1a1d35c940>),\n",
       " ('crazy,', <gensim.models.keyedvectors.Vocab at 0x1a1d35c978>),\n",
       " ('garage', <gensim.models.keyedvectors.Vocab at 0x1a1d35c9b0>),\n",
       " ('idolo,', <gensim.models.keyedvectors.Vocab at 0x1a1d35c9e8>),\n",
       " ('straight', <gensim.models.keyedvectors.Vocab at 0x1a1d35ca20>),\n",
       " ('modern', <gensim.models.keyedvectors.Vocab at 0x1a1d35ca58>),\n",
       " ('best,', <gensim.models.keyedvectors.Vocab at 0x1a1d35ca90>),\n",
       " ('anime,', <gensim.models.keyedvectors.Vocab at 0x1a1d35cac8>),\n",
       " ('vocals,', <gensim.models.keyedvectors.Vocab at 0x1a1d35cb00>),\n",
       " ('voices,', <gensim.models.keyedvectors.Vocab at 0x1a1d35cb38>),\n",
       " ('jet', <gensim.models.keyedvectors.Vocab at 0x1a1d35cb70>),\n",
       " ('set', <gensim.models.keyedvectors.Vocab at 0x1a1d35cba8>),\n",
       " ('radio', <gensim.models.keyedvectors.Vocab at 0x1a1d35cbe0>),\n",
       " ('future,', <gensim.models.keyedvectors.Vocab at 0x1a1d35cc18>),\n",
       " ('lpa,', <gensim.models.keyedvectors.Vocab at 0x1a1d35cc50>),\n",
       " ('melodic,', <gensim.models.keyedvectors.Vocab at 0x1a1d35cc88>),\n",
       " ('vocal,', <gensim.models.keyedvectors.Vocab at 0x1a1d35ccc0>),\n",
       " ('music', <gensim.models.keyedvectors.Vocab at 0x1a1d35ccf8>),\n",
       " ('girl', <gensim.models.keyedvectors.Vocab at 0x1a1d35cd30>),\n",
       " ('power,', <gensim.models.keyedvectors.Vocab at 0x1a1d35cd68>),\n",
       " ('nu', <gensim.models.keyedvectors.Vocab at 0x1a1d35cda0>),\n",
       " ('fav', <gensim.models.keyedvectors.Vocab at 0x1a1d35cdd8>),\n",
       " ('piano', <gensim.models.keyedvectors.Vocab at 0x1a1d35ce10>),\n",
       " ('k-pop,', <gensim.models.keyedvectors.Vocab at 0x1a1d35ce48>),\n",
       " ('korean,', <gensim.models.keyedvectors.Vocab at 0x1a1d35ce80>),\n",
       " ('rnb', <gensim.models.keyedvectors.Vocab at 0x1a1d35ceb8>),\n",
       " ('halloween,', <gensim.models.keyedvectors.Vocab at 0x1a1d35cef0>),\n",
       " ('single,', <gensim.models.keyedvectors.Vocab at 0x1a1d35cf28>),\n",
       " ('spanish,', <gensim.models.keyedvectors.Vocab at 0x1a1d35cf60>),\n",
       " ('alt-country,', <gensim.models.keyedvectors.Vocab at 0x1a1d35cf98>),\n",
       " ('folk', <gensim.models.keyedvectors.Vocab at 0x1a1d35cfd0>),\n",
       " ('shoegaze,', <gensim.models.keyedvectors.Vocab at 0x1a23bba048>),\n",
       " ('york,', <gensim.models.keyedvectors.Vocab at 0x1a23bba080>),\n",
       " ('babe', <gensim.models.keyedvectors.Vocab at 0x1a23bba0b8>),\n",
       " ('berep', <gensim.models.keyedvectors.Vocab at 0x1a23bba0f0>),\n",
       " ('shows', <gensim.models.keyedvectors.Vocab at 0x1a23bba128>),\n",
       " ('handclaps,', <gensim.models.keyedvectors.Vocab at 0x1a23bba160>),\n",
       " ('special,', <gensim.models.keyedvectors.Vocab at 0x1a23bba198>),\n",
       " ('tinosoft,', <gensim.models.keyedvectors.Vocab at 0x1a23bba1d0>),\n",
       " ('sweet', <gensim.models.keyedvectors.Vocab at 0x1a23bba208>),\n",
       " ('scottish,', <gensim.models.keyedvectors.Vocab at 0x1a23bba240>),\n",
       " ('sxsw2006,', <gensim.models.keyedvectors.Vocab at 0x1a23bba278>),\n",
       " ('twee', <gensim.models.keyedvectors.Vocab at 0x1a23bba2b0>),\n",
       " ('f4nt4stic,', <gensim.models.keyedvectors.Vocab at 0x1a23bba2e8>),\n",
       " ('madonna,', <gensim.models.keyedvectors.Vocab at 0x1a23bba320>),\n",
       " ('1995,', <gensim.models.keyedvectors.Vocab at 0x1a23bba358>),\n",
       " ('1996,', <gensim.models.keyedvectors.Vocab at 0x1a23bba390>),\n",
       " ('dreampop,', <gensim.models.keyedvectors.Vocab at 0x1a23bba3c8>),\n",
       " ('icelandic,', <gensim.models.keyedvectors.Vocab at 0x1a23bba400>),\n",
       " ('legends,', <gensim.models.keyedvectors.Vocab at 0x1a23bba438>),\n",
       " ('nostalgic,', <gensim.models.keyedvectors.Vocab at 0x1a23bba470>),\n",
       " ('truth,', <gensim.models.keyedvectors.Vocab at 0x1a23bba4a8>),\n",
       " ('southern', <gensim.models.keyedvectors.Vocab at 0x1a23bba4e0>),\n",
       " ('stoner', <gensim.models.keyedvectors.Vocab at 0x1a23bba518>),\n",
       " ('lol,', <gensim.models.keyedvectors.Vocab at 0x1a23bba550>),\n",
       " ('speed', <gensim.models.keyedvectors.Vocab at 0x1a23bba588>),\n",
       " ('asian,', <gensim.models.keyedvectors.Vocab at 0x1a23bba5c0>),\n",
       " ('j-pop,', <gensim.models.keyedvectors.Vocab at 0x1a23bba5f8>),\n",
       " ('jpop,', <gensim.models.keyedvectors.Vocab at 0x1a23bba630>),\n",
       " ('60s,', <gensim.models.keyedvectors.Vocab at 0x1a23bba668>),\n",
       " ('album', <gensim.models.keyedvectors.Vocab at 0x1a23bba6a0>),\n",
       " ('americana,', <gensim.models.keyedvectors.Vocab at 0x1a23bba6d8>),\n",
       " ('barrelhouse', <gensim.models.keyedvectors.Vocab at 0x1a23bba710>),\n",
       " ('jamaica,', <gensim.models.keyedvectors.Vocab at 0x1a23bba748>),\n",
       " ('jamaican,', <gensim.models.keyedvectors.Vocab at 0x1a23bba780>),\n",
       " ('reggae,', <gensim.models.keyedvectors.Vocab at 0x1a23bba7b8>),\n",
       " ('ska,', <gensim.models.keyedvectors.Vocab at 0x1a23bba7f0>),\n",
       " ('duets,', <gensim.models.keyedvectors.Vocab at 0x1a23bba828>),\n",
       " ('hair', <gensim.models.keyedvectors.Vocab at 0x1a23bba860>),\n",
       " ('listened', <gensim.models.keyedvectors.Vocab at 0x1a23bba898>),\n",
       " ('10', <gensim.models.keyedvectors.Vocab at 0x1a23bba8d0>),\n",
       " ('times', <gensim.models.keyedvectors.Vocab at 0x1a23bba908>),\n",
       " ('row,', <gensim.models.keyedvectors.Vocab at 0x1a23bba940>),\n",
       " ('duet,', <gensim.models.keyedvectors.Vocab at 0x1a23bba978>),\n",
       " ('justin', <gensim.models.keyedvectors.Vocab at 0x1a23bba9b0>),\n",
       " ('timberlake,', <gensim.models.keyedvectors.Vocab at 0x1a23bba9e8>),\n",
       " ('shit,', <gensim.models.keyedvectors.Vocab at 0x1a23bbaa20>),\n",
       " ('sad', <gensim.models.keyedvectors.Vocab at 0x1a23bbaa58>),\n",
       " ('barkbarkdisco,', <gensim.models.keyedvectors.Vocab at 0x1a23bbaa90>),\n",
       " ('deathcore,', <gensim.models.keyedvectors.Vocab at 0x1a23bbaac8>),\n",
       " ('christmas', <gensim.models.keyedvectors.Vocab at 0x1a23bbab00>),\n",
       " ('dubstep,', <gensim.models.keyedvectors.Vocab at 0x1a23bbab38>),\n",
       " ('bliss,', <gensim.models.keyedvectors.Vocab at 0x1a23bbab70>),\n",
       " ('nwobhm,', <gensim.models.keyedvectors.Vocab at 0x1a23bbaba8>),\n",
       " ('rain,', <gensim.models.keyedvectors.Vocab at 0x1a23bbabe0>),\n",
       " ('slowies,', <gensim.models.keyedvectors.Vocab at 0x1a23bbac18>),\n",
       " ('minimal', <gensim.models.keyedvectors.Vocab at 0x1a23bbac50>),\n",
       " ('synthpop', <gensim.models.keyedvectors.Vocab at 0x1a23bbac88>),\n",
       " ('dope,', <gensim.models.keyedvectors.Vocab at 0x1a23bbacc0>),\n",
       " ('phat,', <gensim.models.keyedvectors.Vocab at 0x1a23bbacf8>),\n",
       " ('urban', <gensim.models.keyedvectors.Vocab at 0x1a23bbad30>),\n",
       " ('bi', <gensim.models.keyedvectors.Vocab at 0x1a23bbad68>),\n",
       " ('daha', <gensim.models.keyedvectors.Vocab at 0x1a23bbada0>),\n",
       " ('dinlicem,', <gensim.models.keyedvectors.Vocab at 0x1a23bbadd8>),\n",
       " ('neon', <gensim.models.keyedvectors.Vocab at 0x1a23bbae10>),\n",
       " ('space,', <gensim.models.keyedvectors.Vocab at 0x1a23bbae48>),\n",
       " ('miserable,', <gensim.models.keyedvectors.Vocab at 0x1a23bbae80>),\n",
       " ('bossa', <gensim.models.keyedvectors.Vocab at 0x1a23bbaeb8>),\n",
       " ('nova,', <gensim.models.keyedvectors.Vocab at 0x1a23bbaef0>),\n",
       " ('composer,', <gensim.models.keyedvectors.Vocab at 0x1a23bbaf28>),\n",
       " ('black', <gensim.models.keyedvectors.Vocab at 0x1a23bbaf60>),\n",
       " ('swing,', <gensim.models.keyedvectors.Vocab at 0x1a23bbaf98>),\n",
       " ('smooth,', <gensim.models.keyedvectors.Vocab at 0x1a23bbafd0>),\n",
       " ('goth,', <gensim.models.keyedvectors.Vocab at 0x1a23bbd048>),\n",
       " ('summer,', <gensim.models.keyedvectors.Vocab at 0x1a23bbd080>),\n",
       " ('tbu', <gensim.models.keyedvectors.Vocab at 0x1a23bbd0b8>),\n",
       " ('underrated', <gensim.models.keyedvectors.Vocab at 0x1a23bbd0f0>),\n",
       " ('breathtaking,', <gensim.models.keyedvectors.Vocab at 0x1a23bbd128>),\n",
       " ('irish,', <gensim.models.keyedvectors.Vocab at 0x1a23bbd160>),\n",
       " ('post-hardcore', <gensim.models.keyedvectors.Vocab at 0x1a23bbd198>),\n",
       " ('chill', <gensim.models.keyedvectors.Vocab at 0x1a23bbd1d0>),\n",
       " ('zone,', <gensim.models.keyedvectors.Vocab at 0x1a23bbd208>),\n",
       " ('depeche', <gensim.models.keyedvectors.Vocab at 0x1a23bbd240>),\n",
       " ('mode,', <gensim.models.keyedvectors.Vocab at 0x1a23bbd278>),\n",
       " ('industrial', <gensim.models.keyedvectors.Vocab at 0x1a23bbd2b0>),\n",
       " ('proto-punk,', <gensim.models.keyedvectors.Vocab at 0x1a23bbd2e8>),\n",
       " ('gil,', <gensim.models.keyedvectors.Vocab at 0x1a23bbd320>),\n",
       " ('u2,', <gensim.models.keyedvectors.Vocab at 0x1a23bbd358>),\n",
       " ('shoegaze', <gensim.models.keyedvectors.Vocab at 0x1a23bbd390>),\n",
       " ('nu-metal,', <gensim.models.keyedvectors.Vocab at 0x1a23bbd3c8>),\n",
       " ('british', <gensim.models.keyedvectors.Vocab at 0x1a23bbd400>),\n",
       " ('artists,', <gensim.models.keyedvectors.Vocab at 0x1a23bbd438>),\n",
       " ('electro-industrial,', <gensim.models.keyedvectors.Vocab at 0x1a23bbd470>),\n",
       " ('age,', <gensim.models.keyedvectors.Vocab at 0x1a23bbd4a8>),\n",
       " ('tinosoft', <gensim.models.keyedvectors.Vocab at 0x1a23bbd4e0>),\n",
       " ('twilight,', <gensim.models.keyedvectors.Vocab at 0x1a23bbd518>),\n",
       " ('indietronica', <gensim.models.keyedvectors.Vocab at 0x1a23bbd550>),\n",
       " ('blend,', <gensim.models.keyedvectors.Vocab at 0x1a23bbd588>),\n",
       " ('50s,', <gensim.models.keyedvectors.Vocab at 0x1a23bbd5c0>),\n",
       " ('rockabilly,', <gensim.models.keyedvectors.Vocab at 0x1a23bbd5f8>),\n",
       " ('real', <gensim.models.keyedvectors.Vocab at 0x1a23bbd630>),\n",
       " ('talk,', <gensim.models.keyedvectors.Vocab at 0x1a23bbd668>),\n",
       " ('stuff,', <gensim.models.keyedvectors.Vocab at 0x1a23bbd6a0>),\n",
       " ('1991,', <gensim.models.keyedvectors.Vocab at 0x1a23bbd6d8>),\n",
       " ('italian,', <gensim.models.keyedvectors.Vocab at 0x1a23bbd710>),\n",
       " ('celtic,', <gensim.models.keyedvectors.Vocab at 0x1a23bbd748>),\n",
       " ('college', <gensim.models.keyedvectors.Vocab at 0x1a23bbd780>),\n",
       " ('gothic', <gensim.models.keyedvectors.Vocab at 0x1a23bbd7b8>),\n",
       " ('ska', <gensim.models.keyedvectors.Vocab at 0x1a23bbd7f0>),\n",
       " ('swing', <gensim.models.keyedvectors.Vocab at 0x1a23bbd828>),\n",
       " ('virtuoso,', <gensim.models.keyedvectors.Vocab at 0x1a23bbd860>),\n",
       " ('visual', <gensim.models.keyedvectors.Vocab at 0x1a23bbd898>),\n",
       " ('kei', <gensim.models.keyedvectors.Vocab at 0x1a23bbd8d0>),\n",
       " ('techno', <gensim.models.keyedvectors.Vocab at 0x1a23bbd908>),\n",
       " ('roll', <gensim.models.keyedvectors.Vocab at 0x1a23bbd940>),\n",
       " ('eldad,', <gensim.models.keyedvectors.Vocab at 0x1a23bbd978>),\n",
       " ('french', <gensim.models.keyedvectors.Vocab at 0x1a23bbd9b0>),\n",
       " ('norwegian,', <gensim.models.keyedvectors.Vocab at 0x1a23bbd9e8>),\n",
       " ('groove', <gensim.models.keyedvectors.Vocab at 0x1a23bbda20>),\n",
       " ('worship', <gensim.models.keyedvectors.Vocab at 0x1a23bbda58>),\n",
       " ('comedy,', <gensim.models.keyedvectors.Vocab at 0x1a23bbda90>),\n",
       " ('rapcore,', <gensim.models.keyedvectors.Vocab at 0x1a23bbdac8>),\n",
       " ('3mmey', <gensim.models.keyedvectors.Vocab at 0x1a23bbdb00>),\n",
       " ('film', <gensim.models.keyedvectors.Vocab at 0x1a23bbdb38>),\n",
       " ('twilight', <gensim.models.keyedvectors.Vocab at 0x1a23bbdb70>),\n",
       " ('russian,', <gensim.models.keyedvectors.Vocab at 0x1a23bbdba8>),\n",
       " ('brasil', <gensim.models.keyedvectors.Vocab at 0x1a23bbdbe0>),\n",
       " ('choice', <gensim.models.keyedvectors.Vocab at 0x1a23bbdc18>),\n",
       " ('chanson', <gensim.models.keyedvectors.Vocab at 0x1a23bbdc50>),\n",
       " ('francaise,', <gensim.models.keyedvectors.Vocab at 0x1a23bbdc88>),\n",
       " ('garage,', <gensim.models.keyedvectors.Vocab at 0x1a23bbdcc0>),\n",
       " ('acid', <gensim.models.keyedvectors.Vocab at 0x1a23bbdcf8>),\n",
       " ('spanish', <gensim.models.keyedvectors.Vocab at 0x1a23bbdd30>),\n",
       " ('deutsch,', <gensim.models.keyedvectors.Vocab at 0x1a23bbdd68>),\n",
       " ('edge', <gensim.models.keyedvectors.Vocab at 0x1a23bbdda0>),\n",
       " ('romantic', <gensim.models.keyedvectors.Vocab at 0x1a23bbddd8>),\n",
       " ('special', <gensim.models.keyedvectors.Vocab at 0x1a23bbde10>),\n",
       " ('grindcore', <gensim.models.keyedvectors.Vocab at 0x1a23bbde48>),\n",
       " ('russian', <gensim.models.keyedvectors.Vocab at 0x1a23bbde80>),\n",
       " ('j-rock,', <gensim.models.keyedvectors.Vocab at 0x1a23bbdeb8>)]"
      ]
     },
     "execution_count": 34,
     "metadata": {},
     "output_type": "execute_result"
    }
   ],
   "source": [
    "list(model.wv.vocab.items())"
   ]
  },
  {
   "cell_type": "code",
   "execution_count": 35,
   "metadata": {},
   "outputs": [
    {
     "data": {
      "text/plain": [
       "524"
      ]
     },
     "execution_count": 35,
     "metadata": {},
     "output_type": "execute_result"
    }
   ],
   "source": [
    "len(model.wv.vocab.items())"
   ]
  },
  {
   "cell_type": "code",
   "execution_count": 36,
   "metadata": {},
   "outputs": [
    {
     "name": "stderr",
     "output_type": "stream",
     "text": [
      "/Users/brianmcmahon/anaconda3/envs/recommender/lib/python3.6/site-packages/ipykernel_launcher.py:1: DeprecationWarning: Call to deprecated `most_similar` (Method will be removed in 4.0.0, use self.wv.most_similar() instead).\n",
      "  \"\"\"Entry point for launching an IPython kernel.\n"
     ]
    },
    {
     "data": {
      "text/plain": [
       "[('thrash', 0.9982171058654785),\n",
       " ('speed', 0.9947659373283386),\n",
       " ('symphonic', 0.9876517057418823),\n",
       " ('nu-metal,', 0.9724788069725037),\n",
       " ('swedish,', 0.9712650775909424),\n",
       " ('screamo,', 0.9695255756378174),\n",
       " ('hard,', 0.9659373164176941),\n",
       " ('metalcore,', 0.9653059244155884)]"
      ]
     },
     "execution_count": 36,
     "metadata": {},
     "output_type": "execute_result"
    }
   ],
   "source": [
    "model.most_similar('metal',topn=8)"
   ]
  },
  {
   "cell_type": "code",
   "execution_count": 37,
   "metadata": {},
   "outputs": [
    {
     "name": "stderr",
     "output_type": "stream",
     "text": [
      "/Users/brianmcmahon/anaconda3/envs/recommender/lib/python3.6/site-packages/ipykernel_launcher.py:1: DeprecationWarning: Call to deprecated `most_similar` (Method will be removed in 4.0.0, use self.wv.most_similar() instead).\n",
      "  \"\"\"Entry point for launching an IPython kernel.\n"
     ]
    },
    {
     "data": {
      "text/plain": [
       "[('soul,', 0.9972522258758545),\n",
       " ('summer', 0.9942619800567627),\n",
       " ('stuff,', 0.9912292957305908),\n",
       " ('sexy,', 0.9876088500022888),\n",
       " ('sick,', 0.9848453402519226),\n",
       " ('spanish,', 0.9838817715644836),\n",
       " ('smooth,', 0.9780517816543579),\n",
       " ('urban', 0.9772648811340332)]"
      ]
     },
     "execution_count": 37,
     "metadata": {},
     "output_type": "execute_result"
    }
   ],
   "source": [
    "model.most_similar('teen',topn=8)"
   ]
  },
  {
   "cell_type": "code",
   "execution_count": 38,
   "metadata": {},
   "outputs": [
    {
     "name": "stderr",
     "output_type": "stream",
     "text": [
      "/Users/brianmcmahon/anaconda3/envs/recommender/lib/python3.6/site-packages/ipykernel_launcher.py:1: DeprecationWarning: Call to deprecated `most_similar` (Method will be removed in 4.0.0, use self.wv.most_similar() instead).\n",
      "  \"\"\"Entry point for launching an IPython kernel.\n"
     ]
    },
    {
     "data": {
      "text/plain": [
       "[('1992,', 0.9968644380569458),\n",
       " (\"80's,\", 0.9965742826461792),\n",
       " ('1996,', 0.9965567588806152),\n",
       " ('1982,', 0.9959334135055542),\n",
       " ('album', 0.9957320690155029),\n",
       " ('1995,', 0.9949973821640015),\n",
       " ('1991,', 0.9945552945137024),\n",
       " ('1981,', 0.9945305585861206)]"
      ]
     },
     "execution_count": 38,
     "metadata": {},
     "output_type": "execute_result"
    }
   ],
   "source": [
    "model.most_similar('80s',topn=8)"
   ]
  },
  {
   "cell_type": "code",
   "execution_count": 39,
   "metadata": {},
   "outputs": [
    {
     "name": "stderr",
     "output_type": "stream",
     "text": [
      "/Users/brianmcmahon/anaconda3/envs/recommender/lib/python3.6/site-packages/ipykernel_launcher.py:1: DeprecationWarning: Call to deprecated `most_similar` (Method will be removed in 4.0.0, use self.wv.most_similar() instead).\n",
      "  \"\"\"Entry point for launching an IPython kernel.\n"
     ]
    },
    {
     "data": {
      "text/plain": [
       "[('edge', 0.9962887763977051),\n",
       " ('jamaican,', 0.9952756762504578),\n",
       " ('babe', 0.9949397444725037),\n",
       " ('swing', 0.9943405985832214),\n",
       " ('3mmey', 0.9919180870056152),\n",
       " ('twee', 0.9916608333587646),\n",
       " ('shoegaze', 0.9915663003921509),\n",
       " ('special', 0.9909287691116333)]"
      ]
     },
     "execution_count": 39,
     "metadata": {},
     "output_type": "execute_result"
    }
   ],
   "source": [
    "model.most_similar('romantic',topn=8)"
   ]
  },
  {
   "cell_type": "code",
   "execution_count": 40,
   "metadata": {},
   "outputs": [
    {
     "name": "stderr",
     "output_type": "stream",
     "text": [
      "/Users/brianmcmahon/anaconda3/envs/recommender/lib/python3.6/site-packages/ipykernel_launcher.py:1: DeprecationWarning: Call to deprecated `similarity` (Method will be removed in 4.0.0, use self.wv.similarity() instead).\n",
      "  \"\"\"Entry point for launching an IPython kernel.\n"
     ]
    },
    {
     "data": {
      "text/plain": [
       "0.5023764148937672"
      ]
     },
     "execution_count": 40,
     "metadata": {},
     "output_type": "execute_result"
    }
   ],
   "source": [
    "model.similarity('techno','metal')"
   ]
  },
  {
   "cell_type": "code",
   "execution_count": null,
   "metadata": {
    "collapsed": true
   },
   "outputs": [],
   "source": []
  },
  {
   "cell_type": "code",
   "execution_count": null,
   "metadata": {
    "collapsed": true
   },
   "outputs": [],
   "source": []
  },
  {
   "cell_type": "code",
   "execution_count": null,
   "metadata": {
    "collapsed": true
   },
   "outputs": [],
   "source": []
  },
  {
   "cell_type": "markdown",
   "metadata": {},
   "source": [
    "### pyLDAvis"
   ]
  },
  {
   "cell_type": "code",
   "execution_count": 41,
   "metadata": {},
   "outputs": [
    {
     "name": "stdout",
     "output_type": "stream",
     "text": [
      "(505, 264)\n"
     ]
    }
   ],
   "source": [
    "tf_vectorizer = CountVectorizer(strip_accents = 'unicode',\n",
    "                                stop_words = 'english',\n",
    "                                lowercase = True,\n",
    "                                token_pattern = r'\\b[a-zA-Z]{3,}\\b',\n",
    "                                max_df = 0.5, \n",
    "                                min_df = 10)\n",
    "dtm_tf = tf_vectorizer.fit_transform(data)\n",
    "print(dtm_tf.shape)"
   ]
  },
  {
   "cell_type": "code",
   "execution_count": 42,
   "metadata": {},
   "outputs": [
    {
     "name": "stderr",
     "output_type": "stream",
     "text": [
      "/Users/brianmcmahon/anaconda3/envs/recommender/lib/python3.6/site-packages/sklearn/decomposition/online_lda.py:294: DeprecationWarning: n_topics has been renamed to n_components in version 0.19 and will be removed in 0.21\n",
      "  DeprecationWarning)\n",
      "/Users/brianmcmahon/anaconda3/envs/recommender/lib/python3.6/site-packages/sklearn/decomposition/online_lda.py:536: DeprecationWarning: The default value for 'learning_method' will be changed from 'online' to 'batch' in the release 0.20. This warning was introduced in 0.18.\n",
      "  DeprecationWarning)\n"
     ]
    },
    {
     "data": {
      "text/plain": [
       "LatentDirichletAllocation(batch_size=128, doc_topic_prior=None,\n",
       "             evaluate_every=-1, learning_decay=0.7, learning_method=None,\n",
       "             learning_offset=10.0, max_doc_update_iter=100, max_iter=10,\n",
       "             mean_change_tol=0.001, n_components=10, n_jobs=1, n_topics=6,\n",
       "             perp_tol=0.1, random_state=42, topic_word_prior=None,\n",
       "             total_samples=1000000.0, verbose=0)"
      ]
     },
     "execution_count": 42,
     "metadata": {},
     "output_type": "execute_result"
    }
   ],
   "source": [
    "lda_tf = LatentDirichletAllocation(n_topics=n_topics, random_state=seed)\n",
    "lda_tf.fit(dtm_tf)"
   ]
  },
  {
   "cell_type": "code",
   "execution_count": 43,
   "metadata": {},
   "outputs": [
    {
     "name": "stderr",
     "output_type": "stream",
     "text": [
      "/Users/brianmcmahon/anaconda3/envs/recommender/lib/python3.6/site-packages/pyLDAvis/_prepare.py:257: FutureWarning: Sorting because non-concatenation axis is not aligned. A future version\n",
      "of pandas will change to not sort by default.\n",
      "\n",
      "To accept the future behavior, pass 'sort=False'.\n",
      "\n",
      "To retain the current behavior and silence the warning, pass 'sort=True'.\n",
      "\n",
      "  return pd.concat([default_term_info] + list(topic_dfs))\n"
     ]
    },
    {
     "data": {
      "text/html": [
       "\n",
       "<link rel=\"stylesheet\" type=\"text/css\" href=\"https://cdn.rawgit.com/bmabey/pyLDAvis/files/ldavis.v1.0.0.css\">\n",
       "\n",
       "\n",
       "<div id=\"ldavis_el125881122697120249771319627\"></div>\n",
       "<script type=\"text/javascript\">\n",
       "\n",
       "var ldavis_el125881122697120249771319627_data = {\"mdsDat\": {\"x\": [-0.08635926810943016, 0.07356974039679798, -0.18360957188678848, -0.029227769623316222, 0.26353383737114505, -0.03790696814840786], \"y\": [0.10941821787101101, 0.058659027733112906, 0.0942355404115117, -0.09424732079660618, 0.04415727247907825, -0.21222273769810793], \"topics\": [1, 2, 3, 4, 5, 6], \"cluster\": [1, 1, 1, 1, 1, 1], \"Freq\": [28.55110593498777, 22.748677514242473, 14.10170696120558, 12.987614440933786, 12.927516227731662, 8.68337892089874]}, \"tinfo\": {\"Category\": [\"Default\", \"Default\", \"Default\", \"Default\", \"Default\", \"Default\", \"Default\", \"Default\", \"Default\", \"Default\", \"Default\", \"Default\", \"Default\", \"Default\", \"Default\", \"Default\", \"Default\", \"Default\", \"Default\", \"Default\", \"Default\", \"Default\", \"Default\", \"Default\", \"Default\", \"Default\", \"Default\", \"Default\", \"Default\", \"Default\", \"Topic1\", \"Topic1\", \"Topic1\", \"Topic1\", \"Topic1\", \"Topic1\", \"Topic1\", \"Topic1\", \"Topic1\", \"Topic1\", \"Topic1\", \"Topic1\", \"Topic1\", \"Topic1\", \"Topic1\", \"Topic1\", \"Topic1\", \"Topic1\", \"Topic1\", \"Topic1\", \"Topic1\", \"Topic1\", \"Topic1\", \"Topic1\", \"Topic1\", \"Topic1\", \"Topic1\", \"Topic1\", \"Topic1\", \"Topic1\", \"Topic1\", \"Topic1\", \"Topic1\", \"Topic1\", \"Topic1\", \"Topic1\", \"Topic1\", \"Topic1\", \"Topic1\", \"Topic1\", \"Topic1\", \"Topic1\", \"Topic1\", \"Topic1\", \"Topic1\", \"Topic1\", \"Topic1\", \"Topic1\", \"Topic1\", \"Topic1\", \"Topic1\", \"Topic1\", \"Topic1\", \"Topic1\", \"Topic1\", \"Topic1\", \"Topic1\", \"Topic1\", \"Topic1\", \"Topic2\", \"Topic2\", \"Topic2\", \"Topic2\", \"Topic2\", \"Topic2\", \"Topic2\", \"Topic2\", \"Topic2\", \"Topic2\", \"Topic2\", \"Topic2\", \"Topic2\", \"Topic2\", \"Topic2\", \"Topic2\", \"Topic2\", \"Topic2\", \"Topic2\", \"Topic2\", \"Topic2\", \"Topic2\", \"Topic2\", \"Topic2\", \"Topic2\", \"Topic2\", \"Topic2\", \"Topic2\", \"Topic2\", \"Topic2\", \"Topic2\", \"Topic2\", \"Topic2\", \"Topic2\", \"Topic2\", \"Topic2\", \"Topic2\", \"Topic2\", \"Topic2\", \"Topic2\", \"Topic2\", \"Topic2\", \"Topic2\", \"Topic2\", \"Topic2\", \"Topic2\", \"Topic2\", \"Topic2\", \"Topic2\", \"Topic2\", \"Topic2\", \"Topic2\", \"Topic2\", \"Topic2\", \"Topic3\", \"Topic3\", \"Topic3\", \"Topic3\", \"Topic3\", \"Topic3\", \"Topic3\", \"Topic3\", \"Topic3\", \"Topic3\", \"Topic3\", \"Topic3\", \"Topic3\", \"Topic3\", \"Topic3\", \"Topic3\", \"Topic3\", \"Topic3\", \"Topic3\", \"Topic3\", \"Topic3\", \"Topic3\", \"Topic3\", \"Topic3\", \"Topic3\", \"Topic3\", \"Topic3\", \"Topic3\", \"Topic3\", \"Topic3\", \"Topic3\", \"Topic3\", \"Topic3\", \"Topic3\", \"Topic3\", \"Topic3\", \"Topic3\", \"Topic3\", \"Topic3\", \"Topic3\", \"Topic3\", \"Topic3\", \"Topic3\", \"Topic3\", \"Topic3\", \"Topic3\", \"Topic3\", \"Topic3\", \"Topic3\", \"Topic3\", \"Topic4\", \"Topic4\", \"Topic4\", \"Topic4\", \"Topic4\", \"Topic4\", \"Topic4\", \"Topic4\", \"Topic4\", \"Topic4\", \"Topic4\", \"Topic4\", \"Topic4\", \"Topic4\", \"Topic4\", \"Topic4\", \"Topic4\", \"Topic4\", \"Topic4\", \"Topic4\", \"Topic4\", \"Topic4\", \"Topic4\", \"Topic4\", \"Topic4\", \"Topic4\", \"Topic4\", \"Topic4\", \"Topic4\", \"Topic4\", \"Topic4\", \"Topic4\", \"Topic4\", \"Topic4\", \"Topic4\", \"Topic4\", \"Topic4\", \"Topic4\", \"Topic4\", \"Topic4\", \"Topic4\", \"Topic4\", \"Topic4\", \"Topic4\", \"Topic4\", \"Topic4\", \"Topic4\", \"Topic5\", \"Topic5\", \"Topic5\", \"Topic5\", \"Topic5\", \"Topic5\", \"Topic5\", \"Topic5\", \"Topic5\", \"Topic5\", \"Topic5\", \"Topic5\", \"Topic5\", \"Topic5\", \"Topic5\", \"Topic5\", \"Topic5\", \"Topic5\", \"Topic5\", \"Topic5\", \"Topic5\", \"Topic5\", \"Topic5\", \"Topic5\", \"Topic5\", \"Topic5\", \"Topic5\", \"Topic5\", \"Topic5\", \"Topic5\", \"Topic5\", \"Topic5\", \"Topic5\", \"Topic5\", \"Topic5\", \"Topic5\", \"Topic5\", \"Topic5\", \"Topic5\", \"Topic5\", \"Topic5\", \"Topic5\", \"Topic5\", \"Topic5\", \"Topic5\", \"Topic5\", \"Topic6\", \"Topic6\", \"Topic6\", \"Topic6\", \"Topic6\", \"Topic6\", \"Topic6\", \"Topic6\", \"Topic6\", \"Topic6\", \"Topic6\", \"Topic6\", \"Topic6\", \"Topic6\", \"Topic6\", \"Topic6\", \"Topic6\", \"Topic6\", \"Topic6\", \"Topic6\", \"Topic6\", \"Topic6\", \"Topic6\", \"Topic6\", \"Topic6\", \"Topic6\", \"Topic6\", \"Topic6\", \"Topic6\", \"Topic6\", \"Topic6\", \"Topic6\", \"Topic6\", \"Topic6\", \"Topic6\", \"Topic6\", \"Topic6\", \"Topic6\", \"Topic6\", \"Topic6\", \"Topic6\", \"Topic6\"], \"Freq\": [391.0, 415.0, 462.0, 157.0, 140.0, 247.0, 117.0, 106.0, 122.0, 206.0, 59.0, 188.0, 98.0, 72.0, 99.0, 105.0, 61.0, 144.0, 122.0, 134.0, 99.0, 38.0, 89.0, 61.0, 95.0, 40.0, 77.0, 67.0, 90.0, 72.0, 18.290845338834437, 13.587161012584668, 18.44734748752277, 18.45041110535542, 18.429767961819575, 18.394751232176397, 22.408800074831134, 13.183720690415145, 25.381526615790012, 19.60058205315224, 11.822818203880718, 15.523021978164813, 32.75383107378127, 25.87796788166492, 30.182997392621843, 28.64744928924169, 35.68841838444443, 66.75047040473002, 32.93321146636653, 9.517948426911527, 14.942705357531135, 14.105270563460257, 14.077499676683997, 30.477906827280872, 316.6641903303848, 18.03068948573436, 110.09143779067962, 40.85877428449275, 74.79218327648535, 23.16768172685247, 75.69819535111311, 38.680465827324326, 32.608114678497536, 28.459697120627343, 56.544323535856705, 32.472375136394646, 91.16352158613776, 64.93095350219176, 74.9386117834526, 68.67359365257148, 68.61578917050517, 60.362094451863534, 66.83718915200416, 85.42003648662563, 65.45445394598772, 36.47600666346684, 39.869837170255934, 40.01551512619921, 58.19127963859581, 43.26476560740442, 48.25510519595147, 54.24114262544086, 37.31182148885966, 38.33367072397792, 40.47536811894286, 40.994735205671745, 37.539318219028694, 37.63749029755761, 38.38199893806878, 18.065713730018302, 21.22366691902437, 16.980497616111226, 16.96487335421522, 16.957788605229563, 19.763217211923944, 26.00042411437683, 11.490510596330127, 23.82408873650212, 23.807806693897795, 85.2763607947248, 13.092239932722705, 20.778329473169954, 74.664630169077, 204.09808482293911, 23.70684910593201, 42.338244086970086, 26.745761286989286, 8.955267106105072, 100.81757810471115, 19.23681064247506, 17.480327173638777, 17.448845710574624, 17.822859062273704, 45.45745925326469, 11.392469542985097, 11.393166005990777, 16.523719790967057, 6.9050296968803835, 33.51473104055172, 110.25697392322826, 273.02141888407095, 117.6987720727726, 88.92538168641046, 50.0382639648648, 90.72281542585871, 31.879548568399844, 83.17045430100737, 50.26575495775067, 30.95436435642766, 47.384254031534034, 46.26390250797466, 42.56986365508951, 36.634221847447954, 42.333504631721084, 35.839090644309444, 36.06842637818461, 35.890341920601244, 32.48601495833114, 32.77762355301734, 31.920493224747787, 32.1584106960526, 31.35451579269797, 31.480624296963295, 22.984943168421147, 22.980065162586108, 38.68547616339823, 92.85055844336902, 108.28858671631187, 18.705253023035034, 18.69282128279572, 15.840257044198323, 12.948627058589706, 21.264143697121373, 7.738761447847841, 28.040965080956685, 7.667126912013561, 9.615094651522615, 18.62282304979968, 36.335710902726966, 21.854431258467454, 22.454870676265116, 4.645978242476726, 16.687221108873956, 19.131889092675063, 39.46759909575751, 4.35836782427175, 5.782029649113401, 11.794902396595093, 5.715667799683922, 5.592850907069524, 5.581392215122602, 22.456557418865252, 74.26934233969723, 15.656042136042615, 42.08979708996971, 46.57886180640261, 43.38237874361412, 57.09191240376222, 24.559767991791794, 90.01830035903797, 95.23162518223693, 36.74093775272969, 23.12802410339487, 28.32672401704026, 28.260261079843218, 31.654174779944537, 30.22400277981481, 25.322765775016606, 26.44638611271152, 23.098694854810795, 23.716086812473044, 22.71325556643689, 22.003634744558173, 20.211755669339038, 20.20349426486105, 18.61409117716418, 14.227419172434628, 15.003050767415095, 18.983041021191216, 59.64575639873764, 39.0060616035614, 16.26054667339859, 13.403103981691185, 18.168552080098294, 10.955847353326817, 14.322023975464946, 24.072872155267426, 11.78153150889382, 22.6613282599932, 12.615817564921688, 17.241456959663765, 64.36211224712217, 35.26281630612538, 16.122823139162453, 40.70681828073713, 12.410851386556073, 6.341677471267994, 24.165591228627303, 10.966138576815869, 8.81039463856641, 17.24524934125744, 38.22525379369195, 20.951120724343678, 49.47726020564028, 36.600786201194005, 33.55940876504337, 63.1843550392345, 37.91573124083556, 42.93301699130531, 38.605825134756756, 53.27314269343189, 38.57894320185627, 25.204710491031424, 24.59503143448149, 26.85477487239726, 24.42822870454461, 19.027659939642522, 20.158849656887114, 21.257342447739852, 20.47731444886124, 384.1525866099142, 58.59122138989872, 38.9491250450008, 19.408411252077677, 16.595379881832724, 18.16162263525819, 12.715932267234729, 9.897713620934914, 8.407953922248407, 18.946433741892612, 87.41680565042653, 7.419814473467291, 31.93222526411112, 12.986445831941921, 11.640666873221987, 23.81395521924404, 52.786461419814664, 35.45946891474571, 9.153744587834156, 12.864897520320865, 8.276637502365558, 22.401289996861358, 4.857409820204209, 18.61424554473834, 7.045094326982258, 9.794761536304994, 9.777403978546666, 23.492081449167564, 7.314766857953601, 7.306817910693814, 50.41345423584108, 8.379501714112676, 31.189471711408252, 48.53560186277378, 19.589018323631354, 25.431202782225775, 37.14122230237887, 42.030770886827476, 36.344620294042585, 23.922993776640766, 26.012666957918785, 18.088638669743382, 18.74479704717275, 17.999476468475855, 16.308699839667348, 17.683461283935397, 28.995064089938342, 14.413316404547032, 14.407334189131232, 35.007705398785085, 9.815318609912156, 15.733681644805309, 18.692908278353965, 19.261483165941538, 19.734717720937766, 39.65561961133278, 71.89144534796439, 28.768255641378712, 93.32203568308249, 9.892346821452973, 14.189437816162739, 7.956618821319066, 11.755116119644338, 15.82503986578651, 12.888569862303767, 6.275900804424236, 26.749124047965235, 4.781279435457346, 12.751767805334156, 15.601041570215157, 44.89661672095631, 6.4280037954006195, 6.067846458366823, 24.986398051750733, 25.95422592941751, 9.991325498291161, 23.70308259671944, 38.97586759845659, 32.27022953374247, 25.225815784495992, 16.01652927209997, 21.31306455089499, 14.668953751236575, 16.919873720086645, 17.523468624506346, 15.864596957905647, 14.693212170839912, 14.328615579620864], \"Term\": [\"metal\", \"female\", \"indie\", \"new\", \"hop\", \"punk\", \"wave\", \"hip\", \"hard\", \"dance\", \"heavy\", \"electronic\", \"progressive\", \"ambient\", \"hardcore\", \"experimental\", \"synthpop\", \"post\", \"catchy\", \"british\", \"electro\", \"synth\", \"electronica\", \"remix\", \"instrumental\", \"death\", \"rnb\", \"roll\", \"emo\", \"psychedelic\", \"vocals\", \"disney\", \"set\", \"jet\", \"radio\", \"future\", \"siss\", \"idol\", \"teen\", \"voices\", \"spanish\", \"hit\", \"diva\", \"lpa\", \"weekly\", \"latin\", \"pleasure\", \"guilty\", \"emotional\", \"miserable\", \"nice\", \"listening\", \"easy\", \"pleasures\", \"female\", \"loved\", \"vocalist\", \"memories\", \"ballad\", \"country\", \"catchy\", \"soul\", \"christmas\", \"legend\", \"great\", \"cute\", \"dance\", \"sexy\", \"american\", \"singer\", \"songwriter\", \"best\", \"amazing\", \"songs\", \"favorites\", \"power\", \"rnb\", \"covers\", \"beautiful\", \"piano\", \"listen\", \"awesome\", \"romantic\", \"sad\", \"electronic\", \"seen\", \"soundtrack\", \"mellow\", \"indie\", \"emocore\", \"garage\", \"liebe\", \"dich\", \"ich\", \"luv\", \"screamo\", \"remember\", \"jukebox\", \"project\", \"hardcore\", \"ness\", \"christian\", \"emo\", \"punk\", \"idolo\", \"grunge\", \"fantastic\", \"gil\", \"post\", \"straight\", \"obsessed\", \"ive\", \"modern\", \"britpop\", \"mix\", \"marisa\", \"oui\", \"ska\", \"soft\", \"acoustic\", \"indie\", \"awesome\", \"male\", \"folk\", \"songs\", \"fucking\", \"seen\", \"cool\", \"roll\", \"favorites\", \"american\", \"beautiful\", \"cover\", \"favorite\", \"best\", \"singer\", \"songwriter\", \"sad\", \"listen\", \"hard\", \"classic\", \"soundtrack\", \"amazing\", \"place\", \"melrose\", \"rap\", \"hip\", \"hop\", \"vampire\", \"diaries\", \"indietronica\", \"duet\", \"gossip\", \"crazy\", \"urban\", \"beyonce\", \"madonna\", \"party\", \"rnb\", \"electropop\", \"girl\", \"feelings\", \"house\", \"hot\", \"electro\", \"harmonies\", \"furtado\", \"good\", \"nelly\", \"timberlake\", \"justin\", \"sweet\", \"dance\", \"addictive\", \"catchy\", \"listen\", \"sexy\", \"electronic\", \"fun\", \"female\", \"indie\", \"amazing\", \"electronica\", \"singer\", \"songwriter\", \"male\", \"seen\", \"chillout\", \"awesome\", \"mellow\", \"american\", \"cool\", \"beautiful\", \"garde\", \"avant\", \"artist\", \"idm\", \"shoegaze\", \"downtempo\", \"ambient\", \"dreamy\", \"ethereal\", \"art\", \"aana\", \"descoperiri\", \"noise\", \"melancholy\", \"classical\", \"trip\", \"special\", \"hypnotic\", \"experimental\", \"atmospheric\", \"dream\", \"psychedelic\", \"ultimate\", \"friends\", \"brilliant\", \"dark\", \"space\", \"relax\", \"instrumental\", \"genius\", \"chillout\", \"progressive\", \"electronica\", \"favorite\", \"mellow\", \"electronic\", \"beautiful\", \"indie\", \"songs\", \"piano\", \"epic\", \"new\", \"post\", \"chill\", \"soundtrack\", \"seen\", \"awesome\", \"metal\", \"heavy\", \"death\", \"thrash\", \"symphonic\", \"solo\", \"speed\", \"hair\", \"school\", \"metalcore\", \"hard\", \"album\", \"guitar\", \"prejebeno\", \"powerful\", \"gothic\", \"progressive\", \"roll\", \"halloween\", \"masterpiece\", \"swedish\", \"melodic\", \"german\", \"glam\", \"ohmydamn\", \"better\", \"metallica\", \"power\", \"listened\", \"row\", \"classic\", \"lyrics\", \"cover\", \"seen\", \"psychedelic\", \"epic\", \"favorite\", \"awesome\", \"male\", \"great\", \"american\", \"covers\", \"instrumental\", \"usa\", \"melancholic\", \"cool\", \"artists\", \"beowulfs\", \"choice\", \"synth\", \"electroclash\", \"eighties\", \"dub\", \"slowies\", \"single\", \"synthpop\", \"wave\", \"fav\", \"new\", \"trance\", \"techno\", \"college\", \"faves\", \"disco\", \"bands\", \"england\", \"remix\", \"german\", \"industrial\", \"gothic\", \"british\", \"rain\", \"space\", \"electronica\", \"electro\", \"house\", \"instrumental\", \"electronic\", \"dance\", \"favorites\", \"romantic\", \"favorite\", \"experimental\", \"male\", \"songs\", \"seen\", \"cover\", \"best\"], \"Total\": [391.0, 415.0, 462.0, 157.0, 140.0, 247.0, 117.0, 106.0, 122.0, 206.0, 59.0, 188.0, 98.0, 72.0, 99.0, 105.0, 61.0, 144.0, 122.0, 134.0, 99.0, 38.0, 89.0, 61.0, 95.0, 40.0, 77.0, 67.0, 90.0, 72.0, 19.45913489470916, 14.607489538571853, 19.8607320677716, 19.865834113760094, 19.87135049404774, 19.86970570631665, 24.370977249181585, 14.502561461620402, 28.025987212394796, 21.681519387592175, 13.11563642457015, 17.307815592739306, 37.786659306880146, 29.942746966481995, 35.21566424929216, 33.42524905336181, 43.135616039712424, 81.69278688687575, 40.794025706856246, 11.829734746375244, 18.739214465700275, 17.898321130420307, 17.89782393203626, 39.67588779767136, 415.1871835448224, 23.825182294912914, 149.5889461785634, 55.54639544333188, 106.33115331175507, 33.43533084076659, 122.75697191486077, 59.927760643059834, 49.46834224194908, 42.42085576599726, 105.97842432860314, 51.907839653991644, 206.75690278453413, 137.8271634477149, 172.07759537239022, 155.78929787204444, 155.80584430732478, 135.41466451676678, 168.16506568486923, 255.29110562826128, 173.8094004713043, 63.78776013823473, 77.11271461865043, 81.32194714431313, 178.22249863553952, 102.12370113879747, 138.39857102785206, 266.58708628092313, 86.12611429227758, 111.22586974541403, 188.73216320444652, 240.0467335549132, 125.69436085342161, 131.9581227722289, 462.8081561081281, 18.994809663498597, 22.37469024817384, 18.27438571208272, 18.27308497047438, 18.27853925238267, 21.804817377833626, 28.753423973282057, 12.97720605176318, 27.263730338596798, 27.261155307776846, 99.37380780357923, 15.597805167849959, 24.96120161732183, 90.11467856908477, 247.75382494031757, 28.823700168827898, 53.32080359578894, 34.964976147039344, 12.510566437526029, 144.72556116841417, 28.63720377407704, 26.4295375784182, 26.429050263076533, 27.629280488040386, 72.41262623092648, 18.227687808406746, 18.229094129020012, 26.504389298745078, 11.100851310409606, 54.635472848713405, 183.08586882571558, 462.8081561081281, 266.58708628092313, 210.35948210864322, 103.87343976256817, 255.29110562826128, 61.616279713033904, 240.0467335549132, 134.61465999568895, 67.9236530561572, 173.8094004713043, 172.07759537239022, 178.22249863553952, 122.630770635816, 210.75430261792985, 135.41466451676678, 155.78929787204444, 155.80584430732478, 111.22586974541403, 138.39857102785206, 122.32286213791278, 138.70786302853898, 125.69436085342161, 168.16506568486923, 24.52354261447045, 24.5239152408231, 44.089146420906204, 106.52576542505258, 140.23951149106725, 26.497660486560058, 26.495163158636956, 22.615689761549877, 19.96761419801914, 33.21452146560417, 13.460493628176339, 49.2944377444261, 14.748912902863252, 19.653491790317283, 38.90583407013983, 77.11271461865043, 47.15633706650102, 51.23707081531661, 10.77457684409173, 39.55947894496083, 46.55980042387945, 99.72718389982089, 11.628910348170582, 15.64281979702599, 32.122619610272636, 15.646261160388383, 15.330080985117744, 15.332018309553854, 62.345826246516765, 206.75690278453413, 43.96049354534359, 122.75697191486077, 138.39857102785206, 137.8271634477149, 188.73216320444652, 78.15000653326558, 415.1871835448224, 462.8081561081281, 168.16506568486923, 89.76904776723637, 155.78929787204444, 155.80584430732478, 210.35948210864322, 240.0467335549132, 134.39315539958287, 266.58708628092313, 131.9581227722289, 172.07759537239022, 134.61465999568895, 178.22249863553952, 21.504903648032275, 21.505724113587338, 19.819014179008743, 15.563498009056197, 17.678538222301846, 22.766050755295492, 72.51876011907025, 49.32833903663183, 22.2544537674214, 18.675548637559647, 25.37660269157446, 15.747763321555297, 20.974935245897893, 35.880619635365925, 17.708860212692734, 35.61671019183475, 19.914800321550693, 27.23212011882004, 105.54688602016337, 58.380800321105184, 28.08421755729655, 72.9532774013441, 24.15083229080483, 13.196542994693987, 53.708898394729715, 25.141583800386723, 21.275025696804512, 42.36604259817293, 95.75450873820391, 52.76412852155765, 134.39315539958287, 98.44154339355669, 89.76904776723637, 210.75430261792985, 131.9581227722289, 188.73216320444652, 178.22249863553952, 462.8081561081281, 255.29110562826128, 102.12370113879747, 104.28206679191119, 157.16597808059788, 144.72556116841417, 61.46107891461932, 125.69436085342161, 240.0467335549132, 266.58708628092313, 391.5722217310086, 59.75721777321877, 40.27277059691187, 20.346248515641257, 17.50769967868113, 19.2524332705723, 13.627857580119, 10.796567294326774, 10.440627794527861, 26.218887663902322, 122.32286213791278, 11.00826326881132, 47.99187628173463, 19.886015733608023, 19.177399905262426, 42.29625370158073, 98.44154339355669, 67.9236530561572, 18.093576534004633, 25.43542959267422, 17.0342123548632, 47.365307714286594, 11.666990205163234, 48.14633269953507, 18.3515330074492, 25.524101306564173, 25.533995597080416, 63.78776013823473, 20.062076204672547, 20.061895650606775, 138.70786302853898, 23.568647161329665, 122.630770635816, 240.0467335549132, 72.9532774013441, 104.28206679191119, 210.75430261792985, 266.58708628092313, 210.35948210864322, 105.97842432860314, 172.07759537239022, 81.32194714431313, 95.75450873820391, 85.30408205849717, 59.761351633704734, 134.61465999568895, 30.113643062061037, 15.66016270770504, 15.664951718435393, 38.510344922325395, 10.900757241627483, 17.850090282911694, 23.035304227052958, 24.287111124589703, 25.09173867913017, 61.333800674852334, 117.3087305055117, 47.4277486013166, 157.16597808059788, 17.011960675211206, 24.451901491701364, 14.119103713183922, 21.61725418718066, 31.04982469867867, 25.51274038278447, 12.441801293119603, 61.80931937322829, 11.666990205163234, 31.659401578583605, 42.29625370158073, 134.95772063364498, 19.684649072308197, 21.275025696804512, 89.76904776723637, 99.72718389982089, 39.55947894496083, 95.75450873820391, 188.73216320444652, 206.75690278453413, 173.8094004713043, 86.12611429227758, 210.75430261792985, 105.54688602016337, 210.35948210864322, 255.29110562826128, 240.0467335549132, 122.630770635816, 135.41466451676678], \"loglift\": [30.0, 29.0, 28.0, 27.0, 26.0, 25.0, 24.0, 23.0, 22.0, 21.0, 20.0, 19.0, 18.0, 17.0, 16.0, 15.0, 14.0, 13.0, 12.0, 11.0, 10.0, 9.0, 8.0, 7.0, 6.0, 5.0, 4.0, 3.0, 2.0, 1.0, 1.1916, 1.1811, 1.1797, 1.1796, 1.1782, 1.1763, 1.1695, 1.1581, 1.1544, 1.1526, 1.1497, 1.1446, 1.1105, 1.1076, 1.0993, 1.0992, 1.064, 1.0515, 1.0394, 1.036, 1.0271, 1.0153, 1.0134, 0.9897, 0.9826, 0.9748, 0.9469, 0.9464, 0.9016, 0.8866, 0.77, 0.8157, 0.8367, 0.8543, 0.6253, 0.7844, 0.4346, 0.5008, 0.4222, 0.4343, 0.4334, 0.4455, 0.3308, 0.1587, 0.2769, 0.6946, 0.5938, 0.5443, 0.1342, 0.3946, 0.1998, -0.3388, 0.417, 0.1882, -0.2862, -0.5139, 0.045, -0.001, -1.2362, 1.4305, 1.4278, 1.4072, 1.4064, 1.4057, 1.3824, 1.38, 1.359, 1.3458, 1.3452, 1.3277, 1.3056, 1.2973, 1.2926, 1.2868, 1.2852, 1.25, 1.2127, 1.1463, 1.1191, 1.0828, 1.0673, 1.0655, 1.0423, 1.0151, 1.0107, 1.0107, 1.0081, 1.0059, 0.992, 0.9735, 0.9529, 0.6631, 0.6196, 0.7503, 0.4461, 0.8217, 0.4207, 0.4956, 0.6948, 0.181, 0.1671, 0.0488, 0.2725, -0.1245, 0.1514, 0.0176, 0.0125, 0.2499, 0.0403, 0.1372, 0.019, 0.0922, -0.1949, 1.8941, 1.8939, 1.8281, 1.8215, 1.7003, 1.6106, 1.6101, 1.6028, 1.5258, 1.5129, 1.4054, 1.3947, 1.3046, 1.244, 1.2221, 1.2064, 1.1898, 1.1339, 1.1177, 1.0957, 1.0695, 1.0319, 0.9775, 0.9636, 0.957, 0.9519, 0.9505, 0.9484, 0.9378, 0.935, 0.9264, 0.8885, 0.8699, 0.8029, 0.7632, 0.8014, 0.4302, 0.3779, 0.4378, 0.6027, 0.2542, 0.2517, 0.0649, -0.1133, 0.2898, -0.3517, 0.2162, -0.0229, 0.1794, -0.133, 1.9792, 1.9787, 1.9785, 1.9514, 1.8771, 1.8594, 1.8458, 1.8064, 1.7274, 1.7094, 1.707, 1.6783, 1.6596, 1.6421, 1.6336, 1.589, 1.5847, 1.5841, 1.5465, 1.537, 1.4862, 1.4578, 1.3754, 1.3084, 1.2425, 1.2115, 1.1596, 1.1424, 1.1229, 1.1175, 1.0419, 1.0518, 1.0573, 0.8365, 0.7941, 0.5605, 0.5115, -0.1207, 0.1515, 0.642, 0.5966, 0.2743, 0.2621, 0.8687, 0.211, -0.383, -0.5252, 2.0267, 2.0261, 2.0124, 1.9986, 1.9923, 1.9875, 1.9766, 1.9589, 1.8293, 1.7209, 1.7098, 1.6513, 1.6384, 1.6197, 1.5466, 1.4714, 1.4226, 1.3958, 1.3644, 1.3642, 1.324, 1.297, 1.1696, 1.0955, 1.0884, 1.088, 1.0859, 1.0469, 1.0369, 1.0358, 1.0337, 1.0117, 0.6767, 0.4473, 0.731, 0.6347, 0.3098, 0.1985, 0.29, 0.5574, 0.1565, 0.5427, 0.4149, 0.4899, 0.7472, 0.016, 2.4059, 2.3608, 2.3601, 2.3484, 2.3389, 2.3176, 2.2349, 2.2119, 2.2036, 2.0077, 1.9541, 1.9438, 1.9225, 1.9016, 1.8995, 1.8702, 1.8346, 1.7698, 1.7609, 1.7594, 1.6062, 1.5517, 1.5344, 1.4464, 1.3432, 1.3246, 1.1892, 1.1649, 1.0977, 1.0677, 1.0476, 0.8664, 0.5864, 0.5137, 0.7616, 0.1524, 0.4703, -0.0766, -0.2351, -0.273, 0.322, 0.1977], \"logprob\": [30.0, 29.0, 28.0, 27.0, 26.0, 25.0, 24.0, 23.0, 22.0, 21.0, 20.0, 19.0, 18.0, 17.0, 16.0, 15.0, 14.0, 13.0, 12.0, 11.0, 10.0, 9.0, 8.0, 7.0, 6.0, 5.0, 4.0, 3.0, 2.0, 1.0, -5.4348, -5.7321, -5.4263, -5.4262, -5.4273, -5.4292, -5.2318, -5.7623, -5.1072, -5.3657, -5.8712, -5.5989, -4.8522, -5.0879, -4.934, -4.9862, -4.7664, -4.1403, -4.8468, -6.0881, -5.637, -5.6947, -5.6967, -4.9242, -2.5834, -5.4492, -3.6399, -4.6311, -4.0265, -5.1985, -4.0145, -4.6859, -4.8567, -4.9928, -4.3062, -4.8609, -3.8286, -4.1679, -4.0246, -4.1119, -4.1127, -4.2409, -4.139, -3.8937, -4.1599, -4.7446, -4.6556, -4.652, -4.2775, -4.5739, -4.4647, -4.3478, -4.7219, -4.6949, -4.6405, -4.6278, -4.7159, -4.7132, -4.6937, -5.22, -5.0589, -5.282, -5.2829, -5.2833, -5.1302, -4.8559, -5.6725, -4.9434, -4.944, -3.6682, -5.542, -5.0801, -3.801, -2.7955, -4.9483, -4.3684, -4.8277, -5.9218, -3.5007, -5.1572, -5.253, -5.2548, -5.2336, -4.2973, -5.6811, -5.681, -5.3093, -6.1818, -4.6021, -3.4112, -2.5045, -3.3459, -3.6263, -4.2013, -3.6062, -4.6521, -3.6932, -4.1967, -4.6815, -4.2558, -4.2797, -4.3629, -4.5131, -4.3685, -4.535, -4.5286, -4.5336, -4.6332, -4.6243, -4.6508, -4.6434, -4.6687, -4.6647, -4.501, -4.5012, -3.9804, -3.1049, -2.951, -4.707, -4.7077, -4.8733, -5.0749, -4.5788, -5.5896, -4.3022, -5.5989, -5.3725, -4.7115, -4.043, -4.5514, -4.5243, -6.0998, -4.8212, -4.6845, -3.9604, -6.1637, -5.8811, -5.1682, -5.8926, -5.9144, -5.9164, -4.5243, -3.3281, -4.885, -3.896, -3.7947, -3.8658, -3.5912, -4.4347, -3.1358, -3.0795, -4.032, -4.4948, -4.292, -4.2944, -4.181, -4.2272, -4.4041, -4.3607, -4.4961, -4.4697, -4.5129, -4.5446, -4.5473, -4.5477, -4.6296, -4.8984, -4.8453, -4.61, -3.4651, -3.8898, -4.7648, -4.9581, -4.6539, -5.1597, -4.8917, -4.3725, -5.087, -4.4329, -5.0186, -4.7062, -3.389, -3.9907, -4.7733, -3.8471, -5.035, -5.7064, -4.3686, -5.1587, -5.3776, -4.706, -3.91, -4.5114, -3.652, -3.9535, -4.0402, -3.4075, -3.9182, -3.7939, -3.9001, -3.5781, -3.9008, -4.3265, -4.351, -4.2631, -4.3578, -4.6077, -4.5499, -4.4968, -4.5342, -1.5979, -3.4783, -3.8866, -4.5832, -4.7398, -4.6496, -5.0061, -5.2566, -5.4197, -4.6073, -3.0782, -5.5448, -4.0853, -4.985, -5.0944, -4.3786, -3.5827, -3.9805, -5.3347, -4.9944, -5.4355, -4.4398, -5.9684, -4.625, -5.5966, -5.2671, -5.2688, -4.3922, -5.559, -5.5601, -3.6286, -5.4231, -4.1088, -3.6666, -4.5739, -4.3129, -3.9342, -3.8105, -3.9559, -4.3741, -4.2903, -4.6536, -4.618, -4.6586, -4.7572, -4.6763, -3.7838, -4.4828, -4.4832, -3.5954, -4.867, -4.3952, -4.2228, -4.1929, -4.1686, -3.4707, -2.8758, -3.7917, -2.6149, -4.8592, -4.4985, -5.077, -4.6867, -4.3894, -4.5946, -5.3142, -3.8645, -5.5863, -4.6053, -4.4036, -3.3466, -5.2903, -5.348, -3.9326, -3.8946, -4.8492, -3.9854, -3.488, -3.6768, -3.9231, -4.3773, -4.0916, -4.4652, -4.3225, -4.2874, -4.3869, -4.4636, -4.4887]}, \"token.table\": {\"Topic\": [2, 4, 6, 1, 2, 3, 4, 5, 6, 1, 2, 3, 4, 5, 2, 5, 6, 1, 2, 3, 4, 5, 6, 1, 3, 4, 6, 1, 2, 3, 4, 5, 4, 5, 4, 6, 1, 2, 3, 4, 5, 6, 4, 1, 2, 3, 4, 5, 6, 1, 2, 3, 4, 5, 6, 1, 2, 4, 6, 1, 2, 3, 4, 5, 6, 6, 1, 2, 3, 4, 5, 6, 2, 4, 5, 1, 3, 1, 2, 3, 4, 6, 1, 2, 3, 4, 5, 6, 1, 2, 3, 4, 6, 1, 2, 3, 4, 1, 2, 3, 4, 1, 2, 3, 4, 5, 6, 6, 1, 2, 5, 1, 2, 5, 6, 1, 2, 3, 4, 5, 6, 1, 4, 6, 2, 6, 1, 2, 3, 4, 5, 6, 1, 2, 3, 5, 1, 2, 3, 4, 5, 6, 1, 2, 3, 4, 5, 6, 1, 2, 3, 5, 1, 2, 3, 1, 2, 3, 4, 5, 6, 1, 3, 4, 5, 6, 2, 5, 2, 4, 6, 2, 3, 2, 1, 3, 6, 1, 1, 3, 1, 3, 4, 1, 3, 4, 1, 2, 3, 4, 2, 4, 6, 1, 3, 1, 3, 4, 6, 1, 3, 4, 6, 6, 1, 2, 3, 4, 5, 6, 1, 2, 3, 4, 6, 1, 3, 6, 1, 2, 3, 5, 2, 1, 2, 4, 5, 1, 4, 6, 1, 2, 3, 4, 5, 6, 1, 4, 5, 6, 1, 2, 3, 4, 5, 6, 2, 3, 5, 1, 2, 4, 5, 6, 1, 2, 4, 5, 6, 1, 2, 3, 4, 5, 6, 1, 2, 3, 4, 5, 6, 3, 4, 6, 1, 2, 3, 4, 5, 6, 1, 2, 3, 4, 1, 2, 4, 5, 1, 2, 4, 5, 1, 2, 3, 4, 6, 1, 3, 1, 3, 2, 4, 1, 2, 3, 4, 5, 2, 5, 6, 2, 5, 1, 2, 3, 4, 1, 3, 4, 5, 6, 1, 2, 3, 5, 1, 2, 3, 4, 1, 5, 6, 1, 2, 3, 4, 5, 6, 1, 2, 5, 6, 1, 2, 3, 5, 6, 1, 2, 3, 4, 5, 5, 1, 2, 5, 6, 1, 2, 5, 2, 5, 1, 3, 5, 1, 3, 4, 1, 6, 1, 3, 4, 1, 3, 6, 1, 3, 5, 6, 1, 3, 4, 5, 6, 2, 4, 1, 2, 3, 6, 1, 2, 3, 4, 5, 6, 3, 4, 4, 5, 6, 1, 2, 3, 4, 5, 6, 2, 3, 4, 1, 2, 4, 5, 1, 3, 1, 3, 1, 4, 5, 6, 2, 1, 2, 3, 4, 1, 2, 3, 4, 5, 1, 3, 1, 2, 3, 1, 3, 5, 2, 3, 1, 3, 5, 6, 1, 3, 1, 2, 3, 4, 5, 6, 2, 4, 5, 1, 2, 4, 5, 1, 2, 4, 5, 6, 1, 4, 5, 6, 1, 2, 3, 4, 5, 6, 1, 2, 5, 6, 2, 3, 1, 2, 3, 4, 5, 1, 2, 5, 2, 5, 2, 4, 5, 1, 2, 2, 4, 5, 1, 2, 4, 1, 3, 2, 3, 1, 2, 3, 4, 5, 6, 1, 3, 2, 4, 6, 2, 4, 2, 4, 5, 1, 2, 3, 4, 1, 3, 5, 6, 1, 2, 3, 4, 5, 6, 2, 3, 1, 2, 3, 1, 2, 5, 6, 1, 2, 4, 5, 6, 1, 2, 3, 5, 1, 5, 1, 2, 5, 2, 4, 5, 2, 4, 1, 2, 3, 4, 5, 1, 2, 3, 4, 5, 6, 1, 1, 2, 4, 5, 6, 1, 3, 4, 1, 2, 3, 4, 2, 3, 1, 3, 6, 1, 3, 2, 4, 5, 1, 2, 3, 4, 5, 6, 1, 2, 3, 4, 5, 1, 2, 3, 4, 5, 6, 5, 6, 2, 5, 1, 2, 3, 4, 5, 6, 1, 1, 2, 3, 4, 5, 6, 2, 3, 4, 1, 2, 3, 4, 5, 6, 1, 6, 1, 3, 1, 2, 1, 4, 6, 1, 2, 3, 5, 5, 1, 2, 3, 4, 5, 6, 1, 2, 3, 4, 5, 6, 1, 3, 4, 1, 2, 3, 4, 5, 6, 3, 4, 5, 6, 1, 2, 3, 4, 5, 1, 2, 4, 1, 2, 4, 5, 1, 2, 3, 4, 6, 5, 1, 3, 5, 6, 1, 3, 4, 6, 1, 3, 6, 1, 3, 5, 1, 3, 1, 3, 4, 6, 1, 3, 4, 4, 5, 6, 1, 3, 1, 2, 3, 4, 5, 2, 3, 1, 2, 3, 5, 6, 1, 1, 3, 1, 2, 3, 4, 6, 1, 3, 5], \"Freq\": [0.15762551231209843, 0.7093148054044429, 0.07881275615604921, 0.1911671295249851, 0.600810978507096, 0.06554301583713774, 0.027309589932140728, 0.08739068778285032, 0.027309589932140728, 0.5459447350208866, 0.02274769729253694, 0.36396315668059104, 0.04549539458507388, 0.04549539458507388, 0.09084085069378803, 0.6358859548565162, 0.18168170138757606, 0.39841806457920215, 0.18434268659634725, 0.2200219162601564, 0.10109115071412592, 0.07730499760491982, 0.017839614831904573, 0.055158141058014594, 0.027579070529007297, 0.8273721158702189, 0.0827372115870219, 0.4358498841042831, 0.26732126225062697, 0.1394719629133706, 0.005811331788057108, 0.1510946264894848, 0.6960973544763676, 0.21418380137734386, 0.9586753321022294, 0.9630186537123411, 0.03425783800495421, 0.03425783800495421, 0.03425783800495421, 0.5995121650866987, 0.06851567600990842, 0.20554702802972524, 0.9299849609511163, 0.2025604493951222, 0.4426320931226744, 0.09752910526431809, 0.07502238866486007, 0.15754701619620615, 0.02250671659945802, 0.7053436143978007, 0.05642748915182406, 0.06583207067712807, 0.009404581525304009, 0.15047330440486414, 0.018809163050608018, 0.039196103005648956, 0.1959805150282448, 0.2743727210395427, 0.5095493390734365, 0.3254359042435407, 0.24127144624952154, 0.12344120505789474, 0.21882759078444977, 0.06172060252894737, 0.03366578319760766, 0.8939881571672168, 0.443083474113477, 0.26585008446808617, 0.08123197025413745, 0.09600141939125334, 0.014769449137115899, 0.10338614395981129, 0.5093225357421974, 0.11753596978666095, 0.3917865659555365, 0.40680964349821347, 0.542412857997618, 0.1489511093898179, 0.22342666408472683, 0.1489511093898179, 0.44685332816945367, 0.018618888673727237, 0.11855564783457967, 0.19265292773119194, 0.15560428778288582, 0.14078483180356335, 0.06668755190695107, 0.3334377595347553, 0.12428771705225378, 0.6214385852612689, 0.12428771705225378, 0.06904873169569654, 0.04142923901741793, 0.6191094388733416, 0.02443853048184243, 0.342139426745794, 0.00814617682728081, 0.29286827237454277, 0.2603273532218158, 0.1301636766109079, 0.3091387319509063, 0.20090308855181327, 0.19346223342026464, 0.186021378288716, 0.3646019014458834, 0.00744085513154864, 0.04464513078929184, 0.8937148515768495, 0.08012434780431803, 0.8413056519453394, 0.040062173902159014, 0.667093306636341, 0.20214948685949727, 0.060644846057849186, 0.08085979474379891, 0.1441879325607159, 0.23070069209714547, 0.028837586512143184, 0.12976913930464434, 0.3604698314017898, 0.10093155279250114, 0.22587563242116626, 0.6776268972634988, 0.056468908105291565, 0.35413012763205187, 0.566608204211283, 0.17828667398312043, 0.37143057079816755, 0.17085806256715708, 0.08914333699156021, 0.13371500548734033, 0.05942889132770681, 0.6878950924558181, 0.1495424114034387, 0.08972544684206324, 0.05981696456137549, 0.26094592600280014, 0.30171872694073765, 0.03261824075035002, 0.03261824075035002, 0.2527913658152126, 0.12231840281381257, 0.4918721378992118, 0.14756164136976355, 0.02459360689496059, 0.02459360689496059, 0.2213424620546453, 0.08607762413236207, 0.2971659220303, 0.074291480507575, 0.5943318440606, 0.074291480507575, 0.6164772067823717, 0.057794738135847346, 0.2889736906792367, 0.44013040809976284, 0.004836597891206185, 0.3579082439492577, 0.024182989456030927, 0.00967319578241237, 0.15477113251859792, 0.11932422491035966, 0.11932422491035966, 0.43752215800465205, 0.0795494832735731, 0.2386484498207193, 0.02483067306217766, 0.9683962494249286, 0.1270021627301466, 0.6985118950158063, 0.1270021627301466, 0.264199165639715, 0.7171120210220836, 0.9303300470319364, 0.386475611906133, 0.0644126019843555, 0.515300815874844, 0.9584124611578365, 0.8733240938817632, 0.1058574659250622, 0.04392505361376282, 0.08785010722752563, 0.8345760186614936, 0.284857499899317, 0.10682156246224389, 0.569714999798634, 0.06081696766177679, 0.0202723225539256, 0.12163393532355359, 0.7906205796030983, 0.08682325096671284, 0.08682325096671284, 0.824820884183772, 0.3004865749356887, 0.6510542456939922, 0.782217997738857, 0.16761814237261222, 0.05602212561116978, 0.8963540097787165, 0.22060183732952587, 0.3910668934477959, 0.12032827490701412, 0.2607112622985306, 0.9173674615752657, 0.21194055809485685, 0.026492569761857106, 0.302015295285171, 0.2278360999519711, 0.026492569761857106, 0.2066420441424854, 0.06683818252765138, 0.011139697087941896, 0.2562130330226636, 0.3787497009900245, 0.2784924271985474, 0.4241211519842076, 0.46653326718262833, 0.1060302879960519, 0.11096971280137988, 0.8322728460103491, 0.011096971280137988, 0.04438788512055195, 0.9476272897111323, 0.8089419817778292, 0.12256696693603472, 0.04902678677441389, 0.024513393387206945, 0.08037421402582651, 0.32149685610330603, 0.48224528415495904, 0.18219815337869547, 0.2301450358467732, 0.02876812948084665, 0.23973441234038878, 0.23973441234038878, 0.07671501194892441, 0.0898696513022408, 0.7189572104179264, 0.0449348256511204, 0.13480447695336117, 0.009474462371243837, 0.11369354845492605, 0.0757956989699507, 0.6063655917596056, 0.047372311856219186, 0.14211693556865754, 0.772201298992913, 0.08580014433254589, 0.14300024055424315, 0.08433881257203424, 0.1054235157150428, 0.1054235157150428, 0.08433881257203424, 0.6114563911472483, 0.09251868820537017, 0.046259344102685084, 0.2775560646161105, 0.09251868820537017, 0.555112129232221, 0.16132529479902283, 0.19928418769291054, 0.061683200952567546, 0.2989262815393658, 0.17555987963423073, 0.09964209384645527, 0.37397286811728814, 0.27041115079250067, 0.07479457362345764, 0.07479457362345764, 0.057534287402659715, 0.14383571850664928, 0.46405534735610193, 0.27843320841366115, 0.18562213894244076, 0.7635110440873655, 0.002408552189550049, 0.21676969705950438, 0.004817104379100098, 0.009634208758200195, 0.002408552189550049, 0.2117962017074544, 0.4813550038805781, 0.1829149014746197, 0.11552520093133875, 0.07577742143545291, 0.07577742143545291, 0.45466452861271744, 0.30310968574181163, 0.08114738545213292, 0.5193432668936506, 0.1785242479946924, 0.2109832021755456, 0.4478566484201353, 0.17914265936805412, 0.31989760601438233, 0.02559180848115059, 0.038387712721725885, 0.5753438393320288, 0.3835625595546859, 0.9059016910490896, 0.05032787172494942, 0.9385604791428994, 0.9300204421901711, 0.1326658886660098, 0.37904539618859945, 0.01895226980942997, 0.39799766599802944, 0.07580907923771989, 0.08571190876267723, 0.4285595438133861, 0.4285595438133861, 0.7193918872453352, 0.23979729574844508, 0.4488937332679148, 0.01951711883773543, 0.42937661443017944, 0.07806847535094172, 0.373860250423057, 0.062310041737176164, 0.020770013912392055, 0.39463026433544907, 0.14539009738674438, 0.43582995938235614, 0.03113071138445401, 0.37356853661344813, 0.15565355692227006, 0.2408585054667889, 0.030107313183348614, 0.6322535768503209, 0.09032193955004585, 0.047285511717205686, 0.5674261406064682, 0.3782840937376455, 0.5378453242828214, 0.06605118017508332, 0.03774353152861904, 0.11323059458585713, 0.22646118917171426, 0.01887176576430952, 0.03750881204194664, 0.7876850528808795, 0.1687896541887599, 0.01875440602097332, 0.820145848283746, 0.09792786248164131, 0.012240982810205164, 0.012240982810205164, 0.06120491405102583, 0.020836859849561518, 0.18753173864605363, 0.020836859849561518, 0.08334743939824607, 0.6667795151859686, 0.9262203186798694, 0.11053646559270623, 0.22107293118541246, 0.49741409516717805, 0.16580469838905934, 0.016350173344906713, 0.2616027735185074, 0.711232540503442, 0.8553561736107539, 0.1308191794934094, 0.5159554782313631, 0.3439703188209088, 0.9873284299129782, 0.11264880333990876, 0.8730282258842929, 0.00938740027832573, 0.9244378595478022, 0.05777736622173764, 0.11409052862408996, 0.7701110682126072, 0.10695987058508433, 0.5154661270345771, 0.40807735056904015, 0.04295551058621475, 0.3033406991203201, 0.4297326570871201, 0.025278391593360004, 0.25278391593360006, 0.11016402641110226, 0.07344268427406818, 0.6242628163295795, 0.14688536854813636, 0.03672134213703409, 0.9300524382868282, 0.8995407068419697, 0.8963933739845349, 0.8326481284299297, 0.06938734403582748, 0.10408101605374122, 0.08210745532134027, 0.5898772448085761, 0.20526863830335065, 0.11451829294818511, 0.002160722508456323, 0.002160722508456323, 0.7074734473587643, 0.2653025427595366, 0.28427574594739535, 0.3158619399415504, 0.4106205219240155, 0.010443372465457831, 0.12532046958549398, 0.020886744930915663, 0.39684815368739756, 0.19842407684369878, 0.25064093917098795, 0.6432315891332024, 0.037837152301953086, 0.3026972184156247, 0.9060782395002623, 0.8802903968729331, 0.07335753307274442, 0.03667876653637221, 0.5870068648686535, 0.39133790991243567, 0.8676075966914379, 0.11967001333675005, 0.6600526909323597, 0.02357331039044142, 0.16501317273308994, 0.11786655195220709, 0.9302638276240325, 0.3468243901907067, 0.23844176825611088, 0.33959888206173366, 0.07225508128973057, 0.2990717380787624, 0.1495358690393812, 0.049845289679793736, 0.1495358690393812, 0.34891702775855615, 0.782196268464831, 0.16761348609960663, 0.7555031385360401, 0.04197239658533556, 0.16788958634134224, 0.8683238057318015, 0.03339706945122314, 0.06679413890244627, 0.9172285029239287, 0.045861425146196434, 0.5091509885085402, 0.04242924904237835, 0.3394339923390268, 0.0848584980847567, 0.45793389266501966, 0.5088154362944664, 0.15687431661842877, 0.42308527815273217, 0.15212054944817335, 0.01901506868102167, 0.17113561812919503, 0.0808140418943421, 0.6034309726059522, 0.21942944458398264, 0.10971472229199132, 0.19657619627702588, 0.15726095702162068, 0.11794571776621553, 0.5110981103202673, 0.2342651164553674, 0.2342651164553674, 0.2342651164553674, 0.267731561663277, 0.033466445207909624, 0.1393509936788194, 0.6688847696583331, 0.11148079494305552, 0.05574039747152776, 0.28797014690479705, 0.23492301458022916, 0.17429772049500872, 0.28797014690479705, 0.007578161760652553, 0.007578161760652553, 0.16889999001499137, 0.25334998502248707, 0.4644749725412263, 0.08444999500749568, 0.040776523250063104, 0.9378600347514513, 0.7381217029974153, 0.1260207785605343, 0.054008905097371857, 0.018002968365790618, 0.054008905097371857, 0.0025538073042549792, 0.015322843825529875, 0.980662004833912, 0.26698310354475757, 0.7246684239071991, 0.5091251759080915, 0.07832695013970638, 0.3916347506985319, 0.8453274916467679, 0.08453274916467679, 0.6034775291096832, 0.219446374221703, 0.1097231871108515, 0.0361934868493177, 0.6514827632877187, 0.32574138164385935, 0.5752172936231748, 0.3834781957487832, 0.8334505951385693, 0.1282231684828568, 0.05726430179045887, 0.1463421045756171, 0.03181350099469937, 0.1717929053713766, 0.006362700198939874, 0.5917311185014082, 0.8004604476594028, 0.16009208953188056, 0.23837975857293098, 0.6674633240042067, 0.04767595171458619, 0.6432197290459535, 0.3026916371980958, 0.4359308836353162, 0.16347408136324357, 0.38143952318090163, 0.03772959975528837, 0.6414031958399022, 0.11318879926586511, 0.22637759853173023, 0.35984320435749195, 0.48835863448516764, 0.02570308602553514, 0.1285154301276757, 0.42105798674059236, 0.14688069304904383, 0.11750455443923508, 0.24480115508173972, 0.009792046203269589, 0.05875227721961754, 0.040777142834573024, 0.9378742851951796, 0.8345771616396278, 0.13909619360660463, 0.023182698934434108, 0.7561267476353926, 0.0504084498423595, 0.02520422492117975, 0.1512253495270785, 0.006909629452646036, 0.6978725747172496, 0.16583110686350486, 0.041457776715876214, 0.08291555343175243, 0.5643715960865258, 0.01567698878018127, 0.047030966340543816, 0.3605707419441692, 0.3650129858364765, 0.6257365471482454, 0.10057318805294586, 0.20114637610589173, 0.6537257223441482, 0.08126650318775504, 0.37585757724336705, 0.5383905836188771, 0.8803735472338353, 0.07336446226948627, 0.013707403363095184, 0.15078143699404703, 0.013707403363095184, 0.5620035378869026, 0.2741480672619037, 0.06861649867199911, 0.8233979840639893, 0.016145058511058612, 0.008072529255529306, 0.03632638164988188, 0.04843517553317584, 0.9058267079226304, 0.10160201447601842, 0.15240302171402764, 0.10160201447601842, 0.25400503619004605, 0.3048060434280553, 0.06804395738034655, 0.8845714459445051, 0.02268131912678218, 0.28324571435231266, 0.16522666670551572, 0.14162285717615633, 0.4012647619991096, 0.8476400818576398, 0.07705818925978544, 0.4691849108527942, 0.08089395014703347, 0.4368273307939808, 0.5187212017864253, 0.4668490816077828, 0.45639476979205085, 0.014722411928775834, 0.5152844175071541, 0.4296025694882368, 0.19738496435946012, 0.069665281538633, 0.011610880256438832, 0.10449792230794948, 0.18577408410302132, 0.29907442967975606, 0.14953721483987803, 0.04984573827995934, 0.14953721483987803, 0.3489201679597154, 0.34164713736991736, 0.28770285252203565, 0.10788856969576337, 0.1348607121197042, 0.10788856969576337, 0.008990714141313614, 0.7662374483067922, 0.09577968103834902, 0.9042401358585829, 0.0695569335275833, 0.17080007460555935, 0.3457660046893031, 0.12497566434553123, 0.08748296504187186, 0.20412691843103434, 0.06665368765094999, 0.9063110029669528, 0.471605149333701, 0.007255463835903093, 0.311984944943833, 0.13785381288215875, 0.043532783015418554, 0.02902185534361237, 0.11313152563015409, 0.056565762815077046, 0.8484864422261557, 0.4429059052353665, 0.23108134186193036, 0.17972993255927916, 0.09628389244247097, 0.012837852325662797, 0.03851355697698839, 0.1594150190686851, 0.7970750953434256, 0.9027130826581357, 0.041032412848097076, 0.27024954358111336, 0.6305822683559311, 0.04117410238171723, 0.1235223071451517, 0.7823079452526274, 0.2196375243832558, 0.6223063190858914, 0.018303127031937982, 0.14642501625550386, 0.9349467543675808, 0.3329532370147341, 0.3564558184510683, 0.02741967834238987, 0.15276677933617214, 0.06267355049689113, 0.07050774430900252, 0.4428588690415136, 0.23105680123905056, 0.17971084540815044, 0.09627366718293774, 0.012836488957725031, 0.038509466873175094, 0.65078353640295, 0.3003616321859769, 0.03337351468733077, 0.3023206430423213, 0.2466299982713674, 0.07160225756265505, 0.1591161279170112, 0.11138128954190785, 0.10342548314605729, 0.18801387396682656, 0.4230312164253598, 0.09400693698341328, 0.28202081095023984, 0.9149384453445069, 0.3012834627072375, 0.05021391045120625, 0.6527808358656813, 0.9539283723484937, 0.03491961044413211, 0.66347259843851, 0.2793568835530569, 0.1761161559749789, 0.11741077064998594, 0.23482154129997188, 0.46964308259994375, 0.3207913216342592, 0.27267262338912035, 0.35287045379768517, 0.03207913216342592, 0.01603956608171296, 0.9710013486637911, 0.05193409729344051, 0.025967048646720257, 0.025967048646720257, 0.9088467026352091, 0.048912670778447936, 0.17934645952097575, 0.11412956514971184, 0.6521689437126391, 0.16358645978340558, 0.20448307472925698, 0.5725526092419195, 0.8920292373837765, 0.07136233899070211, 0.9338330840397273, 0.5870810473041265, 0.39138736486941766, 0.05878217209008361, 0.23512868836033443, 0.11756434418016722, 0.5878217209008361, 0.028076708786800117, 0.3088437966548013, 0.6457643020964027, 0.4968772858635134, 0.20703220244313056, 0.2484386429317567, 0.4057252890010186, 0.5680154046014261, 0.29306921071908704, 0.316514747576614, 0.1406732211451618, 0.03516830528629045, 0.21100983171774268, 0.26417426563188423, 0.7170444352865429, 0.7353484519417209, 0.02673994370697167, 0.13369971853485835, 0.08690481704765793, 0.013369971853485835, 0.9250154283525784, 0.9224445779130005, 0.04612222889565002, 0.059671603041268166, 0.17049029440362334, 0.008524514720181167, 0.14491675024307984, 0.613765059853044, 0.8518936285747614, 0.05679290857165076, 0.08518936285747614], \"Term\": [\"aana\", \"aana\", \"aana\", \"acoustic\", \"acoustic\", \"acoustic\", \"acoustic\", \"acoustic\", \"acoustic\", \"addictive\", \"addictive\", \"addictive\", \"addictive\", \"addictive\", \"album\", \"album\", \"album\", \"amazing\", \"amazing\", \"amazing\", \"amazing\", \"amazing\", \"amazing\", \"ambient\", \"ambient\", \"ambient\", \"ambient\", \"american\", \"american\", \"american\", \"american\", \"american\", \"art\", \"art\", \"artist\", \"artists\", \"atmospheric\", \"atmospheric\", \"atmospheric\", \"atmospheric\", \"atmospheric\", \"atmospheric\", \"avant\", \"awesome\", \"awesome\", \"awesome\", \"awesome\", \"awesome\", \"awesome\", \"ballad\", \"ballad\", \"ballad\", \"ballad\", \"ballad\", \"ballad\", \"bands\", \"bands\", \"bands\", \"bands\", \"beautiful\", \"beautiful\", \"beautiful\", \"beautiful\", \"beautiful\", \"beautiful\", \"beowulfs\", \"best\", \"best\", \"best\", \"best\", \"best\", \"best\", \"better\", \"better\", \"better\", \"beyonce\", \"beyonce\", \"brilliant\", \"brilliant\", \"brilliant\", \"brilliant\", \"brilliant\", \"british\", \"british\", \"british\", \"british\", \"british\", \"british\", \"britpop\", \"britpop\", \"britpop\", \"britpop\", \"britpop\", \"catchy\", \"catchy\", \"catchy\", \"catchy\", \"chill\", \"chill\", \"chill\", \"chill\", \"chillout\", \"chillout\", \"chillout\", \"chillout\", \"chillout\", \"chillout\", \"choice\", \"christian\", \"christian\", \"christian\", \"christmas\", \"christmas\", \"christmas\", \"christmas\", \"classic\", \"classic\", \"classic\", \"classic\", \"classic\", \"classic\", \"classical\", \"classical\", \"classical\", \"college\", \"college\", \"cool\", \"cool\", \"cool\", \"cool\", \"cool\", \"cool\", \"country\", \"country\", \"country\", \"country\", \"cover\", \"cover\", \"cover\", \"cover\", \"cover\", \"cover\", \"covers\", \"covers\", \"covers\", \"covers\", \"covers\", \"covers\", \"crazy\", \"crazy\", \"crazy\", \"crazy\", \"cute\", \"cute\", \"cute\", \"dance\", \"dance\", \"dance\", \"dance\", \"dance\", \"dance\", \"dark\", \"dark\", \"dark\", \"dark\", \"dark\", \"death\", \"death\", \"descoperiri\", \"descoperiri\", \"descoperiri\", \"diaries\", \"diaries\", \"dich\", \"disco\", \"disco\", \"disco\", \"disney\", \"diva\", \"diva\", \"downtempo\", \"downtempo\", \"downtempo\", \"dream\", \"dream\", \"dream\", \"dreamy\", \"dreamy\", \"dreamy\", \"dreamy\", \"dub\", \"dub\", \"dub\", \"duet\", \"duet\", \"easy\", \"easy\", \"eighties\", \"eighties\", \"electro\", \"electro\", \"electro\", \"electro\", \"electroclash\", \"electronic\", \"electronic\", \"electronic\", \"electronic\", \"electronic\", \"electronic\", \"electronica\", \"electronica\", \"electronica\", \"electronica\", \"electronica\", \"electropop\", \"electropop\", \"electropop\", \"emo\", \"emo\", \"emo\", \"emo\", \"emocore\", \"emotional\", \"emotional\", \"emotional\", \"emotional\", \"england\", \"england\", \"england\", \"epic\", \"epic\", \"epic\", \"epic\", \"epic\", \"epic\", \"ethereal\", \"ethereal\", \"ethereal\", \"ethereal\", \"experimental\", \"experimental\", \"experimental\", \"experimental\", \"experimental\", \"experimental\", \"fantastic\", \"fantastic\", \"fantastic\", \"fav\", \"fav\", \"fav\", \"fav\", \"fav\", \"faves\", \"faves\", \"faves\", \"faves\", \"faves\", \"favorite\", \"favorite\", \"favorite\", \"favorite\", \"favorite\", \"favorite\", \"favorites\", \"favorites\", \"favorites\", \"favorites\", \"favorites\", \"favorites\", \"feelings\", \"feelings\", \"feelings\", \"female\", \"female\", \"female\", \"female\", \"female\", \"female\", \"folk\", \"folk\", \"folk\", \"folk\", \"friends\", \"friends\", \"friends\", \"friends\", \"fucking\", \"fucking\", \"fucking\", \"fucking\", \"fun\", \"fun\", \"fun\", \"fun\", \"fun\", \"furtado\", \"furtado\", \"future\", \"future\", \"garage\", \"garde\", \"genius\", \"genius\", \"genius\", \"genius\", \"genius\", \"german\", \"german\", \"german\", \"gil\", \"gil\", \"girl\", \"girl\", \"girl\", \"girl\", \"glam\", \"glam\", \"glam\", \"glam\", \"glam\", \"good\", \"good\", \"good\", \"good\", \"gossip\", \"gossip\", \"gossip\", \"gossip\", \"gothic\", \"gothic\", \"gothic\", \"great\", \"great\", \"great\", \"great\", \"great\", \"great\", \"grunge\", \"grunge\", \"grunge\", \"grunge\", \"guilty\", \"guilty\", \"guilty\", \"guilty\", \"guilty\", \"guitar\", \"guitar\", \"guitar\", \"guitar\", \"guitar\", \"hair\", \"halloween\", \"halloween\", \"halloween\", \"halloween\", \"hard\", \"hard\", \"hard\", \"hardcore\", \"hardcore\", \"harmonies\", \"harmonies\", \"heavy\", \"hip\", \"hip\", \"hip\", \"hit\", \"hit\", \"hop\", \"hop\", \"hop\", \"hot\", \"hot\", \"hot\", \"house\", \"house\", \"house\", \"house\", \"hypnotic\", \"hypnotic\", \"hypnotic\", \"hypnotic\", \"hypnotic\", \"ich\", \"idm\", \"idol\", \"idolo\", \"idolo\", \"idolo\", \"indie\", \"indie\", \"indie\", \"indie\", \"indie\", \"indie\", \"indietronica\", \"indietronica\", \"industrial\", \"industrial\", \"industrial\", \"instrumental\", \"instrumental\", \"instrumental\", \"instrumental\", \"instrumental\", \"instrumental\", \"ive\", \"ive\", \"ive\", \"jet\", \"jukebox\", \"jukebox\", \"jukebox\", \"justin\", \"justin\", \"latin\", \"latin\", \"legend\", \"legend\", \"legend\", \"legend\", \"liebe\", \"listen\", \"listen\", \"listen\", \"listen\", \"listened\", \"listened\", \"listened\", \"listened\", \"listened\", \"listening\", \"listening\", \"loved\", \"loved\", \"loved\", \"lpa\", \"lpa\", \"lpa\", \"luv\", \"luv\", \"lyrics\", \"lyrics\", \"lyrics\", \"lyrics\", \"madonna\", \"madonna\", \"male\", \"male\", \"male\", \"male\", \"male\", \"male\", \"marisa\", \"marisa\", \"marisa\", \"masterpiece\", \"masterpiece\", \"masterpiece\", \"masterpiece\", \"melancholic\", \"melancholic\", \"melancholic\", \"melancholic\", \"melancholic\", \"melancholy\", \"melancholy\", \"melancholy\", \"melancholy\", \"mellow\", \"mellow\", \"mellow\", \"mellow\", \"mellow\", \"mellow\", \"melodic\", \"melodic\", \"melodic\", \"melodic\", \"melrose\", \"melrose\", \"memories\", \"memories\", \"memories\", \"memories\", \"memories\", \"metal\", \"metal\", \"metal\", \"metalcore\", \"metalcore\", \"metallica\", \"metallica\", \"metallica\", \"miserable\", \"miserable\", \"mix\", \"mix\", \"mix\", \"modern\", \"modern\", \"modern\", \"nelly\", \"nelly\", \"ness\", \"ness\", \"new\", \"new\", \"new\", \"new\", \"new\", \"new\", \"nice\", \"nice\", \"noise\", \"noise\", \"noise\", \"obsessed\", \"obsessed\", \"ohmydamn\", \"ohmydamn\", \"ohmydamn\", \"oui\", \"oui\", \"oui\", \"oui\", \"party\", \"party\", \"party\", \"party\", \"piano\", \"piano\", \"piano\", \"piano\", \"piano\", \"piano\", \"place\", \"place\", \"pleasure\", \"pleasure\", \"pleasure\", \"pleasures\", \"pleasures\", \"pleasures\", \"pleasures\", \"post\", \"post\", \"post\", \"post\", \"post\", \"power\", \"power\", \"power\", \"power\", \"powerful\", \"powerful\", \"prejebeno\", \"prejebeno\", \"prejebeno\", \"progressive\", \"progressive\", \"progressive\", \"project\", \"project\", \"psychedelic\", \"psychedelic\", \"psychedelic\", \"psychedelic\", \"psychedelic\", \"punk\", \"punk\", \"punk\", \"punk\", \"punk\", \"punk\", \"radio\", \"rain\", \"rain\", \"rain\", \"rain\", \"rain\", \"rap\", \"rap\", \"rap\", \"relax\", \"relax\", \"relax\", \"relax\", \"remember\", \"remember\", \"remix\", \"remix\", \"remix\", \"rnb\", \"rnb\", \"roll\", \"roll\", \"roll\", \"romantic\", \"romantic\", \"romantic\", \"romantic\", \"romantic\", \"romantic\", \"row\", \"row\", \"row\", \"row\", \"row\", \"sad\", \"sad\", \"sad\", \"sad\", \"sad\", \"sad\", \"school\", \"school\", \"screamo\", \"screamo\", \"seen\", \"seen\", \"seen\", \"seen\", \"seen\", \"seen\", \"set\", \"sexy\", \"sexy\", \"sexy\", \"sexy\", \"sexy\", \"sexy\", \"shoegaze\", \"shoegaze\", \"shoegaze\", \"singer\", \"singer\", \"singer\", \"singer\", \"singer\", \"singer\", \"single\", \"single\", \"siss\", \"siss\", \"ska\", \"ska\", \"slowies\", \"slowies\", \"slowies\", \"soft\", \"soft\", \"soft\", \"soft\", \"solo\", \"songs\", \"songs\", \"songs\", \"songs\", \"songs\", \"songs\", \"songwriter\", \"songwriter\", \"songwriter\", \"songwriter\", \"songwriter\", \"songwriter\", \"soul\", \"soul\", \"soul\", \"soundtrack\", \"soundtrack\", \"soundtrack\", \"soundtrack\", \"soundtrack\", \"soundtrack\", \"space\", \"space\", \"space\", \"space\", \"spanish\", \"special\", \"special\", \"special\", \"speed\", \"straight\", \"straight\", \"straight\", \"swedish\", \"swedish\", \"swedish\", \"swedish\", \"sweet\", \"sweet\", \"sweet\", \"sweet\", \"sweet\", \"symphonic\", \"synth\", \"synth\", \"synth\", \"synth\", \"synthpop\", \"synthpop\", \"synthpop\", \"synthpop\", \"techno\", \"techno\", \"techno\", \"teen\", \"teen\", \"thrash\", \"timberlake\", \"timberlake\", \"trance\", \"trance\", \"trance\", \"trance\", \"trip\", \"trip\", \"trip\", \"ultimate\", \"ultimate\", \"ultimate\", \"urban\", \"urban\", \"usa\", \"usa\", \"usa\", \"usa\", \"usa\", \"vampire\", \"vampire\", \"vocalist\", \"vocalist\", \"vocalist\", \"vocalist\", \"vocalist\", \"vocals\", \"voices\", \"voices\", \"wave\", \"wave\", \"wave\", \"wave\", \"wave\", \"weekly\", \"weekly\", \"weekly\"]}, \"R\": 30, \"lambda.step\": 0.01, \"plot.opts\": {\"xlab\": \"PC1\", \"ylab\": \"PC2\"}, \"topic.order\": [5, 4, 3, 2, 1, 6]};\n",
       "\n",
       "function LDAvis_load_lib(url, callback){\n",
       "  var s = document.createElement('script');\n",
       "  s.src = url;\n",
       "  s.async = true;\n",
       "  s.onreadystatechange = s.onload = callback;\n",
       "  s.onerror = function(){console.warn(\"failed to load library \" + url);};\n",
       "  document.getElementsByTagName(\"head\")[0].appendChild(s);\n",
       "}\n",
       "\n",
       "if(typeof(LDAvis) !== \"undefined\"){\n",
       "   // already loaded: just create the visualization\n",
       "   !function(LDAvis){\n",
       "       new LDAvis(\"#\" + \"ldavis_el125881122697120249771319627\", ldavis_el125881122697120249771319627_data);\n",
       "   }(LDAvis);\n",
       "}else if(typeof define === \"function\" && define.amd){\n",
       "   // require.js is available: use it to load d3/LDAvis\n",
       "   require.config({paths: {d3: \"https://cdnjs.cloudflare.com/ajax/libs/d3/3.5.5/d3.min\"}});\n",
       "   require([\"d3\"], function(d3){\n",
       "      window.d3 = d3;\n",
       "      LDAvis_load_lib(\"https://cdn.rawgit.com/bmabey/pyLDAvis/files/ldavis.v1.0.0.js\", function(){\n",
       "        new LDAvis(\"#\" + \"ldavis_el125881122697120249771319627\", ldavis_el125881122697120249771319627_data);\n",
       "      });\n",
       "    });\n",
       "}else{\n",
       "    // require.js not available: dynamically load d3 & LDAvis\n",
       "    LDAvis_load_lib(\"https://cdnjs.cloudflare.com/ajax/libs/d3/3.5.5/d3.min.js\", function(){\n",
       "         LDAvis_load_lib(\"https://cdn.rawgit.com/bmabey/pyLDAvis/files/ldavis.v1.0.0.js\", function(){\n",
       "                 new LDAvis(\"#\" + \"ldavis_el125881122697120249771319627\", ldavis_el125881122697120249771319627_data);\n",
       "            })\n",
       "         });\n",
       "}\n",
       "</script>"
      ],
      "text/plain": [
       "PreparedData(topic_coordinates=              x         y  topics  cluster       Freq\n",
       "topic                                                \n",
       "4     -0.086359  0.109418       1        1  28.551106\n",
       "3      0.073570  0.058659       2        1  22.748678\n",
       "2     -0.183610  0.094236       3        1  14.101707\n",
       "1     -0.029228 -0.094247       4        1  12.987614\n",
       "0      0.263534  0.044157       5        1  12.927516\n",
       "5     -0.037907 -0.212223       6        1   8.683379, topic_info=     Category        Freq          Term       Total  loglift  logprob\n",
       "term                                                                 \n",
       "160   Default  391.000000         metal  391.000000  30.0000  30.0000\n",
       "85    Default  415.000000        female  415.000000  29.0000  29.0000\n",
       "128   Default  462.000000         indie  462.000000  28.0000  28.0000\n",
       "168   Default  157.000000           new  157.000000  27.0000  27.0000\n",
       "120   Default  140.000000           hop  140.000000  26.0000  26.0000\n",
       "192   Default  247.000000          punk  247.000000  25.0000  25.0000\n",
       "260   Default  117.000000          wave  117.000000  24.0000  24.0000\n",
       "118   Default  106.000000           hip  106.000000  23.0000  23.0000\n",
       "114   Default  122.000000          hard  122.000000  22.0000  22.0000\n",
       "46    Default  206.000000         dance  206.000000  21.0000  21.0000\n",
       "117   Default   59.000000         heavy   59.000000  20.0000  20.0000\n",
       "64    Default  188.000000    electronic  188.000000  19.0000  19.0000\n",
       "189   Default   98.000000   progressive   98.000000  18.0000  18.0000\n",
       "6     Default   72.000000       ambient   72.000000  17.0000  17.0000\n",
       "115   Default   99.000000      hardcore   99.000000  16.0000  16.0000\n",
       "75    Default  105.000000  experimental  105.000000  15.0000  15.0000\n",
       "239   Default   61.000000      synthpop   61.000000  14.0000  14.0000\n",
       "184   Default  144.000000          post  144.000000  13.0000  13.0000\n",
       "30    Default  122.000000        catchy  122.000000  12.0000  12.0000\n",
       "26    Default  134.000000       british  134.000000  11.0000  11.0000\n",
       "62    Default   99.000000       electro   99.000000  10.0000  10.0000\n",
       "238   Default   38.000000         synth   38.000000   9.0000   9.0000\n",
       "65    Default   89.000000   electronica   89.000000   8.0000   8.0000\n",
       "199   Default   61.000000         remix   61.000000   7.0000   7.0000\n",
       "132   Default   95.000000  instrumental   95.000000   6.0000   6.0000\n",
       "48    Default   40.000000         death   40.000000   5.0000   5.0000\n",
       "200   Default   77.000000           rnb   77.000000   4.0000   4.0000\n",
       "201   Default   67.000000          roll   67.000000   3.0000   3.0000\n",
       "67    Default   90.000000           emo   90.000000   2.0000   2.0000\n",
       "191   Default   72.000000   psychedelic   72.000000   1.0000   1.0000\n",
       "...       ...         ...           ...         ...      ...      ...\n",
       "168    Topic6   93.322036           new  157.165978   1.9225  -2.6149\n",
       "248    Topic6    9.892347        trance   17.011961   1.9016  -4.8592\n",
       "241    Topic6   14.189438        techno   24.451901   1.8995  -4.4985\n",
       "39     Topic6    7.956619       college   14.119104   1.8702  -5.0770\n",
       "79     Topic6   11.755116         faves   21.617254   1.8346  -4.6867\n",
       "52     Topic6   15.825040         disco   31.049825   1.7698  -4.3894\n",
       "16     Topic6   12.888570         bands   25.512740   1.7609  -4.5946\n",
       "71     Topic6    6.275901       england   12.441801   1.7594  -5.3142\n",
       "199    Topic6   26.749124         remix   61.809319   1.6062  -3.8645\n",
       "99     Topic6    4.781279        german   11.666990   1.5517  -5.5863\n",
       "130    Topic6   12.751768    industrial   31.659402   1.5344  -4.6053\n",
       "105    Topic6   15.601042        gothic   42.296254   1.4464  -4.4036\n",
       "26     Topic6   44.896617       british  134.957721   1.3432  -3.3466\n",
       "194    Topic6    6.428004          rain   19.684649   1.3246  -5.2903\n",
       "228    Topic6    6.067846         space   21.275026   1.1892  -5.3480\n",
       "65     Topic6   24.986398   electronica   89.769048   1.1649  -3.9326\n",
       "62     Topic6   25.954226       electro   99.727184   1.0977  -3.8946\n",
       "122    Topic6    9.991325         house   39.559479   1.0677  -4.8492\n",
       "132    Topic6   23.703083  instrumental   95.754509   1.0476  -3.9854\n",
       "64     Topic6   38.975868    electronic  188.732163   0.8664  -3.4880\n",
       "46     Topic6   32.270230         dance  206.756903   0.5864  -3.6768\n",
       "81     Topic6   25.225816     favorites  173.809400   0.5137  -3.9231\n",
       "202    Topic6   16.016529      romantic   86.126114   0.7616  -4.3773\n",
       "80     Topic6   21.313065      favorite  210.754303   0.1524  -4.0916\n",
       "75     Topic6   14.668954  experimental  105.546886   0.4703  -4.4652\n",
       "151    Topic6   16.919874          male  210.359482  -0.0766  -4.3225\n",
       "224    Topic6   17.523469         songs  255.291106  -0.2351  -4.2874\n",
       "208    Topic6   15.864597          seen  240.046734  -0.2730  -4.3869\n",
       "42     Topic6   14.693212         cover  122.630771   0.3220  -4.4636\n",
       "19     Topic6   14.328616          best  135.414665   0.1977  -4.4887\n",
       "\n",
       "[328 rows x 6 columns], token_table=      Topic      Freq       Term\n",
       "term                            \n",
       "0         2  0.157626       aana\n",
       "0         4  0.709315       aana\n",
       "0         6  0.078813       aana\n",
       "2         1  0.191167   acoustic\n",
       "2         2  0.600811   acoustic\n",
       "2         3  0.065543   acoustic\n",
       "2         4  0.027310   acoustic\n",
       "2         5  0.087391   acoustic\n",
       "2         6  0.027310   acoustic\n",
       "3         1  0.545945  addictive\n",
       "3         2  0.022748  addictive\n",
       "3         3  0.363963  addictive\n",
       "3         4  0.045495  addictive\n",
       "3         5  0.045495  addictive\n",
       "4         2  0.090841      album\n",
       "4         5  0.635886      album\n",
       "4         6  0.181682      album\n",
       "5         1  0.398418    amazing\n",
       "5         2  0.184343    amazing\n",
       "5         3  0.220022    amazing\n",
       "5         4  0.101091    amazing\n",
       "5         5  0.077305    amazing\n",
       "5         6  0.017840    amazing\n",
       "6         1  0.055158    ambient\n",
       "6         3  0.027579    ambient\n",
       "6         4  0.827372    ambient\n",
       "6         6  0.082737    ambient\n",
       "7         1  0.435850   american\n",
       "7         2  0.267321   american\n",
       "7         3  0.139472   american\n",
       "...     ...       ...        ...\n",
       "249       3  0.308844       trip\n",
       "249       4  0.645764       trip\n",
       "250       4  0.496877   ultimate\n",
       "250       5  0.207032   ultimate\n",
       "250       6  0.248439   ultimate\n",
       "252       1  0.405725      urban\n",
       "252       3  0.568015      urban\n",
       "253       1  0.293069        usa\n",
       "253       2  0.316515        usa\n",
       "253       3  0.140673        usa\n",
       "253       4  0.035168        usa\n",
       "253       5  0.211010        usa\n",
       "254       2  0.264174    vampire\n",
       "254       3  0.717044    vampire\n",
       "256       1  0.735348   vocalist\n",
       "256       2  0.026740   vocalist\n",
       "256       3  0.133700   vocalist\n",
       "256       5  0.086905   vocalist\n",
       "256       6  0.013370   vocalist\n",
       "257       1  0.925015     vocals\n",
       "258       1  0.922445     voices\n",
       "258       3  0.046122     voices\n",
       "260       1  0.059672       wave\n",
       "260       2  0.170490       wave\n",
       "260       3  0.008525       wave\n",
       "260       4  0.144917       wave\n",
       "260       6  0.613765       wave\n",
       "261       1  0.851894     weekly\n",
       "261       3  0.056793     weekly\n",
       "261       5  0.085189     weekly\n",
       "\n",
       "[752 rows x 3 columns], R=30, lambda_step=0.01, plot_opts={'xlab': 'PC1', 'ylab': 'PC2'}, topic_order=[5, 4, 3, 2, 1, 6])"
      ]
     },
     "execution_count": 43,
     "metadata": {},
     "output_type": "execute_result"
    }
   ],
   "source": [
    "pyLDAvis.sklearn.prepare(lda_tf, dtm_tf, tf_vectorizer)"
   ]
  },
  {
   "cell_type": "code",
   "execution_count": 44,
   "metadata": {
    "collapsed": true
   },
   "outputs": [],
   "source": [
    "# 1. teen pop\n",
    "# 2. punk\n",
    "# 3. hip hop\n",
    "# 4. electronic\n",
    "# 5. heavy metal\n",
    "# 6. electronic"
   ]
  },
  {
   "cell_type": "code",
   "execution_count": 45,
   "metadata": {},
   "outputs": [
    {
     "name": "stderr",
     "output_type": "stream",
     "text": [
      "/Users/brianmcmahon/anaconda3/envs/recommender/lib/python3.6/site-packages/pyLDAvis/_prepare.py:257: FutureWarning: Sorting because non-concatenation axis is not aligned. A future version\n",
      "of pandas will change to not sort by default.\n",
      "\n",
      "To accept the future behavior, pass 'sort=False'.\n",
      "\n",
      "To retain the current behavior and silence the warning, pass 'sort=True'.\n",
      "\n",
      "  return pd.concat([default_term_info] + list(topic_dfs))\n"
     ]
    },
    {
     "data": {
      "text/html": [
       "\n",
       "<link rel=\"stylesheet\" type=\"text/css\" href=\"https://cdn.rawgit.com/bmabey/pyLDAvis/files/ldavis.v1.0.0.css\">\n",
       "\n",
       "\n",
       "<div id=\"ldavis_el125881122745943369876853687\"></div>\n",
       "<script type=\"text/javascript\">\n",
       "\n",
       "var ldavis_el125881122745943369876853687_data = {\"mdsDat\": {\"x\": [-0.1014019318377136, 0.17708323793975528, -0.20344408272260264, 0.08924737363608645, 0.1495173497173144, -0.11100194673283983], \"y\": [0.08496645059420334, 0.009278698247555922, 0.04095377800821209, -0.16130742374935486, 0.2486717338137704, -0.22256323691438687], \"topics\": [1, 2, 3, 4, 5, 6], \"cluster\": [1, 1, 1, 1, 1, 1], \"Freq\": [28.55110593498777, 22.748677514242473, 14.10170696120558, 12.987614440933786, 12.927516227731662, 8.68337892089874]}, \"tinfo\": {\"Category\": [\"Default\", \"Default\", \"Default\", \"Default\", \"Default\", \"Default\", \"Default\", \"Default\", \"Default\", \"Default\", \"Default\", \"Default\", \"Default\", \"Default\", \"Default\", \"Default\", \"Default\", \"Default\", \"Default\", \"Default\", \"Default\", \"Default\", \"Default\", \"Default\", \"Default\", \"Default\", \"Default\", \"Default\", \"Default\", \"Default\", \"Topic1\", \"Topic1\", \"Topic1\", \"Topic1\", \"Topic1\", \"Topic1\", \"Topic1\", \"Topic1\", \"Topic1\", \"Topic1\", \"Topic1\", \"Topic1\", \"Topic1\", \"Topic1\", \"Topic1\", \"Topic1\", \"Topic1\", \"Topic1\", \"Topic1\", \"Topic1\", \"Topic1\", \"Topic1\", \"Topic1\", \"Topic1\", \"Topic1\", \"Topic1\", \"Topic1\", \"Topic1\", \"Topic1\", \"Topic1\", \"Topic1\", \"Topic1\", \"Topic1\", \"Topic1\", \"Topic1\", \"Topic1\", \"Topic1\", \"Topic1\", \"Topic1\", \"Topic1\", \"Topic1\", \"Topic1\", \"Topic1\", \"Topic1\", \"Topic1\", \"Topic1\", \"Topic1\", \"Topic1\", \"Topic1\", \"Topic1\", \"Topic1\", \"Topic1\", \"Topic1\", \"Topic1\", \"Topic1\", \"Topic1\", \"Topic1\", \"Topic1\", \"Topic1\", \"Topic2\", \"Topic2\", \"Topic2\", \"Topic2\", \"Topic2\", \"Topic2\", \"Topic2\", \"Topic2\", \"Topic2\", \"Topic2\", \"Topic2\", \"Topic2\", \"Topic2\", \"Topic2\", \"Topic2\", \"Topic2\", \"Topic2\", \"Topic2\", \"Topic2\", \"Topic2\", \"Topic2\", \"Topic2\", \"Topic2\", \"Topic2\", \"Topic2\", \"Topic2\", \"Topic2\", \"Topic2\", \"Topic2\", \"Topic2\", \"Topic2\", \"Topic2\", \"Topic2\", \"Topic2\", \"Topic2\", \"Topic2\", \"Topic2\", \"Topic2\", \"Topic2\", \"Topic2\", \"Topic2\", \"Topic2\", \"Topic2\", \"Topic2\", \"Topic2\", \"Topic2\", \"Topic2\", \"Topic2\", \"Topic2\", \"Topic2\", \"Topic2\", \"Topic2\", \"Topic2\", \"Topic2\", \"Topic3\", \"Topic3\", \"Topic3\", \"Topic3\", \"Topic3\", \"Topic3\", \"Topic3\", \"Topic3\", \"Topic3\", \"Topic3\", \"Topic3\", \"Topic3\", \"Topic3\", \"Topic3\", \"Topic3\", \"Topic3\", \"Topic3\", \"Topic3\", \"Topic3\", \"Topic3\", \"Topic3\", \"Topic3\", \"Topic3\", \"Topic3\", \"Topic3\", \"Topic3\", \"Topic3\", \"Topic3\", \"Topic3\", \"Topic3\", \"Topic3\", \"Topic3\", \"Topic3\", \"Topic3\", \"Topic3\", \"Topic3\", \"Topic3\", \"Topic3\", \"Topic3\", \"Topic3\", \"Topic3\", \"Topic3\", \"Topic3\", \"Topic3\", \"Topic3\", \"Topic3\", \"Topic3\", \"Topic3\", \"Topic3\", \"Topic3\", \"Topic4\", \"Topic4\", \"Topic4\", \"Topic4\", \"Topic4\", \"Topic4\", \"Topic4\", \"Topic4\", \"Topic4\", \"Topic4\", \"Topic4\", \"Topic4\", \"Topic4\", \"Topic4\", \"Topic4\", \"Topic4\", \"Topic4\", \"Topic4\", \"Topic4\", \"Topic4\", \"Topic4\", \"Topic4\", \"Topic4\", \"Topic4\", \"Topic4\", \"Topic4\", \"Topic4\", \"Topic4\", \"Topic4\", \"Topic4\", \"Topic4\", \"Topic4\", \"Topic4\", \"Topic4\", \"Topic4\", \"Topic4\", \"Topic4\", \"Topic4\", \"Topic4\", \"Topic4\", \"Topic4\", \"Topic4\", \"Topic4\", \"Topic4\", \"Topic4\", \"Topic4\", \"Topic4\", \"Topic5\", \"Topic5\", \"Topic5\", \"Topic5\", \"Topic5\", \"Topic5\", \"Topic5\", \"Topic5\", \"Topic5\", \"Topic5\", \"Topic5\", \"Topic5\", \"Topic5\", \"Topic5\", \"Topic5\", \"Topic5\", \"Topic5\", \"Topic5\", \"Topic5\", \"Topic5\", \"Topic5\", \"Topic5\", \"Topic5\", \"Topic5\", \"Topic5\", \"Topic5\", \"Topic5\", \"Topic5\", \"Topic5\", \"Topic5\", \"Topic5\", \"Topic5\", \"Topic5\", \"Topic5\", \"Topic5\", \"Topic5\", \"Topic5\", \"Topic5\", \"Topic5\", \"Topic5\", \"Topic5\", \"Topic5\", \"Topic5\", \"Topic5\", \"Topic5\", \"Topic5\", \"Topic6\", \"Topic6\", \"Topic6\", \"Topic6\", \"Topic6\", \"Topic6\", \"Topic6\", \"Topic6\", \"Topic6\", \"Topic6\", \"Topic6\", \"Topic6\", \"Topic6\", \"Topic6\", \"Topic6\", \"Topic6\", \"Topic6\", \"Topic6\", \"Topic6\", \"Topic6\", \"Topic6\", \"Topic6\", \"Topic6\", \"Topic6\", \"Topic6\", \"Topic6\", \"Topic6\", \"Topic6\", \"Topic6\", \"Topic6\", \"Topic6\", \"Topic6\", \"Topic6\", \"Topic6\", \"Topic6\", \"Topic6\", \"Topic6\", \"Topic6\", \"Topic6\", \"Topic6\", \"Topic6\", \"Topic6\"], \"Freq\": [391.0, 415.0, 462.0, 157.0, 140.0, 247.0, 117.0, 106.0, 122.0, 206.0, 59.0, 188.0, 98.0, 72.0, 99.0, 105.0, 61.0, 144.0, 122.0, 134.0, 99.0, 38.0, 89.0, 61.0, 95.0, 40.0, 77.0, 67.0, 90.0, 72.0, 18.290845338834437, 13.587161012584668, 18.44734748752277, 18.45041110535542, 18.429767961819575, 18.394751232176397, 22.408800074831134, 13.183720690415145, 25.381526615790012, 19.60058205315224, 11.822818203880718, 15.523021978164813, 32.75383107378127, 25.87796788166492, 30.182997392621843, 28.64744928924169, 35.68841838444443, 66.75047040473002, 32.93321146636653, 9.517948426911527, 14.942705357531135, 14.105270563460257, 14.077499676683997, 30.477906827280872, 316.6641903303848, 18.03068948573436, 110.09143779067962, 40.85877428449275, 74.79218327648535, 23.16768172685247, 75.69819535111311, 38.680465827324326, 32.608114678497536, 28.459697120627343, 56.544323535856705, 32.472375136394646, 91.16352158613776, 64.93095350219176, 74.9386117834526, 68.67359365257148, 68.61578917050517, 60.362094451863534, 66.83718915200416, 85.42003648662563, 65.45445394598772, 36.47600666346684, 39.869837170255934, 40.01551512619921, 58.19127963859581, 43.26476560740442, 48.25510519595147, 54.24114262544086, 37.31182148885966, 38.33367072397792, 40.47536811894286, 40.994735205671745, 37.539318219028694, 37.63749029755761, 38.38199893806878, 18.065713730018302, 21.22366691902437, 16.980497616111226, 16.96487335421522, 16.957788605229563, 19.763217211923944, 26.00042411437683, 11.490510596330127, 23.82408873650212, 23.807806693897795, 85.2763607947248, 13.092239932722705, 20.778329473169954, 74.664630169077, 204.09808482293911, 23.70684910593201, 42.338244086970086, 26.745761286989286, 8.955267106105072, 100.81757810471115, 19.23681064247506, 17.480327173638777, 17.448845710574624, 17.822859062273704, 45.45745925326469, 11.392469542985097, 11.393166005990777, 16.523719790967057, 6.9050296968803835, 33.51473104055172, 110.25697392322826, 273.02141888407095, 117.6987720727726, 88.92538168641046, 50.0382639648648, 90.72281542585871, 31.879548568399844, 83.17045430100737, 50.26575495775067, 30.95436435642766, 47.384254031534034, 46.26390250797466, 42.56986365508951, 36.634221847447954, 42.333504631721084, 35.839090644309444, 36.06842637818461, 35.890341920601244, 32.48601495833114, 32.77762355301734, 31.920493224747787, 32.1584106960526, 31.35451579269797, 31.480624296963295, 22.984943168421147, 22.980065162586108, 38.68547616339823, 92.85055844336902, 108.28858671631187, 18.705253023035034, 18.69282128279572, 15.840257044198323, 12.948627058589706, 21.264143697121373, 7.738761447847841, 28.040965080956685, 7.667126912013561, 9.615094651522615, 18.62282304979968, 36.335710902726966, 21.854431258467454, 22.454870676265116, 4.645978242476726, 16.687221108873956, 19.131889092675063, 39.46759909575751, 4.35836782427175, 5.782029649113401, 11.794902396595093, 5.715667799683922, 5.592850907069524, 5.581392215122602, 22.456557418865252, 74.26934233969723, 15.656042136042615, 42.08979708996971, 46.57886180640261, 43.38237874361412, 57.09191240376222, 24.559767991791794, 90.01830035903797, 95.23162518223693, 36.74093775272969, 23.12802410339487, 28.32672401704026, 28.260261079843218, 31.654174779944537, 30.22400277981481, 25.322765775016606, 26.44638611271152, 23.098694854810795, 23.716086812473044, 22.71325556643689, 22.003634744558173, 20.211755669339038, 20.20349426486105, 18.61409117716418, 14.227419172434628, 15.003050767415095, 18.983041021191216, 59.64575639873764, 39.0060616035614, 16.26054667339859, 13.403103981691185, 18.168552080098294, 10.955847353326817, 14.322023975464946, 24.072872155267426, 11.78153150889382, 22.6613282599932, 12.615817564921688, 17.241456959663765, 64.36211224712217, 35.26281630612538, 16.122823139162453, 40.70681828073713, 12.410851386556073, 6.341677471267994, 24.165591228627303, 10.966138576815869, 8.81039463856641, 17.24524934125744, 38.22525379369195, 20.951120724343678, 49.47726020564028, 36.600786201194005, 33.55940876504337, 63.1843550392345, 37.91573124083556, 42.93301699130531, 38.605825134756756, 53.27314269343189, 38.57894320185627, 25.204710491031424, 24.59503143448149, 26.85477487239726, 24.42822870454461, 19.027659939642522, 20.158849656887114, 21.257342447739852, 20.47731444886124, 384.1525866099142, 58.59122138989872, 38.9491250450008, 19.408411252077677, 16.595379881832724, 18.16162263525819, 12.715932267234729, 9.897713620934914, 8.407953922248407, 18.946433741892612, 87.41680565042653, 7.419814473467291, 31.93222526411112, 12.986445831941921, 11.640666873221987, 23.81395521924404, 52.786461419814664, 35.45946891474571, 9.153744587834156, 12.864897520320865, 8.276637502365558, 22.401289996861358, 4.857409820204209, 18.61424554473834, 7.045094326982258, 9.794761536304994, 9.777403978546666, 23.492081449167564, 7.314766857953601, 7.306817910693814, 50.41345423584108, 8.379501714112676, 31.189471711408252, 48.53560186277378, 19.589018323631354, 25.431202782225775, 37.14122230237887, 42.030770886827476, 36.344620294042585, 23.922993776640766, 26.012666957918785, 18.088638669743382, 18.74479704717275, 17.999476468475855, 16.308699839667348, 17.683461283935397, 28.995064089938342, 14.413316404547032, 14.407334189131232, 35.007705398785085, 9.815318609912156, 15.733681644805309, 18.692908278353965, 19.261483165941538, 19.734717720937766, 39.65561961133278, 71.89144534796439, 28.768255641378712, 93.32203568308249, 9.892346821452973, 14.189437816162739, 7.956618821319066, 11.755116119644338, 15.82503986578651, 12.888569862303767, 6.275900804424236, 26.749124047965235, 4.781279435457346, 12.751767805334156, 15.601041570215157, 44.89661672095631, 6.4280037954006195, 6.067846458366823, 24.986398051750733, 25.95422592941751, 9.991325498291161, 23.70308259671944, 38.97586759845659, 32.27022953374247, 25.225815784495992, 16.01652927209997, 21.31306455089499, 14.668953751236575, 16.919873720086645, 17.523468624506346, 15.864596957905647, 14.693212170839912, 14.328615579620864], \"Term\": [\"metal\", \"female\", \"indie\", \"new\", \"hop\", \"punk\", \"wave\", \"hip\", \"hard\", \"dance\", \"heavy\", \"electronic\", \"progressive\", \"ambient\", \"hardcore\", \"experimental\", \"synthpop\", \"post\", \"catchy\", \"british\", \"electro\", \"synth\", \"electronica\", \"remix\", \"instrumental\", \"death\", \"rnb\", \"roll\", \"emo\", \"psychedelic\", \"vocals\", \"disney\", \"set\", \"jet\", \"radio\", \"future\", \"siss\", \"idol\", \"teen\", \"voices\", \"spanish\", \"hit\", \"diva\", \"lpa\", \"weekly\", \"latin\", \"pleasure\", \"guilty\", \"emotional\", \"miserable\", \"nice\", \"listening\", \"easy\", \"pleasures\", \"female\", \"loved\", \"vocalist\", \"memories\", \"ballad\", \"country\", \"catchy\", \"soul\", \"christmas\", \"legend\", \"great\", \"cute\", \"dance\", \"sexy\", \"american\", \"singer\", \"songwriter\", \"best\", \"amazing\", \"songs\", \"favorites\", \"power\", \"rnb\", \"covers\", \"beautiful\", \"piano\", \"listen\", \"awesome\", \"romantic\", \"sad\", \"electronic\", \"seen\", \"soundtrack\", \"mellow\", \"indie\", \"emocore\", \"garage\", \"liebe\", \"dich\", \"ich\", \"luv\", \"screamo\", \"remember\", \"jukebox\", \"project\", \"hardcore\", \"ness\", \"christian\", \"emo\", \"punk\", \"idolo\", \"grunge\", \"fantastic\", \"gil\", \"post\", \"straight\", \"obsessed\", \"ive\", \"modern\", \"britpop\", \"mix\", \"marisa\", \"oui\", \"ska\", \"soft\", \"acoustic\", \"indie\", \"awesome\", \"male\", \"folk\", \"songs\", \"fucking\", \"seen\", \"cool\", \"roll\", \"favorites\", \"american\", \"beautiful\", \"cover\", \"favorite\", \"best\", \"singer\", \"songwriter\", \"sad\", \"listen\", \"hard\", \"classic\", \"soundtrack\", \"amazing\", \"place\", \"melrose\", \"rap\", \"hip\", \"hop\", \"vampire\", \"diaries\", \"indietronica\", \"duet\", \"gossip\", \"crazy\", \"urban\", \"beyonce\", \"madonna\", \"party\", \"rnb\", \"electropop\", \"girl\", \"feelings\", \"house\", \"hot\", \"electro\", \"harmonies\", \"furtado\", \"good\", \"nelly\", \"timberlake\", \"justin\", \"sweet\", \"dance\", \"addictive\", \"catchy\", \"listen\", \"sexy\", \"electronic\", \"fun\", \"female\", \"indie\", \"amazing\", \"electronica\", \"singer\", \"songwriter\", \"male\", \"seen\", \"chillout\", \"awesome\", \"mellow\", \"american\", \"cool\", \"beautiful\", \"garde\", \"avant\", \"artist\", \"idm\", \"shoegaze\", \"downtempo\", \"ambient\", \"dreamy\", \"ethereal\", \"art\", \"aana\", \"descoperiri\", \"noise\", \"melancholy\", \"classical\", \"trip\", \"special\", \"hypnotic\", \"experimental\", \"atmospheric\", \"dream\", \"psychedelic\", \"ultimate\", \"friends\", \"brilliant\", \"dark\", \"space\", \"relax\", \"instrumental\", \"genius\", \"chillout\", \"progressive\", \"electronica\", \"favorite\", \"mellow\", \"electronic\", \"beautiful\", \"indie\", \"songs\", \"piano\", \"epic\", \"new\", \"post\", \"chill\", \"soundtrack\", \"seen\", \"awesome\", \"metal\", \"heavy\", \"death\", \"thrash\", \"symphonic\", \"solo\", \"speed\", \"hair\", \"school\", \"metalcore\", \"hard\", \"album\", \"guitar\", \"prejebeno\", \"powerful\", \"gothic\", \"progressive\", \"roll\", \"halloween\", \"masterpiece\", \"swedish\", \"melodic\", \"german\", \"glam\", \"ohmydamn\", \"better\", \"metallica\", \"power\", \"listened\", \"row\", \"classic\", \"lyrics\", \"cover\", \"seen\", \"psychedelic\", \"epic\", \"favorite\", \"awesome\", \"male\", \"great\", \"american\", \"covers\", \"instrumental\", \"usa\", \"melancholic\", \"cool\", \"artists\", \"beowulfs\", \"choice\", \"synth\", \"electroclash\", \"eighties\", \"dub\", \"slowies\", \"single\", \"synthpop\", \"wave\", \"fav\", \"new\", \"trance\", \"techno\", \"college\", \"faves\", \"disco\", \"bands\", \"england\", \"remix\", \"german\", \"industrial\", \"gothic\", \"british\", \"rain\", \"space\", \"electronica\", \"electro\", \"house\", \"instrumental\", \"electronic\", \"dance\", \"favorites\", \"romantic\", \"favorite\", \"experimental\", \"male\", \"songs\", \"seen\", \"cover\", \"best\"], \"Total\": [391.0, 415.0, 462.0, 157.0, 140.0, 247.0, 117.0, 106.0, 122.0, 206.0, 59.0, 188.0, 98.0, 72.0, 99.0, 105.0, 61.0, 144.0, 122.0, 134.0, 99.0, 38.0, 89.0, 61.0, 95.0, 40.0, 77.0, 67.0, 90.0, 72.0, 19.45913489470916, 14.607489538571853, 19.8607320677716, 19.865834113760094, 19.87135049404774, 19.86970570631665, 24.370977249181585, 14.502561461620402, 28.025987212394796, 21.681519387592175, 13.11563642457015, 17.307815592739306, 37.786659306880146, 29.942746966481995, 35.21566424929216, 33.42524905336181, 43.135616039712424, 81.69278688687575, 40.794025706856246, 11.829734746375244, 18.739214465700275, 17.898321130420307, 17.89782393203626, 39.67588779767136, 415.1871835448224, 23.825182294912914, 149.5889461785634, 55.54639544333188, 106.33115331175507, 33.43533084076659, 122.75697191486077, 59.927760643059834, 49.46834224194908, 42.42085576599726, 105.97842432860314, 51.907839653991644, 206.75690278453413, 137.8271634477149, 172.07759537239022, 155.78929787204444, 155.80584430732478, 135.41466451676678, 168.16506568486923, 255.29110562826128, 173.8094004713043, 63.78776013823473, 77.11271461865043, 81.32194714431313, 178.22249863553952, 102.12370113879747, 138.39857102785206, 266.58708628092313, 86.12611429227758, 111.22586974541403, 188.73216320444652, 240.0467335549132, 125.69436085342161, 131.9581227722289, 462.8081561081281, 18.994809663498597, 22.37469024817384, 18.27438571208272, 18.27308497047438, 18.27853925238267, 21.804817377833626, 28.753423973282057, 12.97720605176318, 27.263730338596798, 27.261155307776846, 99.37380780357923, 15.597805167849959, 24.96120161732183, 90.11467856908477, 247.75382494031757, 28.823700168827898, 53.32080359578894, 34.964976147039344, 12.510566437526029, 144.72556116841417, 28.63720377407704, 26.4295375784182, 26.429050263076533, 27.629280488040386, 72.41262623092648, 18.227687808406746, 18.229094129020012, 26.504389298745078, 11.100851310409606, 54.635472848713405, 183.08586882571558, 462.8081561081281, 266.58708628092313, 210.35948210864322, 103.87343976256817, 255.29110562826128, 61.616279713033904, 240.0467335549132, 134.61465999568895, 67.9236530561572, 173.8094004713043, 172.07759537239022, 178.22249863553952, 122.630770635816, 210.75430261792985, 135.41466451676678, 155.78929787204444, 155.80584430732478, 111.22586974541403, 138.39857102785206, 122.32286213791278, 138.70786302853898, 125.69436085342161, 168.16506568486923, 24.52354261447045, 24.5239152408231, 44.089146420906204, 106.52576542505258, 140.23951149106725, 26.497660486560058, 26.495163158636956, 22.615689761549877, 19.96761419801914, 33.21452146560417, 13.460493628176339, 49.2944377444261, 14.748912902863252, 19.653491790317283, 38.90583407013983, 77.11271461865043, 47.15633706650102, 51.23707081531661, 10.77457684409173, 39.55947894496083, 46.55980042387945, 99.72718389982089, 11.628910348170582, 15.64281979702599, 32.122619610272636, 15.646261160388383, 15.330080985117744, 15.332018309553854, 62.345826246516765, 206.75690278453413, 43.96049354534359, 122.75697191486077, 138.39857102785206, 137.8271634477149, 188.73216320444652, 78.15000653326558, 415.1871835448224, 462.8081561081281, 168.16506568486923, 89.76904776723637, 155.78929787204444, 155.80584430732478, 210.35948210864322, 240.0467335549132, 134.39315539958287, 266.58708628092313, 131.9581227722289, 172.07759537239022, 134.61465999568895, 178.22249863553952, 21.504903648032275, 21.505724113587338, 19.819014179008743, 15.563498009056197, 17.678538222301846, 22.766050755295492, 72.51876011907025, 49.32833903663183, 22.2544537674214, 18.675548637559647, 25.37660269157446, 15.747763321555297, 20.974935245897893, 35.880619635365925, 17.708860212692734, 35.61671019183475, 19.914800321550693, 27.23212011882004, 105.54688602016337, 58.380800321105184, 28.08421755729655, 72.9532774013441, 24.15083229080483, 13.196542994693987, 53.708898394729715, 25.141583800386723, 21.275025696804512, 42.36604259817293, 95.75450873820391, 52.76412852155765, 134.39315539958287, 98.44154339355669, 89.76904776723637, 210.75430261792985, 131.9581227722289, 188.73216320444652, 178.22249863553952, 462.8081561081281, 255.29110562826128, 102.12370113879747, 104.28206679191119, 157.16597808059788, 144.72556116841417, 61.46107891461932, 125.69436085342161, 240.0467335549132, 266.58708628092313, 391.5722217310086, 59.75721777321877, 40.27277059691187, 20.346248515641257, 17.50769967868113, 19.2524332705723, 13.627857580119, 10.796567294326774, 10.440627794527861, 26.218887663902322, 122.32286213791278, 11.00826326881132, 47.99187628173463, 19.886015733608023, 19.177399905262426, 42.29625370158073, 98.44154339355669, 67.9236530561572, 18.093576534004633, 25.43542959267422, 17.0342123548632, 47.365307714286594, 11.666990205163234, 48.14633269953507, 18.3515330074492, 25.524101306564173, 25.533995597080416, 63.78776013823473, 20.062076204672547, 20.061895650606775, 138.70786302853898, 23.568647161329665, 122.630770635816, 240.0467335549132, 72.9532774013441, 104.28206679191119, 210.75430261792985, 266.58708628092313, 210.35948210864322, 105.97842432860314, 172.07759537239022, 81.32194714431313, 95.75450873820391, 85.30408205849717, 59.761351633704734, 134.61465999568895, 30.113643062061037, 15.66016270770504, 15.664951718435393, 38.510344922325395, 10.900757241627483, 17.850090282911694, 23.035304227052958, 24.287111124589703, 25.09173867913017, 61.333800674852334, 117.3087305055117, 47.4277486013166, 157.16597808059788, 17.011960675211206, 24.451901491701364, 14.119103713183922, 21.61725418718066, 31.04982469867867, 25.51274038278447, 12.441801293119603, 61.80931937322829, 11.666990205163234, 31.659401578583605, 42.29625370158073, 134.95772063364498, 19.684649072308197, 21.275025696804512, 89.76904776723637, 99.72718389982089, 39.55947894496083, 95.75450873820391, 188.73216320444652, 206.75690278453413, 173.8094004713043, 86.12611429227758, 210.75430261792985, 105.54688602016337, 210.35948210864322, 255.29110562826128, 240.0467335549132, 122.630770635816, 135.41466451676678], \"loglift\": [30.0, 29.0, 28.0, 27.0, 26.0, 25.0, 24.0, 23.0, 22.0, 21.0, 20.0, 19.0, 18.0, 17.0, 16.0, 15.0, 14.0, 13.0, 12.0, 11.0, 10.0, 9.0, 8.0, 7.0, 6.0, 5.0, 4.0, 3.0, 2.0, 1.0, 1.1916, 1.1811, 1.1797, 1.1796, 1.1782, 1.1763, 1.1695, 1.1581, 1.1544, 1.1526, 1.1497, 1.1446, 1.1105, 1.1076, 1.0993, 1.0992, 1.064, 1.0515, 1.0394, 1.036, 1.0271, 1.0153, 1.0134, 0.9897, 0.9826, 0.9748, 0.9469, 0.9464, 0.9016, 0.8866, 0.77, 0.8157, 0.8367, 0.8543, 0.6253, 0.7844, 0.4346, 0.5008, 0.4222, 0.4343, 0.4334, 0.4455, 0.3308, 0.1587, 0.2769, 0.6946, 0.5938, 0.5443, 0.1342, 0.3946, 0.1998, -0.3388, 0.417, 0.1882, -0.2862, -0.5139, 0.045, -0.001, -1.2362, 1.4305, 1.4278, 1.4072, 1.4064, 1.4057, 1.3824, 1.38, 1.359, 1.3458, 1.3452, 1.3277, 1.3056, 1.2973, 1.2926, 1.2868, 1.2852, 1.25, 1.2127, 1.1463, 1.1191, 1.0828, 1.0673, 1.0655, 1.0423, 1.0151, 1.0107, 1.0107, 1.0081, 1.0059, 0.992, 0.9735, 0.9529, 0.6631, 0.6196, 0.7503, 0.4461, 0.8217, 0.4207, 0.4956, 0.6948, 0.181, 0.1671, 0.0488, 0.2725, -0.1245, 0.1514, 0.0176, 0.0125, 0.2499, 0.0403, 0.1372, 0.019, 0.0922, -0.1949, 1.8941, 1.8939, 1.8281, 1.8215, 1.7003, 1.6106, 1.6101, 1.6028, 1.5258, 1.5129, 1.4054, 1.3947, 1.3046, 1.244, 1.2221, 1.2064, 1.1898, 1.1339, 1.1177, 1.0957, 1.0695, 1.0319, 0.9775, 0.9636, 0.957, 0.9519, 0.9505, 0.9484, 0.9378, 0.935, 0.9264, 0.8885, 0.8699, 0.8029, 0.7632, 0.8014, 0.4302, 0.3779, 0.4378, 0.6027, 0.2542, 0.2517, 0.0649, -0.1133, 0.2898, -0.3517, 0.2162, -0.0229, 0.1794, -0.133, 1.9792, 1.9787, 1.9785, 1.9514, 1.8771, 1.8594, 1.8458, 1.8064, 1.7274, 1.7094, 1.707, 1.6783, 1.6596, 1.6421, 1.6336, 1.589, 1.5847, 1.5841, 1.5465, 1.537, 1.4862, 1.4578, 1.3754, 1.3084, 1.2425, 1.2115, 1.1596, 1.1424, 1.1229, 1.1175, 1.0419, 1.0518, 1.0573, 0.8365, 0.7941, 0.5605, 0.5115, -0.1207, 0.1515, 0.642, 0.5966, 0.2743, 0.2621, 0.8687, 0.211, -0.383, -0.5252, 2.0267, 2.0261, 2.0124, 1.9986, 1.9923, 1.9875, 1.9766, 1.9589, 1.8293, 1.7209, 1.7098, 1.6513, 1.6384, 1.6197, 1.5466, 1.4714, 1.4226, 1.3958, 1.3644, 1.3642, 1.324, 1.297, 1.1696, 1.0955, 1.0884, 1.088, 1.0859, 1.0469, 1.0369, 1.0358, 1.0337, 1.0117, 0.6767, 0.4473, 0.731, 0.6347, 0.3098, 0.1985, 0.29, 0.5574, 0.1565, 0.5427, 0.4149, 0.4899, 0.7472, 0.016, 2.4059, 2.3608, 2.3601, 2.3484, 2.3389, 2.3176, 2.2349, 2.2119, 2.2036, 2.0077, 1.9541, 1.9438, 1.9225, 1.9016, 1.8995, 1.8702, 1.8346, 1.7698, 1.7609, 1.7594, 1.6062, 1.5517, 1.5344, 1.4464, 1.3432, 1.3246, 1.1892, 1.1649, 1.0977, 1.0677, 1.0476, 0.8664, 0.5864, 0.5137, 0.7616, 0.1524, 0.4703, -0.0766, -0.2351, -0.273, 0.322, 0.1977], \"logprob\": [30.0, 29.0, 28.0, 27.0, 26.0, 25.0, 24.0, 23.0, 22.0, 21.0, 20.0, 19.0, 18.0, 17.0, 16.0, 15.0, 14.0, 13.0, 12.0, 11.0, 10.0, 9.0, 8.0, 7.0, 6.0, 5.0, 4.0, 3.0, 2.0, 1.0, -5.4348, -5.7321, -5.4263, -5.4262, -5.4273, -5.4292, -5.2318, -5.7623, -5.1072, -5.3657, -5.8712, -5.5989, -4.8522, -5.0879, -4.934, -4.9862, -4.7664, -4.1403, -4.8468, -6.0881, -5.637, -5.6947, -5.6967, -4.9242, -2.5834, -5.4492, -3.6399, -4.6311, -4.0265, -5.1985, -4.0145, -4.6859, -4.8567, -4.9928, -4.3062, -4.8609, -3.8286, -4.1679, -4.0246, -4.1119, -4.1127, -4.2409, -4.139, -3.8937, -4.1599, -4.7446, -4.6556, -4.652, -4.2775, -4.5739, -4.4647, -4.3478, -4.7219, -4.6949, -4.6405, -4.6278, -4.7159, -4.7132, -4.6937, -5.22, -5.0589, -5.282, -5.2829, -5.2833, -5.1302, -4.8559, -5.6725, -4.9434, -4.944, -3.6682, -5.542, -5.0801, -3.801, -2.7955, -4.9483, -4.3684, -4.8277, -5.9218, -3.5007, -5.1572, -5.253, -5.2548, -5.2336, -4.2973, -5.6811, -5.681, -5.3093, -6.1818, -4.6021, -3.4112, -2.5045, -3.3459, -3.6263, -4.2013, -3.6062, -4.6521, -3.6932, -4.1967, -4.6815, -4.2558, -4.2797, -4.3629, -4.5131, -4.3685, -4.535, -4.5286, -4.5336, -4.6332, -4.6243, -4.6508, -4.6434, -4.6687, -4.6647, -4.501, -4.5012, -3.9804, -3.1049, -2.951, -4.707, -4.7077, -4.8733, -5.0749, -4.5788, -5.5896, -4.3022, -5.5989, -5.3725, -4.7115, -4.043, -4.5514, -4.5243, -6.0998, -4.8212, -4.6845, -3.9604, -6.1637, -5.8811, -5.1682, -5.8926, -5.9144, -5.9164, -4.5243, -3.3281, -4.885, -3.896, -3.7947, -3.8658, -3.5912, -4.4347, -3.1358, -3.0795, -4.032, -4.4948, -4.292, -4.2944, -4.181, -4.2272, -4.4041, -4.3607, -4.4961, -4.4697, -4.5129, -4.5446, -4.5473, -4.5477, -4.6296, -4.8984, -4.8453, -4.61, -3.4651, -3.8898, -4.7648, -4.9581, -4.6539, -5.1597, -4.8917, -4.3725, -5.087, -4.4329, -5.0186, -4.7062, -3.389, -3.9907, -4.7733, -3.8471, -5.035, -5.7064, -4.3686, -5.1587, -5.3776, -4.706, -3.91, -4.5114, -3.652, -3.9535, -4.0402, -3.4075, -3.9182, -3.7939, -3.9001, -3.5781, -3.9008, -4.3265, -4.351, -4.2631, -4.3578, -4.6077, -4.5499, -4.4968, -4.5342, -1.5979, -3.4783, -3.8866, -4.5832, -4.7398, -4.6496, -5.0061, -5.2566, -5.4197, -4.6073, -3.0782, -5.5448, -4.0853, -4.985, -5.0944, -4.3786, -3.5827, -3.9805, -5.3347, -4.9944, -5.4355, -4.4398, -5.9684, -4.625, -5.5966, -5.2671, -5.2688, -4.3922, -5.559, -5.5601, -3.6286, -5.4231, -4.1088, -3.6666, -4.5739, -4.3129, -3.9342, -3.8105, -3.9559, -4.3741, -4.2903, -4.6536, -4.618, -4.6586, -4.7572, -4.6763, -3.7838, -4.4828, -4.4832, -3.5954, -4.867, -4.3952, -4.2228, -4.1929, -4.1686, -3.4707, -2.8758, -3.7917, -2.6149, -4.8592, -4.4985, -5.077, -4.6867, -4.3894, -4.5946, -5.3142, -3.8645, -5.5863, -4.6053, -4.4036, -3.3466, -5.2903, -5.348, -3.9326, -3.8946, -4.8492, -3.9854, -3.488, -3.6768, -3.9231, -4.3773, -4.0916, -4.4652, -4.3225, -4.2874, -4.3869, -4.4636, -4.4887]}, \"token.table\": {\"Topic\": [2, 4, 6, 1, 2, 3, 4, 5, 6, 1, 2, 3, 4, 5, 2, 5, 6, 1, 2, 3, 4, 5, 6, 1, 3, 4, 6, 1, 2, 3, 4, 5, 4, 5, 4, 6, 1, 2, 3, 4, 5, 6, 4, 1, 2, 3, 4, 5, 6, 1, 2, 3, 4, 5, 6, 1, 2, 4, 6, 1, 2, 3, 4, 5, 6, 6, 1, 2, 3, 4, 5, 6, 2, 4, 5, 1, 3, 1, 2, 3, 4, 6, 1, 2, 3, 4, 5, 6, 1, 2, 3, 4, 6, 1, 2, 3, 4, 1, 2, 3, 4, 1, 2, 3, 4, 5, 6, 6, 1, 2, 5, 1, 2, 5, 6, 1, 2, 3, 4, 5, 6, 1, 4, 6, 2, 6, 1, 2, 3, 4, 5, 6, 1, 2, 3, 5, 1, 2, 3, 4, 5, 6, 1, 2, 3, 4, 5, 6, 1, 2, 3, 5, 1, 2, 3, 1, 2, 3, 4, 5, 6, 1, 3, 4, 5, 6, 2, 5, 2, 4, 6, 2, 3, 2, 1, 3, 6, 1, 1, 3, 1, 3, 4, 1, 3, 4, 1, 2, 3, 4, 2, 4, 6, 1, 3, 1, 3, 4, 6, 1, 3, 4, 6, 6, 1, 2, 3, 4, 5, 6, 1, 2, 3, 4, 6, 1, 3, 6, 1, 2, 3, 5, 2, 1, 2, 4, 5, 1, 4, 6, 1, 2, 3, 4, 5, 6, 1, 4, 5, 6, 1, 2, 3, 4, 5, 6, 2, 3, 5, 1, 2, 4, 5, 6, 1, 2, 4, 5, 6, 1, 2, 3, 4, 5, 6, 1, 2, 3, 4, 5, 6, 3, 4, 6, 1, 2, 3, 4, 5, 6, 1, 2, 3, 4, 1, 2, 4, 5, 1, 2, 4, 5, 1, 2, 3, 4, 6, 1, 3, 1, 3, 2, 4, 1, 2, 3, 4, 5, 2, 5, 6, 2, 5, 1, 2, 3, 4, 1, 3, 4, 5, 6, 1, 2, 3, 5, 1, 2, 3, 4, 1, 5, 6, 1, 2, 3, 4, 5, 6, 1, 2, 5, 6, 1, 2, 3, 5, 6, 1, 2, 3, 4, 5, 5, 1, 2, 5, 6, 1, 2, 5, 2, 5, 1, 3, 5, 1, 3, 4, 1, 6, 1, 3, 4, 1, 3, 6, 1, 3, 5, 6, 1, 3, 4, 5, 6, 2, 4, 1, 2, 3, 6, 1, 2, 3, 4, 5, 6, 3, 4, 4, 5, 6, 1, 2, 3, 4, 5, 6, 2, 3, 4, 1, 2, 4, 5, 1, 3, 1, 3, 1, 4, 5, 6, 2, 1, 2, 3, 4, 1, 2, 3, 4, 5, 1, 3, 1, 2, 3, 1, 3, 5, 2, 3, 1, 3, 5, 6, 1, 3, 1, 2, 3, 4, 5, 6, 2, 4, 5, 1, 2, 4, 5, 1, 2, 4, 5, 6, 1, 4, 5, 6, 1, 2, 3, 4, 5, 6, 1, 2, 5, 6, 2, 3, 1, 2, 3, 4, 5, 1, 2, 5, 2, 5, 2, 4, 5, 1, 2, 2, 4, 5, 1, 2, 4, 1, 3, 2, 3, 1, 2, 3, 4, 5, 6, 1, 3, 2, 4, 6, 2, 4, 2, 4, 5, 1, 2, 3, 4, 1, 3, 5, 6, 1, 2, 3, 4, 5, 6, 2, 3, 1, 2, 3, 1, 2, 5, 6, 1, 2, 4, 5, 6, 1, 2, 3, 5, 1, 5, 1, 2, 5, 2, 4, 5, 2, 4, 1, 2, 3, 4, 5, 1, 2, 3, 4, 5, 6, 1, 1, 2, 4, 5, 6, 1, 3, 4, 1, 2, 3, 4, 2, 3, 1, 3, 6, 1, 3, 2, 4, 5, 1, 2, 3, 4, 5, 6, 1, 2, 3, 4, 5, 1, 2, 3, 4, 5, 6, 5, 6, 2, 5, 1, 2, 3, 4, 5, 6, 1, 1, 2, 3, 4, 5, 6, 2, 3, 4, 1, 2, 3, 4, 5, 6, 1, 6, 1, 3, 1, 2, 1, 4, 6, 1, 2, 3, 5, 5, 1, 2, 3, 4, 5, 6, 1, 2, 3, 4, 5, 6, 1, 3, 4, 1, 2, 3, 4, 5, 6, 3, 4, 5, 6, 1, 2, 3, 4, 5, 1, 2, 4, 1, 2, 4, 5, 1, 2, 3, 4, 6, 5, 1, 3, 5, 6, 1, 3, 4, 6, 1, 3, 6, 1, 3, 5, 1, 3, 1, 3, 4, 6, 1, 3, 4, 4, 5, 6, 1, 3, 1, 2, 3, 4, 5, 2, 3, 1, 2, 3, 5, 6, 1, 1, 3, 1, 2, 3, 4, 6, 1, 3, 5], \"Freq\": [0.15762551231209843, 0.7093148054044429, 0.07881275615604921, 0.1911671295249851, 0.600810978507096, 0.06554301583713774, 0.027309589932140728, 0.08739068778285032, 0.027309589932140728, 0.5459447350208866, 0.02274769729253694, 0.36396315668059104, 0.04549539458507388, 0.04549539458507388, 0.09084085069378803, 0.6358859548565162, 0.18168170138757606, 0.39841806457920215, 0.18434268659634725, 0.2200219162601564, 0.10109115071412592, 0.07730499760491982, 0.017839614831904573, 0.055158141058014594, 0.027579070529007297, 0.8273721158702189, 0.0827372115870219, 0.4358498841042831, 0.26732126225062697, 0.1394719629133706, 0.005811331788057108, 0.1510946264894848, 0.6960973544763676, 0.21418380137734386, 0.9586753321022294, 0.9630186537123411, 0.03425783800495421, 0.03425783800495421, 0.03425783800495421, 0.5995121650866987, 0.06851567600990842, 0.20554702802972524, 0.9299849609511163, 0.2025604493951222, 0.4426320931226744, 0.09752910526431809, 0.07502238866486007, 0.15754701619620615, 0.02250671659945802, 0.7053436143978007, 0.05642748915182406, 0.06583207067712807, 0.009404581525304009, 0.15047330440486414, 0.018809163050608018, 0.039196103005648956, 0.1959805150282448, 0.2743727210395427, 0.5095493390734365, 0.3254359042435407, 0.24127144624952154, 0.12344120505789474, 0.21882759078444977, 0.06172060252894737, 0.03366578319760766, 0.8939881571672168, 0.443083474113477, 0.26585008446808617, 0.08123197025413745, 0.09600141939125334, 0.014769449137115899, 0.10338614395981129, 0.5093225357421974, 0.11753596978666095, 0.3917865659555365, 0.40680964349821347, 0.542412857997618, 0.1489511093898179, 0.22342666408472683, 0.1489511093898179, 0.44685332816945367, 0.018618888673727237, 0.11855564783457967, 0.19265292773119194, 0.15560428778288582, 0.14078483180356335, 0.06668755190695107, 0.3334377595347553, 0.12428771705225378, 0.6214385852612689, 0.12428771705225378, 0.06904873169569654, 0.04142923901741793, 0.6191094388733416, 0.02443853048184243, 0.342139426745794, 0.00814617682728081, 0.29286827237454277, 0.2603273532218158, 0.1301636766109079, 0.3091387319509063, 0.20090308855181327, 0.19346223342026464, 0.186021378288716, 0.3646019014458834, 0.00744085513154864, 0.04464513078929184, 0.8937148515768495, 0.08012434780431803, 0.8413056519453394, 0.040062173902159014, 0.667093306636341, 0.20214948685949727, 0.060644846057849186, 0.08085979474379891, 0.1441879325607159, 0.23070069209714547, 0.028837586512143184, 0.12976913930464434, 0.3604698314017898, 0.10093155279250114, 0.22587563242116626, 0.6776268972634988, 0.056468908105291565, 0.35413012763205187, 0.566608204211283, 0.17828667398312043, 0.37143057079816755, 0.17085806256715708, 0.08914333699156021, 0.13371500548734033, 0.05942889132770681, 0.6878950924558181, 0.1495424114034387, 0.08972544684206324, 0.05981696456137549, 0.26094592600280014, 0.30171872694073765, 0.03261824075035002, 0.03261824075035002, 0.2527913658152126, 0.12231840281381257, 0.4918721378992118, 0.14756164136976355, 0.02459360689496059, 0.02459360689496059, 0.2213424620546453, 0.08607762413236207, 0.2971659220303, 0.074291480507575, 0.5943318440606, 0.074291480507575, 0.6164772067823717, 0.057794738135847346, 0.2889736906792367, 0.44013040809976284, 0.004836597891206185, 0.3579082439492577, 0.024182989456030927, 0.00967319578241237, 0.15477113251859792, 0.11932422491035966, 0.11932422491035966, 0.43752215800465205, 0.0795494832735731, 0.2386484498207193, 0.02483067306217766, 0.9683962494249286, 0.1270021627301466, 0.6985118950158063, 0.1270021627301466, 0.264199165639715, 0.7171120210220836, 0.9303300470319364, 0.386475611906133, 0.0644126019843555, 0.515300815874844, 0.9584124611578365, 0.8733240938817632, 0.1058574659250622, 0.04392505361376282, 0.08785010722752563, 0.8345760186614936, 0.284857499899317, 0.10682156246224389, 0.569714999798634, 0.06081696766177679, 0.0202723225539256, 0.12163393532355359, 0.7906205796030983, 0.08682325096671284, 0.08682325096671284, 0.824820884183772, 0.3004865749356887, 0.6510542456939922, 0.782217997738857, 0.16761814237261222, 0.05602212561116978, 0.8963540097787165, 0.22060183732952587, 0.3910668934477959, 0.12032827490701412, 0.2607112622985306, 0.9173674615752657, 0.21194055809485685, 0.026492569761857106, 0.302015295285171, 0.2278360999519711, 0.026492569761857106, 0.2066420441424854, 0.06683818252765138, 0.011139697087941896, 0.2562130330226636, 0.3787497009900245, 0.2784924271985474, 0.4241211519842076, 0.46653326718262833, 0.1060302879960519, 0.11096971280137988, 0.8322728460103491, 0.011096971280137988, 0.04438788512055195, 0.9476272897111323, 0.8089419817778292, 0.12256696693603472, 0.04902678677441389, 0.024513393387206945, 0.08037421402582651, 0.32149685610330603, 0.48224528415495904, 0.18219815337869547, 0.2301450358467732, 0.02876812948084665, 0.23973441234038878, 0.23973441234038878, 0.07671501194892441, 0.0898696513022408, 0.7189572104179264, 0.0449348256511204, 0.13480447695336117, 0.009474462371243837, 0.11369354845492605, 0.0757956989699507, 0.6063655917596056, 0.047372311856219186, 0.14211693556865754, 0.772201298992913, 0.08580014433254589, 0.14300024055424315, 0.08433881257203424, 0.1054235157150428, 0.1054235157150428, 0.08433881257203424, 0.6114563911472483, 0.09251868820537017, 0.046259344102685084, 0.2775560646161105, 0.09251868820537017, 0.555112129232221, 0.16132529479902283, 0.19928418769291054, 0.061683200952567546, 0.2989262815393658, 0.17555987963423073, 0.09964209384645527, 0.37397286811728814, 0.27041115079250067, 0.07479457362345764, 0.07479457362345764, 0.057534287402659715, 0.14383571850664928, 0.46405534735610193, 0.27843320841366115, 0.18562213894244076, 0.7635110440873655, 0.002408552189550049, 0.21676969705950438, 0.004817104379100098, 0.009634208758200195, 0.002408552189550049, 0.2117962017074544, 0.4813550038805781, 0.1829149014746197, 0.11552520093133875, 0.07577742143545291, 0.07577742143545291, 0.45466452861271744, 0.30310968574181163, 0.08114738545213292, 0.5193432668936506, 0.1785242479946924, 0.2109832021755456, 0.4478566484201353, 0.17914265936805412, 0.31989760601438233, 0.02559180848115059, 0.038387712721725885, 0.5753438393320288, 0.3835625595546859, 0.9059016910490896, 0.05032787172494942, 0.9385604791428994, 0.9300204421901711, 0.1326658886660098, 0.37904539618859945, 0.01895226980942997, 0.39799766599802944, 0.07580907923771989, 0.08571190876267723, 0.4285595438133861, 0.4285595438133861, 0.7193918872453352, 0.23979729574844508, 0.4488937332679148, 0.01951711883773543, 0.42937661443017944, 0.07806847535094172, 0.373860250423057, 0.062310041737176164, 0.020770013912392055, 0.39463026433544907, 0.14539009738674438, 0.43582995938235614, 0.03113071138445401, 0.37356853661344813, 0.15565355692227006, 0.2408585054667889, 0.030107313183348614, 0.6322535768503209, 0.09032193955004585, 0.047285511717205686, 0.5674261406064682, 0.3782840937376455, 0.5378453242828214, 0.06605118017508332, 0.03774353152861904, 0.11323059458585713, 0.22646118917171426, 0.01887176576430952, 0.03750881204194664, 0.7876850528808795, 0.1687896541887599, 0.01875440602097332, 0.820145848283746, 0.09792786248164131, 0.012240982810205164, 0.012240982810205164, 0.06120491405102583, 0.020836859849561518, 0.18753173864605363, 0.020836859849561518, 0.08334743939824607, 0.6667795151859686, 0.9262203186798694, 0.11053646559270623, 0.22107293118541246, 0.49741409516717805, 0.16580469838905934, 0.016350173344906713, 0.2616027735185074, 0.711232540503442, 0.8553561736107539, 0.1308191794934094, 0.5159554782313631, 0.3439703188209088, 0.9873284299129782, 0.11264880333990876, 0.8730282258842929, 0.00938740027832573, 0.9244378595478022, 0.05777736622173764, 0.11409052862408996, 0.7701110682126072, 0.10695987058508433, 0.5154661270345771, 0.40807735056904015, 0.04295551058621475, 0.3033406991203201, 0.4297326570871201, 0.025278391593360004, 0.25278391593360006, 0.11016402641110226, 0.07344268427406818, 0.6242628163295795, 0.14688536854813636, 0.03672134213703409, 0.9300524382868282, 0.8995407068419697, 0.8963933739845349, 0.8326481284299297, 0.06938734403582748, 0.10408101605374122, 0.08210745532134027, 0.5898772448085761, 0.20526863830335065, 0.11451829294818511, 0.002160722508456323, 0.002160722508456323, 0.7074734473587643, 0.2653025427595366, 0.28427574594739535, 0.3158619399415504, 0.4106205219240155, 0.010443372465457831, 0.12532046958549398, 0.020886744930915663, 0.39684815368739756, 0.19842407684369878, 0.25064093917098795, 0.6432315891332024, 0.037837152301953086, 0.3026972184156247, 0.9060782395002623, 0.8802903968729331, 0.07335753307274442, 0.03667876653637221, 0.5870068648686535, 0.39133790991243567, 0.8676075966914379, 0.11967001333675005, 0.6600526909323597, 0.02357331039044142, 0.16501317273308994, 0.11786655195220709, 0.9302638276240325, 0.3468243901907067, 0.23844176825611088, 0.33959888206173366, 0.07225508128973057, 0.2990717380787624, 0.1495358690393812, 0.049845289679793736, 0.1495358690393812, 0.34891702775855615, 0.782196268464831, 0.16761348609960663, 0.7555031385360401, 0.04197239658533556, 0.16788958634134224, 0.8683238057318015, 0.03339706945122314, 0.06679413890244627, 0.9172285029239287, 0.045861425146196434, 0.5091509885085402, 0.04242924904237835, 0.3394339923390268, 0.0848584980847567, 0.45793389266501966, 0.5088154362944664, 0.15687431661842877, 0.42308527815273217, 0.15212054944817335, 0.01901506868102167, 0.17113561812919503, 0.0808140418943421, 0.6034309726059522, 0.21942944458398264, 0.10971472229199132, 0.19657619627702588, 0.15726095702162068, 0.11794571776621553, 0.5110981103202673, 0.2342651164553674, 0.2342651164553674, 0.2342651164553674, 0.267731561663277, 0.033466445207909624, 0.1393509936788194, 0.6688847696583331, 0.11148079494305552, 0.05574039747152776, 0.28797014690479705, 0.23492301458022916, 0.17429772049500872, 0.28797014690479705, 0.007578161760652553, 0.007578161760652553, 0.16889999001499137, 0.25334998502248707, 0.4644749725412263, 0.08444999500749568, 0.040776523250063104, 0.9378600347514513, 0.7381217029974153, 0.1260207785605343, 0.054008905097371857, 0.018002968365790618, 0.054008905097371857, 0.0025538073042549792, 0.015322843825529875, 0.980662004833912, 0.26698310354475757, 0.7246684239071991, 0.5091251759080915, 0.07832695013970638, 0.3916347506985319, 0.8453274916467679, 0.08453274916467679, 0.6034775291096832, 0.219446374221703, 0.1097231871108515, 0.0361934868493177, 0.6514827632877187, 0.32574138164385935, 0.5752172936231748, 0.3834781957487832, 0.8334505951385693, 0.1282231684828568, 0.05726430179045887, 0.1463421045756171, 0.03181350099469937, 0.1717929053713766, 0.006362700198939874, 0.5917311185014082, 0.8004604476594028, 0.16009208953188056, 0.23837975857293098, 0.6674633240042067, 0.04767595171458619, 0.6432197290459535, 0.3026916371980958, 0.4359308836353162, 0.16347408136324357, 0.38143952318090163, 0.03772959975528837, 0.6414031958399022, 0.11318879926586511, 0.22637759853173023, 0.35984320435749195, 0.48835863448516764, 0.02570308602553514, 0.1285154301276757, 0.42105798674059236, 0.14688069304904383, 0.11750455443923508, 0.24480115508173972, 0.009792046203269589, 0.05875227721961754, 0.040777142834573024, 0.9378742851951796, 0.8345771616396278, 0.13909619360660463, 0.023182698934434108, 0.7561267476353926, 0.0504084498423595, 0.02520422492117975, 0.1512253495270785, 0.006909629452646036, 0.6978725747172496, 0.16583110686350486, 0.041457776715876214, 0.08291555343175243, 0.5643715960865258, 0.01567698878018127, 0.047030966340543816, 0.3605707419441692, 0.3650129858364765, 0.6257365471482454, 0.10057318805294586, 0.20114637610589173, 0.6537257223441482, 0.08126650318775504, 0.37585757724336705, 0.5383905836188771, 0.8803735472338353, 0.07336446226948627, 0.013707403363095184, 0.15078143699404703, 0.013707403363095184, 0.5620035378869026, 0.2741480672619037, 0.06861649867199911, 0.8233979840639893, 0.016145058511058612, 0.008072529255529306, 0.03632638164988188, 0.04843517553317584, 0.9058267079226304, 0.10160201447601842, 0.15240302171402764, 0.10160201447601842, 0.25400503619004605, 0.3048060434280553, 0.06804395738034655, 0.8845714459445051, 0.02268131912678218, 0.28324571435231266, 0.16522666670551572, 0.14162285717615633, 0.4012647619991096, 0.8476400818576398, 0.07705818925978544, 0.4691849108527942, 0.08089395014703347, 0.4368273307939808, 0.5187212017864253, 0.4668490816077828, 0.45639476979205085, 0.014722411928775834, 0.5152844175071541, 0.4296025694882368, 0.19738496435946012, 0.069665281538633, 0.011610880256438832, 0.10449792230794948, 0.18577408410302132, 0.29907442967975606, 0.14953721483987803, 0.04984573827995934, 0.14953721483987803, 0.3489201679597154, 0.34164713736991736, 0.28770285252203565, 0.10788856969576337, 0.1348607121197042, 0.10788856969576337, 0.008990714141313614, 0.7662374483067922, 0.09577968103834902, 0.9042401358585829, 0.0695569335275833, 0.17080007460555935, 0.3457660046893031, 0.12497566434553123, 0.08748296504187186, 0.20412691843103434, 0.06665368765094999, 0.9063110029669528, 0.471605149333701, 0.007255463835903093, 0.311984944943833, 0.13785381288215875, 0.043532783015418554, 0.02902185534361237, 0.11313152563015409, 0.056565762815077046, 0.8484864422261557, 0.4429059052353665, 0.23108134186193036, 0.17972993255927916, 0.09628389244247097, 0.012837852325662797, 0.03851355697698839, 0.1594150190686851, 0.7970750953434256, 0.9027130826581357, 0.041032412848097076, 0.27024954358111336, 0.6305822683559311, 0.04117410238171723, 0.1235223071451517, 0.7823079452526274, 0.2196375243832558, 0.6223063190858914, 0.018303127031937982, 0.14642501625550386, 0.9349467543675808, 0.3329532370147341, 0.3564558184510683, 0.02741967834238987, 0.15276677933617214, 0.06267355049689113, 0.07050774430900252, 0.4428588690415136, 0.23105680123905056, 0.17971084540815044, 0.09627366718293774, 0.012836488957725031, 0.038509466873175094, 0.65078353640295, 0.3003616321859769, 0.03337351468733077, 0.3023206430423213, 0.2466299982713674, 0.07160225756265505, 0.1591161279170112, 0.11138128954190785, 0.10342548314605729, 0.18801387396682656, 0.4230312164253598, 0.09400693698341328, 0.28202081095023984, 0.9149384453445069, 0.3012834627072375, 0.05021391045120625, 0.6527808358656813, 0.9539283723484937, 0.03491961044413211, 0.66347259843851, 0.2793568835530569, 0.1761161559749789, 0.11741077064998594, 0.23482154129997188, 0.46964308259994375, 0.3207913216342592, 0.27267262338912035, 0.35287045379768517, 0.03207913216342592, 0.01603956608171296, 0.9710013486637911, 0.05193409729344051, 0.025967048646720257, 0.025967048646720257, 0.9088467026352091, 0.048912670778447936, 0.17934645952097575, 0.11412956514971184, 0.6521689437126391, 0.16358645978340558, 0.20448307472925698, 0.5725526092419195, 0.8920292373837765, 0.07136233899070211, 0.9338330840397273, 0.5870810473041265, 0.39138736486941766, 0.05878217209008361, 0.23512868836033443, 0.11756434418016722, 0.5878217209008361, 0.028076708786800117, 0.3088437966548013, 0.6457643020964027, 0.4968772858635134, 0.20703220244313056, 0.2484386429317567, 0.4057252890010186, 0.5680154046014261, 0.29306921071908704, 0.316514747576614, 0.1406732211451618, 0.03516830528629045, 0.21100983171774268, 0.26417426563188423, 0.7170444352865429, 0.7353484519417209, 0.02673994370697167, 0.13369971853485835, 0.08690481704765793, 0.013369971853485835, 0.9250154283525784, 0.9224445779130005, 0.04612222889565002, 0.059671603041268166, 0.17049029440362334, 0.008524514720181167, 0.14491675024307984, 0.613765059853044, 0.8518936285747614, 0.05679290857165076, 0.08518936285747614], \"Term\": [\"aana\", \"aana\", \"aana\", \"acoustic\", \"acoustic\", \"acoustic\", \"acoustic\", \"acoustic\", \"acoustic\", \"addictive\", \"addictive\", \"addictive\", \"addictive\", \"addictive\", \"album\", \"album\", \"album\", \"amazing\", \"amazing\", \"amazing\", \"amazing\", \"amazing\", \"amazing\", \"ambient\", \"ambient\", \"ambient\", \"ambient\", \"american\", \"american\", \"american\", \"american\", \"american\", \"art\", \"art\", \"artist\", \"artists\", \"atmospheric\", \"atmospheric\", \"atmospheric\", \"atmospheric\", \"atmospheric\", \"atmospheric\", \"avant\", \"awesome\", \"awesome\", \"awesome\", \"awesome\", \"awesome\", \"awesome\", \"ballad\", \"ballad\", \"ballad\", \"ballad\", \"ballad\", \"ballad\", \"bands\", \"bands\", \"bands\", \"bands\", \"beautiful\", \"beautiful\", \"beautiful\", \"beautiful\", \"beautiful\", \"beautiful\", \"beowulfs\", \"best\", \"best\", \"best\", \"best\", \"best\", \"best\", \"better\", \"better\", \"better\", \"beyonce\", \"beyonce\", \"brilliant\", \"brilliant\", \"brilliant\", \"brilliant\", \"brilliant\", \"british\", \"british\", \"british\", \"british\", \"british\", \"british\", \"britpop\", \"britpop\", \"britpop\", \"britpop\", \"britpop\", \"catchy\", \"catchy\", \"catchy\", \"catchy\", \"chill\", \"chill\", \"chill\", \"chill\", \"chillout\", \"chillout\", \"chillout\", \"chillout\", \"chillout\", \"chillout\", \"choice\", \"christian\", \"christian\", \"christian\", \"christmas\", \"christmas\", \"christmas\", \"christmas\", \"classic\", \"classic\", \"classic\", \"classic\", \"classic\", \"classic\", \"classical\", \"classical\", \"classical\", \"college\", \"college\", \"cool\", \"cool\", \"cool\", \"cool\", \"cool\", \"cool\", \"country\", \"country\", \"country\", \"country\", \"cover\", \"cover\", \"cover\", \"cover\", \"cover\", \"cover\", \"covers\", \"covers\", \"covers\", \"covers\", \"covers\", \"covers\", \"crazy\", \"crazy\", \"crazy\", \"crazy\", \"cute\", \"cute\", \"cute\", \"dance\", \"dance\", \"dance\", \"dance\", \"dance\", \"dance\", \"dark\", \"dark\", \"dark\", \"dark\", \"dark\", \"death\", \"death\", \"descoperiri\", \"descoperiri\", \"descoperiri\", \"diaries\", \"diaries\", \"dich\", \"disco\", \"disco\", \"disco\", \"disney\", \"diva\", \"diva\", \"downtempo\", \"downtempo\", \"downtempo\", \"dream\", \"dream\", \"dream\", \"dreamy\", \"dreamy\", \"dreamy\", \"dreamy\", \"dub\", \"dub\", \"dub\", \"duet\", \"duet\", \"easy\", \"easy\", \"eighties\", \"eighties\", \"electro\", \"electro\", \"electro\", \"electro\", \"electroclash\", \"electronic\", \"electronic\", \"electronic\", \"electronic\", \"electronic\", \"electronic\", \"electronica\", \"electronica\", \"electronica\", \"electronica\", \"electronica\", \"electropop\", \"electropop\", \"electropop\", \"emo\", \"emo\", \"emo\", \"emo\", \"emocore\", \"emotional\", \"emotional\", \"emotional\", \"emotional\", \"england\", \"england\", \"england\", \"epic\", \"epic\", \"epic\", \"epic\", \"epic\", \"epic\", \"ethereal\", \"ethereal\", \"ethereal\", \"ethereal\", \"experimental\", \"experimental\", \"experimental\", \"experimental\", \"experimental\", \"experimental\", \"fantastic\", \"fantastic\", \"fantastic\", \"fav\", \"fav\", \"fav\", \"fav\", \"fav\", \"faves\", \"faves\", \"faves\", \"faves\", \"faves\", \"favorite\", \"favorite\", \"favorite\", \"favorite\", \"favorite\", \"favorite\", \"favorites\", \"favorites\", \"favorites\", \"favorites\", \"favorites\", \"favorites\", \"feelings\", \"feelings\", \"feelings\", \"female\", \"female\", \"female\", \"female\", \"female\", \"female\", \"folk\", \"folk\", \"folk\", \"folk\", \"friends\", \"friends\", \"friends\", \"friends\", \"fucking\", \"fucking\", \"fucking\", \"fucking\", \"fun\", \"fun\", \"fun\", \"fun\", \"fun\", \"furtado\", \"furtado\", \"future\", \"future\", \"garage\", \"garde\", \"genius\", \"genius\", \"genius\", \"genius\", \"genius\", \"german\", \"german\", \"german\", \"gil\", \"gil\", \"girl\", \"girl\", \"girl\", \"girl\", \"glam\", \"glam\", \"glam\", \"glam\", \"glam\", \"good\", \"good\", \"good\", \"good\", \"gossip\", \"gossip\", \"gossip\", \"gossip\", \"gothic\", \"gothic\", \"gothic\", \"great\", \"great\", \"great\", \"great\", \"great\", \"great\", \"grunge\", \"grunge\", \"grunge\", \"grunge\", \"guilty\", \"guilty\", \"guilty\", \"guilty\", \"guilty\", \"guitar\", \"guitar\", \"guitar\", \"guitar\", \"guitar\", \"hair\", \"halloween\", \"halloween\", \"halloween\", \"halloween\", \"hard\", \"hard\", \"hard\", \"hardcore\", \"hardcore\", \"harmonies\", \"harmonies\", \"heavy\", \"hip\", \"hip\", \"hip\", \"hit\", \"hit\", \"hop\", \"hop\", \"hop\", \"hot\", \"hot\", \"hot\", \"house\", \"house\", \"house\", \"house\", \"hypnotic\", \"hypnotic\", \"hypnotic\", \"hypnotic\", \"hypnotic\", \"ich\", \"idm\", \"idol\", \"idolo\", \"idolo\", \"idolo\", \"indie\", \"indie\", \"indie\", \"indie\", \"indie\", \"indie\", \"indietronica\", \"indietronica\", \"industrial\", \"industrial\", \"industrial\", \"instrumental\", \"instrumental\", \"instrumental\", \"instrumental\", \"instrumental\", \"instrumental\", \"ive\", \"ive\", \"ive\", \"jet\", \"jukebox\", \"jukebox\", \"jukebox\", \"justin\", \"justin\", \"latin\", \"latin\", \"legend\", \"legend\", \"legend\", \"legend\", \"liebe\", \"listen\", \"listen\", \"listen\", \"listen\", \"listened\", \"listened\", \"listened\", \"listened\", \"listened\", \"listening\", \"listening\", \"loved\", \"loved\", \"loved\", \"lpa\", \"lpa\", \"lpa\", \"luv\", \"luv\", \"lyrics\", \"lyrics\", \"lyrics\", \"lyrics\", \"madonna\", \"madonna\", \"male\", \"male\", \"male\", \"male\", \"male\", \"male\", \"marisa\", \"marisa\", \"marisa\", \"masterpiece\", \"masterpiece\", \"masterpiece\", \"masterpiece\", \"melancholic\", \"melancholic\", \"melancholic\", \"melancholic\", \"melancholic\", \"melancholy\", \"melancholy\", \"melancholy\", \"melancholy\", \"mellow\", \"mellow\", \"mellow\", \"mellow\", \"mellow\", \"mellow\", \"melodic\", \"melodic\", \"melodic\", \"melodic\", \"melrose\", \"melrose\", \"memories\", \"memories\", \"memories\", \"memories\", \"memories\", \"metal\", \"metal\", \"metal\", \"metalcore\", \"metalcore\", \"metallica\", \"metallica\", \"metallica\", \"miserable\", \"miserable\", \"mix\", \"mix\", \"mix\", \"modern\", \"modern\", \"modern\", \"nelly\", \"nelly\", \"ness\", \"ness\", \"new\", \"new\", \"new\", \"new\", \"new\", \"new\", \"nice\", \"nice\", \"noise\", \"noise\", \"noise\", \"obsessed\", \"obsessed\", \"ohmydamn\", \"ohmydamn\", \"ohmydamn\", \"oui\", \"oui\", \"oui\", \"oui\", \"party\", \"party\", \"party\", \"party\", \"piano\", \"piano\", \"piano\", \"piano\", \"piano\", \"piano\", \"place\", \"place\", \"pleasure\", \"pleasure\", \"pleasure\", \"pleasures\", \"pleasures\", \"pleasures\", \"pleasures\", \"post\", \"post\", \"post\", \"post\", \"post\", \"power\", \"power\", \"power\", \"power\", \"powerful\", \"powerful\", \"prejebeno\", \"prejebeno\", \"prejebeno\", \"progressive\", \"progressive\", \"progressive\", \"project\", \"project\", \"psychedelic\", \"psychedelic\", \"psychedelic\", \"psychedelic\", \"psychedelic\", \"punk\", \"punk\", \"punk\", \"punk\", \"punk\", \"punk\", \"radio\", \"rain\", \"rain\", \"rain\", \"rain\", \"rain\", \"rap\", \"rap\", \"rap\", \"relax\", \"relax\", \"relax\", \"relax\", \"remember\", \"remember\", \"remix\", \"remix\", \"remix\", \"rnb\", \"rnb\", \"roll\", \"roll\", \"roll\", \"romantic\", \"romantic\", \"romantic\", \"romantic\", \"romantic\", \"romantic\", \"row\", \"row\", \"row\", \"row\", \"row\", \"sad\", \"sad\", \"sad\", \"sad\", \"sad\", \"sad\", \"school\", \"school\", \"screamo\", \"screamo\", \"seen\", \"seen\", \"seen\", \"seen\", \"seen\", \"seen\", \"set\", \"sexy\", \"sexy\", \"sexy\", \"sexy\", \"sexy\", \"sexy\", \"shoegaze\", \"shoegaze\", \"shoegaze\", \"singer\", \"singer\", \"singer\", \"singer\", \"singer\", \"singer\", \"single\", \"single\", \"siss\", \"siss\", \"ska\", \"ska\", \"slowies\", \"slowies\", \"slowies\", \"soft\", \"soft\", \"soft\", \"soft\", \"solo\", \"songs\", \"songs\", \"songs\", \"songs\", \"songs\", \"songs\", \"songwriter\", \"songwriter\", \"songwriter\", \"songwriter\", \"songwriter\", \"songwriter\", \"soul\", \"soul\", \"soul\", \"soundtrack\", \"soundtrack\", \"soundtrack\", \"soundtrack\", \"soundtrack\", \"soundtrack\", \"space\", \"space\", \"space\", \"space\", \"spanish\", \"special\", \"special\", \"special\", \"speed\", \"straight\", \"straight\", \"straight\", \"swedish\", \"swedish\", \"swedish\", \"swedish\", \"sweet\", \"sweet\", \"sweet\", \"sweet\", \"sweet\", \"symphonic\", \"synth\", \"synth\", \"synth\", \"synth\", \"synthpop\", \"synthpop\", \"synthpop\", \"synthpop\", \"techno\", \"techno\", \"techno\", \"teen\", \"teen\", \"thrash\", \"timberlake\", \"timberlake\", \"trance\", \"trance\", \"trance\", \"trance\", \"trip\", \"trip\", \"trip\", \"ultimate\", \"ultimate\", \"ultimate\", \"urban\", \"urban\", \"usa\", \"usa\", \"usa\", \"usa\", \"usa\", \"vampire\", \"vampire\", \"vocalist\", \"vocalist\", \"vocalist\", \"vocalist\", \"vocalist\", \"vocals\", \"voices\", \"voices\", \"wave\", \"wave\", \"wave\", \"wave\", \"wave\", \"weekly\", \"weekly\", \"weekly\"]}, \"R\": 30, \"lambda.step\": 0.01, \"plot.opts\": {\"xlab\": \"PC1\", \"ylab\": \"PC2\"}, \"topic.order\": [5, 4, 3, 2, 1, 6]};\n",
       "\n",
       "function LDAvis_load_lib(url, callback){\n",
       "  var s = document.createElement('script');\n",
       "  s.src = url;\n",
       "  s.async = true;\n",
       "  s.onreadystatechange = s.onload = callback;\n",
       "  s.onerror = function(){console.warn(\"failed to load library \" + url);};\n",
       "  document.getElementsByTagName(\"head\")[0].appendChild(s);\n",
       "}\n",
       "\n",
       "if(typeof(LDAvis) !== \"undefined\"){\n",
       "   // already loaded: just create the visualization\n",
       "   !function(LDAvis){\n",
       "       new LDAvis(\"#\" + \"ldavis_el125881122745943369876853687\", ldavis_el125881122745943369876853687_data);\n",
       "   }(LDAvis);\n",
       "}else if(typeof define === \"function\" && define.amd){\n",
       "   // require.js is available: use it to load d3/LDAvis\n",
       "   require.config({paths: {d3: \"https://cdnjs.cloudflare.com/ajax/libs/d3/3.5.5/d3.min\"}});\n",
       "   require([\"d3\"], function(d3){\n",
       "      window.d3 = d3;\n",
       "      LDAvis_load_lib(\"https://cdn.rawgit.com/bmabey/pyLDAvis/files/ldavis.v1.0.0.js\", function(){\n",
       "        new LDAvis(\"#\" + \"ldavis_el125881122745943369876853687\", ldavis_el125881122745943369876853687_data);\n",
       "      });\n",
       "    });\n",
       "}else{\n",
       "    // require.js not available: dynamically load d3 & LDAvis\n",
       "    LDAvis_load_lib(\"https://cdnjs.cloudflare.com/ajax/libs/d3/3.5.5/d3.min.js\", function(){\n",
       "         LDAvis_load_lib(\"https://cdn.rawgit.com/bmabey/pyLDAvis/files/ldavis.v1.0.0.js\", function(){\n",
       "                 new LDAvis(\"#\" + \"ldavis_el125881122745943369876853687\", ldavis_el125881122745943369876853687_data);\n",
       "            })\n",
       "         });\n",
       "}\n",
       "</script>"
      ],
      "text/plain": [
       "PreparedData(topic_coordinates=              x         y  topics  cluster       Freq\n",
       "topic                                                \n",
       "4     -0.101402  0.084966       1        1  28.551106\n",
       "3      0.177083  0.009279       2        1  22.748678\n",
       "2     -0.203444  0.040954       3        1  14.101707\n",
       "1      0.089247 -0.161307       4        1  12.987614\n",
       "0      0.149517  0.248672       5        1  12.927516\n",
       "5     -0.111002 -0.222563       6        1   8.683379, topic_info=     Category        Freq          Term       Total  loglift  logprob\n",
       "term                                                                 \n",
       "160   Default  391.000000         metal  391.000000  30.0000  30.0000\n",
       "85    Default  415.000000        female  415.000000  29.0000  29.0000\n",
       "128   Default  462.000000         indie  462.000000  28.0000  28.0000\n",
       "168   Default  157.000000           new  157.000000  27.0000  27.0000\n",
       "120   Default  140.000000           hop  140.000000  26.0000  26.0000\n",
       "192   Default  247.000000          punk  247.000000  25.0000  25.0000\n",
       "260   Default  117.000000          wave  117.000000  24.0000  24.0000\n",
       "118   Default  106.000000           hip  106.000000  23.0000  23.0000\n",
       "114   Default  122.000000          hard  122.000000  22.0000  22.0000\n",
       "46    Default  206.000000         dance  206.000000  21.0000  21.0000\n",
       "117   Default   59.000000         heavy   59.000000  20.0000  20.0000\n",
       "64    Default  188.000000    electronic  188.000000  19.0000  19.0000\n",
       "189   Default   98.000000   progressive   98.000000  18.0000  18.0000\n",
       "6     Default   72.000000       ambient   72.000000  17.0000  17.0000\n",
       "115   Default   99.000000      hardcore   99.000000  16.0000  16.0000\n",
       "75    Default  105.000000  experimental  105.000000  15.0000  15.0000\n",
       "239   Default   61.000000      synthpop   61.000000  14.0000  14.0000\n",
       "184   Default  144.000000          post  144.000000  13.0000  13.0000\n",
       "30    Default  122.000000        catchy  122.000000  12.0000  12.0000\n",
       "26    Default  134.000000       british  134.000000  11.0000  11.0000\n",
       "62    Default   99.000000       electro   99.000000  10.0000  10.0000\n",
       "238   Default   38.000000         synth   38.000000   9.0000   9.0000\n",
       "65    Default   89.000000   electronica   89.000000   8.0000   8.0000\n",
       "199   Default   61.000000         remix   61.000000   7.0000   7.0000\n",
       "132   Default   95.000000  instrumental   95.000000   6.0000   6.0000\n",
       "48    Default   40.000000         death   40.000000   5.0000   5.0000\n",
       "200   Default   77.000000           rnb   77.000000   4.0000   4.0000\n",
       "201   Default   67.000000          roll   67.000000   3.0000   3.0000\n",
       "67    Default   90.000000           emo   90.000000   2.0000   2.0000\n",
       "191   Default   72.000000   psychedelic   72.000000   1.0000   1.0000\n",
       "...       ...         ...           ...         ...      ...      ...\n",
       "168    Topic6   93.322036           new  157.165978   1.9225  -2.6149\n",
       "248    Topic6    9.892347        trance   17.011961   1.9016  -4.8592\n",
       "241    Topic6   14.189438        techno   24.451901   1.8995  -4.4985\n",
       "39     Topic6    7.956619       college   14.119104   1.8702  -5.0770\n",
       "79     Topic6   11.755116         faves   21.617254   1.8346  -4.6867\n",
       "52     Topic6   15.825040         disco   31.049825   1.7698  -4.3894\n",
       "16     Topic6   12.888570         bands   25.512740   1.7609  -4.5946\n",
       "71     Topic6    6.275901       england   12.441801   1.7594  -5.3142\n",
       "199    Topic6   26.749124         remix   61.809319   1.6062  -3.8645\n",
       "99     Topic6    4.781279        german   11.666990   1.5517  -5.5863\n",
       "130    Topic6   12.751768    industrial   31.659402   1.5344  -4.6053\n",
       "105    Topic6   15.601042        gothic   42.296254   1.4464  -4.4036\n",
       "26     Topic6   44.896617       british  134.957721   1.3432  -3.3466\n",
       "194    Topic6    6.428004          rain   19.684649   1.3246  -5.2903\n",
       "228    Topic6    6.067846         space   21.275026   1.1892  -5.3480\n",
       "65     Topic6   24.986398   electronica   89.769048   1.1649  -3.9326\n",
       "62     Topic6   25.954226       electro   99.727184   1.0977  -3.8946\n",
       "122    Topic6    9.991325         house   39.559479   1.0677  -4.8492\n",
       "132    Topic6   23.703083  instrumental   95.754509   1.0476  -3.9854\n",
       "64     Topic6   38.975868    electronic  188.732163   0.8664  -3.4880\n",
       "46     Topic6   32.270230         dance  206.756903   0.5864  -3.6768\n",
       "81     Topic6   25.225816     favorites  173.809400   0.5137  -3.9231\n",
       "202    Topic6   16.016529      romantic   86.126114   0.7616  -4.3773\n",
       "80     Topic6   21.313065      favorite  210.754303   0.1524  -4.0916\n",
       "75     Topic6   14.668954  experimental  105.546886   0.4703  -4.4652\n",
       "151    Topic6   16.919874          male  210.359482  -0.0766  -4.3225\n",
       "224    Topic6   17.523469         songs  255.291106  -0.2351  -4.2874\n",
       "208    Topic6   15.864597          seen  240.046734  -0.2730  -4.3869\n",
       "42     Topic6   14.693212         cover  122.630771   0.3220  -4.4636\n",
       "19     Topic6   14.328616          best  135.414665   0.1977  -4.4887\n",
       "\n",
       "[328 rows x 6 columns], token_table=      Topic      Freq       Term\n",
       "term                            \n",
       "0         2  0.157626       aana\n",
       "0         4  0.709315       aana\n",
       "0         6  0.078813       aana\n",
       "2         1  0.191167   acoustic\n",
       "2         2  0.600811   acoustic\n",
       "2         3  0.065543   acoustic\n",
       "2         4  0.027310   acoustic\n",
       "2         5  0.087391   acoustic\n",
       "2         6  0.027310   acoustic\n",
       "3         1  0.545945  addictive\n",
       "3         2  0.022748  addictive\n",
       "3         3  0.363963  addictive\n",
       "3         4  0.045495  addictive\n",
       "3         5  0.045495  addictive\n",
       "4         2  0.090841      album\n",
       "4         5  0.635886      album\n",
       "4         6  0.181682      album\n",
       "5         1  0.398418    amazing\n",
       "5         2  0.184343    amazing\n",
       "5         3  0.220022    amazing\n",
       "5         4  0.101091    amazing\n",
       "5         5  0.077305    amazing\n",
       "5         6  0.017840    amazing\n",
       "6         1  0.055158    ambient\n",
       "6         3  0.027579    ambient\n",
       "6         4  0.827372    ambient\n",
       "6         6  0.082737    ambient\n",
       "7         1  0.435850   american\n",
       "7         2  0.267321   american\n",
       "7         3  0.139472   american\n",
       "...     ...       ...        ...\n",
       "249       3  0.308844       trip\n",
       "249       4  0.645764       trip\n",
       "250       4  0.496877   ultimate\n",
       "250       5  0.207032   ultimate\n",
       "250       6  0.248439   ultimate\n",
       "252       1  0.405725      urban\n",
       "252       3  0.568015      urban\n",
       "253       1  0.293069        usa\n",
       "253       2  0.316515        usa\n",
       "253       3  0.140673        usa\n",
       "253       4  0.035168        usa\n",
       "253       5  0.211010        usa\n",
       "254       2  0.264174    vampire\n",
       "254       3  0.717044    vampire\n",
       "256       1  0.735348   vocalist\n",
       "256       2  0.026740   vocalist\n",
       "256       3  0.133700   vocalist\n",
       "256       5  0.086905   vocalist\n",
       "256       6  0.013370   vocalist\n",
       "257       1  0.925015     vocals\n",
       "258       1  0.922445     voices\n",
       "258       3  0.046122     voices\n",
       "260       1  0.059672       wave\n",
       "260       2  0.170490       wave\n",
       "260       3  0.008525       wave\n",
       "260       4  0.144917       wave\n",
       "260       6  0.613765       wave\n",
       "261       1  0.851894     weekly\n",
       "261       3  0.056793     weekly\n",
       "261       5  0.085189     weekly\n",
       "\n",
       "[752 rows x 3 columns], R=30, lambda_step=0.01, plot_opts={'xlab': 'PC1', 'ylab': 'PC2'}, topic_order=[5, 4, 3, 2, 1, 6])"
      ]
     },
     "execution_count": 45,
     "metadata": {},
     "output_type": "execute_result"
    }
   ],
   "source": [
    "pyLDAvis.sklearn.prepare(lda_tf, dtm_tf, tf_vectorizer, mds='mmds')"
   ]
  },
  {
   "cell_type": "code",
   "execution_count": 46,
   "metadata": {},
   "outputs": [
    {
     "name": "stderr",
     "output_type": "stream",
     "text": [
      "/Users/brianmcmahon/anaconda3/envs/recommender/lib/python3.6/site-packages/pyLDAvis/_prepare.py:257: FutureWarning: Sorting because non-concatenation axis is not aligned. A future version\n",
      "of pandas will change to not sort by default.\n",
      "\n",
      "To accept the future behavior, pass 'sort=False'.\n",
      "\n",
      "To retain the current behavior and silence the warning, pass 'sort=True'.\n",
      "\n",
      "  return pd.concat([default_term_info] + list(topic_dfs))\n"
     ]
    },
    {
     "data": {
      "text/html": [
       "\n",
       "<link rel=\"stylesheet\" type=\"text/css\" href=\"https://cdn.rawgit.com/bmabey/pyLDAvis/files/ldavis.v1.0.0.css\">\n",
       "\n",
       "\n",
       "<div id=\"ldavis_el125881122767357042344331821\"></div>\n",
       "<script type=\"text/javascript\">\n",
       "\n",
       "var ldavis_el125881122767357042344331821_data = {\"mdsDat\": {\"x\": [93.01333618164062, -7.257100582122803, 6.77948522567749, -55.190956115722656, 84.33827209472656, 24.336605072021484], \"y\": [41.9244270324707, -72.20545196533203, 79.06501007080078, 8.528858184814453, -51.56591033935547, 1.1493889093399048], \"topics\": [1, 2, 3, 4, 5, 6], \"cluster\": [1, 1, 1, 1, 1, 1], \"Freq\": [28.55110593498777, 22.748677514242473, 14.10170696120558, 12.987614440933786, 12.927516227731662, 8.68337892089874]}, \"tinfo\": {\"Category\": [\"Default\", \"Default\", \"Default\", \"Default\", \"Default\", \"Default\", \"Default\", \"Default\", \"Default\", \"Default\", \"Default\", \"Default\", \"Default\", \"Default\", \"Default\", \"Default\", \"Default\", \"Default\", \"Default\", \"Default\", \"Default\", \"Default\", \"Default\", \"Default\", \"Default\", \"Default\", \"Default\", \"Default\", \"Default\", \"Default\", \"Topic1\", \"Topic1\", \"Topic1\", \"Topic1\", \"Topic1\", \"Topic1\", \"Topic1\", \"Topic1\", \"Topic1\", \"Topic1\", \"Topic1\", \"Topic1\", \"Topic1\", \"Topic1\", \"Topic1\", \"Topic1\", \"Topic1\", \"Topic1\", \"Topic1\", \"Topic1\", \"Topic1\", \"Topic1\", \"Topic1\", \"Topic1\", \"Topic1\", \"Topic1\", \"Topic1\", \"Topic1\", \"Topic1\", \"Topic1\", \"Topic1\", \"Topic1\", \"Topic1\", \"Topic1\", \"Topic1\", \"Topic1\", \"Topic1\", \"Topic1\", \"Topic1\", \"Topic1\", \"Topic1\", \"Topic1\", \"Topic1\", \"Topic1\", \"Topic1\", \"Topic1\", \"Topic1\", \"Topic1\", \"Topic1\", \"Topic1\", \"Topic1\", \"Topic1\", \"Topic1\", \"Topic1\", \"Topic1\", \"Topic1\", \"Topic1\", \"Topic1\", \"Topic1\", \"Topic2\", \"Topic2\", \"Topic2\", \"Topic2\", \"Topic2\", \"Topic2\", \"Topic2\", \"Topic2\", \"Topic2\", \"Topic2\", \"Topic2\", \"Topic2\", \"Topic2\", \"Topic2\", \"Topic2\", \"Topic2\", \"Topic2\", \"Topic2\", \"Topic2\", \"Topic2\", \"Topic2\", \"Topic2\", \"Topic2\", \"Topic2\", \"Topic2\", \"Topic2\", \"Topic2\", \"Topic2\", \"Topic2\", \"Topic2\", \"Topic2\", \"Topic2\", \"Topic2\", \"Topic2\", \"Topic2\", \"Topic2\", \"Topic2\", \"Topic2\", \"Topic2\", \"Topic2\", \"Topic2\", \"Topic2\", \"Topic2\", \"Topic2\", \"Topic2\", \"Topic2\", \"Topic2\", \"Topic2\", \"Topic2\", \"Topic2\", \"Topic2\", \"Topic2\", \"Topic2\", \"Topic2\", \"Topic3\", \"Topic3\", \"Topic3\", \"Topic3\", \"Topic3\", \"Topic3\", \"Topic3\", \"Topic3\", \"Topic3\", \"Topic3\", \"Topic3\", \"Topic3\", \"Topic3\", \"Topic3\", \"Topic3\", \"Topic3\", \"Topic3\", \"Topic3\", \"Topic3\", \"Topic3\", \"Topic3\", \"Topic3\", \"Topic3\", \"Topic3\", \"Topic3\", \"Topic3\", \"Topic3\", \"Topic3\", \"Topic3\", \"Topic3\", \"Topic3\", \"Topic3\", \"Topic3\", \"Topic3\", \"Topic3\", \"Topic3\", \"Topic3\", \"Topic3\", \"Topic3\", \"Topic3\", \"Topic3\", \"Topic3\", \"Topic3\", \"Topic3\", \"Topic3\", \"Topic3\", \"Topic3\", \"Topic3\", \"Topic3\", \"Topic3\", \"Topic4\", \"Topic4\", \"Topic4\", \"Topic4\", \"Topic4\", \"Topic4\", \"Topic4\", \"Topic4\", \"Topic4\", \"Topic4\", \"Topic4\", \"Topic4\", \"Topic4\", \"Topic4\", \"Topic4\", \"Topic4\", \"Topic4\", \"Topic4\", \"Topic4\", \"Topic4\", \"Topic4\", \"Topic4\", \"Topic4\", \"Topic4\", \"Topic4\", \"Topic4\", \"Topic4\", \"Topic4\", \"Topic4\", \"Topic4\", \"Topic4\", \"Topic4\", \"Topic4\", \"Topic4\", \"Topic4\", \"Topic4\", \"Topic4\", \"Topic4\", \"Topic4\", \"Topic4\", \"Topic4\", \"Topic4\", \"Topic4\", \"Topic4\", \"Topic4\", \"Topic4\", \"Topic4\", \"Topic5\", \"Topic5\", \"Topic5\", \"Topic5\", \"Topic5\", \"Topic5\", \"Topic5\", \"Topic5\", \"Topic5\", \"Topic5\", \"Topic5\", \"Topic5\", \"Topic5\", \"Topic5\", \"Topic5\", \"Topic5\", \"Topic5\", \"Topic5\", \"Topic5\", \"Topic5\", \"Topic5\", \"Topic5\", \"Topic5\", \"Topic5\", \"Topic5\", \"Topic5\", \"Topic5\", \"Topic5\", \"Topic5\", \"Topic5\", \"Topic5\", \"Topic5\", \"Topic5\", \"Topic5\", \"Topic5\", \"Topic5\", \"Topic5\", \"Topic5\", \"Topic5\", \"Topic5\", \"Topic5\", \"Topic5\", \"Topic5\", \"Topic5\", \"Topic5\", \"Topic5\", \"Topic6\", \"Topic6\", \"Topic6\", \"Topic6\", \"Topic6\", \"Topic6\", \"Topic6\", \"Topic6\", \"Topic6\", \"Topic6\", \"Topic6\", \"Topic6\", \"Topic6\", \"Topic6\", \"Topic6\", \"Topic6\", \"Topic6\", \"Topic6\", \"Topic6\", \"Topic6\", \"Topic6\", \"Topic6\", \"Topic6\", \"Topic6\", \"Topic6\", \"Topic6\", \"Topic6\", \"Topic6\", \"Topic6\", \"Topic6\", \"Topic6\", \"Topic6\", \"Topic6\", \"Topic6\", \"Topic6\", \"Topic6\", \"Topic6\", \"Topic6\", \"Topic6\", \"Topic6\", \"Topic6\", \"Topic6\"], \"Freq\": [391.0, 415.0, 462.0, 157.0, 140.0, 247.0, 117.0, 106.0, 122.0, 206.0, 59.0, 188.0, 98.0, 72.0, 99.0, 105.0, 61.0, 144.0, 122.0, 134.0, 99.0, 38.0, 89.0, 61.0, 95.0, 40.0, 77.0, 67.0, 90.0, 72.0, 18.290845338834437, 13.587161012584668, 18.44734748752277, 18.45041110535542, 18.429767961819575, 18.394751232176397, 22.408800074831134, 13.183720690415145, 25.381526615790012, 19.60058205315224, 11.822818203880718, 15.523021978164813, 32.75383107378127, 25.87796788166492, 30.182997392621843, 28.64744928924169, 35.68841838444443, 66.75047040473002, 32.93321146636653, 9.517948426911527, 14.942705357531135, 14.105270563460257, 14.077499676683997, 30.477906827280872, 316.6641903303848, 18.03068948573436, 110.09143779067962, 40.85877428449275, 74.79218327648535, 23.16768172685247, 75.69819535111311, 38.680465827324326, 32.608114678497536, 28.459697120627343, 56.544323535856705, 32.472375136394646, 91.16352158613776, 64.93095350219176, 74.9386117834526, 68.67359365257148, 68.61578917050517, 60.362094451863534, 66.83718915200416, 85.42003648662563, 65.45445394598772, 36.47600666346684, 39.869837170255934, 40.01551512619921, 58.19127963859581, 43.26476560740442, 48.25510519595147, 54.24114262544086, 37.31182148885966, 38.33367072397792, 40.47536811894286, 40.994735205671745, 37.539318219028694, 37.63749029755761, 38.38199893806878, 18.065713730018302, 21.22366691902437, 16.980497616111226, 16.96487335421522, 16.957788605229563, 19.763217211923944, 26.00042411437683, 11.490510596330127, 23.82408873650212, 23.807806693897795, 85.2763607947248, 13.092239932722705, 20.778329473169954, 74.664630169077, 204.09808482293911, 23.70684910593201, 42.338244086970086, 26.745761286989286, 8.955267106105072, 100.81757810471115, 19.23681064247506, 17.480327173638777, 17.448845710574624, 17.822859062273704, 45.45745925326469, 11.392469542985097, 11.393166005990777, 16.523719790967057, 6.9050296968803835, 33.51473104055172, 110.25697392322826, 273.02141888407095, 117.6987720727726, 88.92538168641046, 50.0382639648648, 90.72281542585871, 31.879548568399844, 83.17045430100737, 50.26575495775067, 30.95436435642766, 47.384254031534034, 46.26390250797466, 42.56986365508951, 36.634221847447954, 42.333504631721084, 35.839090644309444, 36.06842637818461, 35.890341920601244, 32.48601495833114, 32.77762355301734, 31.920493224747787, 32.1584106960526, 31.35451579269797, 31.480624296963295, 22.984943168421147, 22.980065162586108, 38.68547616339823, 92.85055844336902, 108.28858671631187, 18.705253023035034, 18.69282128279572, 15.840257044198323, 12.948627058589706, 21.264143697121373, 7.738761447847841, 28.040965080956685, 7.667126912013561, 9.615094651522615, 18.62282304979968, 36.335710902726966, 21.854431258467454, 22.454870676265116, 4.645978242476726, 16.687221108873956, 19.131889092675063, 39.46759909575751, 4.35836782427175, 5.782029649113401, 11.794902396595093, 5.715667799683922, 5.592850907069524, 5.581392215122602, 22.456557418865252, 74.26934233969723, 15.656042136042615, 42.08979708996971, 46.57886180640261, 43.38237874361412, 57.09191240376222, 24.559767991791794, 90.01830035903797, 95.23162518223693, 36.74093775272969, 23.12802410339487, 28.32672401704026, 28.260261079843218, 31.654174779944537, 30.22400277981481, 25.322765775016606, 26.44638611271152, 23.098694854810795, 23.716086812473044, 22.71325556643689, 22.003634744558173, 20.211755669339038, 20.20349426486105, 18.61409117716418, 14.227419172434628, 15.003050767415095, 18.983041021191216, 59.64575639873764, 39.0060616035614, 16.26054667339859, 13.403103981691185, 18.168552080098294, 10.955847353326817, 14.322023975464946, 24.072872155267426, 11.78153150889382, 22.6613282599932, 12.615817564921688, 17.241456959663765, 64.36211224712217, 35.26281630612538, 16.122823139162453, 40.70681828073713, 12.410851386556073, 6.341677471267994, 24.165591228627303, 10.966138576815869, 8.81039463856641, 17.24524934125744, 38.22525379369195, 20.951120724343678, 49.47726020564028, 36.600786201194005, 33.55940876504337, 63.1843550392345, 37.91573124083556, 42.93301699130531, 38.605825134756756, 53.27314269343189, 38.57894320185627, 25.204710491031424, 24.59503143448149, 26.85477487239726, 24.42822870454461, 19.027659939642522, 20.158849656887114, 21.257342447739852, 20.47731444886124, 384.1525866099142, 58.59122138989872, 38.9491250450008, 19.408411252077677, 16.595379881832724, 18.16162263525819, 12.715932267234729, 9.897713620934914, 8.407953922248407, 18.946433741892612, 87.41680565042653, 7.419814473467291, 31.93222526411112, 12.986445831941921, 11.640666873221987, 23.81395521924404, 52.786461419814664, 35.45946891474571, 9.153744587834156, 12.864897520320865, 8.276637502365558, 22.401289996861358, 4.857409820204209, 18.61424554473834, 7.045094326982258, 9.794761536304994, 9.777403978546666, 23.492081449167564, 7.314766857953601, 7.306817910693814, 50.41345423584108, 8.379501714112676, 31.189471711408252, 48.53560186277378, 19.589018323631354, 25.431202782225775, 37.14122230237887, 42.030770886827476, 36.344620294042585, 23.922993776640766, 26.012666957918785, 18.088638669743382, 18.74479704717275, 17.999476468475855, 16.308699839667348, 17.683461283935397, 28.995064089938342, 14.413316404547032, 14.407334189131232, 35.007705398785085, 9.815318609912156, 15.733681644805309, 18.692908278353965, 19.261483165941538, 19.734717720937766, 39.65561961133278, 71.89144534796439, 28.768255641378712, 93.32203568308249, 9.892346821452973, 14.189437816162739, 7.956618821319066, 11.755116119644338, 15.82503986578651, 12.888569862303767, 6.275900804424236, 26.749124047965235, 4.781279435457346, 12.751767805334156, 15.601041570215157, 44.89661672095631, 6.4280037954006195, 6.067846458366823, 24.986398051750733, 25.95422592941751, 9.991325498291161, 23.70308259671944, 38.97586759845659, 32.27022953374247, 25.225815784495992, 16.01652927209997, 21.31306455089499, 14.668953751236575, 16.919873720086645, 17.523468624506346, 15.864596957905647, 14.693212170839912, 14.328615579620864], \"Term\": [\"metal\", \"female\", \"indie\", \"new\", \"hop\", \"punk\", \"wave\", \"hip\", \"hard\", \"dance\", \"heavy\", \"electronic\", \"progressive\", \"ambient\", \"hardcore\", \"experimental\", \"synthpop\", \"post\", \"catchy\", \"british\", \"electro\", \"synth\", \"electronica\", \"remix\", \"instrumental\", \"death\", \"rnb\", \"roll\", \"emo\", \"psychedelic\", \"vocals\", \"disney\", \"set\", \"jet\", \"radio\", \"future\", \"siss\", \"idol\", \"teen\", \"voices\", \"spanish\", \"hit\", \"diva\", \"lpa\", \"weekly\", \"latin\", \"pleasure\", \"guilty\", \"emotional\", \"miserable\", \"nice\", \"listening\", \"easy\", \"pleasures\", \"female\", \"loved\", \"vocalist\", \"memories\", \"ballad\", \"country\", \"catchy\", \"soul\", \"christmas\", \"legend\", \"great\", \"cute\", \"dance\", \"sexy\", \"american\", \"singer\", \"songwriter\", \"best\", \"amazing\", \"songs\", \"favorites\", \"power\", \"rnb\", \"covers\", \"beautiful\", \"piano\", \"listen\", \"awesome\", \"romantic\", \"sad\", \"electronic\", \"seen\", \"soundtrack\", \"mellow\", \"indie\", \"emocore\", \"garage\", \"liebe\", \"dich\", \"ich\", \"luv\", \"screamo\", \"remember\", \"jukebox\", \"project\", \"hardcore\", \"ness\", \"christian\", \"emo\", \"punk\", \"idolo\", \"grunge\", \"fantastic\", \"gil\", \"post\", \"straight\", \"obsessed\", \"ive\", \"modern\", \"britpop\", \"mix\", \"marisa\", \"oui\", \"ska\", \"soft\", \"acoustic\", \"indie\", \"awesome\", \"male\", \"folk\", \"songs\", \"fucking\", \"seen\", \"cool\", \"roll\", \"favorites\", \"american\", \"beautiful\", \"cover\", \"favorite\", \"best\", \"singer\", \"songwriter\", \"sad\", \"listen\", \"hard\", \"classic\", \"soundtrack\", \"amazing\", \"place\", \"melrose\", \"rap\", \"hip\", \"hop\", \"vampire\", \"diaries\", \"indietronica\", \"duet\", \"gossip\", \"crazy\", \"urban\", \"beyonce\", \"madonna\", \"party\", \"rnb\", \"electropop\", \"girl\", \"feelings\", \"house\", \"hot\", \"electro\", \"harmonies\", \"furtado\", \"good\", \"nelly\", \"timberlake\", \"justin\", \"sweet\", \"dance\", \"addictive\", \"catchy\", \"listen\", \"sexy\", \"electronic\", \"fun\", \"female\", \"indie\", \"amazing\", \"electronica\", \"singer\", \"songwriter\", \"male\", \"seen\", \"chillout\", \"awesome\", \"mellow\", \"american\", \"cool\", \"beautiful\", \"garde\", \"avant\", \"artist\", \"idm\", \"shoegaze\", \"downtempo\", \"ambient\", \"dreamy\", \"ethereal\", \"art\", \"aana\", \"descoperiri\", \"noise\", \"melancholy\", \"classical\", \"trip\", \"special\", \"hypnotic\", \"experimental\", \"atmospheric\", \"dream\", \"psychedelic\", \"ultimate\", \"friends\", \"brilliant\", \"dark\", \"space\", \"relax\", \"instrumental\", \"genius\", \"chillout\", \"progressive\", \"electronica\", \"favorite\", \"mellow\", \"electronic\", \"beautiful\", \"indie\", \"songs\", \"piano\", \"epic\", \"new\", \"post\", \"chill\", \"soundtrack\", \"seen\", \"awesome\", \"metal\", \"heavy\", \"death\", \"thrash\", \"symphonic\", \"solo\", \"speed\", \"hair\", \"school\", \"metalcore\", \"hard\", \"album\", \"guitar\", \"prejebeno\", \"powerful\", \"gothic\", \"progressive\", \"roll\", \"halloween\", \"masterpiece\", \"swedish\", \"melodic\", \"german\", \"glam\", \"ohmydamn\", \"better\", \"metallica\", \"power\", \"listened\", \"row\", \"classic\", \"lyrics\", \"cover\", \"seen\", \"psychedelic\", \"epic\", \"favorite\", \"awesome\", \"male\", \"great\", \"american\", \"covers\", \"instrumental\", \"usa\", \"melancholic\", \"cool\", \"artists\", \"beowulfs\", \"choice\", \"synth\", \"electroclash\", \"eighties\", \"dub\", \"slowies\", \"single\", \"synthpop\", \"wave\", \"fav\", \"new\", \"trance\", \"techno\", \"college\", \"faves\", \"disco\", \"bands\", \"england\", \"remix\", \"german\", \"industrial\", \"gothic\", \"british\", \"rain\", \"space\", \"electronica\", \"electro\", \"house\", \"instrumental\", \"electronic\", \"dance\", \"favorites\", \"romantic\", \"favorite\", \"experimental\", \"male\", \"songs\", \"seen\", \"cover\", \"best\"], \"Total\": [391.0, 415.0, 462.0, 157.0, 140.0, 247.0, 117.0, 106.0, 122.0, 206.0, 59.0, 188.0, 98.0, 72.0, 99.0, 105.0, 61.0, 144.0, 122.0, 134.0, 99.0, 38.0, 89.0, 61.0, 95.0, 40.0, 77.0, 67.0, 90.0, 72.0, 19.45913489470916, 14.607489538571853, 19.8607320677716, 19.865834113760094, 19.87135049404774, 19.86970570631665, 24.370977249181585, 14.502561461620402, 28.025987212394796, 21.681519387592175, 13.11563642457015, 17.307815592739306, 37.786659306880146, 29.942746966481995, 35.21566424929216, 33.42524905336181, 43.135616039712424, 81.69278688687575, 40.794025706856246, 11.829734746375244, 18.739214465700275, 17.898321130420307, 17.89782393203626, 39.67588779767136, 415.1871835448224, 23.825182294912914, 149.5889461785634, 55.54639544333188, 106.33115331175507, 33.43533084076659, 122.75697191486077, 59.927760643059834, 49.46834224194908, 42.42085576599726, 105.97842432860314, 51.907839653991644, 206.75690278453413, 137.8271634477149, 172.07759537239022, 155.78929787204444, 155.80584430732478, 135.41466451676678, 168.16506568486923, 255.29110562826128, 173.8094004713043, 63.78776013823473, 77.11271461865043, 81.32194714431313, 178.22249863553952, 102.12370113879747, 138.39857102785206, 266.58708628092313, 86.12611429227758, 111.22586974541403, 188.73216320444652, 240.0467335549132, 125.69436085342161, 131.9581227722289, 462.8081561081281, 18.994809663498597, 22.37469024817384, 18.27438571208272, 18.27308497047438, 18.27853925238267, 21.804817377833626, 28.753423973282057, 12.97720605176318, 27.263730338596798, 27.261155307776846, 99.37380780357923, 15.597805167849959, 24.96120161732183, 90.11467856908477, 247.75382494031757, 28.823700168827898, 53.32080359578894, 34.964976147039344, 12.510566437526029, 144.72556116841417, 28.63720377407704, 26.4295375784182, 26.429050263076533, 27.629280488040386, 72.41262623092648, 18.227687808406746, 18.229094129020012, 26.504389298745078, 11.100851310409606, 54.635472848713405, 183.08586882571558, 462.8081561081281, 266.58708628092313, 210.35948210864322, 103.87343976256817, 255.29110562826128, 61.616279713033904, 240.0467335549132, 134.61465999568895, 67.9236530561572, 173.8094004713043, 172.07759537239022, 178.22249863553952, 122.630770635816, 210.75430261792985, 135.41466451676678, 155.78929787204444, 155.80584430732478, 111.22586974541403, 138.39857102785206, 122.32286213791278, 138.70786302853898, 125.69436085342161, 168.16506568486923, 24.52354261447045, 24.5239152408231, 44.089146420906204, 106.52576542505258, 140.23951149106725, 26.497660486560058, 26.495163158636956, 22.615689761549877, 19.96761419801914, 33.21452146560417, 13.460493628176339, 49.2944377444261, 14.748912902863252, 19.653491790317283, 38.90583407013983, 77.11271461865043, 47.15633706650102, 51.23707081531661, 10.77457684409173, 39.55947894496083, 46.55980042387945, 99.72718389982089, 11.628910348170582, 15.64281979702599, 32.122619610272636, 15.646261160388383, 15.330080985117744, 15.332018309553854, 62.345826246516765, 206.75690278453413, 43.96049354534359, 122.75697191486077, 138.39857102785206, 137.8271634477149, 188.73216320444652, 78.15000653326558, 415.1871835448224, 462.8081561081281, 168.16506568486923, 89.76904776723637, 155.78929787204444, 155.80584430732478, 210.35948210864322, 240.0467335549132, 134.39315539958287, 266.58708628092313, 131.9581227722289, 172.07759537239022, 134.61465999568895, 178.22249863553952, 21.504903648032275, 21.505724113587338, 19.819014179008743, 15.563498009056197, 17.678538222301846, 22.766050755295492, 72.51876011907025, 49.32833903663183, 22.2544537674214, 18.675548637559647, 25.37660269157446, 15.747763321555297, 20.974935245897893, 35.880619635365925, 17.708860212692734, 35.61671019183475, 19.914800321550693, 27.23212011882004, 105.54688602016337, 58.380800321105184, 28.08421755729655, 72.9532774013441, 24.15083229080483, 13.196542994693987, 53.708898394729715, 25.141583800386723, 21.275025696804512, 42.36604259817293, 95.75450873820391, 52.76412852155765, 134.39315539958287, 98.44154339355669, 89.76904776723637, 210.75430261792985, 131.9581227722289, 188.73216320444652, 178.22249863553952, 462.8081561081281, 255.29110562826128, 102.12370113879747, 104.28206679191119, 157.16597808059788, 144.72556116841417, 61.46107891461932, 125.69436085342161, 240.0467335549132, 266.58708628092313, 391.5722217310086, 59.75721777321877, 40.27277059691187, 20.346248515641257, 17.50769967868113, 19.2524332705723, 13.627857580119, 10.796567294326774, 10.440627794527861, 26.218887663902322, 122.32286213791278, 11.00826326881132, 47.99187628173463, 19.886015733608023, 19.177399905262426, 42.29625370158073, 98.44154339355669, 67.9236530561572, 18.093576534004633, 25.43542959267422, 17.0342123548632, 47.365307714286594, 11.666990205163234, 48.14633269953507, 18.3515330074492, 25.524101306564173, 25.533995597080416, 63.78776013823473, 20.062076204672547, 20.061895650606775, 138.70786302853898, 23.568647161329665, 122.630770635816, 240.0467335549132, 72.9532774013441, 104.28206679191119, 210.75430261792985, 266.58708628092313, 210.35948210864322, 105.97842432860314, 172.07759537239022, 81.32194714431313, 95.75450873820391, 85.30408205849717, 59.761351633704734, 134.61465999568895, 30.113643062061037, 15.66016270770504, 15.664951718435393, 38.510344922325395, 10.900757241627483, 17.850090282911694, 23.035304227052958, 24.287111124589703, 25.09173867913017, 61.333800674852334, 117.3087305055117, 47.4277486013166, 157.16597808059788, 17.011960675211206, 24.451901491701364, 14.119103713183922, 21.61725418718066, 31.04982469867867, 25.51274038278447, 12.441801293119603, 61.80931937322829, 11.666990205163234, 31.659401578583605, 42.29625370158073, 134.95772063364498, 19.684649072308197, 21.275025696804512, 89.76904776723637, 99.72718389982089, 39.55947894496083, 95.75450873820391, 188.73216320444652, 206.75690278453413, 173.8094004713043, 86.12611429227758, 210.75430261792985, 105.54688602016337, 210.35948210864322, 255.29110562826128, 240.0467335549132, 122.630770635816, 135.41466451676678], \"loglift\": [30.0, 29.0, 28.0, 27.0, 26.0, 25.0, 24.0, 23.0, 22.0, 21.0, 20.0, 19.0, 18.0, 17.0, 16.0, 15.0, 14.0, 13.0, 12.0, 11.0, 10.0, 9.0, 8.0, 7.0, 6.0, 5.0, 4.0, 3.0, 2.0, 1.0, 1.1916, 1.1811, 1.1797, 1.1796, 1.1782, 1.1763, 1.1695, 1.1581, 1.1544, 1.1526, 1.1497, 1.1446, 1.1105, 1.1076, 1.0993, 1.0992, 1.064, 1.0515, 1.0394, 1.036, 1.0271, 1.0153, 1.0134, 0.9897, 0.9826, 0.9748, 0.9469, 0.9464, 0.9016, 0.8866, 0.77, 0.8157, 0.8367, 0.8543, 0.6253, 0.7844, 0.4346, 0.5008, 0.4222, 0.4343, 0.4334, 0.4455, 0.3308, 0.1587, 0.2769, 0.6946, 0.5938, 0.5443, 0.1342, 0.3946, 0.1998, -0.3388, 0.417, 0.1882, -0.2862, -0.5139, 0.045, -0.001, -1.2362, 1.4305, 1.4278, 1.4072, 1.4064, 1.4057, 1.3824, 1.38, 1.359, 1.3458, 1.3452, 1.3277, 1.3056, 1.2973, 1.2926, 1.2868, 1.2852, 1.25, 1.2127, 1.1463, 1.1191, 1.0828, 1.0673, 1.0655, 1.0423, 1.0151, 1.0107, 1.0107, 1.0081, 1.0059, 0.992, 0.9735, 0.9529, 0.6631, 0.6196, 0.7503, 0.4461, 0.8217, 0.4207, 0.4956, 0.6948, 0.181, 0.1671, 0.0488, 0.2725, -0.1245, 0.1514, 0.0176, 0.0125, 0.2499, 0.0403, 0.1372, 0.019, 0.0922, -0.1949, 1.8941, 1.8939, 1.8281, 1.8215, 1.7003, 1.6106, 1.6101, 1.6028, 1.5258, 1.5129, 1.4054, 1.3947, 1.3046, 1.244, 1.2221, 1.2064, 1.1898, 1.1339, 1.1177, 1.0957, 1.0695, 1.0319, 0.9775, 0.9636, 0.957, 0.9519, 0.9505, 0.9484, 0.9378, 0.935, 0.9264, 0.8885, 0.8699, 0.8029, 0.7632, 0.8014, 0.4302, 0.3779, 0.4378, 0.6027, 0.2542, 0.2517, 0.0649, -0.1133, 0.2898, -0.3517, 0.2162, -0.0229, 0.1794, -0.133, 1.9792, 1.9787, 1.9785, 1.9514, 1.8771, 1.8594, 1.8458, 1.8064, 1.7274, 1.7094, 1.707, 1.6783, 1.6596, 1.6421, 1.6336, 1.589, 1.5847, 1.5841, 1.5465, 1.537, 1.4862, 1.4578, 1.3754, 1.3084, 1.2425, 1.2115, 1.1596, 1.1424, 1.1229, 1.1175, 1.0419, 1.0518, 1.0573, 0.8365, 0.7941, 0.5605, 0.5115, -0.1207, 0.1515, 0.642, 0.5966, 0.2743, 0.2621, 0.8687, 0.211, -0.383, -0.5252, 2.0267, 2.0261, 2.0124, 1.9986, 1.9923, 1.9875, 1.9766, 1.9589, 1.8293, 1.7209, 1.7098, 1.6513, 1.6384, 1.6197, 1.5466, 1.4714, 1.4226, 1.3958, 1.3644, 1.3642, 1.324, 1.297, 1.1696, 1.0955, 1.0884, 1.088, 1.0859, 1.0469, 1.0369, 1.0358, 1.0337, 1.0117, 0.6767, 0.4473, 0.731, 0.6347, 0.3098, 0.1985, 0.29, 0.5574, 0.1565, 0.5427, 0.4149, 0.4899, 0.7472, 0.016, 2.4059, 2.3608, 2.3601, 2.3484, 2.3389, 2.3176, 2.2349, 2.2119, 2.2036, 2.0077, 1.9541, 1.9438, 1.9225, 1.9016, 1.8995, 1.8702, 1.8346, 1.7698, 1.7609, 1.7594, 1.6062, 1.5517, 1.5344, 1.4464, 1.3432, 1.3246, 1.1892, 1.1649, 1.0977, 1.0677, 1.0476, 0.8664, 0.5864, 0.5137, 0.7616, 0.1524, 0.4703, -0.0766, -0.2351, -0.273, 0.322, 0.1977], \"logprob\": [30.0, 29.0, 28.0, 27.0, 26.0, 25.0, 24.0, 23.0, 22.0, 21.0, 20.0, 19.0, 18.0, 17.0, 16.0, 15.0, 14.0, 13.0, 12.0, 11.0, 10.0, 9.0, 8.0, 7.0, 6.0, 5.0, 4.0, 3.0, 2.0, 1.0, -5.4348, -5.7321, -5.4263, -5.4262, -5.4273, -5.4292, -5.2318, -5.7623, -5.1072, -5.3657, -5.8712, -5.5989, -4.8522, -5.0879, -4.934, -4.9862, -4.7664, -4.1403, -4.8468, -6.0881, -5.637, -5.6947, -5.6967, -4.9242, -2.5834, -5.4492, -3.6399, -4.6311, -4.0265, -5.1985, -4.0145, -4.6859, -4.8567, -4.9928, -4.3062, -4.8609, -3.8286, -4.1679, -4.0246, -4.1119, -4.1127, -4.2409, -4.139, -3.8937, -4.1599, -4.7446, -4.6556, -4.652, -4.2775, -4.5739, -4.4647, -4.3478, -4.7219, -4.6949, -4.6405, -4.6278, -4.7159, -4.7132, -4.6937, -5.22, -5.0589, -5.282, -5.2829, -5.2833, -5.1302, -4.8559, -5.6725, -4.9434, -4.944, -3.6682, -5.542, -5.0801, -3.801, -2.7955, -4.9483, -4.3684, -4.8277, -5.9218, -3.5007, -5.1572, -5.253, -5.2548, -5.2336, -4.2973, -5.6811, -5.681, -5.3093, -6.1818, -4.6021, -3.4112, -2.5045, -3.3459, -3.6263, -4.2013, -3.6062, -4.6521, -3.6932, -4.1967, -4.6815, -4.2558, -4.2797, -4.3629, -4.5131, -4.3685, -4.535, -4.5286, -4.5336, -4.6332, -4.6243, -4.6508, -4.6434, -4.6687, -4.6647, -4.501, -4.5012, -3.9804, -3.1049, -2.951, -4.707, -4.7077, -4.8733, -5.0749, -4.5788, -5.5896, -4.3022, -5.5989, -5.3725, -4.7115, -4.043, -4.5514, -4.5243, -6.0998, -4.8212, -4.6845, -3.9604, -6.1637, -5.8811, -5.1682, -5.8926, -5.9144, -5.9164, -4.5243, -3.3281, -4.885, -3.896, -3.7947, -3.8658, -3.5912, -4.4347, -3.1358, -3.0795, -4.032, -4.4948, -4.292, -4.2944, -4.181, -4.2272, -4.4041, -4.3607, -4.4961, -4.4697, -4.5129, -4.5446, -4.5473, -4.5477, -4.6296, -4.8984, -4.8453, -4.61, -3.4651, -3.8898, -4.7648, -4.9581, -4.6539, -5.1597, -4.8917, -4.3725, -5.087, -4.4329, -5.0186, -4.7062, -3.389, -3.9907, -4.7733, -3.8471, -5.035, -5.7064, -4.3686, -5.1587, -5.3776, -4.706, -3.91, -4.5114, -3.652, -3.9535, -4.0402, -3.4075, -3.9182, -3.7939, -3.9001, -3.5781, -3.9008, -4.3265, -4.351, -4.2631, -4.3578, -4.6077, -4.5499, -4.4968, -4.5342, -1.5979, -3.4783, -3.8866, -4.5832, -4.7398, -4.6496, -5.0061, -5.2566, -5.4197, -4.6073, -3.0782, -5.5448, -4.0853, -4.985, -5.0944, -4.3786, -3.5827, -3.9805, -5.3347, -4.9944, -5.4355, -4.4398, -5.9684, -4.625, -5.5966, -5.2671, -5.2688, -4.3922, -5.559, -5.5601, -3.6286, -5.4231, -4.1088, -3.6666, -4.5739, -4.3129, -3.9342, -3.8105, -3.9559, -4.3741, -4.2903, -4.6536, -4.618, -4.6586, -4.7572, -4.6763, -3.7838, -4.4828, -4.4832, -3.5954, -4.867, -4.3952, -4.2228, -4.1929, -4.1686, -3.4707, -2.8758, -3.7917, -2.6149, -4.8592, -4.4985, -5.077, -4.6867, -4.3894, -4.5946, -5.3142, -3.8645, -5.5863, -4.6053, -4.4036, -3.3466, -5.2903, -5.348, -3.9326, -3.8946, -4.8492, -3.9854, -3.488, -3.6768, -3.9231, -4.3773, -4.0916, -4.4652, -4.3225, -4.2874, -4.3869, -4.4636, -4.4887]}, \"token.table\": {\"Topic\": [2, 4, 6, 1, 2, 3, 4, 5, 6, 1, 2, 3, 4, 5, 2, 5, 6, 1, 2, 3, 4, 5, 6, 1, 3, 4, 6, 1, 2, 3, 4, 5, 4, 5, 4, 6, 1, 2, 3, 4, 5, 6, 4, 1, 2, 3, 4, 5, 6, 1, 2, 3, 4, 5, 6, 1, 2, 4, 6, 1, 2, 3, 4, 5, 6, 6, 1, 2, 3, 4, 5, 6, 2, 4, 5, 1, 3, 1, 2, 3, 4, 6, 1, 2, 3, 4, 5, 6, 1, 2, 3, 4, 6, 1, 2, 3, 4, 1, 2, 3, 4, 1, 2, 3, 4, 5, 6, 6, 1, 2, 5, 1, 2, 5, 6, 1, 2, 3, 4, 5, 6, 1, 4, 6, 2, 6, 1, 2, 3, 4, 5, 6, 1, 2, 3, 5, 1, 2, 3, 4, 5, 6, 1, 2, 3, 4, 5, 6, 1, 2, 3, 5, 1, 2, 3, 1, 2, 3, 4, 5, 6, 1, 3, 4, 5, 6, 2, 5, 2, 4, 6, 2, 3, 2, 1, 3, 6, 1, 1, 3, 1, 3, 4, 1, 3, 4, 1, 2, 3, 4, 2, 4, 6, 1, 3, 1, 3, 4, 6, 1, 3, 4, 6, 6, 1, 2, 3, 4, 5, 6, 1, 2, 3, 4, 6, 1, 3, 6, 1, 2, 3, 5, 2, 1, 2, 4, 5, 1, 4, 6, 1, 2, 3, 4, 5, 6, 1, 4, 5, 6, 1, 2, 3, 4, 5, 6, 2, 3, 5, 1, 2, 4, 5, 6, 1, 2, 4, 5, 6, 1, 2, 3, 4, 5, 6, 1, 2, 3, 4, 5, 6, 3, 4, 6, 1, 2, 3, 4, 5, 6, 1, 2, 3, 4, 1, 2, 4, 5, 1, 2, 4, 5, 1, 2, 3, 4, 6, 1, 3, 1, 3, 2, 4, 1, 2, 3, 4, 5, 2, 5, 6, 2, 5, 1, 2, 3, 4, 1, 3, 4, 5, 6, 1, 2, 3, 5, 1, 2, 3, 4, 1, 5, 6, 1, 2, 3, 4, 5, 6, 1, 2, 5, 6, 1, 2, 3, 5, 6, 1, 2, 3, 4, 5, 5, 1, 2, 5, 6, 1, 2, 5, 2, 5, 1, 3, 5, 1, 3, 4, 1, 6, 1, 3, 4, 1, 3, 6, 1, 3, 5, 6, 1, 3, 4, 5, 6, 2, 4, 1, 2, 3, 6, 1, 2, 3, 4, 5, 6, 3, 4, 4, 5, 6, 1, 2, 3, 4, 5, 6, 2, 3, 4, 1, 2, 4, 5, 1, 3, 1, 3, 1, 4, 5, 6, 2, 1, 2, 3, 4, 1, 2, 3, 4, 5, 1, 3, 1, 2, 3, 1, 3, 5, 2, 3, 1, 3, 5, 6, 1, 3, 1, 2, 3, 4, 5, 6, 2, 4, 5, 1, 2, 4, 5, 1, 2, 4, 5, 6, 1, 4, 5, 6, 1, 2, 3, 4, 5, 6, 1, 2, 5, 6, 2, 3, 1, 2, 3, 4, 5, 1, 2, 5, 2, 5, 2, 4, 5, 1, 2, 2, 4, 5, 1, 2, 4, 1, 3, 2, 3, 1, 2, 3, 4, 5, 6, 1, 3, 2, 4, 6, 2, 4, 2, 4, 5, 1, 2, 3, 4, 1, 3, 5, 6, 1, 2, 3, 4, 5, 6, 2, 3, 1, 2, 3, 1, 2, 5, 6, 1, 2, 4, 5, 6, 1, 2, 3, 5, 1, 5, 1, 2, 5, 2, 4, 5, 2, 4, 1, 2, 3, 4, 5, 1, 2, 3, 4, 5, 6, 1, 1, 2, 4, 5, 6, 1, 3, 4, 1, 2, 3, 4, 2, 3, 1, 3, 6, 1, 3, 2, 4, 5, 1, 2, 3, 4, 5, 6, 1, 2, 3, 4, 5, 1, 2, 3, 4, 5, 6, 5, 6, 2, 5, 1, 2, 3, 4, 5, 6, 1, 1, 2, 3, 4, 5, 6, 2, 3, 4, 1, 2, 3, 4, 5, 6, 1, 6, 1, 3, 1, 2, 1, 4, 6, 1, 2, 3, 5, 5, 1, 2, 3, 4, 5, 6, 1, 2, 3, 4, 5, 6, 1, 3, 4, 1, 2, 3, 4, 5, 6, 3, 4, 5, 6, 1, 2, 3, 4, 5, 1, 2, 4, 1, 2, 4, 5, 1, 2, 3, 4, 6, 5, 1, 3, 5, 6, 1, 3, 4, 6, 1, 3, 6, 1, 3, 5, 1, 3, 1, 3, 4, 6, 1, 3, 4, 4, 5, 6, 1, 3, 1, 2, 3, 4, 5, 2, 3, 1, 2, 3, 5, 6, 1, 1, 3, 1, 2, 3, 4, 6, 1, 3, 5], \"Freq\": [0.15762551231209843, 0.7093148054044429, 0.07881275615604921, 0.1911671295249851, 0.600810978507096, 0.06554301583713774, 0.027309589932140728, 0.08739068778285032, 0.027309589932140728, 0.5459447350208866, 0.02274769729253694, 0.36396315668059104, 0.04549539458507388, 0.04549539458507388, 0.09084085069378803, 0.6358859548565162, 0.18168170138757606, 0.39841806457920215, 0.18434268659634725, 0.2200219162601564, 0.10109115071412592, 0.07730499760491982, 0.017839614831904573, 0.055158141058014594, 0.027579070529007297, 0.8273721158702189, 0.0827372115870219, 0.4358498841042831, 0.26732126225062697, 0.1394719629133706, 0.005811331788057108, 0.1510946264894848, 0.6960973544763676, 0.21418380137734386, 0.9586753321022294, 0.9630186537123411, 0.03425783800495421, 0.03425783800495421, 0.03425783800495421, 0.5995121650866987, 0.06851567600990842, 0.20554702802972524, 0.9299849609511163, 0.2025604493951222, 0.4426320931226744, 0.09752910526431809, 0.07502238866486007, 0.15754701619620615, 0.02250671659945802, 0.7053436143978007, 0.05642748915182406, 0.06583207067712807, 0.009404581525304009, 0.15047330440486414, 0.018809163050608018, 0.039196103005648956, 0.1959805150282448, 0.2743727210395427, 0.5095493390734365, 0.3254359042435407, 0.24127144624952154, 0.12344120505789474, 0.21882759078444977, 0.06172060252894737, 0.03366578319760766, 0.8939881571672168, 0.443083474113477, 0.26585008446808617, 0.08123197025413745, 0.09600141939125334, 0.014769449137115899, 0.10338614395981129, 0.5093225357421974, 0.11753596978666095, 0.3917865659555365, 0.40680964349821347, 0.542412857997618, 0.1489511093898179, 0.22342666408472683, 0.1489511093898179, 0.44685332816945367, 0.018618888673727237, 0.11855564783457967, 0.19265292773119194, 0.15560428778288582, 0.14078483180356335, 0.06668755190695107, 0.3334377595347553, 0.12428771705225378, 0.6214385852612689, 0.12428771705225378, 0.06904873169569654, 0.04142923901741793, 0.6191094388733416, 0.02443853048184243, 0.342139426745794, 0.00814617682728081, 0.29286827237454277, 0.2603273532218158, 0.1301636766109079, 0.3091387319509063, 0.20090308855181327, 0.19346223342026464, 0.186021378288716, 0.3646019014458834, 0.00744085513154864, 0.04464513078929184, 0.8937148515768495, 0.08012434780431803, 0.8413056519453394, 0.040062173902159014, 0.667093306636341, 0.20214948685949727, 0.060644846057849186, 0.08085979474379891, 0.1441879325607159, 0.23070069209714547, 0.028837586512143184, 0.12976913930464434, 0.3604698314017898, 0.10093155279250114, 0.22587563242116626, 0.6776268972634988, 0.056468908105291565, 0.35413012763205187, 0.566608204211283, 0.17828667398312043, 0.37143057079816755, 0.17085806256715708, 0.08914333699156021, 0.13371500548734033, 0.05942889132770681, 0.6878950924558181, 0.1495424114034387, 0.08972544684206324, 0.05981696456137549, 0.26094592600280014, 0.30171872694073765, 0.03261824075035002, 0.03261824075035002, 0.2527913658152126, 0.12231840281381257, 0.4918721378992118, 0.14756164136976355, 0.02459360689496059, 0.02459360689496059, 0.2213424620546453, 0.08607762413236207, 0.2971659220303, 0.074291480507575, 0.5943318440606, 0.074291480507575, 0.6164772067823717, 0.057794738135847346, 0.2889736906792367, 0.44013040809976284, 0.004836597891206185, 0.3579082439492577, 0.024182989456030927, 0.00967319578241237, 0.15477113251859792, 0.11932422491035966, 0.11932422491035966, 0.43752215800465205, 0.0795494832735731, 0.2386484498207193, 0.02483067306217766, 0.9683962494249286, 0.1270021627301466, 0.6985118950158063, 0.1270021627301466, 0.264199165639715, 0.7171120210220836, 0.9303300470319364, 0.386475611906133, 0.0644126019843555, 0.515300815874844, 0.9584124611578365, 0.8733240938817632, 0.1058574659250622, 0.04392505361376282, 0.08785010722752563, 0.8345760186614936, 0.284857499899317, 0.10682156246224389, 0.569714999798634, 0.06081696766177679, 0.0202723225539256, 0.12163393532355359, 0.7906205796030983, 0.08682325096671284, 0.08682325096671284, 0.824820884183772, 0.3004865749356887, 0.6510542456939922, 0.782217997738857, 0.16761814237261222, 0.05602212561116978, 0.8963540097787165, 0.22060183732952587, 0.3910668934477959, 0.12032827490701412, 0.2607112622985306, 0.9173674615752657, 0.21194055809485685, 0.026492569761857106, 0.302015295285171, 0.2278360999519711, 0.026492569761857106, 0.2066420441424854, 0.06683818252765138, 0.011139697087941896, 0.2562130330226636, 0.3787497009900245, 0.2784924271985474, 0.4241211519842076, 0.46653326718262833, 0.1060302879960519, 0.11096971280137988, 0.8322728460103491, 0.011096971280137988, 0.04438788512055195, 0.9476272897111323, 0.8089419817778292, 0.12256696693603472, 0.04902678677441389, 0.024513393387206945, 0.08037421402582651, 0.32149685610330603, 0.48224528415495904, 0.18219815337869547, 0.2301450358467732, 0.02876812948084665, 0.23973441234038878, 0.23973441234038878, 0.07671501194892441, 0.0898696513022408, 0.7189572104179264, 0.0449348256511204, 0.13480447695336117, 0.009474462371243837, 0.11369354845492605, 0.0757956989699507, 0.6063655917596056, 0.047372311856219186, 0.14211693556865754, 0.772201298992913, 0.08580014433254589, 0.14300024055424315, 0.08433881257203424, 0.1054235157150428, 0.1054235157150428, 0.08433881257203424, 0.6114563911472483, 0.09251868820537017, 0.046259344102685084, 0.2775560646161105, 0.09251868820537017, 0.555112129232221, 0.16132529479902283, 0.19928418769291054, 0.061683200952567546, 0.2989262815393658, 0.17555987963423073, 0.09964209384645527, 0.37397286811728814, 0.27041115079250067, 0.07479457362345764, 0.07479457362345764, 0.057534287402659715, 0.14383571850664928, 0.46405534735610193, 0.27843320841366115, 0.18562213894244076, 0.7635110440873655, 0.002408552189550049, 0.21676969705950438, 0.004817104379100098, 0.009634208758200195, 0.002408552189550049, 0.2117962017074544, 0.4813550038805781, 0.1829149014746197, 0.11552520093133875, 0.07577742143545291, 0.07577742143545291, 0.45466452861271744, 0.30310968574181163, 0.08114738545213292, 0.5193432668936506, 0.1785242479946924, 0.2109832021755456, 0.4478566484201353, 0.17914265936805412, 0.31989760601438233, 0.02559180848115059, 0.038387712721725885, 0.5753438393320288, 0.3835625595546859, 0.9059016910490896, 0.05032787172494942, 0.9385604791428994, 0.9300204421901711, 0.1326658886660098, 0.37904539618859945, 0.01895226980942997, 0.39799766599802944, 0.07580907923771989, 0.08571190876267723, 0.4285595438133861, 0.4285595438133861, 0.7193918872453352, 0.23979729574844508, 0.4488937332679148, 0.01951711883773543, 0.42937661443017944, 0.07806847535094172, 0.373860250423057, 0.062310041737176164, 0.020770013912392055, 0.39463026433544907, 0.14539009738674438, 0.43582995938235614, 0.03113071138445401, 0.37356853661344813, 0.15565355692227006, 0.2408585054667889, 0.030107313183348614, 0.6322535768503209, 0.09032193955004585, 0.047285511717205686, 0.5674261406064682, 0.3782840937376455, 0.5378453242828214, 0.06605118017508332, 0.03774353152861904, 0.11323059458585713, 0.22646118917171426, 0.01887176576430952, 0.03750881204194664, 0.7876850528808795, 0.1687896541887599, 0.01875440602097332, 0.820145848283746, 0.09792786248164131, 0.012240982810205164, 0.012240982810205164, 0.06120491405102583, 0.020836859849561518, 0.18753173864605363, 0.020836859849561518, 0.08334743939824607, 0.6667795151859686, 0.9262203186798694, 0.11053646559270623, 0.22107293118541246, 0.49741409516717805, 0.16580469838905934, 0.016350173344906713, 0.2616027735185074, 0.711232540503442, 0.8553561736107539, 0.1308191794934094, 0.5159554782313631, 0.3439703188209088, 0.9873284299129782, 0.11264880333990876, 0.8730282258842929, 0.00938740027832573, 0.9244378595478022, 0.05777736622173764, 0.11409052862408996, 0.7701110682126072, 0.10695987058508433, 0.5154661270345771, 0.40807735056904015, 0.04295551058621475, 0.3033406991203201, 0.4297326570871201, 0.025278391593360004, 0.25278391593360006, 0.11016402641110226, 0.07344268427406818, 0.6242628163295795, 0.14688536854813636, 0.03672134213703409, 0.9300524382868282, 0.8995407068419697, 0.8963933739845349, 0.8326481284299297, 0.06938734403582748, 0.10408101605374122, 0.08210745532134027, 0.5898772448085761, 0.20526863830335065, 0.11451829294818511, 0.002160722508456323, 0.002160722508456323, 0.7074734473587643, 0.2653025427595366, 0.28427574594739535, 0.3158619399415504, 0.4106205219240155, 0.010443372465457831, 0.12532046958549398, 0.020886744930915663, 0.39684815368739756, 0.19842407684369878, 0.25064093917098795, 0.6432315891332024, 0.037837152301953086, 0.3026972184156247, 0.9060782395002623, 0.8802903968729331, 0.07335753307274442, 0.03667876653637221, 0.5870068648686535, 0.39133790991243567, 0.8676075966914379, 0.11967001333675005, 0.6600526909323597, 0.02357331039044142, 0.16501317273308994, 0.11786655195220709, 0.9302638276240325, 0.3468243901907067, 0.23844176825611088, 0.33959888206173366, 0.07225508128973057, 0.2990717380787624, 0.1495358690393812, 0.049845289679793736, 0.1495358690393812, 0.34891702775855615, 0.782196268464831, 0.16761348609960663, 0.7555031385360401, 0.04197239658533556, 0.16788958634134224, 0.8683238057318015, 0.03339706945122314, 0.06679413890244627, 0.9172285029239287, 0.045861425146196434, 0.5091509885085402, 0.04242924904237835, 0.3394339923390268, 0.0848584980847567, 0.45793389266501966, 0.5088154362944664, 0.15687431661842877, 0.42308527815273217, 0.15212054944817335, 0.01901506868102167, 0.17113561812919503, 0.0808140418943421, 0.6034309726059522, 0.21942944458398264, 0.10971472229199132, 0.19657619627702588, 0.15726095702162068, 0.11794571776621553, 0.5110981103202673, 0.2342651164553674, 0.2342651164553674, 0.2342651164553674, 0.267731561663277, 0.033466445207909624, 0.1393509936788194, 0.6688847696583331, 0.11148079494305552, 0.05574039747152776, 0.28797014690479705, 0.23492301458022916, 0.17429772049500872, 0.28797014690479705, 0.007578161760652553, 0.007578161760652553, 0.16889999001499137, 0.25334998502248707, 0.4644749725412263, 0.08444999500749568, 0.040776523250063104, 0.9378600347514513, 0.7381217029974153, 0.1260207785605343, 0.054008905097371857, 0.018002968365790618, 0.054008905097371857, 0.0025538073042549792, 0.015322843825529875, 0.980662004833912, 0.26698310354475757, 0.7246684239071991, 0.5091251759080915, 0.07832695013970638, 0.3916347506985319, 0.8453274916467679, 0.08453274916467679, 0.6034775291096832, 0.219446374221703, 0.1097231871108515, 0.0361934868493177, 0.6514827632877187, 0.32574138164385935, 0.5752172936231748, 0.3834781957487832, 0.8334505951385693, 0.1282231684828568, 0.05726430179045887, 0.1463421045756171, 0.03181350099469937, 0.1717929053713766, 0.006362700198939874, 0.5917311185014082, 0.8004604476594028, 0.16009208953188056, 0.23837975857293098, 0.6674633240042067, 0.04767595171458619, 0.6432197290459535, 0.3026916371980958, 0.4359308836353162, 0.16347408136324357, 0.38143952318090163, 0.03772959975528837, 0.6414031958399022, 0.11318879926586511, 0.22637759853173023, 0.35984320435749195, 0.48835863448516764, 0.02570308602553514, 0.1285154301276757, 0.42105798674059236, 0.14688069304904383, 0.11750455443923508, 0.24480115508173972, 0.009792046203269589, 0.05875227721961754, 0.040777142834573024, 0.9378742851951796, 0.8345771616396278, 0.13909619360660463, 0.023182698934434108, 0.7561267476353926, 0.0504084498423595, 0.02520422492117975, 0.1512253495270785, 0.006909629452646036, 0.6978725747172496, 0.16583110686350486, 0.041457776715876214, 0.08291555343175243, 0.5643715960865258, 0.01567698878018127, 0.047030966340543816, 0.3605707419441692, 0.3650129858364765, 0.6257365471482454, 0.10057318805294586, 0.20114637610589173, 0.6537257223441482, 0.08126650318775504, 0.37585757724336705, 0.5383905836188771, 0.8803735472338353, 0.07336446226948627, 0.013707403363095184, 0.15078143699404703, 0.013707403363095184, 0.5620035378869026, 0.2741480672619037, 0.06861649867199911, 0.8233979840639893, 0.016145058511058612, 0.008072529255529306, 0.03632638164988188, 0.04843517553317584, 0.9058267079226304, 0.10160201447601842, 0.15240302171402764, 0.10160201447601842, 0.25400503619004605, 0.3048060434280553, 0.06804395738034655, 0.8845714459445051, 0.02268131912678218, 0.28324571435231266, 0.16522666670551572, 0.14162285717615633, 0.4012647619991096, 0.8476400818576398, 0.07705818925978544, 0.4691849108527942, 0.08089395014703347, 0.4368273307939808, 0.5187212017864253, 0.4668490816077828, 0.45639476979205085, 0.014722411928775834, 0.5152844175071541, 0.4296025694882368, 0.19738496435946012, 0.069665281538633, 0.011610880256438832, 0.10449792230794948, 0.18577408410302132, 0.29907442967975606, 0.14953721483987803, 0.04984573827995934, 0.14953721483987803, 0.3489201679597154, 0.34164713736991736, 0.28770285252203565, 0.10788856969576337, 0.1348607121197042, 0.10788856969576337, 0.008990714141313614, 0.7662374483067922, 0.09577968103834902, 0.9042401358585829, 0.0695569335275833, 0.17080007460555935, 0.3457660046893031, 0.12497566434553123, 0.08748296504187186, 0.20412691843103434, 0.06665368765094999, 0.9063110029669528, 0.471605149333701, 0.007255463835903093, 0.311984944943833, 0.13785381288215875, 0.043532783015418554, 0.02902185534361237, 0.11313152563015409, 0.056565762815077046, 0.8484864422261557, 0.4429059052353665, 0.23108134186193036, 0.17972993255927916, 0.09628389244247097, 0.012837852325662797, 0.03851355697698839, 0.1594150190686851, 0.7970750953434256, 0.9027130826581357, 0.041032412848097076, 0.27024954358111336, 0.6305822683559311, 0.04117410238171723, 0.1235223071451517, 0.7823079452526274, 0.2196375243832558, 0.6223063190858914, 0.018303127031937982, 0.14642501625550386, 0.9349467543675808, 0.3329532370147341, 0.3564558184510683, 0.02741967834238987, 0.15276677933617214, 0.06267355049689113, 0.07050774430900252, 0.4428588690415136, 0.23105680123905056, 0.17971084540815044, 0.09627366718293774, 0.012836488957725031, 0.038509466873175094, 0.65078353640295, 0.3003616321859769, 0.03337351468733077, 0.3023206430423213, 0.2466299982713674, 0.07160225756265505, 0.1591161279170112, 0.11138128954190785, 0.10342548314605729, 0.18801387396682656, 0.4230312164253598, 0.09400693698341328, 0.28202081095023984, 0.9149384453445069, 0.3012834627072375, 0.05021391045120625, 0.6527808358656813, 0.9539283723484937, 0.03491961044413211, 0.66347259843851, 0.2793568835530569, 0.1761161559749789, 0.11741077064998594, 0.23482154129997188, 0.46964308259994375, 0.3207913216342592, 0.27267262338912035, 0.35287045379768517, 0.03207913216342592, 0.01603956608171296, 0.9710013486637911, 0.05193409729344051, 0.025967048646720257, 0.025967048646720257, 0.9088467026352091, 0.048912670778447936, 0.17934645952097575, 0.11412956514971184, 0.6521689437126391, 0.16358645978340558, 0.20448307472925698, 0.5725526092419195, 0.8920292373837765, 0.07136233899070211, 0.9338330840397273, 0.5870810473041265, 0.39138736486941766, 0.05878217209008361, 0.23512868836033443, 0.11756434418016722, 0.5878217209008361, 0.028076708786800117, 0.3088437966548013, 0.6457643020964027, 0.4968772858635134, 0.20703220244313056, 0.2484386429317567, 0.4057252890010186, 0.5680154046014261, 0.29306921071908704, 0.316514747576614, 0.1406732211451618, 0.03516830528629045, 0.21100983171774268, 0.26417426563188423, 0.7170444352865429, 0.7353484519417209, 0.02673994370697167, 0.13369971853485835, 0.08690481704765793, 0.013369971853485835, 0.9250154283525784, 0.9224445779130005, 0.04612222889565002, 0.059671603041268166, 0.17049029440362334, 0.008524514720181167, 0.14491675024307984, 0.613765059853044, 0.8518936285747614, 0.05679290857165076, 0.08518936285747614], \"Term\": [\"aana\", \"aana\", \"aana\", \"acoustic\", \"acoustic\", \"acoustic\", \"acoustic\", \"acoustic\", \"acoustic\", \"addictive\", \"addictive\", \"addictive\", \"addictive\", \"addictive\", \"album\", \"album\", \"album\", \"amazing\", \"amazing\", \"amazing\", \"amazing\", \"amazing\", \"amazing\", \"ambient\", \"ambient\", \"ambient\", \"ambient\", \"american\", \"american\", \"american\", \"american\", \"american\", \"art\", \"art\", \"artist\", \"artists\", \"atmospheric\", \"atmospheric\", \"atmospheric\", \"atmospheric\", \"atmospheric\", \"atmospheric\", \"avant\", \"awesome\", \"awesome\", \"awesome\", \"awesome\", \"awesome\", \"awesome\", \"ballad\", \"ballad\", \"ballad\", \"ballad\", \"ballad\", \"ballad\", \"bands\", \"bands\", \"bands\", \"bands\", \"beautiful\", \"beautiful\", \"beautiful\", \"beautiful\", \"beautiful\", \"beautiful\", \"beowulfs\", \"best\", \"best\", \"best\", \"best\", \"best\", \"best\", \"better\", \"better\", \"better\", \"beyonce\", \"beyonce\", \"brilliant\", \"brilliant\", \"brilliant\", \"brilliant\", \"brilliant\", \"british\", \"british\", \"british\", \"british\", \"british\", \"british\", \"britpop\", \"britpop\", \"britpop\", \"britpop\", \"britpop\", \"catchy\", \"catchy\", \"catchy\", \"catchy\", \"chill\", \"chill\", \"chill\", \"chill\", \"chillout\", \"chillout\", \"chillout\", \"chillout\", \"chillout\", \"chillout\", \"choice\", \"christian\", \"christian\", \"christian\", \"christmas\", \"christmas\", \"christmas\", \"christmas\", \"classic\", \"classic\", \"classic\", \"classic\", \"classic\", \"classic\", \"classical\", \"classical\", \"classical\", \"college\", \"college\", \"cool\", \"cool\", \"cool\", \"cool\", \"cool\", \"cool\", \"country\", \"country\", \"country\", \"country\", \"cover\", \"cover\", \"cover\", \"cover\", \"cover\", \"cover\", \"covers\", \"covers\", \"covers\", \"covers\", \"covers\", \"covers\", \"crazy\", \"crazy\", \"crazy\", \"crazy\", \"cute\", \"cute\", \"cute\", \"dance\", \"dance\", \"dance\", \"dance\", \"dance\", \"dance\", \"dark\", \"dark\", \"dark\", \"dark\", \"dark\", \"death\", \"death\", \"descoperiri\", \"descoperiri\", \"descoperiri\", \"diaries\", \"diaries\", \"dich\", \"disco\", \"disco\", \"disco\", \"disney\", \"diva\", \"diva\", \"downtempo\", \"downtempo\", \"downtempo\", \"dream\", \"dream\", \"dream\", \"dreamy\", \"dreamy\", \"dreamy\", \"dreamy\", \"dub\", \"dub\", \"dub\", \"duet\", \"duet\", \"easy\", \"easy\", \"eighties\", \"eighties\", \"electro\", \"electro\", \"electro\", \"electro\", \"electroclash\", \"electronic\", \"electronic\", \"electronic\", \"electronic\", \"electronic\", \"electronic\", \"electronica\", \"electronica\", \"electronica\", \"electronica\", \"electronica\", \"electropop\", \"electropop\", \"electropop\", \"emo\", \"emo\", \"emo\", \"emo\", \"emocore\", \"emotional\", \"emotional\", \"emotional\", \"emotional\", \"england\", \"england\", \"england\", \"epic\", \"epic\", \"epic\", \"epic\", \"epic\", \"epic\", \"ethereal\", \"ethereal\", \"ethereal\", \"ethereal\", \"experimental\", \"experimental\", \"experimental\", \"experimental\", \"experimental\", \"experimental\", \"fantastic\", \"fantastic\", \"fantastic\", \"fav\", \"fav\", \"fav\", \"fav\", \"fav\", \"faves\", \"faves\", \"faves\", \"faves\", \"faves\", \"favorite\", \"favorite\", \"favorite\", \"favorite\", \"favorite\", \"favorite\", \"favorites\", \"favorites\", \"favorites\", \"favorites\", \"favorites\", \"favorites\", \"feelings\", \"feelings\", \"feelings\", \"female\", \"female\", \"female\", \"female\", \"female\", \"female\", \"folk\", \"folk\", \"folk\", \"folk\", \"friends\", \"friends\", \"friends\", \"friends\", \"fucking\", \"fucking\", \"fucking\", \"fucking\", \"fun\", \"fun\", \"fun\", \"fun\", \"fun\", \"furtado\", \"furtado\", \"future\", \"future\", \"garage\", \"garde\", \"genius\", \"genius\", \"genius\", \"genius\", \"genius\", \"german\", \"german\", \"german\", \"gil\", \"gil\", \"girl\", \"girl\", \"girl\", \"girl\", \"glam\", \"glam\", \"glam\", \"glam\", \"glam\", \"good\", \"good\", \"good\", \"good\", \"gossip\", \"gossip\", \"gossip\", \"gossip\", \"gothic\", \"gothic\", \"gothic\", \"great\", \"great\", \"great\", \"great\", \"great\", \"great\", \"grunge\", \"grunge\", \"grunge\", \"grunge\", \"guilty\", \"guilty\", \"guilty\", \"guilty\", \"guilty\", \"guitar\", \"guitar\", \"guitar\", \"guitar\", \"guitar\", \"hair\", \"halloween\", \"halloween\", \"halloween\", \"halloween\", \"hard\", \"hard\", \"hard\", \"hardcore\", \"hardcore\", \"harmonies\", \"harmonies\", \"heavy\", \"hip\", \"hip\", \"hip\", \"hit\", \"hit\", \"hop\", \"hop\", \"hop\", \"hot\", \"hot\", \"hot\", \"house\", \"house\", \"house\", \"house\", \"hypnotic\", \"hypnotic\", \"hypnotic\", \"hypnotic\", \"hypnotic\", \"ich\", \"idm\", \"idol\", \"idolo\", \"idolo\", \"idolo\", \"indie\", \"indie\", \"indie\", \"indie\", \"indie\", \"indie\", \"indietronica\", \"indietronica\", \"industrial\", \"industrial\", \"industrial\", \"instrumental\", \"instrumental\", \"instrumental\", \"instrumental\", \"instrumental\", \"instrumental\", \"ive\", \"ive\", \"ive\", \"jet\", \"jukebox\", \"jukebox\", \"jukebox\", \"justin\", \"justin\", \"latin\", \"latin\", \"legend\", \"legend\", \"legend\", \"legend\", \"liebe\", \"listen\", \"listen\", \"listen\", \"listen\", \"listened\", \"listened\", \"listened\", \"listened\", \"listened\", \"listening\", \"listening\", \"loved\", \"loved\", \"loved\", \"lpa\", \"lpa\", \"lpa\", \"luv\", \"luv\", \"lyrics\", \"lyrics\", \"lyrics\", \"lyrics\", \"madonna\", \"madonna\", \"male\", \"male\", \"male\", \"male\", \"male\", \"male\", \"marisa\", \"marisa\", \"marisa\", \"masterpiece\", \"masterpiece\", \"masterpiece\", \"masterpiece\", \"melancholic\", \"melancholic\", \"melancholic\", \"melancholic\", \"melancholic\", \"melancholy\", \"melancholy\", \"melancholy\", \"melancholy\", \"mellow\", \"mellow\", \"mellow\", \"mellow\", \"mellow\", \"mellow\", \"melodic\", \"melodic\", \"melodic\", \"melodic\", \"melrose\", \"melrose\", \"memories\", \"memories\", \"memories\", \"memories\", \"memories\", \"metal\", \"metal\", \"metal\", \"metalcore\", \"metalcore\", \"metallica\", \"metallica\", \"metallica\", \"miserable\", \"miserable\", \"mix\", \"mix\", \"mix\", \"modern\", \"modern\", \"modern\", \"nelly\", \"nelly\", \"ness\", \"ness\", \"new\", \"new\", \"new\", \"new\", \"new\", \"new\", \"nice\", \"nice\", \"noise\", \"noise\", \"noise\", \"obsessed\", \"obsessed\", \"ohmydamn\", \"ohmydamn\", \"ohmydamn\", \"oui\", \"oui\", \"oui\", \"oui\", \"party\", \"party\", \"party\", \"party\", \"piano\", \"piano\", \"piano\", \"piano\", \"piano\", \"piano\", \"place\", \"place\", \"pleasure\", \"pleasure\", \"pleasure\", \"pleasures\", \"pleasures\", \"pleasures\", \"pleasures\", \"post\", \"post\", \"post\", \"post\", \"post\", \"power\", \"power\", \"power\", \"power\", \"powerful\", \"powerful\", \"prejebeno\", \"prejebeno\", \"prejebeno\", \"progressive\", \"progressive\", \"progressive\", \"project\", \"project\", \"psychedelic\", \"psychedelic\", \"psychedelic\", \"psychedelic\", \"psychedelic\", \"punk\", \"punk\", \"punk\", \"punk\", \"punk\", \"punk\", \"radio\", \"rain\", \"rain\", \"rain\", \"rain\", \"rain\", \"rap\", \"rap\", \"rap\", \"relax\", \"relax\", \"relax\", \"relax\", \"remember\", \"remember\", \"remix\", \"remix\", \"remix\", \"rnb\", \"rnb\", \"roll\", \"roll\", \"roll\", \"romantic\", \"romantic\", \"romantic\", \"romantic\", \"romantic\", \"romantic\", \"row\", \"row\", \"row\", \"row\", \"row\", \"sad\", \"sad\", \"sad\", \"sad\", \"sad\", \"sad\", \"school\", \"school\", \"screamo\", \"screamo\", \"seen\", \"seen\", \"seen\", \"seen\", \"seen\", \"seen\", \"set\", \"sexy\", \"sexy\", \"sexy\", \"sexy\", \"sexy\", \"sexy\", \"shoegaze\", \"shoegaze\", \"shoegaze\", \"singer\", \"singer\", \"singer\", \"singer\", \"singer\", \"singer\", \"single\", \"single\", \"siss\", \"siss\", \"ska\", \"ska\", \"slowies\", \"slowies\", \"slowies\", \"soft\", \"soft\", \"soft\", \"soft\", \"solo\", \"songs\", \"songs\", \"songs\", \"songs\", \"songs\", \"songs\", \"songwriter\", \"songwriter\", \"songwriter\", \"songwriter\", \"songwriter\", \"songwriter\", \"soul\", \"soul\", \"soul\", \"soundtrack\", \"soundtrack\", \"soundtrack\", \"soundtrack\", \"soundtrack\", \"soundtrack\", \"space\", \"space\", \"space\", \"space\", \"spanish\", \"special\", \"special\", \"special\", \"speed\", \"straight\", \"straight\", \"straight\", \"swedish\", \"swedish\", \"swedish\", \"swedish\", \"sweet\", \"sweet\", \"sweet\", \"sweet\", \"sweet\", \"symphonic\", \"synth\", \"synth\", \"synth\", \"synth\", \"synthpop\", \"synthpop\", \"synthpop\", \"synthpop\", \"techno\", \"techno\", \"techno\", \"teen\", \"teen\", \"thrash\", \"timberlake\", \"timberlake\", \"trance\", \"trance\", \"trance\", \"trance\", \"trip\", \"trip\", \"trip\", \"ultimate\", \"ultimate\", \"ultimate\", \"urban\", \"urban\", \"usa\", \"usa\", \"usa\", \"usa\", \"usa\", \"vampire\", \"vampire\", \"vocalist\", \"vocalist\", \"vocalist\", \"vocalist\", \"vocalist\", \"vocals\", \"voices\", \"voices\", \"wave\", \"wave\", \"wave\", \"wave\", \"wave\", \"weekly\", \"weekly\", \"weekly\"]}, \"R\": 30, \"lambda.step\": 0.01, \"plot.opts\": {\"xlab\": \"PC1\", \"ylab\": \"PC2\"}, \"topic.order\": [5, 4, 3, 2, 1, 6]};\n",
       "\n",
       "function LDAvis_load_lib(url, callback){\n",
       "  var s = document.createElement('script');\n",
       "  s.src = url;\n",
       "  s.async = true;\n",
       "  s.onreadystatechange = s.onload = callback;\n",
       "  s.onerror = function(){console.warn(\"failed to load library \" + url);};\n",
       "  document.getElementsByTagName(\"head\")[0].appendChild(s);\n",
       "}\n",
       "\n",
       "if(typeof(LDAvis) !== \"undefined\"){\n",
       "   // already loaded: just create the visualization\n",
       "   !function(LDAvis){\n",
       "       new LDAvis(\"#\" + \"ldavis_el125881122767357042344331821\", ldavis_el125881122767357042344331821_data);\n",
       "   }(LDAvis);\n",
       "}else if(typeof define === \"function\" && define.amd){\n",
       "   // require.js is available: use it to load d3/LDAvis\n",
       "   require.config({paths: {d3: \"https://cdnjs.cloudflare.com/ajax/libs/d3/3.5.5/d3.min\"}});\n",
       "   require([\"d3\"], function(d3){\n",
       "      window.d3 = d3;\n",
       "      LDAvis_load_lib(\"https://cdn.rawgit.com/bmabey/pyLDAvis/files/ldavis.v1.0.0.js\", function(){\n",
       "        new LDAvis(\"#\" + \"ldavis_el125881122767357042344331821\", ldavis_el125881122767357042344331821_data);\n",
       "      });\n",
       "    });\n",
       "}else{\n",
       "    // require.js not available: dynamically load d3 & LDAvis\n",
       "    LDAvis_load_lib(\"https://cdnjs.cloudflare.com/ajax/libs/d3/3.5.5/d3.min.js\", function(){\n",
       "         LDAvis_load_lib(\"https://cdn.rawgit.com/bmabey/pyLDAvis/files/ldavis.v1.0.0.js\", function(){\n",
       "                 new LDAvis(\"#\" + \"ldavis_el125881122767357042344331821\", ldavis_el125881122767357042344331821_data);\n",
       "            })\n",
       "         });\n",
       "}\n",
       "</script>"
      ],
      "text/plain": [
       "PreparedData(topic_coordinates=               x          y  topics  cluster       Freq\n",
       "topic                                                  \n",
       "4      93.013336  41.924427       1        1  28.551106\n",
       "3      -7.257101 -72.205452       2        1  22.748678\n",
       "2       6.779485  79.065010       3        1  14.101707\n",
       "1     -55.190956   8.528858       4        1  12.987614\n",
       "0      84.338272 -51.565910       5        1  12.927516\n",
       "5      24.336605   1.149389       6        1   8.683379, topic_info=     Category        Freq          Term       Total  loglift  logprob\n",
       "term                                                                 \n",
       "160   Default  391.000000         metal  391.000000  30.0000  30.0000\n",
       "85    Default  415.000000        female  415.000000  29.0000  29.0000\n",
       "128   Default  462.000000         indie  462.000000  28.0000  28.0000\n",
       "168   Default  157.000000           new  157.000000  27.0000  27.0000\n",
       "120   Default  140.000000           hop  140.000000  26.0000  26.0000\n",
       "192   Default  247.000000          punk  247.000000  25.0000  25.0000\n",
       "260   Default  117.000000          wave  117.000000  24.0000  24.0000\n",
       "118   Default  106.000000           hip  106.000000  23.0000  23.0000\n",
       "114   Default  122.000000          hard  122.000000  22.0000  22.0000\n",
       "46    Default  206.000000         dance  206.000000  21.0000  21.0000\n",
       "117   Default   59.000000         heavy   59.000000  20.0000  20.0000\n",
       "64    Default  188.000000    electronic  188.000000  19.0000  19.0000\n",
       "189   Default   98.000000   progressive   98.000000  18.0000  18.0000\n",
       "6     Default   72.000000       ambient   72.000000  17.0000  17.0000\n",
       "115   Default   99.000000      hardcore   99.000000  16.0000  16.0000\n",
       "75    Default  105.000000  experimental  105.000000  15.0000  15.0000\n",
       "239   Default   61.000000      synthpop   61.000000  14.0000  14.0000\n",
       "184   Default  144.000000          post  144.000000  13.0000  13.0000\n",
       "30    Default  122.000000        catchy  122.000000  12.0000  12.0000\n",
       "26    Default  134.000000       british  134.000000  11.0000  11.0000\n",
       "62    Default   99.000000       electro   99.000000  10.0000  10.0000\n",
       "238   Default   38.000000         synth   38.000000   9.0000   9.0000\n",
       "65    Default   89.000000   electronica   89.000000   8.0000   8.0000\n",
       "199   Default   61.000000         remix   61.000000   7.0000   7.0000\n",
       "132   Default   95.000000  instrumental   95.000000   6.0000   6.0000\n",
       "48    Default   40.000000         death   40.000000   5.0000   5.0000\n",
       "200   Default   77.000000           rnb   77.000000   4.0000   4.0000\n",
       "201   Default   67.000000          roll   67.000000   3.0000   3.0000\n",
       "67    Default   90.000000           emo   90.000000   2.0000   2.0000\n",
       "191   Default   72.000000   psychedelic   72.000000   1.0000   1.0000\n",
       "...       ...         ...           ...         ...      ...      ...\n",
       "168    Topic6   93.322036           new  157.165978   1.9225  -2.6149\n",
       "248    Topic6    9.892347        trance   17.011961   1.9016  -4.8592\n",
       "241    Topic6   14.189438        techno   24.451901   1.8995  -4.4985\n",
       "39     Topic6    7.956619       college   14.119104   1.8702  -5.0770\n",
       "79     Topic6   11.755116         faves   21.617254   1.8346  -4.6867\n",
       "52     Topic6   15.825040         disco   31.049825   1.7698  -4.3894\n",
       "16     Topic6   12.888570         bands   25.512740   1.7609  -4.5946\n",
       "71     Topic6    6.275901       england   12.441801   1.7594  -5.3142\n",
       "199    Topic6   26.749124         remix   61.809319   1.6062  -3.8645\n",
       "99     Topic6    4.781279        german   11.666990   1.5517  -5.5863\n",
       "130    Topic6   12.751768    industrial   31.659402   1.5344  -4.6053\n",
       "105    Topic6   15.601042        gothic   42.296254   1.4464  -4.4036\n",
       "26     Topic6   44.896617       british  134.957721   1.3432  -3.3466\n",
       "194    Topic6    6.428004          rain   19.684649   1.3246  -5.2903\n",
       "228    Topic6    6.067846         space   21.275026   1.1892  -5.3480\n",
       "65     Topic6   24.986398   electronica   89.769048   1.1649  -3.9326\n",
       "62     Topic6   25.954226       electro   99.727184   1.0977  -3.8946\n",
       "122    Topic6    9.991325         house   39.559479   1.0677  -4.8492\n",
       "132    Topic6   23.703083  instrumental   95.754509   1.0476  -3.9854\n",
       "64     Topic6   38.975868    electronic  188.732163   0.8664  -3.4880\n",
       "46     Topic6   32.270230         dance  206.756903   0.5864  -3.6768\n",
       "81     Topic6   25.225816     favorites  173.809400   0.5137  -3.9231\n",
       "202    Topic6   16.016529      romantic   86.126114   0.7616  -4.3773\n",
       "80     Topic6   21.313065      favorite  210.754303   0.1524  -4.0916\n",
       "75     Topic6   14.668954  experimental  105.546886   0.4703  -4.4652\n",
       "151    Topic6   16.919874          male  210.359482  -0.0766  -4.3225\n",
       "224    Topic6   17.523469         songs  255.291106  -0.2351  -4.2874\n",
       "208    Topic6   15.864597          seen  240.046734  -0.2730  -4.3869\n",
       "42     Topic6   14.693212         cover  122.630771   0.3220  -4.4636\n",
       "19     Topic6   14.328616          best  135.414665   0.1977  -4.4887\n",
       "\n",
       "[328 rows x 6 columns], token_table=      Topic      Freq       Term\n",
       "term                            \n",
       "0         2  0.157626       aana\n",
       "0         4  0.709315       aana\n",
       "0         6  0.078813       aana\n",
       "2         1  0.191167   acoustic\n",
       "2         2  0.600811   acoustic\n",
       "2         3  0.065543   acoustic\n",
       "2         4  0.027310   acoustic\n",
       "2         5  0.087391   acoustic\n",
       "2         6  0.027310   acoustic\n",
       "3         1  0.545945  addictive\n",
       "3         2  0.022748  addictive\n",
       "3         3  0.363963  addictive\n",
       "3         4  0.045495  addictive\n",
       "3         5  0.045495  addictive\n",
       "4         2  0.090841      album\n",
       "4         5  0.635886      album\n",
       "4         6  0.181682      album\n",
       "5         1  0.398418    amazing\n",
       "5         2  0.184343    amazing\n",
       "5         3  0.220022    amazing\n",
       "5         4  0.101091    amazing\n",
       "5         5  0.077305    amazing\n",
       "5         6  0.017840    amazing\n",
       "6         1  0.055158    ambient\n",
       "6         3  0.027579    ambient\n",
       "6         4  0.827372    ambient\n",
       "6         6  0.082737    ambient\n",
       "7         1  0.435850   american\n",
       "7         2  0.267321   american\n",
       "7         3  0.139472   american\n",
       "...     ...       ...        ...\n",
       "249       3  0.308844       trip\n",
       "249       4  0.645764       trip\n",
       "250       4  0.496877   ultimate\n",
       "250       5  0.207032   ultimate\n",
       "250       6  0.248439   ultimate\n",
       "252       1  0.405725      urban\n",
       "252       3  0.568015      urban\n",
       "253       1  0.293069        usa\n",
       "253       2  0.316515        usa\n",
       "253       3  0.140673        usa\n",
       "253       4  0.035168        usa\n",
       "253       5  0.211010        usa\n",
       "254       2  0.264174    vampire\n",
       "254       3  0.717044    vampire\n",
       "256       1  0.735348   vocalist\n",
       "256       2  0.026740   vocalist\n",
       "256       3  0.133700   vocalist\n",
       "256       5  0.086905   vocalist\n",
       "256       6  0.013370   vocalist\n",
       "257       1  0.925015     vocals\n",
       "258       1  0.922445     voices\n",
       "258       3  0.046122     voices\n",
       "260       1  0.059672       wave\n",
       "260       2  0.170490       wave\n",
       "260       3  0.008525       wave\n",
       "260       4  0.144917       wave\n",
       "260       6  0.613765       wave\n",
       "261       1  0.851894     weekly\n",
       "261       3  0.056793     weekly\n",
       "261       5  0.085189     weekly\n",
       "\n",
       "[752 rows x 3 columns], R=30, lambda_step=0.01, plot_opts={'xlab': 'PC1', 'ylab': 'PC2'}, topic_order=[5, 4, 3, 2, 1, 6])"
      ]
     },
     "execution_count": 46,
     "metadata": {},
     "output_type": "execute_result"
    }
   ],
   "source": [
    "pyLDAvis.sklearn.prepare(lda_tf, dtm_tf, tf_vectorizer, mds='tsne')"
   ]
  },
  {
   "cell_type": "code",
   "execution_count": null,
   "metadata": {
    "collapsed": true
   },
   "outputs": [],
   "source": []
  },
  {
   "cell_type": "code",
   "execution_count": null,
   "metadata": {
    "collapsed": true
   },
   "outputs": [],
   "source": []
  },
  {
   "cell_type": "code",
   "execution_count": null,
   "metadata": {
    "collapsed": true
   },
   "outputs": [],
   "source": []
  },
  {
   "cell_type": "code",
   "execution_count": 47,
   "metadata": {},
   "outputs": [
    {
     "data": {
      "text/html": [
       "\n",
       "    <div class=\"bk-root\">\n",
       "        <a href=\"https://bokeh.pydata.org\" target=\"_blank\" class=\"bk-logo bk-logo-small bk-logo-notebook\"></a>\n",
       "        <span id=\"db062095-7feb-4a1f-8f23-56af952e239a\">Loading BokehJS ...</span>\n",
       "    </div>"
      ]
     },
     "metadata": {},
     "output_type": "display_data"
    },
    {
     "data": {
      "application/javascript": [
       "\n",
       "(function(root) {\n",
       "  function now() {\n",
       "    return new Date();\n",
       "  }\n",
       "\n",
       "  var force = true;\n",
       "\n",
       "  if (typeof (root._bokeh_onload_callbacks) === \"undefined\" || force === true) {\n",
       "    root._bokeh_onload_callbacks = [];\n",
       "    root._bokeh_is_loading = undefined;\n",
       "  }\n",
       "\n",
       "  var JS_MIME_TYPE = 'application/javascript';\n",
       "  var HTML_MIME_TYPE = 'text/html';\n",
       "  var EXEC_MIME_TYPE = 'application/vnd.bokehjs_exec.v0+json';\n",
       "  var CLASS_NAME = 'output_bokeh rendered_html';\n",
       "\n",
       "  /**\n",
       "   * Render data to the DOM node\n",
       "   */\n",
       "  function render(props, node) {\n",
       "    var script = document.createElement(\"script\");\n",
       "    node.appendChild(script);\n",
       "  }\n",
       "\n",
       "  /**\n",
       "   * Handle when an output is cleared or removed\n",
       "   */\n",
       "  function handleClearOutput(event, handle) {\n",
       "    var cell = handle.cell;\n",
       "\n",
       "    var id = cell.output_area._bokeh_element_id;\n",
       "    var server_id = cell.output_area._bokeh_server_id;\n",
       "    // Clean up Bokeh references\n",
       "    if (id != null && id in Bokeh.index) {\n",
       "      Bokeh.index[id].model.document.clear();\n",
       "      delete Bokeh.index[id];\n",
       "    }\n",
       "\n",
       "    if (server_id !== undefined) {\n",
       "      // Clean up Bokeh references\n",
       "      var cmd = \"from bokeh.io.state import curstate; print(curstate().uuid_to_server['\" + server_id + \"'].get_sessions()[0].document.roots[0]._id)\";\n",
       "      cell.notebook.kernel.execute(cmd, {\n",
       "        iopub: {\n",
       "          output: function(msg) {\n",
       "            var id = msg.content.text.trim();\n",
       "            if (id in Bokeh.index) {\n",
       "              Bokeh.index[id].model.document.clear();\n",
       "              delete Bokeh.index[id];\n",
       "            }\n",
       "          }\n",
       "        }\n",
       "      });\n",
       "      // Destroy server and session\n",
       "      var cmd = \"import bokeh.io.notebook as ion; ion.destroy_server('\" + server_id + \"')\";\n",
       "      cell.notebook.kernel.execute(cmd);\n",
       "    }\n",
       "  }\n",
       "\n",
       "  /**\n",
       "   * Handle when a new output is added\n",
       "   */\n",
       "  function handleAddOutput(event, handle) {\n",
       "    var output_area = handle.output_area;\n",
       "    var output = handle.output;\n",
       "\n",
       "    // limit handleAddOutput to display_data with EXEC_MIME_TYPE content only\n",
       "    if ((output.output_type != \"display_data\") || (!output.data.hasOwnProperty(EXEC_MIME_TYPE))) {\n",
       "      return\n",
       "    }\n",
       "\n",
       "    var toinsert = output_area.element.find(\".\" + CLASS_NAME.split(' ')[0]);\n",
       "\n",
       "    if (output.metadata[EXEC_MIME_TYPE][\"id\"] !== undefined) {\n",
       "      toinsert[toinsert.length - 1].firstChild.textContent = output.data[JS_MIME_TYPE];\n",
       "      // store reference to embed id on output_area\n",
       "      output_area._bokeh_element_id = output.metadata[EXEC_MIME_TYPE][\"id\"];\n",
       "    }\n",
       "    if (output.metadata[EXEC_MIME_TYPE][\"server_id\"] !== undefined) {\n",
       "      var bk_div = document.createElement(\"div\");\n",
       "      bk_div.innerHTML = output.data[HTML_MIME_TYPE];\n",
       "      var script_attrs = bk_div.children[0].attributes;\n",
       "      for (var i = 0; i < script_attrs.length; i++) {\n",
       "        toinsert[toinsert.length - 1].firstChild.setAttribute(script_attrs[i].name, script_attrs[i].value);\n",
       "      }\n",
       "      // store reference to server id on output_area\n",
       "      output_area._bokeh_server_id = output.metadata[EXEC_MIME_TYPE][\"server_id\"];\n",
       "    }\n",
       "  }\n",
       "\n",
       "  function register_renderer(events, OutputArea) {\n",
       "\n",
       "    function append_mime(data, metadata, element) {\n",
       "      // create a DOM node to render to\n",
       "      var toinsert = this.create_output_subarea(\n",
       "        metadata,\n",
       "        CLASS_NAME,\n",
       "        EXEC_MIME_TYPE\n",
       "      );\n",
       "      this.keyboard_manager.register_events(toinsert);\n",
       "      // Render to node\n",
       "      var props = {data: data, metadata: metadata[EXEC_MIME_TYPE]};\n",
       "      render(props, toinsert[toinsert.length - 1]);\n",
       "      element.append(toinsert);\n",
       "      return toinsert\n",
       "    }\n",
       "\n",
       "    /* Handle when an output is cleared or removed */\n",
       "    events.on('clear_output.CodeCell', handleClearOutput);\n",
       "    events.on('delete.Cell', handleClearOutput);\n",
       "\n",
       "    /* Handle when a new output is added */\n",
       "    events.on('output_added.OutputArea', handleAddOutput);\n",
       "\n",
       "    /**\n",
       "     * Register the mime type and append_mime function with output_area\n",
       "     */\n",
       "    OutputArea.prototype.register_mime_type(EXEC_MIME_TYPE, append_mime, {\n",
       "      /* Is output safe? */\n",
       "      safe: true,\n",
       "      /* Index of renderer in `output_area.display_order` */\n",
       "      index: 0\n",
       "    });\n",
       "  }\n",
       "\n",
       "  // register the mime type if in Jupyter Notebook environment and previously unregistered\n",
       "  if (root.Jupyter !== undefined) {\n",
       "    var events = require('base/js/events');\n",
       "    var OutputArea = require('notebook/js/outputarea').OutputArea;\n",
       "\n",
       "    if (OutputArea.prototype.mime_types().indexOf(EXEC_MIME_TYPE) == -1) {\n",
       "      register_renderer(events, OutputArea);\n",
       "    }\n",
       "  }\n",
       "\n",
       "  \n",
       "  if (typeof (root._bokeh_timeout) === \"undefined\" || force === true) {\n",
       "    root._bokeh_timeout = Date.now() + 5000;\n",
       "    root._bokeh_failed_load = false;\n",
       "  }\n",
       "\n",
       "  var NB_LOAD_WARNING = {'data': {'text/html':\n",
       "     \"<div style='background-color: #fdd'>\\n\"+\n",
       "     \"<p>\\n\"+\n",
       "     \"BokehJS does not appear to have successfully loaded. If loading BokehJS from CDN, this \\n\"+\n",
       "     \"may be due to a slow or bad network connection. Possible fixes:\\n\"+\n",
       "     \"</p>\\n\"+\n",
       "     \"<ul>\\n\"+\n",
       "     \"<li>re-rerun `output_notebook()` to attempt to load from CDN again, or</li>\\n\"+\n",
       "     \"<li>use INLINE resources instead, as so:</li>\\n\"+\n",
       "     \"</ul>\\n\"+\n",
       "     \"<code>\\n\"+\n",
       "     \"from bokeh.resources import INLINE\\n\"+\n",
       "     \"output_notebook(resources=INLINE)\\n\"+\n",
       "     \"</code>\\n\"+\n",
       "     \"</div>\"}};\n",
       "\n",
       "  function display_loaded() {\n",
       "    var el = document.getElementById(\"db062095-7feb-4a1f-8f23-56af952e239a\");\n",
       "    if (el != null) {\n",
       "      el.textContent = \"BokehJS is loading...\";\n",
       "    }\n",
       "    if (root.Bokeh !== undefined) {\n",
       "      if (el != null) {\n",
       "        el.textContent = \"BokehJS \" + root.Bokeh.version + \" successfully loaded.\";\n",
       "      }\n",
       "    } else if (Date.now() < root._bokeh_timeout) {\n",
       "      setTimeout(display_loaded, 100)\n",
       "    }\n",
       "  }\n",
       "\n",
       "\n",
       "  function run_callbacks() {\n",
       "    try {\n",
       "      root._bokeh_onload_callbacks.forEach(function(callback) { callback() });\n",
       "    }\n",
       "    finally {\n",
       "      delete root._bokeh_onload_callbacks\n",
       "    }\n",
       "    console.info(\"Bokeh: all callbacks have finished\");\n",
       "  }\n",
       "\n",
       "  function load_libs(js_urls, callback) {\n",
       "    root._bokeh_onload_callbacks.push(callback);\n",
       "    if (root._bokeh_is_loading > 0) {\n",
       "      console.log(\"Bokeh: BokehJS is being loaded, scheduling callback at\", now());\n",
       "      return null;\n",
       "    }\n",
       "    if (js_urls == null || js_urls.length === 0) {\n",
       "      run_callbacks();\n",
       "      return null;\n",
       "    }\n",
       "    console.log(\"Bokeh: BokehJS not loaded, scheduling load and callback at\", now());\n",
       "    root._bokeh_is_loading = js_urls.length;\n",
       "    for (var i = 0; i < js_urls.length; i++) {\n",
       "      var url = js_urls[i];\n",
       "      var s = document.createElement('script');\n",
       "      s.src = url;\n",
       "      s.async = false;\n",
       "      s.onreadystatechange = s.onload = function() {\n",
       "        root._bokeh_is_loading--;\n",
       "        if (root._bokeh_is_loading === 0) {\n",
       "          console.log(\"Bokeh: all BokehJS libraries loaded\");\n",
       "          run_callbacks()\n",
       "        }\n",
       "      };\n",
       "      s.onerror = function() {\n",
       "        console.warn(\"failed to load library \" + url);\n",
       "      };\n",
       "      console.log(\"Bokeh: injecting script tag for BokehJS library: \", url);\n",
       "      document.getElementsByTagName(\"head\")[0].appendChild(s);\n",
       "    }\n",
       "  };var element = document.getElementById(\"db062095-7feb-4a1f-8f23-56af952e239a\");\n",
       "  if (element == null) {\n",
       "    console.log(\"Bokeh: ERROR: autoload.js configured with elementid 'db062095-7feb-4a1f-8f23-56af952e239a' but no matching script tag was found. \")\n",
       "    return false;\n",
       "  }\n",
       "\n",
       "  var js_urls = [\"https://cdn.pydata.org/bokeh/release/bokeh-0.13.0.min.js\", \"https://cdn.pydata.org/bokeh/release/bokeh-widgets-0.13.0.min.js\", \"https://cdn.pydata.org/bokeh/release/bokeh-tables-0.13.0.min.js\", \"https://cdn.pydata.org/bokeh/release/bokeh-gl-0.13.0.min.js\"];\n",
       "\n",
       "  var inline_js = [\n",
       "    function(Bokeh) {\n",
       "      Bokeh.set_log_level(\"info\");\n",
       "    },\n",
       "    \n",
       "    function(Bokeh) {\n",
       "      \n",
       "    },\n",
       "    function(Bokeh) {\n",
       "      console.log(\"Bokeh: injecting CSS: https://cdn.pydata.org/bokeh/release/bokeh-0.13.0.min.css\");\n",
       "      Bokeh.embed.inject_css(\"https://cdn.pydata.org/bokeh/release/bokeh-0.13.0.min.css\");\n",
       "      console.log(\"Bokeh: injecting CSS: https://cdn.pydata.org/bokeh/release/bokeh-widgets-0.13.0.min.css\");\n",
       "      Bokeh.embed.inject_css(\"https://cdn.pydata.org/bokeh/release/bokeh-widgets-0.13.0.min.css\");\n",
       "      console.log(\"Bokeh: injecting CSS: https://cdn.pydata.org/bokeh/release/bokeh-tables-0.13.0.min.css\");\n",
       "      Bokeh.embed.inject_css(\"https://cdn.pydata.org/bokeh/release/bokeh-tables-0.13.0.min.css\");\n",
       "    }\n",
       "  ];\n",
       "\n",
       "  function run_inline_js() {\n",
       "    \n",
       "    if ((root.Bokeh !== undefined) || (force === true)) {\n",
       "      for (var i = 0; i < inline_js.length; i++) {\n",
       "        inline_js[i].call(root, root.Bokeh);\n",
       "      }if (force === true) {\n",
       "        display_loaded();\n",
       "      }} else if (Date.now() < root._bokeh_timeout) {\n",
       "      setTimeout(run_inline_js, 100);\n",
       "    } else if (!root._bokeh_failed_load) {\n",
       "      console.log(\"Bokeh: BokehJS failed to load within specified timeout.\");\n",
       "      root._bokeh_failed_load = true;\n",
       "    } else if (force !== true) {\n",
       "      var cell = $(document.getElementById(\"db062095-7feb-4a1f-8f23-56af952e239a\")).parents('.cell').data().cell;\n",
       "      cell.output_area.append_execute_result(NB_LOAD_WARNING)\n",
       "    }\n",
       "\n",
       "  }\n",
       "\n",
       "  if (root._bokeh_is_loading === 0) {\n",
       "    console.log(\"Bokeh: BokehJS loaded, going straight to plotting\");\n",
       "    run_inline_js();\n",
       "  } else {\n",
       "    load_libs(js_urls, function() {\n",
       "      console.log(\"Bokeh: BokehJS plotting callback run at\", now());\n",
       "      run_inline_js();\n",
       "    });\n",
       "  }\n",
       "}(window));"
      ],
      "application/vnd.bokehjs_load.v0+json": "\n(function(root) {\n  function now() {\n    return new Date();\n  }\n\n  var force = true;\n\n  if (typeof (root._bokeh_onload_callbacks) === \"undefined\" || force === true) {\n    root._bokeh_onload_callbacks = [];\n    root._bokeh_is_loading = undefined;\n  }\n\n  \n\n  \n  if (typeof (root._bokeh_timeout) === \"undefined\" || force === true) {\n    root._bokeh_timeout = Date.now() + 5000;\n    root._bokeh_failed_load = false;\n  }\n\n  var NB_LOAD_WARNING = {'data': {'text/html':\n     \"<div style='background-color: #fdd'>\\n\"+\n     \"<p>\\n\"+\n     \"BokehJS does not appear to have successfully loaded. If loading BokehJS from CDN, this \\n\"+\n     \"may be due to a slow or bad network connection. Possible fixes:\\n\"+\n     \"</p>\\n\"+\n     \"<ul>\\n\"+\n     \"<li>re-rerun `output_notebook()` to attempt to load from CDN again, or</li>\\n\"+\n     \"<li>use INLINE resources instead, as so:</li>\\n\"+\n     \"</ul>\\n\"+\n     \"<code>\\n\"+\n     \"from bokeh.resources import INLINE\\n\"+\n     \"output_notebook(resources=INLINE)\\n\"+\n     \"</code>\\n\"+\n     \"</div>\"}};\n\n  function display_loaded() {\n    var el = document.getElementById(\"db062095-7feb-4a1f-8f23-56af952e239a\");\n    if (el != null) {\n      el.textContent = \"BokehJS is loading...\";\n    }\n    if (root.Bokeh !== undefined) {\n      if (el != null) {\n        el.textContent = \"BokehJS \" + root.Bokeh.version + \" successfully loaded.\";\n      }\n    } else if (Date.now() < root._bokeh_timeout) {\n      setTimeout(display_loaded, 100)\n    }\n  }\n\n\n  function run_callbacks() {\n    try {\n      root._bokeh_onload_callbacks.forEach(function(callback) { callback() });\n    }\n    finally {\n      delete root._bokeh_onload_callbacks\n    }\n    console.info(\"Bokeh: all callbacks have finished\");\n  }\n\n  function load_libs(js_urls, callback) {\n    root._bokeh_onload_callbacks.push(callback);\n    if (root._bokeh_is_loading > 0) {\n      console.log(\"Bokeh: BokehJS is being loaded, scheduling callback at\", now());\n      return null;\n    }\n    if (js_urls == null || js_urls.length === 0) {\n      run_callbacks();\n      return null;\n    }\n    console.log(\"Bokeh: BokehJS not loaded, scheduling load and callback at\", now());\n    root._bokeh_is_loading = js_urls.length;\n    for (var i = 0; i < js_urls.length; i++) {\n      var url = js_urls[i];\n      var s = document.createElement('script');\n      s.src = url;\n      s.async = false;\n      s.onreadystatechange = s.onload = function() {\n        root._bokeh_is_loading--;\n        if (root._bokeh_is_loading === 0) {\n          console.log(\"Bokeh: all BokehJS libraries loaded\");\n          run_callbacks()\n        }\n      };\n      s.onerror = function() {\n        console.warn(\"failed to load library \" + url);\n      };\n      console.log(\"Bokeh: injecting script tag for BokehJS library: \", url);\n      document.getElementsByTagName(\"head\")[0].appendChild(s);\n    }\n  };var element = document.getElementById(\"db062095-7feb-4a1f-8f23-56af952e239a\");\n  if (element == null) {\n    console.log(\"Bokeh: ERROR: autoload.js configured with elementid 'db062095-7feb-4a1f-8f23-56af952e239a' but no matching script tag was found. \")\n    return false;\n  }\n\n  var js_urls = [\"https://cdn.pydata.org/bokeh/release/bokeh-0.13.0.min.js\", \"https://cdn.pydata.org/bokeh/release/bokeh-widgets-0.13.0.min.js\", \"https://cdn.pydata.org/bokeh/release/bokeh-tables-0.13.0.min.js\", \"https://cdn.pydata.org/bokeh/release/bokeh-gl-0.13.0.min.js\"];\n\n  var inline_js = [\n    function(Bokeh) {\n      Bokeh.set_log_level(\"info\");\n    },\n    \n    function(Bokeh) {\n      \n    },\n    function(Bokeh) {\n      console.log(\"Bokeh: injecting CSS: https://cdn.pydata.org/bokeh/release/bokeh-0.13.0.min.css\");\n      Bokeh.embed.inject_css(\"https://cdn.pydata.org/bokeh/release/bokeh-0.13.0.min.css\");\n      console.log(\"Bokeh: injecting CSS: https://cdn.pydata.org/bokeh/release/bokeh-widgets-0.13.0.min.css\");\n      Bokeh.embed.inject_css(\"https://cdn.pydata.org/bokeh/release/bokeh-widgets-0.13.0.min.css\");\n      console.log(\"Bokeh: injecting CSS: https://cdn.pydata.org/bokeh/release/bokeh-tables-0.13.0.min.css\");\n      Bokeh.embed.inject_css(\"https://cdn.pydata.org/bokeh/release/bokeh-tables-0.13.0.min.css\");\n    }\n  ];\n\n  function run_inline_js() {\n    \n    if ((root.Bokeh !== undefined) || (force === true)) {\n      for (var i = 0; i < inline_js.length; i++) {\n        inline_js[i].call(root, root.Bokeh);\n      }if (force === true) {\n        display_loaded();\n      }} else if (Date.now() < root._bokeh_timeout) {\n      setTimeout(run_inline_js, 100);\n    } else if (!root._bokeh_failed_load) {\n      console.log(\"Bokeh: BokehJS failed to load within specified timeout.\");\n      root._bokeh_failed_load = true;\n    } else if (force !== true) {\n      var cell = $(document.getElementById(\"db062095-7feb-4a1f-8f23-56af952e239a\")).parents('.cell').data().cell;\n      cell.output_area.append_execute_result(NB_LOAD_WARNING)\n    }\n\n  }\n\n  if (root._bokeh_is_loading === 0) {\n    console.log(\"Bokeh: BokehJS loaded, going straight to plotting\");\n    run_inline_js();\n  } else {\n    load_libs(js_urls, function() {\n      console.log(\"Bokeh: BokehJS plotting callback run at\", now());\n      run_inline_js();\n    });\n  }\n}(window));"
     },
     "metadata": {},
     "output_type": "display_data"
    }
   ],
   "source": [
    "from bokeh.io import push_notebook, show, output_notebook\n",
    "from bokeh.plotting import figure\n",
    "from bokeh.models import ColumnDataSource, LabelSet\n",
    "output_notebook()"
   ]
  },
  {
   "cell_type": "code",
   "execution_count": 48,
   "metadata": {},
   "outputs": [],
   "source": [
    "vectorizer = CountVectorizer(min_df=5, max_df=0.9, \n",
    "                             stop_words='english', lowercase=True, \n",
    "                             token_pattern='[a-zA-Z\\-][a-zA-Z\\-]{2,}')\n",
    "\n",
    "data_vectorized = vectorizer.fit_transform(tag_data.tags)"
   ]
  },
  {
   "cell_type": "code",
   "execution_count": 49,
   "metadata": {},
   "outputs": [
    {
     "data": {
      "text/html": [
       "\n",
       "\n",
       "\n",
       "\n",
       "\n",
       "\n",
       "  <div class=\"bk-root\" id=\"1a575274-47fe-46f3-be8e-6d8218bbf9ba\"></div>\n"
      ]
     },
     "metadata": {},
     "output_type": "display_data"
    },
    {
     "data": {
      "application/javascript": [
       "(function(root) {\n",
       "  function embed_document(root) {\n",
       "    \n",
       "  var docs_json = {\"6dc82c1d-0c1c-4e81-800e-4b4b1a9314e5\":{\"roots\":{\"references\":[{\"attributes\":{},\"id\":\"0448ea77-5465-4264-b390-c4254bba5555\",\"type\":\"HelpTool\"},{\"attributes\":{\"overlay\":{\"id\":\"b4dfc587-60a0-4138-9519-bb4f0ab93d63\",\"type\":\"BoxAnnotation\"}},\"id\":\"f1a8bf1d-e78b-4617-aefb-260906fc2f50\",\"type\":\"BoxZoomTool\"},{\"attributes\":{},\"id\":\"ca406a62-d448-49a2-b9e6-abd4ebbe6291\",\"type\":\"SaveTool\"},{\"attributes\":{\"callback\":null},\"id\":\"56100278-fc9f-4a4e-a4d3-734e450fdb93\",\"type\":\"DataRange1d\"},{\"attributes\":{},\"id\":\"279dffb8-e7ce-45ac-8128-215279f354d4\",\"type\":\"ResetTool\"},{\"attributes\":{},\"id\":\"68c5dcb3-0fbf-44e6-92c9-302d6515e8ba\",\"type\":\"LinearScale\"},{\"attributes\":{},\"id\":\"000cbeb7-b8ca-41ec-800c-adfcb701c984\",\"type\":\"UnionRenderers\"},{\"attributes\":{},\"id\":\"6080be8b-48d1-4d7b-b9ee-29baf5bf4d87\",\"type\":\"LinearScale\"},{\"attributes\":{\"source\":{\"id\":\"5a09a58d-e9b5-4748-9f4f-740da9e64b9a\",\"type\":\"ColumnDataSource\"}},\"id\":\"39e33b90-1982-4868-bfdb-be61a0f0bc90\",\"type\":\"CDSView\"},{\"attributes\":{\"plot\":{\"id\":\"61393e7b-d30a-4dbd-a3bb-6339ec42c75a\",\"subtype\":\"Figure\",\"type\":\"Plot\"},\"source\":{\"id\":\"5a09a58d-e9b5-4748-9f4f-740da9e64b9a\",\"type\":\"ColumnDataSource\"},\"text\":{\"field\":\"document\"},\"text_align\":\"center\",\"text_color\":{\"value\":\"#555555\"},\"text_font_size\":{\"value\":\"8pt\"},\"x\":{\"field\":\"x\"},\"y\":{\"field\":\"y\"},\"y_offset\":{\"value\":8}},\"id\":\"80bca6f3-98da-47c0-a267-8b4c142ab15f\",\"type\":\"LabelSet\"},{\"attributes\":{\"fill_alpha\":{\"value\":0.8},\"fill_color\":{\"value\":\"#1f77b4\"},\"size\":{\"units\":\"screen\",\"value\":12},\"x\":{\"field\":\"x\"},\"y\":{\"field\":\"y\"}},\"id\":\"f4a2fa3b-5c5b-45cd-87eb-3d067137efe2\",\"type\":\"Circle\"},{\"attributes\":{\"formatter\":{\"id\":\"2ac83ffe-45ee-4287-ab18-2f36790c463f\",\"type\":\"BasicTickFormatter\"},\"plot\":{\"id\":\"61393e7b-d30a-4dbd-a3bb-6339ec42c75a\",\"subtype\":\"Figure\",\"type\":\"Plot\"},\"ticker\":{\"id\":\"7256a771-b62f-4a9c-99c1-95c4f4806f52\",\"type\":\"BasicTicker\"}},\"id\":\"e4074e23-9c85-4f77-9e06-6b6b885cb4e1\",\"type\":\"LinearAxis\"},{\"attributes\":{\"bottom_units\":\"screen\",\"fill_alpha\":{\"value\":0.5},\"fill_color\":{\"value\":\"lightgrey\"},\"left_units\":\"screen\",\"level\":\"overlay\",\"line_alpha\":{\"value\":1.0},\"line_color\":{\"value\":\"black\"},\"line_dash\":[4,4],\"line_width\":{\"value\":2},\"plot\":null,\"render_mode\":\"css\",\"right_units\":\"screen\",\"top_units\":\"screen\"},\"id\":\"b4dfc587-60a0-4138-9519-bb4f0ab93d63\",\"type\":\"BoxAnnotation\"},{\"attributes\":{\"plot\":null,\"text\":\"\"},\"id\":\"24ddd7eb-4a2c-4904-a26d-b5083350b818\",\"type\":\"Title\"},{\"attributes\":{},\"id\":\"7256a771-b62f-4a9c-99c1-95c4f4806f52\",\"type\":\"BasicTicker\"},{\"attributes\":{},\"id\":\"c51bb118-c78f-41b0-8fa0-2b8199cea593\",\"type\":\"BasicTickFormatter\"},{\"attributes\":{\"callback\":null},\"id\":\"8f75823f-16d4-4f0a-9b44-f0dab3019361\",\"type\":\"DataRange1d\"},{\"attributes\":{\"plot\":{\"id\":\"61393e7b-d30a-4dbd-a3bb-6339ec42c75a\",\"subtype\":\"Figure\",\"type\":\"Plot\"},\"ticker\":{\"id\":\"7256a771-b62f-4a9c-99c1-95c4f4806f52\",\"type\":\"BasicTicker\"}},\"id\":\"87174dca-93f5-49b8-a5e3-dc2ef9e97075\",\"type\":\"Grid\"},{\"attributes\":{\"below\":[{\"id\":\"e4074e23-9c85-4f77-9e06-6b6b885cb4e1\",\"type\":\"LinearAxis\"}],\"left\":[{\"id\":\"0879b765-8910-4ecd-8877-71965ff2f904\",\"type\":\"LinearAxis\"}],\"renderers\":[{\"id\":\"e4074e23-9c85-4f77-9e06-6b6b885cb4e1\",\"type\":\"LinearAxis\"},{\"id\":\"87174dca-93f5-49b8-a5e3-dc2ef9e97075\",\"type\":\"Grid\"},{\"id\":\"0879b765-8910-4ecd-8877-71965ff2f904\",\"type\":\"LinearAxis\"},{\"id\":\"06ab7cfa-c791-405f-856f-d21dd6e381b9\",\"type\":\"Grid\"},{\"id\":\"b4dfc587-60a0-4138-9519-bb4f0ab93d63\",\"type\":\"BoxAnnotation\"},{\"id\":\"3ff0b99a-76ab-402a-9a94-2fbbdba59aa8\",\"type\":\"GlyphRenderer\"},{\"id\":\"80bca6f3-98da-47c0-a267-8b4c142ab15f\",\"type\":\"LabelSet\"}],\"title\":{\"id\":\"24ddd7eb-4a2c-4904-a26d-b5083350b818\",\"type\":\"Title\"},\"toolbar\":{\"id\":\"f09c48c3-0052-4506-bff3-eb8be816ae6a\",\"type\":\"Toolbar\"},\"x_range\":{\"id\":\"8f75823f-16d4-4f0a-9b44-f0dab3019361\",\"type\":\"DataRange1d\"},\"x_scale\":{\"id\":\"68c5dcb3-0fbf-44e6-92c9-302d6515e8ba\",\"type\":\"LinearScale\"},\"y_range\":{\"id\":\"56100278-fc9f-4a4e-a4d3-734e450fdb93\",\"type\":\"DataRange1d\"},\"y_scale\":{\"id\":\"6080be8b-48d1-4d7b-b9ee-29baf5bf4d87\",\"type\":\"LinearScale\"}},\"id\":\"61393e7b-d30a-4dbd-a3bb-6339ec42c75a\",\"subtype\":\"Figure\",\"type\":\"Plot\"},{\"attributes\":{},\"id\":\"0dc8aaba-61dc-4114-9974-32aad8b25899\",\"type\":\"Selection\"},{\"attributes\":{\"formatter\":{\"id\":\"c51bb118-c78f-41b0-8fa0-2b8199cea593\",\"type\":\"BasicTickFormatter\"},\"plot\":{\"id\":\"61393e7b-d30a-4dbd-a3bb-6339ec42c75a\",\"subtype\":\"Figure\",\"type\":\"Plot\"},\"ticker\":{\"id\":\"2b0ce71b-c235-45a3-ae14-47cab7dec6b6\",\"type\":\"BasicTicker\"}},\"id\":\"0879b765-8910-4ecd-8877-71965ff2f904\",\"type\":\"LinearAxis\"},{\"attributes\":{\"active_drag\":\"auto\",\"active_inspect\":\"auto\",\"active_multi\":null,\"active_scroll\":\"auto\",\"active_tap\":\"auto\",\"tools\":[{\"id\":\"8fce76b9-3b10-4a6b-9e44-3bb5901cebe3\",\"type\":\"PanTool\"},{\"id\":\"bfd8d517-f71d-4d3d-b019-1b68b8bd3765\",\"type\":\"WheelZoomTool\"},{\"id\":\"f1a8bf1d-e78b-4617-aefb-260906fc2f50\",\"type\":\"BoxZoomTool\"},{\"id\":\"ca406a62-d448-49a2-b9e6-abd4ebbe6291\",\"type\":\"SaveTool\"},{\"id\":\"279dffb8-e7ce-45ac-8128-215279f354d4\",\"type\":\"ResetTool\"},{\"id\":\"0448ea77-5465-4264-b390-c4254bba5555\",\"type\":\"HelpTool\"}]},\"id\":\"f09c48c3-0052-4506-bff3-eb8be816ae6a\",\"type\":\"Toolbar\"},{\"attributes\":{},\"id\":\"2b0ce71b-c235-45a3-ae14-47cab7dec6b6\",\"type\":\"BasicTicker\"},{\"attributes\":{\"dimension\":1,\"plot\":{\"id\":\"61393e7b-d30a-4dbd-a3bb-6339ec42c75a\",\"subtype\":\"Figure\",\"type\":\"Plot\"},\"ticker\":{\"id\":\"2b0ce71b-c235-45a3-ae14-47cab7dec6b6\",\"type\":\"BasicTicker\"}},\"id\":\"06ab7cfa-c791-405f-856f-d21dd6e381b9\",\"type\":\"Grid\"},{\"attributes\":{},\"id\":\"2ac83ffe-45ee-4287-ab18-2f36790c463f\",\"type\":\"BasicTickFormatter\"},{\"attributes\":{\"data_source\":{\"id\":\"5a09a58d-e9b5-4748-9f4f-740da9e64b9a\",\"type\":\"ColumnDataSource\"},\"glyph\":{\"id\":\"f4a2fa3b-5c5b-45cd-87eb-3d067137efe2\",\"type\":\"Circle\"},\"hover_glyph\":null,\"muted_glyph\":null,\"nonselection_glyph\":{\"id\":\"40a36636-1dfe-4822-898d-e4a176770c28\",\"type\":\"Circle\"},\"selection_glyph\":null,\"view\":{\"id\":\"39e33b90-1982-4868-bfdb-be61a0f0bc90\",\"type\":\"CDSView\"}},\"id\":\"3ff0b99a-76ab-402a-9a94-2fbbdba59aa8\",\"type\":\"GlyphRenderer\"},{\"attributes\":{\"fill_alpha\":{\"value\":0.1},\"fill_color\":{\"value\":\"#1f77b4\"},\"line_alpha\":{\"value\":0.1},\"line_color\":{\"value\":\"#1f77b4\"},\"size\":{\"units\":\"screen\",\"value\":12},\"x\":{\"field\":\"x\"},\"y\":{\"field\":\"y\"}},\"id\":\"40a36636-1dfe-4822-898d-e4a176770c28\",\"type\":\"Circle\"},{\"attributes\":{},\"id\":\"8fce76b9-3b10-4a6b-9e44-3bb5901cebe3\",\"type\":\"PanTool\"},{\"attributes\":{},\"id\":\"bfd8d517-f71d-4d3d-b019-1b68b8bd3765\",\"type\":\"WheelZoomTool\"},{\"attributes\":{\"callback\":null,\"data\":{\"document\":[0,1,2,3,4,5,6,7,8,9,10,11,12,13,14,15,16,17,18,19,20,21,22,23,24,25,26,27,28,29,30,31,32,33,34,35,36,37,38,39,40,41,42,43,44,45,46,47,48,49,50,51,52,53,54,55,56,57,58,59,60,61,62,63,64,65,66,67,68,69,70,71,72,73,74,75,76,77,78,79,80,81,82,83,84,85,86,87,88,89,90,91,92,93,94,95,96,97,98,99,100,101,102,103,104,105,106,107,108,109,110,111,112,113,114,115,116,117,118,119,120,121,122,123,124,125,126,127,128,129,130,131,132,133,134,135,136,137,138,139,140,141,142,143,144,145,146,147,148,149,150,151,152,153,154,155,156,157,158,159,160,161,162,163,164,165,166,167,168,169,170,171,172,173,174,175,176,177,178,179,180,181,182,183,184,185,186,187,188,189,190,191,192,193,194,195,196,197,198,199,200,201,202,203,204,205,206,207,208,209,210,211,212,213,214,215,216,217,218,219,220,221,222,223,224,225,226,227,228,229,230,231,232,233,234,235,236,237,238,239,240,241,242,243,244,245,246,247,248,249,250,251,252,253,254,255,256,257,258,259,260,261,262,263,264,265,266,267,268,269,270,271,272,273,274,275,276,277,278,279,280,281,282,283,284,285,286,287,288,289,290,291,292,293,294,295,296,297,298,299,300,301,302,303,304,305,306,307,308,309,310,311,312,313,314,315,316,317,318,319,320,321,322,323,324,325,326,327,328,329,330,331,332,333,334,335,336,337,338,339,340,341,342,343,344,345,346,347,348,349,350,351,352,353,354,355,356,357,358,359,360,361,362,363,364,365,366,367,368,369,370,371,372,373,374,375,376,377,378,379,380,381,382,383,384,385,386,387,388,389,390,391,392,393,394,395,396,397,398,399,400,401,402,403,404,405,406,407,408,409,410,411,412,413,414,415,416,417,418,419,420,421,422,423,424,425,426,427,428,429,430,431,432,433,434,435,436,437,438,439,440,441,442,443,444,445,446,447,448,449,450,451,452,453,454,455,456,457,458,459,460,461,462,463,464,465,466,467,468,469,470,471,472,473,474,475,476,477,478,479,480,481,482,483,484,485,486,487,488,489,490,491,492,493,494,495,496,497,498,499,500,501,502,503,504],\"index\":[0,1,2,3,4,5,6,7,8,9,10,11,12,13,14,15,16,17,18,19,20,21,22,23,24,25,26,27,28,29,30,31,32,33,34,35,36,37,38,39,40,41,42,43,44,45,46,47,48,49,50,51,52,53,54,55,56,57,58,59,60,61,62,63,64,65,66,67,68,69,70,71,72,73,74,75,76,77,78,79,80,81,82,83,84,85,86,87,88,89,90,91,92,93,94,95,96,97,98,99,100,101,102,103,104,105,106,107,108,109,110,111,112,113,114,115,116,117,118,119,120,121,122,123,124,125,126,127,128,129,130,131,132,133,134,135,136,137,138,139,140,141,142,143,144,145,146,147,148,149,150,151,152,153,154,155,156,157,158,159,160,161,162,163,164,165,166,167,168,169,170,171,172,173,174,175,176,177,178,179,180,181,182,183,184,185,186,187,188,189,190,191,192,193,194,195,196,197,198,199,200,201,202,203,204,205,206,207,208,209,210,211,212,213,214,215,216,217,218,219,220,221,222,223,224,225,226,227,228,229,230,231,232,233,234,235,236,237,238,239,240,241,242,243,244,245,246,247,248,249,250,251,252,253,254,255,256,257,258,259,260,261,262,263,264,265,266,267,268,269,270,271,272,273,274,275,276,277,278,279,280,281,282,283,284,285,286,287,288,289,290,291,292,293,294,295,296,297,298,299,300,301,302,303,304,305,306,307,308,309,310,311,312,313,314,315,316,317,318,319,320,321,322,323,324,325,326,327,328,329,330,331,332,333,334,335,336,337,338,339,340,341,342,343,344,345,346,347,348,349,350,351,352,353,354,355,356,357,358,359,360,361,362,363,364,365,366,367,368,369,370,371,372,373,374,375,376,377,378,379,380,381,382,383,384,385,386,387,388,389,390,391,392,393,394,395,396,397,398,399,400,401,402,403,404,405,406,407,408,409,410,411,412,413,414,415,416,417,418,419,420,421,422,423,424,425,426,427,428,429,430,431,432,433,434,435,436,437,438,439,440,441,442,443,444,445,446,447,448,449,450,451,452,453,454,455,456,457,458,459,460,461,462,463,464,465,466,467,468,469,470,471,472,473,474,475,476,477,478,479,480,481,482,483,484,485,486,487,488,489,490,491,492,493,494,495,496,497,498,499,500,501,502,503,504],\"x\":{\"__ndarray__\":\"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\",\"dtype\":\"float64\",\"shape\":[505]},\"y\":{\"__ndarray__\":\"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\",\"dtype\":\"float64\",\"shape\":[505]}},\"selected\":{\"id\":\"0dc8aaba-61dc-4114-9974-32aad8b25899\",\"type\":\"Selection\"},\"selection_policy\":{\"id\":\"000cbeb7-b8ca-41ec-800c-adfcb701c984\",\"type\":\"UnionRenderers\"}},\"id\":\"5a09a58d-e9b5-4748-9f4f-740da9e64b9a\",\"type\":\"ColumnDataSource\"}],\"root_ids\":[\"61393e7b-d30a-4dbd-a3bb-6339ec42c75a\"]},\"title\":\"Bokeh Application\",\"version\":\"0.13.0\"}};\n",
       "  var render_items = [{\"docid\":\"6dc82c1d-0c1c-4e81-800e-4b4b1a9314e5\",\"notebook_comms_target\":\"82937823-c232-4cba-9483-eb6e266e3a93\",\"roots\":{\"61393e7b-d30a-4dbd-a3bb-6339ec42c75a\":\"1a575274-47fe-46f3-be8e-6d8218bbf9ba\"}}];\n",
       "  root.Bokeh.embed.embed_items_notebook(docs_json, render_items);\n",
       "\n",
       "  }\n",
       "  if (root.Bokeh !== undefined) {\n",
       "    embed_document(root);\n",
       "  } else {\n",
       "    var attempts = 0;\n",
       "    var timer = setInterval(function(root) {\n",
       "      if (root.Bokeh !== undefined) {\n",
       "        embed_document(root);\n",
       "        clearInterval(timer);\n",
       "      }\n",
       "      attempts++;\n",
       "      if (attempts > 100) {\n",
       "        console.log(\"Bokeh: ERROR: Unable to run BokehJS code because BokehJS library is missing\")\n",
       "        clearInterval(timer);\n",
       "      }\n",
       "    }, 10, root)\n",
       "  }\n",
       "})(window);"
      ],
      "application/vnd.bokehjs_exec.v0+json": ""
     },
     "metadata": {
      "application/vnd.bokehjs_exec.v0+json": {
       "id": "61393e7b-d30a-4dbd-a3bb-6339ec42c75a"
      }
     },
     "output_type": "display_data"
    },
    {
     "data": {
      "text/html": [
       "<p><code>&lt;Bokeh Notebook handle for <strong>In[49]</strong>&gt;</code></p>"
      ],
      "text/plain": [
       "<bokeh.io.notebook.CommsHandle at 0x1a215160b8>"
      ]
     },
     "execution_count": 49,
     "metadata": {},
     "output_type": "execute_result"
    }
   ],
   "source": [
    "svd = TruncatedSVD(n_components=2)\n",
    "documents_2d = svd.fit_transform(data_vectorized)\n",
    " \n",
    "df = pd.DataFrame(columns=['x', 'y', 'document'])\n",
    "df['x'], df['y'], df['document'] = documents_2d[:,0], documents_2d[:,1], range(len(data))\n",
    " \n",
    "source = ColumnDataSource(ColumnDataSource.from_df(df))\n",
    "labels = LabelSet(x=\"x\", y=\"y\", text=\"document\", y_offset=8,\n",
    "                  text_font_size=\"8pt\", text_color=\"#555555\",\n",
    "                  source=source, text_align='center')\n",
    " \n",
    "plot = figure(plot_width=600, plot_height=600)\n",
    "plot.circle(\"x\", \"y\", size=12, source=source, line_color=\"black\", fill_alpha=0.8)\n",
    "plot.add_layout(labels)\n",
    "show(plot, notebook_handle=True)"
   ]
  },
  {
   "cell_type": "code",
   "execution_count": 50,
   "metadata": {},
   "outputs": [
    {
     "data": {
      "text/html": [
       "\n",
       "\n",
       "\n",
       "\n",
       "\n",
       "\n",
       "  <div class=\"bk-root\" id=\"837b16d3-f195-4916-aae7-4929ec75c879\"></div>\n"
      ]
     },
     "metadata": {},
     "output_type": "display_data"
    },
    {
     "data": {
      "application/javascript": [
       "(function(root) {\n",
       "  function embed_document(root) {\n",
       "    \n",
       "  var docs_json = {\"7e919c6d-8ba9-45f5-8148-13f7748366f4\":{\"roots\":{\"references\":[{\"attributes\":{},\"id\":\"eaeac678-532a-44d0-a55d-18d6f9b01eeb\",\"type\":\"LinearScale\"},{\"attributes\":{},\"id\":\"5fdbe054-176a-45b4-b21b-ed47f4543f93\",\"type\":\"BasicTickFormatter\"},{\"attributes\":{\"formatter\":{\"id\":\"df1d967e-1967-4402-a4f3-63f3fcdc43c3\",\"type\":\"BasicTickFormatter\"},\"plot\":{\"id\":\"eed412e4-785c-4693-ba7b-b1cf45dc64cf\",\"subtype\":\"Figure\",\"type\":\"Plot\"},\"ticker\":{\"id\":\"47422492-9e38-4d30-9461-84f04c0cb2fc\",\"type\":\"BasicTicker\"}},\"id\":\"6f4aa8ad-04e1-450e-93cc-4c25bbef0e25\",\"type\":\"LinearAxis\"},{\"attributes\":{},\"id\":\"47422492-9e38-4d30-9461-84f04c0cb2fc\",\"type\":\"BasicTicker\"},{\"attributes\":{\"formatter\":{\"id\":\"5fdbe054-176a-45b4-b21b-ed47f4543f93\",\"type\":\"BasicTickFormatter\"},\"plot\":{\"id\":\"eed412e4-785c-4693-ba7b-b1cf45dc64cf\",\"subtype\":\"Figure\",\"type\":\"Plot\"},\"ticker\":{\"id\":\"48bc1ec0-f974-4069-8617-60d2ccc611fc\",\"type\":\"BasicTicker\"}},\"id\":\"2f8eaab0-c47f-40da-ab47-15c10223d2ce\",\"type\":\"LinearAxis\"},{\"attributes\":{\"dimension\":1,\"plot\":{\"id\":\"eed412e4-785c-4693-ba7b-b1cf45dc64cf\",\"subtype\":\"Figure\",\"type\":\"Plot\"},\"ticker\":{\"id\":\"47422492-9e38-4d30-9461-84f04c0cb2fc\",\"type\":\"BasicTicker\"}},\"id\":\"d5fbcdfc-b206-49b8-9647-1fdebaca1088\",\"type\":\"Grid\"},{\"attributes\":{\"plot\":{\"id\":\"eed412e4-785c-4693-ba7b-b1cf45dc64cf\",\"subtype\":\"Figure\",\"type\":\"Plot\"},\"ticker\":{\"id\":\"48bc1ec0-f974-4069-8617-60d2ccc611fc\",\"type\":\"BasicTicker\"}},\"id\":\"5532ebf9-286a-4879-9440-4e466060ac4f\",\"type\":\"Grid\"},{\"attributes\":{\"source\":{\"id\":\"401a55db-fad4-41e7-8265-96a131786318\",\"type\":\"ColumnDataSource\"}},\"id\":\"f462cb22-f855-4770-bd12-06c26764d2f4\",\"type\":\"CDSView\"},{\"attributes\":{\"callback\":null,\"data\":{\"index\":[0,1,2,3,4,5,6,7,8,9,10,11,12,13,14,15,16,17,18,19,20,21,22,23,24,25,26,27,28,29,30,31,32,33,34,35,36,37,38,39,40,41,42,43,44,45,46,47,48,49,50,51,52,53,54,55,56,57,58,59,60,61,62,63,64,65,66,67,68,69,70,71,72,73,74,75,76,77,78,79,80,81,82,83,84,85,86,87,88,89,90,91,92,93,94,95,96,97,98,99,100,101,102,103,104,105,106,107,108,109,110,111,112,113,114,115,116,117,118,119,120,121,122,123,124,125,126,127,128,129,130,131,132,133,134,135,136,137,138,139,140,141,142,143,144,145,146,147,148,149,150,151,152,153,154,155,156,157,158,159,160,161,162,163,164,165,166,167,168,169,170,171,172,173,174,175,176,177,178,179,180,181,182,183,184,185,186,187,188,189,190,191,192,193,194,195,196,197,198,199,200,201,202,203,204,205,206,207,208,209,210,211,212,213,214,215,216,217,218,219,220,221,222,223,224,225,226,227,228,229,230,231,232,233,234,235,236,237,238,239,240,241,242,243,244,245,246,247,248,249,250,251,252,253,254,255,256,257,258,259,260,261,262,263,264,265,266,267,268,269,270,271,272,273,274,275,276,277,278,279,280,281,282,283,284,285,286,287,288,289,290,291,292,293,294,295,296,297,298,299,300,301,302,303,304,305,306,307,308,309,310,311,312,313,314,315,316,317,318,319,320,321,322,323,324,325,326,327,328,329,330,331,332,333,334],\"word\":[\"aana\",\"absolutely\",\"acoustic\",\"addictive\",\"age\",\"album\",\"alsolike\",\"alternative\",\"amazing\",\"ambient\",\"american\",\"anime\",\"art\",\"artist\",\"artists\",\"asian\",\"atmospheric\",\"australian\",\"avant-garde\",\"awesome\",\"awesome-ness\",\"b-side\",\"babe\",\"ballad\",\"bands\",\"barkbarkdisco\",\"beautiful\",\"beowulfs\",\"best\",\"better\",\"beyonce\",\"blend\",\"blues\",\"brasil\",\"brazil\",\"brazilian\",\"brilliant\",\"british\",\"britney\",\"britpop\",\"brutal\",\"california\",\"canadian\",\"catchy\",\"chill\",\"chillout\",\"choice\",\"christian\",\"christmas\",\"classic\",\"classical\",\"club\",\"college\",\"composer\",\"cool\",\"country\",\"cover\",\"covers\",\"crazy\",\"cute\",\"daha\",\"dance\",\"dance-pop\",\"dark\",\"darkwave\",\"death\",\"deathcore\",\"depeche\",\"descoperiri\",\"diaries\",\"dich\",\"dinlicem\",\"disco\",\"disney\",\"diva\",\"doom\",\"dope\",\"downtempo\",\"dream\",\"dreampop\",\"dreamy\",\"dub\",\"duet\",\"duets\",\"easy\",\"eighties\",\"electro\",\"electroclash\",\"electronic\",\"electronica\",\"electropop\",\"emo\",\"emocore\",\"emotional\",\"energetic\",\"england\",\"english\",\"epic\",\"ethereal\",\"eurodance\",\"experimental\",\"fantastic\",\"fav\",\"fave\",\"faves\",\"favorite\",\"favorites\",\"favourite\",\"favourites\",\"feelings\",\"female\",\"finnish\",\"folk\",\"french\",\"friends\",\"fronted\",\"fucking\",\"fun\",\"funk\",\"funny\",\"furtado\",\"future\",\"futurepop\",\"gangsta\",\"garage\",\"gay\",\"genius\",\"german\",\"gil\",\"girl\",\"glam\",\"good\",\"gospel\",\"gossip\",\"goth\",\"gothic\",\"great\",\"grunge\",\"guilty\",\"guitar\",\"hair\",\"halloween\",\"handclaps\",\"happy\",\"hard\",\"hardcore\",\"harmonies\",\"heavy\",\"hip\",\"hip-hop\",\"hit\",\"hop\",\"hot\",\"house\",\"hypnotic\",\"icelandic\",\"ich\",\"idm\",\"idol\",\"idolo\",\"indie\",\"indietronica\",\"industrial\",\"inlove\",\"instrumental\",\"irish\",\"italian\",\"ive\",\"j-pop\",\"japanese\",\"jazz\",\"jet\",\"jpop\",\"jukebox\",\"justin\",\"latin\",\"legend\",\"legends\",\"liebe\",\"listen\",\"listened\",\"listening\",\"live\",\"lo-fi\",\"lol\",\"lounge\",\"love\",\"loved\",\"lovely\",\"lpa\",\"luv\",\"lyrics\",\"madonna\",\"male\",\"marisa\",\"masterpiece\",\"melancholic\",\"melancholy\",\"mellow\",\"melodic\",\"melrose\",\"memories\",\"metal\",\"metalcore\",\"metallica\",\"minimal\",\"miserable\",\"mix\",\"mmey\",\"mode\",\"modern\",\"mpb\",\"music\",\"nelly\",\"neon\",\"new\",\"nice\",\"noise\",\"nostalgic\",\"nu-metal\",\"obsessed\",\"ohmydamn\",\"old\",\"oldies\",\"oui\",\"party\",\"perfect\",\"phat\",\"piano\",\"place\",\"pleasure\",\"pleasures\",\"pop\",\"pop-rock\",\"popular\",\"post\",\"post-grunge\",\"post-hardcore\",\"post-punk\",\"post-rock\",\"power\",\"powerful\",\"powerpop\",\"prejebeno\",\"progressive\",\"project\",\"proto-punk\",\"psychedelic\",\"punk\",\"radio\",\"rain\",\"rap\",\"rave\",\"reggae\",\"relax\",\"relaxing\",\"remember\",\"remix\",\"rhythm\",\"rnb\",\"rock\",\"roll\",\"romantic\",\"row\",\"sad\",\"school\",\"scottish\",\"screamo\",\"seen\",\"sensual\",\"set\",\"sex\",\"sexy\",\"shit\",\"shoegaze\",\"sick\",\"singalong\",\"singer-songwriter\",\"single\",\"singles\",\"siss\",\"ska\",\"slowies\",\"smooth\",\"soft\",\"solo\",\"song\",\"songs\",\"soul\",\"soundtrack\",\"space\",\"spanish\",\"spears\",\"special\",\"specials\",\"speed\",\"stic\",\"stoner\",\"straight\",\"stuff\",\"summer\",\"swedish\",\"sweet\",\"symphonic\",\"synth\",\"synthpop\",\"tbu\",\"techno\",\"teen\",\"thrash\",\"timberlake\",\"times\",\"tinosoft\",\"tracks\",\"trance\",\"trip-hop\",\"twilight\",\"ultimate\",\"underrated\",\"urban\",\"usa\",\"vampire\",\"virtuoso\",\"vocal\",\"vocalist\",\"vocalists\",\"vocals\",\"voices\",\"want\",\"wave\",\"weekly\",\"world\",\"york\",\"zinq\",\"zone\"],\"x\":{\"__ndarray__\":\"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\",\"dtype\":\"float64\",\"shape\":[335]},\"y\":{\"__ndarray__\":\"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\",\"dtype\":\"float64\",\"shape\":[335]}},\"selected\":{\"id\":\"e167b29e-9e17-44ff-8046-34cffd8f6aff\",\"type\":\"Selection\"},\"selection_policy\":{\"id\":\"a05b6bce-d205-4940-bda4-8b92c8b4d548\",\"type\":\"UnionRenderers\"}},\"id\":\"401a55db-fad4-41e7-8265-96a131786318\",\"type\":\"ColumnDataSource\"},{\"attributes\":{\"fill_alpha\":{\"value\":0.1},\"fill_color\":{\"value\":\"#1f77b4\"},\"line_alpha\":{\"value\":0.1},\"line_color\":{\"value\":\"#1f77b4\"},\"size\":{\"units\":\"screen\",\"value\":12},\"x\":{\"field\":\"x\"},\"y\":{\"field\":\"y\"}},\"id\":\"15334faf-6443-4b46-80d1-82da93cf079d\",\"type\":\"Circle\"},{\"attributes\":{\"below\":[{\"id\":\"2f8eaab0-c47f-40da-ab47-15c10223d2ce\",\"type\":\"LinearAxis\"}],\"left\":[{\"id\":\"6f4aa8ad-04e1-450e-93cc-4c25bbef0e25\",\"type\":\"LinearAxis\"}],\"renderers\":[{\"id\":\"2f8eaab0-c47f-40da-ab47-15c10223d2ce\",\"type\":\"LinearAxis\"},{\"id\":\"5532ebf9-286a-4879-9440-4e466060ac4f\",\"type\":\"Grid\"},{\"id\":\"6f4aa8ad-04e1-450e-93cc-4c25bbef0e25\",\"type\":\"LinearAxis\"},{\"id\":\"d5fbcdfc-b206-49b8-9647-1fdebaca1088\",\"type\":\"Grid\"},{\"id\":\"bcbf1c94-f8c7-4661-83cc-ddcebdf7b83f\",\"type\":\"BoxAnnotation\"},{\"id\":\"92cbb30b-7283-4ea4-a95c-3a7ba990e79c\",\"type\":\"GlyphRenderer\"},{\"id\":\"448b2068-c86b-4068-baaa-6592864d3060\",\"type\":\"LabelSet\"}],\"title\":{\"id\":\"a622643b-4baa-440b-89c4-eceed76ff98a\",\"type\":\"Title\"},\"toolbar\":{\"id\":\"2bfff4d6-3c9f-4d84-a0f6-92515ce96cbf\",\"type\":\"Toolbar\"},\"x_range\":{\"id\":\"100e40b0-1263-4e11-9897-2c370c67a45e\",\"type\":\"DataRange1d\"},\"x_scale\":{\"id\":\"00a76fb4-cc2e-4179-a512-5cba16e58389\",\"type\":\"LinearScale\"},\"y_range\":{\"id\":\"4ad647c4-f4b2-4b3b-8195-5dd920364998\",\"type\":\"DataRange1d\"},\"y_scale\":{\"id\":\"eaeac678-532a-44d0-a55d-18d6f9b01eeb\",\"type\":\"LinearScale\"}},\"id\":\"eed412e4-785c-4693-ba7b-b1cf45dc64cf\",\"subtype\":\"Figure\",\"type\":\"Plot\"},{\"attributes\":{\"plot\":{\"id\":\"eed412e4-785c-4693-ba7b-b1cf45dc64cf\",\"subtype\":\"Figure\",\"type\":\"Plot\"},\"source\":{\"id\":\"401a55db-fad4-41e7-8265-96a131786318\",\"type\":\"ColumnDataSource\"},\"text\":{\"field\":\"word\"},\"text_align\":\"center\",\"text_color\":{\"value\":\"#555555\"},\"text_font_size\":{\"value\":\"8pt\"},\"x\":{\"field\":\"x\"},\"y\":{\"field\":\"y\"},\"y_offset\":{\"value\":8}},\"id\":\"448b2068-c86b-4068-baaa-6592864d3060\",\"type\":\"LabelSet\"},{\"attributes\":{\"bottom_units\":\"screen\",\"fill_alpha\":{\"value\":0.5},\"fill_color\":{\"value\":\"lightgrey\"},\"left_units\":\"screen\",\"level\":\"overlay\",\"line_alpha\":{\"value\":1.0},\"line_color\":{\"value\":\"black\"},\"line_dash\":[4,4],\"line_width\":{\"value\":2},\"plot\":null,\"render_mode\":\"css\",\"right_units\":\"screen\",\"top_units\":\"screen\"},\"id\":\"bcbf1c94-f8c7-4661-83cc-ddcebdf7b83f\",\"type\":\"BoxAnnotation\"},{\"attributes\":{},\"id\":\"971241b1-6541-487e-9a82-8a6594b7bba6\",\"type\":\"PanTool\"},{\"attributes\":{\"fill_alpha\":{\"value\":0.8},\"fill_color\":{\"value\":\"#1f77b4\"},\"size\":{\"units\":\"screen\",\"value\":12},\"x\":{\"field\":\"x\"},\"y\":{\"field\":\"y\"}},\"id\":\"97d83b32-9053-4dc9-95dd-d9b1de4b4203\",\"type\":\"Circle\"},{\"attributes\":{\"active_drag\":\"auto\",\"active_inspect\":\"auto\",\"active_multi\":null,\"active_scroll\":\"auto\",\"active_tap\":\"auto\",\"tools\":[{\"id\":\"971241b1-6541-487e-9a82-8a6594b7bba6\",\"type\":\"PanTool\"},{\"id\":\"0d69d1d3-c505-4e6f-9eb5-4706fba3fab1\",\"type\":\"WheelZoomTool\"},{\"id\":\"520be485-0ea0-4d97-b067-f9f3150e3a23\",\"type\":\"BoxZoomTool\"},{\"id\":\"55aa4dc1-32b7-4993-a993-925dcf614391\",\"type\":\"SaveTool\"},{\"id\":\"1602e857-834c-46b6-948b-f93fb44588a9\",\"type\":\"ResetTool\"},{\"id\":\"ef30f45e-1e4c-4fd8-818f-69ee6f0427f7\",\"type\":\"HelpTool\"}]},\"id\":\"2bfff4d6-3c9f-4d84-a0f6-92515ce96cbf\",\"type\":\"Toolbar\"},{\"attributes\":{},\"id\":\"0d69d1d3-c505-4e6f-9eb5-4706fba3fab1\",\"type\":\"WheelZoomTool\"},{\"attributes\":{\"callback\":null},\"id\":\"4ad647c4-f4b2-4b3b-8195-5dd920364998\",\"type\":\"DataRange1d\"},{\"attributes\":{},\"id\":\"df1d967e-1967-4402-a4f3-63f3fcdc43c3\",\"type\":\"BasicTickFormatter\"},{\"attributes\":{},\"id\":\"ef30f45e-1e4c-4fd8-818f-69ee6f0427f7\",\"type\":\"HelpTool\"},{\"attributes\":{},\"id\":\"1602e857-834c-46b6-948b-f93fb44588a9\",\"type\":\"ResetTool\"},{\"attributes\":{\"overlay\":{\"id\":\"bcbf1c94-f8c7-4661-83cc-ddcebdf7b83f\",\"type\":\"BoxAnnotation\"}},\"id\":\"520be485-0ea0-4d97-b067-f9f3150e3a23\",\"type\":\"BoxZoomTool\"},{\"attributes\":{\"callback\":null},\"id\":\"100e40b0-1263-4e11-9897-2c370c67a45e\",\"type\":\"DataRange1d\"},{\"attributes\":{},\"id\":\"55aa4dc1-32b7-4993-a993-925dcf614391\",\"type\":\"SaveTool\"},{\"attributes\":{},\"id\":\"a05b6bce-d205-4940-bda4-8b92c8b4d548\",\"type\":\"UnionRenderers\"},{\"attributes\":{\"plot\":null,\"text\":\"\"},\"id\":\"a622643b-4baa-440b-89c4-eceed76ff98a\",\"type\":\"Title\"},{\"attributes\":{},\"id\":\"00a76fb4-cc2e-4179-a512-5cba16e58389\",\"type\":\"LinearScale\"},{\"attributes\":{\"data_source\":{\"id\":\"401a55db-fad4-41e7-8265-96a131786318\",\"type\":\"ColumnDataSource\"},\"glyph\":{\"id\":\"97d83b32-9053-4dc9-95dd-d9b1de4b4203\",\"type\":\"Circle\"},\"hover_glyph\":null,\"muted_glyph\":null,\"nonselection_glyph\":{\"id\":\"15334faf-6443-4b46-80d1-82da93cf079d\",\"type\":\"Circle\"},\"selection_glyph\":null,\"view\":{\"id\":\"f462cb22-f855-4770-bd12-06c26764d2f4\",\"type\":\"CDSView\"}},\"id\":\"92cbb30b-7283-4ea4-a95c-3a7ba990e79c\",\"type\":\"GlyphRenderer\"},{\"attributes\":{},\"id\":\"48bc1ec0-f974-4069-8617-60d2ccc611fc\",\"type\":\"BasicTicker\"},{\"attributes\":{},\"id\":\"e167b29e-9e17-44ff-8046-34cffd8f6aff\",\"type\":\"Selection\"}],\"root_ids\":[\"eed412e4-785c-4693-ba7b-b1cf45dc64cf\"]},\"title\":\"Bokeh Application\",\"version\":\"0.13.0\"}};\n",
       "  var render_items = [{\"docid\":\"7e919c6d-8ba9-45f5-8148-13f7748366f4\",\"notebook_comms_target\":\"83e09870-aaf8-4207-9c06-bfa722915203\",\"roots\":{\"eed412e4-785c-4693-ba7b-b1cf45dc64cf\":\"837b16d3-f195-4916-aae7-4929ec75c879\"}}];\n",
       "  root.Bokeh.embed.embed_items_notebook(docs_json, render_items);\n",
       "\n",
       "  }\n",
       "  if (root.Bokeh !== undefined) {\n",
       "    embed_document(root);\n",
       "  } else {\n",
       "    var attempts = 0;\n",
       "    var timer = setInterval(function(root) {\n",
       "      if (root.Bokeh !== undefined) {\n",
       "        embed_document(root);\n",
       "        clearInterval(timer);\n",
       "      }\n",
       "      attempts++;\n",
       "      if (attempts > 100) {\n",
       "        console.log(\"Bokeh: ERROR: Unable to run BokehJS code because BokehJS library is missing\")\n",
       "        clearInterval(timer);\n",
       "      }\n",
       "    }, 10, root)\n",
       "  }\n",
       "})(window);"
      ],
      "application/vnd.bokehjs_exec.v0+json": ""
     },
     "metadata": {
      "application/vnd.bokehjs_exec.v0+json": {
       "id": "eed412e4-785c-4693-ba7b-b1cf45dc64cf"
      }
     },
     "output_type": "display_data"
    },
    {
     "data": {
      "text/html": [
       "<p><code>&lt;Bokeh Notebook handle for <strong>In[50]</strong>&gt;</code></p>"
      ],
      "text/plain": [
       "<bokeh.io.notebook.CommsHandle at 0x1a215182e8>"
      ]
     },
     "execution_count": 50,
     "metadata": {},
     "output_type": "execute_result"
    }
   ],
   "source": [
    "svd = TruncatedSVD(n_components=2)\n",
    "words_2d = svd.fit_transform(data_vectorized.T)\n",
    " \n",
    "df = pd.DataFrame(columns=['x', 'y', 'word'])\n",
    "df['x'], df['y'], df['word'] = words_2d[:,0], words_2d[:,1], vectorizer.get_feature_names()\n",
    " \n",
    "source = ColumnDataSource(ColumnDataSource.from_df(df))\n",
    "labels = LabelSet(x=\"x\", y=\"y\", text=\"word\", y_offset=8,\n",
    "                  text_font_size=\"8pt\", text_color=\"#555555\",\n",
    "                  source=source, text_align='center')\n",
    " \n",
    "plot = figure(plot_width=600, plot_height=600)\n",
    "plot.circle(\"x\", \"y\", size=12, source=source, line_color=\"black\", fill_alpha=0.8)\n",
    "plot.add_layout(labels)\n",
    "show(plot, notebook_handle=True)"
   ]
  },
  {
   "cell_type": "code",
   "execution_count": null,
   "metadata": {
    "collapsed": true
   },
   "outputs": [],
   "source": []
  }
 ],
 "metadata": {
  "kernelspec": {
   "display_name": "Python 3",
   "language": "python",
   "name": "python3"
  },
  "language_info": {
   "codemirror_mode": {
    "name": "ipython",
    "version": 3
   },
   "file_extension": ".py",
   "mimetype": "text/x-python",
   "name": "python",
   "nbconvert_exporter": "python",
   "pygments_lexer": "ipython3",
   "version": "3.6.6"
  }
 },
 "nbformat": 4,
 "nbformat_minor": 2
}
