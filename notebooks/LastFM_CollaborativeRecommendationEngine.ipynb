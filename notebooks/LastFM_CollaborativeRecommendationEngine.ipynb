{
 "cells": [
  {
   "cell_type": "markdown",
   "metadata": {},
   "source": [
    "# LastFM Recommendation Engine\n",
    "August 2018\n",
    "\n",
    "Today we are going to walk through building a basic recommender system which, when given a music artist, will recommend similar artists. The dataset, obtained from LastFM in 2011, contains the play counts of 17,632 artists by 1,892 users, is available at [GroupLens](https://grouplens.org/datasets/hetrec-2011/) on behalf of [Lab41](https://github.com/Lab41/hermes/wiki/Datasets).\n",
    "\n",
    "There are two main types of recommender system: **content-based**, and **collaborative**. Content-based recommends based on past browsing history of similar items to provide recommendations, whereas collaborative takes data from similar users to provide recommendations.  \n",
    "\n",
    "Our basic recommender will be a collaborative recommender system, where we essentially build a sparse matrix comparing artist plays (rows) by user (columns). This data will then be passed through a latent mapping algorithm, K-nearest neighbors, to determine cosine similarity amongst the user/artist relationships.  This will help us determine which artists are most similar.  For instance, when a user plays the Beatles, they also have a high probability of playing the Rolling Stones.  "
   ]
  },
  {
   "cell_type": "markdown",
   "metadata": {},
   "source": [
    "### Import files and packages"
   ]
  },
  {
   "cell_type": "code",
   "execution_count": 1,
   "metadata": {},
   "outputs": [
    {
     "data": {
      "text/plain": [
       "'/Users/brianmcmahon/anaconda3/envs/recommender/bin/python'"
      ]
     },
     "execution_count": 1,
     "metadata": {},
     "output_type": "execute_result"
    }
   ],
   "source": [
    "# check kernel environment\n",
    "import sys\n",
    "sys.executable"
   ]
  },
  {
   "cell_type": "code",
   "execution_count": 2,
   "metadata": {
    "collapsed": true
   },
   "outputs": [],
   "source": [
    "# Import packages\n",
    "import pandas as pd\n",
    "import numpy as np\n",
    "\n",
    "# Compressed Sparse Row (\"CSR\") matrix\n",
    "from scipy.sparse import csr_matrix \n",
    "\n",
    "# use K-Nearest Neighbors to find cosine distance amongst artists\n",
    "from sklearn.neighbors import NearestNeighbors\n",
    "\n",
    "# fuzzy string matching to allow for differing spelling of artist names\n",
    "from fuzzywuzzy import fuzz"
   ]
  },
  {
   "cell_type": "code",
   "execution_count": 3,
   "metadata": {
    "collapsed": true
   },
   "outputs": [],
   "source": [
    "# set output to three decimals\n",
    "pd.set_option('display.float_format',lambda x: '%.3f' %x)"
   ]
  },
  {
   "cell_type": "code",
   "execution_count": 4,
   "metadata": {},
   "outputs": [],
   "source": [
    "# set the random seed for reproducible randomness\n",
    "seed = np.random.RandomState(seed=42)"
   ]
  },
  {
   "cell_type": "markdown",
   "metadata": {},
   "source": [
    "Six .csv files are provided in this dataset (download from GroupLens [here](http://files.grouplens.org/datasets/hetrec2011/hetrec2011-lastfm-2k.zip)), but we will only need two for our basic collaborative recommendation engine.  We also have data consisting of artist tags by user with timestamp and friends network of each user. Tags could be applied to a content-based recommendation engine in a separate analysis.  "
   ]
  },
  {
   "cell_type": "code",
   "execution_count": 5,
   "metadata": {},
   "outputs": [],
   "source": [
    "artists = pd.read_csv('../data/artists.dat',sep='\\t',usecols=['id','name'])\n",
    "plays = pd.read_csv('../data/user_artists.dat',sep='\\t')\n",
    "\n",
    "ap = pd.merge(artists, \n",
    "                plays, \n",
    "                how='inner',\n",
    "                left_on='id',\n",
    "                right_on='artistID')\n",
    "\n",
    "ap = ap.rename(columns={\"weight\":\"userPlays\"})"
   ]
  },
  {
   "cell_type": "code",
   "execution_count": 6,
   "metadata": {},
   "outputs": [
    {
     "data": {
      "text/html": [
       "<div>\n",
       "<style scoped>\n",
       "    .dataframe tbody tr th:only-of-type {\n",
       "        vertical-align: middle;\n",
       "    }\n",
       "\n",
       "    .dataframe tbody tr th {\n",
       "        vertical-align: top;\n",
       "    }\n",
       "\n",
       "    .dataframe thead th {\n",
       "        text-align: right;\n",
       "    }\n",
       "</style>\n",
       "<table border=\"1\" class=\"dataframe\">\n",
       "  <thead>\n",
       "    <tr style=\"text-align: right;\">\n",
       "      <th></th>\n",
       "      <th>id</th>\n",
       "      <th>name</th>\n",
       "      <th>userID</th>\n",
       "      <th>artistID</th>\n",
       "      <th>userPlays</th>\n",
       "    </tr>\n",
       "  </thead>\n",
       "  <tbody>\n",
       "    <tr>\n",
       "      <th>0</th>\n",
       "      <td>1</td>\n",
       "      <td>MALICE MIZER</td>\n",
       "      <td>34</td>\n",
       "      <td>1</td>\n",
       "      <td>212</td>\n",
       "    </tr>\n",
       "    <tr>\n",
       "      <th>1</th>\n",
       "      <td>1</td>\n",
       "      <td>MALICE MIZER</td>\n",
       "      <td>274</td>\n",
       "      <td>1</td>\n",
       "      <td>483</td>\n",
       "    </tr>\n",
       "    <tr>\n",
       "      <th>2</th>\n",
       "      <td>1</td>\n",
       "      <td>MALICE MIZER</td>\n",
       "      <td>785</td>\n",
       "      <td>1</td>\n",
       "      <td>76</td>\n",
       "    </tr>\n",
       "    <tr>\n",
       "      <th>3</th>\n",
       "      <td>2</td>\n",
       "      <td>Diary of Dreams</td>\n",
       "      <td>135</td>\n",
       "      <td>2</td>\n",
       "      <td>1021</td>\n",
       "    </tr>\n",
       "    <tr>\n",
       "      <th>4</th>\n",
       "      <td>2</td>\n",
       "      <td>Diary of Dreams</td>\n",
       "      <td>257</td>\n",
       "      <td>2</td>\n",
       "      <td>152</td>\n",
       "    </tr>\n",
       "  </tbody>\n",
       "</table>\n",
       "</div>"
      ],
      "text/plain": [
       "   id             name  userID  artistID  userPlays\n",
       "0   1     MALICE MIZER      34         1        212\n",
       "1   1     MALICE MIZER     274         1        483\n",
       "2   1     MALICE MIZER     785         1         76\n",
       "3   2  Diary of Dreams     135         2       1021\n",
       "4   2  Diary of Dreams     257         2        152"
      ]
     },
     "execution_count": 6,
     "metadata": {},
     "output_type": "execute_result"
    }
   ],
   "source": [
    "ap.head()"
   ]
  },
  {
   "cell_type": "markdown",
   "metadata": {},
   "source": [
    "### Exploratory Data Analysis (EDA)\n",
    "\n",
    "Key features in our collaborative engine include:\n",
    "- userID\n",
    "- artistID, artistName\n",
    "- userPlays (plays by user of artist)\n",
    "\n",
    "Other features in the dataset (not used in this engine) include:\n",
    "- tag of artist by user with timestamp\n",
    "- friends network\n",
    "\n",
    "_The tags can be used in a content-based recommendation engine in a separate analysis._"
   ]
  },
  {
   "cell_type": "code",
   "execution_count": 7,
   "metadata": {},
   "outputs": [
    {
     "name": "stdout",
     "output_type": "stream",
     "text": [
      "**Artists** \n",
      "\n",
      "Shape: (17632, 2)\n",
      "\n",
      "Info:\n",
      "<class 'pandas.core.frame.DataFrame'>\n",
      "RangeIndex: 17632 entries, 0 to 17631\n",
      "Data columns (total 2 columns):\n",
      "id      17632 non-null int64\n",
      "name    17632 non-null object\n",
      "dtypes: int64(1), object(1)\n",
      "memory usage: 275.6+ KB\n",
      "None \n",
      "\n",
      "Unique:\n",
      "id      17632\n",
      "name    17632\n",
      "dtype: int64\n",
      "\n",
      "**Plays** \n",
      "\n",
      "Shape: (92834, 3)\n",
      "\n",
      "Info:\n",
      "<class 'pandas.core.frame.DataFrame'>\n",
      "RangeIndex: 92834 entries, 0 to 92833\n",
      "Data columns (total 3 columns):\n",
      "userID      92834 non-null int64\n",
      "artistID    92834 non-null int64\n",
      "weight      92834 non-null int64\n",
      "dtypes: int64(3)\n",
      "memory usage: 2.1 MB\n",
      "None \n",
      "\n",
      "Unique:\n",
      "userID       1892\n",
      "artistID    17632\n",
      "weight       5436\n",
      "dtype: int64\n",
      "\n",
      "**Combined** \n",
      "\n",
      "Shape: (92834, 5)\n",
      "\n",
      "Info:\n",
      "<class 'pandas.core.frame.DataFrame'>\n",
      "Int64Index: 92834 entries, 0 to 92833\n",
      "Data columns (total 5 columns):\n",
      "id           92834 non-null int64\n",
      "name         92834 non-null object\n",
      "userID       92834 non-null int64\n",
      "artistID     92834 non-null int64\n",
      "userPlays    92834 non-null int64\n",
      "dtypes: int64(4), object(1)\n",
      "memory usage: 4.2+ MB\n",
      "None \n",
      "\n",
      "Unique:\n",
      "id           17632\n",
      "name         17632\n",
      "userID        1892\n",
      "artistID     17632\n",
      "userPlays     5436\n",
      "dtype: int64\n",
      "\n"
     ]
    }
   ],
   "source": [
    "df_list = [artists, plays, ap]\n",
    "df_name = ['**Artists**','**Plays**','**Combined**']\n",
    "\n",
    "assert len(df_list) == len(df_name)\n",
    "\n",
    "for i in range(len(df_list)):\n",
    "    print(df_name[i],'\\n')\n",
    "    print(\"Shape: {}\\n\".format(df_list[i].shape))\n",
    "    print(\"Info:\")\n",
    "    print(df_list[i].info(),'\\n')\n",
    "    print(\"Unique:\\n{}\\n\".format(df_list[i].nunique()))\n",
    "    \n"
   ]
  },
  {
   "cell_type": "markdown",
   "metadata": {},
   "source": [
    "Key statistics include:\n",
    "    \n",
    "- 17,632 unique artist ID and name\n",
    "- 1,892 unique user ID\n",
    "- 92,834 total data points (one user's history can contain multiple artists)"
   ]
  },
  {
   "cell_type": "code",
   "execution_count": 8,
   "metadata": {},
   "outputs": [
    {
     "name": "stdout",
     "output_type": "stream",
     "text": [
      "69,183,975\n"
     ]
    }
   ],
   "source": [
    "# 69 million total plays\n",
    "print(\"{:,}\".format(ap['userPlays'].sum()))"
   ]
  },
  {
   "cell_type": "code",
   "execution_count": 9,
   "metadata": {},
   "outputs": [],
   "source": [
    "# Determine total plays by artist\n",
    "ap2 = (ap.groupby(['name'])['userPlays'].sum().\n",
    "       sort_values(ascending=False).\n",
    "       reset_index().\n",
    "       rename(columns={\"userPlays\":\"totalArtistPlays\",\"name\":\"artist\"})\n",
    "       [['artist','totalArtistPlays']])"
   ]
  },
  {
   "cell_type": "code",
   "execution_count": 10,
   "metadata": {},
   "outputs": [
    {
     "data": {
      "text/html": [
       "<div>\n",
       "<style scoped>\n",
       "    .dataframe tbody tr th:only-of-type {\n",
       "        vertical-align: middle;\n",
       "    }\n",
       "\n",
       "    .dataframe tbody tr th {\n",
       "        vertical-align: top;\n",
       "    }\n",
       "\n",
       "    .dataframe thead th {\n",
       "        text-align: right;\n",
       "    }\n",
       "</style>\n",
       "<table border=\"1\" class=\"dataframe\">\n",
       "  <thead>\n",
       "    <tr style=\"text-align: right;\">\n",
       "      <th></th>\n",
       "      <th>artist</th>\n",
       "      <th>totalArtistPlays</th>\n",
       "    </tr>\n",
       "  </thead>\n",
       "  <tbody>\n",
       "    <tr>\n",
       "      <th>0</th>\n",
       "      <td>Britney Spears</td>\n",
       "      <td>2393140</td>\n",
       "    </tr>\n",
       "    <tr>\n",
       "      <th>1</th>\n",
       "      <td>Depeche Mode</td>\n",
       "      <td>1301308</td>\n",
       "    </tr>\n",
       "    <tr>\n",
       "      <th>2</th>\n",
       "      <td>Lady Gaga</td>\n",
       "      <td>1291387</td>\n",
       "    </tr>\n",
       "    <tr>\n",
       "      <th>3</th>\n",
       "      <td>Christina Aguilera</td>\n",
       "      <td>1058405</td>\n",
       "    </tr>\n",
       "    <tr>\n",
       "      <th>4</th>\n",
       "      <td>Paramore</td>\n",
       "      <td>963449</td>\n",
       "    </tr>\n",
       "  </tbody>\n",
       "</table>\n",
       "</div>"
      ],
      "text/plain": [
       "               artist  totalArtistPlays\n",
       "0      Britney Spears           2393140\n",
       "1        Depeche Mode           1301308\n",
       "2           Lady Gaga           1291387\n",
       "3  Christina Aguilera           1058405\n",
       "4            Paramore            963449"
      ]
     },
     "execution_count": 10,
     "metadata": {},
     "output_type": "execute_result"
    }
   ],
   "source": [
    "ap2.head()"
   ]
  },
  {
   "cell_type": "code",
   "execution_count": 11,
   "metadata": {},
   "outputs": [
    {
     "name": "stdout",
     "output_type": "stream",
     "text": [
      "artist              Britney Spears\n",
      "totalArtistPlays           2393140\n",
      "Name: 0, dtype: object\n"
     ]
    }
   ],
   "source": [
    "# Britney Spears is the most played at 2.4 million plays\n",
    "print(ap2.iloc[ap2['totalArtistPlays'].idxmax()])"
   ]
  },
  {
   "cell_type": "code",
   "execution_count": 12,
   "metadata": {},
   "outputs": [
    {
     "name": "stdout",
     "output_type": "stream",
     "text": [
      "      artist  totalArtistPlays\n",
      "2  Lady Gaga           1291387\n"
     ]
    }
   ],
   "source": [
    "print(ap2[ap2['artist']=='Lady Gaga'])"
   ]
  },
  {
   "cell_type": "code",
   "execution_count": 13,
   "metadata": {},
   "outputs": [
    {
     "name": "stdout",
     "output_type": "stream",
     "text": [
      "       artist  totalArtistPlays\n",
      "250  Bon Jovi             43252\n"
     ]
    }
   ],
   "source": [
    "print(ap2[ap2['artist']=='Bon Jovi'])"
   ]
  },
  {
   "cell_type": "code",
   "execution_count": 14,
   "metadata": {},
   "outputs": [
    {
     "data": {
      "text/plain": [
       "count     17632.000\n",
       "mean       3923.774\n",
       "std       34099.342\n",
       "min           1.000\n",
       "25%         113.000\n",
       "50%         350.000\n",
       "75%        1234.250\n",
       "max     2393140.000\n",
       "Name: totalArtistPlays, dtype: float64"
      ]
     },
     "execution_count": 14,
     "metadata": {},
     "output_type": "execute_result"
    }
   ],
   "source": [
    "ap2['totalArtistPlays'].describe()"
   ]
  },
  {
   "cell_type": "code",
   "execution_count": 15,
   "metadata": {},
   "outputs": [
    {
     "data": {
      "text/plain": [
       "0.900    4645.400\n",
       "0.910    5350.680\n",
       "0.920    6193.000\n",
       "0.930    7320.640\n",
       "0.940    8685.280\n",
       "0.950   10693.400\n",
       "0.960   14257.800\n",
       "0.970   18969.740\n",
       "0.980   30137.940\n",
       "0.990   60096.010\n",
       "Name: totalArtistPlays, dtype: float64"
      ]
     },
     "execution_count": 15,
     "metadata": {},
     "output_type": "execute_result"
    }
   ],
   "source": [
    "# artists at the 95th percentile are played ~10,000 times\n",
    "# we will use this information to set the popularity threshold below\n",
    "# we may want to focus on the most popular artists to reduce noise\n",
    "# and improve accuracy\n",
    "ap2['totalArtistPlays'].quantile(np.arange(.9,1.,.01))"
   ]
  },
  {
   "cell_type": "markdown",
   "metadata": {},
   "source": [
    "### Prepare Sparse Matrix"
   ]
  },
  {
   "cell_type": "code",
   "execution_count": 16,
   "metadata": {},
   "outputs": [],
   "source": [
    "# merge plays by artist with plays by user\n",
    "user_artist_plays = ap.merge(ap2, \n",
    "                             left_on='name',\n",
    "                             right_on='artist',\n",
    "                             how='left')[['userID',\n",
    "                                          'artist',\n",
    "                                          'userPlays',\n",
    "                                          'totalArtistPlays']]\n",
    "\n",
    "# confirm no duplicate rows\n",
    "assert (user_artist_plays[user_artist_plays.\n",
    "                         duplicated(['userID','artist'])].\n",
    "                         empty)"
   ]
  },
  {
   "cell_type": "code",
   "execution_count": 17,
   "metadata": {},
   "outputs": [],
   "source": [
    "popularity_threshold = 10000 # 95th percentile at ~10,000 plays\n",
    "uap_top = (user_artist_plays[user_artist_plays['totalArtistPlays']>\n",
    "                             popularity_threshold].\n",
    "                             sort_values(['userID','userPlays'],\n",
    "                             ascending=False))"
   ]
  },
  {
   "cell_type": "code",
   "execution_count": 18,
   "metadata": {},
   "outputs": [
    {
     "name": "stdout",
     "output_type": "stream",
     "text": [
      "(53861, 4)\n"
     ]
    },
    {
     "data": {
      "text/html": [
       "<div>\n",
       "<style scoped>\n",
       "    .dataframe tbody tr th:only-of-type {\n",
       "        vertical-align: middle;\n",
       "    }\n",
       "\n",
       "    .dataframe tbody tr th {\n",
       "        vertical-align: top;\n",
       "    }\n",
       "\n",
       "    .dataframe thead th {\n",
       "        text-align: right;\n",
       "    }\n",
       "</style>\n",
       "<table border=\"1\" class=\"dataframe\">\n",
       "  <thead>\n",
       "    <tr style=\"text-align: right;\">\n",
       "      <th></th>\n",
       "      <th>userID</th>\n",
       "      <th>artist</th>\n",
       "      <th>userPlays</th>\n",
       "      <th>totalArtistPlays</th>\n",
       "    </tr>\n",
       "  </thead>\n",
       "  <tbody>\n",
       "    <tr>\n",
       "      <th>44041</th>\n",
       "      <td>2100</td>\n",
       "      <td>Yann Tiersen</td>\n",
       "      <td>1333</td>\n",
       "      <td>43972</td>\n",
       "    </tr>\n",
       "    <tr>\n",
       "      <th>36701</th>\n",
       "      <td>2100</td>\n",
       "      <td>Eluveitie</td>\n",
       "      <td>762</td>\n",
       "      <td>11244</td>\n",
       "    </tr>\n",
       "    <tr>\n",
       "      <th>36813</th>\n",
       "      <td>2100</td>\n",
       "      <td>Slayer</td>\n",
       "      <td>553</td>\n",
       "      <td>62107</td>\n",
       "    </tr>\n",
       "    <tr>\n",
       "      <th>55016</th>\n",
       "      <td>2099</td>\n",
       "      <td>Flying Lotus</td>\n",
       "      <td>410</td>\n",
       "      <td>13178</td>\n",
       "    </tr>\n",
       "    <tr>\n",
       "      <th>60187</th>\n",
       "      <td>2099</td>\n",
       "      <td>Bonobo</td>\n",
       "      <td>397</td>\n",
       "      <td>14601</td>\n",
       "    </tr>\n",
       "  </tbody>\n",
       "</table>\n",
       "</div>"
      ],
      "text/plain": [
       "       userID        artist  userPlays  totalArtistPlays\n",
       "44041    2100  Yann Tiersen       1333             43972\n",
       "36701    2100     Eluveitie        762             11244\n",
       "36813    2100        Slayer        553             62107\n",
       "55016    2099  Flying Lotus        410             13178\n",
       "60187    2099        Bonobo        397             14601"
      ]
     },
     "execution_count": 18,
     "metadata": {},
     "output_type": "execute_result"
    }
   ],
   "source": [
    "print(uap_top.shape)\n",
    "uap_top.head()"
   ]
  },
  {
   "cell_type": "code",
   "execution_count": 19,
   "metadata": {},
   "outputs": [
    {
     "data": {
      "text/plain": [
       "userID    1871\n",
       "artist     943\n",
       "dtype: int64"
      ]
     },
     "execution_count": 19,
     "metadata": {},
     "output_type": "execute_result"
    }
   ],
   "source": [
    "uap_top[['userID','artist']].nunique()"
   ]
  },
  {
   "cell_type": "code",
   "execution_count": 20,
   "metadata": {},
   "outputs": [
    {
     "name": "stdout",
     "output_type": "stream",
     "text": [
      "5.35%\n"
     ]
    }
   ],
   "source": [
    "# with threshold at 95th percentile this would show the 5% of artists\n",
    "# we are including in our engine\n",
    "print(\"{:.2f}%\".format(100*(uap_top.artist.nunique()/ap.name.nunique())))"
   ]
  },
  {
   "cell_type": "code",
   "execution_count": 21,
   "metadata": {},
   "outputs": [
    {
     "name": "stdout",
     "output_type": "stream",
     "text": [
      "98.89%\n"
     ]
    }
   ],
   "source": [
    "# Our revised analysis still contains almost all original users\n",
    "print(\"{:.2f}%\".format(100*(uap_top.userID.nunique()/ap.userID.nunique())))"
   ]
  },
  {
   "cell_type": "code",
   "execution_count": 22,
   "metadata": {},
   "outputs": [
    {
     "data": {
      "text/plain": [
       "(943, 1871)"
      ]
     },
     "execution_count": 22,
     "metadata": {},
     "output_type": "execute_result"
    }
   ],
   "source": [
    "# fit data into a sparse matrix of artist name (row) vs user (column)\n",
    "# in terms of number of plays by artist/user\n",
    "pivot_uapt = uap_top.pivot(index='artist',columns='userID',values='userPlays').fillna(0)\n",
    "sparse_uapt = csr_matrix(pivot_uapt.values)\n",
    "sparse_uapt.shape"
   ]
  },
  {
   "cell_type": "code",
   "execution_count": 23,
   "metadata": {},
   "outputs": [
    {
     "data": {
      "text/plain": [
       "NearestNeighbors(algorithm='auto', leaf_size=30, metric='cosine',\n",
       "         metric_params=None, n_jobs=1, n_neighbors=5, p=2, radius=1.0)"
      ]
     },
     "execution_count": 23,
     "metadata": {},
     "output_type": "execute_result"
    }
   ],
   "source": [
    "# Use K Nearest Neighbors to determine cosine distance amongst artists\n",
    "knn = NearestNeighbors(metric='cosine')\n",
    "knn.fit(sparse_uapt)"
   ]
  },
  {
   "cell_type": "markdown",
   "metadata": {},
   "source": [
    "### Query by Index Position"
   ]
  },
  {
   "cell_type": "code",
   "execution_count": 24,
   "metadata": {},
   "outputs": [
    {
     "data": {
      "text/html": [
       "<div>\n",
       "<style scoped>\n",
       "    .dataframe tbody tr th:only-of-type {\n",
       "        vertical-align: middle;\n",
       "    }\n",
       "\n",
       "    .dataframe tbody tr th {\n",
       "        vertical-align: top;\n",
       "    }\n",
       "\n",
       "    .dataframe thead th {\n",
       "        text-align: right;\n",
       "    }\n",
       "</style>\n",
       "<table border=\"1\" class=\"dataframe\">\n",
       "  <thead>\n",
       "    <tr style=\"text-align: right;\">\n",
       "      <th>userID</th>\n",
       "      <th>2</th>\n",
       "      <th>3</th>\n",
       "      <th>4</th>\n",
       "      <th>5</th>\n",
       "      <th>6</th>\n",
       "      <th>7</th>\n",
       "      <th>8</th>\n",
       "      <th>9</th>\n",
       "      <th>10</th>\n",
       "      <th>11</th>\n",
       "      <th>...</th>\n",
       "      <th>2090</th>\n",
       "      <th>2091</th>\n",
       "      <th>2092</th>\n",
       "      <th>2093</th>\n",
       "      <th>2094</th>\n",
       "      <th>2095</th>\n",
       "      <th>2096</th>\n",
       "      <th>2097</th>\n",
       "      <th>2099</th>\n",
       "      <th>2100</th>\n",
       "    </tr>\n",
       "    <tr>\n",
       "      <th>artist</th>\n",
       "      <th></th>\n",
       "      <th></th>\n",
       "      <th></th>\n",
       "      <th></th>\n",
       "      <th></th>\n",
       "      <th></th>\n",
       "      <th></th>\n",
       "      <th></th>\n",
       "      <th></th>\n",
       "      <th></th>\n",
       "      <th></th>\n",
       "      <th></th>\n",
       "      <th></th>\n",
       "      <th></th>\n",
       "      <th></th>\n",
       "      <th></th>\n",
       "      <th></th>\n",
       "      <th></th>\n",
       "      <th></th>\n",
       "      <th></th>\n",
       "      <th></th>\n",
       "    </tr>\n",
       "  </thead>\n",
       "  <tbody>\n",
       "    <tr>\n",
       "      <th>*NSYNC</th>\n",
       "      <td>0.000</td>\n",
       "      <td>0.000</td>\n",
       "      <td>0.000</td>\n",
       "      <td>0.000</td>\n",
       "      <td>0.000</td>\n",
       "      <td>0.000</td>\n",
       "      <td>0.000</td>\n",
       "      <td>0.000</td>\n",
       "      <td>0.000</td>\n",
       "      <td>1567.000</td>\n",
       "      <td>...</td>\n",
       "      <td>0.000</td>\n",
       "      <td>0.000</td>\n",
       "      <td>0.000</td>\n",
       "      <td>0.000</td>\n",
       "      <td>0.000</td>\n",
       "      <td>0.000</td>\n",
       "      <td>0.000</td>\n",
       "      <td>0.000</td>\n",
       "      <td>0.000</td>\n",
       "      <td>0.000</td>\n",
       "    </tr>\n",
       "    <tr>\n",
       "      <th>2NE1</th>\n",
       "      <td>0.000</td>\n",
       "      <td>0.000</td>\n",
       "      <td>0.000</td>\n",
       "      <td>0.000</td>\n",
       "      <td>0.000</td>\n",
       "      <td>0.000</td>\n",
       "      <td>0.000</td>\n",
       "      <td>290.000</td>\n",
       "      <td>0.000</td>\n",
       "      <td>0.000</td>\n",
       "      <td>...</td>\n",
       "      <td>0.000</td>\n",
       "      <td>0.000</td>\n",
       "      <td>0.000</td>\n",
       "      <td>0.000</td>\n",
       "      <td>0.000</td>\n",
       "      <td>0.000</td>\n",
       "      <td>0.000</td>\n",
       "      <td>0.000</td>\n",
       "      <td>0.000</td>\n",
       "      <td>0.000</td>\n",
       "    </tr>\n",
       "    <tr>\n",
       "      <th>2Pac</th>\n",
       "      <td>0.000</td>\n",
       "      <td>0.000</td>\n",
       "      <td>0.000</td>\n",
       "      <td>0.000</td>\n",
       "      <td>14.000</td>\n",
       "      <td>0.000</td>\n",
       "      <td>0.000</td>\n",
       "      <td>0.000</td>\n",
       "      <td>0.000</td>\n",
       "      <td>0.000</td>\n",
       "      <td>...</td>\n",
       "      <td>0.000</td>\n",
       "      <td>0.000</td>\n",
       "      <td>0.000</td>\n",
       "      <td>0.000</td>\n",
       "      <td>0.000</td>\n",
       "      <td>0.000</td>\n",
       "      <td>0.000</td>\n",
       "      <td>0.000</td>\n",
       "      <td>0.000</td>\n",
       "      <td>0.000</td>\n",
       "    </tr>\n",
       "    <tr>\n",
       "      <th>3 Doors Down</th>\n",
       "      <td>0.000</td>\n",
       "      <td>0.000</td>\n",
       "      <td>0.000</td>\n",
       "      <td>0.000</td>\n",
       "      <td>0.000</td>\n",
       "      <td>0.000</td>\n",
       "      <td>0.000</td>\n",
       "      <td>0.000</td>\n",
       "      <td>0.000</td>\n",
       "      <td>514.000</td>\n",
       "      <td>...</td>\n",
       "      <td>0.000</td>\n",
       "      <td>0.000</td>\n",
       "      <td>0.000</td>\n",
       "      <td>0.000</td>\n",
       "      <td>0.000</td>\n",
       "      <td>0.000</td>\n",
       "      <td>0.000</td>\n",
       "      <td>0.000</td>\n",
       "      <td>0.000</td>\n",
       "      <td>0.000</td>\n",
       "    </tr>\n",
       "    <tr>\n",
       "      <th>30 Seconds to Mars</th>\n",
       "      <td>0.000</td>\n",
       "      <td>0.000</td>\n",
       "      <td>0.000</td>\n",
       "      <td>0.000</td>\n",
       "      <td>0.000</td>\n",
       "      <td>0.000</td>\n",
       "      <td>0.000</td>\n",
       "      <td>0.000</td>\n",
       "      <td>0.000</td>\n",
       "      <td>0.000</td>\n",
       "      <td>...</td>\n",
       "      <td>0.000</td>\n",
       "      <td>0.000</td>\n",
       "      <td>0.000</td>\n",
       "      <td>0.000</td>\n",
       "      <td>0.000</td>\n",
       "      <td>0.000</td>\n",
       "      <td>0.000</td>\n",
       "      <td>0.000</td>\n",
       "      <td>0.000</td>\n",
       "      <td>0.000</td>\n",
       "    </tr>\n",
       "  </tbody>\n",
       "</table>\n",
       "<p>5 rows × 1871 columns</p>\n",
       "</div>"
      ],
      "text/plain": [
       "userID              2     3     4     5      6     7     8       9     10    \\\n",
       "artist                                                                        \n",
       "*NSYNC             0.000 0.000 0.000 0.000  0.000 0.000 0.000   0.000 0.000   \n",
       "2NE1               0.000 0.000 0.000 0.000  0.000 0.000 0.000 290.000 0.000   \n",
       "2Pac               0.000 0.000 0.000 0.000 14.000 0.000 0.000   0.000 0.000   \n",
       "3 Doors Down       0.000 0.000 0.000 0.000  0.000 0.000 0.000   0.000 0.000   \n",
       "30 Seconds to Mars 0.000 0.000 0.000 0.000  0.000 0.000 0.000   0.000 0.000   \n",
       "\n",
       "userID                 11    ...   2090  2091  2092  2093  2094  2095  2096  \\\n",
       "artist                       ...                                              \n",
       "*NSYNC             1567.000  ...  0.000 0.000 0.000 0.000 0.000 0.000 0.000   \n",
       "2NE1                  0.000  ...  0.000 0.000 0.000 0.000 0.000 0.000 0.000   \n",
       "2Pac                  0.000  ...  0.000 0.000 0.000 0.000 0.000 0.000 0.000   \n",
       "3 Doors Down        514.000  ...  0.000 0.000 0.000 0.000 0.000 0.000 0.000   \n",
       "30 Seconds to Mars    0.000  ...  0.000 0.000 0.000 0.000 0.000 0.000 0.000   \n",
       "\n",
       "userID              2097  2099  2100  \n",
       "artist                                \n",
       "*NSYNC             0.000 0.000 0.000  \n",
       "2NE1               0.000 0.000 0.000  \n",
       "2Pac               0.000 0.000 0.000  \n",
       "3 Doors Down       0.000 0.000 0.000  \n",
       "30 Seconds to Mars 0.000 0.000 0.000  \n",
       "\n",
       "[5 rows x 1871 columns]"
      ]
     },
     "execution_count": 24,
     "metadata": {},
     "output_type": "execute_result"
    }
   ],
   "source": [
    "pivot_uapt.head()"
   ]
  },
  {
   "cell_type": "code",
   "execution_count": 25,
   "metadata": {},
   "outputs": [],
   "source": [
    "def idx_recommend(data,idx,model,k):\n",
    "    distances, indices = (model.kneighbors(data.\n",
    "                                     iloc[idx,:].\n",
    "                                     values.reshape(1,-1),\n",
    "                                     n_neighbors=k+1))\n",
    "\n",
    "    for i in range(0,len(distances.flatten())):\n",
    "        if i == 0:\n",
    "            print(('Recommendations for {} (index {}):\\n'.\n",
    "                  format(data.index[idx],idx)))\n",
    "        else:\n",
    "            print(('{}: {} ({:.3f})'.\n",
    "                  format(i,\n",
    "                         data.index[indices.flatten()[i]],\n",
    "                         distances.flatten()[i])))\n",
    "    print('\\nNote: cosine distance in parentheses.')"
   ]
  },
  {
   "cell_type": "code",
   "execution_count": 26,
   "metadata": {},
   "outputs": [
    {
     "name": "stdout",
     "output_type": "stream",
     "text": [
      "Recommendations for Belinda (index 102):\n",
      "\n",
      "1: Nelly Furtado (0.603)\n",
      "2: t.A.T.u. (0.693)\n",
      "3: Hilary Duff (0.706)\n",
      "4: Delta Goodrem (0.775)\n",
      "5: Lindsay Lohan (0.782)\n",
      "6: Blutengel (0.822)\n",
      "\n",
      "Note: cosine distance in parentheses.\n"
     ]
    }
   ],
   "source": [
    "query_index = seed.choice(pivot_uapt.shape[0])\n",
    "idx_recommend(pivot_uapt,query_index,knn,6)"
   ]
  },
  {
   "cell_type": "code",
   "execution_count": 27,
   "metadata": {},
   "outputs": [
    {
     "name": "stdout",
     "output_type": "stream",
     "text": [
      "Recommendations for 2Pac (index 2):\n",
      "\n",
      "1: Mobb Deep (0.543)\n",
      "2: Lloyd Banks (0.558)\n",
      "3: G-Unit (0.592)\n",
      "4: 50 Cent (0.593)\n",
      "5: Nas (0.606)\n",
      "6: Wu-Tang Clan (0.661)\n",
      "\n",
      "Note: cosine distance in parentheses.\n"
     ]
    }
   ],
   "source": [
    "query_index = 2\n",
    "idx_recommend(pivot_uapt,query_index,knn,6)"
   ]
  },
  {
   "cell_type": "markdown",
   "metadata": {},
   "source": [
    "### Query by Artist (using Fuzzy Matching)"
   ]
  },
  {
   "cell_type": "code",
   "execution_count": 44,
   "metadata": {
    "collapsed": true
   },
   "outputs": [],
   "source": [
    "def artist_recommend(query_artist, data, model,k):\n",
    "    idx = None\n",
    "    ratio_tuples = []\n",
    "    \n",
    "    for artist in data.index:\n",
    "        ratio = fuzz.ratio(artist.lower(),query_artist.lower())\n",
    "        if ratio >=75:\n",
    "            current_query_idx = data.index.tolist().index(artist)\n",
    "            ratio_tuples.append((artist, ratio,current_query_idx))\n",
    "            \n",
    "    print('Fuzzy matches: {}\\n'.format([(x[0],x[1]) for x in ratio_tuples]))\n",
    "    \n",
    "    try:\n",
    "        query_idx = max(ratio_tuples, key=lambda x: x[1])[2]\n",
    "        \n",
    "    except:\n",
    "        print('Your artist did not match any artists.')\n",
    "        return None\n",
    "    \n",
    "    idx_recommend(data, current_query_idx,model,k)    "
   ]
  },
  {
   "cell_type": "code",
   "execution_count": 45,
   "metadata": {},
   "outputs": [
    {
     "name": "stdout",
     "output_type": "stream",
     "text": [
      "Fuzzy matches: [('Red Hot Chili Peppers', 100)]\n",
      "\n",
      "Recommendations for Red Hot Chili Peppers (index 663):\n",
      "\n",
      "1: The Offspring (0.568)\n",
      "2: Kreator (0.630)\n",
      "3: Mercyful Fate (0.692)\n",
      "4: John Frusciante (0.692)\n",
      "5: Neuro Dubel (0.693)\n",
      "6: Ennio Morricone (0.694)\n",
      "7: Рубль (0.695)\n",
      "8: In Extremo (0.696)\n",
      "9: Riverside (0.697)\n",
      "10: Katie Melua (0.701)\n",
      "\n",
      "Note: cosine distance in parentheses.\n"
     ]
    }
   ],
   "source": [
    "artist_recommend('red hot chili peppers',pivot_uapt,knn,10)"
   ]
  },
  {
   "cell_type": "markdown",
   "metadata": {},
   "source": [
    "### Convert weighted matrix to binary\n",
    "Binary classification consists of played (1) or not played (0)."
   ]
  },
  {
   "cell_type": "code",
   "execution_count": 30,
   "metadata": {
    "collapsed": true
   },
   "outputs": [],
   "source": [
    "buapt = pivot_uapt.apply(np.sign)\n",
    "sparse_buapt = csr_matrix(buapt.values)"
   ]
  },
  {
   "cell_type": "code",
   "execution_count": 31,
   "metadata": {},
   "outputs": [
    {
     "data": {
      "text/plain": [
       "NearestNeighbors(algorithm='auto', leaf_size=30, metric='cosine',\n",
       "         metric_params=None, n_jobs=1, n_neighbors=5, p=2, radius=1.0)"
      ]
     },
     "execution_count": 31,
     "metadata": {},
     "output_type": "execute_result"
    }
   ],
   "source": [
    "bknn = NearestNeighbors(metric='cosine')\n",
    "bknn.fit(sparse_buapt)"
   ]
  },
  {
   "cell_type": "code",
   "execution_count": 32,
   "metadata": {},
   "outputs": [
    {
     "name": "stdout",
     "output_type": "stream",
     "text": [
      "Fuzzy matches: [('*NSYNC', 7), ('2NE1', 8)]\n",
      "\n",
      "Recommendations for 2NE1 (index 1):\n",
      "\n",
      "1: 4minute (0.489)\n",
      "2: 소녀시대 (0.532)\n",
      "3: BIG BANG (0.610)\n",
      "4: SHINee (0.610)\n",
      "5: BoA (0.632)\n",
      "6: 倖田來未 (0.768)\n",
      "7: Rihanna (0.810)\n",
      "8: Ke$ha (0.825)\n",
      "9: Britney Spears (0.827)\n",
      "10: Katy Perry (0.827)\n",
      "\n",
      "Note: cosine distance in parentheses.\n"
     ]
    }
   ],
   "source": [
    "artist_recommend('red hot chili peppers',buapt,bknn,10)"
   ]
  },
  {
   "cell_type": "code",
   "execution_count": 33,
   "metadata": {},
   "outputs": [
    {
     "name": "stdout",
     "output_type": "stream",
     "text": [
      "Fuzzy matches: [('*NSYNC', 20), ('2NE1', 25)]\n",
      "\n",
      "Recommendations for 2NE1 (index 1):\n",
      "\n",
      "1: 4minute (0.489)\n",
      "2: 소녀시대 (0.532)\n",
      "3: BIG BANG (0.610)\n",
      "4: SHINee (0.610)\n",
      "5: BoA (0.632)\n",
      "6: 倖田來未 (0.768)\n",
      "7: Rihanna (0.810)\n",
      "8: Ke$ha (0.825)\n",
      "9: Britney Spears (0.827)\n",
      "10: Katy Perry (0.827)\n",
      "\n",
      "Note: cosine distance in parentheses.\n"
     ]
    }
   ],
   "source": [
    "artist_recommend('korn',buapt,bknn,10)"
   ]
  },
  {
   "cell_type": "code",
   "execution_count": null,
   "metadata": {
    "collapsed": true
   },
   "outputs": [],
   "source": []
  },
  {
   "cell_type": "code",
   "execution_count": null,
   "metadata": {
    "collapsed": true
   },
   "outputs": [],
   "source": []
  },
  {
   "cell_type": "code",
   "execution_count": null,
   "metadata": {
    "collapsed": true
   },
   "outputs": [],
   "source": []
  },
  {
   "cell_type": "code",
   "execution_count": null,
   "metadata": {
    "collapsed": true
   },
   "outputs": [],
   "source": []
  }
 ],
 "metadata": {
  "kernelspec": {
   "display_name": "Python 3",
   "language": "python",
   "name": "python3"
  },
  "language_info": {
   "codemirror_mode": {
    "name": "ipython",
    "version": 3
   },
   "file_extension": ".py",
   "mimetype": "text/x-python",
   "name": "python",
   "nbconvert_exporter": "python",
   "pygments_lexer": "ipython3",
   "version": "3.6.6"
  }
 },
 "nbformat": 4,
 "nbformat_minor": 2
}
