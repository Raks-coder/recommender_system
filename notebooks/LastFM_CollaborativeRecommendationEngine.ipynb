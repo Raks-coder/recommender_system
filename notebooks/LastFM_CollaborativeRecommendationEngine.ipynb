{
 "cells": [
  {
   "cell_type": "markdown",
   "metadata": {},
   "source": [
    "# LastFM Recommendation Engine\n",
    "August 2018\n",
    "\n",
    "Today we are going to build a basic recommender system based on the Last.fm dataset available at [GroupLens](https://grouplens.org/datasets/hetrec-2011/) on behalf of [Lab41](https://github.com/Lab41/hermes/wiki/Datasets).  The dataset, obtained from LastFM in 2011, contains the play counts of 17,632 artists by 1,892 users. \n",
    "\n",
    "Our agenda is as follows:\n",
    "- Examine the data we are working with by performing Exploratory Data Analysis (EDA)\n",
    "- Determine our choice of recommender system based on our findings\n",
    "- Build a basic recommender system\n",
    "- Assess results and areas for improvement"
   ]
  },
  {
   "cell_type": "markdown",
   "metadata": {},
   "source": [
    "### What is a recommender system?\n",
    "\n",
    "A _recommender system_, also known as a _recommendation engine_ or simply _recommender_, exists in several forms.  \n",
    "\n",
    "A _content-based recommender_ recommends based on history of similar items purchased, viewed or interacted with in the past.  \n",
    "\n",
    "A _collaborative recommender_ recommends based on usage trends of similar users.  For instance, if Alice and Bob like movies X, Y and Z, and you like movies X and Y, you may be recommended movie Z.  Or, if people who listen to the Beatles and the Rolling Stones also typically play Bob Dylan, then when you input the Beatles into a recommender system, Bob Dylan may be a valid recommendation. \n",
    "\n",
    "A _hybrid recommender_ utilizes features of both content-based and collaborative recommenders in an aim to improve accuracy of results.  Amazon may recommend a stereo speaker to you based on your viewing history of sound systems (content-based filtering) as well as on your website usage behavior similar to other users of the Amazon platform (collaborative filtering).  \n",
    "\n",
    "A _popularity-based recommender_ does not take usage history into consideration other than sheer popularity of the content.  If Britney Spears and Justin Bieber are on top of the Billboard charts, either (or both) artist could be recommended to each new user of Spotify in lieu of basing the recommendation on their usage history.  \n",
    "\n",
    "Now lets examine the data we are working with."
   ]
  },
  {
   "cell_type": "markdown",
   "metadata": {},
   "source": [
    "### Import packages\n",
    "\n",
    "Lets to ahead and import every package we will need for our analysis below.  Here we will:\n",
    "\n",
    "- check the kernel to make sure you are using the environment where the appropriate python package dependencies are installed\n",
    "- import pandas an numpy for data manipulation and matplotlib and seaborn for charting\n",
    "- set float number format to 3 decimal places\n",
    "- set the seed for reproducibility of analysis even from random number initialization"
   ]
  },
  {
   "cell_type": "code",
   "execution_count": 1,
   "metadata": {},
   "outputs": [
    {
     "name": "stdout",
     "output_type": "stream",
     "text": [
      "Kernel: /Users/brianmcmahon/anaconda3/envs/recommender/bin/python\n"
     ]
    }
   ],
   "source": [
    "# check kernel environment\n",
    "import sys\n",
    "print(\"Kernel: {}\".format(sys.executable))\n",
    "\n",
    "# Import packages\n",
    "import pandas as pd\n",
    "import numpy as np\n",
    "\n",
    "# For our EDA charts\n",
    "import matplotlib.pyplot as plt\n",
    "import seaborn as sns\n",
    "\n",
    "# set output to three decimals\n",
    "pd.set_option('display.float_format',lambda x: '%.3f' %x)\n",
    "\n",
    "# set seed for reproducibility of random number initializations\n",
    "seed = np.random.RandomState(seed=42)"
   ]
  },
  {
   "cell_type": "markdown",
   "metadata": {},
   "source": [
    "### The Dataset\n",
    "\n",
    "Six .csv files are provided in this dataset (download from GroupLens [here](http://files.grouplens.org/datasets/hetrec2011/hetrec2011-lastfm-2k.zip)), consisting of the following:\n",
    "- **user_artists.dat** (userID, artistID, weight). Plays of artist by user.\n",
    "- **artists.dat** (id, name, url, pictureURL). ID and name of each artist.  \n",
    "- **tags.dat** (tagID, tagValue). ID number and content for each tag.\n",
    "- **user_taggedartists.dat** (userID, artistID, tagID, day, month, year). Tag of artist by user with date.   \n",
    "- **user_taggedartists-timestamps.dat** (userID, artistID, tagID, timestamp). Tag of artist by user with timestamp.\n",
    "- **user_friends.dat** (userID, friendID). User/friend relationships.  \n",
    "\n",
    "Lets take a deeper dive into the data we are working with:"
   ]
  },
  {
   "cell_type": "code",
   "execution_count": 2,
   "metadata": {
    "collapsed": true
   },
   "outputs": [],
   "source": [
    "# import our files\n",
    "plays = pd.read_csv('../data/user_artists.dat',sep='\\t')\n",
    "artists = pd.read_csv('../data/artists.dat',sep='\\t',usecols=['id','name'])\n",
    "\n",
    "# we import to understand what datapoints we have, but do not use these \n",
    "# in our collaborative engine\n",
    "tags = pd.read_csv('../data/tags.dat', sep='\\t',encoding='latin-1')\n",
    "uta = pd.read_csv('../data/user_taggedartists.dat', sep='\\t')\n",
    "utat = pd.read_csv('../data/user_taggedartists-timestamps.dat', sep=\"\\t\")\n",
    "friends = pd.read_csv('../data/user_friends.dat', sep='\\t')"
   ]
  },
  {
   "cell_type": "code",
   "execution_count": 53,
   "metadata": {
    "collapsed": true
   },
   "outputs": [],
   "source": [
    "# create a function to provide various statistics on our data files\n",
    "def print_info(df_list, df_name):\n",
    "    # to ensure our two lists are equal in length (ie we didn't make any mistakes)\n",
    "    assert len(df_list) == len(df_name)\n",
    "\n",
    "    for i in range(len(df_list)):\n",
    "        print(df_name[i],'\\n')\n",
    "        print(\"Shape: {}\\n\".format(df_list[i].shape))\n",
    "        print(\"Info:\")\n",
    "        print(df_list[i].info(),'\\n')\n",
    "        print(\"Unique:\\n{}\\n\".format(df_list[i].nunique()))     \n",
    "        \n",
    "        # This returns True if no duplicates are dropped (ie duplicates do not exist)\n",
    "        print(\"No duplicates: {}\\n\".format(len(df_list[i])==len(df_list[i].drop_duplicates())))"
   ]
  },
  {
   "cell_type": "code",
   "execution_count": 54,
   "metadata": {},
   "outputs": [
    {
     "name": "stdout",
     "output_type": "stream",
     "text": [
      "**Plays** \n",
      "\n",
      "Shape: (92834, 3)\n",
      "\n",
      "Info:\n",
      "<class 'pandas.core.frame.DataFrame'>\n",
      "RangeIndex: 92834 entries, 0 to 92833\n",
      "Data columns (total 3 columns):\n",
      "userID      92834 non-null int64\n",
      "artistID    92834 non-null int64\n",
      "weight      92834 non-null int64\n",
      "dtypes: int64(3)\n",
      "memory usage: 2.1 MB\n",
      "None \n",
      "\n",
      "Unique:\n",
      "userID       1892\n",
      "artistID    17632\n",
      "weight       5436\n",
      "dtype: int64\n",
      "\n",
      "No duplicates: True\n",
      "\n",
      "**Artists** \n",
      "\n",
      "Shape: (17632, 2)\n",
      "\n",
      "Info:\n",
      "<class 'pandas.core.frame.DataFrame'>\n",
      "RangeIndex: 17632 entries, 0 to 17631\n",
      "Data columns (total 2 columns):\n",
      "id      17632 non-null int64\n",
      "name    17632 non-null object\n",
      "dtypes: int64(1), object(1)\n",
      "memory usage: 275.6+ KB\n",
      "None \n",
      "\n",
      "Unique:\n",
      "id      17632\n",
      "name    17632\n",
      "dtype: int64\n",
      "\n",
      "No duplicates: True\n",
      "\n",
      "**Tags** \n",
      "\n",
      "Shape: (11946, 2)\n",
      "\n",
      "Info:\n",
      "<class 'pandas.core.frame.DataFrame'>\n",
      "RangeIndex: 11946 entries, 0 to 11945\n",
      "Data columns (total 2 columns):\n",
      "tagID       11946 non-null int64\n",
      "tagValue    11946 non-null object\n",
      "dtypes: int64(1), object(1)\n",
      "memory usage: 186.7+ KB\n",
      "None \n",
      "\n",
      "Unique:\n",
      "tagID       11946\n",
      "tagValue    11946\n",
      "dtype: int64\n",
      "\n",
      "No duplicates: True\n",
      "\n",
      "**User Tagged Artists (Date)** \n",
      "\n",
      "Shape: (186479, 6)\n",
      "\n",
      "Info:\n",
      "<class 'pandas.core.frame.DataFrame'>\n",
      "RangeIndex: 186479 entries, 0 to 186478\n",
      "Data columns (total 6 columns):\n",
      "userID      186479 non-null int64\n",
      "artistID    186479 non-null int64\n",
      "tagID       186479 non-null int64\n",
      "day         186479 non-null int64\n",
      "month       186479 non-null int64\n",
      "year        186479 non-null int64\n",
      "dtypes: int64(6)\n",
      "memory usage: 8.5 MB\n",
      "None \n",
      "\n",
      "Unique:\n",
      "userID       1892\n",
      "artistID    12523\n",
      "tagID        9749\n",
      "day             4\n",
      "month          12\n",
      "year           10\n",
      "dtype: int64\n",
      "\n",
      "No duplicates: True\n",
      "\n",
      "**User Tagged Artists (Timestamp)** \n",
      "\n",
      "Shape: (186479, 4)\n",
      "\n",
      "Info:\n",
      "<class 'pandas.core.frame.DataFrame'>\n",
      "RangeIndex: 186479 entries, 0 to 186478\n",
      "Data columns (total 4 columns):\n",
      "userID       186479 non-null int64\n",
      "artistID     186479 non-null int64\n",
      "tagID        186479 non-null int64\n",
      "timestamp    186479 non-null int64\n",
      "dtypes: int64(4)\n",
      "memory usage: 5.7 MB\n",
      "None \n",
      "\n",
      "Unique:\n",
      "userID        1892\n",
      "artistID     12523\n",
      "tagID         9749\n",
      "timestamp     3549\n",
      "dtype: int64\n",
      "\n",
      "No duplicates: True\n",
      "\n",
      "**Friends** \n",
      "\n",
      "Shape: (25434, 2)\n",
      "\n",
      "Info:\n",
      "<class 'pandas.core.frame.DataFrame'>\n",
      "RangeIndex: 25434 entries, 0 to 25433\n",
      "Data columns (total 2 columns):\n",
      "userID      25434 non-null int64\n",
      "friendID    25434 non-null int64\n",
      "dtypes: int64(2)\n",
      "memory usage: 397.5 KB\n",
      "None \n",
      "\n",
      "Unique:\n",
      "userID      1892\n",
      "friendID    1892\n",
      "dtype: int64\n",
      "\n",
      "No duplicates: True\n",
      "\n"
     ]
    }
   ],
   "source": [
    "df_list = [plays, artists, tags, uta, utat, friends]\n",
    "df_name = ['**Plays**',\n",
    "           '**Artists**',\n",
    "           '**Tags**',\n",
    "           '**User Tagged Artists (Date)**',\n",
    "           '**User Tagged Artists (Timestamp)**',\n",
    "           '**Friends**']\n",
    "\n",
    "print_info(df_list,df_name)"
   ]
  },
  {
   "cell_type": "markdown",
   "metadata": {},
   "source": [
    "In total, we have:\n",
    "- 1,892 users\n",
    "- 17,632 artists\n",
    "- 92,834 artist/user plays\n",
    "- 11,946 tags\n",
    "- 186,479 tag assignments\n",
    "\n",
    "To build a collaborative recommender, we would primarily use the user_artists.dat file, which contains artist plays by user. We would use this information to build a sparse matrix with userID in the columns and artists in the rows, and mapping the listening patterns of each user to each artist. This would determine artist similarity based on usage patterns (\"plays\") of similar users.  If users who play the Beatles and Bob Dylan also often play the Rolling Stones, then these artists would be considered more similar and as such a user who enjoys the Beatles may be more reasonably recommended the Rolling Stones than a dissimilar artist, such as Snoop Dogg.     \n",
    "\n",
    "To build a content-based recommender, we would primarily use tags.dat, user_taggedartists.dat and/or user_taggedartists-timestamps.dat to determine artist similarity based on tags.  To address differing spellings of tags (such as \"rock\", \"rocking\" or \"rocks\"), we may consider word embeddings after certain processing, such as stemming/lemmatizing the words, which would reduce \"rock\", \"rocks\" or \"rocking\" to the stem rock.  \n",
    "\n",
    "We could also incorporate both sets of information into a hybrid recommender in an effort to achieve even greater recommendation accuracy.  \n",
    "\n",
    "The user_friends.dat file is less useful at this time, because just because someone is a friend does not mean they have similar listening patterns.  Friend playlists could be an interesting addition to our future recommendation system platform, but this data is unlikely to add any accuracy to the models we can construct from the data noted above.\n",
    "\n",
    "As such, with this data we have our choice of which recommender system to build.  In this analysis, we will build a **collaborative recommender system**, but leave the content-based or hybrid recommender options as key areas for development of a future version.  \n",
    "\n",
    "Now we will focus on our artist/user plays data to develop or collaborative recommender."
   ]
  },
  {
   "cell_type": "markdown",
   "metadata": {},
   "source": [
    "### Exploratory Data Analysis (EDA)\n",
    "\n",
    "Key features in our collaborative engine include:\n",
    "- userID\n",
    "- artistID, artistName\n",
    "- userPlays (plays by user of artist)\n",
    "\n",
    "So we have artist ID and name along with users and plays in a single file, we will merge our two primary data files into one:"
   ]
  },
  {
   "cell_type": "code",
   "execution_count": 5,
   "metadata": {},
   "outputs": [
    {
     "data": {
      "text/html": [
       "<div>\n",
       "<style scoped>\n",
       "    .dataframe tbody tr th:only-of-type {\n",
       "        vertical-align: middle;\n",
       "    }\n",
       "\n",
       "    .dataframe tbody tr th {\n",
       "        vertical-align: top;\n",
       "    }\n",
       "\n",
       "    .dataframe thead th {\n",
       "        text-align: right;\n",
       "    }\n",
       "</style>\n",
       "<table border=\"1\" class=\"dataframe\">\n",
       "  <thead>\n",
       "    <tr style=\"text-align: right;\">\n",
       "      <th></th>\n",
       "      <th>id</th>\n",
       "      <th>name</th>\n",
       "      <th>userID</th>\n",
       "      <th>artistID</th>\n",
       "      <th>userPlays</th>\n",
       "      <th>everPlayed</th>\n",
       "    </tr>\n",
       "  </thead>\n",
       "  <tbody>\n",
       "    <tr>\n",
       "      <th>0</th>\n",
       "      <td>1</td>\n",
       "      <td>MALICE MIZER</td>\n",
       "      <td>34</td>\n",
       "      <td>1</td>\n",
       "      <td>212</td>\n",
       "      <td>1</td>\n",
       "    </tr>\n",
       "    <tr>\n",
       "      <th>1</th>\n",
       "      <td>1</td>\n",
       "      <td>MALICE MIZER</td>\n",
       "      <td>274</td>\n",
       "      <td>1</td>\n",
       "      <td>483</td>\n",
       "      <td>1</td>\n",
       "    </tr>\n",
       "    <tr>\n",
       "      <th>2</th>\n",
       "      <td>1</td>\n",
       "      <td>MALICE MIZER</td>\n",
       "      <td>785</td>\n",
       "      <td>1</td>\n",
       "      <td>76</td>\n",
       "      <td>1</td>\n",
       "    </tr>\n",
       "    <tr>\n",
       "      <th>3</th>\n",
       "      <td>2</td>\n",
       "      <td>Diary of Dreams</td>\n",
       "      <td>135</td>\n",
       "      <td>2</td>\n",
       "      <td>1021</td>\n",
       "      <td>1</td>\n",
       "    </tr>\n",
       "    <tr>\n",
       "      <th>4</th>\n",
       "      <td>2</td>\n",
       "      <td>Diary of Dreams</td>\n",
       "      <td>257</td>\n",
       "      <td>2</td>\n",
       "      <td>152</td>\n",
       "      <td>1</td>\n",
       "    </tr>\n",
       "  </tbody>\n",
       "</table>\n",
       "</div>"
      ],
      "text/plain": [
       "   id             name  userID  artistID  userPlays  everPlayed\n",
       "0   1     MALICE MIZER      34         1        212           1\n",
       "1   1     MALICE MIZER     274         1        483           1\n",
       "2   1     MALICE MIZER     785         1         76           1\n",
       "3   2  Diary of Dreams     135         2       1021           1\n",
       "4   2  Diary of Dreams     257         2        152           1"
      ]
     },
     "execution_count": 5,
     "metadata": {},
     "output_type": "execute_result"
    }
   ],
   "source": [
    "ap = pd.merge(artists, \n",
    "                plays, \n",
    "                how='inner',\n",
    "                left_on='id',\n",
    "                right_on='artistID')\n",
    "\n",
    "ap = ap.rename(columns={\"weight\":\"userPlays\"})\n",
    "\n",
    "# adding a binary value for whether an artist has ever been played by a specific user\n",
    "ap['everPlayed'] = ap['userPlays'].apply(np.sign)\n",
    "\n",
    "ap.head()"
   ]
  },
  {
   "cell_type": "code",
   "execution_count": 6,
   "metadata": {},
   "outputs": [
    {
     "name": "stdout",
     "output_type": "stream",
     "text": [
      "**Artist Plays** \n",
      "\n",
      "Shape: (92834, 6)\n",
      "\n",
      "Info:\n",
      "<class 'pandas.core.frame.DataFrame'>\n",
      "Int64Index: 92834 entries, 0 to 92833\n",
      "Data columns (total 6 columns):\n",
      "id            92834 non-null int64\n",
      "name          92834 non-null object\n",
      "userID        92834 non-null int64\n",
      "artistID      92834 non-null int64\n",
      "userPlays     92834 non-null int64\n",
      "everPlayed    92834 non-null int64\n",
      "dtypes: int64(5), object(1)\n",
      "memory usage: 5.0+ MB\n",
      "None \n",
      "\n",
      "Unique:\n",
      "id            17632\n",
      "name          17632\n",
      "userID         1892\n",
      "artistID      17632\n",
      "userPlays      5436\n",
      "everPlayed        1\n",
      "dtype: int64\n",
      "\n",
      "Duplicates: False\n",
      "\n"
     ]
    }
   ],
   "source": [
    "# check stats of our combined file\n",
    "print_info([ap],['**Artist Plays**'])"
   ]
  },
  {
   "cell_type": "markdown",
   "metadata": {},
   "source": [
    "Key statistics include:\n",
    "    \n",
    "- 17,632 unique artist ID and name\n",
    "- 1,892 unique user ID\n",
    "- 92,834 total data points (one user's history can contain multiple artists)"
   ]
  },
  {
   "cell_type": "code",
   "execution_count": 7,
   "metadata": {},
   "outputs": [
    {
     "name": "stdout",
     "output_type": "stream",
     "text": [
      "69,183,975\n"
     ]
    }
   ],
   "source": [
    "# 69 million total plays\n",
    "print(\"{:,}\".format(ap['userPlays'].sum()))"
   ]
  },
  {
   "cell_type": "code",
   "execution_count": null,
   "metadata": {
    "collapsed": true
   },
   "outputs": [],
   "source": []
  },
  {
   "cell_type": "code",
   "execution_count": 8,
   "metadata": {
    "collapsed": true
   },
   "outputs": [],
   "source": [
    "# Determine total plays by artist\n",
    "ap2 = (ap.groupby(['name'])['userPlays'].sum().\n",
    "       sort_values(ascending=False).\n",
    "       reset_index().\n",
    "       rename(columns={\"userPlays\":\"totalArtistPlays\",\"name\":\"artist\"})\n",
    "       [['artist','totalArtistPlays']])"
   ]
  },
  {
   "cell_type": "code",
   "execution_count": 9,
   "metadata": {},
   "outputs": [
    {
     "data": {
      "text/html": [
       "<div>\n",
       "<style scoped>\n",
       "    .dataframe tbody tr th:only-of-type {\n",
       "        vertical-align: middle;\n",
       "    }\n",
       "\n",
       "    .dataframe tbody tr th {\n",
       "        vertical-align: top;\n",
       "    }\n",
       "\n",
       "    .dataframe thead th {\n",
       "        text-align: right;\n",
       "    }\n",
       "</style>\n",
       "<table border=\"1\" class=\"dataframe\">\n",
       "  <thead>\n",
       "    <tr style=\"text-align: right;\">\n",
       "      <th></th>\n",
       "      <th>artist</th>\n",
       "      <th>totalArtistPlays</th>\n",
       "    </tr>\n",
       "  </thead>\n",
       "  <tbody>\n",
       "    <tr>\n",
       "      <th>0</th>\n",
       "      <td>Britney Spears</td>\n",
       "      <td>2393140</td>\n",
       "    </tr>\n",
       "    <tr>\n",
       "      <th>1</th>\n",
       "      <td>Depeche Mode</td>\n",
       "      <td>1301308</td>\n",
       "    </tr>\n",
       "    <tr>\n",
       "      <th>2</th>\n",
       "      <td>Lady Gaga</td>\n",
       "      <td>1291387</td>\n",
       "    </tr>\n",
       "    <tr>\n",
       "      <th>3</th>\n",
       "      <td>Christina Aguilera</td>\n",
       "      <td>1058405</td>\n",
       "    </tr>\n",
       "    <tr>\n",
       "      <th>4</th>\n",
       "      <td>Paramore</td>\n",
       "      <td>963449</td>\n",
       "    </tr>\n",
       "  </tbody>\n",
       "</table>\n",
       "</div>"
      ],
      "text/plain": [
       "               artist  totalArtistPlays\n",
       "0      Britney Spears           2393140\n",
       "1        Depeche Mode           1301308\n",
       "2           Lady Gaga           1291387\n",
       "3  Christina Aguilera           1058405\n",
       "4            Paramore            963449"
      ]
     },
     "execution_count": 9,
     "metadata": {},
     "output_type": "execute_result"
    }
   ],
   "source": [
    "ap2.head()"
   ]
  },
  {
   "cell_type": "code",
   "execution_count": 10,
   "metadata": {},
   "outputs": [
    {
     "name": "stdout",
     "output_type": "stream",
     "text": [
      "artist              Britney Spears\n",
      "totalArtistPlays           2393140\n",
      "Name: 0, dtype: object\n"
     ]
    }
   ],
   "source": [
    "# Britney Spears is the most played at 2.4 million plays\n",
    "print(ap2.iloc[ap2['totalArtistPlays'].idxmax()])"
   ]
  },
  {
   "cell_type": "code",
   "execution_count": 11,
   "metadata": {
    "collapsed": true
   },
   "outputs": [],
   "source": [
    "# visually explore dataset with barcharts\n",
    "\n",
    "import matplotlib.ticker as ticker\n",
    "\n",
    "def bar_chart_int(x,y,x_label,y_label,title,caption,total_val):\n",
    "    fig, ax = plt.subplots()\n",
    "    fig.set_size_inches(16, 5)\n",
    "    ax = sns.barplot(x[:20], y[:20], palette=\"PuRd\")\n",
    "    ax.set_xlabel(x_label,fontweight='bold')\n",
    "    ax.set_ylabel(y_label,fontweight='bold')\n",
    "    ax.set_title(title,fontweight='bold')\n",
    "    ax.get_yaxis().set_major_formatter(ticker.FuncFormatter(lambda x, p: '{:,}'.format(int(x))))\n",
    "\n",
    "    for p in ax.patches:\n",
    "        height = p.get_height()\n",
    "        pct = 100*(height/total_val)\n",
    "        ax.text(p.get_x()+p.get_width()/2.,\n",
    "                height + 3,\n",
    "                '{:1.1f}%'.format(pct),\n",
    "                ha=\"center\",verticalalignment='bottom',color='black') \n",
    "\n",
    "    ax.text(19, max(y[:20])*0.95, caption, style='italic',fontsize=12,horizontalalignment='right')\n",
    "\n",
    "    plt.xticks(rotation=90)\n",
    "    plt.show()       "
   ]
  },
  {
   "cell_type": "code",
   "execution_count": 12,
   "metadata": {},
   "outputs": [
    {
     "data": {
      "image/png": "[encoded data removed]",
      "text/plain": [
       "<Figure size 1152x360 with 1 Axes>"
      ]
     },
     "metadata": {},
     "output_type": "display_data"
    }
   ],
   "source": [
    "x = ap2.artist\n",
    "y = ap2.totalArtistPlays\n",
    "x_label = 'Artist Name'\n",
    "y_label = 'Total Artist Plays'\n",
    "title = 'Total Plays by Artist'\n",
    "caption = 'Percentages are of total plays'\n",
    "total_val = ap2.totalArtistPlays.sum()\n",
    "\n",
    "bar_chart_int(x,y,x_label,y_label,title,caption,total_val)"
   ]
  },
  {
   "cell_type": "code",
   "execution_count": 13,
   "metadata": {},
   "outputs": [
    {
     "name": "stdout",
     "output_type": "stream",
     "text": [
      "      artist  totalArtistPlays\n",
      "2  Lady Gaga           1291387\n"
     ]
    }
   ],
   "source": [
    "print(ap2[ap2['artist']=='Lady Gaga'])"
   ]
  },
  {
   "cell_type": "code",
   "execution_count": 14,
   "metadata": {},
   "outputs": [
    {
     "name": "stdout",
     "output_type": "stream",
     "text": [
      "       artist  totalArtistPlays\n",
      "250  Bon Jovi             43252\n"
     ]
    }
   ],
   "source": [
    "print(ap2[ap2['artist']=='Bon Jovi'])"
   ]
  },
  {
   "cell_type": "code",
   "execution_count": 15,
   "metadata": {},
   "outputs": [
    {
     "data": {
      "text/html": [
       "<div>\n",
       "<style scoped>\n",
       "    .dataframe tbody tr th:only-of-type {\n",
       "        vertical-align: middle;\n",
       "    }\n",
       "\n",
       "    .dataframe tbody tr th {\n",
       "        vertical-align: top;\n",
       "    }\n",
       "\n",
       "    .dataframe thead th {\n",
       "        text-align: right;\n",
       "    }\n",
       "</style>\n",
       "<table border=\"1\" class=\"dataframe\">\n",
       "  <thead>\n",
       "    <tr style=\"text-align: right;\">\n",
       "      <th></th>\n",
       "      <th>id</th>\n",
       "      <th>name</th>\n",
       "      <th>userID</th>\n",
       "      <th>artistID</th>\n",
       "      <th>userPlays</th>\n",
       "      <th>everPlayed</th>\n",
       "    </tr>\n",
       "  </thead>\n",
       "  <tbody>\n",
       "    <tr>\n",
       "      <th>0</th>\n",
       "      <td>1</td>\n",
       "      <td>MALICE MIZER</td>\n",
       "      <td>34</td>\n",
       "      <td>1</td>\n",
       "      <td>212</td>\n",
       "      <td>1</td>\n",
       "    </tr>\n",
       "    <tr>\n",
       "      <th>1</th>\n",
       "      <td>1</td>\n",
       "      <td>MALICE MIZER</td>\n",
       "      <td>274</td>\n",
       "      <td>1</td>\n",
       "      <td>483</td>\n",
       "      <td>1</td>\n",
       "    </tr>\n",
       "    <tr>\n",
       "      <th>2</th>\n",
       "      <td>1</td>\n",
       "      <td>MALICE MIZER</td>\n",
       "      <td>785</td>\n",
       "      <td>1</td>\n",
       "      <td>76</td>\n",
       "      <td>1</td>\n",
       "    </tr>\n",
       "    <tr>\n",
       "      <th>3</th>\n",
       "      <td>2</td>\n",
       "      <td>Diary of Dreams</td>\n",
       "      <td>135</td>\n",
       "      <td>2</td>\n",
       "      <td>1021</td>\n",
       "      <td>1</td>\n",
       "    </tr>\n",
       "    <tr>\n",
       "      <th>4</th>\n",
       "      <td>2</td>\n",
       "      <td>Diary of Dreams</td>\n",
       "      <td>257</td>\n",
       "      <td>2</td>\n",
       "      <td>152</td>\n",
       "      <td>1</td>\n",
       "    </tr>\n",
       "  </tbody>\n",
       "</table>\n",
       "</div>"
      ],
      "text/plain": [
       "   id             name  userID  artistID  userPlays  everPlayed\n",
       "0   1     MALICE MIZER      34         1        212           1\n",
       "1   1     MALICE MIZER     274         1        483           1\n",
       "2   1     MALICE MIZER     785         1         76           1\n",
       "3   2  Diary of Dreams     135         2       1021           1\n",
       "4   2  Diary of Dreams     257         2        152           1"
      ]
     },
     "execution_count": 15,
     "metadata": {},
     "output_type": "execute_result"
    }
   ],
   "source": [
    "# ap['everPlayed'] = ap['userPlays'].apply(np.sign)\n",
    "ap.head()"
   ]
  },
  {
   "cell_type": "code",
   "execution_count": 16,
   "metadata": {
    "collapsed": true
   },
   "outputs": [],
   "source": [
    "ap3 = (ap.groupby(['name']).\n",
    "       sum().\n",
    "       reset_index().\n",
    "       sort_values(['everPlayed'],ascending=False)\n",
    "       [['name','everPlayed']])"
   ]
  },
  {
   "cell_type": "code",
   "execution_count": 17,
   "metadata": {},
   "outputs": [
    {
     "data": {
      "text/html": [
       "<div>\n",
       "<style scoped>\n",
       "    .dataframe tbody tr th:only-of-type {\n",
       "        vertical-align: middle;\n",
       "    }\n",
       "\n",
       "    .dataframe tbody tr th {\n",
       "        vertical-align: top;\n",
       "    }\n",
       "\n",
       "    .dataframe thead th {\n",
       "        text-align: right;\n",
       "    }\n",
       "</style>\n",
       "<table border=\"1\" class=\"dataframe\">\n",
       "  <thead>\n",
       "    <tr style=\"text-align: right;\">\n",
       "      <th></th>\n",
       "      <th>name</th>\n",
       "      <th>everPlayed</th>\n",
       "    </tr>\n",
       "  </thead>\n",
       "  <tbody>\n",
       "    <tr>\n",
       "      <th>8352</th>\n",
       "      <td>Lady Gaga</td>\n",
       "      <td>611</td>\n",
       "    </tr>\n",
       "    <tr>\n",
       "      <th>2336</th>\n",
       "      <td>Britney Spears</td>\n",
       "      <td>522</td>\n",
       "    </tr>\n",
       "    <tr>\n",
       "      <th>12072</th>\n",
       "      <td>Rihanna</td>\n",
       "      <td>484</td>\n",
       "    </tr>\n",
       "    <tr>\n",
       "      <th>14109</th>\n",
       "      <td>The Beatles</td>\n",
       "      <td>480</td>\n",
       "    </tr>\n",
       "    <tr>\n",
       "      <th>7913</th>\n",
       "      <td>Katy Perry</td>\n",
       "      <td>473</td>\n",
       "    </tr>\n",
       "  </tbody>\n",
       "</table>\n",
       "</div>"
      ],
      "text/plain": [
       "                 name  everPlayed\n",
       "8352        Lady Gaga         611\n",
       "2336   Britney Spears         522\n",
       "12072         Rihanna         484\n",
       "14109     The Beatles         480\n",
       "7913       Katy Perry         473"
      ]
     },
     "execution_count": 17,
     "metadata": {},
     "output_type": "execute_result"
    }
   ],
   "source": [
    "ap3.head()"
   ]
  },
  {
   "cell_type": "code",
   "execution_count": 18,
   "metadata": {},
   "outputs": [
    {
     "data": {
      "image/png": "[encoded data removed]",
      "text/plain": [
       "<Figure size 1152x360 with 1 Axes>"
      ]
     },
     "metadata": {},
     "output_type": "display_data"
    }
   ],
   "source": [
    "# Lady Gaga has been played by 32.3% of the users in the sample\n",
    "x = ap3.name\n",
    "y = ap3.everPlayed\n",
    "x_label = 'Artist Name'\n",
    "y_label = 'Unique Users Played'\n",
    "title = 'Unique Users per Artist'\n",
    "caption = 'Percentages are of total unique users'\n",
    "total_val = ap.userID.nunique()\n",
    "\n",
    "bar_chart_int(x,y,x_label,y_label,title,caption,total_val)"
   ]
  },
  {
   "cell_type": "code",
   "execution_count": 19,
   "metadata": {
    "collapsed": true
   },
   "outputs": [],
   "source": [
    "plays_user = (ap.groupby(['userID']).\n",
    "              sum().\n",
    "              reset_index().\n",
    "              sort_values(['userPlays'],ascending=False)\n",
    "              [['userID','userPlays']])"
   ]
  },
  {
   "cell_type": "code",
   "execution_count": 20,
   "metadata": {},
   "outputs": [
    {
     "data": {
      "image/png": "[encoded data removed]",
      "text/plain": [
       "<Figure size 1152x360 with 1 Axes>"
      ]
     },
     "metadata": {},
     "output_type": "display_data"
    }
   ],
   "source": [
    "plays_user.userID = plays_user.userID.apply(lambda x: '#'+str(x))\n",
    "\n",
    "x = plays_user.userID\n",
    "y = plays_user.userPlays\n",
    "x_label = 'User'\n",
    "y_label = 'Plays per User'\n",
    "title = 'Total Plays per User'\n",
    "caption = 'Percentages are of total plays'\n",
    "total_val = ap.userPlays.sum()\n",
    "\n",
    "bar_chart_int(x,y,x_label,y_label,title,caption,total_val)"
   ]
  },
  {
   "cell_type": "code",
   "execution_count": 21,
   "metadata": {},
   "outputs": [
    {
     "data": {
      "text/html": [
       "<div>\n",
       "<style scoped>\n",
       "    .dataframe tbody tr th:only-of-type {\n",
       "        vertical-align: middle;\n",
       "    }\n",
       "\n",
       "    .dataframe tbody tr th {\n",
       "        vertical-align: top;\n",
       "    }\n",
       "\n",
       "    .dataframe thead th {\n",
       "        text-align: right;\n",
       "    }\n",
       "</style>\n",
       "<table border=\"1\" class=\"dataframe\">\n",
       "  <thead>\n",
       "    <tr style=\"text-align: right;\">\n",
       "      <th></th>\n",
       "      <th>artist</th>\n",
       "      <th>totalArtistPlays</th>\n",
       "    </tr>\n",
       "  </thead>\n",
       "  <tbody>\n",
       "    <tr>\n",
       "      <th>0</th>\n",
       "      <td>Britney Spears</td>\n",
       "      <td>2393140</td>\n",
       "    </tr>\n",
       "    <tr>\n",
       "      <th>1</th>\n",
       "      <td>Depeche Mode</td>\n",
       "      <td>1301308</td>\n",
       "    </tr>\n",
       "    <tr>\n",
       "      <th>2</th>\n",
       "      <td>Lady Gaga</td>\n",
       "      <td>1291387</td>\n",
       "    </tr>\n",
       "    <tr>\n",
       "      <th>3</th>\n",
       "      <td>Christina Aguilera</td>\n",
       "      <td>1058405</td>\n",
       "    </tr>\n",
       "    <tr>\n",
       "      <th>4</th>\n",
       "      <td>Paramore</td>\n",
       "      <td>963449</td>\n",
       "    </tr>\n",
       "  </tbody>\n",
       "</table>\n",
       "</div>"
      ],
      "text/plain": [
       "               artist  totalArtistPlays\n",
       "0      Britney Spears           2393140\n",
       "1        Depeche Mode           1301308\n",
       "2           Lady Gaga           1291387\n",
       "3  Christina Aguilera           1058405\n",
       "4            Paramore            963449"
      ]
     },
     "execution_count": 21,
     "metadata": {},
     "output_type": "execute_result"
    }
   ],
   "source": [
    "ap2.head()"
   ]
  },
  {
   "cell_type": "code",
   "execution_count": 22,
   "metadata": {
    "collapsed": true
   },
   "outputs": [],
   "source": [
    "ap4 = pd.merge(ap2,ap3, how='inner',left_on='artist',right_on='name')\n",
    "ap4['playsPerUser'] = ap4['totalArtistPlays']/ap4['everPlayed']\n",
    "ap4 = ap4.sort_values(['totalArtistPlays'],ascending=False)"
   ]
  },
  {
   "cell_type": "code",
   "execution_count": 23,
   "metadata": {},
   "outputs": [
    {
     "data": {
      "image/png": "[encoded data removed]",
      "text/plain": [
       "<Figure size 1152x360 with 1 Axes>"
      ]
     },
     "metadata": {},
     "output_type": "display_data"
    }
   ],
   "source": [
    "# Viking Quest has few unique user plays, but those that play them are dedicated\n",
    "# with an average of 35,000 plays per user\n",
    "ap5 = ap4.sort_values(['playsPerUser'],ascending=False)\n",
    "\n",
    "x = ap5.artist\n",
    "y = ap5.playsPerUser\n",
    "x_label = 'Artist Name'\n",
    "y_label = 'Average Plays per User'\n",
    "title = 'Top Plays per User'\n",
    "caption = 'Percentages are of percent of total plays'\n",
    "total_val = ap.userPlays.sum()\n",
    "\n",
    "bar_chart_int(x,y,x_label,y_label,title,caption,total_val)"
   ]
  },
  {
   "cell_type": "code",
   "execution_count": 24,
   "metadata": {},
   "outputs": [
    {
     "data": {
      "image/png": "[encoded data removed]",
      "text/plain": [
       "<Figure size 1152x360 with 1 Axes>"
      ]
     },
     "metadata": {},
     "output_type": "display_data"
    }
   ],
   "source": [
    "# Only including top names, most dedicated fans belong to Depeche Mode and Britney Spears\n",
    "ap6 = ap4[:20].sort_values(['playsPerUser'],ascending=False)\n",
    "\n",
    "x = ap6.artist\n",
    "y = ap6.playsPerUser\n",
    "x_label = 'Artist Name'\n",
    "y_label = 'Average Plays per User'\n",
    "title = 'Top Plays per User'\n",
    "caption = 'Percentages are of percent of total plays'\n",
    "total_val = ap.userPlays.sum()\n",
    "\n",
    "bar_chart_int(x,y,x_label,y_label,title,caption,total_val)"
   ]
  },
  {
   "cell_type": "code",
   "execution_count": 25,
   "metadata": {},
   "outputs": [
    {
     "data": {
      "text/plain": [
       "count     17632.000\n",
       "mean       3923.774\n",
       "std       34099.342\n",
       "min           1.000\n",
       "25%         113.000\n",
       "50%         350.000\n",
       "75%        1234.250\n",
       "max     2393140.000\n",
       "Name: totalArtistPlays, dtype: float64"
      ]
     },
     "execution_count": 25,
     "metadata": {},
     "output_type": "execute_result"
    }
   ],
   "source": [
    "ap2['totalArtistPlays'].describe()"
   ]
  },
  {
   "cell_type": "code",
   "execution_count": 26,
   "metadata": {},
   "outputs": [
    {
     "data": {
      "text/plain": [
       "0.900    4645.400\n",
       "0.910    5350.680\n",
       "0.920    6193.000\n",
       "0.930    7320.640\n",
       "0.940    8685.280\n",
       "0.950   10693.400\n",
       "0.960   14257.800\n",
       "0.970   18969.740\n",
       "0.980   30137.940\n",
       "0.990   60096.010\n",
       "Name: totalArtistPlays, dtype: float64"
      ]
     },
     "execution_count": 26,
     "metadata": {},
     "output_type": "execute_result"
    }
   ],
   "source": [
    "# artists at the 95th percentile are played ~10,000 times\n",
    "# we will use this information to set the popularity threshold below\n",
    "# we may want to focus on the most popular artists to reduce noise\n",
    "# and improve accuracy\n",
    "ap2['totalArtistPlays'].quantile(np.arange(.9,1.,.01))"
   ]
  },
  {
   "cell_type": "markdown",
   "metadata": {},
   "source": [
    "Our basic recommender will be a collaborative recommender system, where we essentially build a sparse matrix comparing artist plays (rows) by user (columns). This data will then be passed through a latent mapping algorithm, K-nearest neighbors, to determine cosine similarity amongst the user/artist relationships.  This will help us determine which artists are most similar.  For instance, when a user plays the Beatles, they also have a high probability of playing the Rolling Stones.  "
   ]
  },
  {
   "cell_type": "markdown",
   "metadata": {},
   "source": [
    "### Import model packages"
   ]
  },
  {
   "cell_type": "code",
   "execution_count": 27,
   "metadata": {
    "collapsed": true
   },
   "outputs": [],
   "source": [
    "# Compressed Sparse Row (\"CSR\") matrix\n",
    "from scipy.sparse import csr_matrix \n",
    "\n",
    "# use K-Nearest Neighbors to find cosine distance amongst artists\n",
    "from sklearn.neighbors import NearestNeighbors\n",
    "\n",
    "# fuzzy string matching to allow for differing spelling of artist names\n",
    "from fuzzywuzzy import fuzz"
   ]
  },
  {
   "cell_type": "markdown",
   "metadata": {},
   "source": [
    "### Prepare Sparse Matrix"
   ]
  },
  {
   "cell_type": "code",
   "execution_count": 28,
   "metadata": {
    "collapsed": true
   },
   "outputs": [],
   "source": [
    "# merge plays by artist with plays by user\n",
    "user_artist_plays = ap.merge(ap2, \n",
    "                             left_on='name',\n",
    "                             right_on='artist',\n",
    "                             how='left')[['userID',\n",
    "                                          'artist',\n",
    "                                          'userPlays',\n",
    "                                          'totalArtistPlays']]\n",
    "\n",
    "# confirm no duplicate rows\n",
    "assert (user_artist_plays[user_artist_plays.\n",
    "                         duplicated(['userID','artist'])].\n",
    "                         empty)"
   ]
  },
  {
   "cell_type": "code",
   "execution_count": 29,
   "metadata": {
    "collapsed": true
   },
   "outputs": [],
   "source": [
    "popularity_threshold = 10000 # 95th percentile at ~10,000 plays\n",
    "uap_top = (user_artist_plays[user_artist_plays['totalArtistPlays']>\n",
    "                             popularity_threshold].\n",
    "                             sort_values(['userID','userPlays'],\n",
    "                             ascending=False))"
   ]
  },
  {
   "cell_type": "code",
   "execution_count": 30,
   "metadata": {},
   "outputs": [
    {
     "name": "stdout",
     "output_type": "stream",
     "text": [
      "(53861, 4)\n"
     ]
    },
    {
     "data": {
      "text/html": [
       "<div>\n",
       "<style scoped>\n",
       "    .dataframe tbody tr th:only-of-type {\n",
       "        vertical-align: middle;\n",
       "    }\n",
       "\n",
       "    .dataframe tbody tr th {\n",
       "        vertical-align: top;\n",
       "    }\n",
       "\n",
       "    .dataframe thead th {\n",
       "        text-align: right;\n",
       "    }\n",
       "</style>\n",
       "<table border=\"1\" class=\"dataframe\">\n",
       "  <thead>\n",
       "    <tr style=\"text-align: right;\">\n",
       "      <th></th>\n",
       "      <th>userID</th>\n",
       "      <th>artist</th>\n",
       "      <th>userPlays</th>\n",
       "      <th>totalArtistPlays</th>\n",
       "    </tr>\n",
       "  </thead>\n",
       "  <tbody>\n",
       "    <tr>\n",
       "      <th>44041</th>\n",
       "      <td>2100</td>\n",
       "      <td>Yann Tiersen</td>\n",
       "      <td>1333</td>\n",
       "      <td>43972</td>\n",
       "    </tr>\n",
       "    <tr>\n",
       "      <th>36701</th>\n",
       "      <td>2100</td>\n",
       "      <td>Eluveitie</td>\n",
       "      <td>762</td>\n",
       "      <td>11244</td>\n",
       "    </tr>\n",
       "    <tr>\n",
       "      <th>36813</th>\n",
       "      <td>2100</td>\n",
       "      <td>Slayer</td>\n",
       "      <td>553</td>\n",
       "      <td>62107</td>\n",
       "    </tr>\n",
       "    <tr>\n",
       "      <th>55016</th>\n",
       "      <td>2099</td>\n",
       "      <td>Flying Lotus</td>\n",
       "      <td>410</td>\n",
       "      <td>13178</td>\n",
       "    </tr>\n",
       "    <tr>\n",
       "      <th>60187</th>\n",
       "      <td>2099</td>\n",
       "      <td>Bonobo</td>\n",
       "      <td>397</td>\n",
       "      <td>14601</td>\n",
       "    </tr>\n",
       "  </tbody>\n",
       "</table>\n",
       "</div>"
      ],
      "text/plain": [
       "       userID        artist  userPlays  totalArtistPlays\n",
       "44041    2100  Yann Tiersen       1333             43972\n",
       "36701    2100     Eluveitie        762             11244\n",
       "36813    2100        Slayer        553             62107\n",
       "55016    2099  Flying Lotus        410             13178\n",
       "60187    2099        Bonobo        397             14601"
      ]
     },
     "execution_count": 30,
     "metadata": {},
     "output_type": "execute_result"
    }
   ],
   "source": [
    "print(uap_top.shape)\n",
    "uap_top.head()"
   ]
  },
  {
   "cell_type": "code",
   "execution_count": 31,
   "metadata": {},
   "outputs": [
    {
     "data": {
      "text/plain": [
       "userID    1871\n",
       "artist     943\n",
       "dtype: int64"
      ]
     },
     "execution_count": 31,
     "metadata": {},
     "output_type": "execute_result"
    }
   ],
   "source": [
    "uap_top[['userID','artist']].nunique()"
   ]
  },
  {
   "cell_type": "code",
   "execution_count": 32,
   "metadata": {},
   "outputs": [
    {
     "name": "stdout",
     "output_type": "stream",
     "text": [
      "5.35%\n"
     ]
    }
   ],
   "source": [
    "# with threshold at 95th percentile this would show the 5% of artists\n",
    "# we are including in our engine\n",
    "print(\"{:.2f}%\".format(100*(uap_top.artist.nunique()/ap.name.nunique())))"
   ]
  },
  {
   "cell_type": "code",
   "execution_count": 33,
   "metadata": {},
   "outputs": [
    {
     "name": "stdout",
     "output_type": "stream",
     "text": [
      "98.89%\n"
     ]
    }
   ],
   "source": [
    "# Our revised analysis still contains almost all original users\n",
    "print(\"{:.2f}%\".format(100*(uap_top.userID.nunique()/ap.userID.nunique())))"
   ]
  },
  {
   "cell_type": "code",
   "execution_count": 34,
   "metadata": {},
   "outputs": [
    {
     "data": {
      "text/plain": [
       "(943, 1871)"
      ]
     },
     "execution_count": 34,
     "metadata": {},
     "output_type": "execute_result"
    }
   ],
   "source": [
    "# fit data into a sparse matrix of artist name (row) vs user (column)\n",
    "# in terms of number of plays by artist/user\n",
    "pivot_uapt = uap_top.pivot(index='artist',columns='userID',values='userPlays').fillna(0)\n",
    "sparse_uapt = csr_matrix(pivot_uapt.values)\n",
    "sparse_uapt.shape"
   ]
  },
  {
   "cell_type": "code",
   "execution_count": 35,
   "metadata": {},
   "outputs": [
    {
     "data": {
      "text/plain": [
       "NearestNeighbors(algorithm='auto', leaf_size=30, metric='cosine',\n",
       "         metric_params=None, n_jobs=1, n_neighbors=5, p=2, radius=1.0)"
      ]
     },
     "execution_count": 35,
     "metadata": {},
     "output_type": "execute_result"
    }
   ],
   "source": [
    "# Use K Nearest Neighbors to determine cosine distance amongst artists\n",
    "knn = NearestNeighbors(metric='cosine')\n",
    "knn.fit(sparse_uapt)"
   ]
  },
  {
   "cell_type": "markdown",
   "metadata": {},
   "source": [
    "### Query by Index Position"
   ]
  },
  {
   "cell_type": "code",
   "execution_count": 36,
   "metadata": {},
   "outputs": [
    {
     "data": {
      "text/html": [
       "<div>\n",
       "<style scoped>\n",
       "    .dataframe tbody tr th:only-of-type {\n",
       "        vertical-align: middle;\n",
       "    }\n",
       "\n",
       "    .dataframe tbody tr th {\n",
       "        vertical-align: top;\n",
       "    }\n",
       "\n",
       "    .dataframe thead th {\n",
       "        text-align: right;\n",
       "    }\n",
       "</style>\n",
       "<table border=\"1\" class=\"dataframe\">\n",
       "  <thead>\n",
       "    <tr style=\"text-align: right;\">\n",
       "      <th>userID</th>\n",
       "      <th>2</th>\n",
       "      <th>3</th>\n",
       "      <th>4</th>\n",
       "      <th>5</th>\n",
       "      <th>6</th>\n",
       "      <th>7</th>\n",
       "      <th>8</th>\n",
       "      <th>9</th>\n",
       "      <th>10</th>\n",
       "      <th>11</th>\n",
       "      <th>...</th>\n",
       "      <th>2090</th>\n",
       "      <th>2091</th>\n",
       "      <th>2092</th>\n",
       "      <th>2093</th>\n",
       "      <th>2094</th>\n",
       "      <th>2095</th>\n",
       "      <th>2096</th>\n",
       "      <th>2097</th>\n",
       "      <th>2099</th>\n",
       "      <th>2100</th>\n",
       "    </tr>\n",
       "    <tr>\n",
       "      <th>artist</th>\n",
       "      <th></th>\n",
       "      <th></th>\n",
       "      <th></th>\n",
       "      <th></th>\n",
       "      <th></th>\n",
       "      <th></th>\n",
       "      <th></th>\n",
       "      <th></th>\n",
       "      <th></th>\n",
       "      <th></th>\n",
       "      <th></th>\n",
       "      <th></th>\n",
       "      <th></th>\n",
       "      <th></th>\n",
       "      <th></th>\n",
       "      <th></th>\n",
       "      <th></th>\n",
       "      <th></th>\n",
       "      <th></th>\n",
       "      <th></th>\n",
       "      <th></th>\n",
       "    </tr>\n",
       "  </thead>\n",
       "  <tbody>\n",
       "    <tr>\n",
       "      <th>*NSYNC</th>\n",
       "      <td>0.000</td>\n",
       "      <td>0.000</td>\n",
       "      <td>0.000</td>\n",
       "      <td>0.000</td>\n",
       "      <td>0.000</td>\n",
       "      <td>0.000</td>\n",
       "      <td>0.000</td>\n",
       "      <td>0.000</td>\n",
       "      <td>0.000</td>\n",
       "      <td>1567.000</td>\n",
       "      <td>...</td>\n",
       "      <td>0.000</td>\n",
       "      <td>0.000</td>\n",
       "      <td>0.000</td>\n",
       "      <td>0.000</td>\n",
       "      <td>0.000</td>\n",
       "      <td>0.000</td>\n",
       "      <td>0.000</td>\n",
       "      <td>0.000</td>\n",
       "      <td>0.000</td>\n",
       "      <td>0.000</td>\n",
       "    </tr>\n",
       "    <tr>\n",
       "      <th>2NE1</th>\n",
       "      <td>0.000</td>\n",
       "      <td>0.000</td>\n",
       "      <td>0.000</td>\n",
       "      <td>0.000</td>\n",
       "      <td>0.000</td>\n",
       "      <td>0.000</td>\n",
       "      <td>0.000</td>\n",
       "      <td>290.000</td>\n",
       "      <td>0.000</td>\n",
       "      <td>0.000</td>\n",
       "      <td>...</td>\n",
       "      <td>0.000</td>\n",
       "      <td>0.000</td>\n",
       "      <td>0.000</td>\n",
       "      <td>0.000</td>\n",
       "      <td>0.000</td>\n",
       "      <td>0.000</td>\n",
       "      <td>0.000</td>\n",
       "      <td>0.000</td>\n",
       "      <td>0.000</td>\n",
       "      <td>0.000</td>\n",
       "    </tr>\n",
       "    <tr>\n",
       "      <th>2Pac</th>\n",
       "      <td>0.000</td>\n",
       "      <td>0.000</td>\n",
       "      <td>0.000</td>\n",
       "      <td>0.000</td>\n",
       "      <td>14.000</td>\n",
       "      <td>0.000</td>\n",
       "      <td>0.000</td>\n",
       "      <td>0.000</td>\n",
       "      <td>0.000</td>\n",
       "      <td>0.000</td>\n",
       "      <td>...</td>\n",
       "      <td>0.000</td>\n",
       "      <td>0.000</td>\n",
       "      <td>0.000</td>\n",
       "      <td>0.000</td>\n",
       "      <td>0.000</td>\n",
       "      <td>0.000</td>\n",
       "      <td>0.000</td>\n",
       "      <td>0.000</td>\n",
       "      <td>0.000</td>\n",
       "      <td>0.000</td>\n",
       "    </tr>\n",
       "    <tr>\n",
       "      <th>3 Doors Down</th>\n",
       "      <td>0.000</td>\n",
       "      <td>0.000</td>\n",
       "      <td>0.000</td>\n",
       "      <td>0.000</td>\n",
       "      <td>0.000</td>\n",
       "      <td>0.000</td>\n",
       "      <td>0.000</td>\n",
       "      <td>0.000</td>\n",
       "      <td>0.000</td>\n",
       "      <td>514.000</td>\n",
       "      <td>...</td>\n",
       "      <td>0.000</td>\n",
       "      <td>0.000</td>\n",
       "      <td>0.000</td>\n",
       "      <td>0.000</td>\n",
       "      <td>0.000</td>\n",
       "      <td>0.000</td>\n",
       "      <td>0.000</td>\n",
       "      <td>0.000</td>\n",
       "      <td>0.000</td>\n",
       "      <td>0.000</td>\n",
       "    </tr>\n",
       "    <tr>\n",
       "      <th>30 Seconds to Mars</th>\n",
       "      <td>0.000</td>\n",
       "      <td>0.000</td>\n",
       "      <td>0.000</td>\n",
       "      <td>0.000</td>\n",
       "      <td>0.000</td>\n",
       "      <td>0.000</td>\n",
       "      <td>0.000</td>\n",
       "      <td>0.000</td>\n",
       "      <td>0.000</td>\n",
       "      <td>0.000</td>\n",
       "      <td>...</td>\n",
       "      <td>0.000</td>\n",
       "      <td>0.000</td>\n",
       "      <td>0.000</td>\n",
       "      <td>0.000</td>\n",
       "      <td>0.000</td>\n",
       "      <td>0.000</td>\n",
       "      <td>0.000</td>\n",
       "      <td>0.000</td>\n",
       "      <td>0.000</td>\n",
       "      <td>0.000</td>\n",
       "    </tr>\n",
       "  </tbody>\n",
       "</table>\n",
       "<p>5 rows × 1871 columns</p>\n",
       "</div>"
      ],
      "text/plain": [
       "userID              2     3     4     5      6     7     8       9     10    \\\n",
       "artist                                                                        \n",
       "*NSYNC             0.000 0.000 0.000 0.000  0.000 0.000 0.000   0.000 0.000   \n",
       "2NE1               0.000 0.000 0.000 0.000  0.000 0.000 0.000 290.000 0.000   \n",
       "2Pac               0.000 0.000 0.000 0.000 14.000 0.000 0.000   0.000 0.000   \n",
       "3 Doors Down       0.000 0.000 0.000 0.000  0.000 0.000 0.000   0.000 0.000   \n",
       "30 Seconds to Mars 0.000 0.000 0.000 0.000  0.000 0.000 0.000   0.000 0.000   \n",
       "\n",
       "userID                 11    ...   2090  2091  2092  2093  2094  2095  2096  \\\n",
       "artist                       ...                                              \n",
       "*NSYNC             1567.000  ...  0.000 0.000 0.000 0.000 0.000 0.000 0.000   \n",
       "2NE1                  0.000  ...  0.000 0.000 0.000 0.000 0.000 0.000 0.000   \n",
       "2Pac                  0.000  ...  0.000 0.000 0.000 0.000 0.000 0.000 0.000   \n",
       "3 Doors Down        514.000  ...  0.000 0.000 0.000 0.000 0.000 0.000 0.000   \n",
       "30 Seconds to Mars    0.000  ...  0.000 0.000 0.000 0.000 0.000 0.000 0.000   \n",
       "\n",
       "userID              2097  2099  2100  \n",
       "artist                                \n",
       "*NSYNC             0.000 0.000 0.000  \n",
       "2NE1               0.000 0.000 0.000  \n",
       "2Pac               0.000 0.000 0.000  \n",
       "3 Doors Down       0.000 0.000 0.000  \n",
       "30 Seconds to Mars 0.000 0.000 0.000  \n",
       "\n",
       "[5 rows x 1871 columns]"
      ]
     },
     "execution_count": 36,
     "metadata": {},
     "output_type": "execute_result"
    }
   ],
   "source": [
    "pivot_uapt.head()"
   ]
  },
  {
   "cell_type": "code",
   "execution_count": 37,
   "metadata": {
    "collapsed": true
   },
   "outputs": [],
   "source": [
    "def idx_recommend(data,idx,model,k):\n",
    "    distances, indices = (model.kneighbors(data.\n",
    "                                     iloc[idx,:].\n",
    "                                     values.reshape(1,-1),\n",
    "                                     n_neighbors=k+1))\n",
    "\n",
    "    for i in range(0,len(distances.flatten())):\n",
    "        if i == 0:\n",
    "            print(('Recommendations for {}:\\n'.\n",
    "                  format(data.index[idx])))\n",
    "        else:\n",
    "            print(('{}: {} ({:.3f})'.\n",
    "                  format(i,\n",
    "                         data.index[indices.flatten()[i]],\n",
    "                         distances.flatten()[i])))\n",
    "    print('\\nNote: cosine distance in parentheses.')"
   ]
  },
  {
   "cell_type": "code",
   "execution_count": 38,
   "metadata": {},
   "outputs": [
    {
     "name": "stdout",
     "output_type": "stream",
     "text": [
      "Recommendations for Belinda:\n",
      "\n",
      "1: Nelly Furtado (0.603)\n",
      "2: t.A.T.u. (0.693)\n",
      "3: Hilary Duff (0.706)\n",
      "4: Delta Goodrem (0.775)\n",
      "5: Lindsay Lohan (0.782)\n",
      "6: Blutengel (0.822)\n",
      "\n",
      "Note: cosine distance in parentheses.\n"
     ]
    }
   ],
   "source": [
    "query_index = seed.choice(pivot_uapt.shape[0])\n",
    "idx_recommend(pivot_uapt,query_index,knn,6)"
   ]
  },
  {
   "cell_type": "code",
   "execution_count": 39,
   "metadata": {},
   "outputs": [
    {
     "name": "stdout",
     "output_type": "stream",
     "text": [
      "Recommendations for 2Pac:\n",
      "\n",
      "1: Mobb Deep (0.543)\n",
      "2: Lloyd Banks (0.558)\n",
      "3: G-Unit (0.592)\n",
      "4: 50 Cent (0.593)\n",
      "5: Nas (0.606)\n",
      "6: Wu-Tang Clan (0.661)\n",
      "\n",
      "Note: cosine distance in parentheses.\n"
     ]
    }
   ],
   "source": [
    "query_index = 2\n",
    "idx_recommend(pivot_uapt,query_index,knn,6)"
   ]
  },
  {
   "cell_type": "markdown",
   "metadata": {},
   "source": [
    "### Query by Artist (using Fuzzy Matching)"
   ]
  },
  {
   "cell_type": "code",
   "execution_count": 40,
   "metadata": {
    "collapsed": true
   },
   "outputs": [],
   "source": [
    "tup_list = [[1,1],(2,1),(2,2),(1,3)]\n",
    "\n",
    "tup_list = sorted(tup_list, key=lambda tup: tup[0])"
   ]
  },
  {
   "cell_type": "code",
   "execution_count": 41,
   "metadata": {},
   "outputs": [
    {
     "data": {
      "text/plain": [
       "[[1, 1], (1, 3), (2, 1), (2, 2)]"
      ]
     },
     "execution_count": 41,
     "metadata": {},
     "output_type": "execute_result"
    }
   ],
   "source": [
    "tup_list"
   ]
  },
  {
   "cell_type": "code",
   "execution_count": 42,
   "metadata": {
    "collapsed": true
   },
   "outputs": [],
   "source": [
    "def artist_recommend(query_artist, data, model,k):\n",
    "    # determine artist matches using fuzzy matching\n",
    "    ratio_tuples = []\n",
    "    \n",
    "    for artist in data.index:\n",
    "        ratio = fuzz.ratio(artist.lower(),query_artist.lower())\n",
    "        current_query_idx = data.index.tolist().index(artist)\n",
    "        ratio_tuples.append((artist, ratio,current_query_idx))\n",
    "    ratio_tuples = sorted(ratio_tuples, key=lambda tup: tup[1],reverse=True)[:2]\n",
    "    \n",
    "    print('Top matches: {}\\n'.format([(x[0],x[1]) for x in ratio_tuples]))\n",
    "    \n",
    "    # look up artist by query index\n",
    "    idx_recommend(data, ratio_tuples[0][2],model,k)    "
   ]
  },
  {
   "cell_type": "code",
   "execution_count": 43,
   "metadata": {},
   "outputs": [
    {
     "name": "stdout",
     "output_type": "stream",
     "text": [
      "Top matches: [('Red Hot Chili Peppers', 100), ('Hot Chip', 55)]\n",
      "\n",
      "Recommendations for Red Hot Chili Peppers:\n",
      "\n",
      "1: The Offspring (0.568)\n",
      "2: Kreator (0.630)\n",
      "3: Mercyful Fate (0.692)\n",
      "4: John Frusciante (0.692)\n",
      "5: Neuro Dubel (0.693)\n",
      "6: Ennio Morricone (0.694)\n",
      "7: Рубль (0.695)\n",
      "8: In Extremo (0.696)\n",
      "9: Riverside (0.697)\n",
      "10: Katie Melua (0.701)\n",
      "\n",
      "Note: cosine distance in parentheses.\n"
     ]
    }
   ],
   "source": [
    "artist_recommend('red hot chili peppers',pivot_uapt,knn,10)"
   ]
  },
  {
   "cell_type": "markdown",
   "metadata": {},
   "source": [
    "### Convert weighted matrix to binary\n",
    "Binary classification consists of played (1) or not played (0)."
   ]
  },
  {
   "cell_type": "code",
   "execution_count": 44,
   "metadata": {
    "collapsed": true
   },
   "outputs": [],
   "source": [
    "buapt = pivot_uapt.apply(np.sign) # numpy sign returns 1 for all x > 0\n",
    "sparse_buapt = csr_matrix(buapt.values)"
   ]
  },
  {
   "cell_type": "code",
   "execution_count": 45,
   "metadata": {},
   "outputs": [
    {
     "data": {
      "text/html": [
       "<div>\n",
       "<style scoped>\n",
       "    .dataframe tbody tr th:only-of-type {\n",
       "        vertical-align: middle;\n",
       "    }\n",
       "\n",
       "    .dataframe tbody tr th {\n",
       "        vertical-align: top;\n",
       "    }\n",
       "\n",
       "    .dataframe thead th {\n",
       "        text-align: right;\n",
       "    }\n",
       "</style>\n",
       "<table border=\"1\" class=\"dataframe\">\n",
       "  <thead>\n",
       "    <tr style=\"text-align: right;\">\n",
       "      <th>userID</th>\n",
       "      <th>2</th>\n",
       "      <th>3</th>\n",
       "      <th>4</th>\n",
       "      <th>5</th>\n",
       "      <th>6</th>\n",
       "      <th>7</th>\n",
       "      <th>8</th>\n",
       "      <th>9</th>\n",
       "      <th>10</th>\n",
       "      <th>11</th>\n",
       "      <th>...</th>\n",
       "      <th>2090</th>\n",
       "      <th>2091</th>\n",
       "      <th>2092</th>\n",
       "      <th>2093</th>\n",
       "      <th>2094</th>\n",
       "      <th>2095</th>\n",
       "      <th>2096</th>\n",
       "      <th>2097</th>\n",
       "      <th>2099</th>\n",
       "      <th>2100</th>\n",
       "    </tr>\n",
       "    <tr>\n",
       "      <th>artist</th>\n",
       "      <th></th>\n",
       "      <th></th>\n",
       "      <th></th>\n",
       "      <th></th>\n",
       "      <th></th>\n",
       "      <th></th>\n",
       "      <th></th>\n",
       "      <th></th>\n",
       "      <th></th>\n",
       "      <th></th>\n",
       "      <th></th>\n",
       "      <th></th>\n",
       "      <th></th>\n",
       "      <th></th>\n",
       "      <th></th>\n",
       "      <th></th>\n",
       "      <th></th>\n",
       "      <th></th>\n",
       "      <th></th>\n",
       "      <th></th>\n",
       "      <th></th>\n",
       "    </tr>\n",
       "  </thead>\n",
       "  <tbody>\n",
       "    <tr>\n",
       "      <th>*NSYNC</th>\n",
       "      <td>0.000</td>\n",
       "      <td>0.000</td>\n",
       "      <td>0.000</td>\n",
       "      <td>0.000</td>\n",
       "      <td>0.000</td>\n",
       "      <td>0.000</td>\n",
       "      <td>0.000</td>\n",
       "      <td>0.000</td>\n",
       "      <td>0.000</td>\n",
       "      <td>1.000</td>\n",
       "      <td>...</td>\n",
       "      <td>0.000</td>\n",
       "      <td>0.000</td>\n",
       "      <td>0.000</td>\n",
       "      <td>0.000</td>\n",
       "      <td>0.000</td>\n",
       "      <td>0.000</td>\n",
       "      <td>0.000</td>\n",
       "      <td>0.000</td>\n",
       "      <td>0.000</td>\n",
       "      <td>0.000</td>\n",
       "    </tr>\n",
       "    <tr>\n",
       "      <th>2NE1</th>\n",
       "      <td>0.000</td>\n",
       "      <td>0.000</td>\n",
       "      <td>0.000</td>\n",
       "      <td>0.000</td>\n",
       "      <td>0.000</td>\n",
       "      <td>0.000</td>\n",
       "      <td>0.000</td>\n",
       "      <td>1.000</td>\n",
       "      <td>0.000</td>\n",
       "      <td>0.000</td>\n",
       "      <td>...</td>\n",
       "      <td>0.000</td>\n",
       "      <td>0.000</td>\n",
       "      <td>0.000</td>\n",
       "      <td>0.000</td>\n",
       "      <td>0.000</td>\n",
       "      <td>0.000</td>\n",
       "      <td>0.000</td>\n",
       "      <td>0.000</td>\n",
       "      <td>0.000</td>\n",
       "      <td>0.000</td>\n",
       "    </tr>\n",
       "    <tr>\n",
       "      <th>2Pac</th>\n",
       "      <td>0.000</td>\n",
       "      <td>0.000</td>\n",
       "      <td>0.000</td>\n",
       "      <td>0.000</td>\n",
       "      <td>1.000</td>\n",
       "      <td>0.000</td>\n",
       "      <td>0.000</td>\n",
       "      <td>0.000</td>\n",
       "      <td>0.000</td>\n",
       "      <td>0.000</td>\n",
       "      <td>...</td>\n",
       "      <td>0.000</td>\n",
       "      <td>0.000</td>\n",
       "      <td>0.000</td>\n",
       "      <td>0.000</td>\n",
       "      <td>0.000</td>\n",
       "      <td>0.000</td>\n",
       "      <td>0.000</td>\n",
       "      <td>0.000</td>\n",
       "      <td>0.000</td>\n",
       "      <td>0.000</td>\n",
       "    </tr>\n",
       "    <tr>\n",
       "      <th>3 Doors Down</th>\n",
       "      <td>0.000</td>\n",
       "      <td>0.000</td>\n",
       "      <td>0.000</td>\n",
       "      <td>0.000</td>\n",
       "      <td>0.000</td>\n",
       "      <td>0.000</td>\n",
       "      <td>0.000</td>\n",
       "      <td>0.000</td>\n",
       "      <td>0.000</td>\n",
       "      <td>1.000</td>\n",
       "      <td>...</td>\n",
       "      <td>0.000</td>\n",
       "      <td>0.000</td>\n",
       "      <td>0.000</td>\n",
       "      <td>0.000</td>\n",
       "      <td>0.000</td>\n",
       "      <td>0.000</td>\n",
       "      <td>0.000</td>\n",
       "      <td>0.000</td>\n",
       "      <td>0.000</td>\n",
       "      <td>0.000</td>\n",
       "    </tr>\n",
       "    <tr>\n",
       "      <th>30 Seconds to Mars</th>\n",
       "      <td>0.000</td>\n",
       "      <td>0.000</td>\n",
       "      <td>0.000</td>\n",
       "      <td>0.000</td>\n",
       "      <td>0.000</td>\n",
       "      <td>0.000</td>\n",
       "      <td>0.000</td>\n",
       "      <td>0.000</td>\n",
       "      <td>0.000</td>\n",
       "      <td>0.000</td>\n",
       "      <td>...</td>\n",
       "      <td>0.000</td>\n",
       "      <td>0.000</td>\n",
       "      <td>0.000</td>\n",
       "      <td>0.000</td>\n",
       "      <td>0.000</td>\n",
       "      <td>0.000</td>\n",
       "      <td>0.000</td>\n",
       "      <td>0.000</td>\n",
       "      <td>0.000</td>\n",
       "      <td>0.000</td>\n",
       "    </tr>\n",
       "  </tbody>\n",
       "</table>\n",
       "<p>5 rows × 1871 columns</p>\n",
       "</div>"
      ],
      "text/plain": [
       "userID              2     3     4     5     6     7     8     9     10    \\\n",
       "artist                                                                     \n",
       "*NSYNC             0.000 0.000 0.000 0.000 0.000 0.000 0.000 0.000 0.000   \n",
       "2NE1               0.000 0.000 0.000 0.000 0.000 0.000 0.000 1.000 0.000   \n",
       "2Pac               0.000 0.000 0.000 0.000 1.000 0.000 0.000 0.000 0.000   \n",
       "3 Doors Down       0.000 0.000 0.000 0.000 0.000 0.000 0.000 0.000 0.000   \n",
       "30 Seconds to Mars 0.000 0.000 0.000 0.000 0.000 0.000 0.000 0.000 0.000   \n",
       "\n",
       "userID              11    ...   2090  2091  2092  2093  2094  2095  2096  \\\n",
       "artist                    ...                                              \n",
       "*NSYNC             1.000  ...  0.000 0.000 0.000 0.000 0.000 0.000 0.000   \n",
       "2NE1               0.000  ...  0.000 0.000 0.000 0.000 0.000 0.000 0.000   \n",
       "2Pac               0.000  ...  0.000 0.000 0.000 0.000 0.000 0.000 0.000   \n",
       "3 Doors Down       1.000  ...  0.000 0.000 0.000 0.000 0.000 0.000 0.000   \n",
       "30 Seconds to Mars 0.000  ...  0.000 0.000 0.000 0.000 0.000 0.000 0.000   \n",
       "\n",
       "userID              2097  2099  2100  \n",
       "artist                                \n",
       "*NSYNC             0.000 0.000 0.000  \n",
       "2NE1               0.000 0.000 0.000  \n",
       "2Pac               0.000 0.000 0.000  \n",
       "3 Doors Down       0.000 0.000 0.000  \n",
       "30 Seconds to Mars 0.000 0.000 0.000  \n",
       "\n",
       "[5 rows x 1871 columns]"
      ]
     },
     "execution_count": 45,
     "metadata": {},
     "output_type": "execute_result"
    }
   ],
   "source": [
    "# Notice how all positive values have been replaced by 1s\n",
    "buapt.head()"
   ]
  },
  {
   "cell_type": "code",
   "execution_count": 46,
   "metadata": {},
   "outputs": [
    {
     "data": {
      "text/plain": [
       "NearestNeighbors(algorithm='auto', leaf_size=30, metric='cosine',\n",
       "         metric_params=None, n_jobs=1, n_neighbors=5, p=2, radius=1.0)"
      ]
     },
     "execution_count": 46,
     "metadata": {},
     "output_type": "execute_result"
    }
   ],
   "source": [
    "bknn = NearestNeighbors(metric='cosine')\n",
    "bknn.fit(sparse_buapt)"
   ]
  },
  {
   "cell_type": "code",
   "execution_count": 47,
   "metadata": {},
   "outputs": [
    {
     "name": "stdout",
     "output_type": "stream",
     "text": [
      "Top matches: [('Red Hot Chili Peppers', 76), ('Hot Chip', 67)]\n",
      "\n",
      "Recommendations for Red Hot Chili Peppers:\n",
      "\n",
      "1: Nirvana (0.653)\n",
      "2: Oasis (0.680)\n",
      "3: The Beatles (0.688)\n",
      "4: Foo Fighters (0.691)\n",
      "5: Muse (0.715)\n",
      "6: U2 (0.719)\n",
      "7: Radiohead (0.719)\n",
      "8: Green Day (0.725)\n",
      "9: Aerosmith (0.726)\n",
      "10: Pearl Jam (0.729)\n",
      "\n",
      "Note: cosine distance in parentheses.\n"
     ]
    }
   ],
   "source": [
    "artist_recommend('red hot chili',buapt,bknn,10)"
   ]
  },
  {
   "cell_type": "code",
   "execution_count": 48,
   "metadata": {},
   "outputs": [
    {
     "name": "stdout",
     "output_type": "stream",
     "text": [
      "Top matches: [('Korn', 100), ('Akon', 75)]\n",
      "\n",
      "Recommendations for Korn:\n",
      "\n",
      "1: Limp Bizkit (0.646)\n",
      "2: System of a Down (0.651)\n",
      "3: Slipknot (0.662)\n",
      "4: Deftones (0.701)\n",
      "5: Godsmack (0.702)\n",
      "6: Metallica (0.741)\n",
      "7: Stone Sour (0.744)\n",
      "8: Pantera (0.747)\n",
      "9: Rammstein (0.750)\n",
      "10: Marilyn Manson (0.752)\n",
      "\n",
      "Note: cosine distance in parentheses.\n"
     ]
    }
   ],
   "source": [
    "artist_recommend('korn',buapt,bknn,10)"
   ]
  },
  {
   "cell_type": "code",
   "execution_count": 49,
   "metadata": {},
   "outputs": [
    {
     "name": "stdout",
     "output_type": "stream",
     "text": [
      "Top matches: [('*NSYNC', 100), ('Hanson', 50)]\n",
      "\n",
      "Recommendations for *NSYNC:\n",
      "\n",
      "1: Backstreet Boys (0.524)\n",
      "2: Blue (0.625)\n",
      "3: Spice Girls (0.688)\n",
      "4: Westlife (0.697)\n",
      "5: Justin Timberlake (0.733)\n",
      "6: Madonna (0.767)\n",
      "7: Britney Spears (0.772)\n",
      "8: Jesse McCartney (0.773)\n",
      "9: The Pussycat Dolls (0.781)\n",
      "10: Destiny's Child (0.796)\n",
      "\n",
      "Note: cosine distance in parentheses.\n"
     ]
    }
   ],
   "source": [
    "artist_recommend('*NSYNC',buapt,bknn,10)"
   ]
  },
  {
   "cell_type": "code",
   "execution_count": 50,
   "metadata": {},
   "outputs": [
    {
     "name": "stdout",
     "output_type": "stream",
     "text": [
      "Top matches: [('Jimi Hendrix', 74), ('Phoenix', 71)]\n",
      "\n",
      "Recommendations for Jimi Hendrix:\n",
      "\n",
      "1: The Doors (0.655)\n",
      "2: Led Zeppelin (0.676)\n",
      "3: The Jimi Hendrix Experience (0.686)\n",
      "4: Pink Floyd (0.687)\n",
      "5: The Who (0.701)\n",
      "6: The Rolling Stones (0.708)\n",
      "7: Black Sabbath (0.713)\n",
      "8: Creedence Clearwater Revival (0.718)\n",
      "9: Janis Joplin (0.720)\n",
      "10: Deep Purple (0.726)\n",
      "\n",
      "Note: cosine distance in parentheses.\n"
     ]
    }
   ],
   "source": [
    "artist_recommend('Hendrix',buapt,bknn,10)"
   ]
  },
  {
   "cell_type": "code",
   "execution_count": 51,
   "metadata": {},
   "outputs": [
    {
     "name": "stdout",
     "output_type": "stream",
     "text": [
      "Top matches: [('Snoop Dogg', 67), ('Spoon', 60)]\n",
      "\n",
      "Recommendations for Snoop Dogg:\n",
      "\n",
      "1: Ice Cube (0.518)\n",
      "2: 2Pac (0.543)\n",
      "3: Lloyd Banks (0.606)\n",
      "4: DMX (0.623)\n",
      "5: G-Unit (0.659)\n",
      "6: Nas (0.679)\n",
      "7: Jay-Z (0.680)\n",
      "8: Busta Rhymes (0.686)\n",
      "9: D12 (0.699)\n",
      "10: Royce da 5'9\" (0.705)\n",
      "\n",
      "Note: cosine distance in parentheses.\n"
     ]
    }
   ],
   "source": [
    "artist_recommend('snoop',buapt,bknn,10)"
   ]
  },
  {
   "cell_type": "code",
   "execution_count": 52,
   "metadata": {},
   "outputs": [
    {
     "name": "stdout",
     "output_type": "stream",
     "text": [
      "Top matches: [('3 Doors Down', 86), ('The Doors', 67)]\n",
      "\n",
      "Recommendations for 3 Doors Down:\n",
      "\n",
      "1: Nickelback (0.681)\n",
      "2: Three Days Grace (0.714)\n",
      "3: Breaking Benjamin (0.740)\n",
      "4: Hoobastank (0.766)\n",
      "5: Evanescence (0.767)\n",
      "6: Daughtry (0.771)\n",
      "7: Papa Roach (0.786)\n",
      "8: Seether (0.800)\n",
      "9: Avenged Sevenfold (0.801)\n",
      "10: Good Charlotte (0.816)\n",
      "\n",
      "Note: cosine distance in parentheses.\n"
     ]
    }
   ],
   "source": [
    "artist_recommend('3 doors d',buapt,bknn,10)"
   ]
  },
  {
   "cell_type": "markdown",
   "metadata": {},
   "source": [
    "### Questions to ponder:\n",
    "**Ask yourself why would they have selected this problem for the challenge?**\n",
    "\n",
    "Recommender systems are a key application of machine learning which has significantly permeated our everyday lives.  Notable recommendation systems include those on the platforms of Amazon and Netflix, as well as LastFM (the source of this dataset).  \n",
    "\n",
    "Recommender systems assist the user in finding content that they may like that they would not have found otherwise.  They are also often used as search algorithms for non-traditional data.  \n",
    "\n",
    "**What are some gotchas in this domain I should know about?**\n",
    "\n",
    "Recommender systems exist in various forms, but the most notable include (1) collaborative, (2) content-based, and (3) hybrid of collaborative and content-based.  Collaborative filtering functions by comparing the behaviour of similar users.  If A and B liked movies X,Y and Z, and you like movies X and Y, then the system may recommend movie Z for you.  Content-based filter utilizes the features of the item to recommend similar items.  In music, if you like guitar acoustic music the system will recommend similarly structured music, such as same or near category (perhaps a ballad?).  Other forms of recommenders also exist, such as by popularity but in this form individual usage data is not taken into consideration.  \n",
    "\n",
    "\n",
    "**What is the highest level of accuracy that others have achieved with this dataset or similar problems / datasets ?**\n",
    "\n",
    "Recommender systems that score high in accuracy may not necessarily be useful systems, as the value of a recommender system is to propose items that you have not interacted with previously.  For instance, you may like Top 40 music.  If the recommender system only recommends top 40 music, it will score high accuracy but will never introduce you to music you have never heard before (assuming that you have already heard all the top 40 songs).  \n",
    "\n",
    "A recommender system could be evaluated based on:\n",
    "- Mean Average Precision (MAP) \n",
    "\n",
    "<img align=\"middle\" src=\"https://wikimedia.org/api/rest_v1/media/math/render/svg/decf93706ec7c8632fdfabe41470962101f9bcd8\" height=300 width=300><br>\n",
    "\n",
    "*Where Q is the number of queries (courtesy [Wikipedia](https://en.wikipedia.org/wiki/Evaluation_measures_%28information_retrieval%29)).*\n",
    "\n",
    "Other key factors to consider include:\n",
    "\n",
    "- Diversity: How dissimilar are the recommendations?\n",
    "- Coverage: What percentage of the user-item space can be recommended?\n",
    "- Serendipity: How surprising are the relevant recommendations?\n",
    "- Novelty: How surprising are the recommendations in general?\n",
    "- Relevancy: How relevant are the recommendations?\n",
    "\n",
    "_Based on responses of Quora discussion [here](https://www.quora.com/How-can-I-measure-the-accuracy-of-a-recommender-system)._\n",
    "\n",
    "\n",
    "**What types of visualizations will help me grasp the nature of the problem / data?**\n",
    "\n",
    "Although we only implement a collaborative filter in this analysis, taking a look at the greater dataset provided, including the tags, may provide insight into the data we are working with.  For instance, what are the top artists, and what tags/genres represent these artists?  Is the dataset well balanced with different types of data, such as different genres and artists?  \n",
    "\n",
    "\n",
    "**What feature engineering might help improve the signal?**\n",
    "\n",
    "In this analysis we took two steps to improve the signal within our results.  Firstly we implemented a popularity threshold where an artist required a certain number of plays to remain in the results (at the 95th percentile this was ~10,000 plays).  This is to remove noise and improve accuracy.  Further, rather than using the play count by user, we took a binary approach, as in whether a particular user played the artist (1) vs never played (0).  \n",
    "\n",
    "\n",
    "**Which modeling techniques are good at capturing the types of relationships I see in this data?**\n",
    "\n",
    "In this analysis we implemented K Nearest Neighbors to determine the cosine similarity distance amongst the artist in the datasets based on the underlying mapping of user play data in vector space.  This is one of many algorithms which can be used in recommendation systems.  \n",
    "Other distance metrics we could have used include Euclidean or Pearson Correlation Coefficient.\n",
    "\n",
    "Other neighborhood methods we could have used include \n",
    "\n",
    "[Other popular algorithms include:\n",
    "- SVD Matrix Factorization \n",
    "- Pearson Correlation Coefficient]\n",
    "\n",
    "\n",
    "**Now that I have a model, how can I be sure that I didn't introduce a bug in the code? If results are too good to be true, they probably are!**\n",
    "\n",
    "It is important to test your results using a variety of cases, and to use assertions and tests where possible and relevant.  When you don't understand the workings of an algorithm, well-placed print statements can work wonders in visualizing its workings.  \n",
    "\n",
    "**What are some of the weaknesses of the model and and how can the model be improved with additional work?**\n",
    "\n",
    "_Improve accuracy_\n",
    "\n",
    "While our current system is providing reasonably accurate results, there are steps that we can take to perhaps increase the accuracy even further.  Firstly, we could consider incorporating content-based features into the recommendation engine, making it more of a hybrid model rather than its current purely collaborative model.  As we have tag info, we could do a clustering analysis to determine similarities, and ideally determine something along the lines of genres within the dataset.  We could then use this grouping information to incorporate recommendations based on genre similarity in addition to the collaborative distance metric we are using.\n",
    "\n",
    "_Optimize compute time_\n",
    "\n",
    "We are calculating the cosine distance of the dataset at each query.  For a larger dataset, it may optimize runtime by pre-computing the similarity matrix.  While usage patterns will change over time, they generally will remain relatively static so the underlying matrix could be refreshed periodically to stay current. In addition, we could consider implementing our recommendation engine on a distributed computing platform such as Apache Spark. While this would not necessarily speed up the queries in our current small dataset, if we were to increase the size of our dataset and recommendation engine then using a distributed computing platform can be an optimized approach.  \n",
    "\n",
    "_Add more artists_\n",
    "\n",
    "Due to our popularity threshold (to reduce noise), we are only including the top 5% most played artist in the dataset.  While this is still 943 artists (~5% of 17,632 in dataset), it may be useful to add more artists to the mix while maintaining our current accuracy.  Our best option for doing so would be to use a larger dataset where we could get reasonable usage patterns from more obscure artists.  \n",
    "\n",
    "Next steps to perform in this analysis include:\n",
    "- Perform unsupervised clustering analysis of tags in the dataset\n",
    "- Incorporate content-based distance metric into our recommender"
   ]
  },
  {
   "cell_type": "markdown",
   "metadata": {
    "collapsed": true
   },
   "source": [
    "### Resources\n",
    "[Last.FM dataset: 92,800 artist listening records from 1892 users](https://grouplens.org/datasets/hetrec-2011/). \"2nd International Workshop on Information Heterogeneity and Fusion in Recommender Systems (HetRec) 2011\". grouplens.\n",
    "\n",
    "Becker, Nick. \"[Music Recommendations with Collaborative Filtering and Cosine Distance](https://beckernick.github.io/music_recommender/).\" August 31, 2016.  \n",
    "\n",
    "\"[How can I measure the accuracy of a recommender system?](https://www.quora.com/How-can-I-measure-the-accuracy-of-a-recommender-system)\" Quora. August 28, 2017.\n",
    "\n",
    "Mean Average Precision. \"[Evaluation measures (information retrieval)](https://en.wikipedia.org/wiki/Evaluation_measures_%28information_retrieval%29).\" Wikipedia.  \n",
    "\n",
    "Pierson, Lillian. \"[Building a Recommendation System with Python Machine Learning & AI](https://www.linkedin.com/learning/building-a-recommendation-system-with-python-machine-learning-ai).\" LinkedIn Learning. July 14,2017.  \n",
    "\n"
   ]
  },
  {
   "cell_type": "code",
   "execution_count": null,
   "metadata": {
    "collapsed": true
   },
   "outputs": [],
   "source": []
  }
 ],
 "metadata": {
  "kernelspec": {
   "display_name": "Python 3",
   "language": "python",
   "name": "python3"
  },
  "language_info": {
   "codemirror_mode": {
    "name": "ipython",
    "version": 3
   },
   "file_extension": ".py",
   "mimetype": "text/x-python",
   "name": "python",
   "nbconvert_exporter": "python",
   "pygments_lexer": "ipython3",
   "version": "3.6.6"
  }
 },
 "nbformat": 4,
 "nbformat_minor": 2
}
